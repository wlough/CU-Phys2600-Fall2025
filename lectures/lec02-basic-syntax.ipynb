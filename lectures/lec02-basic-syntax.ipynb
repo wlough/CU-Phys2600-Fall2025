{
 "cells": [
  {
   "cell_type": "markdown",
   "id": "6efa775f-2e03-4016-af7f-8b5bdd4afc6f",
   "metadata": {
    "editable": true,
    "slideshow": {
     "slide_type": "slide"
    },
    "tags": []
   },
   "source": [
    "# Talking to the computer \n",
    "\n",
    "<!-- <img src=\"img/python-programming.jpg\" width=\"500px\" align=\"right\"/> -->\n",
    "<img src=\"https://raw.githubusercontent.com/wlough/CU-Phys2600-Fall2025/main/lectures/img/python-programming.jpg\" width=500px align=\"right\"/>\n",
    "\n",
    "## PHYS 2600: Scientific Computing\n",
    "\n",
    "## Lecture 2, 8/26/25\n",
    "\n"
   ]
  },
  {
   "cell_type": "markdown",
   "id": "49229afe-fb57-49dd-bb14-93a50f9e4d3b",
   "metadata": {
    "editable": true,
    "slideshow": {
     "slide_type": "subslide"
    },
    "tags": []
   },
   "source": [
    "## Announcements\n",
    "\n",
    "- Google Colab for homework/tutorial Jupyter notebooks\n",
    "- Tutorials \\#1 and \\#2 due **Wednesday 8/27 at 12pm**\n",
    "- Homework \\#1 due **Friday 8/29 at 12pm**"
   ]
  },
  {
   "cell_type": "markdown",
   "id": "231685e8-5479-42eb-9f36-f7f1c72d70c0",
   "metadata": {
    "editable": true,
    "slideshow": {
     "slide_type": "slide"
    },
    "tags": []
   },
   "source": [
    "## A simple physics example\n",
    "\n",
    "Today, we're going to learn the basics of using the Python language.  But instead of just throwing a bunch of rules at you, I'm going to start by showing you a simple example.\n",
    "\n",
    "<!-- <img src=\"img/lec2-block-flat.png\" width=600px /> -->\n",
    "<img src=\"https://raw.githubusercontent.com/wlough/CU-Phys2600-Fall2025/main/lectures/img/lec2-block-flat.png\" width=600px />\n",
    "\n",
    "A mass of 2 kg is being pulled on a frictionless surface by a string with a constant tension of $T = 10$ N.  Starting from rest, how far does it travel in 0.5 seconds?\n",
    "\n"
   ]
  },
  {
   "cell_type": "markdown",
   "id": "e46dc41d-a9cc-4ece-a5a4-2151a303a6f4",
   "metadata": {
    "editable": true,
    "slideshow": {
     "slide_type": "fragment"
    },
    "tags": []
   },
   "source": [
    "What strategies could we use to solve this?"
   ]
  },
  {
   "cell_type": "markdown",
   "id": "8b141172-1a6c-4016-979f-ea472942188e",
   "metadata": {
    "editable": true,
    "slideshow": {
     "slide_type": "subslide"
    },
    "tags": []
   },
   "source": [
    "We can solve this by hand: the acceleration is\n",
    "\n"
   ]
  },
  {
   "cell_type": "markdown",
   "id": "6d2b4acb-85cf-4c8b-893e-7b650e8a584a",
   "metadata": {
    "editable": true,
    "slideshow": {
     "slide_type": ""
    },
    "tags": []
   },
   "source": [
    "$$\n",
    "a = \\frac{T}{m} = 5\\ {\\rm m}/{\\rm s}^2\n",
    "$$"
   ]
  },
  {
   "cell_type": "markdown",
   "id": "22185b05-a7fc-42d7-985c-148f1cae60ac",
   "metadata": {
    "editable": true,
    "slideshow": {
     "slide_type": ""
    },
    "tags": []
   },
   "source": [
    "from which we can immediately find the position as\n",
    "\n"
   ]
  },
  {
   "cell_type": "markdown",
   "id": "26a1083d-8683-4c33-865c-19bf714294d9",
   "metadata": {
    "editable": true,
    "slideshow": {
     "slide_type": ""
    },
    "tags": []
   },
   "source": [
    "$$\n",
    "x(t) = \\frac{1}{2} a t^2.\n",
    "$$"
   ]
  },
  {
   "cell_type": "markdown",
   "id": "3ccd6ae7-bdcf-48c7-8608-61855a08c213",
   "metadata": {
    "editable": true,
    "slideshow": {
     "slide_type": "fragment"
    },
    "tags": []
   },
   "source": [
    "Now we just plug this formula into Python:"
   ]
  },
  {
   "cell_type": "code",
   "execution_count": null,
   "id": "eb4f680d-af4f-4646-a50f-26c099ec1a83",
   "metadata": {
    "editable": true,
    "slideshow": {
     "slide_type": ""
    },
    "tags": []
   },
   "outputs": [],
   "source": [
    "1/2 * 5 * 0.5**2"
   ]
  },
  {
   "cell_type": "markdown",
   "id": "5fec04fd-d4d8-437a-b303-e0d5a3cefe46",
   "metadata": {
    "editable": true,
    "slideshow": {
     "slide_type": "subslide"
    },
    "tags": []
   },
   "source": [
    "How about something a little bit more structured, where it's easier to see what we're doing, and easier to change?"
   ]
  },
  {
   "cell_type": "code",
   "execution_count": null,
   "id": "77fc2ee0-edef-49ff-b0f8-24510cd234b2",
   "metadata": {
    "editable": true,
    "slideshow": {
     "slide_type": ""
    },
    "tags": []
   },
   "outputs": [],
   "source": [
    "T = 10\n",
    "m = 2\n",
    "a = T/m\n",
    "t = 0.5\n",
    "\n",
    "x = 1/2 * a * t**2\n",
    "print(x)"
   ]
  },
  {
   "cell_type": "markdown",
   "id": "819bbd7e-be33-4e50-8738-044cbc74ccc2",
   "metadata": {
    "editable": true,
    "slideshow": {
     "slide_type": ""
    },
    "tags": []
   },
   "source": [
    "Each line of Python above is a __statement__ - a program consists of one or more statements.  Each statement tells the computer to do something: `T = 10` saves the value 10 to variable `T`, or `print(x)` tells it to print the value in `x` out to the screen.\n",
    "\n",
    "Let's learn the rules for how statements are put together."
   ]
  },
  {
   "cell_type": "markdown",
   "id": "ad6dcd90-015c-40bb-9844-c8555e309fe0",
   "metadata": {
    "editable": true,
    "slideshow": {
     "slide_type": "slide"
    },
    "tags": []
   },
   "source": [
    "## Syntax and Semantics\n",
    "\n",
    "Programming languages translate to machine code, which means they must have a rigorous set of rules for structure.  There are many similarities with human language:\n",
    "\n",
    "- __Symbols__: the pieces from which a language is formed\n",
    "- __Syntax__: the rules for how symbols can be put together\n",
    "- __Semantics__: how meaning is assigned to a collection of symbols\n",
    "\n",
    "<!-- <a href=\"https://www.thoughtco.com/ambiguity-language-1692388\" target=\"_blank\"><img src=\"img/call_cab.jpg\" width=400px style=\"float:right;\" /></a> -->\n",
    "<a href=\"https://www.thoughtco.com/ambiguity-language-1692388\" target=\"_blank\"><img src=\"https://raw.githubusercontent.com/wlough/CU-Phys2600-Fall2025/main/lectures/img/call_cab.jpg\" width=400px style=\"float:right;\" /></a>\n",
    "\n",
    "Since \"meaning\" for Python is machine\\-code instructions, _ambiguity is forbidden_ \\(unlike English!\\)\n"
   ]
  },
  {
   "cell_type": "markdown",
   "id": "e6f45eb2-556a-4646-a07c-ad5324c5c7ac",
   "metadata": {
    "editable": true,
    "slideshow": {
     "slide_type": "subslide"
    },
    "tags": []
   },
   "source": [
    "The Python interpreter reads your code and will tell you if you attempt to use bad syntax.\n"
   ]
  },
  {
   "cell_type": "code",
   "execution_count": null,
   "id": "ad0640f9-b180-48e7-ad65-3a2d243f0b9d",
   "metadata": {
    "editable": true,
    "slideshow": {
     "slide_type": ""
    },
    "tags": []
   },
   "outputs": [],
   "source": [
    "Hello, computer!\n",
    "\n",
    "x = 5\n",
    "print(x)"
   ]
  },
  {
   "cell_type": "markdown",
   "id": "89d03cca-7613-4527-8ac1-6f3bed583b60",
   "metadata": {
    "editable": true,
    "slideshow": {
     "slide_type": "fragment"
    },
    "tags": []
   },
   "source": [
    "This is an example of an __error__, which halts the execution of the program and displays a message.  Here, the symbols we entered don't match Python syntax, so we get a `SyntaxError`.  \n",
    "\n",
    "There are many other kinds of errors that the interpreter can detect and flag for us automatically."
   ]
  },
  {
   "cell_type": "markdown",
   "id": "9bc6ad57-dd48-47ed-9230-9e43507f7c52",
   "metadata": {
    "editable": true,
    "slideshow": {
     "slide_type": "subslide"
    },
    "tags": []
   },
   "source": [
    "On the other hand, __semantic errors__ won't be automatically detected for you, because the computer has no way of knowing the intended meaning of the code you enter!  \n",
    "\n",
    "Suppose we want to calculate the acceleration due to gravity on Earth, $g = \\frac{GM_E}{R_E^2}$"
   ]
  },
  {
   "cell_type": "code",
   "execution_count": null,
   "id": "d61e20d0-6227-4604-9565-025432dfe976",
   "metadata": {
    "editable": true,
    "slideshow": {
     "slide_type": ""
    },
    "tags": []
   },
   "outputs": [
    {
     "name": "stdout",
     "output_type": "stream",
     "text": [
      "9797.989541699324\n"
     ]
    }
   ],
   "source": [
    "G = 6.674 * 10**(-11)\n",
    "M_E = 5.972 * 10**(27)\n",
    "R_E = 6378000\n",
    "\n",
    "g = (G * M_E) / (R_E**2)\n",
    "print(g)"
   ]
  },
  {
   "cell_type": "markdown",
   "id": "653f6231-9df6-4242-b4b7-879efdaa441d",
   "metadata": {
    "editable": true,
    "slideshow": {
     "slide_type": "fragment"
    },
    "tags": []
   },
   "source": [
    "We should have gotten 9.8 $m/s^2$, but the program answered ~9800!  Why?  "
   ]
  },
  {
   "cell_type": "markdown",
   "id": "d22a6e0f-46e9-4cd5-aa8d-3a3598b09780",
   "metadata": {
    "editable": true,
    "slideshow": {
     "slide_type": "fragment"
    },
    "tags": []
   },
   "source": [
    "I made a _semantic error_ in the code above; `M_E` is actually the mass of the Earth in _grams_, not kilograms (it should be $5.972 \\times 10^{24}$ kg.)  The interpreter has no context to warn us about this mistake!"
   ]
  },
  {
   "cell_type": "markdown",
   "id": "0ff228a2-30eb-4604-ac99-b20bf8988a31",
   "metadata": {
    "editable": true,
    "slideshow": {
     "slide_type": "slide"
    },
    "tags": []
   },
   "source": [
    "## Basics of Python syntax\n",
    "\n",
    "Python contains two types of symbols: __objects__ (data) and __functions__ (instructions).  The basic rules are simple:\n",
    "\n",
    "- An object is a valid statement.\n",
    "- Functions act on some number of objects, and output an object.\n",
    "\n",
    "We can make complicated statements by chaining together multiple functions and objects.\n",
    "\n",
    "(There are some variations on the above, e.g. \"keywords\" that aren't really functions but define special kinds of statement.)"
   ]
  },
  {
   "cell_type": "markdown",
   "id": "9125fcd0-5403-42e2-aeb9-e7a3f528f197",
   "metadata": {
    "editable": true,
    "slideshow": {
     "slide_type": "subslide"
    },
    "tags": []
   },
   "source": [
    "Python comes with some built-in kinds of objects, which are known as __literals__.  There are two common kinds of literals in Python: __numbers__ and __strings__.  A string is a combination of letters, numbers, and symbols, denoted by quotes `''` or `\"\"`."
   ]
  },
  {
   "cell_type": "code",
   "execution_count": null,
   "id": "ab848cde-94da-4be7-a21a-bbf1043d7cc7",
   "metadata": {
    "editable": true,
    "slideshow": {
     "slide_type": ""
    },
    "tags": []
   },
   "outputs": [],
   "source": [
    "42\n",
    "3.1415"
   ]
  },
  {
   "cell_type": "code",
   "execution_count": null,
   "id": "631c874a-948c-40bc-928c-bd588c8089e9",
   "metadata": {
    "editable": true,
    "slideshow": {
     "slide_type": ""
    },
    "tags": []
   },
   "outputs": [],
   "source": [
    "print('Hello, computer!')\n",
    "'How are you?'"
   ]
  },
  {
   "cell_type": "markdown",
   "id": "cb487f09-ca4c-439f-8029-3928ee20e9c1",
   "metadata": {
    "editable": true,
    "slideshow": {
     "slide_type": "fragment"
    },
    "tags": []
   },
   "source": [
    "Note that Jupyter will automatically `print` the __last__ statement in a given input box - this is often convienient when we're calculating something."
   ]
  },
  {
   "cell_type": "code",
   "execution_count": null,
   "id": "7cca73ed-8714-4f1b-b828-31cabfa507f5",
   "metadata": {
    "editable": true,
    "slideshow": {
     "slide_type": ""
    },
    "tags": []
   },
   "outputs": [],
   "source": [
    "'Hello, computer!'\n",
    "'How are you?'"
   ]
  },
  {
   "cell_type": "markdown",
   "id": "dd1ddf71-9353-4c97-94bc-3db2447a99f1",
   "metadata": {
    "editable": true,
    "slideshow": {
     "slide_type": "slide"
    },
    "tags": []
   },
   "source": [
    "## Comments\n",
    "\n",
    "A `#` denotes a __comment__ in Python.  Comments (anything after `#` on the current line) are ignored completely by the interpreter."
   ]
  },
  {
   "cell_type": "code",
   "execution_count": null,
   "id": "96ad3438-97ca-44f9-ac80-7e37fcde4c68",
   "metadata": {
    "editable": true,
    "slideshow": {
     "slide_type": ""
    },
    "tags": []
   },
   "outputs": [],
   "source": [
    "# Calculating x(t) for the block-and-string example\n",
    "1/2 * 5 * 0.5**2 # x(t) = 1/2 * a * t**2"
   ]
  },
  {
   "cell_type": "markdown",
   "id": "14c4b098-4074-42ac-8e36-a1e1ce908390",
   "metadata": {
    "editable": true,
    "slideshow": {
     "slide_type": "fragment"
    },
    "tags": []
   },
   "source": [
    "Comments exist in almost every programming language.  They're a very useful tool for adding human-readable annotations to our program.\n",
    "\n",
    "Just remember that the comments don't do anything themselves, so **they can lie to you** \\(like in the semantic error example above!\\)\n"
   ]
  },
  {
   "cell_type": "markdown",
   "id": "00c91905-b378-4551-a997-237c576a5c68",
   "metadata": {
    "editable": true,
    "slideshow": {
     "slide_type": "slide"
    },
    "tags": []
   },
   "source": [
    "## Whitespace\n",
    "\n",
    "Empty space (from either the 'space' or 'tab' keys), also known as __whitespace__, has no significance in English, except for separating words.  In Python, whitespace serves the same purpose, but any amount is equivalent - and in many places, it does nothing:\n",
    "\n"
   ]
  },
  {
   "cell_type": "code",
   "execution_count": null,
   "id": "3fb1f431-d4c1-434a-88b9-6c4cd9ab009d",
   "metadata": {
    "editable": true,
    "slideshow": {
     "slide_type": ""
    },
    "tags": []
   },
   "outputs": [],
   "source": [
    "print(3+7)\n",
    "print   ( 3 +     7)"
   ]
  },
  {
   "cell_type": "markdown",
   "id": "7838fc79-08d8-4a73-a3e3-76446f70c18f",
   "metadata": {
    "editable": true,
    "slideshow": {
     "slide_type": "fragment"
    },
    "tags": []
   },
   "source": [
    "Of course, whitespace still means something if we try to put it in the _middle_ of some literal or operator (just like in English!)  `3 7` is not a valid way to write `37`, for example, and we also can't just drop extra space in the middle of `print`:"
   ]
  },
  {
   "cell_type": "code",
   "execution_count": null,
   "id": "7a565320-f4f1-4f3c-b3db-95178b399a45",
   "metadata": {
    "editable": true,
    "slideshow": {
     "slide_type": ""
    },
    "tags": []
   },
   "outputs": [],
   "source": [
    "pri nt(3)"
   ]
  },
  {
   "cell_type": "markdown",
   "id": "47de1e4a-351d-447f-a0a4-33e5ba5237ac",
   "metadata": {
    "editable": true,
    "slideshow": {
     "slide_type": "fragment"
    },
    "tags": []
   },
   "source": [
    "Whitespace __at the beginning of a line__ _does_ carry semantic importance in Python.  The meaning is related to flow control, which we'll see later."
   ]
  },
  {
   "cell_type": "code",
   "execution_count": null,
   "id": "6994e648-297f-42c5-946d-6b20b0d29ee2",
   "metadata": {
    "editable": true,
    "slideshow": {
     "slide_type": ""
    },
    "tags": []
   },
   "outputs": [],
   "source": [
    "print(3+3)\n",
    "    print(4+4)"
   ]
  },
  {
   "cell_type": "markdown",
   "id": "a7d0309b-7639-4a6b-b394-a1ebe8793caf",
   "metadata": {
    "editable": true,
    "slideshow": {
     "slide_type": ""
    },
    "tags": []
   },
   "source": [
    "For now, just remember not to include any leading whitespace.  Whitespace to make your code more readable is a good habit!"
   ]
  },
  {
   "cell_type": "markdown",
   "id": "faf68e26-e8eb-4b76-990f-2f608f3efa69",
   "metadata": {
    "editable": true,
    "slideshow": {
     "slide_type": "slide"
    },
    "tags": []
   },
   "source": [
    "## Mathematical notation in Python\n",
    "\n",
    "Just like certain common objects are built in to Python as _literals_, some functions are so commonly used that they are built in as __operators__, which are special reserved symbols that carry out certain functions.  Here is a list of all the common math operators in Python:\n",
    "\n",
    "* `+`: addition\n",
    "* `-`: subtraction\n",
    "* `*`: multiplication\n",
    "* `/`: division\n",
    "* `**`: exponentiation\n",
    "* `%`: modulo\n",
    "* `//`: integer or \"floor\" division"
   ]
  },
  {
   "cell_type": "markdown",
   "id": "c1f3f1c1-7901-4ad4-a09d-8b197eba767b",
   "metadata": {
    "editable": true,
    "slideshow": {
     "slide_type": ""
    },
    "tags": []
   },
   "source": [
    "\\(If you're not familiar with the last two operators, they are covered briefly in chapter 2 of Guttag and in my lecture notes.\\)"
   ]
  },
  {
   "cell_type": "markdown",
   "id": "4d6768b3-4baf-410b-94b1-8d46557596a6",
   "metadata": {
    "editable": true,
    "slideshow": {
     "slide_type": "subslide"
    },
    "tags": []
   },
   "source": [
    "In some computer languages, `^` denotes \"to the power of\"; in Python `**` is exponentiation, and `^` means something else entirely (bitwise XOR, symmetric set difference, and a few other things).  If you get them confused, bad things will happen!  (We'll come back to what `^` means later.)\n",
    "\n"
   ]
  },
  {
   "cell_type": "code",
   "execution_count": null,
   "id": "d659729b-e881-4f3c-9412-661a5e9bc5f5",
   "metadata": {
    "editable": true,
    "slideshow": {
     "slide_type": ""
    },
    "tags": []
   },
   "outputs": [],
   "source": [
    "print(2**4)\n",
    "print(2^4)"
   ]
  },
  {
   "cell_type": "markdown",
   "id": "149d15dd-b154-47db-839f-bae755bec06e",
   "metadata": {
    "editable": true,
    "slideshow": {
     "slide_type": "fragment"
    },
    "tags": []
   },
   "source": [
    "The last important symbols we need for math are the humble __parentheses__, `(` and `)`.  These work as normal in math, by overriding the [default order of operations](https://en.wikibooks.org/wiki/Python_Programming/Basic_Math#Order_of_Operations):"
   ]
  },
  {
   "cell_type": "code",
   "execution_count": null,
   "id": "b692c08a-81bb-4fa1-aab6-511279a69aa0",
   "metadata": {
    "editable": true,
    "slideshow": {
     "slide_type": ""
    },
    "tags": []
   },
   "outputs": [],
   "source": [
    "print(3 * 3 * 3 + 3)\n",
    "print(3 * 3 * (3+3))"
   ]
  },
  {
   "cell_type": "markdown",
   "id": "9b228bce-0ca1-4e34-a2a8-e09dc99b8360",
   "metadata": {
    "editable": true,
    "slideshow": {
     "slide_type": ""
    },
    "tags": []
   },
   "source": [
    "When in doubt, don't trust in the order of operations - just use parentheses to make what you're trying to do as explicit as possible.  Remember, carrying out operations in the wrong order is a _semantic_ mistake, which the Python interpreter can't warn you about!"
   ]
  },
  {
   "cell_type": "markdown",
   "id": "07787c90-7776-4fe4-8cc3-516b8ff5fd81",
   "metadata": {
    "editable": true,
    "slideshow": {
     "slide_type": "slide"
    },
    "tags": []
   },
   "source": [
    "## Variables\n",
    "\n",
    "As opposed to a literal, a __variable__ is a symbol that we choose which _represents_ some object.  (`x` can be lots of things, but the literal `3` can only be the number three.)\n",
    "\n",
    "Variables are like using an _acronym_ in an English document: useful, but make sure you define it before you use it!"
   ]
  },
  {
   "cell_type": "code",
   "execution_count": null,
   "id": "2bb954c7-0b19-4d02-a9c9-d82a8f7fab13",
   "metadata": {
    "editable": true,
    "slideshow": {
     "slide_type": ""
    },
    "tags": []
   },
   "outputs": [],
   "source": [
    "x = 4**2+1\n",
    "print(x)"
   ]
  },
  {
   "cell_type": "markdown",
   "id": "3bbda7c9-08a5-4924-b34e-fc01b5f1b442",
   "metadata": {
    "editable": true,
    "slideshow": {
     "slide_type": ""
    },
    "tags": []
   },
   "source": [
    "`=` is the __assignment operator__; the variable on the _left_ is set equal to whatever object is on the _right_.\n",
    "\n",
    "We'll go into more detail on variables and assignment next time, but the basic idea is enough to use variables as simple placeholders, like we did above."
   ]
  },
  {
   "cell_type": "markdown",
   "id": "b8aebee6-b82e-4c4f-a602-3f66802a57e1",
   "metadata": {
    "editable": true,
    "slideshow": {
     "slide_type": "slide"
    },
    "tags": []
   },
   "source": [
    "## Tutorials and homework\n",
    "\n",
    "Tutorials and homework will be in the form of Jupyter notebooks which we will run using Google Colab. When you finish an assignment, you should download a copy of the notebook (`.ipynb` file) and submit it through Canvas.\n",
    "\n",
    "If you are familiar with Jupyter, downloading the notebooks and running locally in JupyterLab is fine too.\n",
    "\n",
    "Let's start the first tutorial!\n",
    "\n",
    "1. Log in to Canvas and find Tutorial 1 in Assignments.\n",
    "2. Click the [![Open In Colab](https://colab.research.google.com/assets/colab-badge.svg)](https://colab.research.google.com/github/wlough/CU-Phys2600-Fall2025/blob/main/tutorials/tut01/tut01.ipynb) button to open the tutorial in Google Colab."
   ]
  }
 ],
 "metadata": {
  "kernelspec": {
   "display_name": "Python 3 (ipykernel)",
   "language": "python",
   "name": "python3"
  },
  "language_info": {
   "codemirror_mode": {
    "name": "ipython",
    "version": 3
   },
   "file_extension": ".py",
   "mimetype": "text/x-python",
   "name": "python",
   "nbconvert_exporter": "python",
   "pygments_lexer": "ipython3",
   "version": "3.13.7"
  }
 },
 "nbformat": 4,
 "nbformat_minor": 5
}
