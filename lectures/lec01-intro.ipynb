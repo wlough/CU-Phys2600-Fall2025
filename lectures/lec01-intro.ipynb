{
 "cells": [
  {
   "cell_type": "markdown",
   "metadata": {
    "editable": true,
    "slideshow": {
     "slide_type": "slide"
    },
    "tags": []
   },
   "source": [
    "# Welcome to __PHYS 2600__!\n",
    "\n",
    "<!-- <a href=\"https://www.nas.nasa.gov/SC14/demos/demo35.html#prettyPhoto\" target=\"_blank\"><img src=\"img/nasa_geos5.jpg\" width=600px /></a> -->\n",
    "<a href=\"https://www.nas.nasa.gov/SC14/demos/demo35.html#prettyPhoto\" target=\"_blank\"><img src=\"https://raw.githubusercontent.com/wlough/CU-Phys2600-Fall2025/main/lectures/img/nasa_geos5.jpg\" width=600px /></a>\n",
    "\n",
    "\n",
    "## PHYS 2600: Scientific Computing\n",
    "\n",
    "## Lecture 1, 08/21/23\n",
    "<!-- https://raw.githubusercontent.com/wlough/CU-Phys2600-Fall2025/main/lectures/img/ -->\n"
   ]
  },
  {
   "cell_type": "markdown",
   "metadata": {
    "editable": true,
    "slideshow": {
     "slide_type": "slide"
    },
    "tags": []
   },
   "source": [
    "Motivation: computing and physics\n",
    "\n",
    "Computers are essential in modern science!  Uses include:\n",
    "\n",
    "- **Numerical solution** \n",
    "- **Monte Carlo simulation** \n",
    "- **Data analysis** \\(esp. big data\\)\n",
    "\n",
    "Any one could be a full semester!  We'll touch on all of them.  All of them are useful _outside_ physics as well - the last is especially hot now.\n",
    "\n"
   ]
  },
  {
   "cell_type": "markdown",
   "metadata": {
    "editable": true,
    "slideshow": {
     "slide_type": "slide"
    },
    "tags": []
   },
   "source": [
    "All of the above were used at once in the discovery of the Higgs boson at the Large Hadron Collider!\n",
    "\n",
    "- **Numerical solution** of laws of physics to predict how often non\\-Higgs stuff is made;\n",
    "- **Monte Carlo** to predict how those fundamental particles show up in the actual detector read\\-out;\n",
    "- **Big data** to actually convert a billion collisions per second into a final set of events and a measurement.\n",
    "\n",
    "<!-- https://www.lhc-closer.es/taking_a_closer_look_at_lhc/0.lhc_data_analysis -->\n",
    "\n",
    "<!-- <a href=\"http://cms.web.cern.ch/news/cms-search-standard-model-higgs-boson-lhc-data-2010-and-2011\" target=\"_blank\"><img src=\"img/higgs-event-cms.jpg\" width=500px /></a> -->\n",
    "<a href=\"http://cms.web.cern.ch/news/cms-search-standard-model-higgs-boson-lhc-data-2010-and-2011\" target=\"_blank\"><img src=\"https://raw.githubusercontent.com/wlough/CU-Phys2600-Fall2025/main/lectures/img/higgs-event-cms.jpg\" width=500px /></a>\n",
    "\n",
    "The LHC experiments would not be feasible without a lot of computing support! \n",
    "\n",
    "\n"
   ]
  },
  {
   "cell_type": "markdown",
   "metadata": {
    "editable": true,
    "slideshow": {
     "slide_type": "slide"
    },
    "tags": []
   },
   "source": [
    "An example from my research:\n",
    "\n",
    "- Simulation includes both numerical solution of Newton's laws and Monte Carlo methods\n",
    "- We are simulating the machinery of cell division\n",
    "- The simulation snapshots show how the nucleus deforms when cells divide\n",
    "\n",
    "<!-- <img src=\"img/mitosis_sim_timelapse.png\" width=600px /> -->\n",
    "<img src=\"https://raw.githubusercontent.com/wlough/CU-Phys2600-Fall2025/main/lectures/img/mitosis_sim_timelapse.png\" width=600px />\n"
   ]
  },
  {
   "cell_type": "markdown",
   "metadata": {
    "editable": true,
    "slideshow": {
     "slide_type": "slide"
    },
    "tags": []
   },
   "source": [
    "# Course plan for PHYS 2600\n",
    "\n",
    "Scientific computing is a deep subject!  Two main goals for this semester:\n",
    "\n",
    "1. Learn the __fundamentals of programming__ (with Python);\n",
    "2. Understand __how computation is used to solve__ (physics) __problems__.\n",
    "\n",
    "You should leave this class knowing _how to learn_ to tackle a specific computing problem in your research/job.\n",
    "\n",
    "(Particularly for your job!  Physics students end up as professional problem solvers in many areas.)\n",
    "\n"
   ]
  },
  {
   "cell_type": "markdown",
   "metadata": {
    "editable": true,
    "slideshow": {
     "slide_type": "slide"
    },
    "tags": []
   },
   "source": [
    "## Detailed course outline\n",
    "\n",
    "1. Intro and overview\n",
    "2. Basic Python programming \n",
    "3. Numbers and plotting\n",
    "4. Numerical integration\n",
    "5. Program logic and flow control\n",
    "6. Discrete math, solving ODEs\n",
    "7. Random numbers and Monte Carlo methods\n",
    "8. Basics of data analysis\n",
    "\n",
    "We'll see physics examples as we go through all of the above.\n",
    "\n",
    "Again, you will hopefully learn just enough to know how to learn new things on your own.  \\(A lot of my coding time is spent in trial and error, and on searching for how to do very specific things!\\)\n"
   ]
  },
  {
   "cell_type": "markdown",
   "metadata": {
    "editable": true,
    "slideshow": {
     "slide_type": "slide"
    },
    "tags": []
   },
   "source": [
    "## Syllabus highlights\n",
    "\n",
    "We'll now go over a few important things from the syllabus.\n",
    "\n",
    "The whole syllabus is on Canvas.  __You are responsible for knowing what it says!__\n",
    "\n"
   ]
  },
  {
   "cell_type": "markdown",
   "metadata": {
    "editable": true,
    "slideshow": {
     "slide_type": "slide"
    },
    "tags": []
   },
   "source": [
    "**Instructor:** Dr. Wilson Lough\n",
    "\n",
    "_E\\-mail:_ wilson.lough@CU\n",
    "\n",
    "_Office:_ Duane F529\n",
    "\n",
    "<!-- _OH:_ Mon 2:30\\-3:30 pm \\(Duane G1B31\\), Thu 2:30\\-3:30 pm \\(Duane F527\\), or by appointment -->\n",
    "_OH:_ Tue/Wed 2:30\\-3:30 pm or by appointment\n",
    "\n",
    "--\n",
    "\n",
    "**TA:** Jacob Sitison\n",
    "\n",
    "_E\\-mail:_ jasi7117@CU\n",
    "\n",
    "--\n",
    "\n",
    "**LA:**  Aaron Price\n",
    "\n",
    "E\\-mail: aaron.price@CU\n",
    "\n"
   ]
  },
  {
   "cell_type": "markdown",
   "metadata": {
    "editable": true,
    "slideshow": {
     "slide_type": "slide"
    },
    "tags": []
   },
   "source": [
    "### What you should know (pre-reqs)\n",
    "\n",
    "- You should _have taken_ __PHYS 1120__ or __PHYS 1125__ (physics 2.)\n",
    "- You should _have taken_ or _be enrolled in_ __PHYS 2130__ or __PHYS 2170__ (modern physics.)\n",
    "- __No math pre-reqs__ - we'll use some basics from algebra, geometry, calculus, and statistics.\n",
    "- __No programming experience required!__\n",
    "\n"
   ]
  },
  {
   "cell_type": "markdown",
   "metadata": {
    "editable": true,
    "slideshow": {
     "slide_type": "slide"
    },
    "tags": []
   },
   "source": [
    "### Required Class Materials\n",
    "\n",
    "1. _Introduction to Computation and Programming Using Python_ (__3rd edition__) by John V. Guttag - main textbook\n",
    "2. ~~A [CoCalc](https://cocalc.com) account (you should have received an invitation at your CU e-mail.)~~ __We will no longer be using CoCalc in this course, please ignore the CoCalc invitation. DO NOT PAY FOR A COCALC LICENSE!!__."
   ]
  },
  {
   "cell_type": "markdown",
   "metadata": {
    "slideshow": {
     "slide_type": "slide"
    }
   },
   "source": [
    "### Grading\n",
    "\n",
    "- Homework: 50%\n",
    "- Tutorials: 30%\n",
    "- Final project: 20%\n",
    "\n",
    "Every lecture will be _split_ - start with regular lecture, then move on to in-class tutorial exercises.\n",
    "\n",
    "Your lowest _three_ homework and _three_ tutorial grades will be dropped, to cover minor illness/technical problems/etc.  \n",
    "\n"
   ]
  },
  {
   "cell_type": "markdown",
   "metadata": {
    "slideshow": {
     "slide_type": "slide"
    }
   },
   "source": [
    "Tutorials are typically due **the day after lecture** at **noon**.  They are graded **for effort** on a 0\\-1\\-2 scale.\n",
    "\n",
    "Exceptions: tutorial 1 won't be due until after we have settled on a CoCalc alternative \\(due date will be Wednesday or later.\\)\n",
    "\n",
    "Homeworks are due on __Thursdays at noon__.  No late assignments (if something goes wrong, use a drop!)\n",
    "\n",
    "\n"
   ]
  },
  {
   "cell_type": "markdown",
   "metadata": {
    "slideshow": {
     "slide_type": "slide"
    }
   },
   "source": [
    "### Collaboration\n",
    "\n",
    "__Collaboration is encouraged__ on all assignments, but you must turn in _your own write-up_ for homework - no copy-pasting!  Leave a comment to indicate\n",
    "who your collaborators were.\n",
    "\n",
    "In computing, copying is sometimes encouraged too - using a code snippet you find in a reference/on the internet can be better than reinventing the wheel.\n",
    "\n",
    "If you do this, you must __give attribution__ - leave a comment saying where it came from (and mark where it begins/ends.)\n",
    "\n"
   ]
  },
  {
   "cell_type": "markdown",
   "metadata": {
    "slideshow": {
     "slide_type": "slide"
    }
   },
   "source": [
    "### Final Project\n",
    "\n",
    "Instead of a final exam, you'll work on a detailed simulation project for a physics system (there will be a list for you to pick from.)\n",
    "\n",
    "The project will involve both writing Python code to carry out the simulation, as well as using the code to make a presentation that answers\n",
    "some physics questions.\n",
    "\n",
    "The projects will be due on **Thursday, 12/11 at 7:00 PM** \\(when our final exam period would have ended.\\)\n"
   ]
  },
  {
   "cell_type": "markdown",
   "metadata": {
    "slideshow": {
     "slide_type": "slide"
    }
   },
   "source": [
    "### AI tools\n",
    "\n",
    "You may use AI tools (e.g., ChatGPT/Copilot) __in moderation__ to help clarify concepts, brainstorm, or get debugging hints. __You must understand any code that you submit, and you should be prepared to explain or reproduce portions of your code if asked__. If you can’t reproduce your submission without the AI tool, or you can’t explain every line of your code, you’ve gone beyond “moderation.”\n"
   ]
  },
  {
   "cell_type": "markdown",
   "metadata": {
    "slideshow": {
     "slide_type": "slide"
    }
   },
   "source": [
    "### Disabilities\n",
    "\n",
    "If you require any accommodations due to a disability, I should get an e\\-mail. Come to office hours or contact me and we'll meet to discuss.  \\(If you only have exam accommodations, we don't have exams!\\)\n",
    "\n",
    "### Classroom behavior/honor code\n",
    "\n",
    "Treat your instructors and all your fellow students with respect; the classroom should be a positive environment for us all to learn in.  Bring any concerns to Dr. Lough or use the resources on the syllabus.\n",
    "\n"
   ]
  },
  {
   "cell_type": "markdown",
   "metadata": {
    "slideshow": {
     "slide_type": "slide"
    }
   },
   "source": [
    "# Any questions?"
   ]
  },
  {
   "cell_type": "markdown",
   "metadata": {
    "slideshow": {
     "slide_type": "slide"
    }
   },
   "source": [
    "## Time for a break!\n",
    "\n",
    "<!-- <img src=\"img/coffee.jpeg\" width=400px style=\"float:right;margin:10px;\" /> -->\n",
    "<img src=\"https://raw.githubusercontent.com/wlough/CU-Phys2600-Fall2025/main/lectures/img/coffee.jpeg\" width=400px style=\"float:right;margin:10px;\" />\n",
    "\n",
    "We'll continue the lecture with a big picture overview, but first, let's take a break \\- this is a good chance for you to meet your neighbors!\n",
    "\n",
    "(The best way to get un-stuck on programming problems is often to ask someone else to look...)\n",
    "\n",
    "Ice\\-breaker question:  _What's your favorite place to get food in Boulder?_\n"
   ]
  },
  {
   "cell_type": "markdown",
   "metadata": {
    "slideshow": {
     "slide_type": "slide"
    }
   },
   "source": [
    "# Computing overview\n",
    "\n",
    "__Computers__ are devices that exactly carry out a set of ordered instructions; such a set is called a __program__.  \n",
    "\n",
    "<!-- <img src=\"img/appleii.jpg\" width=280px style=\"float:left;margin:20px\" /> -->\n",
    "<img src=\"https://raw.githubusercontent.com/wlough/CU-Phys2600-Fall2025/main/lectures/img/appleii.jpg\" width=280px style=\"float:left;margin:20px\" />\n",
    "\n",
    "(Left: the Apple Macintosh personal computer, from 1984.  Computers have come a long way, but notice how many things are unchanged!)\n",
    "\n",
    "\n",
    "\n"
   ]
  },
  {
   "cell_type": "markdown",
   "metadata": {
    "slideshow": {
     "slide_type": "fragment"
    }
   },
   "source": [
    "Why are computers such useful devices?\n",
    "\n",
    "- __Reproducibility__ - identical inputs give identical outputs.\n",
    "- __Speed__ - computers are much faster than humans!\n",
    "- __Repetition__ - programs can be re-used.\n",
    "\n",
    "Repetition is different from reproducibility because of _abstraction_; it allows us to __separate procedure from data__."
   ]
  },
  {
   "cell_type": "markdown",
   "metadata": {
    "slideshow": {
     "slide_type": "slide"
    }
   },
   "source": [
    "This point can be explained in terms of two distinct categories of knowledge: __declarative__ versus __imperative__.\n",
    "\n",
    "Declarative knowledge is a statement of fact, something like \"27 + 38 = 65\" or \"the sky is blue\".\n",
    "\n",
    "Imperative knowledge is a statement of procedure, like instructions for how to add 2-digit numbers together (first the ones place, then the tens place, carry the 1.)"
   ]
  },
  {
   "cell_type": "markdown",
   "metadata": {
    "slideshow": {
     "slide_type": "fragment"
    }
   },
   "source": [
    "\n",
    "The imperative version of this statement is much more powerful, because we can change the inputs and add together _any_ two-digit numbers!\n",
    "\n",
    "A statement of imperative knowledge as a procedure, broken into simple steps, is called an __algorithm__."
   ]
  },
  {
   "cell_type": "markdown",
   "metadata": {
    "slideshow": {
     "slide_type": "slide"
    }
   },
   "source": [
    "Breaking a complicated process for doing something into a list of instructions should sound familiar..."
   ]
  },
  {
   "cell_type": "markdown",
   "metadata": {
    "slideshow": {
     "slide_type": "fragment"
    }
   },
   "source": [
    "<!-- <a href=\"https://happymoneysaver.com/vintage-buttermilk-biscuits-recipe/\" target=\"_blank\"><img src=\"img/buttermilk-biscuits-768x480.jpg\" width=\"400px\"/></a> -->\n",
    "<a href=\"https://happymoneysaver.com/vintage-buttermilk-biscuits-recipe/\" target=\"_blank\"><img src=\"https://raw.githubusercontent.com/wlough/CU-Phys2600-Fall2025/main/lectures/img/buttermilk-biscuits-768x480.jpg\" width=\"400px\"/></a>\n",
    "\n",
    "_Above:_ an algorithm for making some biscuits (also known as a \"recipe\".)"
   ]
  },
  {
   "cell_type": "markdown",
   "metadata": {
    "slideshow": {
     "slide_type": "fragment"
    }
   },
   "source": [
    "A human chef can _adapt_ and _improvise_, but a computer can't!  What are some ways this recipe could go wrong if we hand it to a 100% literal robot chef?"
   ]
  },
  {
   "cell_type": "markdown",
   "metadata": {
    "slideshow": {
     "slide_type": "slide"
    }
   },
   "source": [
    "* \"salt\" - How much?  One grain?  Two tons?\n",
    "<!-- <a href=\"http://www.wisn.com/article/salt-spills-buries-cars-when-storage-facility-collapses-in-chicago/6324761\" target=\"_blank\"><img src=\"img/salt.jpg\" width=300 /></a> -->\n",
    "<a href=\"http://www.wisn.com/article/salt-spills-buries-cars-when-storage-facility-collapses-in-chicago/6324761\" target=\"_blank\"><img src=\"https://raw.githubusercontent.com/wlough/CU-Phys2600-Fall2025/main/lectures/img/salt.jpg\" width=300 /></a>\n",
    "\n",
    "* \"Shortening size of an egg\" - What kind of egg?\n",
    "<!-- <a href=\"https://www.chicagoreader.com/chicago/key-ingredient-ostrich-egg/Content?oid=4331384\" target=\"_blank\"><img src=\"img/ostrich_egg.jpg\" width=300 /></a> -->\n",
    "<a href=\"https://www.chicagoreader.com/chicago/key-ingredient-ostrich-egg/Content?oid=4331384\" target=\"_blank\"><img src=\"https://raw.githubusercontent.com/wlough/CU-Phys2600-Fall2025/main/lectures/img/ostrich_egg.jpg\" width=300 /></a>\n",
    "\n",
    "* \"Bake in hot oven\" - At what temperature?  How long do we leave the oven on?\n",
    "<!-- <a href=\"https://www.popsugar.com/food/How-Put-Out-Oven-Fire-8670938\" target=\"_blank\"><img src=\"img/oven_fire.jpg\" width=250 /></a> -->\n",
    "<a href=\"https://www.popsugar.com/food/How-Put-Out-Oven-Fire-8670938\" target=\"_blank\"><img src=\"https://raw.githubusercontent.com/wlough/CU-Phys2600-Fall2025/main/lectures/img/oven_fire.jpg\" width=250 /></a>\n",
    "\n"
   ]
  },
  {
   "cell_type": "markdown",
   "metadata": {
    "slideshow": {
     "slide_type": "slide"
    }
   },
   "source": [
    "## Some computing history\n",
    "\n",
    "Computing is mainly concerned with executing __programs__, which are concrete realizations of algorithms.\n",
    "\n",
    "What is a computer?\n",
    "\n"
   ]
  },
  {
   "cell_type": "markdown",
   "metadata": {
    "slideshow": {
     "slide_type": "fragment"
    }
   },
   "source": [
    "Originally, _computer_ refers to a person\n",
    "\n",
    "Computer = job title, for people who would sit and do tedious calculations by hand \\- carrying out a program!  \n",
    "\n",
    "The human brain is likely much more complex than a universal computer, but we can certainly emulate one, at least.\n",
    "\n",
    "<!-- <img src=\"img/hidden_figures.jpg\"   width=\"200px\"  height=\"296.367px\"  style=\"object-fit:cover\"/> -->\n",
    "<img src=\"https://raw.githubusercontent.com/wlough/CU-Phys2600-Fall2025/main/lectures/img/hidden_figures.jpg\"   width=\"200px\"  height=\"296.367px\"  style=\"object-fit:cover\"/>\n",
    "\n"
   ]
  },
  {
   "cell_type": "markdown",
   "metadata": {
    "slideshow": {
     "slide_type": "slide"
    }
   },
   "source": [
    "<!-- <img src=\"img/tide_computer_2.jpg\"   width=\"350px\"   style=\"object-fit:cover\"/> -->\n",
    "<img src=\"https://raw.githubusercontent.com/wlough/CU-Phys2600-Fall2025/main/lectures/img/tide_computer_2.jpg\"   width=\"350px\"   style=\"object-fit:cover\"/>\n",
    "\n",
    "One way to do this is just by building a machine to carry out a single algorithm: this is a **fixed computer**.  These are among the oldest computers, e.g. \"Old Brass Brains\", a mechanical tide predictor from 1895.\n",
    "\n",
    "Nowadays, these are rare \\(although people still use pocket calculators!\\)  The term \"computer\" mostly implies a **universal computer**.\n",
    "\n"
   ]
  },
  {
   "cell_type": "markdown",
   "metadata": {
    "slideshow": {
     "slide_type": "slide"
    }
   },
   "source": [
    "## Computer architecture\n",
    "\n",
    "The primary components of a digital computer are __storage__ (which holds data) and __processors__ (which carry out instructions.)\n",
    "\n",
    "<!-- <img src=\"img/Assembledparts.png\" width=500px style=\"float:right;\"/> -->\n",
    "<img src=\"https://raw.githubusercontent.com/wlough/CU-Phys2600-Fall2025/main/lectures/img/Assembledparts.png\" width=500px style=\"float:right;\"/>\n",
    "\n",
    "For example, the __hard disk__ is for long-term storage, and __memory__ (usually \"RAM\") is for short-term storage.  Or the __CPU__ for most computing, and the __GPU__ for graphical output.\n",
    "\n"
   ]
  },
  {
   "cell_type": "markdown",
   "metadata": {
    "editable": false,
    "slideshow": {
     "slide_type": "fragment"
    }
   },
   "source": [
    "These divisions introduce _bottlenecks_ - data has to be moved around, which can limit calculations (as opposed to the raw speed of the CPU.)  Important to keep in mind for more expensive programs!\n",
    "\n"
   ]
  },
  {
   "cell_type": "markdown",
   "metadata": {
    "slideshow": {
     "slide_type": "slide"
    }
   },
   "source": [
    "The key idea behind a universal computer is that __programs are encoded as data__.  This means that we can create algorithms as data, instead of having to physically build them into the system, so universal computers are extremely flexible.  \n",
    "\n",
    "This allows programs to generate _other_ programs or even modify themselves, which gives a high level of abstraction.\n",
    "\n"
   ]
  },
  {
   "cell_type": "markdown",
   "metadata": {
    "slideshow": {
     "slide_type": "slide"
    }
   },
   "source": [
    "Any computer still has to implement some basic set of logical **instructions** in its hardware. This leads to the question, what instructions are needed for a universal computer?\n",
    "\n",
    "This path leads to formal computer\\-science, and _Turing completeness_ \\- I have a little bit more detail in the notes.\n"
   ]
  },
  {
   "cell_type": "markdown",
   "metadata": {
    "slideshow": {
     "slide_type": "fragment"
    }
   },
   "source": [
    "The only thing I'll mention in class is that **all programming languages are equivalent** \\(if _Turing complete_\\), which means that we can solve _any_ problem in _any_ language.  So just focusing on Python in this class will not be restrictive!\n",
    "\n",
    "(But, some problems are _easier_ to solve than others in a given language.)\n",
    "\n"
   ]
  },
  {
   "cell_type": "markdown",
   "metadata": {
    "slideshow": {
     "slide_type": "slide"
    }
   },
   "source": [
    "## Computer languages\n",
    "\n",
    "The lowest level of programming is __machine code__ - a binary digital signal which encodes both data and instructions.\n",
    "\n",
    "Writing logical instructions one at a time would get old quickly!  Instead, **programming languages** implement _high\\-level_ instructions that are easier for humans to use.\n",
    "\n",
    "High-level languages must be translated to machine code.  This translation can be __compiled__ (we create a machine-code program) or __interpreted__ (a translator program converts instructions to machine code in real time.)\n",
    "\n"
   ]
  },
  {
   "cell_type": "markdown",
   "metadata": {
    "slideshow": {
     "slide_type": "slide"
    }
   },
   "source": [
    "\\(Left is machine code, shown as a sequence of hexadecimal numbers; rightis a snippet of C\\+\\+ code from a numerical integrator written by Prof. Neil.\\)\n",
    "\n",
    "<!-- <img src=\"img/Wikipedia_favicon_hexdump.png\" width=300px style=\"float:left;margin:10px\"/> -->\n",
    "<img src=\"https://raw.githubusercontent.com/wlough/CU-Phys2600-Fall2025/main/lectures/img/Wikipedia_favicon_hexdump.png\" width=300px style=\"float:left;margin:10px\"/>\n",
    "\n",
    "<!-- <img src=\"img/cpp-code.png\" width=600px style=\"float:right;margin:10px\"/> -->\n",
    "<img src=\"https://raw.githubusercontent.com/wlough/CU-Phys2600-Fall2025/main/lectures/img/cpp-code.png\" width=600px style=\"float:right;margin:10px\"/>\n",
    "\n"
   ]
  },
  {
   "cell_type": "markdown",
   "metadata": {
    "slideshow": {
     "slide_type": "slide"
    }
   },
   "source": [
    "<!-- <img src=\"img/python-logo.png\" width=400px  style=\"float:right;margin:10px\"/> -->\n",
    "<img src=\"https://raw.githubusercontent.com/wlough/CU-Phys2600-Fall2025/main/lectures/img/python-logo.png\" width=400px  style=\"float:right;margin:10px\"/>\n",
    "\n",
    "In this class, we'll learn the __Python__ language.  Python is interpreted; it trades off speed for flexibility and immediate responsiveness.\n",
    "\n",
    "Python's emphasis is on clean, human-readable syntax, and flexible high-level code.   It boasts an enormous number of __modules__ - pre-built software that you can download and use in your own programs.  \n",
    "\n",
    "Many scientific applications have great module support in Python!\n",
    "\n"
   ]
  },
  {
   "cell_type": "markdown",
   "metadata": {
    "slideshow": {
     "slide_type": "slide"
    }
   },
   "source": [
    "## Markdown\n",
    "\n",
    "<!-- <img src=\"img/markdown-logo.png\" width=200px  style=\"float:right;margin:10px\"/> -->\n",
    "<img src=\"https://raw.githubusercontent.com/wlough/CU-Phys2600-Fall2025/main/lectures/img/markdown-logo.png\" width=200px  style=\"float:right;margin:10px\"/>\n",
    "\n",
    "Whereas a programming language tells a computer what to do, a __markup language__ deals with formatting and display of information for humans.  (For example, HTML!)\n",
    "\n",
    "__Markdown__ is a common markup language which is meant to be human-readable itself.  In this class, we'll use Python to get things done, and Markdown alongside to _explain_ what we've done.  (All of my lecture notes and slides are written in Markdown!)\n",
    "\n"
   ]
  },
  {
   "cell_type": "markdown",
   "metadata": {
    "editable": true,
    "slideshow": {
     "slide_type": "slide"
    },
    "tags": []
   },
   "source": [
    "## Jupyter\n",
    "\n",
    "<!-- <img src=\"img/jupyter-logo.png\" width=200px  style=\"float:left;margin:10px\"/> -->\n",
    "<img src=\"https://raw.githubusercontent.com/wlough/CU-Phys2600-Fall2025/main/lectures/img/jupyter-logo.png\" width=200px  style=\"float:left;margin:10px\"/>\n",
    "\n",
    "__Jupyter__ will be our main way to interact with Python in this class.  Jupyter is a web-based program that runs Python code (and Markdown code) in an interactive, human-friendly environment.\n",
    "\n",
    "Jupyter is an advanced __read-eval-print loop__, or \"REPL\".  A REPL is designed to run short snippets of code interactively.  They are great for prototyping code - and for learning!\n",
    "\n"
   ]
  },
  {
   "cell_type": "markdown",
   "metadata": {
    "editable": true,
    "slideshow": {
     "slide_type": "slide"
    },
    "tags": []
   },
   "source": [
    "We'll use a cloud\\-based Jupyter provider for this class.\n",
    "\n",
    "If you would like to set up Python on your own system, it's pretty easy to do! I recommend one of the following:\n",
    "\n",
    "- **venv** and **pip** Python modules. `venv` to create virtual environments, `pip` for package installation\n",
    "- **Anaconda** distribution. Handles both environment and package management.\n",
    "\n",
    "When you \"install Python\" from an official source (e.g. python.org or your Linux package manager) you only get the Python interpreter and the standard library which contains core modules like `venv` and `pip`. Any other packages (Jupyter, Numpy, etc...) must be installed manually using `pip`.\n",
    "\n",
    "A _distribution_ is a pre-packaged collection of software; Anaconda comes with a curated set of commonly-used modules (including Jupyter and Numpy) in addition to the standard library and the Python interpreter.\n",
    "\n",
    "If you're just starting out with programming, I'd recommend waiting until the semester ends to try setting your own system up.\n",
    "\n"
   ]
  }
 ],
 "metadata": {
  "celltoolbar": "Slideshow",
  "kernelspec": {
   "display_name": "Python 3 (ipykernel)",
   "language": "python",
   "name": "python3"
  },
  "language_info": {
   "codemirror_mode": {
    "name": "ipython",
    "version": 3
   },
   "file_extension": ".py",
   "mimetype": "text/x-python",
   "name": "python",
   "nbconvert_exporter": "python",
   "pygments_lexer": "ipython3",
   "version": "3.10.18"
  },
  "toc": {
   "base_numbering": 1,
   "nav_menu": {},
   "number_sections": true,
   "sideBar": true,
   "skip_h1_title": false,
   "title_cell": "Table of Contents",
   "title_sidebar": "Contents",
   "toc_cell": false,
   "toc_position": {},
   "toc_section_display": true,
   "toc_window_display": true
  }
 },
 "nbformat": 4,
 "nbformat_minor": 4
}
