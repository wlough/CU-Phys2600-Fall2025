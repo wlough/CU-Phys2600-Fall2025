{
 "cells": [
  {
   "cell_type": "markdown",
   "id": "9dcdefe1-a21a-45cf-a5be-8b6b1386d1de",
   "metadata": {
    "editable": true,
    "slideshow": {
     "slide_type": "slide"
    },
    "tags": []
   },
   "source": [
    "# Announcements\n",
    "\n",
    "- Homework \\#2 will be posted today, due next **Thursday at noon**.\n",
    "- Tutorial \\#3 due tomorrow at noon\n",
    "- Tutorial \\#4 due Wednesday at noon\n",
    "- **Homework help**: Wednesday 5pm-7pm (Duane G2B90)\n",
    "- My ordering is a little different from Guttag; don't worry about bits of Python syntax in the reading I assigned which we haven't covered yet."
   ]
  },
  {
   "cell_type": "markdown",
   "id": "9916554c-91a0-45d8-ad3f-7ac428765a40",
   "metadata": {
    "editable": true,
    "slideshow": {
     "slide_type": "slide"
    },
    "tags": []
   },
   "source": [
    "# Variables, data types, and string formatting\n",
    "\n",
    "<a href=\"https://commons.wikimedia.org/wiki/File:Pluriarc_-_Kuba,_Zaire_-_Royal_Museum_for_Central_Africa_-_DSC06994.JPG#file\" target=\"_blank\"><img src=\"https://raw.githubusercontent.com/wlough/CU-Phys2600-Fall2025/main/lectures/img/pluriarc.jpg\" width=300px align=\"right\" /></a>\n",
    "\n",
    "## PHYS 2600: Scientific Computing\n",
    "\n",
    "## Lecture 3\n",
    "\n"
   ]
  },
  {
   "cell_type": "markdown",
   "id": "d17786ad-e093-4836-b691-9f7fd6c7a40e",
   "metadata": {
    "editable": true,
    "slideshow": {
     "slide_type": "slide"
    },
    "tags": []
   },
   "source": [
    "## Variables and assignment\n",
    "\n",
    "Last time, we did very simple examples with single math expressions.  To build up complicated programs from simple operations, we save results to a __variable__ using `=`, the assignment operator:\n",
    "\n"
   ]
  },
  {
   "cell_type": "code",
   "execution_count": 1,
   "id": "407a1bdc-12d7-40da-9014-426df6fb66d2",
   "metadata": {
    "editable": true,
    "slideshow": {
     "slide_type": ""
    },
    "tags": []
   },
   "outputs": [
    {
     "name": "stdout",
     "output_type": "stream",
     "text": [
      "15\n"
     ]
    }
   ],
   "source": [
    "x = 4 + 5 + 6\n",
    "print(x)"
   ]
  },
  {
   "cell_type": "markdown",
   "id": "28d66f9c-1a3b-47ca-9c27-068ff2fd8b4f",
   "metadata": {
    "editable": true,
    "slideshow": {
     "slide_type": "fragment"
    },
    "tags": []
   },
   "source": [
    "We can use this to evaluate complicated expressions line by line, storing temporary results as we go:"
   ]
  },
  {
   "cell_type": "code",
   "execution_count": 3,
   "id": "eb2837bb-1c36-481d-8a13-3438018a7bb6",
   "metadata": {
    "editable": true,
    "slideshow": {
     "slide_type": ""
    },
    "tags": []
   },
   "outputs": [
    {
     "name": "stdout",
     "output_type": "stream",
     "text": [
      "64\n"
     ]
    }
   ],
   "source": [
    "y = x + 4\n",
    "z = 3*x + y\n",
    "print(z)"
   ]
  },
  {
   "cell_type": "markdown",
   "id": "edde0b6a-bc83-467b-9219-c9d04cf35f00",
   "metadata": {
    "editable": true,
    "slideshow": {
     "slide_type": "subslide"
    },
    "tags": []
   },
   "source": [
    "It's very important to remember that assignment in Python carries out a very specific set of instructions, and it _does not mean the same thing_ as writing an equation in math class.  When we assign, two things happen __in order__:\n",
    "\n",
    "1. Everything to the _right_ of `=` is evaluated as a statement;\n",
    "2. The result of that statement is saved to the variable name on the _left_ of `=`.\n",
    "\n",
    "The notation for this (assignment) is `=` is *most* languages (but not all languages! For example the R programming language uses the notation `x <- 7`.)"
   ]
  },
  {
   "cell_type": "code",
   "execution_count": 4,
   "id": "fbb5866e-eb6e-4d01-b5b7-fa8acd724cc9",
   "metadata": {
    "editable": true,
    "slideshow": {
     "slide_type": ""
    },
    "tags": []
   },
   "outputs": [
    {
     "name": "stdout",
     "output_type": "stream",
     "text": [
      "11\n",
      "3\n",
      "11\n"
     ]
    }
   ],
   "source": [
    "x = 7\n",
    "x = x + 4\n",
    "print(x)\n",
    "\n",
    "# y = x assigns the _value_ of x,\n",
    "# so changing y doesn't change x!\n",
    "y = x\n",
    "y = y - 8\n",
    "print(y)\n",
    "print(x)"
   ]
  },
  {
   "cell_type": "markdown",
   "id": "f22e8f4c-0ae3-4e55-aba6-d2d68ca8bf13",
   "metadata": {
    "editable": true,
    "slideshow": {
     "slide_type": "subslide"
    },
    "tags": []
   },
   "source": [
    "There is an amazing website called [Python Tutor](http://www.pythontutor.com/visualize.html#mode=edit) \\(will also be linked from the lecture notes\\), which can visualize the execution of Python code, one step at a time.  If you're stuck trying to figure out some piece of code, using the visualizer can be extremely helpful!\n"
   ]
  },
  {
   "cell_type": "markdown",
   "id": "bacad88f-ed66-4537-abb0-62e08a410629",
   "metadata": {
    "editable": true,
    "slideshow": {
     "slide_type": "fragment"
    },
    "tags": []
   },
   "source": [
    "Here's what the code example from the last slide looks like in the visualizer:\n",
    "\n",
    "<img src=\"img/python-tutor-demo.gif\" />\n",
    "\n"
   ]
  },
  {
   "cell_type": "markdown",
   "id": "441fd06e-a385-426e-b641-5bb0972ec648",
   "metadata": {
    "editable": true,
    "slideshow": {
     "slide_type": "fragment"
    },
    "tags": []
   },
   "source": [
    "Notice that `print` does _not_ change anything in the program's memory!  All `print` does is show us (the human) a string.  We can see this explicitly if we try to assign the result of `print` to a variable:"
   ]
  },
  {
   "cell_type": "code",
   "execution_count": 5,
   "id": "4b54f1ae-d151-4d23-a437-2f624cb53cb7",
   "metadata": {
    "editable": true,
    "slideshow": {
     "slide_type": ""
    },
    "tags": []
   },
   "outputs": [
    {
     "name": "stdout",
     "output_type": "stream",
     "text": [
      "11\n",
      "None\n"
     ]
    }
   ],
   "source": [
    "z = print(x)\n",
    "print(z)"
   ]
  },
  {
   "cell_type": "markdown",
   "id": "093d5f4a-962b-412e-a6ea-51514fe12730",
   "metadata": {
    "editable": true,
    "slideshow": {
     "slide_type": ""
    },
    "tags": []
   },
   "source": [
    "`z` contains the special `None` literal, which represents the _absence of information_.  "
   ]
  },
  {
   "cell_type": "markdown",
   "id": "e84c4b2f-a2df-4234-85f3-5c43ac53a687",
   "metadata": {
    "editable": true,
    "slideshow": {
     "slide_type": "slide"
    },
    "tags": []
   },
   "source": [
    "## Basic data types\n",
    "\n",
    "All information in Python is _binary_ at the lowest level; 0 and 1 (__bits__.)  Enough bits can represent other forms of information: e.g. `00,01,10,11` for the integers `0,1,2,3`.  But they could also be the letters `A,B,C,D`!\n",
    "\n",
    "To know how to read raw binary data, Python also needs to know what _kind_ of information the binary signal encodes.  The label for this info is called a __type__.  Every Python object has a type, and we can use the function `type()` to check the type of an object:"
   ]
  },
  {
   "cell_type": "code",
   "execution_count": 6,
   "id": "6e1fcc35-6309-4077-8ac4-a24aa19b312e",
   "metadata": {
    "editable": true,
    "slideshow": {
     "slide_type": ""
    },
    "tags": []
   },
   "outputs": [
    {
     "name": "stdout",
     "output_type": "stream",
     "text": [
      "<class 'int'>\n",
      "<class 'float'>\n",
      "<class 'str'>\n",
      "<class 'bool'>\n",
      "<class 'NoneType'>\n"
     ]
    }
   ],
   "source": [
    "print(type(42))\n",
    "print(type(3.1415))\n",
    "print(type('Physics'))\n",
    "print(type(True))\n",
    "print(type(None))\n"
   ]
  },
  {
   "cell_type": "markdown",
   "id": "10122c4b-5cef-4422-ab85-5a977d8560ba",
   "metadata": {
    "editable": true,
    "slideshow": {
     "slide_type": "fragment"
    },
    "tags": []
   },
   "source": [
    "\"Class\" is a synonym for \"type\" in Python.  Two built-in numeric types are `int` (integer) and `float` (decimal) - there is also `complex`, but we won't use it much.  `str` is the string type, which we saw briefly before. There is also a boolean type `bool` for True/False values, and a `NoneType` for the `None` object."
   ]
  },
  {
   "cell_type": "markdown",
   "id": "c2588847-b617-4a82-9656-006fbe2ad36f",
   "metadata": {
    "editable": true,
    "slideshow": {
     "slide_type": "slide"
    },
    "tags": []
   },
   "source": [
    "## Strings and string formatting\n",
    "\n",
    "Last time, we briefly saw a non-numeric literal type, the __string__.  A string is enclosed in matching double quotes `\"...\"` or single quotes `'...'`.  One common use for strings is to make programs more human-readable:"
   ]
  },
  {
   "cell_type": "code",
   "execution_count": 7,
   "id": "3b6c2009-1c68-4aa6-b026-118a460c08be",
   "metadata": {
    "editable": true,
    "slideshow": {
     "slide_type": ""
    },
    "tags": []
   },
   "outputs": [
    {
     "name": "stdout",
     "output_type": "stream",
     "text": [
      "Area of the circle is:      28.273500000000002   Wow!\n"
     ]
    }
   ],
   "source": [
    "r = 3 \n",
    "area = 3.1415 * r**2\n",
    "print(\"Area of the circle is:     \",       area,\"  Wow!\")"
   ]
  },
  {
   "cell_type": "markdown",
   "id": "8ce43cca-75dd-4025-908d-1700803210e8",
   "metadata": {
    "editable": true,
    "slideshow": {
     "slide_type": "fragment"
    },
    "tags": []
   },
   "source": [
    "Notice that we gave `print` _multiple things_ this time, and it printed all of them with a little space in between.  The inputs to a function are called __arguments__, and in Python they are always separated with commas.  `print` can take any number of arguments.\n",
    "\n",
    "By default, `area` was printed out with 15 digits after the decimal - way more than we need here!  How do we control that?"
   ]
  },
  {
   "cell_type": "markdown",
   "id": "07942990-fd49-4a20-b006-a6705b52db90",
   "metadata": {
    "editable": true,
    "slideshow": {
     "slide_type": "fragment"
    },
    "tags": []
   },
   "source": [
    "__String formatting__ lets us control how numbers appear inside of strings.  There are several ways to do this in Python - we'll talk about the most modern, called the \"f-string\".\n",
    "\n",
    "To create an f-string, we just prefix any string literal with the letter \"f\":"
   ]
  },
  {
   "cell_type": "code",
   "execution_count": 10,
   "id": "8c17da2e-3a0c-4036-8661-fcaa980531af",
   "metadata": {
    "editable": true,
    "slideshow": {
     "slide_type": ""
    },
    "tags": []
   },
   "outputs": [
    {
     "name": "stdout",
     "output_type": "stream",
     "text": [
      "Area of the circle is: 28.273500000000002\n"
     ]
    }
   ],
   "source": [
    "area_string = f\"Area of the circle is: {area}\"\n",
    "print(area_string)"
   ]
  },
  {
   "cell_type": "markdown",
   "id": "cfbfc0c8-93a2-4ad7-a84e-5231e17cd128",
   "metadata": {
    "editable": true,
    "slideshow": {
     "slide_type": "fragment"
    },
    "tags": []
   },
   "source": [
    "The curly braces tell Python to interpolate the current value of `area`.  To control _how_ the number is formatted, we include a __format code__ as well:"
   ]
  },
  {
   "cell_type": "code",
   "execution_count": 11,
   "id": "82a9ac26-beea-475e-a8bf-2322a1e774e5",
   "metadata": {
    "editable": true,
    "slideshow": {
     "slide_type": ""
    },
    "tags": []
   },
   "outputs": [
    {
     "name": "stdout",
     "output_type": "stream",
     "text": [
      "Area of the circle is: 28.27\n"
     ]
    }
   ],
   "source": [
    "format_string = f\"Area of the circle is: {area:.2f}\"\n",
    "print(format_string)"
   ]
  },
  {
   "cell_type": "markdown",
   "id": "731c3645-e5c7-4b8a-896b-03e6701ff55a",
   "metadata": {
    "editable": true,
    "slideshow": {
     "slide_type": "subslide"
    },
    "tags": []
   },
   "source": [
    "Format codes follow \"printf\" conventions, named after the old function in the C programming language.  These format codes are powerful and complicated!  Here are the important features you should know.  A few of the most important to memorize are the one-letter codes:\n",
    "\n",
    "- Decimals: `f` = decimal, `e` = scientific notation.\n",
    "- `g` tells Python to choose between `e` and `f` automatically (it will use `e` for very large/very small numbers.)\n",
    "- `d` = integer\n",
    "- `s` = string\n",
    "\n",
    "Numbers before the one-letter code control how many digits appear.  The main use of the numeric code is with decimals: `.#f` or `.#e` prints `#` digits after the decimal point.  `.#g` prints `#` _significant figures_."
   ]
  },
  {
   "cell_type": "code",
   "execution_count": 12,
   "id": "09530179-ddcd-4d13-ae3f-761543f08343",
   "metadata": {
    "editable": true,
    "slideshow": {
     "slide_type": ""
    },
    "tags": []
   },
   "outputs": [
    {
     "name": "stdout",
     "output_type": "stream",
     "text": [
      "pi with 6 digits after the point, in decimal format: 3.141593\n",
      "pi with flexible (decimal/scientific) output, 4 sig figs: 3.142\n",
      "h with flexible output, 6 sig figs: 6.626e-34\n"
     ]
    }
   ],
   "source": [
    "pi = 3.1415926535e+00\n",
    "planck = 6.626e-34\n",
    "print(f\"pi with 6 digits after the point, in decimal format: {pi:.6f}\")\n",
    "print(f\"pi with flexible (decimal/scientific) output, 4 sig figs: {pi:.4g}\")\n",
    "print(f\"h with flexible output, 6 sig figs: {planck:.6g}\")"
   ]
  },
  {
   "cell_type": "markdown",
   "id": "77b56d9e-fcea-4663-9a2c-6c47bae7e032",
   "metadata": {
    "editable": true,
    "slideshow": {
     "slide_type": "subslide"
    },
    "tags": []
   },
   "source": [
    "**Zero padding** is a useful f-string feature for formatting integer indices to a fixed width using `:0Wd`, where `W` is the desired index width (number of digits)."
   ]
  },
  {
   "cell_type": "code",
   "execution_count": 13,
   "id": "18632d16-dbbb-4ef7-b1da-9cefe6e32a93",
   "metadata": {
    "editable": true,
    "slideshow": {
     "slide_type": ""
    },
    "tags": []
   },
   "outputs": [
    {
     "name": "stdout",
     "output_type": "stream",
     "text": [
      "frame_00000.png\n",
      "frame_00001.png\n",
      "frame_00002.png\n",
      "frame_00012.png\n",
      "frame_00115.png\n"
     ]
    }
   ],
   "source": [
    "image_count = 0\n",
    "image_name = f\"frame_{image_count:05d}.png\"\n",
    "print(image_name)\n",
    "\n",
    "# \"image_count += 1\" is equivalent to \"image_count = image_count + 1\"\n",
    "image_count += 1\n",
    "image_name = f\"frame_{image_count:05d}.png\"\n",
    "print(image_name)\n",
    "\n",
    "image_count += 1\n",
    "image_name = f\"frame_{image_count:05d}.png\"\n",
    "print(image_name)\n",
    "\n",
    "image_count += 10\n",
    "image_name = f\"frame_{image_count:05d}.png\"\n",
    "print(image_name)\n",
    "\n",
    "image_count += 103\n",
    "image_name = f\"frame_{image_count:05d}.png\"\n",
    "print(image_name)"
   ]
  },
  {
   "cell_type": "markdown",
   "id": "d6fecebf-e844-4e68-b61e-f8f040f868f5",
   "metadata": {
    "editable": true,
    "slideshow": {
     "slide_type": "slide"
    },
    "tags": []
   },
   "source": [
    "### Dynamic typing\n",
    "\n",
    "In Python, we can change a variable to a different type easily:"
   ]
  },
  {
   "cell_type": "code",
   "execution_count": 14,
   "id": "8ac98434-4ad3-4c52-90d1-86bb8d4d05eb",
   "metadata": {
    "editable": true,
    "slideshow": {
     "slide_type": ""
    },
    "tags": []
   },
   "outputs": [
    {
     "name": "stdout",
     "output_type": "stream",
     "text": [
      "<class 'int'>\n",
      "<class 'str'>\n"
     ]
    }
   ],
   "source": [
    "x = 4\n",
    "print(type(x)) \n",
    "x = 'four'\n",
    "print(type(x))"
   ]
  },
  {
   "cell_type": "markdown",
   "id": "254ea8b0-f31b-41d0-a85e-0c92d89899d1",
   "metadata": {
    "editable": true,
    "slideshow": {
     "slide_type": "fragment"
    },
    "tags": []
   },
   "source": [
    "So `type(x)` has _nothing to do_ with `x` itself; it just tells us about the object `x` is pointing to.  Python variables are __references__ - they exist only to point somewhere else.  \n",
    "\n",
    "In other languages, variables often stake out their own chunks of memory and have their own associated types.  This can give faster performance - static typing is more efficient."
   ]
  },
  {
   "cell_type": "markdown",
   "id": "aaf75c46-9a38-4c5e-84eb-7b251ea97be6",
   "metadata": {
    "editable": true,
    "slideshow": {
     "slide_type": "subslide"
    },
    "tags": []
   },
   "source": [
    "Dynamic typing also lets us easily transfer data from one type of object to another - a process called __type conversion__ or __type casting__.  Casting uses a function associated with the new type we want:"
   ]
  },
  {
   "cell_type": "code",
   "execution_count": 15,
   "id": "d1df18a1-e494-479d-b002-79053b96143f",
   "metadata": {
    "editable": true,
    "slideshow": {
     "slide_type": ""
    },
    "tags": []
   },
   "outputs": [
    {
     "name": "stdout",
     "output_type": "stream",
     "text": [
      "42.0\n",
      "3\n",
      "555\n",
      "False\n",
      "True\n",
      "True\n"
     ]
    },
    {
     "data": {
      "text/plain": [
       "'55'"
      ]
     },
     "execution_count": 15,
     "metadata": {},
     "output_type": "execute_result"
    }
   ],
   "source": [
    "print(float(42))\n",
    "print(int(3.79))\n",
    "print(int('555'))\n",
    "print(bool(0))\n",
    "print(bool(1))\n",
    "print(bool(-2))\n",
    "str(55)"
   ]
  },
  {
   "cell_type": "markdown",
   "id": "addf5162-a613-42e9-8691-820ad84ca98f",
   "metadata": {
    "editable": true,
    "slideshow": {
     "slide_type": "fragment"
    },
    "tags": []
   },
   "source": [
    "Note: casting requires the conversion to make sense!  `int('hello')` will just give you an error.  Also, keep in mind that `int(3.79)` does _not_ round - we can use the built-in `round()` function for that."
   ]
  },
  {
   "cell_type": "markdown",
   "id": "1f874a5d-463b-43e0-8cf0-1499ec513cce",
   "metadata": {
    "editable": true,
    "slideshow": {
     "slide_type": "subslide"
    },
    "tags": []
   },
   "source": [
    "One more feature enabled by types: Python operators are __context-sensitive__.  This means that the same operator can do different things if it's given objects of different types.\n",
    "\n",
    "For example, `+` can add numbers, but it can also \"add\" strings:"
   ]
  },
  {
   "cell_type": "code",
   "execution_count": 16,
   "id": "062d2095-229b-4bb8-8469-414bd68cfa27",
   "metadata": {
    "editable": true,
    "slideshow": {
     "slide_type": ""
    },
    "tags": []
   },
   "outputs": [
    {
     "data": {
      "text/plain": [
       "'24'"
      ]
     },
     "execution_count": 16,
     "metadata": {},
     "output_type": "execute_result"
    }
   ],
   "source": [
    "'2' + '4'"
   ]
  },
  {
   "cell_type": "markdown",
   "id": "bd035b40-2472-45c0-8ba4-07bebb46764d",
   "metadata": {
    "editable": true,
    "slideshow": {
     "slide_type": "fragment"
    },
    "tags": []
   },
   "source": [
    "String addition is concatenation.\n",
    "The `*` operator is also overloaded for strings, and you can probably guess what it does:"
   ]
  },
  {
   "cell_type": "code",
   "execution_count": 17,
   "id": "bd07d20b-0648-44c2-ad64-36e46f09b690",
   "metadata": {
    "editable": true,
    "slideshow": {
     "slide_type": ""
    },
    "tags": []
   },
   "outputs": [
    {
     "data": {
      "text/plain": [
       "'PythonPythonPython'"
      ]
     },
     "execution_count": 17,
     "metadata": {},
     "output_type": "execute_result"
    }
   ],
   "source": [
    "'Python' * 3"
   ]
  },
  {
   "cell_type": "markdown",
   "id": "9a8b5897-c8d2-45b6-b0c9-889068c0f189",
   "metadata": {
    "editable": true,
    "slideshow": {
     "slide_type": "slide"
    },
    "tags": []
   },
   "source": [
    "## Operator overloading and dunder methods\n",
    "\n",
    "This behavior is known as __operator overloading__ - the same operator can do more than one thing. Python lets objects define the behaviour of operators which act on them using **dunder methods** (\"double-underscore\" methods). A method is a function (set of instructions) that \"belongs\" to an object's type. Dunder methods are special methods with names like `__something__` that define the behaviour of built-in operations like `*`, `+`, etc...\n"
   ]
  },
  {
   "cell_type": "markdown",
   "id": "c34e6340-3902-42d1-b85e-0631f9aeecc8",
   "metadata": {
    "editable": true,
    "slideshow": {
     "slide_type": "fragment"
    },
    "tags": []
   },
   "source": [
    "Not every operator is overloaded for every type: for example, division `/` doesn't make much sense for strings and you'll get an error if you try."
   ]
  },
  {
   "cell_type": "markdown",
   "id": "47e48f7c-f2ec-4fcd-91b9-59d5d132f83f",
   "metadata": {
    "editable": true,
    "slideshow": {
     "slide_type": "fragment"
    },
    "tags": []
   },
   "source": [
    "Tip: `dir(obj)` and `help(type(obj))` show what a type can do. The output of `dir(3)` or `help(int)` will mostly be gibberish right now, but as we learn more this semester it’ll be useful to revisit.\n",
    "\n",
    "| Operator         | dunder method  |\n",
    "| ---------------- | -------------- |\n",
    "| `+`              | `__add__`      |\n",
    "| `-`              | `__sub__`      |\n",
    "| `*`              | `__mul__`      |\n",
    "| `/`              | `__truediv__`  |\n",
    "| `**`             | `__pow__`      |\n",
    "| `%`              | `__mod__`      |\n",
    "| `//`             | `__floordiv__` |"
   ]
  },
  {
   "cell_type": "code",
   "execution_count": 19,
   "id": "0e3124f7-9dc8-4de3-8fe8-da065b709137",
   "metadata": {
    "editable": true,
    "scrolled": true,
    "slideshow": {
     "slide_type": ""
    },
    "tags": []
   },
   "outputs": [
    {
     "name": "stdout",
     "output_type": "stream",
     "text": [
      "Help on class int in module builtins:\n",
      "\n",
      "class int(object)\n",
      " |  int([x]) -> integer\n",
      " |  int(x, base=10) -> integer\n",
      " |\n",
      " |  Convert a number or string to an integer, or return 0 if no arguments\n",
      " |  are given.  If x is a number, return x.__int__().  For floating-point\n",
      " |  numbers, this truncates towards zero.\n",
      " |\n",
      " |  If x is not a number or if base is given, then x must be a string,\n",
      " |  bytes, or bytearray instance representing an integer literal in the\n",
      " |  given base.  The literal can be preceded by '+' or '-' and be surrounded\n",
      " |  by whitespace.  The base defaults to 10.  Valid bases are 0 and 2-36.\n",
      " |  Base 0 means to interpret the base from the string as an integer literal.\n",
      " |  >>> int('0b100', base=0)\n",
      " |  4\n",
      " |\n",
      " |  Built-in subclasses:\n",
      " |      bool\n",
      " |\n",
      " |  Methods defined here:\n",
      " |\n",
      " |  __abs__(self, /)\n",
      " |      abs(self)\n",
      " |\n",
      " |  __add__(self, value, /)\n",
      " |      Return self+value.\n",
      " |\n",
      " |  __and__(self, value, /)\n",
      " |      Return self&value.\n",
      " |\n",
      " |  __bool__(self, /)\n",
      " |      True if self else False\n",
      " |\n",
      " |  __ceil__(self, /)\n",
      " |      Ceiling of an Integral returns itself.\n",
      " |\n",
      " |  __divmod__(self, value, /)\n",
      " |      Return divmod(self, value).\n",
      " |\n",
      " |  __eq__(self, value, /)\n",
      " |      Return self==value.\n",
      " |\n",
      " |  __float__(self, /)\n",
      " |      float(self)\n",
      " |\n",
      " |  __floor__(self, /)\n",
      " |      Flooring an Integral returns itself.\n",
      " |\n",
      " |  __floordiv__(self, value, /)\n",
      " |      Return self//value.\n",
      " |\n",
      " |  __format__(self, format_spec, /)\n",
      " |      Convert to a string according to format_spec.\n",
      " |\n",
      " |  __ge__(self, value, /)\n",
      " |      Return self>=value.\n",
      " |\n",
      " |  __getattribute__(self, name, /)\n",
      " |      Return getattr(self, name).\n",
      " |\n",
      " |  __getnewargs__(self, /)\n",
      " |\n",
      " |  __gt__(self, value, /)\n",
      " |      Return self>value.\n",
      " |\n",
      " |  __hash__(self, /)\n",
      " |      Return hash(self).\n",
      " |\n",
      " |  __index__(self, /)\n",
      " |      Return self converted to an integer, if self is suitable for use as an index into a list.\n",
      " |\n",
      " |  __int__(self, /)\n",
      " |      int(self)\n",
      " |\n",
      " |  __invert__(self, /)\n",
      " |      ~self\n",
      " |\n",
      " |  __le__(self, value, /)\n",
      " |      Return self<=value.\n",
      " |\n",
      " |  __lshift__(self, value, /)\n",
      " |      Return self<<value.\n",
      " |\n",
      " |  __lt__(self, value, /)\n",
      " |      Return self<value.\n",
      " |\n",
      " |  __mod__(self, value, /)\n",
      " |      Return self%value.\n",
      " |\n",
      " |  __mul__(self, value, /)\n",
      " |      Return self*value.\n",
      " |\n",
      " |  __ne__(self, value, /)\n",
      " |      Return self!=value.\n",
      " |\n",
      " |  __neg__(self, /)\n",
      " |      -self\n",
      " |\n",
      " |  __or__(self, value, /)\n",
      " |      Return self|value.\n",
      " |\n",
      " |  __pos__(self, /)\n",
      " |      +self\n",
      " |\n",
      " |  __pow__(self, value, mod=None, /)\n",
      " |      Return pow(self, value, mod).\n",
      " |\n",
      " |  __radd__(self, value, /)\n",
      " |      Return value+self.\n",
      " |\n",
      " |  __rand__(self, value, /)\n",
      " |      Return value&self.\n",
      " |\n",
      " |  __rdivmod__(self, value, /)\n",
      " |      Return divmod(value, self).\n",
      " |\n",
      " |  __repr__(self, /)\n",
      " |      Return repr(self).\n",
      " |\n",
      " |  __rfloordiv__(self, value, /)\n",
      " |      Return value//self.\n",
      " |\n",
      " |  __rlshift__(self, value, /)\n",
      " |      Return value<<self.\n",
      " |\n",
      " |  __rmod__(self, value, /)\n",
      " |      Return value%self.\n",
      " |\n",
      " |  __rmul__(self, value, /)\n",
      " |      Return value*self.\n",
      " |\n",
      " |  __ror__(self, value, /)\n",
      " |      Return value|self.\n",
      " |\n",
      " |  __round__(self, ndigits=<unrepresentable>, /)\n",
      " |      Rounding an Integral returns itself.\n",
      " |\n",
      " |      Rounding with an ndigits argument also returns an integer.\n",
      " |\n",
      " |  __rpow__(self, value, mod=None, /)\n",
      " |      Return pow(value, self, mod).\n",
      " |\n",
      " |  __rrshift__(self, value, /)\n",
      " |      Return value>>self.\n",
      " |\n",
      " |  __rshift__(self, value, /)\n",
      " |      Return self>>value.\n",
      " |\n",
      " |  __rsub__(self, value, /)\n",
      " |      Return value-self.\n",
      " |\n",
      " |  __rtruediv__(self, value, /)\n",
      " |      Return value/self.\n",
      " |\n",
      " |  __rxor__(self, value, /)\n",
      " |      Return value^self.\n",
      " |\n",
      " |  __sizeof__(self, /)\n",
      " |      Returns size in memory, in bytes.\n",
      " |\n",
      " |  __sub__(self, value, /)\n",
      " |      Return self-value.\n",
      " |\n",
      " |  __truediv__(self, value, /)\n",
      " |      Return self/value.\n",
      " |\n",
      " |  __trunc__(self, /)\n",
      " |      Truncating an Integral returns itself.\n",
      " |\n",
      " |  __xor__(self, value, /)\n",
      " |      Return self^value.\n",
      " |\n",
      " |  as_integer_ratio(self, /)\n",
      " |      Return a pair of integers, whose ratio is equal to the original int.\n",
      " |\n",
      " |      The ratio is in lowest terms and has a positive denominator.\n",
      " |\n",
      " |      >>> (10).as_integer_ratio()\n",
      " |      (10, 1)\n",
      " |      >>> (-10).as_integer_ratio()\n",
      " |      (-10, 1)\n",
      " |      >>> (0).as_integer_ratio()\n",
      " |      (0, 1)\n",
      " |\n",
      " |  bit_count(self, /)\n",
      " |      Number of ones in the binary representation of the absolute value of self.\n",
      " |\n",
      " |      Also known as the population count.\n",
      " |\n",
      " |      >>> bin(13)\n",
      " |      '0b1101'\n",
      " |      >>> (13).bit_count()\n",
      " |      3\n",
      " |\n",
      " |  bit_length(self, /)\n",
      " |      Number of bits necessary to represent self in binary.\n",
      " |\n",
      " |      >>> bin(37)\n",
      " |      '0b100101'\n",
      " |      >>> (37).bit_length()\n",
      " |      6\n",
      " |\n",
      " |  conjugate(self, /)\n",
      " |      Returns self, the complex conjugate of any int.\n",
      " |\n",
      " |  is_integer(self, /)\n",
      " |      Returns True. Exists for duck type compatibility with float.is_integer.\n",
      " |\n",
      " |  to_bytes(self, /, length=1, byteorder='big', *, signed=False)\n",
      " |      Return an array of bytes representing an integer.\n",
      " |\n",
      " |      length\n",
      " |        Length of bytes object to use.  An OverflowError is raised if the\n",
      " |        integer is not representable with the given number of bytes.  Default\n",
      " |        is length 1.\n",
      " |      byteorder\n",
      " |        The byte order used to represent the integer.  If byteorder is 'big',\n",
      " |        the most significant byte is at the beginning of the byte array.  If\n",
      " |        byteorder is 'little', the most significant byte is at the end of the\n",
      " |        byte array.  To request the native byte order of the host system, use\n",
      " |        sys.byteorder as the byte order value.  Default is to use 'big'.\n",
      " |      signed\n",
      " |        Determines whether two's complement is used to represent the integer.\n",
      " |        If signed is False and a negative integer is given, an OverflowError\n",
      " |        is raised.\n",
      " |\n",
      " |  ----------------------------------------------------------------------\n",
      " |  Class methods defined here:\n",
      " |\n",
      " |  from_bytes(bytes, byteorder='big', *, signed=False)\n",
      " |      Return the integer represented by the given array of bytes.\n",
      " |\n",
      " |      bytes\n",
      " |        Holds the array of bytes to convert.  The argument must either\n",
      " |        support the buffer protocol or be an iterable object producing bytes.\n",
      " |        Bytes and bytearray are examples of built-in objects that support the\n",
      " |        buffer protocol.\n",
      " |      byteorder\n",
      " |        The byte order used to represent the integer.  If byteorder is 'big',\n",
      " |        the most significant byte is at the beginning of the byte array.  If\n",
      " |        byteorder is 'little', the most significant byte is at the end of the\n",
      " |        byte array.  To request the native byte order of the host system, use\n",
      " |        sys.byteorder as the byte order value.  Default is to use 'big'.\n",
      " |      signed\n",
      " |        Indicates whether two's complement is used to represent the integer.\n",
      " |\n",
      " |  ----------------------------------------------------------------------\n",
      " |  Static methods defined here:\n",
      " |\n",
      " |  __new__(*args, **kwargs)\n",
      " |      Create and return a new object.  See help(type) for accurate signature.\n",
      " |\n",
      " |  ----------------------------------------------------------------------\n",
      " |  Data descriptors defined here:\n",
      " |\n",
      " |  denominator\n",
      " |      the denominator of a rational number in lowest terms\n",
      " |\n",
      " |  imag\n",
      " |      the imaginary part of a complex number\n",
      " |\n",
      " |  numerator\n",
      " |      the numerator of a rational number in lowest terms\n",
      " |\n",
      " |  real\n",
      " |      the real part of a complex number\n",
      "\n"
     ]
    }
   ],
   "source": [
    "help(int)"
   ]
  },
  {
   "cell_type": "markdown",
   "id": "ae325843-70ed-4222-9df1-17d3cb6396e0",
   "metadata": {
    "editable": true,
    "slideshow": {
     "slide_type": "slide"
    },
    "tags": []
   },
   "source": [
    "### More on strings\n",
    "\n",
    "Before we move on, a couple more things that are useful to know related to working with strings.\n",
    "\n",
    "First, the __escape character__.  An escape character (in Python, the backslash `\\`) changes the behavior of the _next_ character in a string.\n",
    "\n",
    "This has a couple of uses, one of which is encoding [special characters](https://docs.python.org/2.0/ref/strings.html).  Here are some important ones:\n",
    "\n",
    "* `\\n`: Line break\n",
    "* `\\t`: \"Tab\" character"
   ]
  },
  {
   "cell_type": "code",
   "execution_count": 20,
   "id": "ad1a64eb-0373-44e2-9538-e4cab873c0a3",
   "metadata": {
    "editable": true,
    "slideshow": {
     "slide_type": ""
    },
    "tags": []
   },
   "outputs": [
    {
     "name": "stdout",
     "output_type": "stream",
     "text": [
      "One string,\n",
      "\tTwo lines!\n"
     ]
    }
   ],
   "source": [
    "print(\"One string,\\n\\tTwo lines!\")"
   ]
  },
  {
   "cell_type": "code",
   "execution_count": 21,
   "id": "db2da36a-d9cb-47e2-8fb5-e17e1f6fafaa",
   "metadata": {
    "editable": true,
    "slideshow": {
     "slide_type": ""
    },
    "tags": []
   },
   "outputs": [
    {
     "name": "stdout",
     "output_type": "stream",
     "text": [
      "One string,\n",
      "\tTwo lines, \"with quotes!\"\n"
     ]
    }
   ],
   "source": [
    "print(\"One string,\\n\\tTwo lines, \\\"with quotes!\\\"\")"
   ]
  },
  {
   "cell_type": "markdown",
   "id": "3c8b61b8-3808-4795-8066-de535f7c284d",
   "metadata": {
    "editable": true,
    "slideshow": {
     "slide_type": "fragment"
    },
    "tags": []
   },
   "source": [
    "Finally, the 'triple-quote' notation `\"\"\"` allows us to enter multi-line strings which will have their formatting exactly preserved.  We can use this to write the string from above with no backslashes at all:"
   ]
  },
  {
   "cell_type": "code",
   "execution_count": 22,
   "id": "10dead56-c1cb-4b2a-96d6-8b106b1d384a",
   "metadata": {
    "editable": true,
    "slideshow": {
     "slide_type": ""
    },
    "tags": []
   },
   "outputs": [
    {
     "name": "stdout",
     "output_type": "stream",
     "text": [
      "One string, \n",
      "\n",
      "\n",
      "\n",
      "  with blank lines \"and quotes!\" \n"
     ]
    }
   ],
   "source": [
    "print(\"\"\"One string, \n",
    "\n",
    "\n",
    "\n",
    "  with blank lines \"and quotes!\" \"\"\")"
   ]
  },
  {
   "cell_type": "markdown",
   "id": "a245040a-80e8-4a7f-929e-1551c02c0183",
   "metadata": {
    "editable": true,
    "slideshow": {
     "slide_type": ""
    },
    "tags": []
   },
   "source": [
    "Triple-quotes are also useful as a way to __block comment__, or temporarily remove several lines of code from our code at once.  (Putting code inside of a big string stops the code from being executed, and the string just sort of goes nowhere with no variable assignment.)"
   ]
  },
  {
   "cell_type": "markdown",
   "id": "d0272e77-9737-441a-b71c-849f2c15f229",
   "metadata": {
    "editable": true,
    "slideshow": {
     "slide_type": "slide"
    },
    "tags": []
   },
   "source": [
    "# Tutorial 3: Variables and Strings\n",
    "\n",
    "Let's begin the tutorial!"
   ]
  }
 ],
 "metadata": {
  "kernelspec": {
   "display_name": "Python 3 (ipykernel)",
   "language": "python",
   "name": "python3"
  },
  "language_info": {
   "codemirror_mode": {
    "name": "ipython",
    "version": 3
   },
   "file_extension": ".py",
   "mimetype": "text/x-python",
   "name": "python",
   "nbconvert_exporter": "python",
   "pygments_lexer": "ipython3",
   "version": "3.10.18"
  }
 },
 "nbformat": 4,
 "nbformat_minor": 5
}
