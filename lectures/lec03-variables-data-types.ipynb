{
 "cells": [
  {
   "cell_type": "markdown",
   "id": "9dcdefe1-a21a-45cf-a5be-8b6b1386d1de",
   "metadata": {
    "editable": true,
    "slideshow": {
     "slide_type": "slide"
    },
    "tags": []
   },
   "source": [
    "# Announcements\n",
    "\n",
    "- Homework \\#2 will be posted today, due next **Thursday at noon**.\n",
    "- Tutorial \\#3 due tomorrow at noon\n",
    "- Tutorial \\#4 due Wednesday at noon\n",
    "- **Homework help**: Wednesday 5pm-7pm (Duane G2B90)\n",
    "- My ordering is a little different from Guttag; don't worry about bits of Python syntax in the reading I assigned which we haven't covered yet."
   ]
  },
  {
   "cell_type": "markdown",
   "id": "9916554c-91a0-45d8-ad3f-7ac428765a40",
   "metadata": {
    "editable": true,
    "slideshow": {
     "slide_type": "slide"
    },
    "tags": []
   },
   "source": [
    "# Variables, data types, and string formatting\n",
    "\n",
    "<a href=\"https://commons.wikimedia.org/wiki/File:Pluriarc_-_Kuba,_Zaire_-_Royal_Museum_for_Central_Africa_-_DSC06994.JPG#file\" target=\"_blank\"><img src=\"https://raw.githubusercontent.com/wlough/CU-Phys2600-Fall2025/main/lectures/img/pluriarc.jpg\" width=300px align=\"right\" /></a>\n",
    "\n",
    "## PHYS 2600: Scientific Computing\n",
    "\n",
    "## Lecture 3\n",
    "\n"
   ]
  },
  {
   "cell_type": "markdown",
   "id": "d17786ad-e093-4836-b691-9f7fd6c7a40e",
   "metadata": {
    "editable": true,
    "slideshow": {
     "slide_type": "slide"
    },
    "tags": []
   },
   "source": [
    "## Variables and assignment\n",
    "\n",
    "Last time, we did very simple examples with single math expressions.  To build up complicated programs from simple operations, we save results to a __variable__ using `=`, the assignment operator:\n",
    "\n"
   ]
  },
  {
   "cell_type": "code",
   "execution_count": null,
   "id": "407a1bdc-12d7-40da-9014-426df6fb66d2",
   "metadata": {
    "editable": true,
    "slideshow": {
     "slide_type": ""
    },
    "tags": []
   },
   "outputs": [],
   "source": [
    "x = 4 + 5 + 6\n",
    "print(x)"
   ]
  },
  {
   "cell_type": "markdown",
   "id": "28d66f9c-1a3b-47ca-9c27-068ff2fd8b4f",
   "metadata": {
    "editable": true,
    "slideshow": {
     "slide_type": "fragment"
    },
    "tags": []
   },
   "source": [
    "We can use this to evaluate complicated expressions line by line, storing temporary results as we go:"
   ]
  },
  {
   "cell_type": "code",
   "execution_count": null,
   "id": "eb2837bb-1c36-481d-8a13-3438018a7bb6",
   "metadata": {
    "editable": true,
    "slideshow": {
     "slide_type": ""
    },
    "tags": []
   },
   "outputs": [],
   "source": [
    "y = x + 4\n",
    "z = 3*x + y\n",
    "print(z)"
   ]
  },
  {
   "cell_type": "markdown",
   "id": "edde0b6a-bc83-467b-9219-c9d04cf35f00",
   "metadata": {
    "editable": true,
    "slideshow": {
     "slide_type": "subslide"
    },
    "tags": []
   },
   "source": [
    "It's very important to remember that assignment in Python carries out a very specific set of instructions, and it _does not mean the same thing_ as writing an equation in math class.  When we assign, two things happen __in order__:\n",
    "\n",
    "1. Everything to the _right_ of `=` is evaluated as a statement;\n",
    "2. The result of that statement is saved to the variable name on the _left_ of `=`.\n",
    "\n",
    "The notation for this (assignment) is `=` is *most* languages (but not all languages! For example the R programming language uses the notation `x <- 7`.)"
   ]
  },
  {
   "cell_type": "code",
   "execution_count": null,
   "id": "fbb5866e-eb6e-4d01-b5b7-fa8acd724cc9",
   "metadata": {
    "editable": true,
    "slideshow": {
     "slide_type": ""
    },
    "tags": []
   },
   "outputs": [],
   "source": [
    "x = 7\n",
    "x = x + 4\n",
    "print(x)\n",
    "\n",
    "# y = x assigns the _value_ of x,\n",
    "# so changing y doesn't change x!\n",
    "y = x\n",
    "y = y - 8\n",
    "print(y)\n",
    "print(x)"
   ]
  },
  {
   "cell_type": "markdown",
   "id": "f22e8f4c-0ae3-4e55-aba6-d2d68ca8bf13",
   "metadata": {
    "editable": true,
    "slideshow": {
     "slide_type": "subslide"
    },
    "tags": []
   },
   "source": [
    "There is an amazing website called [Python Tutor](http://www.pythontutor.com/visualize.html#mode=edit) \\(will also be linked from the lecture notes\\), which can visualize the execution of Python code, one step at a time.  If you're stuck trying to figure out some piece of code, using the visualizer can be extremely helpful!\n"
   ]
  },
  {
   "cell_type": "markdown",
   "id": "bacad88f-ed66-4537-abb0-62e08a410629",
   "metadata": {
    "editable": true,
    "slideshow": {
     "slide_type": "fragment"
    },
    "tags": []
   },
   "source": [
    "Here's what the code example from the last slide looks like in the visualizer:\n",
    "\n",
    "<!-- <img src=\"img/python-tutor-demo.gif\" /> -->\n",
    "<img src=\"https://raw.githubusercontent.com/wlough/CU-Phys2600-Fall2025/main/lectures/img/python-tutor-demo.gif\" />\n",
    "\n"
   ]
  },
  {
   "cell_type": "markdown",
   "id": "441fd06e-a385-426e-b641-5bb0972ec648",
   "metadata": {
    "editable": true,
    "slideshow": {
     "slide_type": "fragment"
    },
    "tags": []
   },
   "source": [
    "Notice that `print` does _not_ change anything in the program's memory!  All `print` does is show us (the human) a string.  We can see this explicitly if we try to assign the result of `print` to a variable:"
   ]
  },
  {
   "cell_type": "code",
   "execution_count": null,
   "id": "4b54f1ae-d151-4d23-a437-2f624cb53cb7",
   "metadata": {
    "editable": true,
    "slideshow": {
     "slide_type": ""
    },
    "tags": []
   },
   "outputs": [],
   "source": [
    "z = print(x)\n",
    "print(z)"
   ]
  },
  {
   "cell_type": "markdown",
   "id": "093d5f4a-962b-412e-a6ea-51514fe12730",
   "metadata": {
    "editable": true,
    "slideshow": {
     "slide_type": ""
    },
    "tags": []
   },
   "source": [
    "`z` contains the special `None` literal, which represents the _absence of information_.  "
   ]
  },
  {
   "cell_type": "markdown",
   "id": "e84c4b2f-a2df-4234-85f3-5c43ac53a687",
   "metadata": {
    "editable": true,
    "slideshow": {
     "slide_type": "slide"
    },
    "tags": []
   },
   "source": [
    "## Basic data types\n",
    "\n",
    "All information in Python is _binary_ at the lowest level; 0 and 1 (__bits__.)  Enough bits can represent other forms of information: e.g. `00,01,10,11` for the integers `0,1,2,3`.  But they could also be the letters `A,B,C,D`!\n",
    "\n",
    "To know how to read raw binary data, Python also needs to know what _kind_ of information the binary signal encodes.  The label for this info is called a __type__.  Every Python object has a type, and we can use the function `type()` to check the type of an object:"
   ]
  },
  {
   "cell_type": "code",
   "execution_count": null,
   "id": "6e1fcc35-6309-4077-8ac4-a24aa19b312e",
   "metadata": {
    "editable": true,
    "slideshow": {
     "slide_type": ""
    },
    "tags": []
   },
   "outputs": [],
   "source": [
    "print(type(42))\n",
    "print(type(3.1415))\n",
    "print(type('Physics'))\n",
    "print(type(True))\n",
    "print(type(None))\n"
   ]
  },
  {
   "cell_type": "markdown",
   "id": "10122c4b-5cef-4422-ab85-5a977d8560ba",
   "metadata": {
    "editable": true,
    "slideshow": {
     "slide_type": "fragment"
    },
    "tags": []
   },
   "source": [
    "\"Class\" is a synonym for \"type\" in Python.  Two built-in numeric types are `int` (integer) and `float` (decimal) - there is also `complex`, but we won't use it much.  `str` is the string type, which we saw briefly before. There is also a boolean type `bool` for True/False values, and a `NoneType` for the `None` object."
   ]
  },
  {
   "cell_type": "markdown",
   "id": "c2588847-b617-4a82-9656-006fbe2ad36f",
   "metadata": {
    "editable": true,
    "slideshow": {
     "slide_type": "slide"
    },
    "tags": []
   },
   "source": [
    "## Strings and string formatting\n",
    "\n",
    "Last time, we briefly saw a non-numeric literal type, the __string__.  A string is enclosed in matching double quotes `\"...\"` or single quotes `'...'`.  One common use for strings is to make programs more human-readable:"
   ]
  },
  {
   "cell_type": "code",
   "execution_count": null,
   "id": "3b6c2009-1c68-4aa6-b026-118a460c08be",
   "metadata": {
    "editable": true,
    "slideshow": {
     "slide_type": ""
    },
    "tags": []
   },
   "outputs": [],
   "source": [
    "r = 3 \n",
    "area = 3.1415 * r**2\n",
    "print(\"Area of the circle is:     \",       area,\"  Wow!\")"
   ]
  },
  {
   "cell_type": "markdown",
   "id": "8ce43cca-75dd-4025-908d-1700803210e8",
   "metadata": {
    "editable": true,
    "slideshow": {
     "slide_type": "fragment"
    },
    "tags": []
   },
   "source": [
    "Notice that we gave `print` _multiple things_ this time, and it printed all of them with a little space in between.  The inputs to a function are called __arguments__, and in Python they are always separated with commas.  `print` can take any number of arguments.\n",
    "\n",
    "By default, `area` was printed out with 15 digits after the decimal - way more than we need here!  How do we control that?"
   ]
  },
  {
   "cell_type": "markdown",
   "id": "07942990-fd49-4a20-b006-a6705b52db90",
   "metadata": {
    "editable": true,
    "slideshow": {
     "slide_type": "fragment"
    },
    "tags": []
   },
   "source": [
    "__String formatting__ lets us control how numbers appear inside of strings.  There are several ways to do this in Python - we'll talk about the most modern, called the \"f-string\".\n",
    "\n",
    "To create an f-string, we just prefix any string literal with the letter \"f\":"
   ]
  },
  {
   "cell_type": "code",
   "execution_count": null,
   "id": "8c17da2e-3a0c-4036-8661-fcaa980531af",
   "metadata": {
    "editable": true,
    "slideshow": {
     "slide_type": ""
    },
    "tags": []
   },
   "outputs": [],
   "source": [
    "area_string = f\"Area of the circle is: {area}\"\n",
    "print(area_string)"
   ]
  },
  {
   "cell_type": "markdown",
   "id": "cfbfc0c8-93a2-4ad7-a84e-5231e17cd128",
   "metadata": {
    "editable": true,
    "slideshow": {
     "slide_type": "fragment"
    },
    "tags": []
   },
   "source": [
    "The curly braces tell Python to interpolate the current value of `area`.  To control _how_ the number is formatted, we include a __format code__ as well:"
   ]
  },
  {
   "cell_type": "code",
   "execution_count": null,
   "id": "82a9ac26-beea-475e-a8bf-2322a1e774e5",
   "metadata": {
    "editable": true,
    "slideshow": {
     "slide_type": ""
    },
    "tags": []
   },
   "outputs": [],
   "source": [
    "format_string = f\"Area of the circle is: {area:.2f}\"\n",
    "print(format_string)"
   ]
  },
  {
   "cell_type": "markdown",
   "id": "731c3645-e5c7-4b8a-896b-03e6701ff55a",
   "metadata": {
    "editable": true,
    "slideshow": {
     "slide_type": "subslide"
    },
    "tags": []
   },
   "source": [
    "Format codes follow \"printf\" conventions, named after the old function in the C programming language.  These format codes are powerful and complicated!  Here are the important features you should know.  A few of the most important to memorize are the one-letter codes:\n",
    "\n",
    "- Decimals: `f` = decimal, `e` = scientific notation.\n",
    "- `g` tells Python to choose between `e` and `f` automatically (it will use `e` for very large/very small numbers.)\n",
    "- `d` = integer\n",
    "- `s` = string\n",
    "\n",
    "Numbers before the one-letter code control how many digits appear.  The main use of the numeric code is with decimals: `.#f` or `.#e` prints `#` digits after the decimal point.  `.#g` prints `#` _significant figures_."
   ]
  },
  {
   "cell_type": "code",
   "execution_count": null,
   "id": "09530179-ddcd-4d13-ae3f-761543f08343",
   "metadata": {
    "editable": true,
    "slideshow": {
     "slide_type": ""
    },
    "tags": []
   },
   "outputs": [],
   "source": [
    "pi = 3.1415926535e+00\n",
    "planck = 6.626e-34\n",
    "print(f\"pi with 6 digits after the point, in decimal format: {pi:.6f}\")\n",
    "print(f\"pi with flexible (decimal/scientific) output, 4 sig figs: {pi:.4g}\")\n",
    "print(f\"h with flexible output, 6 sig figs: {planck:.6g}\")"
   ]
  },
  {
   "cell_type": "markdown",
   "id": "77b56d9e-fcea-4663-9a2c-6c47bae7e032",
   "metadata": {
    "editable": true,
    "slideshow": {
     "slide_type": "subslide"
    },
    "tags": []
   },
   "source": [
    "**Zero padding** is a useful f-string feature for formatting integer indices to a fixed width using `:0Wd`, where `W` is the desired index width (number of digits)."
   ]
  },
  {
   "cell_type": "code",
   "execution_count": null,
   "id": "18632d16-dbbb-4ef7-b1da-9cefe6e32a93",
   "metadata": {
    "editable": true,
    "slideshow": {
     "slide_type": ""
    },
    "tags": []
   },
   "outputs": [],
   "source": [
    "image_count = 0\n",
    "image_name = f\"frame_{image_count:05d}.png\"\n",
    "print(image_name)\n",
    "\n",
    "# \"image_count += 1\" is equivalent to \"image_count = image_count + 1\"\n",
    "image_count += 1\n",
    "image_name = f\"frame_{image_count:05d}.png\"\n",
    "print(image_name)\n",
    "\n",
    "image_count += 1\n",
    "image_name = f\"frame_{image_count:05d}.png\"\n",
    "print(image_name)\n",
    "\n",
    "image_count += 10\n",
    "image_name = f\"frame_{image_count:05d}.png\"\n",
    "print(image_name)\n",
    "\n",
    "image_count += 103\n",
    "image_name = f\"frame_{image_count:05d}.png\"\n",
    "print(image_name)"
   ]
  },
  {
   "cell_type": "markdown",
   "id": "d6fecebf-e844-4e68-b61e-f8f040f868f5",
   "metadata": {
    "editable": true,
    "slideshow": {
     "slide_type": "slide"
    },
    "tags": []
   },
   "source": [
    "### Dynamic typing\n",
    "\n",
    "In Python, we can change a variable to a different type easily:"
   ]
  },
  {
   "cell_type": "code",
   "execution_count": null,
   "id": "8ac98434-4ad3-4c52-90d1-86bb8d4d05eb",
   "metadata": {
    "editable": true,
    "slideshow": {
     "slide_type": ""
    },
    "tags": []
   },
   "outputs": [],
   "source": [
    "x = 4\n",
    "print(type(x)) \n",
    "x = 'four'\n",
    "print(type(x))"
   ]
  },
  {
   "cell_type": "markdown",
   "id": "254ea8b0-f31b-41d0-a85e-0c92d89899d1",
   "metadata": {
    "editable": true,
    "slideshow": {
     "slide_type": "fragment"
    },
    "tags": []
   },
   "source": [
    "So `type(x)` has _nothing to do_ with `x` itself; it just tells us about the object `x` is pointing to.  Python variables are __references__ - they exist only to point somewhere else.  \n",
    "\n",
    "In other languages, variables often stake out their own chunks of memory and have their own associated types.  This can give faster performance - static typing is more efficient."
   ]
  },
  {
   "cell_type": "markdown",
   "id": "aaf75c46-9a38-4c5e-84eb-7b251ea97be6",
   "metadata": {
    "editable": true,
    "slideshow": {
     "slide_type": "subslide"
    },
    "tags": []
   },
   "source": [
    "Dynamic typing also lets us easily transfer data from one type of object to another - a process called __type conversion__ or __type casting__.  Casting uses a function associated with the new type we want:"
   ]
  },
  {
   "cell_type": "code",
   "execution_count": null,
   "id": "d1df18a1-e494-479d-b002-79053b96143f",
   "metadata": {
    "editable": true,
    "slideshow": {
     "slide_type": ""
    },
    "tags": []
   },
   "outputs": [],
   "source": [
    "print(float(42))\n",
    "print(int(3.79))\n",
    "print(int('555'))\n",
    "print(bool(0))\n",
    "print(bool(1))\n",
    "print(bool(-2))\n",
    "str(55)"
   ]
  },
  {
   "cell_type": "markdown",
   "id": "addf5162-a613-42e9-8691-820ad84ca98f",
   "metadata": {
    "editable": true,
    "slideshow": {
     "slide_type": "fragment"
    },
    "tags": []
   },
   "source": [
    "Note: casting requires the conversion to make sense!  `int('hello')` will just give you an error.  Also, keep in mind that `int(3.79)` does _not_ round - we can use the built-in `round()` function for that."
   ]
  },
  {
   "cell_type": "markdown",
   "id": "1f874a5d-463b-43e0-8cf0-1499ec513cce",
   "metadata": {
    "editable": true,
    "slideshow": {
     "slide_type": "subslide"
    },
    "tags": []
   },
   "source": [
    "One more feature enabled by types: Python operators are __context-sensitive__.  This means that the same operator can do different things if it's given objects of different types.\n",
    "\n",
    "For example, `+` can add numbers, but it can also \"add\" strings:"
   ]
  },
  {
   "cell_type": "code",
   "execution_count": null,
   "id": "062d2095-229b-4bb8-8469-414bd68cfa27",
   "metadata": {
    "editable": true,
    "slideshow": {
     "slide_type": ""
    },
    "tags": []
   },
   "outputs": [],
   "source": [
    "'2' + '4'"
   ]
  },
  {
   "cell_type": "markdown",
   "id": "bd035b40-2472-45c0-8ba4-07bebb46764d",
   "metadata": {
    "editable": true,
    "slideshow": {
     "slide_type": "fragment"
    },
    "tags": []
   },
   "source": [
    "String addition is concatenation.\n",
    "The `*` operator is also overloaded for strings, and you can probably guess what it does:"
   ]
  },
  {
   "cell_type": "code",
   "execution_count": null,
   "id": "bd07d20b-0648-44c2-ad64-36e46f09b690",
   "metadata": {
    "editable": true,
    "slideshow": {
     "slide_type": ""
    },
    "tags": []
   },
   "outputs": [],
   "source": [
    "'Python' * 3"
   ]
  },
  {
   "cell_type": "markdown",
   "id": "9a8b5897-c8d2-45b6-b0c9-889068c0f189",
   "metadata": {
    "editable": true,
    "slideshow": {
     "slide_type": "slide"
    },
    "tags": []
   },
   "source": [
    "## Operator overloading and dunder methods\n",
    "\n",
    "This behavior is known as __operator overloading__ - the same operator can do more than one thing. Python lets objects define the behaviour of operators which act on them using **dunder methods** (\"double-underscore\" methods). A method is a function (set of instructions) that \"belongs\" to an object's type. Dunder methods are special methods with names like `__something__` that define the behaviour of built-in operations like `*`, `+`, etc...\n"
   ]
  },
  {
   "cell_type": "markdown",
   "id": "c34e6340-3902-42d1-b85e-0631f9aeecc8",
   "metadata": {
    "editable": true,
    "slideshow": {
     "slide_type": "fragment"
    },
    "tags": []
   },
   "source": [
    "Not every operator is overloaded for every type: for example, division `/` doesn't make much sense for strings and you'll get an error if you try."
   ]
  },
  {
   "cell_type": "markdown",
   "id": "47e48f7c-f2ec-4fcd-91b9-59d5d132f83f",
   "metadata": {
    "editable": true,
    "slideshow": {
     "slide_type": "fragment"
    },
    "tags": []
   },
   "source": [
    "Tip: `dir(obj)` and `help(type(obj))` show what a type can do. The output of `dir(3)` or `help(int)` will mostly be gibberish right now, but as we learn more this semester it’ll be useful to revisit.\n",
    "\n",
    "| Operator         | dunder method  |\n",
    "| ---------------- | -------------- |\n",
    "| `+`              | `__add__`      |\n",
    "| `-`              | `__sub__`      |\n",
    "| `*`              | `__mul__`      |\n",
    "| `/`              | `__truediv__`  |\n",
    "| `**`             | `__pow__`      |\n",
    "| `%`              | `__mod__`      |\n",
    "| `//`             | `__floordiv__` |"
   ]
  },
  {
   "cell_type": "code",
   "execution_count": null,
   "id": "0e3124f7-9dc8-4de3-8fe8-da065b709137",
   "metadata": {
    "editable": true,
    "scrolled": true,
    "slideshow": {
     "slide_type": ""
    },
    "tags": []
   },
   "outputs": [],
   "source": [
    "help(int)"
   ]
  },
  {
   "cell_type": "markdown",
   "id": "ae325843-70ed-4222-9df1-17d3cb6396e0",
   "metadata": {
    "editable": true,
    "slideshow": {
     "slide_type": "slide"
    },
    "tags": []
   },
   "source": [
    "### More on strings\n",
    "\n",
    "Before we move on, a couple more things that are useful to know related to working with strings.\n",
    "\n",
    "First, the __escape character__.  An escape character (in Python, the backslash `\\`) changes the behavior of the _next_ character in a string.\n",
    "\n",
    "This has a couple of uses, one of which is encoding [special characters](https://docs.python.org/2.0/ref/strings.html).  Here are some important ones:\n",
    "\n",
    "* `\\n`: Line break\n",
    "* `\\t`: \"Tab\" character"
   ]
  },
  {
   "cell_type": "code",
   "execution_count": null,
   "id": "ad1a64eb-0373-44e2-9538-e4cab873c0a3",
   "metadata": {
    "editable": true,
    "slideshow": {
     "slide_type": ""
    },
    "tags": []
   },
   "outputs": [],
   "source": [
    "print(\"One string,\\n\\tTwo lines!\")"
   ]
  },
  {
   "cell_type": "code",
   "execution_count": null,
   "id": "db2da36a-d9cb-47e2-8fb5-e17e1f6fafaa",
   "metadata": {
    "editable": true,
    "slideshow": {
     "slide_type": ""
    },
    "tags": []
   },
   "outputs": [],
   "source": [
    "print(\"One string,\\n\\tTwo lines, \\\"with quotes!\\\"\")"
   ]
  },
  {
   "cell_type": "markdown",
   "id": "3c8b61b8-3808-4795-8066-de535f7c284d",
   "metadata": {
    "editable": true,
    "slideshow": {
     "slide_type": "fragment"
    },
    "tags": []
   },
   "source": [
    "Finally, the 'triple-quote' notation `\"\"\"` allows us to enter multi-line strings which will have their formatting exactly preserved.  We can use this to write the string from above with no backslashes at all:"
   ]
  },
  {
   "cell_type": "code",
   "execution_count": null,
   "id": "10dead56-c1cb-4b2a-96d6-8b106b1d384a",
   "metadata": {
    "editable": true,
    "slideshow": {
     "slide_type": ""
    },
    "tags": []
   },
   "outputs": [],
   "source": [
    "print(\"\"\"One string, \n",
    "\n",
    "\n",
    "\n",
    "  with blank lines \"and quotes!\" \"\"\")"
   ]
  },
  {
   "cell_type": "markdown",
   "id": "a245040a-80e8-4a7f-929e-1551c02c0183",
   "metadata": {
    "editable": true,
    "slideshow": {
     "slide_type": ""
    },
    "tags": []
   },
   "source": [
    "Triple-quotes are also useful as a way to __block comment__, or temporarily remove several lines of code from our code at once.  (Putting code inside of a big string stops the code from being executed, and the string just sort of goes nowhere with no variable assignment.)"
   ]
  },
  {
   "cell_type": "markdown",
   "id": "d0272e77-9737-441a-b71c-849f2c15f229",
   "metadata": {
    "editable": true,
    "slideshow": {
     "slide_type": "slide"
    },
    "tags": []
   },
   "source": [
    "# Tutorial 3: Variables and Strings\n",
    "\n",
    "Let's begin the tutorial!"
   ]
  }
 ],
 "metadata": {
  "kernelspec": {
   "display_name": "Python 3 (ipykernel)",
   "language": "python",
   "name": "python3"
  },
  "language_info": {
   "codemirror_mode": {
    "name": "ipython",
    "version": 3
   },
   "file_extension": ".py",
   "mimetype": "text/x-python",
   "name": "python",
   "nbconvert_exporter": "python",
   "pygments_lexer": "ipython3",
   "version": "3.13.7"
  }
 },
 "nbformat": 4,
 "nbformat_minor": 5
}
