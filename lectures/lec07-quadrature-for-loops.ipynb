{
 "cells": [
  {
   "cell_type": "markdown",
   "metadata": {
    "editable": true,
    "slideshow": {
     "slide_type": "slide"
    },
    "tags": []
   },
   "source": [
    "## Announcements\n",
    "\n",
    "- Homework 4 will be posted tomorrow\n",
    "- This will be a mini-project building on everything we've learned so far."
   ]
  },
  {
   "cell_type": "markdown",
   "metadata": {
    "editable": true,
    "nbgrader": {
     "grade": false,
     "grade_id": "cell-c410a18bc886326b",
     "locked": true,
     "schema_version": 1,
     "solution": false
    },
    "slideshow": {
     "slide_type": "slide"
    },
    "tags": []
   },
   "source": [
    "# Numerical integration and for loops\n",
    "\n",
    "<!-- <a href=\"https://medium.freecodecamp.org/optimizing-conways-game-of-life-12f1b7f2f54c\" target=\"_blank\"><img src=\"img/game-of-life.jpg\" width=600px /></a> -->\n",
    "<a href=\"https://medium.freecodecamp.org/optimizing-conways-game-of-life-12f1b7f2f54c\" target=\"_blank\"><img src=\"https://raw.githubusercontent.com/wlough/CU-Phys2600-Fall2025/main/lectures/img/game-of-life.jpg\" width=600px /></a>\n",
    "\n",
    "## PHYS 2600: Scientific Computing\n",
    "\n",
    "## Lecture 7"
   ]
  },
  {
   "cell_type": "markdown",
   "metadata": {
    "editable": true,
    "slideshow": {
     "slide_type": "slide"
    },
    "tags": []
   },
   "source": [
    "## Discretization\n",
    "\n",
    "In math, __discrete__ is the opposite of __continuous__; it refers to finite sets of objects that are distinct and well-separated.  Since computers have a finite memory, we typically work with __discretizations__ (discrete approximations).\n",
    "\n",
    "For example, here is a discretization of the continuous interval $[0,1]$, visually and then using `np.linspace`:\n",
    "\n",
    "<!-- <img src=\"img/discrete-01.png\" width=400px /> -->\n",
    "<img src=\"https://raw.githubusercontent.com/wlough/CU-Phys2600-Fall2025/main/lectures/img/discrete-01.png\" width=400px />"
   ]
  },
  {
   "cell_type": "code",
   "execution_count": null,
   "metadata": {
    "slideshow": {
     "slide_type": "fragment"
    }
   },
   "outputs": [],
   "source": [
    "import numpy as np\n",
    "import matplotlib.pyplot as plt\n",
    "\n",
    "np.linspace(0,1,11)"
   ]
  },
  {
   "cell_type": "markdown",
   "metadata": {
    "editable": true,
    "slideshow": {
     "slide_type": "fragment"
    },
    "tags": []
   },
   "source": [
    "(Discrete sets don't have to be evenly spaced, but in this class we'll generally assume they are.  An evenly-spaced discretization is also known as a __grid__, __mesh__, or __lattice__.)"
   ]
  },
  {
   "cell_type": "markdown",
   "metadata": {
    "editable": true,
    "slideshow": {
     "slide_type": "slide"
    },
    "tags": []
   },
   "source": [
    "Discretizing an interval on its own is not very interesting!  But if we have a function $f(x)$, then we can apply it to a discrete domain $\\{x_i\\}$:\n",
    "\n",
    "$$\n",
    "\\{y_0, y_1, ..., y_N\\} = \\{ f(x_0), f(x_1), ..., f(x_N) \\}.\n",
    "$$\n",
    "\n",
    "(This is just a vectorized application of $f(x)$, what NumPy is designed for!)  \n",
    "\n",
    "We can take the _samples_ $\\{y_i\\}$ and use them to do things like plot $y = f(x)$, or compute the integral $\\int f(x) dx$.  "
   ]
  },
  {
   "cell_type": "markdown",
   "metadata": {
    "slideshow": {
     "slide_type": "slide"
    }
   },
   "source": [
    "You've already used discrete intervals to make plots many times:"
   ]
  },
  {
   "cell_type": "code",
   "execution_count": null,
   "metadata": {
    "editable": true,
    "slideshow": {
     "slide_type": "fragment"
    },
    "tags": []
   },
   "outputs": [],
   "source": [
    "x_coarse = np.linspace(0,1,11)\n",
    "x_fine = np.linspace(0,1,200)\n",
    "\n",
    "plt.plot(x_coarse,np.sin(2*np.pi*x_coarse),marker='o')\n",
    "plt.plot(x_fine,np.sin(2*np.pi*x_fine))"
   ]
  },
  {
   "cell_type": "markdown",
   "metadata": {
    "editable": true,
    "slideshow": {
     "slide_type": "slide"
    },
    "tags": []
   },
   "source": [
    "As shown in the plot, one interval has many possible discretizations: _any_ `np.linspace(0,1,N)` represents the interval $[0,1]$ using $N$ points.  The __resolution__ or __grid spacing__ $a$ is determined by $N$:\n",
    "\n",
    "$$\n",
    "a = \\frac{1-0}{N-1} \n",
    "$$\n",
    "\n",
    "or $a = 1/10 = 0.1$ for 11 points, $a \\approx 0.005$ for 200 points.\n",
    "\n",
    "Strictly, to get the right answers we should take the __continuum limit__ $a \\rightarrow 0$.  This gets rid of any effects due to discrete sampling."
   ]
  },
  {
   "cell_type": "markdown",
   "metadata": {
    "editable": true,
    "slideshow": {
     "slide_type": "slide"
    },
    "tags": []
   },
   "source": [
    "We can see the difference between our interpolation of `sin(x)` and the real function by eye; this difference is an example of __discretization error__, which you'll explore more in today's tutorial.\n",
    "\n",
    "The easy way to fix discretization error is just _take more samples_!  (There are real-world problems where the functions are expensive, i.e., they are intensive to compute or come from an experiment, and then we have to work with what we have and understand error carefully.)\n",
    "\n",
    "<!-- <img src=\"img/pixel-mona-lisa.jpg\" width=250px style=\"float:right;\" /> -->\n",
    "<img src=\"https://raw.githubusercontent.com/wlough/CU-Phys2600-Fall2025/main/lectures/img/pixel-mona-lisa.jpg\" width=250px style=\"float:right;\" />\n",
    "\n",
    "Even in pure computing, discretization is sometimes a good trade-off.  The key is always understanding __how much discretization error you can afford to suffer__.  Again, we'll avoid a formal discussion; usually you can figure this out by trial and error."
   ]
  },
  {
   "cell_type": "markdown",
   "metadata": {
    "editable": true,
    "slideshow": {
     "slide_type": "slide"
    },
    "tags": []
   },
   "source": [
    "## Discrete integration = Quadrature\n",
    "\n",
    "Integrals are ubiquitous in physics, but they can be a pain to deal with: even for the ones that _can_ be done analytically, you often have to find just the right set of variable changes to tease out the answer.\n",
    "\n",
    "On the other hand, if we have a discrete representation of a function, it's easy to find the integral numerically!  In fact, [the way integrals are often introduced](https://en.wikipedia.org/wiki/Integral) is starting with a discrete sample of a function, as in this image from Wikipedia.\n",
    "\n",
    "<!-- <img src=\"img/Integral_approximations.png\" width=300px style=\"float:right;\" /> -->\n",
    "<img src=\"https://raw.githubusercontent.com/wlough/CU-Phys2600-Fall2025/main/lectures/img/Integral_approximations.png\" width=300px style=\"float:right;\" />\n",
    "\n",
    "The integral of $f(x)$ is the area under the curve, which is just the sum of the areas of the boxes with side lengths $f(x)$ and $dx$.  We can write a formula following the green boxes:\n",
    "\n",
    "$$\n",
    "\\int f(x) dx \\approx a \\sum_{i=0}^{N-2} f(x_i)\n",
    "$$\n",
    "identifying $dx = a$ for our discrete grid.\n",
    "\n",
    "We can recognize the curve traced by the top of the boxes as an approximation of $f(x)$, but a particularly simple (and not very accurate) one!\n",
    "\n"
   ]
  },
  {
   "cell_type": "markdown",
   "metadata": {
    "editable": true,
    "slideshow": {
     "slide_type": "slide"
    },
    "tags": []
   },
   "source": [
    "<!-- <img src=\"img/trapz.png\" width=500px  style=\"float:right;\" /> -->\n",
    "<img src=\"https://raw.githubusercontent.com/wlough/CU-Phys2600-Fall2025/main/lectures/img/trapz.png\" width=500px  style=\"float:right;\" />\n",
    "\n",
    "\n",
    "We can do better by starting from a linear approximation to $f(x)$.  Now the area under our curve is approximated by _trapezoids_, instead of rectangles.\n",
    "\n",
    "Summing over the area of all the trapezoids, we find that every point $x_i$ appears twice except the endpoints.  Working on a grid, for the full integral we find:\n",
    "\n",
    "$$\n",
    "\\int dx\\ f(x) \\approx a\\frac{y_0+y_1}{2}+a\\frac{y_1+y_2}{2}+\\dots+a\\frac{y_{N-3}+y_{N-2}}{2}+a\\frac{y_{N-2}+y_{N-1}}{2} = \\frac{a}{2} \\left[ y_0 + y_{N-1} + 2 \\sum_{i=1}^{N-2} y_i \\right].\n",
    "$$\n",
    "\n",
    "This is called, unsurprisingly, the __trapezoidal rule__."
   ]
  },
  {
   "cell_type": "markdown",
   "metadata": {
    "editable": true,
    "slideshow": {
     "slide_type": "slide"
    },
    "tags": []
   },
   "source": [
    "## `for` loops and `range(...)`\n",
    "\n",
    "For loops let you **repeat a block of code once for each item** in a sequence (a list, string, NumPy array, or an integer *range*).  \n",
    "In Python we iterate **over items**, not “by index” like in some other languages.\n",
    "\n",
    "**`range` generates integer sequences.** It’s *lazy* in the sense that numbers are produced on demand, rather than computed all at once like how `numpy.arange(..)` does.\n",
    "\n",
    "- `range(stop)` --> `0, 1, 2, ..., stop-1` (half-open interval)\n",
    "- `range(start, stop)` --> `start, ..., stop-1`\n",
    "- `range(start, stop, step)` --> `start, start+step, start+2*step,...` (still half-open interval)\n"
   ]
  },
  {
   "cell_type": "code",
   "execution_count": null,
   "metadata": {
    "editable": true,
    "slideshow": {
     "slide_type": ""
    },
    "tags": []
   },
   "outputs": [],
   "source": [
    "# This is just to visualize different ranges by turning them into lists \n",
    "# in real code you don't usually need list(...)\n",
    "print(f\"range(5)         --> {list(range(5))}\")            # 0 to 4\n",
    "print(f\"range(1, 6)      --> {list(range(1, 6))}\")         # 1 to 5\n",
    "print(f\"range(0, 10, 2)  --> {list(range(0, 10, 2))}\")     # even numbers below 10\n",
    "print(f\"range(10, 0, -3) --> {list(range(10, 0, -3))}\")    # counting down by 3's (stop excluded)"
   ]
  },
  {
   "cell_type": "markdown",
   "metadata": {
    "editable": true,
    "slideshow": {
     "slide_type": "slide"
    },
    "tags": []
   },
   "source": [
    "**Common uses of `for` loops**\n",
    "- *Accumulation:* build a sum/product/array one step at a time.\n",
    "- *Search / argmax:* scan items, remember the “best so far.”\n",
    "\n",
    "For example, we can compute compute the sum\n",
    "\n",
    "$$\n",
    "\\sum_{k=m}^{n}k=m+ (m+1)+\\dots+ n\n",
    "$$\n",
    "\n",
    "using the `my_sum(m, n)` function defined below:"
   ]
  },
  {
   "cell_type": "code",
   "execution_count": null,
   "metadata": {
    "editable": true,
    "slideshow": {
     "slide_type": ""
    },
    "tags": []
   },
   "outputs": [],
   "source": [
    "\n",
    "def my_sum(m, n):\n",
    "    val = m\n",
    "    # Since we already set val=m, we can start our loop at k=m+1\n",
    "    for k in range(m+1, n+1): # m+1 <= k < n+1\n",
    "        val += k\n",
    "    return val\n",
    "\n",
    "print(f\"{my_sum(13, 17)=}\")"
   ]
  },
  {
   "cell_type": "markdown",
   "metadata": {
    "editable": true,
    "slideshow": {
     "slide_type": "slide"
    },
    "tags": []
   },
   "source": [
    "Now, let's use a `for` loop to approximate $\\int_0^{2\\pi}\\sin^2(x) dx$ using trapezoidal-rule quadrature.\n",
    "\n",
    "$$\n",
    "\\int f(x) dx \\approx a\\frac{y_0+y_1}{2}+a\\frac{y_1+y_2}{2}+\\dots+a\\frac{y_{N-3}+y_{N-2}}{2}+a\\frac{y_{N-2}+y_{N-1}}{2}\n",
    "$$"
   ]
  },
  {
   "cell_type": "code",
   "execution_count": null,
   "metadata": {
    "editable": true,
    "slideshow": {
     "slide_type": ""
    },
    "tags": []
   },
   "outputs": [],
   "source": [
    "def f(x):\n",
    "    return np.sin(x)**2\n",
    "\n",
    "N = 10 # number of grid points\n",
    "x_min, x_max = 0, 2*np.pi # interval boundaries\n",
    "a = (x_max-x_min)/(N-1) # grid spacing\n",
    "\n",
    "I = 0\n",
    "for n in range(1, N):\n",
    "    x_n = a*n\n",
    "    x_n_minus_1 = a*(n-1)\n",
    "    y_n = f(x_n)\n",
    "    y_n_minus_1 = f(x_n_minus_1)\n",
    "    I += a*(y_n+y_n_minus_1)/2\n",
    "print(f\"{I=}\")"
   ]
  },
  {
   "cell_type": "markdown",
   "metadata": {
    "editable": true,
    "slideshow": {
     "slide_type": "slide"
    },
    "tags": []
   },
   "source": [
    "### Turning the loop into a reusable function\n",
    "\n",
    "- A `for` loop can live **inside a function**.\n",
    "- In Python, we can **pass a function as an argument** to another function. `my_trapint` takes an integrand `f(x)` and calls it inside the loop.\n",
    "- Reuse: call the same integrator with different functions, intervals, number of grid points without having to repeat code.\n",
    "\n"
   ]
  },
  {
   "cell_type": "code",
   "execution_count": null,
   "metadata": {
    "editable": true,
    "slideshow": {
     "slide_type": ""
    },
    "tags": []
   },
   "outputs": [],
   "source": [
    "\n",
    "def my_trapint(f, x_min, x_max, N):\n",
    "    a = (x_max-x_min)/(N-1)\n",
    "\n",
    "    I = 0\n",
    "    for n in range(1, N):\n",
    "        x_n = a*n\n",
    "        x_n_minus_1 = a*(n-1)\n",
    "        y_n = f(x_n)\n",
    "        y_n_minus_1 = f(x_n_minus_1)\n",
    "        I += a*(y_n+y_n_minus_1)/2\n",
    "    return I\n",
    "\n",
    "def f1(x):\n",
    "    return np.sin(x)**2\n",
    "\n",
    "def f2(x):\n",
    "    return np.cos(5*x)\n",
    "    \n",
    "I1 = my_trapint(f1, 0, 2*np.pi, 10)\n",
    "print(f\"{I1=}\")\n",
    "I2 = my_trapint(f2, -np.pi, np.pi, 30)\n",
    "print(f\"{I2=}\")"
   ]
  },
  {
   "cell_type": "markdown",
   "metadata": {
    "editable": true,
    "slideshow": {
     "slide_type": "slide"
    },
    "tags": []
   },
   "source": [
    "It probably won't surprise you to learn that trapezoidal-rule quadrature is so common that there is already a NumPy function for it:"
   ]
  },
  {
   "cell_type": "code",
   "execution_count": null,
   "metadata": {
    "editable": true,
    "slideshow": {
     "slide_type": "fragment"
    },
    "tags": []
   },
   "outputs": [],
   "source": [
    "# Integral of sin^2(x) from 0 to 2*pi should be pi\n",
    "x_int = np.linspace(0, 2*np.pi, 10)\n",
    "I_trap = np.trapezoid(np.sin(x_int)**2, x=x_int)\n",
    "\n",
    "print(I_trap)\n",
    "print(I_trap - np.pi)"
   ]
  },
  {
   "cell_type": "markdown",
   "metadata": {
    "editable": true,
    "slideshow": {
     "slide_type": "fragment"
    },
    "tags": []
   },
   "source": [
    "`np.trapezoid` figures out the grid spacing from the array `x_int`; we can also just give it the grid spacing using the `dx=` argument.  (You can actually use `np.trapezoid` with non-regular grids as well, using the more general formula; for common applications there's no reason to.)\n",
    "\n",
    "The SciPy module has [lots of additional options for numerical integration](https://docs.scipy.org/doc/scipy/reference/integrate.html), but the differences mostly amount to improving the amount of discretization error.  There's nothing wrong with using a simple approach like `np.trapezoid` until you need something fancier!  (As long as you can make your grid fine enough, `np.trapezoid` will give the same answer as any more complicated integrator.)"
   ]
  },
  {
   "cell_type": "markdown",
   "metadata": {
    "slideshow": {
     "slide_type": "slide"
    }
   },
   "source": [
    "## Setting up numerical integrals\n",
    "\n",
    "Numerical integration is great - it can let us deal with integrals that are difficult to impossible analytically.  But it doesn't free us from __thinking about what we're doing!__\n",
    "\n",
    "In fact, the technique of variable transformation is still crucial even for numerical integrals.  Suppose we're interested in evaluating the following integral:\n",
    "\n",
    "$$\n",
    "\\int_0^\\infty dx \\frac{1}{(e^x+1)^2} =\\ I\n",
    "$$\n",
    "\n",
    "This is an __improper integral__, so how can we possibly deal with it numerically with a finite number of points?  Just as when we do analytic integrals, the best answer is to _transform the variables_ - although our goals are sort of different if we're transforming for a numerical evaluation."
   ]
  },
  {
   "cell_type": "markdown",
   "metadata": {
    "slideshow": {
     "slide_type": "slide"
    }
   },
   "source": [
    "Our goal is to map the infinite interval into a finite one.  In this case, the obvious choice will do that for us: if we take $u = 1/(e^x+1)$, then\n",
    "\n",
    "$$\n",
    "du = -dx \\frac{e^x}{(e^x+1)^2} = dx\\ u^2 (1-1/u)\n",
    "$$\n",
    "\n",
    "$dx\\ u^2$ is just the current integrand, so we have\n",
    "\n",
    "$$\n",
    "I = \\int_{x=0}^{x=\\infty} \\frac{du}{1-1/u}.\n",
    "$$\n",
    "\n",
    "Finally, fixing the limits: we have $x=0 \\rightarrow u=1/2$ and $x=\\infty \\rightarrow u = 0$.  Taking an overall minus sign to flip the limits back to the correct order, we end up with:\n",
    "\n",
    "$$\n",
    "I = \\int_0^{1/2} \\frac{du}{1/u-1}\n",
    "$$\n",
    "\n",
    "\n",
    "\n"
   ]
  },
  {
   "cell_type": "markdown",
   "metadata": {
    "slideshow": {
     "slide_type": "slide"
    }
   },
   "source": [
    "Now we can evaluate our transformed integral numerically, being careful to avoid $u=0$ because of the $1/u$ in the denominator: (if you try this with 0, it will actually still work, but you'll get a warning message.)"
   ]
  },
  {
   "cell_type": "code",
   "execution_count": null,
   "metadata": {
    "editable": true,
    "slideshow": {
     "slide_type": "fragment"
    },
    "tags": []
   },
   "outputs": [],
   "source": [
    "u = np.linspace(1e-16, 0.5, 50)\n",
    "u_integrand = 1/(1/u-1)\n",
    "\n",
    "print(np.trapezoid(u_integrand, x=u))\n",
    "print(-0.5 + np.log(2.0))  # exact answer"
   ]
  },
  {
   "cell_type": "markdown",
   "metadata": {
    "slideshow": {
     "slide_type": "fragment"
    }
   },
   "source": [
    "We'll see some other approaches to improper integrals on the tutorial.\n"
   ]
  },
  {
   "cell_type": "markdown",
   "metadata": {
    "slideshow": {
     "slide_type": "slide"
    }
   },
   "source": [
    "Aside from improper integrals, we also have to worry about __singularities__ - places where the integrand goes to infinity can cause numerical instability.  Integral transforms are the best way to deal with them, typically.\n",
    "\n",
    "All of this extends to higher dimensions; the way you do integrals in 2d or above is more complicated but not any more interesting.  (Exception: when the dimension gets _really_ large, we'll turn to a completely different method - Monte Carlo integration.)"
   ]
  },
  {
   "cell_type": "markdown",
   "metadata": {
    "editable": true,
    "slideshow": {
     "slide_type": "slide"
    },
    "tags": []
   },
   "source": [
    "## Tutorial 7\n",
    "\n",
    "Let's get some hands-on experience - load up `tut07`."
   ]
  }
 ],
 "metadata": {
  "kernelspec": {
   "display_name": "Python 3 (ipykernel)",
   "language": "python",
   "name": "python3"
  },
  "language_info": {
   "codemirror_mode": {
    "name": "ipython",
    "version": 3
   },
   "file_extension": ".py",
   "mimetype": "text/x-python",
   "name": "python",
   "nbconvert_exporter": "python",
   "pygments_lexer": "ipython3",
   "version": "3.13.7"
  }
 },
 "nbformat": 4,
 "nbformat_minor": 4
}
