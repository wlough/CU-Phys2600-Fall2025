{
 "cells": [
  {
   "cell_type": "markdown",
   "metadata": {
    "editable": true,
    "slideshow": {
     "slide_type": "slide"
    },
    "tags": []
   },
   "source": [
    "# Lists and Design Patterns\n",
    "\n",
    "<!-- <a href=\"https://www.flickr.com/photos/marksurman/317846999/in/photostream/\" target=\"_blank\"><img src=\"img/pythons.jpg\" width=500px/></a> -->\n",
    "<a href=\"https://www.flickr.com/photos/marksurman/317846999/in/photostream/\" target=\"_blank\"><img src=\"https://raw.githubusercontent.com/wlough/CU-Phys2600-Fall2025/main/lectures/img/pythons.jpg\" width=500px/></a>\n",
    "\n",
    "## PHYS 2600: Scientific Computing\n",
    "\n",
    "## Lecture 12"
   ]
  },
  {
   "cell_type": "markdown",
   "metadata": {
    "slideshow": {
     "slide_type": "slide"
    }
   },
   "source": [
    "## FAQ: Slicing and Index Notation Review\n",
    "\n",
    "Python lists and NumPy arrays are ordered collections of objects. Objects can be selected from the group using their index. Square brackets `[]` are used for this purpose.\n",
    "\n",
    "The first value in a list has index 0. Negative indices count backwards starting with -1."
   ]
  },
  {
   "cell_type": "code",
   "execution_count": null,
   "metadata": {
    "slideshow": {
     "slide_type": "-"
    }
   },
   "outputs": [],
   "source": [
    "A = [1,2,3,4,5]\n",
    "\n",
    "print(A[0])\n",
    "print(A[-1])"
   ]
  },
  {
   "cell_type": "markdown",
   "metadata": {
    "slideshow": {
     "slide_type": "slide"
    }
   },
   "source": [
    "Using a colon `:` allows for selecting multiple values from a list, and with certain spacing.\n",
    "\n",
    "`i:j:k` starts at index `i`, goes to index `j-1` (NB!), counting by `k`.\n",
    "\n",
    "You can skip any of these options. If skipped, `i` defaults to 0, `j` defaults to the length of the list, and `k` defaults to 1."
   ]
  },
  {
   "cell_type": "code",
   "execution_count": null,
   "metadata": {
    "slideshow": {
     "slide_type": "-"
    }
   },
   "outputs": [],
   "source": [
    "import numpy as np\n",
    "\n",
    "B = np.arange(21)\n",
    "print(B)\n",
    "print(B[1:10])\n",
    "print(B[5:20:3])"
   ]
  },
  {
   "cell_type": "markdown",
   "metadata": {
    "slideshow": {
     "slide_type": "slide"
    }
   },
   "source": [
    "You can update slices of arrays the same way you access them, __using an assignment statement__."
   ]
  },
  {
   "cell_type": "code",
   "execution_count": null,
   "metadata": {
    "slideshow": {
     "slide_type": "-"
    }
   },
   "outputs": [],
   "source": [
    "print(B[::5])                             # accessing the slice doesn't change the values\n",
    "B[::5] = np.array([-5, -4, -3, -2, -1])   # assigning the slice changes the values\n",
    "print(B)\n",
    "B[15:] *= 3                               # updating/assigning the slice changes the values\n",
    "print(B)\n",
    "B[20] = 1000\n",
    "print(B)"
   ]
  },
  {
   "cell_type": "markdown",
   "metadata": {
    "slideshow": {
     "slide_type": "fragment"
    }
   },
   "source": [
    "When you're getting started with slicing and updating arrays, this can be confusing! It's a good habit to check the values of your slices and arrays."
   ]
  },
  {
   "cell_type": "markdown",
   "metadata": {
    "slideshow": {
     "slide_type": "slide"
    }
   },
   "source": [
    "## Lists\n",
    "\n",
    "Arrays are very useful, but they sacrifice _flexibility_ for efficiency by requiring fixed-size chunks of memory and shared object types.  \n",
    "\n",
    "A more versatile data structure, built in to Python, is the __list__.  Lists are ordered collections of Python objects, but they don't have restrictions on size or type.  Lists are created with _square brackets_ `[`,`]`, with the entries separated by commas:"
   ]
  },
  {
   "cell_type": "code",
   "execution_count": null,
   "metadata": {
    "slideshow": {
     "slide_type": "-"
    }
   },
   "outputs": [],
   "source": [
    "L = [37, 11, 19, 4]\n",
    "print(L)"
   ]
  },
  {
   "cell_type": "markdown",
   "metadata": {
    "slideshow": {
     "slide_type": "fragment"
    }
   },
   "source": [
    "A list can have any number of __elements__ when we create it, even zero (the _empty list_, simply written `[]`.)  Note that this finally explains our array syntax: `np.array([...])` is _typecasting_ from a list!\n"
   ]
  },
  {
   "cell_type": "markdown",
   "metadata": {
    "slideshow": {
     "slide_type": "slide"
    }
   },
   "source": [
    "List definitions in Python will _ignore_ both whitespace and trailing commas.  These are both convenient for writing large lists on many lines:"
   ]
  },
  {
   "cell_type": "code",
   "execution_count": null,
   "metadata": {
    "slideshow": {
     "slide_type": "-"
    }
   },
   "outputs": [],
   "source": [
    "multi_line_L = [\n",
    "    93,\n",
    "    22,\n",
    "]"
   ]
  },
  {
   "cell_type": "markdown",
   "metadata": {
    "slideshow": {
     "slide_type": "fragment"
    }
   },
   "source": [
    "The trailing-comma convention makes it easier to come back and add new entries to lists, without forgetting a comma in the middle."
   ]
  },
  {
   "cell_type": "markdown",
   "metadata": {
    "slideshow": {
     "slide_type": "slide"
    }
   },
   "source": [
    "There is __no restriction__ on what type anything in a list is - we can even have even another list!  "
   ]
  },
  {
   "cell_type": "code",
   "execution_count": null,
   "metadata": {
    "scrolled": true,
    "slideshow": {
     "slide_type": "-"
    }
   },
   "outputs": [],
   "source": [
    "L = [101, 'Cake', True, [1,2,3]]\n",
    "print(L[3])\n",
    "print(L[1:3])\n"
   ]
  },
  {
   "cell_type": "markdown",
   "metadata": {
    "slideshow": {
     "slide_type": "fragment"
    }
   },
   "source": [
    "Notice that we can use index notation to get individual entries or slices of a list, just as we learned with arrays.  However, not everything is the same: lists don't support masks or generalized indexing (lists of indices.)\n",
    "\n",
    "Both lists and arrays are examples of a more general kind of object, called a __sequence__ - an ordered collection of data.  Both indexing (e.g., `L[3]` or `L[-1]`) slicing (e.g., `L[3:5]` or `L[::2]`) work with any Python sequence."
   ]
  },
  {
   "cell_type": "markdown",
   "metadata": {
    "slideshow": {
     "slide_type": "slide"
    }
   },
   "source": [
    "In Python , we distinguish the _names_ of variables from the _values_ that they \"point\" to.  You should think of a list as a __list of names__: every element is a variable, which can point at anything (even another list.)\n",
    "\n",
    "<!-- <img src=\"img/lists-1.png\" width=600px /> -->\n",
    "<img src=\"https://raw.githubusercontent.com/wlough/CU-Phys2600-Fall2025/main/lectures/img/lists-1.png\" width=600px />\n",
    "\n",
    "How would we access the elements of the sublist at `L[3]`, say its second element?  "
   ]
  },
  {
   "cell_type": "markdown",
   "metadata": {
    "slideshow": {
     "slide_type": "fragment"
    }
   },
   "source": [
    "It's clear from the structure above: the sublist is called `L[3]`, so its second element is addressed as `L[3][1]`:"
   ]
  },
  {
   "cell_type": "code",
   "execution_count": null,
   "metadata": {
    "slideshow": {
     "slide_type": "-"
    }
   },
   "outputs": [],
   "source": [
    "print(f\"{L[3] = }\")\n",
    "print(f\"{L[3][1] = }\")"
   ]
  },
  {
   "cell_type": "markdown",
   "metadata": {
    "slideshow": {
     "slide_type": "slide"
    }
   },
   "source": [
    "## Design Patterns\n",
    "\n",
    "With arrays, we're accustomed to using vectorized NumPy functions to carry out operations on the entire array at once.  But with lists, we have to do more for ourselves!  Guiding the computer step-by-step through certain operations requires a lateral shift in thinking, especially for new programmers.  \n",
    "\n",
    "__Design patterns__ to the rescue!  A design pattern is like an algorithm, but more abstract: it is a common structure that appears in many different contexts.  Going back to the cooking analogy, a skill like dicing a vegetable is like a design pattern - knowing how to do it enables many different recipes.  (Below, a _mirepoix_ for French cooking and a _salsa fresca_ for Mexican cooking.  The techniques are the same but the final dishes are different!)\n",
    "\n",
    "<!-- <img src=\"img/mirepoix.jpg\" width=400px style=\"float:left;margin:20px\" />\n",
    "<img src=\"img/pico_de_gallo.jpg\" width=400px style=\"float:right;margin:20px\" /> -->\n",
    "<img src=\"https://raw.githubusercontent.com/wlough/CU-Phys2600-Fall2025/main/lectures/img/mirepoix.jpg\" width=400px style=\"float:left;margin:20px\" />\n",
    "<img src=\"https://raw.githubusercontent.com/wlough/CU-Phys2600-Fall2025/main/lectures/img/pico_de_gallo.jpg\" width=400px style=\"float:right;margin:20px\" />\n"
   ]
  },
  {
   "cell_type": "markdown",
   "metadata": {
    "slideshow": {
     "slide_type": "slide"
    }
   },
   "source": [
    "Suppose we want to run through an entire list and do something involving each element, one at a time.  We can use a `while` loop like this:"
   ]
  },
  {
   "cell_type": "code",
   "execution_count": null,
   "metadata": {
    "scrolled": true,
    "slideshow": {
     "slide_type": "-"
    }
   },
   "outputs": [],
   "source": [
    "i=0\n",
    "while i < len(L):\n",
    "    print(f\"L[{i}] = {L[i]}\")\n",
    "    i += 1"
   ]
  },
  {
   "cell_type": "markdown",
   "metadata": {
    "slideshow": {
     "slide_type": "fragment"
    }
   },
   "source": [
    "This is an example of the __iterator__ design pattern - a fundamental and important pattern for lists!  This makes use of an __index__ or __counter__ variable, `i`, which keeps track of the current position in the list `L` as we run through it.  Here we're just printing, but if we wanted to do another operation, the way we setup and use `i` would be the same.\n",
    "\n",
    "Note that we've defined by hand the starting point `i=0`, the ending point `i<len(L)`, and the increment `i+=1`.  Follow through the code in your head or with the Python Tutor, you should be able to see how it steps through the entire list `L`!\n",
    "\n",
    "In fact, iterating through a list is _so_ common that Python provides us with a built-in shortcut: the `for` loop."
   ]
  },
  {
   "cell_type": "markdown",
   "metadata": {
    "slideshow": {
     "slide_type": "slide"
    }
   },
   "source": [
    "## 'For' loops\n",
    "\n",
    "The `for` loop can be thought of as shorthand for the `while` loop that we just saw.  Let's see exactly the same program from above using `for`:"
   ]
  },
  {
   "cell_type": "code",
   "execution_count": null,
   "metadata": {
    "editable": true,
    "slideshow": {
     "slide_type": "-"
    },
    "tags": []
   },
   "outputs": [],
   "source": [
    "for elem in L:   # Loop over elements of L, using temporary name elem\n",
    "    print(f\"{elem = }\")\n",
    "# Loop terminates when it runs out of list elements.    \n",
    "\n",
    "print(f\"After for loop: {elem =}\")  # No local scope, like while."
   ]
  },
  {
   "cell_type": "markdown",
   "metadata": {
    "slideshow": {
     "slide_type": "fragment"
    }
   },
   "source": [
    "From five lines of code down to two, compared to the `while` version!  (And no risk of infinite loops, since `for` stops automatically.)"
   ]
  },
  {
   "cell_type": "markdown",
   "metadata": {
    "editable": true,
    "slideshow": {
     "slide_type": "slide"
    },
    "tags": []
   },
   "source": [
    "In Python, `for` iterates over the elements of a list directly, without a 'counter' variable like `i` above.  This is usually convenient and clean, but sometimes we _want_ to use a counter variable. We have a few different options that let us mix and match `for` with counter variables."
   ]
  },
  {
   "cell_type": "markdown",
   "metadata": {
    "editable": true,
    "slideshow": {
     "slide_type": "fragment"
    },
    "tags": []
   },
   "source": [
    "A list of counter values:"
   ]
  },
  {
   "cell_type": "code",
   "execution_count": null,
   "metadata": {
    "editable": true,
    "slideshow": {
     "slide_type": ""
    },
    "tags": []
   },
   "outputs": [],
   "source": [
    "for i in [0, 1, 2, 3]:\n",
    "    print(f\"{i = },   L[{i}] = {L[i]}\")"
   ]
  },
  {
   "cell_type": "markdown",
   "metadata": {
    "editable": true,
    "slideshow": {
     "slide_type": "fragment"
    },
    "tags": []
   },
   "source": [
    "The built-in `range` function:"
   ]
  },
  {
   "cell_type": "code",
   "execution_count": null,
   "metadata": {
    "editable": true,
    "slideshow": {
     "slide_type": ""
    },
    "tags": []
   },
   "outputs": [],
   "source": [
    "for i in range(0,3,2):  # Range arguments: ([start=0], stop, [step=1])\n",
    "    print(f\"{i = },   L[{i}] = {L[i]}\")"
   ]
  },
  {
   "cell_type": "markdown",
   "metadata": {
    "editable": true,
    "slideshow": {
     "slide_type": "fragment"
    },
    "tags": []
   },
   "source": [
    "The built-in `enumerate` function:"
   ]
  },
  {
   "cell_type": "code",
   "execution_count": null,
   "metadata": {
    "editable": true,
    "slideshow": {
     "slide_type": ""
    },
    "tags": []
   },
   "outputs": [],
   "source": [
    "for i, elem  in enumerate(L):\n",
    "    print(f\"{i = },   {elem = }\")"
   ]
  },
  {
   "cell_type": "markdown",
   "metadata": {
    "editable": true,
    "slideshow": {
     "slide_type": "slide"
    },
    "tags": []
   },
   "source": [
    "A quick side note: `range` is actually _its own type of object!_"
   ]
  },
  {
   "cell_type": "code",
   "execution_count": null,
   "metadata": {
    "editable": true,
    "slideshow": {
     "slide_type": ""
    },
    "tags": []
   },
   "outputs": [],
   "source": [
    "print(range(4), type(range(4)))\n",
    "print(range(4)[2])\n",
    "print(list(range(4)))  # Type-casting can give us a regular list from range"
   ]
  },
  {
   "cell_type": "markdown",
   "metadata": {
    "editable": true,
    "slideshow": {
     "slide_type": "fragment"
    },
    "tags": []
   },
   "source": [
    "__Why this funny distinction?__  `range` is what is known as a __lazy__ object: instead of creating a (potentially huge) list all at once in memory, it stores just enough information to produce the numbers in the sequence _one at a time_.\n",
    "\n",
    "A somewhat common bug is forgetting that `range` isn't a list!  If you need it to behave like one, just typecast it as above."
   ]
  },
  {
   "cell_type": "markdown",
   "metadata": {
    "editable": true,
    "slideshow": {
     "slide_type": "slide"
    },
    "tags": []
   },
   "source": [
    "## Modifying lists\n",
    "\n",
    "Because a list is made of names and is _not_ a fixed chunk of memory, they can behave very differently from arrays.  In particular, we can do various operations that __change the length of a list__.\n",
    "\n",
    "The `+` operator is overloaded for lists, meaning \"join two lists together\":"
   ]
  },
  {
   "cell_type": "code",
   "execution_count": null,
   "metadata": {},
   "outputs": [],
   "source": [
    "L2 = L + ['banana']\n",
    "print(L2)"
   ]
  },
  {
   "cell_type": "markdown",
   "metadata": {
    "editable": true,
    "slideshow": {
     "slide_type": "fragment"
    },
    "tags": []
   },
   "source": [
    "Note that we can only add __two lists__ in this way, which is why the new entry has to be in its own (length-one) list.  Trying to add a single object to a list is a syntax error:"
   ]
  },
  {
   "cell_type": "code",
   "execution_count": null,
   "metadata": {},
   "outputs": [],
   "source": [
    "L + 'banana'"
   ]
  },
  {
   "cell_type": "markdown",
   "metadata": {
    "editable": true,
    "slideshow": {
     "slide_type": "slide"
    },
    "tags": []
   },
   "source": [
    "Alternatively, we can use the pair of functions `.append()` and `.extend()`.  Unlike the `len()` function we saw above, these two are __methods__ associated with the `list` type, so we call them with the __dot notation__ we've met before:"
   ]
  },
  {
   "cell_type": "code",
   "execution_count": null,
   "metadata": {
    "editable": true,
    "slideshow": {
     "slide_type": ""
    },
    "tags": []
   },
   "outputs": [],
   "source": [
    "print(L)\n",
    "L.append('banana')\n",
    "print(L)\n",
    "L.extend(['orange','apple'])\n",
    "print(L)"
   ]
  },
  {
   "cell_type": "markdown",
   "metadata": {
    "slideshow": {
     "slide_type": "fragment"
    }
   },
   "source": [
    "`extend()` always needs a list; it combines lists like `+` does.  We could pass a list to `append()`, too; it ends up as a sub-list inside our outer list."
   ]
  },
  {
   "cell_type": "code",
   "execution_count": null,
   "metadata": {
    "editable": true,
    "slideshow": {
     "slide_type": ""
    },
    "tags": []
   },
   "outputs": [],
   "source": [
    "L.append(['list', 'in', 'your', 'list'])\n",
    "print(L)"
   ]
  },
  {
   "cell_type": "markdown",
   "metadata": {
    "slideshow": {
     "slide_type": "slide"
    }
   },
   "source": [
    "Notice that `append()` and `extend()` __act on the list directly__ - we don't have to assign them, i.e. with `L = L.append()`.  In fact, doing so will destroy your whole list!  (These methods operate by _side effect_, directly modifying the list and returning the `None` object.)"
   ]
  },
  {
   "cell_type": "code",
   "execution_count": null,
   "metadata": {
    "editable": true,
    "slideshow": {
     "slide_type": ""
    },
    "tags": []
   },
   "outputs": [],
   "source": [
    "not_L = L.append('xyz')\n",
    "print(not_L)\n",
    "print(L)"
   ]
  },
  {
   "cell_type": "markdown",
   "metadata": {
    "editable": true,
    "slideshow": {
     "slide_type": "fragment"
    },
    "tags": []
   },
   "source": [
    "This is a common mistake to watch out for with lists in Python: __don't assign back to the list when using `append` or `extend`!__  This is _exactly opposite_ how `np.append()` works, producing a new array.\n",
    "\n",
    "Why do these functions work in this funny way?  They are actually taking advantage of __mutation__ - they change the list that the name `L` is pointing to directly.  (We saw mutation briefly in the context of arrays; we'll explore it a bit more later.)"
   ]
  },
  {
   "cell_type": "markdown",
   "metadata": {
    "slideshow": {
     "slide_type": "slide"
    }
   },
   "source": [
    "Our list is getting a little long - fortunately, we can remove items as well as adding them:"
   ]
  },
  {
   "cell_type": "code",
   "execution_count": null,
   "metadata": {
    "editable": true,
    "slideshow": {
     "slide_type": ""
    },
    "tags": []
   },
   "outputs": [],
   "source": [
    "print(L)\n",
    "print(L[3])\n",
    "del L[3]\n",
    "print(L)\n",
    "print(L[3])"
   ]
  },
  {
   "cell_type": "markdown",
   "metadata": {
    "editable": true,
    "slideshow": {
     "slide_type": "fragment"
    },
    "tags": []
   },
   "source": [
    "This introduces another new keyword, `del`, which is used to completely delete a variable name; when we do this to a list, the indices are shifted properly so the index always runs contiguously from `0` to `len(L)`.\n",
    "\n",
    "Note that `del` is a general keyword in Python, not limited to list elements - it can delete anything (`del L` will delete the whole list!)"
   ]
  },
  {
   "cell_type": "markdown",
   "metadata": {
    "editable": true,
    "slideshow": {
     "slide_type": "slide"
    },
    "tags": []
   },
   "source": [
    "## Tutorial 12\n",
    "\n",
    "Tutorial time!\n",
    "\n",
    "## Additional reading\n",
    "\n",
    "Here is a [brief write-up with examples](https://www.w3schools.com/python/python_lists.asp) going over all of the various built-in list functions in Python.  (Many of these have mostly niche applications, at least for what we'll be doing, but it's a good reference to have available.)"
   ]
  }
 ],
 "metadata": {
  "kernelspec": {
   "display_name": "Python 3 (ipykernel)",
   "language": "python",
   "name": "python3"
  },
  "language_info": {
   "codemirror_mode": {
    "name": "ipython",
    "version": 3
   },
   "file_extension": ".py",
   "mimetype": "text/x-python",
   "name": "python",
   "nbconvert_exporter": "python",
   "pygments_lexer": "ipython3",
   "version": "3.13.7"
  }
 },
 "nbformat": 4,
 "nbformat_minor": 4
}
