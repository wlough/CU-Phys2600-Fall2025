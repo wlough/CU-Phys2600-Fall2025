{
 "cells": [
  {
   "cell_type": "markdown",
   "metadata": {},
   "source": [
    "# Announcements\n",
    "\n",
    "- Homework 6 due Thursday 10/2 at 12pm"
   ]
  },
  {
   "cell_type": "markdown",
   "metadata": {
    "slideshow": {
     "slide_type": "slide"
    }
   },
   "source": [
    "# Testing and Debugging\n",
    "\n",
    "<!-- <a href=\"https://xkcd.com/1316/\" target=\"_blank\"><img src=\"img/inexplicable.png\" /></a> -->\n",
    "<a href=\"https://xkcd.com/1316/\" target=\"_blank\"><img src=\"https://raw.githubusercontent.com/wlough/CU-Phys2600-Fall2025/main/lectures/img/inexplicable.png\" /></a>\n",
    "\n",
    "## PHYS 2600: Scientific Computing\n",
    "\n",
    "## Lecture 11"
   ]
  },
  {
   "cell_type": "markdown",
   "metadata": {
    "slideshow": {
     "slide_type": "slide"
    }
   },
   "source": [
    "## FAQ: assert\n",
    "\n",
    "Python has a built in `assert` keyword that can be used for testing (there are a lot of these to check your work in tutorials and homeworks).\n",
    "\n",
    "`assert` asks for a boolean (`True` or `False`) value. It does nothing if the statement is true and produces an error that stops the code if it is false.\n"
   ]
  },
  {
   "cell_type": "code",
   "execution_count": null,
   "metadata": {
    "slideshow": {
     "slide_type": "fragment"
    }
   },
   "outputs": [],
   "source": [
    "assert True\n",
    "print(\"the code is still running\")\n",
    "assert False\n",
    "print(\"this will not print\")"
   ]
  },
  {
   "cell_type": "markdown",
   "metadata": {
    "slideshow": {
     "slide_type": "slide"
    }
   },
   "source": [
    "`assert` can be used in the same way with equality statements."
   ]
  },
  {
   "cell_type": "code",
   "execution_count": null,
   "metadata": {
    "slideshow": {
     "slide_type": "fragment"
    }
   },
   "outputs": [],
   "source": [
    "print(1 == 1)\n",
    "assert 1 == 1"
   ]
  },
  {
   "cell_type": "markdown",
   "metadata": {
    "slideshow": {
     "slide_type": "slide"
    }
   },
   "source": [
    "`assert` can very useful if you want to prevent unexpected results in your code, and instead rase an error."
   ]
  },
  {
   "cell_type": "code",
   "execution_count": null,
   "metadata": {
    "scrolled": true,
    "slideshow": {
     "slide_type": "fragment"
    }
   },
   "outputs": [],
   "source": [
    "import numpy as np\n",
    "\n",
    "\n",
    "def squareroot(x):\n",
    "    assert x >= 0\n",
    "    return np.sqrt(x)\n",
    "\n",
    "\n",
    "print(squareroot(10))\n",
    "print(squareroot(-1))"
   ]
  },
  {
   "cell_type": "markdown",
   "metadata": {
    "slideshow": {
     "slide_type": "slide"
    }
   },
   "source": [
    "## FAQ: NumPy logical operators\n",
    "\n",
    "We can do logical operations on arrays. The functions np.logical_or(), np.logical_and(), etc. take NumPy Boolean arrays as input and perform the logical operation *element wise*."
   ]
  },
  {
   "cell_type": "code",
   "execution_count": null,
   "metadata": {
    "slideshow": {
     "slide_type": "fragment"
    }
   },
   "outputs": [],
   "source": [
    "bools = np.array([True, False])\n",
    "bools2 = np.array([False, True])\n",
    "print(np.logical_and(bools, bools2))\n",
    "print(np.logical_or(bools, bools2))\n",
    "print(np.logical_not(bools))"
   ]
  },
  {
   "cell_type": "markdown",
   "metadata": {
    "slideshow": {
     "slide_type": "slide"
    }
   },
   "source": [
    "## Programming with intent\n",
    "\n",
    "Our subjects today are _testing_ and _debugging_, two important programming skills.  These are both tools which serve a larger purpose: making sure the __result__ of a computer program matches our __intent__.  (As you've seen many times, since computers are very literal, this is not always an easy problem!)\n",
    "\n",
    "There are three key steps in what I like to call \"__programming with intent__\":\n",
    "\n",
    "1. __Document your code__, to make it clear to anyone reading it what it is _supposed_ to do.\n",
    "2. __Clean up your code__, so that the steps your code takes are clear and divided into understandable parts.\n",
    "3. __Test your code__, to make sure it _actually_ does what you intend it to do.\n",
    "\n"
   ]
  },
  {
   "cell_type": "markdown",
   "metadata": {
    "slideshow": {
     "slide_type": "slide"
    }
   },
   "source": [
    "<!-- <img src=\"img/spock-spock.png\" style=\"float:right;\" /> -->\n",
    "\n",
    "On tutorials and homework, and just in general, we tend to emphasize the third step, __testing__ - the results matter most.  But the first two steps are more important in helping you get to working code in the first place, and helping you _keep it working_ when you make changes!\n",
    "\n",
    "(Remember, your most important collaborator is yourself!)"
   ]
  },
  {
   "cell_type": "markdown",
   "metadata": {
    "slideshow": {
     "slide_type": "slide"
    }
   },
   "source": [
    "## 0. Wait, what is my intent again?!\n",
    "\n",
    "This whole lecture is about the process of _writing code_ and _fixing mistakes_ to make it operational, but there is an important \"step 0\": knowing what your intent is!  I've seen many students get stuck at the start of some computing problem, and react by either freezing up (_bad_) or just writing code before they know what it's really supposed to do (_very bad!_)\n",
    "\n",
    "The key to figuring this out is to __start broadly.__  Begin with the _abstract_ intent: what problem are you trying to solve?  What are the inputs to your program, and what should the outputs be?  Then __dig into specific intents__: how do I find the solution to this equation?  Which algorithm am I going to use for this problem?  What should I call this variable?\n",
    "\n"
   ]
  },
  {
   "cell_type": "markdown",
   "metadata": {
    "slideshow": {
     "slide_type": "slide"
    }
   },
   "source": [
    "Going back to the cooking analogy: unless you're a very experienced cook, and even then if you're making something brand new to you, you probably want to start with a recipe!  Similarly, if you don't know how to accomplish some task in computing, __try to find an algorithm__ for it.  \n",
    "\n",
    "In fact, there are entire \"cookbooks\" of algorithms specific to Python, like the [Python Cookbook](https://www.dabeaz.com/cookbook.html).  But your first stop can always be a search engine, or the class notes/tutorials and the textbooks."
   ]
  },
  {
   "cell_type": "markdown",
   "metadata": {
    "slideshow": {
     "slide_type": "slide"
    }
   },
   "source": [
    "## 1. Documenting your code\n",
    "\n",
    "Some simple rules for good documentation:\n",
    "\n",
    "1. __Write documentation first!__  As noted, banging out a bunch of Python and _then_ trying to decide what it's supposed to do is a recipe for disaster.\n",
    "2. __Use docstrings__ to outline the intent of your functions.  \n",
    "3. __Use comments__ to describe key steps in your algorithm, or to clarify bits of code that aren't easily human-readable."
   ]
  },
  {
   "cell_type": "markdown",
   "metadata": {
    "slideshow": {
     "slide_type": "fragment"
    }
   },
   "source": [
    "It's often a great idea to write a detailed docstring/comments _first_, and then code to them.  In particular, __using comments to write out your algorithm, broken into steps__ will result in clear, digestible code which is broken up similarly.  (I do this myself frequently, with any algorithm that I'm not already deeply familiar with.) \n",
    "\n",
    "Don't forget that __good variable names__ count as documentation, too!  Single letters are okay sometimes, when the context is clear (e.g. physics variables like `F` for force), but don't be afraid to use long, descriptive variable names - you can always copy/paste!"
   ]
  },
  {
   "cell_type": "markdown",
   "metadata": {
    "slideshow": {
     "slide_type": "slide"
    }
   },
   "source": [
    "To provide a way to see what a function does without resorting to reading the code line by line, Python supports something called a __docstring__.  (This is what `?` in Jupyter shows you!)  __A docstring appears as the first statement in a function__, which should be a string, usually assigned with `\"\"\"`."
   ]
  },
  {
   "cell_type": "code",
   "execution_count": null,
   "metadata": {
    "slideshow": {
     "slide_type": "fragment"
    }
   },
   "outputs": [],
   "source": [
    "def repeat(x):\n",
    "    \"\"\"\n",
    "    Prints whatever is passed to it, twice in a row.\n",
    "\n",
    "    Example:\n",
    "        >>> repeat('Hello!')\n",
    "        Hello!\n",
    "        Hello!\n",
    "\n",
    "    Args:\n",
    "        x: object to be printed.\n",
    "\n",
    "    Returns:\n",
    "        Nothing.\n",
    "    \"\"\"\n",
    "    print(x)\n",
    "    print(x)"
   ]
  },
  {
   "cell_type": "markdown",
   "metadata": {
    "slideshow": {
     "slide_type": "slide"
    }
   },
   "source": [
    "Now we can use `?` to see the docstring we just wrote:"
   ]
  },
  {
   "cell_type": "code",
   "execution_count": null,
   "metadata": {
    "slideshow": {
     "slide_type": "fragment"
    }
   },
   "outputs": [],
   "source": [
    "?repeat"
   ]
  },
  {
   "cell_type": "markdown",
   "metadata": {
    "slideshow": {
     "slide_type": "fragment"
    }
   },
   "source": [
    "Notice that the call signature is visible by default, so __you don't need to include the signature in the docstring.__  But in general, the docstring can contain whatever you want, although there are some common conventions for style.  Our example follows the [Google docstring style](https://google.github.io/styleguide/pyguide.html)."
   ]
  },
  {
   "cell_type": "markdown",
   "metadata": {
    "slideshow": {
     "slide_type": "slide"
    }
   },
   "source": [
    "Documentation is good, but beware the trap of _over-documentation:_ don't comment things that are obvious,"
   ]
  },
  {
   "cell_type": "code",
   "execution_count": null,
   "metadata": {
    "slideshow": {
     "slide_type": "fragment"
    }
   },
   "outputs": [],
   "source": [
    "x = 2 + 4  # Add 2 and 4, store to x"
   ]
  },
  {
   "cell_type": "markdown",
   "metadata": {
    "slideshow": {
     "slide_type": "fragment"
    }
   },
   "source": [
    "Intent-free comments like this are not only useless, they can be dangerously misleading!  (A comment that mimics exactly the syntax of some bit of code is either redundant information, or a lie...)"
   ]
  },
  {
   "cell_type": "code",
   "execution_count": null,
   "metadata": {
    "slideshow": {
     "slide_type": "fragment"
    }
   },
   "outputs": [],
   "source": [
    "import math\n",
    "\n",
    "# Compute torque from F and r, assuming 90-degree angle\n",
    "r = 2  # m\n",
    "F = 10  # N\n",
    "torque = r * F * math.sin(45)  ## Oops, that's not 90 degrees!"
   ]
  },
  {
   "cell_type": "markdown",
   "metadata": {
    "slideshow": {
     "slide_type": "slide"
    }
   },
   "source": [
    "For a beginner, __more comments are probably better than less__, especially if you're writing comments first and then coding to them.  If you start with very detailed comments, you can treat them like a scaffolding, and _delete them once the code is written and clear._"
   ]
  },
  {
   "cell_type": "code",
   "execution_count": null,
   "metadata": {
    "slideshow": {
     "slide_type": "fragment"
    }
   },
   "outputs": [],
   "source": [
    "## This code is over-commented!\n",
    "def one_is_odd(x, y):  ## Version of the function that enumerates every possible case\n",
    "    if x % 2 != 0:  ## x is odd\n",
    "        if y % 2 != 0:  ## y is odd\n",
    "            return False  ## Return False because both are odd\n",
    "        else:  ## y is even\n",
    "            return True  ## Return True because only x is odd\n",
    "    else:  ## x is even\n",
    "        if y % 2 != 0:  ## y is odd\n",
    "            return True  ## Return True because only y is odd\n",
    "        else:  ## y is even\n",
    "            return False  ## Return False because neither is odd"
   ]
  },
  {
   "cell_type": "markdown",
   "metadata": {
    "slideshow": {
     "slide_type": "slide"
    }
   },
   "source": [
    "## 2. Clean code\n",
    "\n",
    "\"__Clean code__\" is more subjective; as you learn more Python, what looks \"clean\" to you will expand.  Especially as a beginner, it's cleanest to __break code into distinct and clear steps.__"
   ]
  },
  {
   "cell_type": "code",
   "execution_count": null,
   "metadata": {
    "slideshow": {
     "slide_type": "fragment"
    }
   },
   "outputs": [],
   "source": [
    "## Not so clean...\n",
    "m, g = 2.5, 9.8\n",
    "a = (\n",
    "    m * g * math.sin(30 * math.pi / 180) - 0.4 * m * g * math.cos(30 * math.pi / 180)\n",
    ") / m\n",
    "print(a)"
   ]
  },
  {
   "cell_type": "markdown",
   "metadata": {
    "slideshow": {
     "slide_type": "slide"
    }
   },
   "source": [
    "Generically, a \"clean\" version of this probably has more descriptive comments, better variable names, and breaks the steps apart:"
   ]
  },
  {
   "cell_type": "code",
   "execution_count": null,
   "metadata": {
    "slideshow": {
     "slide_type": "fragment"
    }
   },
   "outputs": [],
   "source": [
    "## Cleaner!\n",
    "m = 2.5  # kg\n",
    "g = 9.8  # gravitational acceleration, m/s^2\n",
    "theta = 30 * math.pi / 180  # degrees --> radians\n",
    "mu_K = 0.4  # kinetic friction\n",
    "\n",
    "# Computing net force for a block down an inclined ramp\n",
    "F_g = m * g * math.sin(theta)\n",
    "F_friction = mu_K * m * g * math.cos(theta)\n",
    "\n",
    "F_net = F_g - F_friction\n",
    "a = F_net / m\n",
    "print(a)"
   ]
  },
  {
   "cell_type": "markdown",
   "metadata": {
    "slideshow": {
     "slide_type": "fragment"
    }
   },
   "source": [
    "Isn't clean code the opposite of compact code that I talked about last time?\n",
    "\n",
    "Yes, it can be. There's a balance between compactness and cleanliness that's a judgement call. You'll develop preferences with experience."
   ]
  },
  {
   "cell_type": "markdown",
   "metadata": {
    "slideshow": {
     "slide_type": "slide"
    }
   },
   "source": [
    "## 3. Testing your code\n",
    "\n",
    "\n",
    "There is no substitute for testing, if you want your code to be right!  A __test__ simply consists of executing our code, and verifying that it does what we expect.  (Often tests include extra code, like added `print` statements to reveal what's happening in the program.)\n",
    "\n",
    "Much like documentation, you will get better results if you __think about tests early and often__, even before you write any code!  Strict enforcement of this rule is a programming practice known as __test-driven development__, or \"TDD\". (In fact, since I give tests with most tutorials and homework, you've been doing TDD in this class so far!)\n",
    "\n",
    "If your program passes all the tests you've written down, does that guarantee that it's 100% correct?  "
   ]
  },
  {
   "cell_type": "markdown",
   "metadata": {
    "slideshow": {
     "slide_type": "slide"
    }
   },
   "source": [
    "__Of course not!__  The tests only verify that it works _for all of the test cases you've thought of._  \n",
    "\n",
    "There are many types of software tests: if we were writing a video game, for example, we might use _interface tests_ to make sure our game client works correctly with our central server, or a _beta test_ to get feedback about the overall user experience in the game.  But for scientific programming, small tests of single functions or bits of code - \"__unit tests__\" - are most useful.  We can divide unit tests into \"black box\" and \"glass box\" tests."
   ]
  },
  {
   "cell_type": "markdown",
   "metadata": {
    "slideshow": {
     "slide_type": "slide"
    }
   },
   "source": [
    "<!-- <img src=\"img/cat_black_box.jpg\" width=300px style=\"float:right;margin:20px;\" /> -->\n",
    "<img src=\"https://raw.githubusercontent.com/wlough/CU-Phys2600-Fall2025/main/lectures/img/cat_black_box.jpg\" width=300px style=\"float:right;margin:20px;\" />\n",
    "\n",
    "\n",
    "A __black-box test__ of a function ignores the internal structure completely: it takes a certain set of _inputs_, and verifies that the _outputs_ we get back are correct.\n",
    "\n",
    "(_Important note:_ you should know what output you expect __before__ you run the code, or else you're just testing code against itself...)"
   ]
  },
  {
   "cell_type": "code",
   "execution_count": null,
   "metadata": {
    "slideshow": {
     "slide_type": "fragment"
    }
   },
   "outputs": [],
   "source": [
    "# \"sum\" should add up everything in the array.  We expect 1+2+5 = 8.\n",
    "print(np.sum(np.array([1, 2, 5])))"
   ]
  },
  {
   "cell_type": "markdown",
   "metadata": {
    "slideshow": {
     "slide_type": "fragment"
    }
   },
   "source": [
    "We use `print` to show us the result from `np.sum`, which we can then compare to what we expect (8).  __This is a perfectly valid black-box test!__  \n",
    "\n",
    "Using `print` with tests is great for a first pass, since it's easier to see what's wrong if the test fails.  Automating with things like `assert` is better done later on."
   ]
  },
  {
   "cell_type": "markdown",
   "metadata": {
    "slideshow": {
     "slide_type": "slide"
    }
   },
   "source": [
    "<!-- <img src=\"img/cat_glass_box.jpg\" width=300px style=\"float:right;margin:20px;\" /> -->\n",
    "<img src=\"https://raw.githubusercontent.com/wlough/CU-Phys2600-Fall2025/main/lectures/img/cat_glass_box.jpg\" width=300px style=\"float:right;margin:20px;\" />\n",
    "\n",
    "Black-box tests are important and useful, but when they fail, they aren't always helpful in figuring out _why_.  This brings us to __glass-box testing__, in which we look _inside_ the execution of some function or piece of code and try to reveal the intermediate steps.  \n",
    "\n",
    "Some typical glass-box tests are:\n",
    "\n",
    "1. Simply __looking at the code__, and trying to walk through its execution. We do this frequently in class!\n",
    "2. __Adding `print` statements__ to probe the intermediate state of variables.\n",
    "3. __Adding an early `return` statement__, also to check an intermediate result.\n",
    "\n",
    "\n",
    "Glass-box testing usually requires human interaction - making the box out of glass is only useful if there's someone to look inside!\n",
    "\n",
    "For branching code, it's always a good idea to make sure we include tests that probe every possible branch.  Such a set of tests is said to be __path-complete__.  We need glass-box testing to determine path completeness, since we have to look inside to see all the branches!"
   ]
  },
  {
   "cell_type": "markdown",
   "metadata": {
    "slideshow": {
     "slide_type": "slide"
    }
   },
   "source": [
    "## Bugs and debugging\n",
    "\n",
    "A __bug__ in a program is something which causes it to fail to work as intended.  The term \"bug\" has the connotation of something unpredictable and out of our control; in fact, one of the more famous examples (from a group at Harvard that included Grace Hopper, one of the pioneers of computing) was a glitch caused by a moth crawling into the Mark II computer.\n",
    "\n",
    "<!-- <img src=\"img/actual-bug.jpg\" width=400px style=\"float:left;margin:20px;\"/> -->\n",
    "<img src=\"https://raw.githubusercontent.com/wlough/CU-Phys2600-Fall2025/main/lectures/img/actual-bug.jpg\" width=400px style=\"float:left;margin:20px;\"/>\n",
    "\n",
    "\n",
    "As \"First _actual case_ of bug being found\" hints, the term \"bug\" predates this _literal_ bug in the system.  There are other real-world sources of unexpected errors, including __cosmic rays__ - energetic particles from outer space can strike the memory of your computer and flip a bit of memory!  \n",
    "\n",
    "(Even though we're 5000 feet above sea level, this is the last source of bugs that you'll need to worry about in this class!  But radiation shielding and error correction are important if you're designing computers for airplanes or spacecraft.)\n",
    "\n",
    "Aside from incredibly rare failures like these, a bug isn't a random glitch; __most bugs are _mistakes_, made by whomever wrote the code.__  Debugging is thus the art of tracking down and correcting mistakes in code."
   ]
  },
  {
   "cell_type": "markdown",
   "metadata": {
    "slideshow": {
     "slide_type": "slide"
    }
   },
   "source": [
    "Bugs can be classified into four types in two categories.  An __overt bug__ is an obvious one: an error message, an infinite loop, etc.  By contrast, a __covert bug__ may be hidden; the program produces an output, but the output is _wrong_.  Covert bugs are far more dangerous, since we have to run the right test to find them!\n",
    "\n",
    "The other classification is between __persistent__ and __intermittent__ bugs.  A persistent bug is reproducible: it occurs every time we run the program, without fail.  An intermittent bug happens only some of the time.\n",
    "\n"
   ]
  },
  {
   "cell_type": "markdown",
   "metadata": {
    "slideshow": {
     "slide_type": "fragment"
    }
   },
   "source": [
    "Intermittent bugs might seem weird, since computers are deterministic!  But (cosmic rays aside) intermittent bugs aren't totally random, just hard to predict; they tend to come from interactions with other systems on the computer, or from use of random numbers, which we'll see later on.\n",
    "\n",
    "<!-- <img src=\"img/debugging.png\" /> -->\n",
    "<img src=\"https://raw.githubusercontent.com/wlough/CU-Phys2600-Fall2025/main/lectures/img/debugging.png\" />"
   ]
  },
  {
   "cell_type": "markdown",
   "metadata": {
    "slideshow": {
     "slide_type": "slide"
    }
   },
   "source": [
    "On the other hand, overt persistent bugs are the most common, especially __error messages__, which we've all run into in this class multiple times (including me!)  Let's have a closer look at what we get with an error message in Jupyter:"
   ]
  },
  {
   "cell_type": "code",
   "execution_count": null,
   "metadata": {
    "scrolled": true,
    "slideshow": {
     "slide_type": "fragment"
    }
   },
   "outputs": [],
   "source": [
    "import numpy as np\n",
    "\n",
    "S = np.sum(np.arange(\"a\", \"e\") ** 3)\n",
    "print(S)"
   ]
  },
  {
   "cell_type": "markdown",
   "metadata": {
    "slideshow": {
     "slide_type": "fragment"
    }
   },
   "source": [
    "Notice: (1) the error message shows the __line number__ where the error happens; (2) the __type of error__ is shown, here a `TypeError`; (3) a short description follows (some of which are more readable than others...)"
   ]
  },
  {
   "cell_type": "markdown",
   "metadata": {
    "slideshow": {
     "slide_type": "slide"
    }
   },
   "source": [
    "Debugging is hard to lecture on, because it's more of a practical skill.  I'll just say a few things and then we'll do a longer example:\n",
    "\n",
    "1. __Debugging requires trial and error!__  Follow the scientific method: form a hypothesis (what is going wrong? what is my code actually doing?), run an experiment (make a small change, add a `print`...), then compare the outcome with your expectations.\n",
    "2. __Debugging is incremental!__ Don't change too many things at once, or you won't be able to predict what will happen, let alone understand what changed!\n",
    "3. __Search engines are your best friend.__ The mistakes you're most likely to run into are the ones that are most common, and you can search the Internet for previous experience!  (This is especially useful if you get a cryptic-looking error message.)  Dedicated programming sites like [StackOverflow](https://stackoverflow.com) can be a great resource too.\n",
    "\n",
    "Finally, _don't be too quick to delete code_ when you're debugging; what you have already might be closer to working than you think!  Before you make significant changes, put your code in a new cell, or comment it out instead of deleting.  \n",
    "\n",
    "(Just don't let your final notebook accumulate tons of commented wrong code...)"
   ]
  },
  {
   "cell_type": "markdown",
   "metadata": {
    "slideshow": {
     "slide_type": "slide"
    }
   },
   "source": [
    "## Tutorial 11\n",
    "\n",
    "Let's begin tutorial 11!  We'll start with a worked example this time again."
   ]
  }
 ],
 "metadata": {
  "kernelspec": {
   "display_name": "Python 3 (ipykernel)",
   "language": "python",
   "name": "python3"
  },
  "language_info": {
   "codemirror_mode": {
    "name": "ipython",
    "version": 3
   },
   "file_extension": ".py",
   "mimetype": "text/x-python",
   "name": "python",
   "nbconvert_exporter": "python",
   "pygments_lexer": "ipython3",
   "version": "3.13.7"
  }
 },
 "nbformat": 4,
 "nbformat_minor": 4
}
