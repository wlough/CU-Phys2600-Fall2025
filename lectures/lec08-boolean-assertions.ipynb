{
 "cells": [
  {
   "cell_type": "markdown",
   "metadata": {
    "slideshow": {
     "slide_type": "slide"
    }
   },
   "source": [
    "# Announcements\n"
   ]
  },
  {
   "cell_type": "markdown",
   "metadata": {
    "editable": true,
    "slideshow": {
     "slide_type": "fragment"
    },
    "tags": []
   },
   "source": [
    "# Boolean Logic and Assertions\n",
    "\n",
    "<!-- <img src=\"img/true_or_false.gif\"  width=600px /> -->\n",
    "<img src=\"https://raw.githubusercontent.com/wlough/CU-Phys2600-Fall2025/main/lectures/img/true_or_false.gif\"  width=600px />\n",
    "\n",
    "## PHYS 2600: Scientific Computing\n",
    "\n",
    "## Lecture 8"
   ]
  },
  {
   "cell_type": "markdown",
   "metadata": {
    "editable": true,
    "slideshow": {
     "slide_type": "slide"
    },
    "tags": []
   },
   "source": [
    "# FAQ: Vectorization\n",
    "\n",
    "Vectorizing functions is useful when we want to define a function to accept and return single values, but later call it with an array of inputs and have it return an array.\n"
   ]
  },
  {
   "cell_type": "markdown",
   "metadata": {
    "slideshow": {
     "slide_type": "fragment"
    }
   },
   "source": [
    "Let's look at an example: the `dist_small_angle` function from homework 4. The total distance traveled by the pendulum bob after time $t$ is the integral\n",
    "$$\n",
    "D(t) = \\int ds = \\int L |d\\theta| = \\int dt \\left(L \\left| \\frac{d\\theta}{dt} \\right|\\right)= \\theta_0 \\sqrt{gL} \\int_0^t dt' \\left|\\sin \\left(\\sqrt{\\frac{g}{L}} t' \\right) \\right|.\n",
    "$$\n",
    "\n"
   ]
  },
  {
   "cell_type": "code",
   "execution_count": 27,
   "metadata": {
    "editable": true,
    "slideshow": {
     "slide_type": "fragment"
    },
    "tags": []
   },
   "outputs": [],
   "source": [
    "import matplotlib.pyplot as plt\n",
    "import numpy as np\n",
    "\n",
    "g = 9.8  # m/s^2\n",
    "L = 2.0  # m\n",
    "theta_0 = 10 * np.pi / 180  # 10 degrees\n",
    "\n",
    "\n",
    "def dist_small_angle(t, N=50):\n",
    "    t_int = np.linspace(0, t, N)\n",
    "    I = np.trapezoid(np.abs(np.sin(np.sqrt(g / L) * t_int)), x=t_int)\n",
    "    return theta_0 * np.sqrt(g * L) * I"
   ]
  },
  {
   "cell_type": "markdown",
   "metadata": {
    "slideshow": {
     "slide_type": "fragment"
    }
   },
   "source": [
    "If we assign a single value of `t` and calculate the distance, it works:"
   ]
  },
  {
   "cell_type": "code",
   "execution_count": 28,
   "metadata": {
    "slideshow": {
     "slide_type": "fragment"
    }
   },
   "outputs": [
    {
     "name": "stdout",
     "output_type": "stream",
     "text": [
      "0.9488454248731222\n"
     ]
    }
   ],
   "source": [
    "t = 2\n",
    "print(dist_small_angle(t))"
   ]
  },
  {
   "cell_type": "markdown",
   "metadata": {
    "slideshow": {
     "slide_type": "slide"
    }
   },
   "source": [
    "But suppose we want to make a plot of `dist_small_angle` as a function of `t` (as you'll do in the homework). We'd like to call the function with an array, and that doesn't work correctly."
   ]
  },
  {
   "cell_type": "code",
   "execution_count": 29,
   "metadata": {
    "slideshow": {
     "slide_type": "fragment"
    }
   },
   "outputs": [
    {
     "name": "stdout",
     "output_type": "stream",
     "text": [
      "[1. 2. 3. 4. 5.]\n",
      "[0.         0.00850937 0.03357066 0.07380856 0.12701326 0.1902593\n",
      " 0.26006277 0.33256827 0.40375542 0.46965377 0.52655428 0.57120608\n",
      " 0.60098773 0.61404401 0.61394696 0.64464467 0.6622771  0.665065\n",
      " 0.71455331 0.79353878 0.86049967 0.91139072 0.94253628 0.9508358\n",
      " 1.01782181 1.0828912  1.12568911 1.14448342 1.15673097 1.22855663\n",
      " 1.27746209 1.29953039 1.29152716 1.25109883 1.17694463 1.13743601\n",
      " 1.30416143 1.44823161 1.56507177 1.6510403  1.70357079 1.72126534\n",
      " 1.74500862 1.84514311 1.91039328 1.9357569  1.91735457 1.98082025\n",
      " 2.07431295 2.12373944]\n",
      "50\n"
     ]
    }
   ],
   "source": [
    "t_array = np.linspace(1, 5, num=5)  # array of t with 5 points from 1 to 5\n",
    "print(t_array)\n",
    "\n",
    "d_array = dist_small_angle(t_array)\n",
    "print(d_array)\n",
    "print(d_array.size)"
   ]
  },
  {
   "cell_type": "markdown",
   "metadata": {
    "slideshow": {
     "slide_type": "fragment"
    }
   },
   "source": [
    "Our function isn't behaving the way we want it to! Instead of returning 5 values - the distance for each value in `t_array` - the function is returning 50 values. This is determined by the N=50 we set for the discretization, but I don't know what these values even are.\n",
    "\n",
    "The problem is that our function isn't defined to accept an __array__ of `t`. This is a problem that vectorization can fix!"
   ]
  },
  {
   "cell_type": "markdown",
   "metadata": {
    "editable": true,
    "slideshow": {
     "slide_type": "slide"
    },
    "tags": []
   },
   "source": [
    "Let's see how things change when we vectorize the function."
   ]
  },
  {
   "cell_type": "code",
   "execution_count": 30,
   "metadata": {
    "editable": true,
    "slideshow": {
     "slide_type": "fragment"
    },
    "tags": []
   },
   "outputs": [
    {
     "name": "stdout",
     "output_type": "stream",
     "text": [
      "5\n",
      "[1. 2. 3. 4. 5.]\n",
      "[0.55821402 0.94884542 1.41860325 2.03829592 2.46590507]\n"
     ]
    }
   ],
   "source": [
    "d_func = np.vectorize(dist_small_angle)  # makes a vectorized function!\n",
    "\n",
    "d_array = d_func(t_array)\n",
    "print(d_array.size)\n",
    "\n",
    "print(t_array)\n",
    "print(d_array)"
   ]
  },
  {
   "cell_type": "markdown",
   "metadata": {
    "editable": true,
    "slideshow": {
     "slide_type": "fragment"
    },
    "tags": []
   },
   "source": [
    "Now things look correct! We can call `d_func` with an array `t_array`, and the function returns an array of distances, one for each value of t.\n",
    "\n",
    "Note that np.vectorize doesn't __evaluate__ the function. It __creates__ a new function. `d_func` is not a variable!"
   ]
  },
  {
   "cell_type": "markdown",
   "metadata": {
    "editable": true,
    "slideshow": {
     "slide_type": "slide"
    },
    "tags": []
   },
   "source": [
    "You could also define your own vectorized wrapper function using a `for` loop.  \n",
    "However, a more concise and often faster alternative is to use **list comprehension**:"
   ]
  },
  {
   "cell_type": "code",
   "execution_count": 31,
   "metadata": {
    "editable": true,
    "slideshow": {
     "slide_type": ""
    },
    "tags": []
   },
   "outputs": [
    {
     "name": "stdout",
     "output_type": "stream",
     "text": [
      "5\n",
      "[1. 2. 3. 4. 5.]\n",
      "[0.55821402 0.94884542 1.41860325 2.03829592 2.46590507]\n"
     ]
    }
   ],
   "source": [
    "def d_func(t_array, N=50):\n",
    "    return np.array([dist_small_angle(t, N=N) for t in t_array])\n",
    "\n",
    "\n",
    "d_array = d_func(t_array)\n",
    "print(d_array.size)\n",
    "\n",
    "print(t_array)\n",
    "print(d_array)"
   ]
  },
  {
   "cell_type": "markdown",
   "metadata": {
    "editable": true,
    "slideshow": {
     "slide_type": "fragment"
    },
    "tags": []
   },
   "source": [
    "List comprehensions are generally faster than traditional `for` loops in Python due to internal optimizations.  \n",
    "\n",
    "More importantly, they often improve **readability** by expressing the same logic in fewer lines of code.\n"
   ]
  },
  {
   "cell_type": "markdown",
   "metadata": {
    "editable": true,
    "slideshow": {
     "slide_type": "slide"
    },
    "tags": []
   },
   "source": [
    "## Introducing the Boolean type\n",
    "\n",
    "__Boolean__ is the simplest form of data a computer can store: it has two possible values, `True` or `False`.  \n",
    "\n",
    "(What do you expect is required for data storage of a Boolean variable?)\n",
    "\n",
    "In Python, the name for the Boolean type is `bool`:"
   ]
  },
  {
   "cell_type": "code",
   "execution_count": 32,
   "metadata": {
    "scrolled": true,
    "slideshow": {
     "slide_type": "fragment"
    }
   },
   "outputs": [
    {
     "name": "stdout",
     "output_type": "stream",
     "text": [
      "<class 'bool'> <class 'bool'>\n",
      "False True\n"
     ]
    }
   ],
   "source": [
    "print(type(True), type(False))\n",
    "print(bool(0), bool(1))"
   ]
  },
  {
   "cell_type": "markdown",
   "metadata": {
    "slideshow": {
     "slide_type": "fragment"
    }
   },
   "source": [
    "As you can see from the highlighting, the values `True` and `False` are built-in to Python as keywords.\n",
    "\n",
    "Booleans are extremely important in programming!  They are used for __testing__ - you've seen this already in the \"testing cells\" on assignments.  If our program can test for truth, it can __branch__ based on the outcome of the test."
   ]
  },
  {
   "cell_type": "markdown",
   "metadata": {
    "editable": true,
    "slideshow": {
     "slide_type": "slide"
    },
    "tags": []
   },
   "source": [
    "Going back to our very first lecture, we thought about the similarity between computer programs (which encode algorithms) and cooking with a recipe.  Here's a diagram of some instructions for making a meringue:\n",
    "\n",
    "<!-- <img src=\"img/lec1-meringue.png\" width=600px /> -->\n",
    "<img src=\"https://raw.githubusercontent.com/wlough/CU-Phys2600-Fall2025/main/lectures/img/lec1-meringue.png\" width=600px />\n",
    "\n",
    "A key feature of more complex recipes (like this meringue cookie one) is __flow control__, which we see in two varieties above: __branching__ and __looping__.  Both require a conditional test!"
   ]
  },
  {
   "cell_type": "markdown",
   "metadata": {
    "slideshow": {
     "slide_type": "slide"
    }
   },
   "source": [
    "## Booleans and comparison\n",
    "\n",
    "Before we get to branching code, let's understand the Boolean tests themselves.  Python has a set of built-in __comparison operators__, which represent some True/False statement:"
   ]
  },
  {
   "cell_type": "code",
   "execution_count": 33,
   "metadata": {
    "slideshow": {
     "slide_type": "fragment"
    }
   },
   "outputs": [
    {
     "name": "stdout",
     "output_type": "stream",
     "text": [
      "False\n",
      "True\n",
      "False\n",
      "True\n",
      "False\n",
      "True\n"
     ]
    }
   ],
   "source": [
    "print(3 == 4)  # Equality\n",
    "print(3 != 4)  # Inequality\n",
    "print(4 < 4)  # Less than\n",
    "print(4 <= 4)  # Less than or equal to\n",
    "print(4 > 4)  # Greater than\n",
    "print(4 >= 4)  # Greater than or equal to"
   ]
  },
  {
   "cell_type": "markdown",
   "metadata": {
    "slideshow": {
     "slide_type": "fragment"
    }
   },
   "source": [
    "These should be mostly familiar, but you'll probably have to get used to always using __double-equals__ `==` for testing equality!  (We already used `=` for assignment, of course.)"
   ]
  },
  {
   "cell_type": "markdown",
   "metadata": {
    "slideshow": {
     "slide_type": "slide"
    }
   },
   "source": [
    "Since `True` and `False` are just data, we can save the outcome of a Boolean test to a variable for later use:"
   ]
  },
  {
   "cell_type": "code",
   "execution_count": 34,
   "metadata": {
    "slideshow": {
     "slide_type": "fragment"
    }
   },
   "outputs": [
    {
     "name": "stdout",
     "output_type": "stream",
     "text": [
      "False\n"
     ]
    }
   ],
   "source": [
    "x = 3\n",
    "x_is_zero = x == 0  # No () needed; = is always last!\n",
    "\n",
    "print(x_is_zero)"
   ]
  },
  {
   "cell_type": "markdown",
   "metadata": {
    "slideshow": {
     "slide_type": "fragment"
    }
   },
   "source": [
    "Or we can return them from a function - useful if we want to run a more complicated test."
   ]
  },
  {
   "cell_type": "code",
   "execution_count": 35,
   "metadata": {
    "slideshow": {
     "slide_type": "fragment"
    }
   },
   "outputs": [
    {
     "data": {
      "text/plain": [
       "False"
      ]
     },
     "execution_count": 35,
     "metadata": {},
     "output_type": "execute_result"
    }
   ],
   "source": [
    "def is_zero(x):\n",
    "    return x == 0\n",
    "\n",
    "\n",
    "is_zero(3)"
   ]
  },
  {
   "cell_type": "markdown",
   "metadata": {
    "editable": true,
    "slideshow": {
     "slide_type": "slide"
    },
    "tags": []
   },
   "source": [
    "It is __very important to remember__ that like other Python features we've seen, comparisons are done _using the values_ at the moment we invoke them.\n",
    "\n",
    "In other words, changing the variable _after_ a comparison won't change the comparison:"
   ]
  },
  {
   "cell_type": "code",
   "execution_count": 36,
   "metadata": {
    "editable": true,
    "slideshow": {
     "slide_type": "fragment"
    },
    "tags": []
   },
   "outputs": [
    {
     "name": "stdout",
     "output_type": "stream",
     "text": [
      "False\n",
      "False\n",
      "True\n"
     ]
    }
   ],
   "source": [
    "x = -3\n",
    "x_is_positive = x > 0\n",
    "\n",
    "print(x_is_positive)\n",
    "x = 3  # changing x does not change the `x_is_positive` variable!\n",
    "print(x_is_positive)  # still False\n",
    "x_is_positive = x > 0\n",
    "print(x_is_positive)"
   ]
  },
  {
   "cell_type": "markdown",
   "metadata": {
    "editable": true,
    "slideshow": {
     "slide_type": "slide"
    },
    "tags": []
   },
   "source": [
    "## Logical operators\n",
    "\n",
    "What about more complicated tests, like `0<x<1`?  This is just two combined tests, `0<x` and `x<1`, using the \"__and__\" operation.\n",
    "\n",
    "<!-- <a href=\"https://en.wikipedia.org/wiki/Boolean_algebra\" target=\"_blank\"><img src=\"img/venn_and_or_not.png\" /></a> -->\n",
    "<a href=\"https://en.wikipedia.org/wiki/Boolean_algebra\" target=\"_blank\"><img src=\"https://raw.githubusercontent.com/wlough/CU-Phys2600-Fall2025/main/lectures/img/venn_and_or_not.png\" /></a>\n",
    "\n",
    "\n",
    "From left to right, the Venn diagrams above depict `and`, `or`, and `not` (written using standard logic notation.)  If you need a refresher on logic, the image links to the Wikipedia page it came from.  The corresponding Python operators are all built-in keywords that go by the same names:"
   ]
  },
  {
   "cell_type": "code",
   "execution_count": 37,
   "metadata": {
    "slideshow": {
     "slide_type": "fragment"
    }
   },
   "outputs": [
    {
     "name": "stdout",
     "output_type": "stream",
     "text": [
      "False\n",
      "True\n",
      "True\n"
     ]
    }
   ],
   "source": [
    "print(True and False)  ## True if *both* statements are True\n",
    "print(True or False)  ## True if *either* statement is True\n",
    "print(not False)  ## True if the statement is False"
   ]
  },
  {
   "cell_type": "markdown",
   "metadata": {
    "slideshow": {
     "slide_type": "slide"
    }
   },
   "source": [
    "To check the mathematical statement `0 < x < 1`, we would use `and`, since we want `x` to satisfy both limits:"
   ]
  },
  {
   "cell_type": "code",
   "execution_count": 38,
   "metadata": {
    "slideshow": {
     "slide_type": "fragment"
    }
   },
   "outputs": [
    {
     "name": "stdout",
     "output_type": "stream",
     "text": [
      "True\n"
     ]
    }
   ],
   "source": [
    "x = 0.4\n",
    "print(0 < x and x < 1)"
   ]
  },
  {
   "cell_type": "markdown",
   "metadata": {
    "slideshow": {
     "slide_type": "fragment"
    }
   },
   "source": [
    "Actually, Python has a _useful shorthand_ for chaining inequalities: we can simply write `0 < x < 1`, and it will be treated the same as the `and` version we wrote above!"
   ]
  },
  {
   "cell_type": "code",
   "execution_count": 39,
   "metadata": {
    "slideshow": {
     "slide_type": "fragment"
    }
   },
   "outputs": [
    {
     "name": "stdout",
     "output_type": "stream",
     "text": [
      "True\n"
     ]
    }
   ],
   "source": [
    "print(0 < x < 1)"
   ]
  },
  {
   "cell_type": "markdown",
   "metadata": {
    "slideshow": {
     "slide_type": "slide"
    }
   },
   "source": [
    "We have a lot of extra operators with Boolean operations!  We have to revise our [order of operations](https://www.programiz.com/python-programming/precedence-associativity) (a.k.a. operator precedence).  From first to last evaluated:\n",
    "\n",
    "* Parentheses \n",
    "* Other math operations in usual order: `**`, `*` `/`, `+` `-`\n",
    "* Comparisons (`==`, `<`, `>=`, ...)\n",
    "* Logical operations in order: `not`, `and`, `or`\n",
    "* Assignment (`=`)\n",
    "\n"
   ]
  },
  {
   "cell_type": "code",
   "execution_count": 40,
   "metadata": {
    "slideshow": {
     "slide_type": "fragment"
    }
   },
   "outputs": [
    {
     "data": {
      "text/plain": [
       "True"
      ]
     },
     "execution_count": 40,
     "metadata": {},
     "output_type": "execute_result"
    }
   ],
   "source": [
    "y = 0.7\n",
    "(y**2 < 1 - 0.5) and not (y - 1 > 0)  ## (0.49 < 0.5) and not (-0.3 > 0)"
   ]
  },
  {
   "cell_type": "markdown",
   "metadata": {
    "slideshow": {
     "slide_type": "fragment"
    }
   },
   "source": [
    "Automatic ordering makes for clean code, but when in doubt, just use parentheses!  (My example above is a nightmare for readability...)"
   ]
  },
  {
   "cell_type": "markdown",
   "metadata": {
    "slideshow": {
     "slide_type": "slide"
    }
   },
   "source": [
    "## Assertions \n",
    "\n",
    "The simplest flow control keyword in Python is `assert`.  Assertion is for statements that __must be true__ - either for testing, or for verifying some condition you expect.\n",
    "\n",
    "If the argument of `assert` evaluates to `True`, it does nothing; but if it's `False`, then an error message is raised and the program stops immediately!"
   ]
  },
  {
   "cell_type": "code",
   "execution_count": 41,
   "metadata": {
    "slideshow": {
     "slide_type": "fragment"
    }
   },
   "outputs": [
    {
     "ename": "AssertionError",
     "evalue": "",
     "output_type": "error",
     "traceback": [
      "\u001b[31m---------------------------------------------------------------------------\u001b[39m",
      "\u001b[31mAssertionError\u001b[39m                            Traceback (most recent call last)",
      "\u001b[36mCell\u001b[39m\u001b[36m \u001b[39m\u001b[32mIn[41]\u001b[39m\u001b[32m, line 2\u001b[39m\n\u001b[32m      1\u001b[39m \u001b[38;5;28;01massert\u001b[39;00m \u001b[32m5\u001b[39m < \u001b[32m6\u001b[39m  \u001b[38;5;66;03m# no effect\u001b[39;00m\n\u001b[32m----> \u001b[39m\u001b[32m2\u001b[39m \u001b[38;5;28;01massert\u001b[39;00m \u001b[32m6\u001b[39m < \u001b[32m5\u001b[39m  \u001b[38;5;66;03m# error!\u001b[39;00m\n\u001b[32m      3\u001b[39m \u001b[38;5;28;01massert\u001b[39;00m \u001b[32m5\u001b[39m == \u001b[32m5\u001b[39m  \u001b[38;5;66;03m# not evaluated\u001b[39;00m\n",
      "\u001b[31mAssertionError\u001b[39m: "
     ]
    }
   ],
   "source": [
    "assert 5 < 6  # no effect\n",
    "assert 6 < 5  # error!\n",
    "assert 5 == 5  # not evaluated"
   ]
  },
  {
   "cell_type": "markdown",
   "metadata": {
    "slideshow": {
     "slide_type": "fragment"
    }
   },
   "source": [
    "If we're writing a longer program and we want to stop it partway through while we're debugging, a simple way to do this is to simply write `assert False`, to halt execution no matter what."
   ]
  },
  {
   "cell_type": "markdown",
   "metadata": {
    "slideshow": {
     "slide_type": "slide"
    }
   },
   "source": [
    "`assert` is a __stand-alone expression__: it has to live on its own line (or you'll get a syntax error.)  As long as it's standing alone, we can use `assert` anywhere, even in a function.  Just remember, a failed `assert` stops the whole program!"
   ]
  },
  {
   "cell_type": "code",
   "execution_count": 42,
   "metadata": {
    "slideshow": {
     "slide_type": "fragment"
    }
   },
   "outputs": [
    {
     "name": "stdout",
     "output_type": "stream",
     "text": [
      "Yes, x is positive!\n"
     ]
    },
    {
     "ename": "AssertionError",
     "evalue": "",
     "output_type": "error",
     "traceback": [
      "\u001b[31m---------------------------------------------------------------------------\u001b[39m",
      "\u001b[31mAssertionError\u001b[39m                            Traceback (most recent call last)",
      "\u001b[36mCell\u001b[39m\u001b[36m \u001b[39m\u001b[32mIn[42]\u001b[39m\u001b[32m, line 7\u001b[39m\n\u001b[32m      3\u001b[39m     \u001b[38;5;28mprint\u001b[39m(\u001b[33m\"\u001b[39m\u001b[33mYes, x is positive!\u001b[39m\u001b[33m\"\u001b[39m)\n\u001b[32m      6\u001b[39m ensure_x_is_positive(\u001b[32m3\u001b[39m)\n\u001b[32m----> \u001b[39m\u001b[32m7\u001b[39m \u001b[43mensure_x_is_positive\u001b[49m\u001b[43m(\u001b[49m\u001b[43m-\u001b[49m\u001b[32;43m4\u001b[39;49m\u001b[43m)\u001b[49m\n\u001b[32m      8\u001b[39m \u001b[38;5;28mprint\u001b[39m(\u001b[33m\"\u001b[39m\u001b[33mThis print won\u001b[39m\u001b[33m'\u001b[39m\u001b[33mt happen.\u001b[39m\u001b[33m\"\u001b[39m)\n",
      "\u001b[36mCell\u001b[39m\u001b[36m \u001b[39m\u001b[32mIn[42]\u001b[39m\u001b[32m, line 2\u001b[39m, in \u001b[36mensure_x_is_positive\u001b[39m\u001b[34m(x)\u001b[39m\n\u001b[32m      1\u001b[39m \u001b[38;5;28;01mdef\u001b[39;00m\u001b[38;5;250m \u001b[39m\u001b[34mensure_x_is_positive\u001b[39m(x):\n\u001b[32m----> \u001b[39m\u001b[32m2\u001b[39m     \u001b[38;5;28;01massert\u001b[39;00m x > \u001b[32m0\u001b[39m\n\u001b[32m      3\u001b[39m     \u001b[38;5;28mprint\u001b[39m(\u001b[33m\"\u001b[39m\u001b[33mYes, x is positive!\u001b[39m\u001b[33m\"\u001b[39m)\n",
      "\u001b[31mAssertionError\u001b[39m: "
     ]
    }
   ],
   "source": [
    "def ensure_x_is_positive(x):\n",
    "    assert x > 0\n",
    "    print(\"Yes, x is positive!\")\n",
    "\n",
    "\n",
    "ensure_x_is_positive(3)\n",
    "ensure_x_is_positive(-4)\n",
    "print(\"This print won't happen.\")"
   ]
  },
  {
   "cell_type": "markdown",
   "metadata": {
    "slideshow": {
     "slide_type": "slide"
    }
   },
   "source": [
    "## Booleans as numbers\n",
    "\n",
    "As mentioned above, although `bool` is a distinct type, in terms of storage a `bool` is just a single bit, `0` or `1`.  In fact, if we typecast those numbers we can see how they are interpreted:"
   ]
  },
  {
   "cell_type": "code",
   "execution_count": 43,
   "metadata": {
    "slideshow": {
     "slide_type": "fragment"
    }
   },
   "outputs": [
    {
     "name": "stdout",
     "output_type": "stream",
     "text": [
      "bool(0): False\n",
      "bool(1): True\n",
      "bool(516): True\n"
     ]
    }
   ],
   "source": [
    "print(f\"bool(0): {bool(0)}\")\n",
    "print(f\"bool(1): {bool(1)}\")\n",
    "print(f\"bool(516): {bool(516)}\")"
   ]
  },
  {
   "cell_type": "markdown",
   "metadata": {
    "slideshow": {
     "slide_type": "fragment"
    }
   },
   "source": [
    "If we try to use anything which is _not_ `bool` for flow control, Python will automatically typecast (this feature is sometimes called \"__truthiness__\".)  Beware of unexpected behavior due to this!"
   ]
  },
  {
   "cell_type": "code",
   "execution_count": 44,
   "metadata": {
    "slideshow": {
     "slide_type": "fragment"
    }
   },
   "outputs": [
    {
     "ename": "AssertionError",
     "evalue": "",
     "output_type": "error",
     "traceback": [
      "\u001b[31m---------------------------------------------------------------------------\u001b[39m",
      "\u001b[31mAssertionError\u001b[39m                            Traceback (most recent call last)",
      "\u001b[36mCell\u001b[39m\u001b[36m \u001b[39m\u001b[32mIn[44]\u001b[39m\u001b[32m, line 2\u001b[39m\n\u001b[32m      1\u001b[39m \u001b[38;5;28;01massert\u001b[39;00m \u001b[32m1\u001b[39m\n\u001b[32m----> \u001b[39m\u001b[32m2\u001b[39m \u001b[38;5;28;01massert\u001b[39;00m \u001b[32m0\u001b[39m\n",
      "\u001b[31mAssertionError\u001b[39m: "
     ]
    }
   ],
   "source": [
    "assert 1\n",
    "assert 0"
   ]
  },
  {
   "cell_type": "markdown",
   "metadata": {
    "editable": true,
    "slideshow": {
     "slide_type": "fragment"
    },
    "tags": []
   },
   "source": [
    "## Tutorial 08\n",
    "\n",
    "Time for some hands-on practice!  Connect to the server and load `tut08`.\n"
   ]
  }
 ],
 "metadata": {
  "kernelspec": {
   "display_name": "Python 3 (ipykernel)",
   "language": "python",
   "name": "python3"
  },
  "language_info": {
   "codemirror_mode": {
    "name": "ipython",
    "version": 3
   },
   "file_extension": ".py",
   "mimetype": "text/x-python",
   "name": "python",
   "nbconvert_exporter": "python",
   "pygments_lexer": "ipython3",
   "version": "3.13.7"
  }
 },
 "nbformat": 4,
 "nbformat_minor": 4
}
