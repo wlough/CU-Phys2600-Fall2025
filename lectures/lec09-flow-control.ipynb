{
 "cells": [
  {
   "cell_type": "markdown",
   "metadata": {
    "editable": true,
    "slideshow": {
     "slide_type": "slide"
    },
    "tags": []
   },
   "source": [
    "# Flow Control\n",
    "<!-- <a href=\"https://www.bobvila.com/articles/38-the-plumbing-rough-in/\" target=\"_blank\"><img src=\"img/pipes.jpg\" width=500px /></a> -->\n",
    "<a href=\"https://www.bobvila.com/articles/38-the-plumbing-rough-in/\" target=\"_blank\"><img src=\"https://raw.githubusercontent.com/wlough/CU-Phys2600-Fall2025/main/lectures/img/pipes.jpg\" width=500px /></a>\n",
    "\n",
    "## PHYS 2600: Scientific Computing\n",
    "\n",
    "## Lecture 9"
   ]
  },
  {
   "cell_type": "markdown",
   "metadata": {
    "editable": true,
    "slideshow": {
     "slide_type": "slide"
    },
    "tags": []
   },
   "source": [
    "One more time, let's recall the motivating example of a recipe as an algorithm:\n",
    "\n",
    "<!-- <img src=\"img/lec1-meringue.png\" width=600px /> -->\n",
    "<img src=\"https://raw.githubusercontent.com/wlough/CU-Phys2600-Fall2025/main/lectures/img/lec1-meringue.png\" width=600px />\n",
    "\n",
    "__Flow control__, in the form of __loops__ and __branches__, is key to this recipe!  Boolean logic enables the _conditional tests_ that make flow control possible.\n",
    "\n",
    "We'll start with branching - from the diagram, looping is just a special case."
   ]
  },
  {
   "cell_type": "markdown",
   "metadata": {
    "slideshow": {
     "slide_type": "slide"
    }
   },
   "source": [
    "## Branching in Python\n",
    "\n",
    "Branching flow control is provided by the `if` and `else` statements.  They use indented __code blocks__, similar to functions:"
   ]
  },
  {
   "cell_type": "code",
   "execution_count": null,
   "metadata": {
    "slideshow": {
     "slide_type": "fragment"
    }
   },
   "outputs": [],
   "source": [
    "x = 0\n",
    "if x < 0:\n",
    "    # Branch run if condition is True\n",
    "    y = -4\n",
    "    print(\"x is negative!\")\n",
    "else:\n",
    "    # Branch run if condition is False\n",
    "    y = 4\n",
    "    print(\"x is positive!\")\n",
    "print(\"This line is outside the branches, and y is %d.\" % y)"
   ]
  },
  {
   "cell_type": "markdown",
   "metadata": {
    "slideshow": {
     "slide_type": "fragment"
    }
   },
   "source": [
    "Unlike functions, `if`/`else` code blocks _do not_ have their own local scope.  (So we can assign `y` inside a block and it's visible outside.  This could be a problem if we forget to assign `y` in one branch...)"
   ]
  },
  {
   "cell_type": "markdown",
   "metadata": {
    "slideshow": {
     "slide_type": "slide"
    }
   },
   "source": [
    "What if we want to branch into more than two possible outcomes?  One way would be __nesting__ a second `if`/`else` statement inside of the outer one, like this:"
   ]
  },
  {
   "cell_type": "code",
   "execution_count": null,
   "metadata": {
    "slideshow": {
     "slide_type": "fragment"
    }
   },
   "outputs": [],
   "source": [
    "x = 0\n",
    "if x < 0:\n",
    "    print(\"x is negative!\")\n",
    "else:\n",
    "    if x > 0:\n",
    "        print(\"x is positive!\")\n",
    "    else:\n",
    "        print(\"x is zero!\")"
   ]
  },
  {
   "cell_type": "markdown",
   "metadata": {
    "slideshow": {
     "slide_type": "fragment"
    }
   },
   "source": [
    "(Note how the indentation levels are used to denote which code block belongs to what statement.)  This works, but it's a little hard to read due to the position of the `x < 0` and `x > 0` tests."
   ]
  },
  {
   "cell_type": "markdown",
   "metadata": {
    "slideshow": {
     "slide_type": "slide"
    }
   },
   "source": [
    "Python has a third keyword `elif` (short for \"else if\") which allows us to put both tests on the same level:"
   ]
  },
  {
   "cell_type": "code",
   "execution_count": null,
   "metadata": {
    "slideshow": {
     "slide_type": "fragment"
    }
   },
   "outputs": [],
   "source": [
    "x = 1\n",
    "if x < 0:\n",
    "    print(\"x is negative!\")\n",
    "elif x > 0:\n",
    "    print(\"x is positive!\")\n",
    "else:\n",
    "    print(\"x is zero!\")"
   ]
  },
  {
   "cell_type": "markdown",
   "metadata": {
    "slideshow": {
     "slide_type": "fragment"
    }
   },
   "source": [
    "This is just a cleaner way to write the same code from the previous cell: the second test `x > 0` will still only happen if the _first_ test `x < 0` returns `False`.\n",
    "\n",
    "These statements (`if`/`elif`/`else`) are called __conditionals__, because which branch the program takes is decided by whether the _condition_ they test is satisfied or not."
   ]
  },
  {
   "cell_type": "markdown",
   "metadata": {
    "slideshow": {
     "slide_type": "slide"
    }
   },
   "source": [
    "The complete rules of syntax for conditionals are: `if` --> __zero or more__ `elif`s --> __optional__ `else`.  This means that a solo `if` block is valid syntax:"
   ]
  },
  {
   "cell_type": "code",
   "execution_count": null,
   "metadata": {
    "slideshow": {
     "slide_type": "fragment"
    }
   },
   "outputs": [],
   "source": [
    "x = 0\n",
    "if x == 0:\n",
    "    print(\"x is definitely zero!\")\n",
    "print(\"Moving on...\")"
   ]
  },
  {
   "cell_type": "markdown",
   "metadata": {
    "slideshow": {
     "slide_type": "fragment"
    }
   },
   "source": [
    "This is equivalent to the following:"
   ]
  },
  {
   "cell_type": "code",
   "execution_count": null,
   "metadata": {
    "slideshow": {
     "slide_type": "fragment"
    }
   },
   "outputs": [],
   "source": [
    "if x == 0:\n",
    "    print(\"x is definitely zero!\")\n",
    "else:\n",
    "    pass\n",
    "print(\"Moving on...\")"
   ]
  },
  {
   "cell_type": "markdown",
   "metadata": {
    "slideshow": {
     "slide_type": "fragment"
    }
   },
   "source": [
    "The keyword `pass` means \"skip this statement and do nothing.\"  (This might be useful if we have a lot of `elif` cases but we want one of them to do nothing, for example.)"
   ]
  },
  {
   "cell_type": "markdown",
   "metadata": {
    "slideshow": {
     "slide_type": "slide"
    }
   },
   "source": [
    "We can make use of \"truthiness\" in conditionals: any non-Boolean variable in the test will be typecast to Boolean.  This enables code like the following:"
   ]
  },
  {
   "cell_type": "code",
   "execution_count": null,
   "metadata": {
    "slideshow": {
     "slide_type": "fragment"
    }
   },
   "outputs": [],
   "source": [
    "s = []\n",
    "\n",
    "if s:\n",
    "    print(\"s is not empty!\")\n",
    "else:\n",
    "    print(\"s is empty!\")"
   ]
  },
  {
   "cell_type": "markdown",
   "metadata": {
    "slideshow": {
     "slide_type": "fragment"
    }
   },
   "source": [
    "__Be careful using this:__ I'm mostly telling you about it so you'll understand it in the wild.  Relying too much on truthiness can lead to unclear code and really surprising glitches!  (The safer way to write the above would be `if s == ''`.)"
   ]
  },
  {
   "cell_type": "markdown",
   "metadata": {
    "slideshow": {
     "slide_type": "slide"
    }
   },
   "source": [
    "## Loop branching\n",
    "\n",
    "Remember that one of the key features of computing is __repetition:__.  To enable this, we need to be able to write a __loop__, in which our code \"jumps back\" some number of statements and then repeats them.  This _must_ include a conditional branch - otherwise we just have an __infinite loop__.\n",
    "\n",
    "In Python, a loop with a conditional test is created by the `while` keyword:\n"
   ]
  },
  {
   "cell_type": "code",
   "execution_count": null,
   "metadata": {
    "slideshow": {
     "slide_type": "fragment"
    }
   },
   "outputs": [],
   "source": [
    "x = 0\n",
    "while x < 5:\n",
    "    print(x)\n",
    "    x += 2\n",
    "\n",
    "print(\"Loop finished! x is:\", x)"
   ]
  },
  {
   "cell_type": "markdown",
   "metadata": {
    "slideshow": {
     "slide_type": "fragment"
    }
   },
   "source": [
    "Notice that we run _until the condition fails_: so even though `print(x)` in the loop only reaches 4, the final value printed on the last line is 6."
   ]
  },
  {
   "cell_type": "markdown",
   "metadata": {
    "editable": true,
    "slideshow": {
     "slide_type": "slide"
    },
    "tags": []
   },
   "source": [
    "Here's a more visual way to compare and contrast the flow control examples we've seen so far: functions, `if`/`else`, and `while`.\n",
    "\n",
    "<!-- <img src=\"img/flow-viz.png\" width=700px /> -->\n",
    "<img src=\"https://raw.githubusercontent.com/wlough/CU-Phys2600-Fall2025/main/lectures/img/flow-viz.png\" width=700px />\n",
    "\n",
    "Notice that the branching in `while` works _exactly_ the same as `if`: the only difference is at the _end_, where `while` jumps back to the top of the block and `if` just keeps going.\n",
    "\n",
    "I've included calling a function as another example of code flow where the program is _always_ redirected, instead of only conditionally."
   ]
  },
  {
   "cell_type": "markdown",
   "metadata": {
    "slideshow": {
     "slide_type": "slide"
    }
   },
   "source": [
    "What would happen if we had written the test as `x != 5` instead of `x<5`?"
   ]
  },
  {
   "cell_type": "code",
   "execution_count": null,
   "metadata": {
    "slideshow": {
     "slide_type": "fragment"
    }
   },
   "outputs": [],
   "source": [
    "x = 0\n",
    "while x != 5:\n",
    "    #    print(x)\n",
    "    x += 2\n",
    "\n",
    "print(\"Loop finished! x is:\", x)"
   ]
  },
  {
   "cell_type": "markdown",
   "metadata": {
    "slideshow": {
     "slide_type": "fragment"
    }
   },
   "source": [
    "This is an example of an __infinite loop__, which is a common way to make your program run forever (usually by accident!)  Notice if you run this cell that the input number is shown as `In [*]:`; the `*` indicates that the cell is still running.  To get out of the loop in Jupyter, we simply stop the kernel with the Kernel menu, `i`,`i` to interrupt, or `0`,`0` to restart."
   ]
  },
  {
   "cell_type": "markdown",
   "metadata": {
    "slideshow": {
     "slide_type": "slide"
    }
   },
   "source": [
    "<!-- <img src=\"img/while-viz.png\" width=400px style=\"float:right;\" /> -->\n",
    "<img src=\"https://raw.githubusercontent.com/wlough/CU-Phys2600-Fall2025/main/lectures/img/while-viz.png\" width=400px style=\"float:right;\" />\n",
    "\n",
    "There are a couple more flow control keywords available within any Python loop: `continue` jumps back up to the top of the loop, and \"continues\" with the next iteration.  `break` \"breaks free\" of the loop and takes us immediately past the end.\n",
    "\n",
    "We can also include an `else` block on a `while` loop, and it works just like it would for `if`.  Under normal operations, __there's no reason to do this__, because the `else` block would run every single time our loop finishes!  The only time it makes sense is in combination with `break`, which will skip over any `else` block present, as shown.\n",
    "\n",
    "We will only rarely encounter these special keywords: they're mostly used for dealing with exceptional cases in our code, and aren't usually part of a normal loop operation."
   ]
  },
  {
   "cell_type": "markdown",
   "metadata": {
    "slideshow": {
     "slide_type": "slide"
    }
   },
   "source": [
    "## Tutorial 9\n",
    "\n",
    "Time for our next tutorial!  Connect to the server and load `tut09`.  Today we'll start with a worked example, so get ready to follow along with me.\n"
   ]
  }
 ],
 "metadata": {
  "celltoolbar": "Slideshow",
  "kernelspec": {
   "display_name": "Python 3 (ipykernel)",
   "language": "python",
   "name": "python3"
  },
  "language_info": {
   "codemirror_mode": {
    "name": "ipython",
    "version": 3
   },
   "file_extension": ".py",
   "mimetype": "text/x-python",
   "name": "python",
   "nbconvert_exporter": "python",
   "pygments_lexer": "ipython3",
   "version": "3.13.7"
  }
 },
 "nbformat": 4,
 "nbformat_minor": 4
}
