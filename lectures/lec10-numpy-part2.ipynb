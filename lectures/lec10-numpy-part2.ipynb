{
 "cells": [
  {
   "cell_type": "markdown",
   "metadata": {
    "editable": true,
    "nbgrader": {
     "grade": false,
     "grade_id": "cell-c410a18bc886326b",
     "locked": true,
     "schema_version": 1,
     "solution": false
    },
    "slideshow": {
     "slide_type": "slide"
    },
    "tags": []
   },
   "source": [
    "# Sub-Arrays in NumPy\n",
    "\n",
    "<!-- <a href=\"https://arxiv.org/abs/1707.08563\" target=\"_blank\"><img src=\"img/exomoon_kepler_transit.gif\" width=460px /></a> -->\n",
    "<a href=\"https://arxiv.org/abs/1707.08563\" target=\"_blank\"><img src=\"https://raw.githubusercontent.com/wlough/CU-Phys2600-Fall2025/main/lectures/img/exomoon_kepler_transit.gif\" width=460px /></a>\n",
    "\n",
    "\n",
    "## PHYS 2600: Scientific Computing\n",
    "\n",
    "## Lecture 10"
   ]
  },
  {
   "cell_type": "markdown",
   "metadata": {
    "slideshow": {
     "slide_type": "slide"
    }
   },
   "source": [
    "# FAQ: any and all\n",
    "In the tutorial last week we had several questions about `np.any` and `np.all`. Both of these functions apply a logical test to __every__ element of an array. Then they return __one Boolean value__ from the results of all those tests.\n",
    "- `np.any` returns `True` if the test is passed for __at least one__ element in the array. This is equivalent to chaining the test on each element of the array with `or`.\n",
    "- `np.all` returns `True` if the test is passed for __every__ element in the array. This is equivalent to chaining the test on each element of the array with `and`.\n",
    "\n",
    "Let's look at an example of using this to look for negative numbers in arrays."
   ]
  },
  {
   "cell_type": "code",
   "execution_count": null,
   "metadata": {
    "slideshow": {
     "slide_type": "fragment"
    }
   },
   "outputs": [],
   "source": [
    "import numpy as np\n",
    "\n",
    "ex_array = np.linspace(-3, 3, 7)\n",
    "print(ex_array)\n",
    "ex_array < 0"
   ]
  },
  {
   "cell_type": "markdown",
   "metadata": {
    "slideshow": {
     "slide_type": "slide"
    }
   },
   "source": [
    "In `ex_array`, the first three values are negative. So when I do the test `ex_array<0`, the first three entries are `True`. \n",
    "\n",
    "What will be the result of `np.any` and `np.all` on `ex_array < 0`?"
   ]
  },
  {
   "cell_type": "code",
   "execution_count": null,
   "metadata": {
    "slideshow": {
     "slide_type": "fragment"
    }
   },
   "outputs": [],
   "source": [
    "print(np.any(ex_array < 0))\n",
    "print(np.all(ex_array < 0))"
   ]
  },
  {
   "cell_type": "markdown",
   "metadata": {
    "slideshow": {
     "slide_type": "slide"
    }
   },
   "source": [
    "# FAQ: compact logical tests\n",
    "\n",
    "For HW 5, I got questions about functions with conditional branching, like this:"
   ]
  },
  {
   "cell_type": "code",
   "execution_count": null,
   "metadata": {
    "slideshow": {
     "slide_type": "fragment"
    }
   },
   "outputs": [],
   "source": [
    "def one_is_odd(x, y):  # Version of the function that enumerates every possible case\n",
    "    if x % 2 != 0:  # x is odd\n",
    "        if y % 2 != 0:  # y is odd\n",
    "            return False  # Return False because both are odd\n",
    "        else:  # y is even\n",
    "            return True  # Return True because only x is odd\n",
    "    else:  # x is even\n",
    "        if y % 2 != 0:  # y is odd\n",
    "            return True  # Return True because only y is odd\n",
    "        else:  # y is even\n",
    "            return False  # Return False because neither is odd\n",
    "\n",
    "\n",
    "one_is_odd(3, 4)"
   ]
  },
  {
   "cell_type": "markdown",
   "metadata": {
    "slideshow": {
     "slide_type": "fragment"
    }
   },
   "source": [
    "This code is correct! But it's not very __compact__. Most programmers prefer compact code for several reasons:\n",
    "- Laziness.\n",
    "- It's easier to read\n",
    "- Writing compact code makes mistakes less likely and debugging easier.\n",
    "- Compact code is more aesthetically appealing."
   ]
  },
  {
   "cell_type": "markdown",
   "metadata": {
    "slideshow": {
     "slide_type": "slide"
    }
   },
   "source": [
    "How could I make `one_is_odd` more compact? First, I can directly return the results of Boolean tests. Compare these two ways of writing the code:"
   ]
  },
  {
   "cell_type": "code",
   "execution_count": null,
   "metadata": {
    "slideshow": {
     "slide_type": "fragment"
    }
   },
   "outputs": [],
   "source": [
    "# the long way\n",
    "if x % 2 != 0:  # x is odd\n",
    "    return True\n",
    "else:  # x is even\n",
    "    return False\n",
    "\n",
    "# the short way\n",
    "return x % 2 != 0  # True if x is odd, False if x is even"
   ]
  },
  {
   "cell_type": "markdown",
   "metadata": {
    "slideshow": {
     "slide_type": "fragment"
    }
   },
   "source": [
    "Second, I can chain multiple tests into one line with `and`, `or`, `not`, ....\n"
   ]
  },
  {
   "cell_type": "code",
   "execution_count": null,
   "metadata": {
    "slideshow": {
     "slide_type": "fragment"
    }
   },
   "outputs": [],
   "source": [
    "def one_is_odd(x, y):\n",
    "    return (x % 2 != 0) != (y % 2 != 0)  # one-line function!\n",
    "\n",
    "\n",
    "one_is_odd(3, 4)"
   ]
  },
  {
   "cell_type": "markdown",
   "metadata": {
    "slideshow": {
     "slide_type": "slide"
    }
   },
   "source": [
    "## Array indexing\n",
    "\n",
    "So far, we've only done operations on _whole_ arrays.  But sometimes, we want to work with just part of an array.  Let's start with getting _individual values_ out.\n",
    "\n",
    "Each entry in an array is labeled by its __index__ - its position counting from left to right (or right to left with negative indices):\n",
    "\n",
    "<!-- <img src=\"img/array-index-forward-backward.png\" width=400px /> -->\n",
    "<img src=\"https://raw.githubusercontent.com/wlough/CU-Phys2600-Fall2025/main/lectures/img/array-index-forward-backward.png\" width=400px />\n",
    "\n",
    "Python follows a __zero-based__ index convention.  (There are arguments about whether starting at 0 or 1 is better; at this point 0 is the more common historical convention, inherited from languages like C.)"
   ]
  },
  {
   "cell_type": "markdown",
   "metadata": {
    "slideshow": {
     "slide_type": "slide"
    }
   },
   "source": [
    "Getting an array element (called \"__indexing__\") is done with square brackets `[]`:"
   ]
  },
  {
   "cell_type": "code",
   "execution_count": null,
   "metadata": {
    "slideshow": {
     "slide_type": "fragment"
    }
   },
   "outputs": [],
   "source": [
    "import numpy as np\n",
    "\n",
    "a = np.array([1, 2, 4, 8, 16])\n",
    "a[3]"
   ]
  },
  {
   "cell_type": "markdown",
   "metadata": {
    "slideshow": {
     "slide_type": "fragment"
    }
   },
   "source": [
    "What will happen if I try to access `a[5]`?"
   ]
  },
  {
   "cell_type": "code",
   "execution_count": null,
   "metadata": {
    "slideshow": {
     "slide_type": "fragment"
    }
   },
   "outputs": [],
   "source": [
    "a[5]"
   ]
  },
  {
   "cell_type": "markdown",
   "metadata": {
    "slideshow": {
     "slide_type": "fragment"
    }
   },
   "source": [
    "Trying to get an array element that doesn't exist results in an `IndexError` (with 5 entries, the index runs from 0 to 4)"
   ]
  },
  {
   "cell_type": "markdown",
   "metadata": {
    "slideshow": {
     "slide_type": "slide"
    }
   },
   "source": [
    "If we're passed an array and we don't know how long it is, we can use the `len()` built-in function to find its length:"
   ]
  },
  {
   "cell_type": "code",
   "execution_count": null,
   "metadata": {
    "slideshow": {
     "slide_type": "fragment"
    }
   },
   "outputs": [],
   "source": [
    "len(a)  # Valid indices run from 0 to len(a) - 1."
   ]
  },
  {
   "cell_type": "markdown",
   "metadata": {
    "slideshow": {
     "slide_type": "fragment"
    }
   },
   "source": [
    "In addition to reading individual entries in an array, we can also _assign_ to them using the same notation:"
   ]
  },
  {
   "cell_type": "code",
   "execution_count": null,
   "metadata": {
    "slideshow": {
     "slide_type": "fragment"
    }
   },
   "outputs": [],
   "source": [
    "a = np.arange(5)\n",
    "print(f\"{a=}\")\n",
    "print(f\"{a.dtype=}\")\n",
    "a[2] = -7.4\n",
    "print(f\"{a=}\")  # Notice the automatic typecast!"
   ]
  },
  {
   "cell_type": "markdown",
   "metadata": {
    "editable": true,
    "slideshow": {
     "slide_type": "slide"
    },
    "tags": []
   },
   "source": [
    "Remember, our mental picture of an array is that the name `a` _points_ to a contiguous chunk of memory that we reserved when we created it:\n",
    "\n",
    "<!-- <img src=\"img/lva-array.png\" /> -->\n",
    "<img src=\"https://raw.githubusercontent.com/wlough/CU-Phys2600-Fall2025/main/lectures/img/lva-array.png\" />\n",
    "\n",
    "So it's only natural that we can overwrite some part of this memory (subject to the constraint that everything in the array is the _same type_, which is why `-7.4` became `-7` in an integer array.)"
   ]
  },
  {
   "cell_type": "markdown",
   "metadata": {
    "slideshow": {
     "slide_type": "fragment"
    }
   },
   "source": [
    "This picture brings us to a little warning about an effect called __mutation__, which can lead to nasty surprises if you forget about it!  \n",
    "\n",
    "In Python, there is an important distinction between the _name_ `a`, and the _values_ in the array that it points to.  "
   ]
  },
  {
   "cell_type": "markdown",
   "metadata": {
    "slideshow": {
     "slide_type": "slide"
    }
   },
   "source": [
    "What does this imply if we assign `b = a`? "
   ]
  },
  {
   "cell_type": "code",
   "execution_count": null,
   "metadata": {
    "editable": true,
    "slideshow": {
     "slide_type": "fragment"
    },
    "tags": []
   },
   "outputs": [],
   "source": [
    "a = np.arange(5)\n",
    "print(f\"{a=}\")\n",
    "b = a\n",
    "b += 2\n",
    "a[4] = 99\n",
    "print(f\"{a=}, {b=}\")"
   ]
  },
  {
   "cell_type": "markdown",
   "metadata": {
    "slideshow": {
     "slide_type": "fragment"
    }
   },
   "source": [
    "<!-- <img src=\"img/array-alias.png\" style=\"float:left;margin:10px;\"/> -->\n",
    "<img src=\"https://raw.githubusercontent.com/wlough/CU-Phys2600-Fall2025/main/lectures/img/array-alias.png\" style=\"float:left;margin:10px;\"/>\n",
    "\n",
    "By assigning `b=a`, we had __two names pointing to the same array__.  Then any changes are reflected in both `a` and `b`!\n"
   ]
  },
  {
   "cell_type": "markdown",
   "metadata": {
    "editable": true,
    "slideshow": {
     "slide_type": "fragment"
    },
    "tags": []
   },
   "source": [
    "Because of the way names work in Python, it's important to be on your guard for situations where two names point to the same thing.  When in doubt, explicitly _make a new object_ before you make changes."
   ]
  },
  {
   "cell_type": "code",
   "execution_count": null,
   "metadata": {
    "editable": true,
    "slideshow": {
     "slide_type": ""
    },
    "tags": []
   },
   "outputs": [],
   "source": [
    "a = np.arange(5)\n",
    "print(f\"{a=}\")\n",
    "b = a.copy()  # calling the Numpy array's copy() method\n",
    "c = np.copy(a)  # using the numpy.copy function\n",
    "d = 1 * a  # multiplying by 1\n",
    "a[4] = 99\n",
    "print(f\"{a=}\")\n",
    "print(f\"{b=}, {c=}, {d=}\")"
   ]
  },
  {
   "cell_type": "markdown",
   "metadata": {
    "slideshow": {
     "slide_type": "slide"
    }
   },
   "source": [
    "## Extending and combining arrays\n",
    "\n",
    "Another natural consequence of the idea that `np.array()` creates a continguous chunk of memory for the array is that we can't make an array longer by assigning to values past the end:"
   ]
  },
  {
   "cell_type": "code",
   "execution_count": null,
   "metadata": {
    "editable": true,
    "slideshow": {
     "slide_type": "fragment"
    },
    "tags": []
   },
   "outputs": [],
   "source": [
    "a = np.arange(5)\n",
    "print(f\"{a=}, a[4]={a[4]}\")\n",
    "a[5] = 5"
   ]
  },
  {
   "cell_type": "markdown",
   "metadata": {
    "slideshow": {
     "slide_type": "fragment"
    }
   },
   "source": [
    "This index error is the same thing we got for attempting to read `a[5]`.  \n",
    "\n",
    "So how can we make an array longer?"
   ]
  },
  {
   "cell_type": "markdown",
   "metadata": {
    "slideshow": {
     "slide_type": "slide"
    }
   },
   "source": [
    "The short answer is __we can never make an array longer!__  When an array is stored, the computer gives us _just enough_ memory and will give out the _next_ few bits to some other program that asks.\n",
    "\n",
    "So, \"enlarging\" an array (or shortening it) always means _making a new array with a new chunk of memory._  For example, `np.append()` will combine two arrays end to end:"
   ]
  },
  {
   "cell_type": "code",
   "execution_count": null,
   "metadata": {
    "editable": true,
    "slideshow": {
     "slide_type": "fragment"
    },
    "tags": []
   },
   "outputs": [],
   "source": [
    "print(f\"{a=}\")\n",
    "c = np.append(a, np.arange(3, 10))\n",
    "print(f\"{c=}\")"
   ]
  },
  {
   "cell_type": "markdown",
   "metadata": {
    "slideshow": {
     "slide_type": "fragment"
    }
   },
   "source": [
    "Since `c` is a brand-new array, we can modify it without changing `a`:"
   ]
  },
  {
   "cell_type": "code",
   "execution_count": null,
   "metadata": {
    "editable": true,
    "slideshow": {
     "slide_type": "fragment"
    },
    "tags": []
   },
   "outputs": [],
   "source": [
    "c[0] = -4\n",
    "print(f\"{a=}, {c=}\")"
   ]
  },
  {
   "cell_type": "markdown",
   "metadata": {
    "slideshow": {
     "slide_type": "slide"
    }
   },
   "source": [
    "If we really want to \"change\" an array, we can perform the simple trick of overwriting the _name_:"
   ]
  },
  {
   "cell_type": "code",
   "execution_count": null,
   "metadata": {
    "editable": true,
    "scrolled": true,
    "slideshow": {
     "slide_type": "fragment"
    },
    "tags": []
   },
   "outputs": [],
   "source": [
    "print(f\"{b=}\")\n",
    "b = np.delete(b, 2)  # Remove the value at position 2\n",
    "print(f\"{b=}\")"
   ]
  },
  {
   "cell_type": "markdown",
   "metadata": {
    "slideshow": {
     "slide_type": "fragment"
    }
   },
   "source": [
    "There are a [lot of NumPy routines for array manipulation](https://docs.scipy.org/doc/numpy-1.15.0/reference/routines.array-manipulation.html); again, it's better to look them up when you need them than trying to memorize the list.  (Most of them are used on multi-dimensional arrays, which we haven't met yet.)"
   ]
  },
  {
   "cell_type": "markdown",
   "metadata": {
    "editable": true,
    "slideshow": {
     "slide_type": "slide"
    },
    "tags": []
   },
   "source": [
    "## Slicing\n",
    "\n",
    "Since `numpy` arrays hold so much data, we often need to access and manipulate a smaller sub-array.  The __slice__ notation makes this easy and intuitive!\n",
    "\n",
    "Slice notation takes the form `a[i:j:k]`.  The way the numbers work is the same as `range()` and `np.arange()` functions: \n",
    "- `i` is the first element\n",
    "- `j-1` is the last element\n",
    "- `k` is the increment\n",
    "\n",
    "In other words, we select all elements from `a[i]` to `a[j-1]`, counting by `k`.\n",
    "\n"
   ]
  },
  {
   "cell_type": "code",
   "execution_count": null,
   "metadata": {
    "editable": true,
    "slideshow": {
     "slide_type": "fragment"
    },
    "tags": []
   },
   "outputs": [],
   "source": [
    "print(f\"{a=}\")\n",
    "print(f\"{a[0:4:2]=}\")\n",
    "print(f\"{a[2:5:1]=}\")"
   ]
  },
  {
   "cell_type": "markdown",
   "metadata": {
    "slideshow": {
     "slide_type": "slide"
    }
   },
   "source": [
    "For convenience, there are defaults for all three parts `i,j,k` of the slice, so we can skip some of them.  \n",
    "- `i` defaults to `0` (the start of the array)\n",
    "- `j` defaults to `N` (the end of the array)\n",
    "- `k` defaults to 1"
   ]
  },
  {
   "cell_type": "markdown",
   "metadata": {
    "slideshow": {
     "slide_type": "fragment"
    }
   },
   "source": [
    "Here are some common usage patterns:\n",
    "\n",
    "* `a[i:j]`: all elements from `a[i]` to `a[j-1]` (counting by 1.)\n",
    "* `a[i:]`: all elements from `a[i]` to the end of the array.\n",
    "* `a[:j]`: all elements from `a[0]` to `a[j-1]`.\n",
    "* `a[::k]`: all elements in the array, but counting by `k`.\n"
   ]
  },
  {
   "cell_type": "markdown",
   "metadata": {
    "slideshow": {
     "slide_type": "slide"
    }
   },
   "source": [
    "The last one most often appears as a tricky way of getting an array _backwards_, as `a[::-1]`."
   ]
  },
  {
   "cell_type": "code",
   "execution_count": null,
   "metadata": {
    "editable": true,
    "slideshow": {
     "slide_type": "fragment"
    },
    "tags": []
   },
   "outputs": [],
   "source": [
    "print(f\"{a[3:]=}, {a[:3]=}\")\n",
    "print(f\"{a[::-1]=}\")  # negative values of k let us count backwards"
   ]
  },
  {
   "cell_type": "markdown",
   "metadata": {
    "editable": true,
    "slideshow": {
     "slide_type": "fragment"
    },
    "tags": []
   },
   "source": [
    "Note that a slice of a numpy array is _not_ a copy - __it points to part of the original array__.  This means we can cause mutation with slices; sometimes useful, but you should be aware!"
   ]
  },
  {
   "cell_type": "markdown",
   "metadata": {
    "slideshow": {
     "slide_type": "slide"
    }
   },
   "source": [
    "## Generalized indexing \n",
    "\n",
    "We can take indexing to another level of abstraction!\n",
    "\n",
    "\"_Generalized indexing_\" or \"_advanced indexing_\" lets us do even more general operations than slicing.  It lets us get sub-arrays by passing an __array of indices__:"
   ]
  },
  {
   "cell_type": "code",
   "execution_count": null,
   "metadata": {
    "editable": true,
    "slideshow": {
     "slide_type": "fragment"
    },
    "tags": []
   },
   "outputs": [],
   "source": [
    "a = np.array([17, -3, -44, 8, 56])\n",
    "some_elements = np.array([0, 1, 4])\n",
    "print(f\"{a[some_elements]=}\")"
   ]
  },
  {
   "cell_type": "markdown",
   "metadata": {
    "slideshow": {
     "slide_type": "fragment"
    }
   },
   "source": [
    "Or we can pass a __mask__, which is an array of Boolean values (of the same length as our array) that tells NumPy which values we want to select:"
   ]
  },
  {
   "cell_type": "code",
   "execution_count": null,
   "metadata": {
    "editable": true,
    "slideshow": {
     "slide_type": "fragment"
    },
    "tags": []
   },
   "outputs": [],
   "source": [
    "my_mask = np.array([True, True, False, False, True])\n",
    "print(f\"{a[my_mask]=}\")"
   ]
  },
  {
   "cell_type": "markdown",
   "metadata": {
    "slideshow": {
     "slide_type": "slide"
    }
   },
   "source": [
    "We can create masks by hand, but they naturally show up if we run some sort of Boolean test on our array:"
   ]
  },
  {
   "cell_type": "code",
   "execution_count": null,
   "metadata": {
    "editable": true,
    "slideshow": {
     "slide_type": "fragment"
    },
    "tags": []
   },
   "outputs": [],
   "source": [
    "a = np.array([17, -3, -44, 8, 56])\n",
    "pos_mask = a > 0\n",
    "print(f\"{pos_mask=}\")\n",
    "print(f\"{a[a > 0]=}\")"
   ]
  },
  {
   "cell_type": "markdown",
   "metadata": {
    "slideshow": {
     "slide_type": "fragment"
    }
   },
   "source": [
    "You can think of a mask in the literal sense as an array of opaque and transparent cells, which we just overlay onto our initial array:\n",
    "\n",
    "<!-- <img src=\"img/mask.png\" width=400px /> -->\n",
    "<img src=\"https://raw.githubusercontent.com/wlough/CU-Phys2600-Fall2025/main/lectures/img/mask.png\" width=400px />"
   ]
  },
  {
   "cell_type": "markdown",
   "metadata": {
    "slideshow": {
     "slide_type": "slide"
    }
   },
   "source": [
    "This is great for _selecting_ a subset of our data, but a more powerful application involves __running the arrows backwards__: using the mask to _modify_ a subset of our data.  For example, we could zero out all of the positive entires in `a` using our mask:"
   ]
  },
  {
   "cell_type": "code",
   "execution_count": null,
   "metadata": {
    "editable": true,
    "slideshow": {
     "slide_type": "fragment"
    },
    "tags": []
   },
   "outputs": [],
   "source": [
    "a[pos_mask] = 0\n",
    "print(f\"{a=}\")"
   ]
  },
  {
   "cell_type": "markdown",
   "metadata": {
    "slideshow": {
     "slide_type": "fragment"
    }
   },
   "source": [
    "<!-- <img src=\"img/mask-reverse.png\" width=400px /> -->\n",
    "<img src=\"https://raw.githubusercontent.com/wlough/CU-Phys2600-Fall2025/main/lectures/img/mask-reverse.png\" width=400px />\n",
    "\n",
    "By the way, __a mask is a new (Boolean) array__, which means that it doesn't automatically change when we change the original array!"
   ]
  },
  {
   "cell_type": "code",
   "execution_count": null,
   "metadata": {
    "editable": true,
    "slideshow": {
     "slide_type": "fragment"
    },
    "tags": []
   },
   "outputs": [],
   "source": [
    "print(f\"{a=}, {pos_mask=}\")"
   ]
  },
  {
   "cell_type": "markdown",
   "metadata": {
    "slideshow": {
     "slide_type": "slide"
    }
   },
   "source": [
    "## Tutorial 10\n",
    "\n",
    "Go ahead and open `tut10`."
   ]
  }
 ],
 "metadata": {
  "kernelspec": {
   "display_name": "Python 3 (ipykernel)",
   "language": "python",
   "name": "python3"
  },
  "language_info": {
   "codemirror_mode": {
    "name": "ipython",
    "version": 3
   },
   "file_extension": ".py",
   "mimetype": "text/x-python",
   "name": "python",
   "nbconvert_exporter": "python",
   "pygments_lexer": "ipython3",
   "version": "3.13.7"
  }
 },
 "nbformat": 4,
 "nbformat_minor": 4
}
