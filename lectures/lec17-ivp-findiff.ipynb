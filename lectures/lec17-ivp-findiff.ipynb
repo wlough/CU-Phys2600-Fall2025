{
 "cells": [
  {
   "cell_type": "markdown",
   "metadata": {
    "editable": true,
    "nbgrader": {
     "grade": false,
     "grade_id": "cell-c410a18bc886326b",
     "locked": true,
     "schema_version": 1,
     "solution": false
    },
    "slideshow": {
     "slide_type": "slide"
    },
    "tags": []
   },
   "source": [
    "# More finite difference methods for IVPs\n",
    "\n",
    "<a href=\"https://youtu.be/Hz2F_S3Tl0Y?si=0wKdwjXP30sRtFdg\" target=\"_blank\"><img src=\"https://raw.githubusercontent.com/wlough/CU-Phys2600-Fall2025/main/lectures/img/space-jump.jpg\" width=600px/></a>\n",
    "\n",
    "## PHYS 2600\n",
    "\n",
    "## Lecture 17"
   ]
  },
  {
   "cell_type": "markdown",
   "metadata": {
    "editable": true,
    "slideshow": {
     "slide_type": "slide"
    },
    "tags": []
   },
   "source": [
    "In lecture 13, we saw a few different ways to approximate $f'(x)=df/dx$. Today I want to talk about **forward difference** approximation:\n",
    "$$\n",
    "f'(x) \\approx \\frac{f(x+\\Delta x) - f(x)}{\\Delta x}\n",
    "$$\n",
    "the **backward difference** approximation:\n",
    "$$\n",
    "f'(x) \\approx \\frac{f(x) - f(x-\\Delta x)}{\\Delta x}\n",
    "$$"
   ]
  },
  {
   "cell_type": "markdown",
   "metadata": {
    "editable": true,
    "slideshow": {
     "slide_type": "fragment"
    },
    "tags": []
   },
   "source": [
    "Both of these formulas approximate the derivative $f'(x)$ **evaluated at the point** $x$ as a linear combination of the function evaluated at two separate points.\n",
    "\n",
    "* The **forward difference** looks at\n",
    "  * the point that we're evaluating the derivative: $f(x)$\n",
    "  * and **forward** to the next grid point: $f(x+\\Delta x)$\n",
    "* The **backward difference** looks at\n",
    "  * the point that we're evaluating the derivative: $f(x)$\n",
    "  * and **backward** to the previous grid point: $f(x-\\Delta x)$"
   ]
  },
  {
   "cell_type": "markdown",
   "metadata": {
    "editable": true,
    "slideshow": {
     "slide_type": "slide"
    },
    "tags": []
   },
   "source": [
    "Both forward and backward differences can be used to find approximate solutions to ODEs, but the approximations they give can be quite different. \n",
    "\n",
    "Below are approximate solutions to an IVP satisfied by the velocity $u(t)$ of an object in freefall obtained using forward differences (**forward Euler method**) and backward differences (**backward Euler method**) for a range of step sizes."
   ]
  },
  {
   "cell_type": "code",
   "execution_count": null,
   "metadata": {
    "editable": true,
    "scrolled": true,
    "slideshow": {
     "slide_type": ""
    },
    "tags": []
   },
   "outputs": [],
   "source": [
    "import os\n",
    "import sys\n",
    "import urllib.request\n",
    "\n",
    "remote_path = \"https://raw.githubusercontent.com/wlough/CU-Phys2600-Fall2025/main/lectures/numerical_instability.py\"\n",
    "local_path = \"/content/numerical_instability.py\"\n",
    "\n",
    "if not os.path.exists(local_path):\n",
    "    urllib.request.urlretrieve(remote_path, local_path)\n",
    "\n",
    "if \"/content\" not in sys.path:\n",
    "    sys.path.append(\"/content\")\n",
    "\n",
    "from numerical_instability import fb_compare_plot\n",
    "\n",
    "t0, u0, tf = 0, 0.0, 1\n",
    "Nt_list = [40, 15, 10]\n",
    "fb_compare_plot(t0, u0, tf, Nt_list)"
   ]
  },
  {
   "cell_type": "markdown",
   "metadata": {
    "editable": true,
    "slideshow": {
     "slide_type": "slide"
    },
    "tags": []
   },
   "source": [
    "$$\n",
    "f'(x) \\approx \\frac{f(x) - f(x-\\Delta x)}{\\Delta x}\n",
    "$$\n",
    "\n",
    "For what we're going to do today, it's slightly more convenient to evaluate the backward difference at $x+\\Delta x$ rather than $x$. To use the backward difference formula for $f'(x+\\Delta x)$, we'll need to look at\n",
    "* the point we're evaluating the derivative: $f(x+\\Delta x)$\n",
    "* and **backward** to the previous grid point: $f(x)$\n",
    "$$\n",
    "f'(x+\\Delta x) \\approx \\frac{f(x+\\Delta x) - f(x)}{\\Delta x}\n",
    "$$\n",
    "\n",
    "This is equivalent to the usual backward difference formula with the substitution $x\\mapsto x+\\Delta x$.\n"
   ]
  },
  {
   "cell_type": "markdown",
   "metadata": {
    "editable": true,
    "slideshow": {
     "slide_type": "slide"
    },
    "tags": []
   },
   "source": [
    "Now let's write the forward and backward difference approximations for $u'(t)$ in the index notation that we've been using for the last few lectures.\n",
    "\n",
    "**Forward difference** at $t_i=t_0+i\\Delta t$:\n",
    "$$\n",
    "u'(t_i) \\approx \\frac{u_{i+1} - u_i}{\\Delta t}\n",
    "$$\n",
    "**Backward difference** at $t_{i+1}=t_0+(i+1)\\Delta t$:\n",
    "$$\n",
    "u'(t_{i+1}) \\approx \\frac{u_{i+1} - u_i}{\\Delta t}\n",
    "$$\n",
    "\n"
   ]
  },
  {
   "cell_type": "markdown",
   "metadata": {
    "editable": true,
    "slideshow": {
     "slide_type": "slide"
    },
    "tags": []
   },
   "source": [
    "### Explicit vs Implicit Equations\n",
    "\n",
    "Let's say we know that variables $x$ and $y$ satisfy some algebraic relation. One possibility is that $y$ can be expressed directly in terms of $x$:\n",
    "\n",
    "$$y = x^2 + 1$$\n",
    "\n",
    "Equations of this form are called **explicit**. It is also possible that the equation just gives us a condition satisfied by the variables without giving us an explicit formula for $y$ in terms of $x$:\n",
    "\n",
    "$$\n",
    "y^2+x\\cos(y)=0\n",
    "$$\n",
    "These are called **implicit** equations. Sometimes it's possible to solve this sort of equation for $y$, but generally we need to use a root finding algorithm.\n"
   ]
  },
  {
   "cell_type": "markdown",
   "metadata": {
    "editable": true,
    "slideshow": {
     "slide_type": "slide"
    },
    "tags": []
   },
   "source": [
    "### Why this matters for IVPs\n",
    "\n",
    "Both forward and backward Euler methods give a rule for computing $u_{i+1}=u(t_{i+1})$ from $u_{i}=u(t_{i})$.\n",
    "- Forward Euler gives you an explicit equation:\n",
    "  $$u_{i+1} = u_i+\\Delta t F(u_i, t_i)$$\n",
    "- Backward Euler gives you an implicit equation: \\\n",
    "  $$u_{i+1} - u_i-\\Delta t F(u_{i+1}, t_{i+1})=0$$"
   ]
  },
  {
   "cell_type": "markdown",
   "metadata": {
    "editable": true,
    "slideshow": {
     "slide_type": "fragment"
    },
    "tags": []
   },
   "source": [
    "Since the stuff inside of $F$ in the backward equation is evaluated at $t_{i+1}=t_{i}+\\Delta t$, it isn't possible to solve for $u_{i+1}$ unless $F$ is something simple."
   ]
  },
  {
   "cell_type": "markdown",
   "metadata": {
    "editable": true,
    "slideshow": {
     "slide_type": "slide"
    },
    "tags": []
   },
   "source": [
    "### Forward Euler review\n",
    "\n",
    "$$\n",
    "u'(t) = F(u(t), t), \\quad u(0)= c\n",
    "$$\n",
    "\n",
    "<!-- 1) Choose a discrete set of $t$-values.\n",
    "$$t_k = t_0 + k\\Delta t \\quad \\text{for} \\quad k=0,1,\\dots, N-1$$\n",
    "2) Replace the derivative on the LHS with a forward difference evaluated at $t=t_i$.\n",
    "$$u'(t_i)\\approx (u_{i+1} - u_i)/\\Delta t$$\n",
    "3) Evaluate the right hand side at $t=t_i$.\n",
    "$$\n",
    "\\left.F(u(t), t)\\right|_{t=t_i}=F(u_i, t_i)\n",
    "$$\n",
    "4) Do a little bit of algebra to get an **explicit** formula for $u_{i+1}$ in terms of $u_i$.\n",
    "$$\n",
    "\\frac{u_{i+1} - u_i}{\\Delta t} = F(u_i, t_i) \\quad \\Rightarrow \\quad u_{i+1} = u_i + F(u_i, t_i)\\Delta t\n",
    "$$\n",
    "5) Start with the initial condition $u_0=c$ and use the explicit formula to compute subsequent values of $u$.\n",
    "$$\n",
    "\\begin{align}\n",
    "u_0 &= c\\\\\n",
    "u_1 &= u_0 + \\Delta t F(u_0, t_0)\\\\\n",
    "&\\vdots \\\\\n",
    "u_{i+1} &= u_i + \\Delta t F(u_i, t_i)\\\\\n",
    "\\end{align}\n",
    "$$ -->\n"
   ]
  },
  {
   "cell_type": "markdown",
   "metadata": {
    "editable": true,
    "slideshow": {
     "slide_type": "fragment"
    },
    "tags": []
   },
   "source": [
    "__(1)__ Choose a discrete set of $t$-values.\n",
    "$$t_k = t_0 + k\\Delta t \\quad \\text{for} \\quad k=0,1,\\dots, N-1$$"
   ]
  },
  {
   "cell_type": "markdown",
   "metadata": {
    "editable": true,
    "slideshow": {
     "slide_type": "fragment"
    },
    "tags": []
   },
   "source": [
    "__(2)__ Replace the derivative on the LHS with a forward difference evaluated at $t=t_i$.\n",
    "$$u'(t_i)\\approx (u_{i+1} - u_i)/\\Delta t$$"
   ]
  },
  {
   "cell_type": "markdown",
   "metadata": {
    "editable": true,
    "slideshow": {
     "slide_type": "fragment"
    },
    "tags": []
   },
   "source": [
    "__(3)__ Evaluate the right hand side at $t=t_i$.\n",
    "$$\n",
    "\\left.F(u(t), t)\\right|_{t=t_i}=F(u_i, t_i)\n",
    "$$"
   ]
  },
  {
   "cell_type": "markdown",
   "metadata": {
    "editable": true,
    "slideshow": {
     "slide_type": "fragment"
    },
    "tags": []
   },
   "source": [
    "__(4)__ Do a little bit of algebra to get an **explicit** formula for $u_{i+1}$.\n",
    "$$\n",
    "\\frac{u_{i+1} - u_i}{\\Delta t} = F(u_i, t_i) \\quad \\Rightarrow \\quad u_{i+1} = u_i + F(u_i, t_i)\\Delta t\n",
    "$$"
   ]
  },
  {
   "cell_type": "markdown",
   "metadata": {
    "editable": true,
    "slideshow": {
     "slide_type": "fragment"
    },
    "tags": []
   },
   "source": [
    "__(5)__ Start with the initial condition $u_0=c$ and use the explicit formula to compute subsequent values of $u$.\n",
    "$$\n",
    "\\begin{align}\n",
    "u_0 &= c\\\\\n",
    "u_1 &= u_0 + \\Delta t F(u_0, t_0)\\\\\n",
    "&\\vdots \\\\\n",
    "u_{i+1} &= u_i + \\Delta t F(u_i, t_i)\\\\\n",
    "\\end{align}\n",
    "$$"
   ]
  },
  {
   "cell_type": "markdown",
   "metadata": {
    "editable": true,
    "slideshow": {
     "slide_type": "slide"
    },
    "tags": []
   },
   "source": [
    "### What needs to change for backward Euler?\n",
    "\n",
    "$$\n",
    "u'(t) = F(u(t), t), \\quad u(0)= c\n",
    "$$\n"
   ]
  },
  {
   "cell_type": "markdown",
   "metadata": {
    "editable": true,
    "slideshow": {
     "slide_type": "fragment"
    },
    "tags": []
   },
   "source": [
    "__(1)__ Choose a discrete set of $t$-values.\n",
    "$$t_k = t_0 + k\\Delta t \\quad \\text{for} \\quad k=0,1,\\dots, N-1$$"
   ]
  },
  {
   "cell_type": "markdown",
   "metadata": {
    "editable": true,
    "slideshow": {
     "slide_type": "fragment"
    },
    "tags": []
   },
   "source": [
    "__(2)__ Replace the derivative on the with a backward difference evaluated at $t=t_{i+1}$.\n",
    "$$u'(t_{i+1})\\approx (u_{i} - u_{i-1})/\\Delta t$$"
   ]
  },
  {
   "cell_type": "markdown",
   "metadata": {
    "editable": true,
    "slideshow": {
     "slide_type": "fragment"
    },
    "tags": []
   },
   "source": [
    "__(3)__ Evaluate the right hand side at $t=t_{i+1}$.\n",
    "$$\n",
    "\\left.F(u(t), t)\\right|_{t=t_{i+1}}=F(u_{i+1}, t_{i+1})\n",
    "$$"
   ]
  },
  {
   "cell_type": "markdown",
   "metadata": {
    "editable": true,
    "slideshow": {
     "slide_type": "fragment"
    },
    "tags": []
   },
   "source": [
    "__(4)__ Do a little bit of algebra to get an **implicit** formula for $u_{i+1}$.\n",
    "$$\n",
    "\\frac{u_{i+1} - u_i}{\\Delta t} = F(u_{i+1}, t_{i+1}) \\quad \\Rightarrow \\quad u_{i+1} - u_i - \\Delta t F(u_{i+1}, t_{i+1}) = 0\n",
    "$$"
   ]
  },
  {
   "cell_type": "markdown",
   "metadata": {
    "editable": true,
    "slideshow": {
     "slide_type": "fragment"
    },
    "tags": []
   },
   "source": [
    "__(5)__ Start with the initial condition $u_0=c$ and solve the implicit formula to compute subsequent values of $u$.\n",
    "$$\n",
    "\\begin{align}\n",
    "u_0 &= c\\\\\n",
    "\\text{solve}\\quad u_{1} - u_{0} - &\\Delta t F(u_{1}, t_{1}) = 0\\quad \\text{for}\\quad u_{1}\\\\\n",
    "\\text{solve}\\quad u_{2} - u_{1} - &\\Delta t F(u_{2}, t_{2}) = 0\\quad \\text{for}\\quad u_{2}\\\\\n",
    "&\\vdots \\\\\n",
    "\\text{solve}\\quad u_{i+1} - u_{i} - &\\Delta t F(u_{i+1}, t_{i+1}) = 0\\quad \\text{for}\\quad u_{i+1}\\\\\n",
    "\\end{align}\n",
    "$$"
   ]
  },
  {
   "cell_type": "markdown",
   "metadata": {
    "editable": true,
    "slideshow": {
     "slide_type": "slide"
    },
    "tags": []
   },
   "source": [
    "## No tutorial today!\n",
    "\n",
    "You can use the extra time to finish homework 8."
   ]
  }
 ],
 "metadata": {
  "kernelspec": {
   "display_name": "Python 3 (ipykernel)",
   "language": "python",
   "name": "python3"
  },
  "language_info": {
   "codemirror_mode": {
    "name": "ipython",
    "version": 3
   },
   "file_extension": ".py",
   "mimetype": "text/x-python",
   "name": "python",
   "nbconvert_exporter": "python",
   "pygments_lexer": "ipython3",
   "version": "3.13.7"
  }
 },
 "nbformat": 4,
 "nbformat_minor": 4
}
