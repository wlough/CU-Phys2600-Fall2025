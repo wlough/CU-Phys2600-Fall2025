{
 "cells": [
  {
   "cell_type": "markdown",
   "metadata": {
    "slideshow": {
     "slide_type": "slide"
    }
   },
   "source": [
    "# Announcements\n",
    "\n",
    "* HW 8 due Thursday 10/16 at 12pm\n"
   ]
  },
  {
   "cell_type": "markdown",
   "metadata": {
    "slideshow": {
     "slide_type": "slide"
    }
   },
   "source": [
    "# Tuples, Mutability, and Unpacking\n",
    "\n",
    "<a href=\"http://shop.worldofballpythons.com/posters\" target=\"_blank\"><img src=\"https://raw.githubusercontent.com/wlough/CU-Phys2600-Fall2025/main/lectures/img/python-poster.jpg\" width=500px /> </a>\n",
    "\n",
    "## PHYS 2600: Scientific Computing\n",
    "\n",
    "## Lecture 16"
   ]
  },
  {
   "cell_type": "markdown",
   "metadata": {
    "slideshow": {
     "slide_type": "slide"
    }
   },
   "source": [
    "## Tuples\n",
    "\n",
    "The __tuple__ is another Python sequence object, like a list or array.  Its basic behavior is very similar:"
   ]
  },
  {
   "cell_type": "code",
   "execution_count": 1,
   "metadata": {
    "scrolled": true
   },
   "outputs": [
    {
     "name": "stdout",
     "output_type": "stream",
     "text": [
      "(2, 4.0, 'eight')\n",
      "4.0\n"
     ]
    }
   ],
   "source": [
    "t1 = (2, 4.0, \"eight\")  # Tuples are written with () instead of []\n",
    "print(t1)\n",
    "print(t1[1])"
   ]
  },
  {
   "cell_type": "markdown",
   "metadata": {
    "slideshow": {
     "slide_type": "fragment"
    }
   },
   "source": [
    "The main difference between tuples and lists is that tuples are __immutable__; we can't change them once we create them.  Functions like `append` or assignments like `t1[1] = 5` will both fail with errors.\n",
    "\n",
    "List flexibility can be useful, but tuples are better if we want to be _certain_ no unintended changes happen to our data - or if we just don't need the features a list offers."
   ]
  },
  {
   "cell_type": "markdown",
   "metadata": {
    "slideshow": {
     "slide_type": "slide"
    }
   },
   "source": [
    "What I call \"addressing\" or \"accessing\" the elements of a sequence is also called __subscripting__ in Python.  You should know the term in case you run into this error:"
   ]
  },
  {
   "cell_type": "code",
   "execution_count": 2,
   "metadata": {
    "slideshow": {
     "slide_type": "-"
    }
   },
   "outputs": [
    {
     "ename": "TypeError",
     "evalue": "'int' object is not subscriptable",
     "output_type": "error",
     "traceback": [
      "\u001b[31m---------------------------------------------------------------------------\u001b[39m",
      "\u001b[31mTypeError\u001b[39m                                 Traceback (most recent call last)",
      "\u001b[36mCell\u001b[39m\u001b[36m \u001b[39m\u001b[32mIn[2]\u001b[39m\u001b[32m, line 2\u001b[39m\n\u001b[32m      1\u001b[39m thing = \u001b[32m34\u001b[39m\n\u001b[32m----> \u001b[39m\u001b[32m2\u001b[39m \u001b[43mthing\u001b[49m\u001b[43m[\u001b[49m\u001b[32;43m2\u001b[39;49m\u001b[43m]\u001b[49m\n",
      "\u001b[31mTypeError\u001b[39m: 'int' object is not subscriptable"
     ]
    }
   ],
   "source": [
    "thing = 34\n",
    "thing[2]"
   ]
  },
  {
   "cell_type": "markdown",
   "metadata": {
    "slideshow": {
     "slide_type": "fragment"
    }
   },
   "source": [
    "This is closely related to one you may have seen before, the 'not callable' error for parentheses in the wrong place:"
   ]
  },
  {
   "cell_type": "code",
   "execution_count": 3,
   "metadata": {
    "slideshow": {
     "slide_type": "-"
    }
   },
   "outputs": [
    {
     "ename": "TypeError",
     "evalue": "'int' object is not callable",
     "output_type": "error",
     "traceback": [
      "\u001b[31m---------------------------------------------------------------------------\u001b[39m",
      "\u001b[31mTypeError\u001b[39m                                 Traceback (most recent call last)",
      "\u001b[36mCell\u001b[39m\u001b[36m \u001b[39m\u001b[32mIn[3]\u001b[39m\u001b[32m, line 1\u001b[39m\n\u001b[32m----> \u001b[39m\u001b[32m1\u001b[39m \u001b[43mthing\u001b[49m\u001b[43m(\u001b[49m\u001b[32;43m2\u001b[39;49m\u001b[43m)\u001b[49m\n",
      "\u001b[31mTypeError\u001b[39m: 'int' object is not callable"
     ]
    }
   ],
   "source": [
    "thing(2)"
   ]
  },
  {
   "cell_type": "markdown",
   "metadata": {
    "slideshow": {
     "slide_type": "slide"
    }
   },
   "source": [
    "Although they are immutable, the `+` operator still works with tuples.  We can use this to \"build up\" a large tuple using the accumulator pattern:"
   ]
  },
  {
   "cell_type": "code",
   "execution_count": null,
   "metadata": {},
   "outputs": [],
   "source": [
    "sq_tuple = ()\n",
    "for i in range(0, 4):\n",
    "    # sq_tuple = sq_tuple + (i**2)  ## This will cause an error!\n",
    "    sq_tuple = sq_tuple + (i**2,)\n",
    "\n",
    "sq_tuple"
   ]
  },
  {
   "cell_type": "markdown",
   "metadata": {
    "slideshow": {
     "slide_type": "fragment"
    }
   },
   "source": [
    "__Notice the comma at the end__, which is a little tricky at first glance!  If we just write `(i**2)` then Python will interpret those as ordinary parentheses, and ignore them.  But `(i**2,)` is read as a one-element tuple, which is what we intend for this \"addition\".\n",
    "\n",
    "This is sort of an abuse of tuples; we're creating a brand-new tuple every time we loop.  For most situations where you need to build something up piece by piece, a list is a better choice."
   ]
  },
  {
   "cell_type": "markdown",
   "metadata": {
    "slideshow": {
     "slide_type": "slide"
    }
   },
   "source": [
    "## Mutability and Identity\n",
    "\n",
    "We've already seen the concept of _mutability_ a couple of times, but now it's worth digging into a little deeper.\n",
    "\n",
    "Since _names_ in Python are just pointers to _values_, they're nice and independent of each other: if we set `x=3` and `y=x` then both names point to the same value.  However, following this with `x += 1` just makes `x` point to `4` instead, and doesn't change `y`.\n",
    "\n"
   ]
  },
  {
   "cell_type": "code",
   "execution_count": null,
   "metadata": {},
   "outputs": [],
   "source": [
    "x = 3\n",
    "y = x\n",
    "x += 1\n",
    "print(\"x = %d, y = %d\" % (x, y))"
   ]
  },
  {
   "cell_type": "markdown",
   "metadata": {
    "slideshow": {
     "slide_type": "fragment"
    }
   },
   "source": [
    "<img src=\"https://raw.githubusercontent.com/wlough/CU-Phys2600-Fall2025/main/lectures/img/xy_reassign.png\" width=200px style=\"float:right;\" />\n",
    "\n",
    "The number `3` is __immutable__; it can't change as a value.  On the other hand, a variable like `x` is __mutable__; we can change what value it points to."
   ]
  },
  {
   "cell_type": "markdown",
   "metadata": {
    "slideshow": {
     "slide_type": "slide"
    }
   },
   "source": [
    "Lists and tuples differ in the same way.  A list is a __sequence of names__, while a tuple is a __sequence of values__.  This means that a whole tuple also behaves like a value - it is immutable.  \n",
    "\n",
    "Here's a sketch of the difference for list `L` and tuple `t` containing the same information:\n",
    "\n",
    "<img src=\"https://raw.githubusercontent.com/wlough/CU-Phys2600-Fall2025/main/lectures/img/list-vs-tuple.png\" width=500px style=\"margin:20px;\" />\n",
    "\n",
    "(The _array_, which we met first, is something in-between. Array entries act like values, so it is more like a tuple, but we can _change_ the values in an array if we preserve their data type.)"
   ]
  },
  {
   "cell_type": "markdown",
   "metadata": {
    "slideshow": {
     "slide_type": "slide"
    }
   },
   "source": [
    "<img src=\"https://raw.githubusercontent.com/wlough/CU-Phys2600-Fall2025/main/lectures/img/list_slice.png\" width=400px style=\"float:right;margin:20px;\" />\n",
    "\n",
    "One more important difference between lists, arrays, and tuples has to do with slicing.  The short-hand way to remember this behavior is as follows: __slicing gives us a set of values__.\n",
    "\n",
    "For a NumPy array, the values in a slice can be directly modified if we want to.  But when we slice a list, because the slice gives _values_ and not _names_, the behavior is that __we create a new list__ pointing to the same values.\n",
    "\n"
   ]
  },
  {
   "cell_type": "code",
   "execution_count": null,
   "metadata": {
    "slideshow": {
     "slide_type": "-"
    }
   },
   "outputs": [],
   "source": [
    "L = [101, \"Colorado\", False]\n",
    "Lslice = L[1:]\n",
    "L[1] = \"Florida\"\n",
    "print(Lslice)\n",
    "print(L)"
   ]
  },
  {
   "cell_type": "markdown",
   "metadata": {
    "slideshow": {
     "slide_type": "fragment"
    }
   },
   "source": [
    "As a result of this behavior, another way to copy a list is just to write `L[:]`, which is the slice corresponding to everything.  (Using `.copy()` is clearer and thus better practice.)"
   ]
  },
  {
   "cell_type": "markdown",
   "metadata": {
    "slideshow": {
     "slide_type": "slide"
    }
   },
   "source": [
    "We can summarize the different mutability behavior of lists and arrays in the following table:\n",
    "\n",
    "|In-place operation| List | Array | Tuple |\n",
    "|---------|-------|------|------|\n",
    "| Change an element's value |  yes  |  yes  |  no |\n",
    "| Change a slice's values   |  no   |  yes  |  no |\n",
    "| Add elements to the end   |  yes  |  no  |  no | \n",
    "| Add an element in the middle  |  yes  |  no  |  no | \n",
    "| Delete elements completely  |  yes  |  no  |  no |\n",
    "\n",
    "The difference for list slicing is the most counter-intuitive, but just remember that _slices give values_ - so a  list slice has the same values but new names vs. the original list."
   ]
  },
  {
   "cell_type": "markdown",
   "metadata": {
    "slideshow": {
     "slide_type": "slide"
    }
   },
   "source": [
    "It's important to know the difference between an object's _values_ and its _identity_ - the latter meaning, what chunk of memory does the object use?  Two objects can contain the same values, but have different identities:"
   ]
  },
  {
   "cell_type": "code",
   "execution_count": null,
   "metadata": {},
   "outputs": [],
   "source": [
    "L = [1, 2, 3]\n",
    "L2 = L.copy()\n",
    "L3 = L\n",
    "\n",
    "print(L == L2)\n",
    "print(L is L2)\n",
    "print(L is L3)"
   ]
  },
  {
   "cell_type": "markdown",
   "metadata": {},
   "source": [
    "This introduces the `is` operator, which is a Boolean operator that tests for _identity_.  I won't spend too much time on `is`; in most practical cases, testing for value identity with `==` is more useful.  But you should know it exists, for situations where object identity matters.  [See these notes](https://www.pythontutorial.net/advanced-python/python-is-operator/) for more about `is`."
   ]
  },
  {
   "cell_type": "markdown",
   "metadata": {
    "slideshow": {
     "slide_type": "slide"
    }
   },
   "source": [
    "## Packing and unpacking\n",
    "\n",
    "For storing large amounts of data, arrays are usually the best practical solution.  Lists and tuples are more useful as _glue_ - they are extremely handy for _packaging_ smaller chunks of data as they are passed around in our programs.\n",
    "\n",
    "In working with these packages of data, we often have to __pack__ and __unpack__ individual values.  A common use for packing is in returning multiple things from a single function, for example:"
   ]
  },
  {
   "cell_type": "code",
   "execution_count": null,
   "metadata": {},
   "outputs": [],
   "source": [
    "def KE_and_PE(x, vx, m=1, k=1):\n",
    "    KE = 0.5 * m * vx**2\n",
    "    PE = 0.5 * k * x**2\n",
    "\n",
    "    return KE, PE  # Shorthand: we can remove the () here\n",
    "\n",
    "\n",
    "energies = KE_and_PE(2, 3)\n",
    "print(energies)"
   ]
  },
  {
   "cell_type": "markdown",
   "metadata": {
    "slideshow": {
     "slide_type": "fragment"
    }
   },
   "source": [
    "Since a function can only return once, packing into a tuple (or list) is the only way to get both KE and PE out."
   ]
  },
  {
   "cell_type": "markdown",
   "metadata": {
    "slideshow": {
     "slide_type": "slide"
    }
   },
   "source": [
    "Now, if we want to use the individual values in `energies`, we need to _unpack_ them:"
   ]
  },
  {
   "cell_type": "code",
   "execution_count": null,
   "metadata": {},
   "outputs": [],
   "source": [
    "KE = energies[0]\n",
    "PE = energies[1]\n",
    "print(KE + PE)  # Find total energy"
   ]
  },
  {
   "cell_type": "markdown",
   "metadata": {
    "slideshow": {
     "slide_type": "fragment"
    }
   },
   "source": [
    "In fact, if we immediately want the individual values, we can use __unpacking notation__ to skip the `energies` variable:"
   ]
  },
  {
   "cell_type": "code",
   "execution_count": null,
   "metadata": {},
   "outputs": [],
   "source": [
    "KE2, PE2 = KE_and_PE(3, 1)\n",
    "print(KE2, PE2, KE2 + PE2)"
   ]
  },
  {
   "cell_type": "markdown",
   "metadata": {
    "slideshow": {
     "slide_type": "fragment"
    }
   },
   "source": [
    "This works because the assignment operator `=` works specially on tuples and lists (sequences): if we have a sequence of the same length _on both sides of `=`_, then every name on the left-hand side is assigned the corresponding entry on the right-hand side."
   ]
  },
  {
   "cell_type": "markdown",
   "metadata": {
    "slideshow": {
     "slide_type": "slide"
    }
   },
   "source": [
    "Unpacking also shows up frequently when we have nested lists.  Consider this example:"
   ]
  },
  {
   "cell_type": "code",
   "execution_count": null,
   "metadata": {},
   "outputs": [],
   "source": [
    "points = (  ## Spacing added for readability!\n",
    "    (1, 0),\n",
    "    (2, -1),\n",
    ")\n",
    "for pt in points:\n",
    "    x = pt[0]\n",
    "    y = pt[1]\n",
    "    print(x, y)"
   ]
  },
  {
   "cell_type": "markdown",
   "metadata": {
    "slideshow": {
     "slide_type": "fragment"
    }
   },
   "source": [
    "Adding unpacking notation lets us pull each point apart in just one line:"
   ]
  },
  {
   "cell_type": "code",
   "execution_count": null,
   "metadata": {
    "scrolled": true
   },
   "outputs": [],
   "source": [
    "for pt in points:\n",
    "    x, y = pt\n",
    "    print(x, y)"
   ]
  },
  {
   "cell_type": "markdown",
   "metadata": {
    "slideshow": {
     "slide_type": "slide"
    }
   },
   "source": [
    "Better yet, we can unpack each point right in the `for` loop header:"
   ]
  },
  {
   "cell_type": "code",
   "execution_count": null,
   "metadata": {},
   "outputs": [],
   "source": [
    "for x, y in points:\n",
    "    print(x, y)"
   ]
  },
  {
   "cell_type": "markdown",
   "metadata": {
    "slideshow": {
     "slide_type": "fragment"
    }
   },
   "source": [
    "This saves some annoying typing, and it's also clearer to read!  This is an example of \"__Pythonic__\" code: it's clever-looking shorthand _and_ it makes our code cleaner.  To quote the [Zen of Python](https://www.python.org/dev/peps/pep-0020/): \"Simple is better than complex.  Complex is better than complicated.\""
   ]
  },
  {
   "cell_type": "markdown",
   "metadata": {
    "slideshow": {
     "slide_type": "slide"
    }
   },
   "source": [
    "## Tutorial 16\n",
    "\n",
    "Connect to the server and load up `tut16`.\n",
    "\n",
    "## Additional reading\n",
    "\n",
    "If you have some low-level programming experience (like C/C++) and you really want to know how lists work in Python underneath, [here's a nice write-up](https://www.laurentluce.com/posts/python-list-implementation/) of the CPython implementation. "
   ]
  }
 ],
 "metadata": {
  "celltoolbar": "Slideshow",
  "kernelspec": {
   "display_name": "Python 3 (ipykernel)",
   "language": "python",
   "name": "python3"
  },
  "language_info": {
   "codemirror_mode": {
    "name": "ipython",
    "version": 3
   },
   "file_extension": ".py",
   "mimetype": "text/x-python",
   "name": "python",
   "nbconvert_exporter": "python",
   "pygments_lexer": "ipython3",
   "version": "3.13.7"
  }
 },
 "nbformat": 4,
 "nbformat_minor": 4
}
