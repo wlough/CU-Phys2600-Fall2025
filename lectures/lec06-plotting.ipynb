{
 "cells": [
  {
   "cell_type": "markdown",
   "metadata": {
    "editable": true,
    "nbgrader": {
     "grade": false,
     "grade_id": "cell-c410a18bc886326b",
     "locked": true,
     "schema_version": 1,
     "solution": false
    },
    "slideshow": {
     "slide_type": "slide"
    },
    "tags": []
   },
   "source": [
    "# Making plots with MatPlotLib\n",
    "\n",
    "<a href=\"http://austringer.net/wp/index.php/2011/05/20/plotting-a-dolphin-biosonar-click-train/\" target=\"_blank\"><img src=\"img/mpl_dolphin_click.png\" width=600px /></a>\n",
    "<!-- <a href=\"http://austringer.net/wp/index.php/2011/05/20/plotting-a-dolphin-biosonar-click-train/\" target=\"_blank\"><img src=\"https://raw.githubusercontent.com/wlough/CU-Phys2600-Fall2025/main/lectures/img/mpl_dolphin_click.png\" width=600px /></a> -->\n",
    "\n",
    "\n",
    "## PHYS 2600: Scientific Computing\n",
    "\n",
    "## Lecture 6"
   ]
  },
  {
   "cell_type": "markdown",
   "metadata": {
    "editable": true,
    "slideshow": {
     "slide_type": "slide"
    },
    "tags": []
   },
   "source": [
    "## MatPlotLib\n",
    "\n",
    "One really useful feature immediately enabled by NumPy arrays is _making plots_ - let's learn how to do it with `matplotlib`!  (If you're familiar with MATLAB, `matplotlib` is intended to be familiar.  If you're not, don't worry - you don't need to know Matlab.)\n",
    "\n",
    "If you search for info on using `matplotlib`, you may find reference to something called `pylab` in older materials.  __Do not use `pylab` anymore;__ it is \"_deprecated_\" (programming jargon for \"still exists, but no longer maintained and you shouldn't use it anymore.\")"
   ]
  },
  {
   "cell_type": "markdown",
   "metadata": {
    "editable": true,
    "slideshow": {
     "slide_type": "slide"
    },
    "tags": []
   },
   "source": [
    "`matplotlib` is an enormous and very powerful library!  We will stick to one way of using it: the __`pyplot` interface.__  Since this is a sub-module the import statement is long, so aliasing is useful - the standard shortname is `plt`."
   ]
  },
  {
   "cell_type": "code",
   "execution_count": null,
   "metadata": {
    "editable": true,
    "slideshow": {
     "slide_type": "fragment"
    },
    "tags": []
   },
   "outputs": [],
   "source": [
    "import matplotlib.pyplot as plt\n",
    "import numpy as np\n",
    "\n",
    "x = np.linspace(0, 1, 300)\n",
    "y = np.sin(7 * np.pi * x)\n",
    "plt.plot(x, y)\n",
    "\n",
    "# help(plt.plot)"
   ]
  },
  {
   "cell_type": "markdown",
   "metadata": {
    "slideshow": {
     "slide_type": "fragment"
    }
   },
   "source": [
    "This shows off the first function to know, `plt.plot(x,y)` - `x` and `y` are arrays.  In its simplest version, `plt.plot()` is just \"connecting the dots\" between the points specified in the arrays."
   ]
  },
  {
   "cell_type": "markdown",
   "metadata": {
    "editable": true,
    "slideshow": {
     "slide_type": "slide"
    },
    "tags": []
   },
   "source": [
    "`plt.plot()` takes an enormous number of options, which we can use to customize its appearance.  For example, we can change it to orange and plot individual points with square markers in addition to the line:"
   ]
  },
  {
   "cell_type": "code",
   "execution_count": null,
   "metadata": {
    "scrolled": true,
    "slideshow": {
     "slide_type": "fragment"
    }
   },
   "outputs": [],
   "source": [
    "x = np.linspace(0, 1, 15)\n",
    "z = plt.plot(x, x**2, color=\"orange\", marker=\"s\")"
   ]
  },
  {
   "cell_type": "markdown",
   "metadata": {
    "editable": true,
    "slideshow": {
     "slide_type": "fragment"
    },
    "tags": []
   },
   "source": [
    "The [official documentation](https://matplotlib.org/stable/api/_as_gen/matplotlib.pyplot.plot.html) has lists of what the color/marker options are.  Simply searching up [matplotlib colors](https://matplotlib.org/examples/color/named_colors.html) or [matplotlib markers](https://matplotlib.org/api/markers_api.html) gives webpages with a nice visual guide.  (Using `help(plt.plot)` will show a number of these options, too.)"
   ]
  },
  {
   "cell_type": "markdown",
   "metadata": {
    "slideshow": {
     "slide_type": "slide"
    }
   },
   "source": [
    "Let's try to plot a more interesting function, without the markers to just see the curve:"
   ]
  },
  {
   "cell_type": "code",
   "execution_count": null,
   "metadata": {
    "slideshow": {
     "slide_type": "fragment"
    }
   },
   "outputs": [],
   "source": [
    "t = np.linspace(0, 2 * np.pi, 10)\n",
    "plt.plot(t, np.sin(t), color=\"orange\")"
   ]
  },
  {
   "cell_type": "markdown",
   "metadata": {
    "slideshow": {
     "slide_type": "fragment"
    }
   },
   "source": [
    "That's not a very nice-looking plot - `sin(t)` is supposed to be a smooth function! Why does it look like that?"
   ]
  },
  {
   "cell_type": "markdown",
   "metadata": {
    "slideshow": {
     "slide_type": "fragment"
    }
   },
   "source": [
    "What you're seeing here is a consequence of __sampling__: our array `t` only exists at 10 points in the range $(0,2\\pi)$, so we can't see any details of the function at a smaller spacing.  \n",
    "\n",
    "(Specifically, we are __undersampling__ the function, so the curve we plot doesn't match the real curve.)"
   ]
  },
  {
   "cell_type": "markdown",
   "metadata": {
    "slideshow": {
     "slide_type": "slide"
    }
   },
   "source": [
    "We can add the markers back to the plot, and compare with using 100 points (blue curve) instead (simply calling `plt.plot()` again in the same cell):"
   ]
  },
  {
   "cell_type": "code",
   "execution_count": null,
   "metadata": {
    "slideshow": {
     "slide_type": "fragment"
    }
   },
   "outputs": [],
   "source": [
    "t2 = np.linspace(0, 2 * np.pi, 100)\n",
    "plt.plot(t, np.sin(t), color=\"orange\", marker=\"o\")\n",
    "plt.plot(t2, np.sin(t2), color=\"blue\")"
   ]
  },
  {
   "cell_type": "markdown",
   "metadata": {
    "slideshow": {
     "slide_type": "fragment"
    }
   },
   "source": [
    "Our plotter is doing nothing more than _connecting the dots_ that we give to it!  Of course, __this is how any function plotter works__ - programs like Mathematica or other plotting software just hide it from you by default."
   ]
  },
  {
   "cell_type": "markdown",
   "metadata": {
    "slideshow": {
     "slide_type": "slide"
    }
   },
   "source": [
    "This might seem a little cumbersome at first, but an advantage of the way `plt.plot()` works is that there is _no difference_ between plotting functions and plotting lists of data:"
   ]
  },
  {
   "cell_type": "code",
   "execution_count": null,
   "metadata": {
    "scrolled": true,
    "slideshow": {
     "slide_type": "fragment"
    }
   },
   "outputs": [],
   "source": [
    "temps_F = np.array([88, 86, 79, 86, 88, 90, 86])\n",
    "days_F = [\"9/3\", \"9/4\", \"9/5\", \"9/6\", \"9/7\", \"9/8\", \"9/9\"]\n",
    "plt.plot(np.arange(7), temps_F)\n",
    "plt.xticks(np.arange(7), labels=days_F)\n",
    "plt.ylabel(\"Temp (°F)\")\n",
    "plt.title(\"Boulder high temp, 9/3/23 to 9/9/23\")"
   ]
  },
  {
   "cell_type": "markdown",
   "metadata": {
    "editable": true,
    "slideshow": {
     "slide_type": "slide"
    },
    "tags": []
   },
   "source": [
    "This last example shows a little bit of how the `pyplot` interface works: instead of stuffing every formatting option into `plt.plot(...)`, we call helper functions like `plt.xticks(...)` (change x-tick labels) or `plt.ylabel(...)` (y-axis label) that *modify* the current plot.\n",
    "\n",
    "These functions work by **side effect** on a **global state machine**: there is a “current figure/axes,” and pyplot functions mutate that state without you assigning their return values.\n",
    "\n",
    "**Jupyter note.** With the inline backend, figures are closed after display by default, so each cell typically starts with *no current figure*. The first plotting call creates a fresh figure automatically.\n"
   ]
  },
  {
   "cell_type": "markdown",
   "metadata": {
    "editable": true,
    "slideshow": {
     "slide_type": "slide"
    },
    "tags": []
   },
   "source": [
    "Like I said at the start, Matplotlib is huge! That means there are multiple ways to do the same thing. `plt.plot(...)` is great for quick, single-axes plots. For more complex figures, prefer the **object-oriented** style that *returns* a Figure and Axes.\n",
    "\n",
    "Two common object-oriented entry points you should know:\n",
    "\n",
    "- `fig, ax = plt.subplots(...)` --> concise and ideal for single plots or regular grids.\n",
    "- `fig = plt.figure(...); ax = fig.add_subplot(..., projection=...)` --> great when building figures incrementally or mixing 2D/3D axes."
   ]
  },
  {
   "cell_type": "code",
   "execution_count": null,
   "metadata": {
    "editable": true,
    "slideshow": {
     "slide_type": ""
    },
    "tags": []
   },
   "outputs": [],
   "source": [
    "x = np.linspace(0, 2 * np.pi, 200)\n",
    "y = np.sin(x)\n",
    "\n",
    "# Single-axes, object-oriented style\n",
    "fig, ax = plt.subplots(figsize=(6, 4))\n",
    "ax.plot(x, y, label=\"sin(x)\")\n",
    "\n",
    "ax.set_xlabel(\"x\")\n",
    "ax.set_ylabel(\"y\")\n",
    "ax.set_title(\"Single Plot (object-oriented style)\")\n",
    "ax.legend()\n",
    "fig.tight_layout()\n",
    "\n",
    "plt.show()\n",
    "plt.close()"
   ]
  },
  {
   "cell_type": "markdown",
   "metadata": {
    "editable": true,
    "slideshow": {
     "slide_type": "slide"
    },
    "tags": []
   },
   "source": [
    "Using `plt.subplots` makes it natural to add *multiple* subplots (a grid of Axes) while keeping everything explicit and readable:"
   ]
  },
  {
   "cell_type": "code",
   "execution_count": null,
   "metadata": {
    "editable": true,
    "slideshow": {
     "slide_type": ""
    },
    "tags": []
   },
   "outputs": [],
   "source": [
    "x = np.linspace(0, 2 * np.pi, 200)\n",
    "y1 = np.sin(x)\n",
    "y2 = np.cos(x)\n",
    "\n",
    "# 1 row, 2 columns\n",
    "fig, axs = plt.subplots(1, 2, figsize=(8, 3.8))\n",
    "\n",
    "axs[0].plot(x, y1, label=\"sin(x)\")\n",
    "axs[0].set_title(\"Sine\")\n",
    "axs[0].set_xlabel(\"x\")\n",
    "axs[0].set_ylabel(\"y\")\n",
    "axs[0].legend()\n",
    "\n",
    "axs[1].plot(x, y2, label=\"cos(x)\")\n",
    "axs[1].set_title(\"Cosine\")\n",
    "axs[1].set_xlabel(\"x\")\n",
    "axs[1].legend()\n",
    "\n",
    "fig.suptitle(\"Two Subplots\", y=1.02, fontsize=12)\n",
    "fig.tight_layout()\n",
    "plt.show()"
   ]
  },
  {
   "cell_type": "markdown",
   "metadata": {
    "editable": true,
    "slideshow": {
     "slide_type": "slide"
    },
    "tags": []
   },
   "source": [
    "An animation with multiple/rows columns created using Matplotlib:"
   ]
  },
  {
   "cell_type": "markdown",
   "metadata": {
    "editable": true,
    "slideshow": {
     "slide_type": "fragment"
    },
    "tags": []
   },
   "source": [
    "<video width=\"800\" \n",
    "   src=\"video/flapping_W.mp4\"  \n",
    "   controls\n",
    "   autoplay\n",
    "   loop>\n",
    "</video>"
   ]
  },
  {
   "cell_type": "markdown",
   "metadata": {
    "editable": true,
    "slideshow": {
     "slide_type": "slide"
    },
    "tags": []
   },
   "source": [
    "### A quick preview of **3D plotting**. \n",
    "\n",
    "You can use `add_subplot(...)` with the `projection=\"3d\"` keyword argument to visualize 3D data.\n"
   ]
  },
  {
   "cell_type": "markdown",
   "metadata": {
    "editable": true,
    "slideshow": {
     "slide_type": "slide"
    },
    "tags": []
   },
   "source": [
    "### The [Lorenz attractor](https://matplotlib.org/stable/gallery/mplot3d/lorenz_attractor.html):"
   ]
  },
  {
   "cell_type": "code",
   "execution_count": null,
   "metadata": {
    "editable": true,
    "slideshow": {
     "slide_type": ""
    },
    "tags": []
   },
   "outputs": [],
   "source": [
    "def lorenz(xyz, *, s=10, r=28, b=2.667):\n",
    "    x, y, z = xyz\n",
    "    x_dot = s * (y - x)\n",
    "    y_dot = r * x - y - x * z\n",
    "    z_dot = x * y - b * z\n",
    "    return np.array([x_dot, y_dot, z_dot])\n",
    "\n",
    "\n",
    "dt = 0.01\n",
    "num_steps = 10000\n",
    "xyzs = np.empty((num_steps + 1, 3))\n",
    "xyzs[0] = (0.0, 1.0, 1.05)\n",
    "for i in range(num_steps):\n",
    "    xyzs[i + 1] = xyzs[i] + lorenz(xyzs[i]) * dt\n",
    "X, Y, Z = xyzs.T\n",
    "fig = plt.figure()\n",
    "ax = fig.add_subplot(projection=\"3d\")\n",
    "ax.plot(X, Y, Z, linewidth=0.5)\n",
    "ax.set_xlabel(\"X Axis\")\n",
    "ax.set_ylabel(\"Y Axis\")\n",
    "ax.set_zlabel(\"Z Axis\")\n",
    "ax.set_title(\"Lorenz Attractor\")\n",
    "plt.show()"
   ]
  },
  {
   "cell_type": "markdown",
   "metadata": {
    "editable": true,
    "slideshow": {
     "slide_type": "slide"
    },
    "tags": []
   },
   "source": [
    "### The Euclidean [heat kernel](https://en.wikipedia.org/wiki/Heat_kernel):"
   ]
  },
  {
   "cell_type": "code",
   "execution_count": null,
   "metadata": {
    "editable": true,
    "slideshow": {
     "slide_type": ""
    },
    "tags": []
   },
   "outputs": [],
   "source": [
    "def heat_kernel2d(x, y, t):\n",
    "    norm_xy = np.sqrt(x**2 + y**2)\n",
    "    val = np.exp(-(norm_xy**2) / (4 * t)) / (4 * np.pi * t)\n",
    "    return val\n",
    "\n",
    "\n",
    "fig = plt.figure()\n",
    "ax = fig.add_subplot(projection=\"3d\")\n",
    "xylims = [-0.25, 0.25]\n",
    "t = 0.001\n",
    "zlims = [-10 * heat_kernel2d(0, 0, t) / 7, heat_kernel2d(0, 0, t)]\n",
    "_X, _Y = np.linspace(*xylims, 100), np.linspace(*xylims, 100)\n",
    "X, Y = np.meshgrid(_X, _Y)\n",
    "Z = heat_kernel2d(X, Y, t)\n",
    "# Plot the 3D surface\n",
    "ax.plot_surface(X, Y, Z, edgecolor=\"royalblue\", lw=0.5, rstride=8, cstride=8, alpha=0.3)\n",
    "\n",
    "# Plot projections of the contours for each dimension.  By choosing offsets\n",
    "# that match the appropriate axes limits, the projected contours will sit on\n",
    "# the 'walls' of the graph\n",
    "ax.contourf(X, Y, Z, zdir=\"z\", offset=zlims[0], cmap=\"coolwarm\")\n",
    "ax.contourf(X, Y, Z, zdir=\"x\", offset=xylims[0], cmap=\"coolwarm\")\n",
    "ax.contourf(X, Y, Z, zdir=\"y\", offset=xylims[1], cmap=\"coolwarm\")\n",
    "\n",
    "ax.set(xlim=xylims, ylim=xylims, zlim=zlims, xlabel=\"X\", ylabel=\"Y\", zlabel=\"Z\")\n",
    "\n",
    "plt.show()"
   ]
  },
  {
   "cell_type": "markdown",
   "metadata": {
    "editable": true,
    "slideshow": {
     "slide_type": "slide"
    },
    "tags": []
   },
   "source": [
    "Another 3D animation created using Matplotlib:"
   ]
  },
  {
   "cell_type": "markdown",
   "metadata": {
    "editable": true,
    "slideshow": {
     "slide_type": "fragment"
    },
    "tags": []
   },
   "source": [
    "<video width=\"800\" \n",
    "   src=\"video/lws23_Movie_S5.mp4\"  \n",
    "   controls\n",
    "   autoplay\n",
    "   loop>\n",
    "</video>"
   ]
  },
  {
   "cell_type": "markdown",
   "metadata": {
    "editable": true,
    "slideshow": {
     "slide_type": "slide"
    },
    "tags": []
   },
   "source": [
    "<!-- \n",
    "<video width=\"500\" \n",
    "       src=\"video/flapping_W.mp4\"  \n",
    "       controls\n",
    "       autoplay\n",
    "       loop>\n",
    "</video>\n",
    "<video width=\"500\" \n",
    "       src=\"video/lws23_Movie_S5.mp4\"  \n",
    "       controls\n",
    "       autoplay\n",
    "       loop>\n",
    "</video> -->\n",
    "\n",
    "\n",
    "<!-- <div style=\"display: flex; justify-content: center; gap: 20px;\">\n",
    "  <video width=\"500\" \n",
    "       src=\"video/flapping_W.mp4\"  \n",
    "       controls\n",
    "       autoplay\n",
    "       loop>\n",
    "  </video>\n",
    "  <video width=\"500\" \n",
    "       src=\"video/lws23_Movie_S5.mp4\"  \n",
    "       controls\n",
    "       autoplay\n",
    "       loop>\n",
    "  </video>\n",
    "</div> -->\n",
    "\n"
   ]
  },
  {
   "cell_type": "markdown",
   "metadata": {
    "editable": true,
    "slideshow": {
     "slide_type": "slide"
    },
    "tags": []
   },
   "source": [
    "## Tutorial 6\n",
    "\n",
    "The best way to learn `matplotlib` is to try it!  Open up tut06 and give it a try."
   ]
  }
 ],
 "metadata": {
  "kernelspec": {
   "display_name": "Python 3 (ipykernel)",
   "language": "python",
   "name": "python3"
  },
  "language_info": {
   "codemirror_mode": {
    "name": "ipython",
    "version": 3
   },
   "file_extension": ".py",
   "mimetype": "text/x-python",
   "name": "python",
   "nbconvert_exporter": "python",
   "pygments_lexer": "ipython3",
   "version": "3.13.7"
  }
 },
 "nbformat": 4,
 "nbformat_minor": 4
}
