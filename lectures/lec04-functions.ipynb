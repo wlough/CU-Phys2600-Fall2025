{
 "cells": [
  {
   "cell_type": "markdown",
   "id": "eb12147a-0488-4053-b757-6be615c111b1",
   "metadata": {
    "editable": true,
    "slideshow": {
     "slide_type": "slide"
    },
    "tags": []
   },
   "source": [
    "# Announcements\n",
    "\n",
    "* Tutorial #4 due tomorrow at noon\n",
    "* Homework #2 will be due on Thursday at noon.\n",
    "\n"
   ]
  },
  {
   "cell_type": "markdown",
   "id": "1098d3ec-f81f-4eb3-bf35-604f97f0fbfc",
   "metadata": {
    "editable": true,
    "slideshow": {
     "slide_type": "slide"
    },
    "tags": []
   },
   "source": [
    "# Functions and Scope\n",
    "\n",
    "<!-- <a href=\"https://codeburst.io/execution-context-and-its-role-in-hoisting-f470fd9b3abc\" target=\"_blank\"><img src=\"img/codewall.jpg\" /></a> -->\n",
    "<a href=\"https://codeburst.io/execution-context-and-its-role-in-hoisting-f470fd9b3abc\" target=\"_blank\"><img src=\"https://raw.githubusercontent.com/wlough/CU-Phys2600-Fall2025/main/lectures/img/codewall.jpg\" /></a>\n",
    "\n",
    "## PHYS 2600: Scientific Computing\n",
    "\n",
    "## Lecture 4"
   ]
  },
  {
   "cell_type": "markdown",
   "id": "683ac1a4-b2f5-40c3-b108-a442625529e4",
   "metadata": {
    "editable": true,
    "slideshow": {
     "slide_type": "slide"
    },
    "tags": []
   },
   "source": [
    "## Intro to Functions\n",
    "\n",
    "A __function__ (like `print()` or `type()`) embodies some set of instructions; using a function is asking Python to do some sort of action.  Some of these are built-in, but as we start to write more interesting (and complicated) code, it will be incredibly useful to define our own!\n",
    "\n",
    "Functions are a sort of shorthand: they store an entire _sequence_ of statements, that we can execute (\"__call__\") anywhere in our program.  __Functions are for code what variables are for data.__\n",
    "\n",
    "<!-- <img src=\"img/function-sub.png\" width=500px  /> -->\n",
    "<img src=\"https://raw.githubusercontent.com/wlough/CU-Phys2600-Fall2025/main/lectures/img/function-sub.png\" width=500px  />\n",
    "\n",
    "_Note:_ a Python function is much more general than a math function like $f(x)$.  (In other languages, the equivalents are called __procedures__ or __subroutines__.)"
   ]
  },
  {
   "cell_type": "markdown",
   "id": "55e27528-0175-408f-973f-ef787dcb566a",
   "metadata": {
    "editable": true,
    "slideshow": {
     "slide_type": "subslide"
    },
    "tags": []
   },
   "source": [
    "To create a function, we use the `def` keyword, like this:"
   ]
  },
  {
   "cell_type": "code",
   "execution_count": 1,
   "id": "0d8f832d-58cd-40f1-89a7-88f7e885c307",
   "metadata": {
    "editable": true,
    "slideshow": {
     "slide_type": ""
    },
    "tags": []
   },
   "outputs": [
    {
     "name": "stdout",
     "output_type": "stream",
     "text": [
      "This line is outside the newton() function.\n"
     ]
    }
   ],
   "source": [
    "def newton():\n",
    "    print(\"1) Objects moving uniformly will remain in uniform motion, unless a force acts on them.\")\n",
    "    print(\"2) Net force is equal to the time derivative of momentum.\")\n",
    "    print(\"3) For every action there is an equal and opposite reaction.\")\n",
    "    \n",
    "print(\"This line is outside the newton() function.\")"
   ]
  },
  {
   "cell_type": "markdown",
   "id": "25635991-1f9f-4c82-bcc4-ec32e438b80a",
   "metadata": {
    "editable": true,
    "slideshow": {
     "slide_type": "fragment"
    },
    "tags": []
   },
   "source": [
    "After `def`, the next line _must be indented_; every following line with the _same indentation_ is also included in the function.  The first line with `def` is called the __header__; all the indented lines are called the __body__.\n",
    "\n",
    "Notice that _nothing in the body is printed out._  When we define a function, its contents are _saved_ until we call it later on!"
   ]
  },
  {
   "cell_type": "markdown",
   "id": "bd283dc6-3af3-41a3-8a70-51700abd3595",
   "metadata": {
    "editable": true,
    "slideshow": {
     "slide_type": "fragment"
    },
    "tags": []
   },
   "source": [
    "Now, let's call our new function:"
   ]
  },
  {
   "cell_type": "code",
   "execution_count": 2,
   "id": "1a4d7b97-d94f-46b0-a0d6-f48c7eaf5420",
   "metadata": {
    "editable": true,
    "slideshow": {
     "slide_type": ""
    },
    "tags": []
   },
   "outputs": [
    {
     "name": "stdout",
     "output_type": "stream",
     "text": [
      "1) Objects moving uniformly will remain in uniform motion, unless a force acts on them.\n",
      "2) Net force is equal to the time derivative of momentum.\n",
      "3) For every action there is an equal and opposite reaction.\n"
     ]
    }
   ],
   "source": [
    "newton()"
   ]
  },
  {
   "cell_type": "markdown",
   "id": "e22984c9-554b-4180-9007-faa817b5a0c0",
   "metadata": {
    "editable": true,
    "slideshow": {
     "slide_type": "fragment"
    },
    "tags": []
   },
   "source": [
    "Adding `()` tells Python to treat `newton()` as a function, not a variable.  Not including them is _not_ a syntax error, but it doesn't actually call the function:"
   ]
  },
  {
   "cell_type": "code",
   "execution_count": 3,
   "id": "fce1b456-e223-476f-a65e-be8d5797143e",
   "metadata": {},
   "outputs": [
    {
     "data": {
      "text/plain": [
       "<function __main__.newton()>"
      ]
     },
     "execution_count": 3,
     "metadata": {},
     "output_type": "execute_result"
    }
   ],
   "source": [
    "newton"
   ]
  },
  {
   "cell_type": "markdown",
   "id": "c5f76839-78d5-468e-b2c5-f94abb4f024d",
   "metadata": {
    "editable": true,
    "slideshow": {
     "slide_type": "subslide"
    },
    "tags": []
   },
   "source": [
    "### Function arguments\n",
    "\n",
    "The __arguments__ of a function are special variables which are defined at the moment when we call the function.  This let us repeat the same algorithm with different inputs (abstraction!)"
   ]
  },
  {
   "cell_type": "code",
   "execution_count": 4,
   "id": "0fe8e502-e0cc-468c-afcd-ea02f2feab95",
   "metadata": {},
   "outputs": [
    {
     "name": "stdout",
     "output_type": "stream",
     "text": [
      "The square of 2 is 4\n",
      "The square of 5 is 25\n",
      "The square of 8 is 64\n",
      "None\n"
     ]
    }
   ],
   "source": [
    "## Try me in the Python Tutor!\n",
    "def squared(x):\n",
    "    # Implicitly, first line of the function is: \"x = <argument>\"\n",
    "    print(f\"The square of {x} is {x*x}\")\n",
    "\n",
    "squared(2)\n",
    "squared(5)\n",
    "\n",
    "z = squared(8)\n",
    "print(z)"
   ]
  },
  {
   "cell_type": "markdown",
   "id": "964c16e3-4f6b-449c-96bd-7b17e4956a1f",
   "metadata": {
    "editable": true,
    "slideshow": {
     "slide_type": ""
    },
    "tags": []
   },
   "source": [
    "Note that if we try to save the result of `squared()` to a variable, we get the `None` object - this is default Python behavior."
   ]
  },
  {
   "cell_type": "markdown",
   "id": "a3a22a60-d712-4796-b4eb-d9c3e36b1003",
   "metadata": {
    "editable": true,
    "slideshow": {
     "slide_type": "fragment"
    },
    "tags": []
   },
   "source": [
    "Of course, the default behavior isn't always useful; if we write `cos(x)`, we want it to return the cosine of `x`, not nothing!  We can use the __`return`__ keyword to decide what our function returns:"
   ]
  },
  {
   "cell_type": "code",
   "execution_count": 5,
   "id": "7b481f93-307e-42ab-95dd-dad6adc8b636",
   "metadata": {},
   "outputs": [
    {
     "name": "stdout",
     "output_type": "stream",
     "text": [
      "9\n"
     ]
    }
   ],
   "source": [
    "def squared_v2(x):\n",
    "    return x*x\n",
    "    print(\"Return stops the function - this won't print!\")\n",
    "    \n",
    "y = squared_v2(4)\n",
    "y\n",
    "print(squared_v2(3))"
   ]
  },
  {
   "cell_type": "markdown",
   "id": "95a96027-d81d-4400-8be3-497e2f324866",
   "metadata": {
    "editable": true,
    "slideshow": {
     "slide_type": ""
    },
    "tags": []
   },
   "source": [
    "Notice that __`return` immediately halts the function__ when we use it.  (This makes sense, because whatever we `return` is supposed to be the final result of the function's code.)  So although we can write code after `return`, in this case it will never run!"
   ]
  },
  {
   "cell_type": "markdown",
   "id": "2d1adf32-22d2-47b1-9495-23eb2faaf4d7",
   "metadata": {
    "editable": true,
    "slideshow": {
     "slide_type": "slide"
    },
    "tags": []
   },
   "source": [
    "## Scope (or: what a function knows)\n",
    "\n",
    "One of the biggest sources of confusion for newcomers to Python can be the way that variables and functions interact with each other.  Let's start with another example:"
   ]
  },
  {
   "cell_type": "code",
   "execution_count": 6,
   "id": "329bf21a-dbef-4d88-b6f7-1110d6ec4899",
   "metadata": {
    "editable": true,
    "slideshow": {
     "slide_type": ""
    },
    "tags": []
   },
   "outputs": [
    {
     "name": "stdout",
     "output_type": "stream",
     "text": [
      "3 3\n",
      "2\n",
      "2 2\n"
     ]
    }
   ],
   "source": [
    "x=2\n",
    "def repeat(x):\n",
    "    print(x, x)\n",
    "    \n",
    "repeat(3)\n",
    "print(x)\n",
    "repeat(x)  "
   ]
  },
  {
   "cell_type": "markdown",
   "id": "a08dcb72-1b92-4532-b4f2-78b4d7137570",
   "metadata": {
    "editable": true,
    "slideshow": {
     "slide_type": ""
    },
    "tags": []
   },
   "source": [
    "Inside the function, the assignment `x=3` occurs as soon as we call `repeat(3)`.  However, __the `x` inside the function isn't the same as the one outside!__  \n",
    "\n",
    "This behavior is what we want: when you go to use `repeat()`, you don't want to have to worry about whether you're using the same variable names as whoever wrote that function."
   ]
  },
  {
   "cell_type": "markdown",
   "id": "152a082f-1ac9-4fde-b282-aebbad466867",
   "metadata": {
    "editable": true,
    "slideshow": {
     "slide_type": "fragment"
    },
    "tags": []
   },
   "source": [
    "So having more than one `x` is convenient, but it risks _ambiguity_: which `x` do we get on any given line?\n",
    "\n",
    "In Python, the ambiguity is handled by the idea of __scope__.  Scope refers to where certain variables are visible, and is related to where they are defined.  There are two important scopes to know:\n",
    "\n",
    "* Variables defined outside of any functions exist in __global scope__.\n",
    "* Variables defined as function arguments, or in a function body, exist in __local scope__."
   ]
  },
  {
   "cell_type": "markdown",
   "id": "14cb8f10-b99c-43fa-bb61-18888cdb9911",
   "metadata": {
    "editable": true,
    "slideshow": {
     "slide_type": "fragment"
    },
    "tags": []
   },
   "source": [
    "The most important rules to remember for scope are:\n",
    "\n",
    "* __Local scope takes priority.__  Inside of `repeat(x)` above, since we defined a local variable `x`, we simply can't access the global `x` that was defined outside of the function.\n",
    "* __Local scope is temporary.__  Variables in local scope are created _during a function call_, and are _destroyed_ as soon as the function ends."
   ]
  },
  {
   "cell_type": "markdown",
   "id": "f4ad60be-d910-4318-8c1d-ee515ff0f214",
   "metadata": {
    "editable": true,
    "slideshow": {
     "slide_type": "subslide"
    },
    "tags": []
   },
   "source": [
    "Here's a simple diagram depicting how scope works in the example above:\n",
    "\n",
    "<!-- <img src=\"img/scope-simple.png\" width=800px  /> -->\n",
    "<img src=\"https://raw.githubusercontent.com/wlough/CU-Phys2600-Fall2025/main/lectures/img/scope-simple.png\" width=800px  />\n",
    "\n",
    "So local scope is inside of global scope, and takes priority inside the function.  \n",
    "\n",
    "It's important to emphasize that this plot is _time-dependent:_ a temporary local scope is created every time we call `repeat()`, and lasts only until that instance of `repeat()` ends!"
   ]
  },
  {
   "cell_type": "markdown",
   "id": "31ffffc7-0974-489d-8773-8c1d39ebdbf5",
   "metadata": {
    "editable": true,
    "slideshow": {
     "slide_type": "slide"
    },
    "tags": []
   },
   "source": [
    "## Positional and Keyword Arguments\n",
    "\n",
    "As we saw with `print()`, a function can have more than one argument, separated by commas.  To define a multi-argument function, we use the same notation:"
   ]
  },
  {
   "cell_type": "code",
   "execution_count": 7,
   "id": "e84dc9d7-b002-48e4-8095-a5e91795ac06",
   "metadata": {
    "editable": true,
    "slideshow": {
     "slide_type": ""
    },
    "tags": []
   },
   "outputs": [
    {
     "ename": "IndentationError",
     "evalue": "unexpected indent (3146271417.py, line 1)",
     "output_type": "error",
     "traceback": [
      "  \u001b[36mCell\u001b[39m\u001b[36m \u001b[39m\u001b[32mIn[7]\u001b[39m\u001b[32m, line 1\u001b[39m\n\u001b[31m    \u001b[39m\u001b[31mdef local_pow(x,n):\u001b[39m\n    ^\n\u001b[31mIndentationError\u001b[39m\u001b[31m:\u001b[39m unexpected indent\n"
     ]
    }
   ],
   "source": [
    " def local_pow(x,n):\n",
    "    return x**n\n",
    "\n",
    "print(local_pow(2,3))\n",
    "print(local_pow(3,2))"
   ]
  },
  {
   "cell_type": "markdown",
   "id": "46fde99d-5113-4048-8874-3940f1a3de24",
   "metadata": {
    "editable": true,
    "slideshow": {
     "slide_type": ""
    },
    "tags": []
   },
   "source": [
    "These calls use __positional notation__: `x` and `n` are assigned in the order given in the `def` statement.  This can be a little obscure...is `local_pow(2,3)` $2^3$, or $3^2$?  We have to look at the function header to check!\n",
    "\n",
    "A good rule of thumb to follow is __never use more than two positional arguments__, and even then only in cases where the ordering is crystal clear (like `np.cross(v,w)`, for example.)"
   ]
  },
  {
   "cell_type": "markdown",
   "id": "3d58d874-416d-4ae5-92ca-11dd4af40d89",
   "metadata": {
    "editable": true,
    "slideshow": {
     "slide_type": "fragment"
    },
    "tags": []
   },
   "source": [
    "We can also use __keyword notation__ as an alternative.  In keyword notation, it looks sort of like we're doing assignments ourselves when we call the function:"
   ]
  },
  {
   "cell_type": "code",
   "execution_count": null,
   "id": "8dfa6b7c-b053-4597-9581-c5c5a774c2bf",
   "metadata": {
    "editable": true,
    "slideshow": {
     "slide_type": ""
    },
    "tags": []
   },
   "outputs": [],
   "source": [
    "print(local_pow(x=2, n=3))\n",
    "print(local_pow(n=2, x=3))"
   ]
  },
  {
   "cell_type": "markdown",
   "id": "8e50845e-37c4-4615-8e2a-ec74758c60d3",
   "metadata": {
    "editable": true,
    "slideshow": {
     "slide_type": "fragment"
    },
    "tags": []
   },
   "source": [
    "Notice that _the order of the arguments doesn't matter anymore._\n",
    "\n",
    "Python also supports mixing and matching the two notations:"
   ]
  },
  {
   "cell_type": "code",
   "execution_count": null,
   "id": "90ed078d-b541-40c4-980a-8634fbdd6477",
   "metadata": {
    "editable": true,
    "slideshow": {
     "slide_type": ""
    },
    "tags": []
   },
   "outputs": [],
   "source": [
    "local_pow(5, n=1)  # Same as (x=5, n=1)"
   ]
  },
  {
   "cell_type": "markdown",
   "id": "b280f8a7-c4f4-4806-a3ae-72d55457661b",
   "metadata": {
    "editable": true,
    "slideshow": {
     "slide_type": ""
    },
    "tags": []
   },
   "source": [
    "Always think of positional notation as simply _shorthand_ for the keyword version."
   ]
  },
  {
   "cell_type": "markdown",
   "id": "ae5d8ae4-b409-4643-b51f-0207bd87eef2",
   "metadata": {
    "editable": true,
    "slideshow": {
     "slide_type": "subslide"
    },
    "tags": []
   },
   "source": [
    "What if we want to write a flexible function that _can_ take lots of arguments, but has __default values__ for many of them?  (For example, a plotting function: lines, colors, symbols, plot size...)\n",
    "\n",
    "To set a default value for an argument, we use keyword notation in the _header_ when we define a function:"
   ]
  },
  {
   "cell_type": "code",
   "execution_count": null,
   "id": "8b50d239-895a-4852-981f-bbf90b0b635c",
   "metadata": {
    "editable": true,
    "slideshow": {
     "slide_type": ""
    },
    "tags": []
   },
   "outputs": [],
   "source": [
    "def square_or_pow(x, n=2):\n",
    "    return x**n\n",
    "\n",
    "print(square_or_pow(7))  # Implicitly sets n=2\n",
    "print(square_or_pow(7,n=3))"
   ]
  },
  {
   "cell_type": "markdown",
   "id": "2a216855-19b4-4d25-9b88-0bf87af66c5f",
   "metadata": {
    "editable": true,
    "slideshow": {
     "slide_type": "slide"
    },
    "tags": []
   },
   "source": [
    "## Modules: other people's functions\n",
    "\n",
    "One of Python's great features is the huge amount of pre-existing code available for almost any numerical or scientific task!  This code exists in __modules__, which are packages of Python code organized around some purpose. \n",
    "\n",
    "Modules are obtained from third-party groups and installed, but some of them are included by default in your Python setup (depending on which one you use.)\n",
    "\n",
    "For example, the `math` module is universally included and has some useful functions:"
   ]
  },
  {
   "cell_type": "code",
   "execution_count": null,
   "id": "796b34e6-b7b1-4a1c-94bb-c64b8eaca3f3",
   "metadata": {
    "editable": true,
    "slideshow": {
     "slide_type": ""
    },
    "tags": []
   },
   "outputs": [],
   "source": [
    "import math\n",
    "print(math.sqrt(2))       # About 1.41\n",
    "print(math.pi)            # 3.14159...\n",
    "print(math.cos(math.pi))  # cos(pi) = -1"
   ]
  },
  {
   "cell_type": "markdown",
   "id": "557cd037-26dc-4628-8c36-41c307531e55",
   "metadata": {
    "editable": true,
    "slideshow": {
     "slide_type": "fragment"
    },
    "tags": []
   },
   "source": [
    "To explain how this works, we have to introduce __namespaces__.  A \"namespace\" is an environment where certain \"names\" (variables) are defined.  By default, we work in the __global namespace__ (the memory of our entire Jupyter notebook.)\n",
    "\n",
    "<!-- <img src=\"img/namespaces-import.png\" width=500px /> -->\n",
    "<img src=\"https://raw.githubusercontent.com/wlough/CU-Phys2600-Fall2025/main/lectures/img/namespaces-import.png\" width=500px />\n",
    "\n",
    "Modules have their own namespace; we access it through `import`.  The \"__dot notation__\" allows us to get functions in another namespace.  (`X.Y` in Python means \"get thing Y from namespace X\")"
   ]
  },
  {
   "cell_type": "markdown",
   "id": "57df128e-8389-44b8-b7c1-65a50705a1fe",
   "metadata": {
    "editable": true,
    "slideshow": {
     "slide_type": "slide"
    },
    "tags": []
   },
   "source": [
    "## Tutorial 4: Functions\n",
    "\n",
    "Time for our next tutorial!  Open the tutorial 4 notebook, but don't start yet - the very first part will be a live demo."
   ]
  }
 ],
 "metadata": {
  "kernelspec": {
   "display_name": "Python 3 (ipykernel)",
   "language": "python",
   "name": "python3"
  },
  "language_info": {
   "codemirror_mode": {
    "name": "ipython",
    "version": 3
   },
   "file_extension": ".py",
   "mimetype": "text/x-python",
   "name": "python",
   "nbconvert_exporter": "python",
   "pygments_lexer": "ipython3",
   "version": "3.13.7"
  }
 },
 "nbformat": 4,
 "nbformat_minor": 5
}
