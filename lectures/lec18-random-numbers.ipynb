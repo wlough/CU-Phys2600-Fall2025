{
 "cells": [
  {
   "cell_type": "markdown",
   "metadata": {
    "slideshow": {
     "slide_type": "slide"
    }
   },
   "source": [
    "# Announcements\n",
    "\n",
    "* __No new homework this week__ - after that last assignment, we'll have a week off."
   ]
  },
  {
   "cell_type": "markdown",
   "metadata": {
    "editable": true,
    "nbgrader": {
     "grade": false,
     "grade_id": "cell-c410a18bc886326b",
     "locked": true,
     "schema_version": 1,
     "solution": false
    },
    "slideshow": {
     "slide_type": "slide"
    },
    "tags": []
   },
   "source": [
    "# Random Numbers\n",
    "\n",
    "<a href=\"https://physics.aps.org/articles/v10/130\" target=\"_blank\"><img src=\"https://raw.githubusercontent.com/wlough/CU-Phys2600-Fall2025/main/lectures/img/dice_order.png\" width=600px /></a>\n",
    "\n",
    "## PHYS 2600: Scientific Computing\n",
    "\n",
    "## Lecture 18"
   ]
  },
  {
   "cell_type": "markdown",
   "metadata": {
    "editable": true,
    "slideshow": {
     "slide_type": "slide"
    },
    "tags": []
   },
   "source": [
    "## Random Numbers\n",
    "\n",
    "__Random numbers__ have many applications in computing.  Here \"random\" means _unpredictable_, but some numbers may be more likely than others.  (Fair dice and loaded dice are both random!)\n",
    "\n",
    "One of the main selling points of computing was _reproducibility_, so why would we _want_ to introduce randomness?!\n",
    "\n",
    "* Simulating real-world processes which contain randomness, or which are just complex enough to be unpredictable (side note: my group does this!)\n",
    "* Some algorithms use random numbers to efficiently produce deterministic answers (e.g., Monte Carlo integration)\n",
    "* Lots of other applications not so relevant for physics: cryptography, games, double-blind trials, music...\n",
    "\n",
    "A source which creates sequences of random numbers is called a __random number generator__, or __RNG__."
   ]
  },
  {
   "cell_type": "markdown",
   "metadata": {
    "slideshow": {
     "slide_type": "slide"
    }
   },
   "source": [
    "There are several RNG modules in Python, including the built-in `random`.  We'll learn how to use `numpy.random`, since we use NumPy a lot.\n",
    "\n",
    "We'll start with random integers, from `np.random.randint`.  `randint` takes two arguments that work just like `arange`, and a third keyword `size=...` that will create an _array_ of numbers of some size."
   ]
  },
  {
   "cell_type": "code",
   "execution_count": null,
   "metadata": {
    "editable": true,
    "slideshow": {
     "slide_type": ""
    },
    "tags": []
   },
   "outputs": [],
   "source": [
    "import numpy as np\n",
    "\n",
    "print(np.random.randint(1, 7))\n",
    "print(np.random.randint(1, 7, size=(10, 2)))  # 10 rolls of a pair of dice"
   ]
  },
  {
   "cell_type": "markdown",
   "metadata": {
    "slideshow": {
     "slide_type": "fragment"
    }
   },
   "source": [
    "Notice that each time the cell above is re-run, we get a different sequence of numbers - and notice also that there isn't any obvious, predictable pattern to the numbers that we get."
   ]
  },
  {
   "cell_type": "markdown",
   "metadata": {
    "slideshow": {
     "slide_type": "slide"
    }
   },
   "source": [
    "What if we want to reproduce a sequence of random numbers? To do this, I can add something called a \"seed\":"
   ]
  },
  {
   "cell_type": "code",
   "execution_count": null,
   "metadata": {
    "scrolled": true
   },
   "outputs": [],
   "source": [
    "np.random.seed(37298)\n",
    "print(np.random.randint(1, 7, size=(10, 2)))  # 10 rolls of a pair of dice"
   ]
  },
  {
   "cell_type": "markdown",
   "metadata": {
    "slideshow": {
     "slide_type": "fragment"
    }
   },
   "source": [
    "Suddenly the results are the same every time!  Although if we change the seed value, we will get a different set of numbers, and again they're not obviously related to the first set by any pattern."
   ]
  },
  {
   "cell_type": "markdown",
   "metadata": {
    "slideshow": {
     "slide_type": "slide"
    }
   },
   "source": [
    "The `np.random.randint()` function (and all of its cousins in `np.random`) are examples of __pseudo-random number generators__.  They don't actually produce _totally_ random numbers, but instead use an algorithm which takes some initial input (the __seed__, often a single number) and produces a sequence which is hard to predict. \n",
    "\n",
    "We won't explore what \"hard to predict\" means rigorously, but basically a good PRNG should give results which are indistinguishable from using a __true RNG__ that produces totally unpredictable, pattern-free numbers.\n",
    "\n",
    "There are many pseudo-RNG algorithms.  NumPy uses one called _PCG64_ (\"permuted congruential generator\") by default, which is fairly recent (the paper proposing it was written in 2014.)  Older versions used another algorithm called the \"Mersenne twister\".  Either one (and many other options) are close enough to a true RNG for most practical purposes."
   ]
  },
  {
   "cell_type": "markdown",
   "metadata": {
    "slideshow": {
     "slide_type": "fragment"
    }
   },
   "source": [
    "<img src=\"https://raw.githubusercontent.com/wlough/CU-Phys2600-Fall2025/main/lectures/img/lava-lamp.jpg\" width=300px style=\"float:right;\" />\n",
    "\n",
    "Since we're in a physics class, I'll mention that most sources of true random numbers involve physical processes: the motion of a chaotic pendulum, or [radioactive decay](http://www.fourmilab.ch/hotbits/), or [a lava lamp](https://www.atlasobscura.com/videos/these-lava-lamps-help-encrypt-the-internet), or the electronic noise produced by a digital camera with the cap on.  \n",
    "\n",
    "One such source is [in Boulder, over at NIST](https://beacon.nist.gov/home), which uses quantum measurement and is thus inherently unpredictable."
   ]
  },
  {
   "cell_type": "markdown",
   "metadata": {
    "slideshow": {
     "slide_type": "slide"
    }
   },
   "source": [
    "<img src=\"https://raw.githubusercontent.com/wlough/CU-Phys2600-Fall2025/main/lectures/img/the_difference.png\" width=350px style=\"float:left;margin:15px;\" />\n",
    "\n",
    "Modern computers often use a _hybrid_ approach by default for random numbers: if you don't give an explicit seed, it will be set based on sources of true noise (human input, hard-disk timing, environmental noise...)\n",
    "\n",
    "For science, the use of seeds and pseudo-RNGs is actually a feature!  As long as we agree beforehand on the __same PRNG algorithm__ and the __same seed__, we can guarantee that even a random numerical calculation is completely reproducible.\n",
    "\n",
    "(Of course, science results based on random numbers shouldn't depend on the seed or PRNG, since they should be just as valid based on true random numbers.  But having predictability is useful in debugging or comparing intermediate results.)"
   ]
  },
  {
   "cell_type": "markdown",
   "metadata": {
    "slideshow": {
     "slide_type": "slide"
    }
   },
   "source": [
    "Integers are useful for many purposes, but often we want to draw random real numbers instead.  The main function used for this is `np.random.rand()`, which draws random numbers uniformly in the interval $(0,1)$.\n",
    "\n",
    "Only drawing from the range $(0,1)$ for `np.random.rand` might seem restrictive, but in fact the uniform distribution is all we need to produce any other range of numbers we want!  We could get numbers from $(0,10)$ or $(-1,1)$ instead:"
   ]
  },
  {
   "cell_type": "code",
   "execution_count": null,
   "metadata": {},
   "outputs": [],
   "source": [
    "print(np.random.rand() * 10)  # Random in (0,10)\n",
    "print(2 * (np.random.rand() - 0.5))  # Random in (-1,1)"
   ]
  },
  {
   "cell_type": "markdown",
   "metadata": {
    "slideshow": {
     "slide_type": "fragment"
    }
   },
   "source": [
    "If we want numbers that _aren't_ uniform, then this gets a little trickier, but there are standard transformations that can map uniform random numbers into any other distribution we want.  (The __inverse sampling transform__ is the most general, so you know what to search for.)\n",
    "\n",
    "We won't dig into the formalism of getting other distributions; [many common distributions](https://numpy.org/doc/stable/reference/random/generator.html) (such as Gaussian/normal) are readily available from NumPy."
   ]
  },
  {
   "cell_type": "markdown",
   "metadata": {
    "slideshow": {
     "slide_type": "slide"
    }
   },
   "source": [
    "## Tutorial 18\n",
    "\n",
    "Let's get some practice with random computing!"
   ]
  }
 ],
 "metadata": {
  "kernelspec": {
   "display_name": "Python 3 (ipykernel)",
   "language": "python",
   "name": "python3"
  },
  "language_info": {
   "codemirror_mode": {
    "name": "ipython",
    "version": 3
   },
   "file_extension": ".py",
   "mimetype": "text/x-python",
   "name": "python",
   "nbconvert_exporter": "python",
   "pygments_lexer": "ipython3",
   "version": "3.13.7"
  }
 },
 "nbformat": 4,
 "nbformat_minor": 4
}
