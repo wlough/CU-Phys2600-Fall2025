{
 "cells": [
  {
   "cell_type": "markdown",
   "metadata": {
    "nbgrader": {
     "grade": false,
     "grade_id": "cell-100899e0deea9789",
     "locked": true,
     "schema_version": 3,
     "solution": false,
     "task": false
    }
   },
   "source": [
    "# Tutorial 19: Monte Carlo Methods\n",
    "\n",
    "## PHYS 2600"
   ]
  },
  {
   "cell_type": "code",
   "execution_count": null,
   "metadata": {
    "nbgrader": {
     "grade": false,
     "grade_id": "cell-e4302376dbe2ef21",
     "locked": true,
     "schema_version": 3,
     "solution": false,
     "task": false
    }
   },
   "outputs": [],
   "source": [
    "# Import cell\n",
    "%matplotlib inline\n",
    "\n",
    "import matplotlib.pyplot as plt\n",
    "import numpy as np"
   ]
  },
  {
   "cell_type": "markdown",
   "metadata": {
    "nbgrader": {
     "grade": false,
     "grade_id": "cell-ee791ecfa85d70bb",
     "locked": true,
     "schema_version": 3,
     "solution": false,
     "task": false
    }
   },
   "source": [
    "## T19.1 - The central limit theorem"
   ]
  },
  {
   "cell_type": "markdown",
   "metadata": {
    "nbgrader": {
     "grade": false,
     "grade_id": "cell-53a7ca675ab15cbe",
     "locked": true,
     "schema_version": 3,
     "solution": false,
     "task": false
    }
   },
   "source": [
    "Let's run through an example to see exactly how the central limit theorem works with random samples.  Suppose our true distribution is the uniform distribution from $(0,1)$, i.e. the default distribution for `np.random.rand()`.  The mean of this distribution is clearly $\\mu = 1/2$, but we need the variance as well: it turns out to be $\\sigma^2 = 1/12$.  (See the derivation below if you're curious, otherwise skip to the next cell and part A.)\n",
    "\n",
    "---\n",
    "\n",
    "---\n",
    "\n",
    "We have $p(x) = 1$ for the probability density function, so\n",
    "\n",
    "$$\n",
    "\\mu = \\langle x \\rangle = \\int_0^1 dx\\ x = \\frac{1}{2} \\\\\n",
    "\\langle x^2 \\rangle = \\int_0^1 dx\\ x^2 = \\frac{1}{3}\n",
    "$$\n",
    "\n",
    "and thus\n",
    "\n",
    "$$\n",
    "\\sigma^2 = \\langle x^2 \\rangle - \\langle x \\rangle^2 = \\frac{1}{3} - \\frac{1}{4} = \\frac{1}{12}.\n",
    "$$\n"
   ]
  },
  {
   "cell_type": "markdown",
   "metadata": {
    "nbgrader": {
     "grade": false,
     "grade_id": "cell-c0eec982c9f3613d",
     "locked": true,
     "schema_version": 3,
     "solution": false,
     "task": false
    }
   },
   "source": [
    "### Part A\n",
    "\n",
    "Use `np.random.rand()` to draw a sample of random numbers $\\{x_i\\}$ of size size $n=10,000$ from the uniform distribution over $[0,1)$.  Then compute the __sample mean__ and __sample variance__,\n",
    "\n",
    "$$\n",
    "\\bar{x}_n = \\frac{1}{n} \\sum_{i=1}^n x_i \\\\\n",
    "\\sigma_n^2 = \\frac{1}{n-1} \\sum_{i=1}^n (x_i - \\bar{x}_n)^2 \n",
    "$$\n",
    "\n",
    "Actually, _you don't need to implement these yourself;_ use the functions `np.mean()` and `np.var()`.  (There's also a function for the standard deviation $\\sigma_n$, `np.std()`, which is the square root of the variance - it's a separate function because we usually care about $\\sigma_n$ more than $\\sigma_n^2$.)\n",
    "\n",
    "Your results should be pretty close to the theoretical predictions of $(\\mu, \\sigma^2) = (1/2, 1/12)$ - we'll worry more about _exactly_ how close they are below."
   ]
  },
  {
   "cell_type": "code",
   "execution_count": null,
   "metadata": {
    "nbgrader": {
     "grade": true,
     "grade_id": "cell-f95f1ffc41be9624",
     "locked": false,
     "points": 2,
     "schema_version": 3,
     "solution": true,
     "task": false
    }
   },
   "outputs": [],
   "source": [
    "#"
   ]
  },
  {
   "cell_type": "markdown",
   "metadata": {
    "nbgrader": {
     "grade": false,
     "grade_id": "cell-e6a349e2cfdf9bd9",
     "locked": true,
     "schema_version": 3,
     "solution": false,
     "task": false
    }
   },
   "source": [
    "Now let's be more precise: what is the __standard error of the mean__, $\\sigma_{\\rm{sem}} = \\sigma_n / \\sqrt{n}$, for your sample?  \n",
    "\n",
    "Is your sample mean $\\bar{x}_n$ within __one standard error__ of the true answer of $1/2$?  If not, is it within __three standard errors__?  What did your neighbors get?  (What do you expect, statistically?)"
   ]
  },
  {
   "cell_type": "code",
   "execution_count": null,
   "metadata": {
    "nbgrader": {
     "grade": false,
     "grade_id": "cell-7276f278b9ebdb44",
     "locked": false,
     "schema_version": 3,
     "solution": true,
     "task": false
    }
   },
   "outputs": [],
   "source": [
    "#"
   ]
  },
  {
   "cell_type": "markdown",
   "metadata": {
    "nbgrader": {
     "grade": false,
     "grade_id": "cell-d7cae62d4d1dfb43",
     "locked": true,
     "schema_version": 3,
     "solution": false,
     "task": false
    }
   },
   "source": [
    "### Part B\n",
    "\n",
    "Now let's study the behavior of random sampling with multiple trials.\n",
    "\n",
    "__Complete the function `random_means(n, T)`__ that returns an array of `T` trial means $\\mu_n$.  To do this, you should use a for loop that runs `T` times, each time drawing a sample of `n` random numbers from (0,1), computing the sample mean, and saving that to an array to be returned.\n",
    "\n"
   ]
  },
  {
   "cell_type": "code",
   "execution_count": null,
   "metadata": {
    "nbgrader": {
     "grade": true,
     "grade_id": "cell-cbc38aaaae04db8c",
     "locked": false,
     "points": 0,
     "schema_version": 3,
     "solution": true,
     "task": false
    }
   },
   "outputs": [],
   "source": [
    "def random_means(n, T):\n",
    "    \"\"\"\n",
    "    Return T trial sample means, drawing\n",
    "    samples of size n from the uniform distribution [0,1).\n",
    "\n",
    "    Arguments:\n",
    "    ====\n",
    "    n: sample size\n",
    "    T: number of trials\n",
    "\n",
    "    Returns:\n",
    "    ====\n",
    "    An array of length T, containing sample means for different random draws of size n.\n",
    "\n",
    "    \"\"\"\n",
    "\n",
    "    #"
   ]
  },
  {
   "cell_type": "code",
   "execution_count": null,
   "metadata": {
    "nbgrader": {
     "grade": true,
     "grade_id": "cell-9484a61f942feb7d",
     "locked": true,
     "points": 0,
     "schema_version": 3,
     "solution": false,
     "task": false
    }
   },
   "outputs": [],
   "source": [
    "# Simple tests - doesn't 100% guarantee your function works!\n",
    "\n",
    "test_means = random_means(1000, 10)\n",
    "print(test_means)\n",
    "\n",
    "assert len(test_means) == 10\n",
    "assert np.abs(np.mean(test_means) - 0.5) < 0.1"
   ]
  },
  {
   "cell_type": "markdown",
   "metadata": {
    "nbgrader": {
     "grade": false,
     "grade_id": "cell-10702cd396481cdf",
     "locked": true,
     "schema_version": 3,
     "solution": false,
     "task": false
    }
   },
   "source": [
    "Once your function is working, __call it with a sample size of $n=10,000$ and $T=1,000$ trials__, then __compute the variance of the array it returns__.   This is _not_ the sample variance - it is the _variance of the sample mean_, over the space of $T$ trials.  \n",
    "\n",
    "How does this variance compare to  your result for $\\sigma_{\\rm SEM}^2$ from a single sample above?  How does it compare to the theoretical estimate of the sample mean variance $(1/12) / n$ from the central limit theorem?\n",
    "\n",
    "_(Hint: of course, the $\\sigma_{\\rm SEM}^2$ will only agree if you used the same sample size above...make sure that's true if they disagree!)_"
   ]
  },
  {
   "cell_type": "code",
   "execution_count": null,
   "metadata": {
    "nbgrader": {
     "grade": false,
     "grade_id": "cell-f3275e5181e09976",
     "locked": false,
     "schema_version": 3,
     "solution": true,
     "task": false
    }
   },
   "outputs": [],
   "source": [
    "#"
   ]
  },
  {
   "cell_type": "markdown",
   "metadata": {
    "nbgrader": {
     "grade": false,
     "grade_id": "cell-24df22ed9e44e9ab",
     "locked": true,
     "schema_version": 3,
     "solution": false,
     "task": false
    }
   },
   "source": [
    "### Part C\n",
    "\n",
    "Now let's visualize the distribution of sample means, using `random_means()`.  Using `plt.hist()`, __make a histogram__ of the array of random means that you created in the last cell.  Does it look like a normal distribution?  (It should, since both $n$ and $T$ are large enough for the central limit theorem to apply!)"
   ]
  },
  {
   "cell_type": "code",
   "execution_count": null,
   "metadata": {
    "nbgrader": {
     "grade": false,
     "grade_id": "cell-65fd252021dfe828",
     "locked": false,
     "schema_version": 3,
     "solution": true,
     "task": false
    }
   },
   "outputs": [],
   "source": [
    "#"
   ]
  },
  {
   "cell_type": "markdown",
   "metadata": {
    "nbgrader": {
     "grade": false,
     "grade_id": "cell-28ff27e4521df9fe",
     "locked": true,
     "schema_version": 3,
     "solution": false,
     "task": false
    }
   },
   "source": [
    "Finally, __make a plot showing three histograms with `plt.hist()`__: do 1000 trials using `random_means`, but with sample sizes of 500, 2000, and 8000.  (Since the SEM decreases proportional to $\\sqrt{n}$, you should see the width of the Gaussian cut in half with each increase in sample size compared to the $n=500$ case.)"
   ]
  },
  {
   "cell_type": "code",
   "execution_count": null,
   "metadata": {
    "nbgrader": {
     "grade": false,
     "grade_id": "cell-b0e74ae7d7b9cfde",
     "locked": false,
     "schema_version": 3,
     "solution": true,
     "task": false
    }
   },
   "outputs": [],
   "source": [
    "#"
   ]
  },
  {
   "cell_type": "markdown",
   "metadata": {
    "nbgrader": {
     "grade": false,
     "grade_id": "cell-3803785aa75dbce8",
     "locked": true,
     "schema_version": 3,
     "solution": false,
     "task": false
    }
   },
   "source": [
    "## T19.2 - Let's make a deal!\n",
    "\n",
    "One of the most (in)famous simple problems in mathematical probability is the __Monty Hall problem__ ([see here](https://en.wikipedia.org/wiki/Monty_Hall_problem) for the Wikipedia summary.)  Here is the premise: you're a contestant on a game show, where you have a chance to win a new car.  There are three doors on stage.  One of the doors has the new car behind it; the other two doors have goats.  To win the car, you just have to pick the right door.\n",
    "\n",
    "In the simplest version of this game, it should be obvious that your odds of winning the car are $1/3$.  But let's make the game more interesting!  After you choose a door, the game show host (who knows what is behind all of the doors) opens one of the doors you _didn't_ choose, revealing a goat.  Then the host asks whether you want to keep the door which you selected initially, or switch to the other closed door.  What should you do: keep the door you chose originally, or switch to the other door?\n",
    "\n",
    "The correct answer is summarized at the link above, if you're impatient.  But the theory behind this problem has confused lots of very intelligent people (including famous mathematician Paul Erdos) for decades - so instead of trying to figure it out, let's just use a Monte Carlo simulation to find the answer!\n",
    "\n",
    "### Part A\n",
    "\n",
    "To begin with, let's write a function to simulate the simplest version of the game: there are three doors with 2 goats and 1 car, and the player simply chooses one door.  The odds of picking the door with the car (and therefore winning it) are 1/3.\n",
    "\n",
    "In order to make it easier to apply our work to the more complicated full game in the next part, we will use a __modular design__ for our simulation.  This means that we will write several functions, each of which accomplishes one small task required for the full game simulation.  (We'll be able to re-use all of the functions you write in the next part for the more complicated game.)\n",
    "\n",
    "This also lets us use __unit tests__ - we can write individual tests for each of the short functions that you'll be implementing, instead of relying on testing the entire game at once.  Testing the whole game is important too - but unit tests make it much easier to debug small mistakes.\n",
    "\n",
    "Your job is to __implement the functions `shuffle_prizes` and `choose_door_player`__.  Then run the third cell containing the function `play_monty_hall_simple`, a function that I have written for you which contains the rest of the pieces needed for the simple Monty Hall game.  You can read through that function to see how `shuffle_prizes` and `choose_door_player` are implemented, or rely on the docstrings I've given you."
   ]
  },
  {
   "cell_type": "code",
   "execution_count": null,
   "metadata": {
    "nbgrader": {
     "grade": false,
     "grade_id": "cell-e9bb81e7302bc71f",
     "locked": false,
     "schema_version": 3,
     "solution": true,
     "task": false
    }
   },
   "outputs": [],
   "source": [
    "def shuffle_prizes(prizes):\n",
    "    \"\"\"\n",
    "    Given a list of prizes ('goat' or 'car'), returns a shuffled\n",
    "    list with the same number of prizes but in a random order.\n",
    "\n",
    "    Args:\n",
    "      - prizes: a list consisting entirely of the strings 'goat' and 'car'.\n",
    "\n",
    "    Returns:\n",
    "      - A list with the same number of 'goat' and 'car' entries as the input\n",
    "      prizes list, but in random order.\n",
    "    \"\"\"\n",
    "\n",
    "    #"
   ]
  },
  {
   "cell_type": "code",
   "execution_count": null,
   "metadata": {
    "nbgrader": {
     "grade": true,
     "grade_id": "cell-f8f34e4042d96c04",
     "locked": true,
     "points": 0,
     "schema_version": 3,
     "solution": false,
     "task": false
    }
   },
   "outputs": [],
   "source": [
    "# Tests for shuffle_prizes\n",
    "a_prize_list = [\"goat\", \"goat\", \"car\"]\n",
    "\n",
    "## Shuffle until the list changes, or fail the test if it doesn't change\n",
    "count = 0\n",
    "shuffled = shuffle_prizes(a_prize_list)\n",
    "print(shuffled)\n",
    "\n",
    "while np.all(shuffled == a_prize_list):\n",
    "    shuffled = shuffle_prizes(a_prize_list)\n",
    "    print(shuffled)\n",
    "    count += 1\n",
    "    if count > 10:\n",
    "        assert False\n",
    "\n",
    "goat_count = sum([p == \"goat\" for p in shuffled])\n",
    "car_count = sum([p == \"car\" for p in shuffled])\n",
    "\n",
    "assert car_count == 1\n",
    "assert goat_count == 2"
   ]
  },
  {
   "cell_type": "code",
   "execution_count": null,
   "metadata": {
    "nbgrader": {
     "grade": false,
     "grade_id": "cell-d23bea41cead9a76",
     "locked": false,
     "schema_version": 3,
     "solution": true,
     "task": false
    }
   },
   "outputs": [],
   "source": [
    "def choose_door_player():\n",
    "    \"\"\"\n",
    "    Simulates the initial player choice in the Monty Hall game.\n",
    "\n",
    "    Returns:\n",
    "      - A random door number from the set (0,1,2).\n",
    "    \"\"\"\n",
    "\n",
    "    #"
   ]
  },
  {
   "cell_type": "code",
   "execution_count": null,
   "metadata": {
    "nbgrader": {
     "grade": true,
     "grade_id": "cell-d30672d857a0dfd6",
     "locked": true,
     "points": 0,
     "schema_version": 3,
     "solution": false,
     "task": false
    }
   },
   "outputs": [],
   "source": [
    "# Tests for choose_door_player\n",
    "\n",
    "some_doors = []\n",
    "for _ in range(100):\n",
    "    some_doors.append(choose_door_player())\n",
    "\n",
    "# All doors chosen should be either 0,1,2\n",
    "for door in some_doors:\n",
    "    assert door in (0, 1, 2)\n",
    "\n",
    "# All three doors should be represented within 100 choices\n",
    "# (Odds of failure: (2/3)^100 ~ 10^{-18}, i.e. \"never\")\n",
    "for door_num in (0, 1, 2):\n",
    "    assert door_num in some_doors"
   ]
  },
  {
   "cell_type": "code",
   "execution_count": null,
   "metadata": {
    "nbgrader": {
     "grade": true,
     "grade_id": "cell-09cb024a46fb639e",
     "locked": true,
     "points": 0,
     "schema_version": 3,
     "solution": false,
     "task": false
    }
   },
   "outputs": [],
   "source": [
    "def play_monty_hall_simple():\n",
    "    \"\"\"\n",
    "    Play a single round of the simple Monty Hall game.\n",
    "\n",
    "    Returns:\n",
    "      - True if the contestant wins the car, otherwise False.\n",
    "    \"\"\"\n",
    "\n",
    "    prizes = [\"goat\"] * 2 + [\"car\"] * 1\n",
    "\n",
    "    # Randomly generate a list of three options: 'goat' twice and 'car' once\n",
    "    door_prizes = shuffle_prizes(prizes)\n",
    "\n",
    "    # To see which door the car is behind, create a mask with == 'car'\n",
    "    # and then np.flatnonzero shows which mask entry is not False\n",
    "    # (since False and 0 are equivalent.)\n",
    "    car_door = np.flatnonzero(door_prizes == \"car\")\n",
    "    print(f\"Car is behind door: {car_door}\")\n",
    "\n",
    "    # The player randomly selects one of the doors\n",
    "    player_choice = choose_door_player()\n",
    "    print(f\"Player chooses door: {player_choice}\")\n",
    "\n",
    "    # See if the player won or not, and return accordingly!\n",
    "    if door_prizes[player_choice] == \"car\":\n",
    "        print(\"Player wins!\")\n",
    "        return True\n",
    "    else:\n",
    "        print(\"Player loses!\")\n",
    "        return False"
   ]
  },
  {
   "cell_type": "markdown",
   "metadata": {
    "nbgrader": {
     "grade": false,
     "grade_id": "cell-0583b9a70b0cee07",
     "locked": true,
     "schema_version": 3,
     "solution": false,
     "task": false
    }
   },
   "source": [
    "Now __run the following cell__ a few times, to simulate playing the game repeatedly.  You should see \"loses\" more often than \"wins\", but otherwise it will be hard to tell what the odds are just from this."
   ]
  },
  {
   "cell_type": "code",
   "execution_count": null,
   "metadata": {
    "nbgrader": {
     "grade": true,
     "grade_id": "cell-c2cb80c3f6124116",
     "locked": true,
     "points": 0,
     "schema_version": 3,
     "solution": false,
     "task": false
    }
   },
   "outputs": [],
   "source": [
    "play_monty_hall_simple()"
   ]
  },
  {
   "cell_type": "markdown",
   "metadata": {
    "nbgrader": {
     "grade": false,
     "grade_id": "cell-df0821d021f7d36c",
     "locked": true,
     "schema_version": 3,
     "solution": false,
     "task": false
    }
   },
   "source": [
    "Now let's do a real test by gathering some statistics.  __Run the next two cells below__ to play 1000 games using the function you wrote above.  If everything is set up correctly, you should see about a 33% (one in three) win rate for this simplest version of the game.  \n",
    "\n",
    "(Note the new Jupyter magic `%%capture`, which is used to capture all `print()` output in a particular cell. This can be used to save the `print()` output to a file; in this case, we're just using it to throw out all of the descriptive text that `play_monty_hall_simple()` prints out, since seeing that 1000 times will be a lot of clutter.)"
   ]
  },
  {
   "cell_type": "code",
   "execution_count": null,
   "metadata": {
    "nbgrader": {
     "grade": true,
     "grade_id": "cell-436ce064032e2f1b",
     "locked": true,
     "points": 0,
     "schema_version": 3,
     "solution": false,
     "task": false
    }
   },
   "outputs": [],
   "source": [
    "%%capture\n",
    "\n",
    "win_count = 0\n",
    "num_games = 1000\n",
    "\n",
    "for _ in range(num_games):\n",
    "    if play_monty_hall_simple():\n",
    "        win_count += 1"
   ]
  },
  {
   "cell_type": "code",
   "execution_count": null,
   "metadata": {
    "nbgrader": {
     "grade": true,
     "grade_id": "cell-94c82f906a8d48a9",
     "locked": true,
     "points": 0,
     "schema_version": 3,
     "solution": false,
     "task": false
    }
   },
   "outputs": [],
   "source": [
    "print(\n",
    "    f\"Number of wins: {win_count}/{num_games} --> {100*win_count/num_games:.1f}% win rate\"\n",
    ")"
   ]
  },
  {
   "cell_type": "markdown",
   "metadata": {
    "nbgrader": {
     "grade": false,
     "grade_id": "cell-2ec3b83adf73b646",
     "locked": true,
     "schema_version": 3,
     "solution": false,
     "task": false
    }
   },
   "source": [
    "### Part B\n",
    "\n",
    "Now let's move on to the full game!  To complete our simulation, in addition to the two functions you wrote for part A, we'll need two new functions.  __Implement `choose_door_host` and `switch_doors`__ in the two cells below.  Once again, skip ahead to read the function definition `play_monty_hall_reveal` if you want to see how these functions are used in context.\n",
    "\n",
    "_(Hint: the `choose_door_host` function is the hard part of this problem.  It's important to make sure the host picks randomly, but also that they pick only from doors with goats and that they don't pick the same door as the player!  The simplest algorithm, although slightly wasteful, would be to just randomly pick doors with a while loop until the host chooses one that meets both conditions.)_"
   ]
  },
  {
   "cell_type": "code",
   "execution_count": null,
   "metadata": {
    "nbgrader": {
     "grade": false,
     "grade_id": "cell-98f21c5837797309",
     "locked": false,
     "schema_version": 3,
     "solution": true,
     "task": false
    }
   },
   "outputs": [],
   "source": [
    "def choose_door_host(door_prizes, player_choice):\n",
    "    \"\"\"\n",
    "    Simulates the host's door choice in the Monty Hall game.\n",
    "\n",
    "    The host will follow these rules in picking a door to reveal:\n",
    "\n",
    "    1) They will never reveal the door the player has already chosen;\n",
    "    2) They will only reveal a door with a goat behind it.\n",
    "\n",
    "    For the simulation to be valid, the host must choose RANDOMLY if possible!\n",
    "    (If one un-revealed door is a car, then there is only one option; but\n",
    "     if both are goats, they should pick at random.)\n",
    "\n",
    "    Args:\n",
    "      - door_prizes: a length-3 list which describes which prizes are behind\n",
    "        which doors.  All entires in the list are the strings 'goat' or 'car'.\n",
    "      - player_choice: int from (0,1,2), the door number which the player\n",
    "        has already chosen\n",
    "\n",
    "    Returns:\n",
    "      - A random door number from (0,1,2), but following the rules above.\n",
    "    \"\"\"\n",
    "\n",
    "    #"
   ]
  },
  {
   "cell_type": "code",
   "execution_count": null,
   "metadata": {
    "nbgrader": {
     "grade": true,
     "grade_id": "cell-430acd319aa98e3e",
     "locked": true,
     "points": 0,
     "schema_version": 3,
     "solution": false,
     "task": false
    }
   },
   "outputs": [],
   "source": [
    "# Tests for choose_door_host\n",
    "\n",
    "a_prize_list = [\"car\", \"goat\", \"goat\"]\n",
    "\n",
    "# Case 1: if the player chooses a goat, the host will always pick the other goat\n",
    "assert choose_door_host(a_prize_list, 1) == 2\n",
    "assert choose_door_host(a_prize_list, 2) == 1\n",
    "\n",
    "# Case 2: if the player chooses a car, the host will choose randomly from the goat doors\n",
    "host_choices_test = [choose_door_host(a_prize_list, 0) for _ in range(50)]\n",
    "\n",
    "# Make sure both goat doors are sometimes chosen\n",
    "assert 1 in host_choices_test\n",
    "assert 2 in host_choices_test\n",
    "\n",
    "# Make sure no other doors are ever chosen\n",
    "for door in host_choices_test:\n",
    "    assert door in (1, 2)"
   ]
  },
  {
   "cell_type": "code",
   "execution_count": null,
   "metadata": {
    "nbgrader": {
     "grade": false,
     "grade_id": "cell-e02ebfeb5f707012",
     "locked": false,
     "schema_version": 3,
     "solution": true,
     "task": false
    }
   },
   "outputs": [],
   "source": [
    "def switch_doors(player_choice, host_choice):\n",
    "    \"\"\"\n",
    "    Simulates the player's decision to switch doors in the Monty Hall game.\n",
    "\n",
    "    The player will switch to the third door out of (0,1,2) which they\n",
    "    did not choose originally and which the host did not reveal a goat behind.\n",
    "\n",
    "    Returns:\n",
    "      - The door number from (0,1,2) following the rules above.\n",
    "    \"\"\"\n",
    "\n",
    "    #"
   ]
  },
  {
   "cell_type": "code",
   "execution_count": null,
   "metadata": {
    "nbgrader": {
     "grade": true,
     "grade_id": "cell-e8e4fed6624057cb",
     "locked": true,
     "points": 0,
     "schema_version": 3,
     "solution": false,
     "task": false
    }
   },
   "outputs": [],
   "source": [
    "# Tests for switch_doors\n",
    "# We can test this one by exhaustion:\n",
    "\n",
    "# Answers below in the form (player_choice, host_choice, switched_door)\n",
    "answer_key = [\n",
    "    [0, 1, 2],\n",
    "    [0, 2, 1],\n",
    "    [1, 0, 2],\n",
    "    [1, 2, 0],\n",
    "    [2, 0, 1],\n",
    "    [2, 1, 0],\n",
    "]\n",
    "\n",
    "for player_choice, host_choice, switch_answer in answer_key:\n",
    "    switch_test = switch_doors(player_choice, host_choice)\n",
    "    assert switch_test == switch_answer"
   ]
  },
  {
   "cell_type": "code",
   "execution_count": null,
   "metadata": {
    "nbgrader": {
     "grade": true,
     "grade_id": "cell-901127f85740f6d6",
     "locked": true,
     "points": 0,
     "schema_version": 3,
     "solution": false,
     "task": false
    }
   },
   "outputs": [],
   "source": [
    "def play_monty_hall_reveal(always_switch=False):\n",
    "    \"\"\"\n",
    "    Play a single round of the Monty Hall game.\n",
    "\n",
    "    Args:\n",
    "      - always_switch: if True, the player always switches doors\n",
    "      after the host's reveal.  Otherwise, they always keep their\n",
    "      original choice.\n",
    "\n",
    "    Returns:\n",
    "      - True if the contestant wins the car, otherwise False.\n",
    "    \"\"\"\n",
    "\n",
    "    prizes = [\"goat\"] * 2 + [\"car\"] * 1\n",
    "\n",
    "    # Randomly generate a list of three options: 'goat' twice and 'car' once\n",
    "    door_prizes = shuffle_prizes(prizes)\n",
    "\n",
    "    # The player randomly selects one of the doors\n",
    "    player_choice = choose_door_player()\n",
    "    print(f\"Player chooses door: {player_choice}\")\n",
    "\n",
    "    # The host reveals a door with a goat\n",
    "    host_choice = choose_door_host(door_prizes, player_choice)\n",
    "    print(f\"Host reveals a goat behind door: {host_choice}!\")\n",
    "\n",
    "    # If always_switch is True, the player switches to the other un-revealed door\n",
    "    if always_switch:\n",
    "        player_choice = switch_doors(player_choice, host_choice)\n",
    "        print(f\"Player switches to door {player_choice}\")\n",
    "\n",
    "    # See if the player won or not, and return accordingly!\n",
    "    if door_prizes[player_choice] == \"car\":\n",
    "        print(\"Player wins!\")\n",
    "        return True\n",
    "    else:\n",
    "        print(\"Player loses!\")\n",
    "        return False"
   ]
  },
  {
   "cell_type": "markdown",
   "metadata": {
    "nbgrader": {
     "grade": false,
     "grade_id": "cell-30bacd81c6cc456c",
     "locked": true,
     "schema_version": 3,
     "solution": false,
     "task": false
    }
   },
   "source": [
    "Once again, __run the cell below__ to test your code - it should run without error, and you should see all of the descriptive text printed out describing how the game is played out."
   ]
  },
  {
   "cell_type": "code",
   "execution_count": null,
   "metadata": {
    "nbgrader": {
     "grade": true,
     "grade_id": "cell-01e078f86a5f5ef2",
     "locked": true,
     "points": 0,
     "schema_version": 3,
     "solution": false,
     "task": false
    }
   },
   "outputs": [],
   "source": [
    "play_monty_hall_reveal(always_switch=True);"
   ]
  },
  {
   "cell_type": "markdown",
   "metadata": {
    "nbgrader": {
     "grade": false,
     "grade_id": "cell-233706c62e79e25e",
     "locked": true,
     "schema_version": 3,
     "solution": false,
     "task": false
    }
   },
   "source": [
    "After the cell above is working to your satisfaction, __run the next two cells__ to simulate 1000 games using two strategies: always switching after the reveal, or always keeping the original door.  Are you surprised by the results?  Do they match the described solution [on Wikipedia](https://en.wikipedia.org/wiki/Monty_Hall_problem)?"
   ]
  },
  {
   "cell_type": "code",
   "execution_count": null,
   "metadata": {
    "nbgrader": {
     "grade": true,
     "grade_id": "cell-69b693889bbdf6db",
     "locked": true,
     "points": 0,
     "schema_version": 3,
     "solution": false,
     "task": false
    }
   },
   "outputs": [],
   "source": [
    "%%capture\n",
    "\n",
    "win_count_switch = 0\n",
    "win_count_stay = 0\n",
    "num_games = 1000\n",
    "\n",
    "for _ in range(num_games):\n",
    "    if play_monty_hall_reveal(always_switch=True):\n",
    "        win_count_switch += 1\n",
    "\n",
    "for _ in range(num_games):\n",
    "    if play_monty_hall_reveal(always_switch=False):\n",
    "        win_count_stay += 1"
   ]
  },
  {
   "cell_type": "code",
   "execution_count": null,
   "metadata": {
    "nbgrader": {
     "grade": true,
     "grade_id": "cell-74fbe5fce964ff3d",
     "locked": true,
     "points": 0,
     "schema_version": 3,
     "solution": false,
     "task": false
    }
   },
   "outputs": [],
   "source": [
    "print(\n",
    "    f\"Number of wins, staying: {win_count_stay}/{num_games} --> {100*win_count_stay/num_games:.1f}% win rate\"\n",
    ")\n",
    "print(\n",
    "    f\"Number of wins, switching: {win_count_switch}/{num_games} --> {100*win_count_switch/num_games:.1f}% win rate\"\n",
    ")"
   ]
  },
  {
   "cell_type": "markdown",
   "metadata": {},
   "source": [
    "### Part C (optional challenge)\n",
    "\n",
    "The TV show _Deal or No Deal_ operates on a similar premise to the Monty Hall problem, except with more doors (briefcases of money, actually) and with one important distinction: the _player_ chooses which doors to open instead of the host.\n",
    "\n",
    "To be concrete, here is the _Deal or No Deal_ version of our current game: after their initial choice, the player chooses one of the other doors to reveal.  If they reveal the car, then they lose - the only doors left are goats.  But if they reveal a goat, then they have the option of switching doors or keeping their original choice.\n",
    "\n",
    "__Can you modify the algorithm from part B to simulate this version of the game?__  How does the player's win probability change?  Is switching still optimal, or not? \n",
    "\n",
    "(I've given you the skeleton below, as well as the set of tests to run after you implement `play_monty_hall_deal`.  The code at the beginning and end of the function is the same as `play_monty_hall_reveal`, you just have to make a couple of changes in the middle.)"
   ]
  },
  {
   "cell_type": "code",
   "execution_count": null,
   "metadata": {
    "nbgrader": {
     "grade": false,
     "grade_id": "cell-254979a6a905632a",
     "locked": false,
     "schema_version": 3,
     "solution": true,
     "task": false
    }
   },
   "outputs": [],
   "source": [
    "def play_monty_hall_deal(always_switch=False):\n",
    "    \"\"\"\n",
    "    Play a single round of the Monty Hall game.\n",
    "\n",
    "    Args:\n",
    "      - always_switch: if True, the player always switches doors\n",
    "      after the host's reveal.  Otherwise, they always keep their\n",
    "      original choice.\n",
    "\n",
    "    Returns:\n",
    "      - True if the contestant wins the car, otherwise False.\n",
    "    \"\"\"\n",
    "\n",
    "    prizes = [\"goat\"] * 2 + [\"car\"] * 1\n",
    "\n",
    "    # Randomly generate a list of three options: 'goat' twice and 'car' once\n",
    "    door_prizes = shuffle_prizes(prizes)\n",
    "\n",
    "    # The player randomly selects one of the doors\n",
    "    player_choice = choose_door_player()\n",
    "    print(f\"Player chooses door: {player_choice}\")\n",
    "\n",
    "    #\n",
    "\n",
    "    # See if the player won or not, and return accordingly!\n",
    "    if door_prizes[player_choice] == \"car\":\n",
    "        print(\"Player wins!\")\n",
    "        return True\n",
    "    else:\n",
    "        print(\"Player loses!\")\n",
    "        return False"
   ]
  },
  {
   "cell_type": "code",
   "execution_count": null,
   "metadata": {
    "nbgrader": {
     "grade": true,
     "grade_id": "cell-5408b4dbe130ce52",
     "locked": true,
     "points": 0,
     "schema_version": 3,
     "solution": false,
     "task": false
    }
   },
   "outputs": [],
   "source": [
    "play_monty_hall_deal(always_switch=True);"
   ]
  },
  {
   "cell_type": "code",
   "execution_count": null,
   "metadata": {
    "nbgrader": {
     "grade": true,
     "grade_id": "cell-26e1ec6025486918",
     "locked": true,
     "points": 0,
     "schema_version": 3,
     "solution": false,
     "task": false
    }
   },
   "outputs": [],
   "source": [
    "%%capture\n",
    "\n",
    "win_count_switch = 0\n",
    "win_count_stay = 0\n",
    "num_games = 1000\n",
    "\n",
    "for _ in range(num_games):\n",
    "    if play_monty_hall_deal(always_switch=True):\n",
    "        win_count_switch += 1\n",
    "\n",
    "for _ in range(num_games):\n",
    "    if play_monty_hall_deal(always_switch=False):\n",
    "        win_count_stay += 1"
   ]
  },
  {
   "cell_type": "code",
   "execution_count": null,
   "metadata": {
    "nbgrader": {
     "grade": true,
     "grade_id": "cell-e4a1ee0f1566e1fb",
     "locked": true,
     "points": 0,
     "schema_version": 3,
     "solution": false,
     "task": false
    },
    "scrolled": true
   },
   "outputs": [],
   "source": [
    "print(\n",
    "    f\"Number of wins, staying: {win_count_stay}/{num_games} --> {100*win_count_stay/num_games:.1f}% win rate\"\n",
    ")\n",
    "print(\n",
    "    f\"Number of wins, switching: {win_count_switch}/{num_games} --> {100*win_count_switch/num_games:.1f}% win rate\"\n",
    ")"
   ]
  }
 ],
 "metadata": {
  "kernelspec": {
   "display_name": "Python 3 (ipykernel)",
   "language": "python",
   "name": "python3"
  },
  "language_info": {
   "codemirror_mode": {
    "name": "ipython",
    "version": 3
   },
   "file_extension": ".py",
   "mimetype": "text/x-python",
   "name": "python",
   "nbconvert_exporter": "python",
   "pygments_lexer": "ipython3",
   "version": "3.13.7"
  }
 },
 "nbformat": 4,
 "nbformat_minor": 4
}
