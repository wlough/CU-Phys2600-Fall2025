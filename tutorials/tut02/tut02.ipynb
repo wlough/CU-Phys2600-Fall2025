{
 "cells": [
  {
   "cell_type": "markdown",
   "id": "f97069cf-36ea-4ab7-af4d-5472312ffc64",
   "metadata": {},
   "source": [
    "# Tutorial 2: Jupyter and Python 101\n",
    "\n",
    "## PHYS 2600, Fall 2025\n",
    "\n"
   ]
  },
  {
   "cell_type": "markdown",
   "id": "ac07ae7f-3d98-4758-b1b3-96e03d9e7da9",
   "metadata": {
    "editable": true,
    "slideshow": {
     "slide_type": ""
    },
    "tags": []
   },
   "source": [
    "## T2.1 - Jupyter and Google Colab basics\n",
    "\n",
    "__(This part of the tutorial will be an interactive demo; load it up and follow along with me on the screen.)__\n",
    "\n",
    "We will be using Google Colab to run Jupyter notebooks. \n",
    "\n",
    "To start:\n",
    "\n",
    "1. Save a copy of this tutorial in your google drive using **File->Save a copy in Drive**\n",
    "2. Rename to: `tut02_lastname_firstname.ipynb`.\n",
    "\n",
    "\n",
    "Below we'll learn how a Jupyter notebook is structured, as well as some useful keyboard shortcuts for manipulating it easily.\n",
    "\n",
    "To bring up the list of all keyboard shortcuts in Colab, press `ctrl+m h` or select **Tools->Keyboard shortcuts**  (Don't worry yet about what they all mean!)\n",
    "\n"
   ]
  },
  {
   "cell_type": "markdown",
   "id": "a99335b5-3b10-4636-b74f-f5ae75489bfd",
   "metadata": {
    "editable": true,
    "slideshow": {
     "slide_type": ""
    },
    "tags": []
   },
   "source": [
    "_Jupyter_ is organized into _notebooks_ and _cells_.  A notebook is a single file which collects a number of cells together; this whole tutorial is a single notebook.  This text and the title above are in two different cells.\n",
    "\n",
    "Cells come in two flavors: _code_ and _text_. Text cells are formatted using a language called. Code cells contain Python code. This cell is an example of a text cell.\n",
    "\n"
   ]
  },
  {
   "cell_type": "markdown",
   "id": "d85b05b8-edf7-479f-b300-a7774eedb93d",
   "metadata": {
    "editable": true,
    "slideshow": {
     "slide_type": ""
    },
    "tags": []
   },
   "source": [
    "### Command and Edit Modes\n",
    "\n",
    "To edit a text cell's Markdown source, you can enter **Edit Mode** by double clicking on the text cell. To edit a code cell, you only need to click once to enter edit mode. In Edit mode, you can type text into the cell like you normally would in a text editor.\n",
    "\n",
    "Pressing `esc` while in edit mode will take you into __Command Mode__.  Command mode is meant for doing things to the notebook as a whole; there are a number of _keyboard shortcuts_ that are available only in Command mode.\n",
    "\n"
   ]
  },
  {
   "cell_type": "code",
   "execution_count": null,
   "id": "a7325007-9c35-4a12-9687-424e0c8e969b",
   "metadata": {
    "editable": true,
    "slideshow": {
     "slide_type": ""
    },
    "tags": []
   },
   "outputs": [
    {
     "ename": "SyntaxError",
     "evalue": "invalid syntax (2817294571.py, line 5)",
     "output_type": "error",
     "traceback": [
      "  \u001b[36mCell\u001b[39m\u001b[36m \u001b[39m\u001b[32mIn[1]\u001b[39m\u001b[32m, line 5\u001b[39m\n\u001b[31m    \u001b[39m\u001b[31mx =\u001b[39m\n        ^\n\u001b[31mSyntaxError\u001b[39m\u001b[31m:\u001b[39m invalid syntax\n"
     ]
    }
   ],
   "source": [
    "### This is a code cell; notice the In [ ]: to the left.\n",
    "\n",
    "### Click in the box to enter Edit Mode, and assign a value to the variable x\n",
    "### so that this cell runs without an error message.  Then run it!\n",
    "x = \n",
    "print(x+x)"
   ]
  },
  {
   "cell_type": "markdown",
   "id": "4637c0b2-98e9-4982-9ebe-b662bb0ee27c",
   "metadata": {
    "editable": true,
    "slideshow": {
     "slide_type": ""
    },
    "tags": []
   },
   "source": [
    "Notice that the cell now has an **output** box attached to the bottom, most likely labeled as `Out [3]:`.  The numbers tell us that this was the third input run, and the third output generated, with the current kernel. \\(This is where most notebooks start \\- you can test this later.\\)\n",
    "\n",
    "Speaking of which, the __kernel__ is one more important piece of Jupyter you should know about.  The kernel is a Python interpreter which runs in the background and waits for us to execute cells. We'll learn more about the kernel below.\n",
    "\n"
   ]
  },
  {
   "cell_type": "markdown",
   "id": "502d01f9-7ff7-4ba5-803e-8ef558c56ba5",
   "metadata": {
    "editable": true,
    "slideshow": {
     "slide_type": ""
    },
    "tags": []
   },
   "source": [
    "### Keyboard shortcuts\n",
    "\n",
    "Let's learn a few of the more useful keyboard shortcuts - I'll review them at the end.  We already know `esc` to leave edit mode, and `shift+enter` to run the current cell and jump to the next.  (A list of _all_ shortcuts can be found in the menu above under **Tools->Keyboard shortcuts** or by pressing `ctrl+m h`)  All of these operations can also be carried out using the options in the menu and/or toolbar above.\n",
    "\n",
    "The first shortcut you should know is `ctrl+s`, which saves the current notebook.  There is an autosave feature in Jupyter, but you shouldn't rely on it \\- save early and often to make sure you don't lose your work in progress!  Press `ctrl+s` now to save your edits so far.  Then **try closing and re\\-opening the tutorial** to make sure it's saved properly.\n",
    "\n",
    "(__Beware!__ Your outputs will be saved, but if you restart the kernel, it will forget all variables - see \"kernel control\" at the end of this section.)\n",
    "\n"
   ]
  },
  {
   "cell_type": "markdown",
   "id": "98b40f76-e243-4711-b658-c01071082cb7",
   "metadata": {
    "editable": true,
    "slideshow": {
     "slide_type": ""
    },
    "tags": []
   },
   "source": [
    "Below are a Markdown cell, and a code cell.  We can switch from one type of cell to another by selecting and using the drop-down menu above to choose \"Code\" or \"Text\".  __In Command mode__, we can also use the keyboard shortcuts:\n",
    "\n",
    "* `ctrl+m m` converts the current cell to Markdown type;\n",
    "* `ctrl+m y` converts the current cell to code type.\n",
    "\n",
    "Switch each cell below to the other type, and run them (with Shift+Enter.)\n",
    "\n"
   ]
  },
  {
   "cell_type": "code",
   "execution_count": null,
   "id": "62000698-e051-4964-870e-069b2ab9152f",
   "metadata": {
    "editable": true,
    "slideshow": {
     "slide_type": ""
    },
    "tags": []
   },
   "outputs": [],
   "source": [
    "### This should be Markdown!\n",
    "\n",
    "Entering text like this in a code cell will definitely give us a Python error!\n",
    "\n"
   ]
  },
  {
   "cell_type": "markdown",
   "id": "c9bc1d07-ebe2-4bd2-913b-b4449e4edf8f",
   "metadata": {
    "editable": true,
    "slideshow": {
     "slide_type": ""
    },
    "tags": []
   },
   "source": [
    "### This should be code!\n",
    "\n",
    "print(1*2*3*4)\n",
    "\n"
   ]
  },
  {
   "cell_type": "markdown",
   "id": "53775f7b-53a3-4795-8b61-08c27cd38a6f",
   "metadata": {
    "editable": true,
    "slideshow": {
     "slide_type": ""
    },
    "tags": []
   },
   "source": [
    "### Cell creation and manipulation\n",
    "\n",
    "Running with `Shift+Enter` will tack on a new cell if we get to the end of the notebook, but sometimes we want to add new cells in the _middle_, or reorganize the cells we have.  There are a few ways to do this:\n",
    "\n",
    "* `a` adds a new cell directly _above_ the one currently selected;\n",
    "* `b` adds a new cell directly _below_ the one currently selected;\n",
    "* `ctrl+x`, `ctrl+c` and `ctrl+v` carry out standard __cut__, __copy__, and __paste__ operations on the highlighted cell(s). To highlight a cell for copying/cutting in Colab hold `ctrl` and click on the cell or cells.\n",
    "\n",
    "To move a cell up/down in the notebook you can use `ctrl+m k`/`ctrl+m j`, or click on the up/down arrows at the top right corner of the cell.\n",
    "\n",
    "Finally, pressing `ctrl+m d` in command mode will __delete__ the currently selected cell or cells.  (Be careful with this operation, obviously!  If you mistakenly delete something, choose \"Undo\" from the Edit menu above, or press `ctrl+m z` in command mode to undo the last deletion.)\n",
    "\n",
    "Try these commands out below!\n",
    "\n"
   ]
  },
  {
   "cell_type": "markdown",
   "id": "00111e87-9525-46e7-b131-0e7be86db192",
   "metadata": {
    "editable": true,
    "slideshow": {
     "slide_type": ""
    },
    "tags": []
   },
   "source": [
    "Try selecting these two markdown cells..."
   ]
  },
  {
   "cell_type": "markdown",
   "id": "5cc4652a-8da6-4c62-8c1d-87cb51cf6ca4",
   "metadata": {
    "editable": true,
    "slideshow": {
     "slide_type": ""
    },
    "tags": []
   },
   "source": [
    "Try selecting these two markdown cells..."
   ]
  },
  {
   "cell_type": "code",
   "execution_count": null,
   "id": "88edc6bb-ee5b-4b5e-a333-9ac8df066e3f",
   "metadata": {
    "editable": true,
    "slideshow": {
     "slide_type": ""
    },
    "tags": []
   },
   "outputs": [],
   "source": [
    "## Add new cells above and below me!\n",
    "## (Use the \"+Code\"/\"+Text\" buttons that pop up when you place your cursor over the border between cells, or use the \"a\" and \"b\" shortcuts.)"
   ]
  },
  {
   "cell_type": "markdown",
   "id": "a4cc5074-067d-4178-b0cb-e4c594519ff5",
   "metadata": {
    "editable": true,
    "slideshow": {
     "slide_type": ""
    },
    "tags": []
   },
   "source": [
    "...and using cut, copy, and paste to add new copies of them around this part of the notebook!"
   ]
  },
  {
   "cell_type": "code",
   "execution_count": null,
   "id": "8bcc7351-d985-4609-a31e-46338800f949",
   "metadata": {
    "editable": true,
    "slideshow": {
     "slide_type": ""
    },
    "tags": []
   },
   "outputs": [],
   "source": [
    "## Delete me with \"ctrl+m d\"  (And then use \"ctrl+m z\" to bring me back!)"
   ]
  },
  {
   "cell_type": "markdown",
   "id": "b5fb1d68-939b-4d23-9e88-aa4fa08d083d",
   "metadata": {},
   "source": [
    "### Cell ordering\n",
    "\n",
    "In Python, the __ordering of statements is important__, since they're executed in the order given!  For a single block of code, statements are run in order from top to bottom.  However, in Jupyter, cells are run on demand by the user, which means that __Jupyter statements are evaluated in the order we (the users) run the cells!__\n",
    "\n",
    "Of course, it is _best practice_ to write your cells in the order you intend them to be run, since it's much clearer to others and future-you.  Additionally, under the \"Cell\" menu above, Jupyter has several options to automatically run all the cells in your notebook in order from top to bottom, which will only work if you properly order things.\n",
    "\n",
    "Try the example below, where the assignment is out of order:"
   ]
  },
  {
   "cell_type": "code",
   "execution_count": null,
   "id": "b838aa80-549d-46e7-a353-377c96dea6f9",
   "metadata": {
    "editable": true,
    "slideshow": {
     "slide_type": ""
    },
    "tags": []
   },
   "outputs": [],
   "source": [
    "print(z)"
   ]
  },
  {
   "cell_type": "code",
   "execution_count": null,
   "id": "d9075a9e-40f1-4652-a229-d495b1a24db1",
   "metadata": {
    "editable": true,
    "slideshow": {
     "slide_type": ""
    },
    "tags": []
   },
   "outputs": [],
   "source": [
    "z=5\n",
    "## Now run print(z) above, and it will work!  \n",
    "## The order in which cells are evaluated in a Jupyter notebook \n",
    "## is controlled by the user."
   ]
  },
  {
   "cell_type": "markdown",
   "id": "ea0733de-0a94-413b-88e7-8d377c5734de",
   "metadata": {
    "editable": true,
    "slideshow": {
     "slide_type": ""
    },
    "tags": []
   },
   "source": [
    "### Working memory and kernel control\n",
    "\n",
    "The kernel has a persistent __working memory__ of all the code you've run so far, which is why we keep track of the order in which cells are run!  If we assign `x=2` in one cell, the next cell still remembers that assignment - as long as we haven't stopped the kernel in between!  (The kernel forgets everything once it is shut down.)\n",
    "\n",
    "If we want to clear out the working memory, then we need to restart the kernel - we can do this directly from Command mode, or with the Kernel menu or toolbar.  There are two essential shortcuts in Command mode:\n",
    "\n",
    "* `ctrl+m i` will interrupt the kernel, stopping the current cell from executing;\n",
    "* `ctrl+m .` will restart the kernel - you'll be prompted to confirm this is what you want to do.\n",
    "\n",
    "Follow the instructions in the cell below to try restarting the kernel.  (We won't need interrupts until we start using loops in our programs.)"
   ]
  },
  {
   "cell_type": "code",
   "execution_count": null,
   "id": "c81fb8e6-2c48-4999-9542-2db2330d8d57",
   "metadata": {
    "editable": true,
    "slideshow": {
     "slide_type": ""
    },
    "tags": []
   },
   "outputs": [],
   "source": [
    "## Run this cell to load my_var into working memory with value 37.\n",
    "\n",
    "my_var = 37"
   ]
  },
  {
   "cell_type": "code",
   "execution_count": null,
   "id": "591f3838-f05a-4129-a50b-4094a67ee7c9",
   "metadata": {
    "editable": true,
    "slideshow": {
     "slide_type": ""
    },
    "tags": []
   },
   "outputs": [],
   "source": [
    "## Run this cell second to print 37*3 = 111.\n",
    "\n",
    "print(my_var * 3)\n",
    "\n",
    "## Now, restart the kernel with 0,0.  Try to run this cell again\n",
    "## without running the cell above, and notice that it doesn't work -\n",
    "## the working memory is cleared when the kernel restarts!"
   ]
  },
  {
   "cell_type": "markdown",
   "id": "b599965f-f79e-43f1-81da-6a05550864a3",
   "metadata": {
    "editable": true,
    "slideshow": {
     "slide_type": ""
    },
    "tags": []
   },
   "source": [
    "## T2.2 - A few Python exercises\n",
    "\n",
    "Let's run through a few small problems to start using Python!  These will be your first taste of __debugging__: taking existing code that has syntactic or semantic errors, and fixing it so it works correctly.  (The number one source of bugs will be yourself, so debugging is an essential part of programming!)\n",
    "\n",
    "### Part A\n",
    "\n",
    "The two cells below contain _syntax errors_, one per cell; if you try to run them, they will give you an error message.\n",
    "\n",
    "__Modify each cell to fix the syntax error__, then run it to get the correct answer.\n",
    "\n"
   ]
  },
  {
   "cell_type": "code",
   "execution_count": null,
   "id": "8a423b7b-40aa-42c1-8139-a18c7f2fb21c",
   "metadata": {
    "editable": true,
    "slideshow": {
     "slide_type": ""
    },
    "tags": []
   },
   "outputs": [],
   "source": [
    "## How much work does a 30-Newton force do over a distance of 5 meters?\n",
    "## W = F * d\n",
    "\n",
    "F = 30 N\n",
    "d = 5  m\n",
    "W = F * d  \n",
    "\n",
    "W"
   ]
  },
  {
   "cell_type": "code",
   "execution_count": null,
   "id": "5689b5d2-2cc1-47c0-8a81-63b78634f51f",
   "metadata": {
    "editable": true,
    "slideshow": {
     "slide_type": ""
    },
    "tags": []
   },
   "outputs": [],
   "source": [
    "## The area of a trapezoid with height h and base lengths a and b is equal to height times average base length.\n",
    "## A = 1/2 (a + b) h\n",
    "\n",
    "a = 3\n",
    "b = 4\n",
    "h = 2\n",
    "A = 1/2  (a + b)  h\n",
    "\n",
    "A"
   ]
  },
  {
   "cell_type": "markdown",
   "id": "98e82aa8-7b6c-4ea2-8888-93d57fa41485",
   "metadata": {
    "editable": true,
    "slideshow": {
     "slide_type": ""
    },
    "tags": []
   },
   "source": [
    "### Part B\n",
    "\n",
    "The next two cells contain _semantic errors_; they will run without complaint, but they give the wrong answer compared to what was intended (which is described by the comment in the cell.)\n",
    "\n",
    "__Modify each cell to fix the semantic error__, then run it to make sure it gives the correct answer."
   ]
  },
  {
   "cell_type": "code",
   "execution_count": null,
   "id": "7345da90-8c18-4607-bc38-51eb22f2ed11",
   "metadata": {
    "editable": true,
    "slideshow": {
     "slide_type": ""
    },
    "tags": []
   },
   "outputs": [],
   "source": [
    "## The angular frequency omega is equal to the ordinary frequency divided by 2*pi.\n",
    "## If f is 600 Hz, we expect an angular frequency of about 95.5 Hz.\n",
    "\n",
    "f = 600\n",
    "pi = 3.14159\n",
    "\n",
    "omega = f / 2 * pi\n",
    "\n",
    "omega"
   ]
  },
  {
   "cell_type": "code",
   "execution_count": null,
   "id": "21450567-9cbd-4ea2-9162-8eaad6210408",
   "metadata": {
    "editable": true,
    "slideshow": {
     "slide_type": ""
    },
    "tags": []
   },
   "outputs": [],
   "source": [
    "## The mass of a wooden cube is equal to the volume times the density of wood.\n",
    "## A cube with side length 4 cm should weigh about 38 grams.\n",
    "\n",
    "density = 0.6  # g/cm^3\n",
    "a = 4  # cm\n",
    "m = density * (a^3)\n",
    "\n",
    "m"
   ]
  },
  {
   "cell_type": "markdown",
   "id": "d2a87d6c-559a-4b22-abac-b3d3d865360f",
   "metadata": {
    "editable": true,
    "slideshow": {
     "slide_type": ""
    },
    "tags": []
   },
   "source": [
    "### Part C\n",
    "\n",
    "As we saw in the first part of the tutorial, in Jupyter, code cells are executed in the order in which we run them.  And the order of code matters: if we want to calculate `x**2`, we had better assign a value to `x` first!\n",
    "\n",
    "The four cells below contain a calculation of the volume of an ideal gas from the temperature and pressure using $PV = nRT$.  Without editing any of the code, __run the cells in the correct order__ to produce the correct answer and no error messages.\n",
    "\n"
   ]
  },
  {
   "cell_type": "code",
   "execution_count": null,
   "id": "562a1619-3f1a-4d8b-b496-a5a01ca5c53d",
   "metadata": {
    "editable": true,
    "slideshow": {
     "slide_type": ""
    },
    "tags": []
   },
   "outputs": [],
   "source": [
    "temp = (temp +  459.67) * 5/9  # degrees F to degrees K"
   ]
  },
  {
   "cell_type": "code",
   "execution_count": null,
   "id": "689cda92-8454-4a95-8ab1-892205a63c9c",
   "metadata": {
    "editable": true,
    "slideshow": {
     "slide_type": ""
    },
    "tags": []
   },
   "outputs": [],
   "source": [
    "temp = 32  # Fahrenheit\n",
    "pressure = 1  # atm"
   ]
  },
  {
   "cell_type": "code",
   "execution_count": null,
   "id": "c701661e-7f07-4095-a2f9-af99d550af8c",
   "metadata": {
    "editable": true,
    "slideshow": {
     "slide_type": ""
    },
    "tags": []
   },
   "outputs": [],
   "source": [
    "R = 8.31  # L kPa / (K mol)\n",
    "V = R * temp / pressure"
   ]
  },
  {
   "cell_type": "code",
   "execution_count": null,
   "id": "713b6be8-f122-4944-9730-08373fbec926",
   "metadata": {
    "editable": true,
    "slideshow": {
     "slide_type": ""
    },
    "tags": []
   },
   "outputs": [],
   "source": [
    "pressure = pressure * 101.325  # atm to kPa"
   ]
  },
  {
   "cell_type": "code",
   "execution_count": null,
   "id": "73e1f966-ae9e-4a3b-88e8-31bda3d3f672",
   "metadata": {
    "editable": true,
    "slideshow": {
     "slide_type": ""
    },
    "tags": []
   },
   "outputs": [],
   "source": [
    "# Run this cell last to print the answer!\n",
    "V  # 1 mole of gas at STP should occupy 22.4 liters"
   ]
  },
  {
   "cell_type": "markdown",
   "id": "b26403c3-140b-444f-a19d-bd8cadf96292",
   "metadata": {},
   "source": [
    "## T2.3 - Variable names in Python\n",
    "\n",
    "We can name our variables _almost_ anything we want, but Python does have a few rules that we must follow:\n",
    "\n",
    "* Variable names can be any combination of letters, numbers, and the `_` character.\n",
    "* Variables must _start_ with a letter or `_`, not a number.\n",
    "* Variable names cannot be existing Python keywords.\n",
    "* Variable names are __case sensitive__, which means that upper- and lower-case letters give different names entirely.\n",
    "\n",
    "While it won't give you an error, you should try to avoid variable names with double underscores (e.g. `__x`, `__variable__`, etc...). In Python, double underscores are typically reserved for special functions called __dunder methods__ (\"dunder\" is short for \"double underscore\").\n",
    "\n",
    "\n",
    "The cell below has some assignments in it, some of which use invalid variable names.  __Change the variable names until the cell runs without an error.__ (Try to keep the meaning of the new variable name as close as possible to the original, just fix the syntax.)\n",
    "\n",
    "_(Note: you don't have to change everything - some of the variable names below are OK already.)_\n"
   ]
  },
  {
   "cell_type": "code",
   "execution_count": null,
   "id": "276dd3c8-f7f9-45ff-a727-84db44e8725d",
   "metadata": {
    "editable": true,
    "slideshow": {
     "slide_type": ""
    },
    "tags": []
   },
   "outputs": [],
   "source": [
    "_my_cool_variable = 33\n",
    "\n",
    "really_really_long_variable_name = 'something'\n",
    "\n",
    "bakers-dozen = 13\n",
    "\n",
    "30th_measurement = 17.23\n",
    "\n",
    "first/last name = 'Albert Einstein'"
   ]
  },
  {
   "cell_type": "markdown",
   "id": "c7b22e57-f550-4dae-a830-a046b2c9f06a",
   "metadata": {
    "editable": true,
    "slideshow": {
     "slide_type": ""
    },
    "tags": []
   },
   "source": [
    "Why do you think that the underscore `_` is the only character allowed in Python variable names?\n",
    "(Check your answer with an instructor.)"
   ]
  },
  {
   "cell_type": "markdown",
   "id": "a3b52ac2-fe02-4818-9759-0c5e433c0ced",
   "metadata": {
    "editable": true,
    "slideshow": {
     "slide_type": ""
    },
    "tags": []
   },
   "source": [
    "**Keywords** are special words that are reserved by the Python language; we can't use them as variables because they already mean something!  You'll be able to tell a keyword because Jupyter will highlight it in **purple** or **blue** (in Colab, green in standard Jupyter. Be ready for some small differences in syntax between the two).  Attempting to assign to one just gives a syntax error like any of the other problems above:\n",
    "\n"
   ]
  },
  {
   "cell_type": "code",
   "execution_count": null,
   "id": "6c015be8-d9db-4694-ab9c-fca387e1a0d6",
   "metadata": {
    "editable": true,
    "slideshow": {
     "slide_type": ""
    },
    "tags": []
   },
   "outputs": [],
   "source": [
    "for = 4"
   ]
  },
  {
   "cell_type": "markdown",
   "id": "85aa5829-48cb-4320-a972-a0c681cff865",
   "metadata": {
    "editable": true,
    "slideshow": {
     "slide_type": ""
    },
    "tags": []
   },
   "source": [
    "There are 33 keywords in Python; we'll meet a lot of them, but you don't need to worry about memorizing the list thanks to the highlighting.\n",
    "\n",
    "The most common keyword that trips up physicists is __`lambda`__, since we like Greek letters for variable names!  I usually use `lamb` or `lam` as a shortcut for it.\n",
    "\n"
   ]
  }
 ],
 "metadata": {
  "kernelspec": {
   "display_name": "Python 3 (ipykernel)",
   "language": "python",
   "name": "python3"
  },
  "language_info": {
   "codemirror_mode": {
    "name": "ipython",
    "version": 3
   },
   "file_extension": ".py",
   "mimetype": "text/x-python",
   "name": "python",
   "nbconvert_exporter": "python",
   "pygments_lexer": "ipython3",
   "version": "3.13.7"
  }
 },
 "nbformat": 4,
 "nbformat_minor": 5
}
