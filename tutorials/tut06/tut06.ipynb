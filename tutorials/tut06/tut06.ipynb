{
 "cells": [
  {
   "cell_type": "markdown",
   "metadata": {
    "collapsed": false,
    "editable": true,
    "jupyter": {
     "outputs_hidden": false
    },
    "nbgrader": {
     "grade": false,
     "grade_id": "cell-100899e0deea9789",
     "locked": true,
     "schema_version": 3,
     "solution": false,
     "task": false
    },
    "slideshow": {
     "slide_type": ""
    },
    "tags": []
   },
   "source": [
    "# Tutorial 6: Plotting with MatPlotLib\n",
    "\n",
    "## PHYS 2600"
   ]
  },
  {
   "cell_type": "markdown",
   "metadata": {
    "collapsed": false,
    "jupyter": {
     "outputs_hidden": false
    },
    "nbgrader": {
     "grade": false,
     "grade_id": "cell-bade0b1160413b0a",
     "locked": true,
     "schema_version": 3,
     "solution": false,
     "task": false
    }
   },
   "source": [
    "We're now getting to a point where there are usually several modules that we're going to be using repeatedly through the entire Jupyter notebook - `numpy` and `pyplot` as a bare minimum.\n",
    "\n",
    "When multiple modules are being used, if we just import them as we need them, then it's harder to read exactly what modules are needed to run our notebook.  And if we restart the kernel, we have to remember to re-run all the cells, or go and look for where our `import` statements were...\n",
    "\n",
    "A common practice is to instead have an __import cell__ at the _very top_ of our notebook, where we gather all the import statements together - which I'll start doing now!"
   ]
  },
  {
   "cell_type": "code",
   "execution_count": null,
   "metadata": {
    "collapsed": false,
    "editable": true,
    "jupyter": {
     "outputs_hidden": false
    },
    "nbgrader": {
     "grade": false,
     "grade_id": "cell-94875f6fe3eb670e",
     "locked": true,
     "schema_version": 3,
     "solution": false,
     "task": false
    },
    "slideshow": {
     "slide_type": ""
    },
    "tags": []
   },
   "outputs": [],
   "source": [
    "# Initialization cell; run me first!\n",
    "\n",
    "# More Jupyter magic. \n",
    "%matplotlib inline\n",
    "\n",
    "import numpy as np\n",
    "import matplotlib.pyplot as plt"
   ]
  },
  {
   "cell_type": "markdown",
   "metadata": {
    "collapsed": false,
    "jupyter": {
     "outputs_hidden": false
    },
    "nbgrader": {
     "grade": false,
     "grade_id": "cell-f128e891aecc673d",
     "locked": true,
     "schema_version": 3,
     "solution": false,
     "task": false
    }
   },
   "source": [
    "The 'magic command' `%matplotlib` is used to instruct Jupyter how to deal with `matplotlib` plots, and to control whether and how they are shown in the cell outputs in particular.  We use the `inline`  option, which tells Jupyter to display plots \"inline\", i.e. as part of the output after each cell.  Correspondingly, the \"global state\" of `pyplot` is only kept within a cell; going to a new cell creates a new plot.\n",
    "\n",
    "There are [other options](https://matplotlib.org/stable/users/explain/interactive.html) for more interactive plots, but in my own tests they didn't work well with CoCalc.  If you're doing this notebook on your own laptop, feel free to try other options like `%matplotlib notebook`, but I won't discuss them further here.\n",
    "\n",
    "## T7.1 - The basics of plotting\n",
    "\n",
    "Let's start by getting used to `matplotlib` and some of its more basic functions.  This will be a brief, guided tour - we certainly won't see everything that `matplotlib` can do!  If you're looking to customize your plots in a certain way that we didn't cover, __search the official documentation and/or the Internet at large for help!__\n",
    "\n",
    "As before, I won't give you every single detail of how the functions below work: you are expected to use the `?` magic command or search for official documentation to figure them out."
   ]
  },
  {
   "cell_type": "markdown",
   "metadata": {
    "collapsed": false,
    "jupyter": {
     "outputs_hidden": false
    },
    "nbgrader": {
     "grade": false,
     "grade_id": "cell-0bed159eac6910bc",
     "locked": true,
     "schema_version": 3,
     "solution": false,
     "task": false
    }
   },
   "source": [
    "### Part A: the basics\n",
    "\n",
    "The first function you have to get comfortable with is the `plt.plot(x,y)` function, which takes a pair of NumPy arrays `x` and `y` and plots the points `(x,y)`.  Note that __the `x` and `y` arrays must be the same size__ for this to make sense - if you give `plt.plot` two differently-sized arrays, you will get an error!\n",
    "\n",
    "Now, some exercises in using `plt.plot()`!  First, __plot the experimental data below__ for neutron counts `decay_N` vs. the measurement time `decay_t`.\n",
    "\n",
    "_(Remember: by default, the global state of `pyplot` exists only for a single cell.  So you'll need three cells below to make these three plots!)_"
   ]
  },
  {
   "cell_type": "code",
   "execution_count": null,
   "metadata": {
    "collapsed": false,
    "editable": true,
    "jupyter": {
     "outputs_hidden": false
    },
    "nbgrader": {
     "grade": true,
     "grade_id": "cell-ee3cb860c3fb19b5",
     "locked": false,
     "points": 2,
     "schema_version": 3,
     "solution": true,
     "task": false
    },
    "slideshow": {
     "slide_type": ""
    },
    "tags": []
   },
   "outputs": [],
   "source": [
    "# Neutron decay experimental data\n",
    "\n",
    "decay_t = np.array([0, 5, 10, 15, 20, 25, 30, 35, 40, 45, 50, 55, 60])  # time in minutes\n",
    "decay_N = np.array([1000, 820, 515, 420, 259, 210, 144, 106, 78, 49, 33, 25, 17]) # number of neutrons remaining\n"
   ]
  },
  {
   "cell_type": "markdown",
   "metadata": {
    "collapsed": false,
    "jupyter": {
     "outputs_hidden": false
    },
    "nbgrader": {
     "grade": false,
     "grade_id": "cell-b05390828a021878",
     "locked": true,
     "schema_version": 3,
     "solution": false,
     "task": false
    }
   },
   "source": [
    "Now __plot the function $f(x) = e^x$__ over the range $-1 \\leq x \\leq 1$.  (Remember, to get a function of an array, you need a NumPy function - in this case, `np.exp()`.  Make your own `x` array using `np.linspace`.)"
   ]
  },
  {
   "cell_type": "code",
   "execution_count": null,
   "metadata": {
    "collapsed": false,
    "jupyter": {
     "outputs_hidden": false
    },
    "nbgrader": {
     "grade": false,
     "grade_id": "cell-ad6203536bd8c933",
     "locked": false,
     "schema_version": 3,
     "solution": true,
     "task": false
    }
   },
   "outputs": [],
   "source": [
    "# Plotting e^x\n"
   ]
  },
  {
   "cell_type": "markdown",
   "metadata": {
    "collapsed": false,
    "jupyter": {
     "outputs_hidden": false
    },
    "nbgrader": {
     "grade": false,
     "grade_id": "cell-8fef2f02c72e1a91",
     "locked": true,
     "schema_version": 3,
     "solution": false,
     "task": false
    }
   },
   "source": [
    "Finally, __make a single plot showing the three functions__, $f(x) = x, x^2$, and $x^3$ over the range $0 \\leq x \\leq 2$.  (Note that the color will automatically be chosen differently for each curve, to make them easy to tell apart.)"
   ]
  },
  {
   "cell_type": "code",
   "execution_count": null,
   "metadata": {
    "collapsed": false,
    "jupyter": {
     "outputs_hidden": false
    },
    "nbgrader": {
     "grade": false,
     "grade_id": "cell-cbd5f245111d90a2",
     "locked": false,
     "schema_version": 3,
     "solution": true,
     "task": false
    }
   },
   "outputs": [],
   "source": [
    "# Three polynomials\n"
   ]
  },
  {
   "cell_type": "markdown",
   "metadata": {
    "collapsed": false,
    "jupyter": {
     "outputs_hidden": false
    },
    "nbgrader": {
     "grade": false,
     "grade_id": "cell-e07f9ae1267b2c45",
     "locked": true,
     "schema_version": 3,
     "solution": false,
     "task": false
    }
   },
   "source": [
    "### Part B: options for `plt.plot`\n",
    "\n",
    "We can use keyword arguments for `plt.plot()` to customize the way our plot looks in a number of different ways:\n",
    "\n",
    "* `color=...` allows us to the set the color of the markers and/or line, with [many options](https://matplotlib.org/examples/color/named_colors.html).\n",
    "* `marker=...` allows us to turn on plotting individual $(x,y)$ points, and choose their shape (again, [many options are available](https://matplotlib.org/api/markers_api.html)).\n",
    "* `linestyle=...` allows us to choose how the line joining the points is drawn, or turn it off.  (There are [a few options](https://matplotlib.org/api/_as_gen/matplotlib.lines.Line2D.html#matplotlib.lines.Line2D.set_linestyle) for this.)\n",
    "\n",
    "There are [many more commands](https://matplotlib.org/api/_as_gen/matplotlib.pyplot.plot.html) to control the thickness of the line, size of the markers, and fancier things like filling color in between curves.  But the three above are good enough for most purposes.\n",
    "\n",
    "__Re-create the same three plots from part A__ (you can just copy/paste your code), but with the following custom options:\n",
    "\n",
    "- The experimental data plot, but with no line, and the markers are __green triangles__.  (You can pick which way you want the triangles to face, and whatever shade of green you like.)"
   ]
  },
  {
   "cell_type": "code",
   "execution_count": null,
   "metadata": {
    "collapsed": false,
    "jupyter": {
     "outputs_hidden": false
    },
    "nbgrader": {
     "grade": false,
     "grade_id": "cell-7dcfdd1b6d52866b",
     "locked": false,
     "schema_version": 3,
     "solution": true,
     "task": false
    }
   },
   "outputs": [],
   "source": [
    "# Neutron experiment\n"
   ]
  },
  {
   "cell_type": "markdown",
   "metadata": {
    "collapsed": false,
    "jupyter": {
     "outputs_hidden": false
    },
    "nbgrader": {
     "grade": false,
     "grade_id": "cell-6fdf47470d81ae01",
     "locked": true,
     "schema_version": 3,
     "solution": false,
     "task": false
    }
   },
   "source": [
    "* The plot of $f(x) = e^x$, with __square__ markers turned on, and both the markers and line are __red__.\n"
   ]
  },
  {
   "cell_type": "code",
   "execution_count": null,
   "metadata": {
    "collapsed": false,
    "jupyter": {
     "outputs_hidden": false
    },
    "nbgrader": {
     "grade": false,
     "grade_id": "cell-78317940c1486c1e",
     "locked": false,
     "schema_version": 3,
     "solution": true,
     "task": false
    }
   },
   "outputs": [],
   "source": [
    "# Plotting e^x\n"
   ]
  },
  {
   "cell_type": "markdown",
   "metadata": {
    "collapsed": false,
    "jupyter": {
     "outputs_hidden": false
    },
    "nbgrader": {
     "grade": false,
     "grade_id": "cell-3f64c8a81ecba5a4",
     "locked": true,
     "schema_version": 3,
     "solution": false,
     "task": false
    }
   },
   "source": [
    "* The plot of $x, x^2$ and $x^3$, with no markers, but the lines are __solid, dashed, and dotted__ respectively."
   ]
  },
  {
   "cell_type": "code",
   "execution_count": null,
   "metadata": {
    "collapsed": false,
    "jupyter": {
     "outputs_hidden": false
    },
    "nbgrader": {
     "grade": false,
     "grade_id": "cell-40a7f58b939002ab",
     "locked": false,
     "schema_version": 3,
     "solution": true,
     "task": false
    }
   },
   "outputs": [],
   "source": [
    "# Three polynomials\n"
   ]
  },
  {
   "cell_type": "markdown",
   "metadata": {
    "collapsed": false,
    "jupyter": {
     "outputs_hidden": false
    },
    "nbgrader": {
     "grade": false,
     "grade_id": "cell-c10b9dc32da21cce",
     "locked": true,
     "schema_version": 3,
     "solution": false,
     "task": false
    }
   },
   "source": [
    "### Part C: labels and legends\n",
    "\n",
    "As you can appreciate from your last plot, as soon as we start having multiple curves/data sets, it's harder to tell what's being shown!  A __legend__ (an additional set of labels on the plot showing which curve is which) can help.\n",
    "\n",
    "The simplest way to create a legend with `pyplot` is with the `label` argument to `plt.plot()`.  Calling `label` appears to do nothing at first, but it is associating the label string you give to the data being plotted in that `plt.plot()` call.  Calling `plt.legend()` after all of the `plot` command then automatically draws a legend on the graph, showing the labels for each curve.\n",
    "\n",
    "Take your final plot from part B (the three polynomial curves), __add a `label` in each `plt.plot()` command__, and then __call `plt.legend()` to draw a graph with a legend.__\n",
    "\n"
   ]
  },
  {
   "cell_type": "code",
   "execution_count": null,
   "metadata": {
    "collapsed": false,
    "jupyter": {
     "outputs_hidden": false
    },
    "nbgrader": {
     "grade": false,
     "grade_id": "cell-835fdf7f4abcef74",
     "locked": false,
     "schema_version": 3,
     "solution": true,
     "task": false
    }
   },
   "outputs": [],
   "source": [
    "# Three polynomials\n"
   ]
  },
  {
   "cell_type": "markdown",
   "metadata": {
    "collapsed": false,
    "jupyter": {
     "outputs_hidden": false
    },
    "nbgrader": {
     "grade": false,
     "grade_id": "cell-b67734e63d9e82cb",
     "locked": true,
     "schema_version": 3,
     "solution": false,
     "task": false
    }
   },
   "source": [
    "The legend command, like everything else in `matplotlib`, takes many options, but the most important one to know about is `loc='...'`, which accepts a string describing where you'd like the legend to appear.  The default option is `'best'`, which puts the legend at the program's best guess for a good spot.  __Try moving your legend around with the `loc=` argument.__  You can find a full list of options in the documentation, but start with `'upper right'`, `'lower left'`, and `'center'`."
   ]
  },
  {
   "cell_type": "markdown",
   "metadata": {
    "collapsed": false,
    "jupyter": {
     "outputs_hidden": false
    },
    "nbgrader": {
     "grade": false,
     "grade_id": "cell-8a6fb37e6396ff26",
     "locked": true,
     "schema_version": 3,
     "solution": false,
     "task": false
    }
   },
   "source": [
    "### Part D: customizing with the state machine\n",
    "\n",
    "Most of the options for `plt.plot()` focus on the points and lines we're plotting themselves.  However, there are lots of other features we might like to adjust for the plot as a whole, like adding labels or a title.  These are best made using the _state machine_ functions, which we call after `plt.plot()` to modify the state of the current plot.\n",
    "\n",
    "Here are a few of the most important state-modifying functions in `pyplot`:\n",
    "\n",
    "- `plt.xlabel()` and `plt.ylabel()` add labels to the axes.\n",
    "- `plt.title()` adds a label to the whole plot.\n",
    "- `plt.xlim()` and `plt.ylim()` change the _limits_ of the plot, i.e. min/max values of $x$ and $y$ which are shown.\n",
    "\n",
    "There are, of course, [many others](https://matplotlib.org/api/pyplot_summary.html), but almost all of them are things that you'll use rarely, or only when tweaking a final plot for presentation.  Highlights of the others which I won't lead you through here include the `plt.xticks()`/`plt.yticks()` functions for control of tick marks and labels, and `plt.xscale()`/`plt.yscale()` functions which can be used for things like log-linear and log-log plotting.\n",
    "\n",
    "On to the exercises!\n",
    "\n",
    "- Return to the experimental data plot (__copy it from part B__), and __label the axes__.  The x-axis should read \"t (min)\", and the y-axis \"Number of neutrons\"."
   ]
  },
  {
   "cell_type": "code",
   "execution_count": null,
   "metadata": {
    "collapsed": false,
    "jupyter": {
     "outputs_hidden": false
    },
    "nbgrader": {
     "grade": false,
     "grade_id": "cell-c4f0356c4235c704",
     "locked": false,
     "schema_version": 3,
     "solution": true,
     "task": false
    }
   },
   "outputs": [],
   "source": [
    "# Neutron experiment\n"
   ]
  },
  {
   "cell_type": "markdown",
   "metadata": {
    "collapsed": false,
    "jupyter": {
     "outputs_hidden": false
    },
    "nbgrader": {
     "grade": false,
     "grade_id": "cell-78393bba2131a116",
     "locked": true,
     "schema_version": 3,
     "solution": false,
     "task": false
    }
   },
   "source": [
    "- Return to your plot of $f(x) = e^x$ (__copy it from part B__), and __add a title__ describing it."
   ]
  },
  {
   "cell_type": "code",
   "execution_count": null,
   "metadata": {
    "collapsed": false,
    "jupyter": {
     "outputs_hidden": false
    },
    "nbgrader": {
     "grade": false,
     "grade_id": "cell-4e832e081377ffc5",
     "locked": false,
     "schema_version": 3,
     "solution": true,
     "task": false
    }
   },
   "outputs": [],
   "source": [
    "# Plotting e^x\n"
   ]
  },
  {
   "cell_type": "markdown",
   "metadata": {
    "collapsed": false,
    "jupyter": {
     "outputs_hidden": false
    },
    "nbgrader": {
     "grade": false,
     "grade_id": "cell-9169b9d1a9db2dc4",
     "locked": true,
     "schema_version": 3,
     "solution": false,
     "task": false
    }
   },
   "source": [
    "- Return to the three-polynomial plot (__copy it from part C__), but __change the plot limits__ so that $x$ runs from 0 to 1 instead.  (You'll probably want to change $y$ too, or your plot won't look very good!)"
   ]
  },
  {
   "cell_type": "code",
   "execution_count": null,
   "metadata": {
    "collapsed": false,
    "jupyter": {
     "outputs_hidden": false
    },
    "nbgrader": {
     "grade": false,
     "grade_id": "cell-957d1bca25fdbb15",
     "locked": false,
     "schema_version": 3,
     "solution": true,
     "task": false
    }
   },
   "outputs": [],
   "source": [
    "# Three polynomials\n"
   ]
  },
  {
   "cell_type": "markdown",
   "metadata": {
    "collapsed": false,
    "jupyter": {
     "outputs_hidden": false
    },
    "nbgrader": {
     "grade": false,
     "grade_id": "cell-aba15cc9c1d6fa85",
     "locked": true,
     "schema_version": 3,
     "solution": false,
     "task": false
    }
   },
   "source": [
    "## T7.2 - Thinking about sampling\n",
    "\n",
    "Now that you know the basics, let's dig deeper into the idea of _sampling_ when we make plots.  As you have seen, when we call `plt.plot(x,y)`, both `x` and `y` have to be NumPy arrays - every plot is a _list plot_!  So we can't just say \"plot f(x)\", we have to make an array of the `x`-values we want to plot over, and then compute the array `f(x)`.  This can cause problems if we don't think hard enough about how to build `x`."
   ]
  },
  {
   "cell_type": "markdown",
   "metadata": {
    "collapsed": false,
    "jupyter": {
     "outputs_hidden": false
    },
    "nbgrader": {
     "grade": false,
     "grade_id": "cell-cab2b222f47e2635",
     "locked": true,
     "schema_version": 3,
     "solution": false,
     "task": false
    }
   },
   "source": [
    "### Part A: plotting sin(x)\n",
    "\n",
    "Let's start with a simple plot of `sin(x)` over the range from 0 to $2\\pi$.  Here's a starting plot with some obvious sampling errors:"
   ]
  },
  {
   "cell_type": "code",
   "execution_count": null,
   "metadata": {
    "collapsed": false,
    "jupyter": {
     "outputs_hidden": false
    }
   },
   "outputs": [],
   "source": [
    "x = np.linspace(0,2*np.pi,10)\n",
    "y = np.sin(x)\n",
    "plt.plot(x, y)"
   ]
  },
  {
   "cell_type": "markdown",
   "metadata": {
    "collapsed": false,
    "jupyter": {
     "outputs_hidden": false
    },
    "nbgrader": {
     "grade": false,
     "grade_id": "cell-854c9732e6ddc544",
     "locked": true,
     "schema_version": 3,
     "solution": false,
     "task": false
    }
   },
   "source": [
    "The blockiness that we see here can also be thought of as __discretization error__; our plot of $\\sin(x)$ deviates from the real $\\sin(x)$ because we're just drawing straight lines between a discrete set of points where we sample.  Increasing the number of samples decreases the error.  __Make a new plot in the cell below__ which doesn't have any visible sampling errors.\n",
    "\n",
    "How well did you do?  __Try zooming in around $\\pi/2$__: change the x-limit of the plot to $[1.5,1.7]$ and the y-limit to $[0.99,1.00]$. Did you pick enough points that the curve still looks smooth, or did the blockiness return?"
   ]
  },
  {
   "cell_type": "code",
   "execution_count": null,
   "metadata": {
    "collapsed": false,
    "jupyter": {
     "outputs_hidden": false
    },
    "nbgrader": {
     "grade": false,
     "grade_id": "cell-c32fc744b332f70b",
     "locked": false,
     "schema_version": 3,
     "solution": true,
     "task": false
    }
   },
   "outputs": [],
   "source": [
    "\n"
   ]
  },
  {
   "cell_type": "markdown",
   "metadata": {
    "collapsed": false,
    "jupyter": {
     "outputs_hidden": false
    },
    "nbgrader": {
     "grade": false,
     "grade_id": "cell-6480437457d02b03",
     "locked": true,
     "schema_version": 3,
     "solution": false,
     "task": false
    }
   },
   "source": [
    "Here's another plot with even worse sampling errors than my original: I've extended the x range out to $10\\pi$, but I've increased to using only 20 points.  __How many points do you need in $x$ so that the curve looks smooth now?__  Can you predict how this is related to the number of points you needed to plot over $[0,2\\pi]$?"
   ]
  },
  {
   "cell_type": "code",
   "execution_count": null,
   "metadata": {
    "collapsed": false,
    "jupyter": {
     "outputs_hidden": false
    },
    "nbgrader": {
     "grade": false,
     "grade_id": "66cf8d",
     "locked": false,
     "schema_version": 3,
     "solution": true,
     "task": false
    }
   },
   "outputs": [],
   "source": [
    "x = np.linspace(0,10*np.pi,20)\n",
    "plt.plot(x, np.sin(x))\n",
    "\n"
   ]
  },
  {
   "cell_type": "markdown",
   "metadata": {
    "collapsed": false,
    "jupyter": {
     "outputs_hidden": false
    },
    "nbgrader": {
     "grade": false,
     "grade_id": "cell-0af2182cc20c1e0e",
     "locked": true,
     "schema_version": 3,
     "solution": false,
     "task": false
    }
   },
   "source": [
    "### Part B: plotting sin(1/x)\n",
    "\n",
    "Let's try a more challenging function: $\\sin(1/x)$, which oscillates rapidly as we approach $x=0$.  __Plot this function over the range $[-0.01,0.01]$.__  Notice how the discretization errors qualitatively change from 10, to 100, to 1000 samples used.  __Can you spot the remaining discretization error that is present even with 10,000 samples?__\n",
    "\n",
    "What happens if you try to use __11 samples__ instead of 10 to plot this function?"
   ]
  },
  {
   "cell_type": "code",
   "execution_count": null,
   "metadata": {
    "collapsed": false,
    "jupyter": {
     "outputs_hidden": false
    },
    "nbgrader": {
     "grade": false,
     "grade_id": "cell-d2ae8b669ecceca5",
     "locked": false,
     "schema_version": 3,
     "solution": true,
     "task": false
    }
   },
   "outputs": [],
   "source": [
    "\n"
   ]
  },
  {
   "cell_type": "markdown",
   "metadata": {
    "collapsed": false,
    "jupyter": {
     "outputs_hidden": false
    },
    "nbgrader": {
     "grade": false,
     "grade_id": "cell-32d3ca8e0b3a5378",
     "locked": true,
     "schema_version": 3,
     "solution": false,
     "task": false
    }
   },
   "source": [
    "The moral of the story is, __make sure you use enough samples to plot__, especially if you're looking at an unfamiliar function!  A good way to empirically test that you have enough samples to get rid of sampling error is to just _double the number of samples, and see if the plot changes visibly_ - if not, then your sampling error has (probably!) become too small to see."
   ]
  },
  {
   "cell_type": "markdown",
   "metadata": {
    "collapsed": false,
    "jupyter": {
     "outputs_hidden": false
    },
    "nbgrader": {
     "grade": false,
     "grade_id": "cell-4b02ca338d199126",
     "locked": true,
     "schema_version": 3,
     "solution": false,
     "task": false
    }
   },
   "source": [
    "### Part C (optional challenge!): plotting the step function\n",
    "\n",
    "Numerical plots don't play nicely with sudden changes in functions, and they don't come much more sudden than the __step function__, also called the __Heaviside function__, which is defined as\n",
    "\n",
    "$$\n",
    "H(x) = \\begin{cases} 1, x \\geq 0;\\\\\n",
    "0, x < 0. \\end{cases}\n",
    "$$\n",
    "\n",
    "(The value of $H(0)$ is sort of ambiguous, so you may see other definitions, but the value of $H(0)$ also isn't terribly important for most applications of this.)\n",
    "\n",
    "NumPy comes with an implementation of this function, `numpy.heaviside(x,1)`.  (The second argument `1` defines $H(0)$, matching our equation above.)\n",
    "\n",
    "In the cell below, __plot the Heaviside function over the range [-1,1]__.  You can, as always, eliminate the discretization effects around 0 by just throwing lots of points at it, although this seems sort of wasteful here because all the points are 0 and 1!\n",
    "\n",
    "For a real challenge, _can you make a plot with no discretization errors and using only 4 samples?_\n",
    "\n"
   ]
  },
  {
   "cell_type": "code",
   "execution_count": null,
   "metadata": {
    "collapsed": false,
    "jupyter": {
     "outputs_hidden": false
    },
    "nbgrader": {
     "grade": false,
     "grade_id": "884a3c",
     "locked": false,
     "schema_version": 3,
     "solution": true,
     "task": false
    }
   },
   "outputs": [],
   "source": [
    "x = np.linspace(-1,1,10)\n",
    "plt.plot(x,np.heaviside(x, 1))"
   ]
  },
  {
   "cell_type": "code",
   "execution_count": null,
   "metadata": {
    "collapsed": false,
    "jupyter": {
     "outputs_hidden": false
    },
    "nbgrader": {
     "grade": false,
     "grade_id": "cell-8318f0dfe2a65461",
     "locked": false,
     "schema_version": 3,
     "solution": true,
     "task": false
    }
   },
   "outputs": [],
   "source": []
  }
 ],
 "metadata": {
  "kernelspec": {
   "display_name": "Python 3 (ipykernel)",
   "language": "python",
   "name": "python3"
  },
  "language_info": {
   "codemirror_mode": {
    "name": "ipython",
    "version": 3
   },
   "file_extension": ".py",
   "mimetype": "text/x-python",
   "name": "python",
   "nbconvert_exporter": "python",
   "pygments_lexer": "ipython3",
   "version": "3.13.7"
  }
 },
 "nbformat": 4,
 "nbformat_minor": 4
}
