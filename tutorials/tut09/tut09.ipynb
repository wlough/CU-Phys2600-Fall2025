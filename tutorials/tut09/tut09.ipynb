{
 "cells": [
  {
   "cell_type": "markdown",
   "metadata": {
    "editable": true,
    "nbgrader": {
     "grade": false,
     "grade_id": "cell-732613da6c8a0a62",
     "locked": true,
     "schema_version": 3,
     "solution": false,
     "task": false
    },
    "slideshow": {
     "slide_type": ""
    },
    "tags": []
   },
   "source": [
    "# Tutorial 9: Flow Control\n",
    "\n",
    "## PHYS 2600"
   ]
  },
  {
   "cell_type": "code",
   "execution_count": null,
   "metadata": {
    "nbgrader": {
     "grade": false,
     "grade_id": "cell-cc27edbbed5e487c",
     "locked": true,
     "schema_version": 3,
     "solution": false,
     "task": false
    }
   },
   "outputs": [],
   "source": [
    "# Import cell\n",
    "\n",
    "%matplotlib inline\n",
    "import numpy as np\n",
    "import matplotlib.pyplot as plt"
   ]
  },
  {
   "cell_type": "markdown",
   "metadata": {
    "editable": true,
    "nbgrader": {
     "grade": false,
     "grade_id": "cell-d028792a76646c14",
     "locked": true,
     "schema_version": 3,
     "solution": false,
     "task": false
    },
    "slideshow": {
     "slide_type": ""
    },
    "tags": []
   },
   "source": [
    "## T10.X - FizzBuzz!\n",
    "\n",
    "_(Special note: this first problem is a __worked example__, which we'll go through together in class.  You are encouraged to fill this in as you follow along, but you won't be graded on whether you've completed it or not.)_\n",
    "\n",
    "Let's start with a little game, \"Fizz Buzz\":\n",
    "\n",
    "https://en.wikipedia.org/wiki/Fizz_buzz\n",
    "\n",
    "The rules to the game are simple: we count up from 1 out loud, but every time we reach a number divisible by 3, we say \"Fizz\" instead.  Likewise, every number divisible by 5 is replaced with \"Buzz\".  If a number is divisible by both 3 and 5, we say both words (so \"FizzBuzz\").\n",
    "\n",
    "This particular game is infamous in computer programming circles, because writing a program that can mimic FizzBuzz is a common interview question used to screen entry-level programming jobs.  (So you'll all be prepared for that after this tutorial!)"
   ]
  },
  {
   "cell_type": "markdown",
   "metadata": {
    "nbgrader": {
     "grade": false,
     "grade_id": "cell-52e20b4136ddce68",
     "locked": true,
     "schema_version": 3,
     "solution": false,
     "task": false
    }
   },
   "source": [
    "Our version of the problem: __write a Python program that prints the numbers from 1 to 30, replacing them with \"Fizz\", \"Buzz\" or \"FizzBuzz\" according to the rules above.__  Clearly, this calls for a `while` loop!  Let's write a solution."
   ]
  },
  {
   "cell_type": "code",
   "execution_count": null,
   "metadata": {
    "nbgrader": {
     "grade": true,
     "grade_id": "cell-cf7015a7552343e3",
     "locked": false,
     "points": 0,
     "schema_version": 3,
     "solution": true,
     "task": false
    }
   },
   "outputs": [],
   "source": [
    "\n",
    "### BEGIN SOLUTION\n",
    "n = 1\n",
    "while n <= 30:\n",
    "    # Build a string, s, to print out\n",
    "    s = ''\n",
    "\n",
    "    # Add 'Fizz' to the string if n is a multiple of 3\n",
    "    if (n % 3) == 0:\n",
    "        s += 'Fizz'\n",
    "\n",
    "    # Add 'Buzz' to the string if n is a multiple of 5\n",
    "    if (n % 5) == 0:\n",
    "        s += 'Buzz'\n",
    "\n",
    "    if s == '':\n",
    "        # If s is still empty, just print the number\n",
    "        print(n)\n",
    "    else:\n",
    "        # Otherwise, print the string we built\n",
    "        print(s)\n",
    "\n",
    "    n += 1\n",
    "    \n",
    "### END SOLUTION"
   ]
  },
  {
   "cell_type": "markdown",
   "metadata": {
    "nbgrader": {
     "grade": false,
     "grade_id": "cell-76b75e18bb6ec1c5",
     "locked": true,
     "schema_version": 3,
     "solution": false,
     "task": false
    }
   },
   "source": [
    "## T10.1 - Branching and looping"
   ]
  },
  {
   "cell_type": "markdown",
   "metadata": {
    "nbgrader": {
     "grade": false,
     "grade_id": "cell-ff8615d61553a50d",
     "locked": true,
     "schema_version": 3,
     "solution": false,
     "task": false
    }
   },
   "source": [
    "### Part A\n",
    "\n",
    "Use conditionals (`if`/`else` and possibly `elif`) to implement the sign function `sgn(x)`, which is defined as follows:\n",
    "\\\\[\n",
    "{\\rm sgn}(x) = \\begin{cases} +1&,\\ x>0; \\\\ -1&,\\ x<0. \\end{cases}\n",
    "\\\\]\n",
    "Use an `assert` statement to make your function raise an error message if it's given the value $x=0$.  (We might prefer for it to return `0` instead of giving an error; this depends on what application we're going to use it for, really.)"
   ]
  },
  {
   "cell_type": "code",
   "execution_count": null,
   "metadata": {
    "nbgrader": {
     "grade": true,
     "grade_id": "cell-b846cddf7de2c4d2",
     "locked": false,
     "points": 2,
     "schema_version": 3,
     "solution": true,
     "task": false
    }
   },
   "outputs": [],
   "source": [
    "def sgn(x):\n",
    "    #\n"
   ]
  },
  {
   "cell_type": "code",
   "execution_count": null,
   "metadata": {
    "nbgrader": {
     "grade": true,
     "grade_id": "cell-79b72f283a6f7fc5",
     "locked": true,
     "points": 0,
     "schema_version": 3,
     "solution": false,
     "task": false
    }
   },
   "outputs": [],
   "source": [
    "## Testing cell\n",
    "\n",
    "import numpy.testing as npt\n",
    "\n",
    "npt.assert_equal(sgn(5), 1)\n",
    "npt.assert_equal(sgn(-3.3), -1)\n",
    "npt.assert_equal(sgn(0.3), 1)\n",
    "npt.assert_raises(AssertionError, sgn, 0)"
   ]
  },
  {
   "cell_type": "markdown",
   "metadata": {
    "nbgrader": {
     "grade": false,
     "grade_id": "cell-5a8afaadbb7b980d",
     "locked": true,
     "schema_version": 3,
     "solution": false,
     "task": false
    }
   },
   "source": [
    "### Part B\n",
    "\n",
    "Python has built-in support for __complex numbers__, under the `complex` type.  (You can think of a `complex` as a pair of `float`s, one for the real part and one for the imaginary part.)  Python uses the engineering convention of writing the imaginary unit as `j`.  __Run the cell below__ to see some quick examples:"
   ]
  },
  {
   "cell_type": "code",
   "execution_count": null,
   "metadata": {
    "nbgrader": {
     "grade": false,
     "grade_id": "cell-25b2c49de1f504fe",
     "locked": true,
     "schema_version": 3,
     "solution": false,
     "task": false
    }
   },
   "outputs": [],
   "source": [
    "x = 2+0j\n",
    "y = 1j    # Must write \"1j\" to be recognized as complex; j alone doesn't work.\n",
    "z = 1+1j\n",
    "\n",
    "print(x+y)\n",
    "print(y*y)\n",
    "print(y.real)\n",
    "print(y.imag)\n",
    "print(abs(z))  # \"abs\" acts as the complex modulus |z| = sqrt(Re(z)**2 + Im(z)**2)"
   ]
  },
  {
   "cell_type": "markdown",
   "metadata": {
    "nbgrader": {
     "grade": false,
     "grade_id": "cell-eae3f18c76eb0d8f",
     "locked": true,
     "schema_version": 3,
     "solution": false,
     "task": false
    }
   },
   "source": [
    "Once we're using complex numbers, there should be no numerical problem with taking the square root of a negative number.  However, by default the `math.sqrt()` and `np.sqrt()` functions will give an error message if we give them a negative input (because for many applications we _don't_ want complex answers.)\n",
    "\n",
    "There are existing modules for dealing with complex math, of course: `numpy` will do it if you explicitly use a complex `dtype` on your array, and Python has the `cmath` (\"complex math\") module with complex-aware functions like `cmath.sqrt()`.  But why not just do it ourselves?\n",
    "\n",
    "__Implement the function `real_sqrt` below__, which should take a single real number `x` as input and return its (potentially complex) square root as follows:\n",
    "\n",
    "- If `x` is positive, return the square root of `x`, plus the constant `0j`.  (This makes the output `complex` type, for consistency.)\n",
    "- If `x` is negative, return the square root of `-x`, then multiply it by `1j`.  (The syntax of complex numbers means we have to write it as `1j` and not just `j`.)"
   ]
  },
  {
   "cell_type": "code",
   "execution_count": null,
   "metadata": {
    "nbgrader": {
     "grade": false,
     "grade_id": "cell-0506d1ce981a3802",
     "locked": false,
     "schema_version": 3,
     "solution": true,
     "task": false
    }
   },
   "outputs": [],
   "source": [
    "def real_sqrt(x):\n",
    "    #"
   ]
  },
  {
   "cell_type": "code",
   "execution_count": null,
   "metadata": {
    "nbgrader": {
     "grade": true,
     "grade_id": "cell-0ff4bab315a830bc",
     "locked": true,
     "points": 0,
     "schema_version": 3,
     "solution": false,
     "task": false
    },
    "scrolled": true
   },
   "outputs": [],
   "source": [
    "print(real_sqrt(4))  # should print '2+0j'\n",
    "print(real_sqrt(-4)) # should print '2j'\n",
    "print(real_sqrt(0))  # should print '0j'\n",
    "\n",
    "assert float((real_sqrt(-11)**2 - (-11))) <= 1e-6\n",
    "assert float((real_sqrt(45)**2 - 45)) <= 1e-6"
   ]
  },
  {
   "cell_type": "markdown",
   "metadata": {
    "nbgrader": {
     "grade": false,
     "grade_id": "cell-827f19398863cb25",
     "locked": true,
     "schema_version": 3,
     "solution": false,
     "task": false
    }
   },
   "source": [
    "### Part C\n",
    "\n",
    "Next, let's do some work with loops.  First, an exercise that probably looks much simpler than it is!\n",
    "\n",
    "Use a `while` loop to implement the function `sum_cubes(n)` below, which should return the sum of the cube of every number from 1 to n __including `n`__, i.e.\n",
    "\n",
    "$$\n",
    "S_3(n) \\equiv \\sum_{i=1}^n i^3 = 1^3 + 2^3 + ... + n^3\n",
    "$$\n",
    "\n",
    "_(Hint: your `while` loop will give you one value of `i` at a time, but you want to end up with the sum of __all__ of them.  This is a great opportunity to use an __accumulator variable__: in addition to the variable `i`, you should declare another variable __before the loop__ that will hold the sum of all numbers so far.)_"
   ]
  },
  {
   "cell_type": "code",
   "execution_count": null,
   "metadata": {
    "nbgrader": {
     "grade": false,
     "grade_id": "cell-6a77276ba2492ed2",
     "locked": false,
     "schema_version": 3,
     "solution": true,
     "task": false
    }
   },
   "outputs": [],
   "source": [
    "def sum_cubes(n):\n",
    "    #"
   ]
  },
  {
   "cell_type": "code",
   "execution_count": null,
   "metadata": {
    "nbgrader": {
     "grade": true,
     "grade_id": "cell-4b9078242ca7b6ba",
     "locked": true,
     "points": 0,
     "schema_version": 3,
     "solution": false,
     "task": false
    }
   },
   "outputs": [],
   "source": [
    "print(sum_cubes(2))  # Should print: 9\n",
    "\n",
    "assert sum_cubes(1) == 1\n",
    "assert sum_cubes(2) == 9\n",
    "assert sum_cubes(37) == (37*38/2)**2    # Analytic answer: the sum should give (n(n+1)/2)**2."
   ]
  },
  {
   "cell_type": "markdown",
   "metadata": {
    "nbgrader": {
     "grade": false,
     "grade_id": "cell-3f391c3f60cecc4f",
     "locked": true,
     "schema_version": 3,
     "solution": false,
     "task": false
    }
   },
   "source": [
    "### Part D\n",
    "\n",
    "We can also use conditional tests on NumPy arrays to control program flow.  However, we need to do things a bit differently because arrays have multiple values.  For example, suppose we want to take the square root of an array, but _only if_ it has no negative values. \n",
    "\n",
    "__Run the next cell__ to see an example that _will not work_:"
   ]
  },
  {
   "cell_type": "code",
   "execution_count": null,
   "metadata": {
    "nbgrader": {
     "grade": false,
     "grade_id": "cell-ab5bd4fc7da5aaf2",
     "locked": true,
     "schema_version": 3,
     "solution": false,
     "task": false
    }
   },
   "outputs": [],
   "source": [
    "x = np.array([-2, -1, 4])\n",
    "if x > 0:\n",
    "    print(np.sqrt(x))"
   ]
  },
  {
   "cell_type": "markdown",
   "metadata": {
    "nbgrader": {
     "grade": false,
     "grade_id": "cell-ffc28ac459c4beca",
     "locked": true,
     "schema_version": 3,
     "solution": false,
     "task": false
    }
   },
   "source": [
    "You should see a `ValueError` that states \"the truth value of an array...is ambiguous.\"  For once, this is an error message that makes a lot of sense!  __We can't branch on the statement `x > 0`__, because the result is neither `True` nor `False`, it's the array `[False, False, True]`.\n",
    "\n",
    "The second part of the error message also tells us how to fix this: we use the `.any()` and `.all()` methods.  These take a Boolean test, apply it to an entire array, and then return a single summary `True` or `False` outcome:"
   ]
  },
  {
   "cell_type": "code",
   "execution_count": null,
   "metadata": {},
   "outputs": [],
   "source": [
    "print(np.any(x > 0))\n",
    "print(np.all(x > 0))\n",
    "\n",
    "# x = np.array([3,4,5])  ## Uncomment me to see the other branch of the if statement below run.\n",
    "\n",
    "if np.all(x>0):\n",
    "    print(np.sqrt(x))\n",
    "else:\n",
    "    print(\"Some negative numbers in x, skipping sqrt!\")"
   ]
  },
  {
   "cell_type": "markdown",
   "metadata": {
    "nbgrader": {
     "grade": false,
     "grade_id": "cell-3f7e79590979291c",
     "locked": true,
     "schema_version": 3,
     "solution": false,
     "task": false
    }
   },
   "source": [
    "In terms of a Boolean array like `x > 0`, the way these two functions work is:\n",
    "\n",
    "* If __any entry__ in Boolean array `b` is `True`, then `np.any(b)` is `True`; otherwise, it's `False`.\n",
    "* If __every entry__ in Boolean array `b` is `True`, then `np.all(b)` is `True`; otherwise, it's `False`.\n",
    "\n",
    "You can see that these are sort of complementary to each other: in the code above, we did the test `np.all(x>0)` to see if our array `x` was entirely positive.  But we could also have done the test `np.any(x<0)`, and the code would work exactly the same.\n",
    "\n",
    "Now, the exercise.  In the cell below, __implement the function `rescale_array(x)`__, which should take an array `x` and return the same array _repeatedly divided by two_ until all of the entries are between -1 and 1.  (Since arrays are mutable - they can be changed in-place - in this case we begin by making a _copy_ of the array `y`, instead of mutating the original `x`.)\n",
    "\n",
    "For example, the array `[-3,1,3]` would be divided by 2 twice by this algorithm, giving the result `[-0.75, 0.25, 0.75]`."
   ]
  },
  {
   "cell_type": "code",
   "execution_count": null,
   "metadata": {
    "nbgrader": {
     "grade": false,
     "grade_id": "cell-261e41e9d77d0635",
     "locked": false,
     "schema_version": 3,
     "solution": true,
     "task": false
    }
   },
   "outputs": [],
   "source": [
    "def rescale_array(x):\n",
    "    y = x.copy()  # Return a new rescaled array instead of mutating\n",
    "    \n",
    "    #"
   ]
  },
  {
   "cell_type": "code",
   "execution_count": null,
   "metadata": {
    "nbgrader": {
     "grade": true,
     "grade_id": "cell-a23f09931d5b208c",
     "locked": true,
     "points": 0,
     "schema_version": 3,
     "solution": false,
     "task": false
    }
   },
   "outputs": [],
   "source": [
    "y0 = rescale_array(np.array([-3.,1.,3.]))\n",
    "npt.assert_allclose(y0, np.array([-0.75, 0.25, 0.75]))"
   ]
  },
  {
   "cell_type": "code",
   "execution_count": null,
   "metadata": {
    "nbgrader": {
     "grade": true,
     "grade_id": "cell-408327640e4f8bb2",
     "locked": true,
     "points": 0,
     "schema_version": 3,
     "solution": false,
     "task": false
    }
   },
   "outputs": [],
   "source": [
    "y1 = rescale_array(np.linspace(0,10,11))\n",
    "print(y1)  # Should range from 0 to 10/16 = 5/8 = 0.625.\n",
    "\n",
    "y2 = rescale_array(np.array([-7.,-1.,1.,3.]))\n",
    "print(y2)  # Should range from -7/8 = -0.875 to 3/8 = 0.375.\n",
    "\n",
    "y3 = rescale_array(np.linspace(-1,1,20))\n",
    "print(y3)  # Should range from -1 to 1 - no rescaling at all!"
   ]
  },
  {
   "cell_type": "markdown",
   "metadata": {},
   "source": [
    "## T10.2 - A better square root\n",
    "\n",
    "All the way back in tutorial 2, we introduced an algorithm for calculating the square root $y = \\sqrt{x}$, which had the following steps:\n",
    "\n",
    "1. Start with an initial guess for y.\n",
    "2. Calculate y*y, and stop if it's \"close enough\" to x.\n",
    "3. Update y to the average of y and x/y: y --> (y+x/y)/2.\n",
    "4. Loop back to step 2.\n",
    "\n",
    "At that point, we couldn't really do the last step: we just repeated the steps by hand until the result looked good (or we got sick of it.)  But now we can make Python control the loop for us!\n",
    "\n",
    "### Part A\n",
    "\n",
    "__Implement the function square_root()__ in the cell below: I've included the arguments and a brief docstring to get you started.  The \"_error tolerance_\" `tol` defines the __stopping condition__ of our algorithm, i.e. it defines what \"close enough\" in step 2 means:\n",
    "\n",
    "$$\n",
    "|y^2 - x| <= (\\rm{tol})\n",
    "$$"
   ]
  },
  {
   "cell_type": "code",
   "execution_count": null,
   "metadata": {
    "nbgrader": {
     "grade": false,
     "grade_id": "cell-053729857a578d44",
     "locked": false,
     "schema_version": 3,
     "solution": true,
     "task": false
    }
   },
   "outputs": [],
   "source": [
    "def square_root(x, y0, tol=1e-6):\n",
    "    \"\"\"\n",
    "    Computes the square root of x using Heron's method.\n",
    "    Returns: the square root of x.\n",
    "    \n",
    "    Arguments:\n",
    "    =====\n",
    "    x -- number to take the square root of.\n",
    "    y0 -- initial guess for the square root of x.\n",
    "    \n",
    "    Keyword arguments:\n",
    "    =====\n",
    "    tol -- absolute error tolerance for the algorithm to stop (default: 1e-6.)\n",
    "    \"\"\"\n",
    "    \n",
    "    y = y0\n",
    "\n",
    "    #\n",
    "\n",
    "    return y"
   ]
  },
  {
   "cell_type": "code",
   "execution_count": null,
   "metadata": {},
   "outputs": [],
   "source": [
    "# Simple human test, before the automated ones: should print 1.414...\n",
    "print(square_root(2,2))"
   ]
  },
  {
   "cell_type": "markdown",
   "metadata": {},
   "source": [
    "If the cell above doesn't print anything, and you see `In [*]:` to the left of it, then you have probably caused an infinite loop!  You can't run any other cells now, since the kernel will keep trying to finish this one forever.\n",
    "\n",
    "__Don't panic!__  All you have to do is interrupt the kernel using `i`,`i`, restart it with `0`,`0` (both in _command mode_, so click outside the cells!), or use the \"Kernel\" menu above.  Then go back to your function and try to figure out where the infinite loop is coming from...the most likely culprit is a condition on your `while` loop that is always satisfied."
   ]
  },
  {
   "cell_type": "code",
   "execution_count": null,
   "metadata": {
    "nbgrader": {
     "grade": true,
     "grade_id": "cell-709404c8e5d5ef5c",
     "locked": true,
     "points": 0,
     "schema_version": 3,
     "solution": false,
     "task": false
    }
   },
   "outputs": [],
   "source": [
    "import numpy.testing as npt\n",
    "import math\n",
    "\n",
    "npt.assert_allclose(square_root(4,4), 2)\n",
    "npt.assert_allclose(square_root(47,4), math.sqrt(47))\n",
    "npt.assert_allclose(square_root(3,1000), math.sqrt(3))\n",
    "npt.assert_allclose(square_root(57.34,139), math.sqrt(57.34))"
   ]
  },
  {
   "cell_type": "markdown",
   "metadata": {
    "nbgrader": {
     "grade": false,
     "grade_id": "cell-29cf526e458d07e2",
     "locked": true,
     "schema_version": 3,
     "solution": false,
     "task": false
    }
   },
   "source": [
    "### Part B _(optional challenge)_\n",
    "\n",
    "In addition to `tol`, we might like to have an absolute cap on the number of iterations: this will safeguard against infinite (and finite but really long) loops.  Implement the new and improved version `square_root_v2` below, which will also stop if the number of loop iterations reaches `max_iter`.  If `max_iter` is reached, your function should print the message:\n",
    "```python\n",
    "\"Warning: max_iter reached!  Result may be inaccurate.\"\n",
    "```\n",
    "and then __use the `break` keyword to terminate the loop__ and return the current value of `y`.\n",
    "\n",
    "(Hint: don't forget to update `num_iter` in your loop!)"
   ]
  },
  {
   "cell_type": "code",
   "execution_count": null,
   "metadata": {
    "nbgrader": {
     "grade": false,
     "grade_id": "cell-bb87341f5e6835b6",
     "locked": false,
     "schema_version": 3,
     "solution": true,
     "task": false
    }
   },
   "outputs": [],
   "source": [
    "def square_root_v2(x, y0, tol=1e-6, max_iter=50):\n",
    "    \"\"\"\n",
    "    Computes the square root of x using Heron's method.\n",
    "    Returns: the square root of x.\n",
    "    \n",
    "    Arguments:\n",
    "    =====\n",
    "    x -- number to take the square root of.\n",
    "    y0 -- initial guess for the square root of x.\n",
    "    \n",
    "    Keyword arguments:\n",
    "    =====\n",
    "    tol -- absolute error tolerance for the algorithm to stop (default: 1e-6.)\n",
    "    max_iter -- maximum number of iterations to run (default: 50)\n",
    "    \"\"\"\n",
    "\n",
    "    y = y0\n",
    "    num_iter = 0\n",
    "    \n",
    "    #\n",
    "\n",
    "    return y\n"
   ]
  },
  {
   "cell_type": "code",
   "execution_count": null,
   "metadata": {
    "nbgrader": {
     "grade": true,
     "grade_id": "cell-595069b21ae40839",
     "locked": true,
     "points": 0,
     "schema_version": 3,
     "solution": false,
     "task": false
    }
   },
   "outputs": [],
   "source": [
    "import numpy.testing as npt\n",
    "import math\n",
    "\n",
    "print(square_root_v2(3, 1000))\n",
    "npt.assert_allclose(square_root_v2(4,4), 2)\n",
    "npt.assert_allclose(square_root_v2(47,4), math.sqrt(47))\n",
    "npt.assert_allclose(square_root_v2(3,1000, max_iter=100), math.sqrt(3))\n",
    "npt.assert_allclose(square_root_v2(57.34,139, tol=1e-10), math.sqrt(57.34))\n",
    "\n",
    "# Should see a warning message from this:\n",
    "npt.assert_allclose(square_root_v2(47, 3, max_iter=2), 7.1, atol=0.1)"
   ]
  },
  {
   "cell_type": "markdown",
   "metadata": {
    "nbgrader": {
     "grade": false,
     "grade_id": "cell-540c8df85a14cf6b",
     "locked": true,
     "schema_version": 3,
     "solution": false,
     "task": false
    }
   },
   "source": [
    "### Bonus Part C\n",
    "\n",
    "As a little __bonus__, let's see how the performance of our pure Python function compares to the one from the math library.  The `%timeit` magic command will tell Jupyter to re-run a particular function over and over and time how long it takes.  (We can also use `%time`, which will just run it once; a single run will be less reliable for estimating the average run time, though.)\n",
    "\n",
    "(If you didn't finish part B above, you can run the test on `square_root()` instead of `square_root_v2()`.)"
   ]
  },
  {
   "cell_type": "code",
   "execution_count": null,
   "metadata": {
    "scrolled": true
   },
   "outputs": [],
   "source": [
    "%timeit square_root_v2(455, 40)\n",
    "%timeit math.sqrt(455)"
   ]
  },
  {
   "cell_type": "markdown",
   "metadata": {
    "editable": true,
    "slideshow": {
     "slide_type": ""
    },
    "tags": []
   },
   "source": [
    "## T9.3 Fun with Modular Arithmetic\n",
    "\n",
    "For this problem, we’ll play with Cayley tables (operation tables) for addition and multiplication **modulo $n$**.  \n",
    "Throughout, elements are the integers $\\mathbb{Z}_n=\\{0,1,\\dots,n-1\\}$.\n",
    "\n",
    "A **Cayley table** for an operation $\\circ$ lists the result of $i \\circ j$ in row $i$, column $j$, with all arithmetic done modulo $n$.\n",
    "\n",
    "\n",
    "### Part A - Cayley table for addition\n",
    "\n",
    "**Task.** Write a function that builds the **$+$** Cayley table mod $n$.  \n",
    "Your function should return an **$n \\times n$ NumPy array** whose $(i,j)$ entry is $(i + j) \\bmod n$.\n"
   ]
  },
  {
   "cell_type": "code",
   "execution_count": null,
   "metadata": {
    "editable": true,
    "slideshow": {
     "slide_type": ""
    },
    "tags": []
   },
   "outputs": [],
   "source": [
    "import numpy as np\n",
    "\n",
    "def make_Zn_plus_Zn(n):\n",
    "    #\n",
    "\n"
   ]
  },
  {
   "cell_type": "code",
   "execution_count": null,
   "metadata": {},
   "outputs": [],
   "source": [
    "# Testing cell\n",
    "Z2_plus_Z2 = np.array([[0, 1],\n",
    "                       [1, 0]])\n",
    "\n",
    "Z5_plus_Z5 = np.array([[0, 1, 2, 3, 4],\n",
    "                       [1, 2, 3, 4, 0],\n",
    "                       [2, 3, 4, 0, 1],\n",
    "                       [3, 4, 0, 1, 2],\n",
    "                       [4, 0, 1, 2, 3]])\n",
    "\n",
    "\n",
    "Z9_plus_Z9 = np.array([[0, 1, 2, 3, 4, 5, 6, 7, 8],\n",
    "                       [1, 2, 3, 4, 5, 6, 7, 8, 0],\n",
    "                       [2, 3, 4, 5, 6, 7, 8, 0, 1],\n",
    "                       [3, 4, 5, 6, 7, 8, 0, 1, 2],\n",
    "                       [4, 5, 6, 7, 8, 0, 1, 2, 3],\n",
    "                       [5, 6, 7, 8, 0, 1, 2, 3, 4],\n",
    "                       [6, 7, 8, 0, 1, 2, 3, 4, 5],\n",
    "                       [7, 8, 0, 1, 2, 3, 4, 5, 6],\n",
    "                       [8, 0, 1, 2, 3, 4, 5, 6, 7]])\n",
    "\n",
    "assert np.all(Z2_plus_Z2 == make_Zn_plus_Zn(2))\n",
    "assert np.all(Z5_plus_Z5 == make_Zn_plus_Zn(5))\n",
    "assert np.all(Z9_plus_Z9 == make_Zn_plus_Zn(9))"
   ]
  },
  {
   "cell_type": "markdown",
   "metadata": {},
   "source": [
    "### Part B - Additive inverses in $\\mathbb{Z}_7$\n",
    "\n",
    "**Task.** Identify additive inverses for elements of $\\mathbb{Z}_7$.  \n",
    "Define a length-7 array `inv_Z7_plus` whose $k$-th entry is the inverse of $k$ under **addition mod 7**.\n",
    "\n",
    "**Reminder**\n",
    "- In $\\mathbb{Z}_n$ under $+$, the inverse of $k$ is $(n-k) \\bmod n$, and the inverse of $0$ is $0$.\n"
   ]
  },
  {
   "cell_type": "code",
   "execution_count": null,
   "metadata": {},
   "outputs": [],
   "source": [
    "# Run me first to see your Cayley table for Z7\n",
    "def print_table(Zn_op_Zn, op=\"+\"):\n",
    "    n = len(Zn_op_Zn)\n",
    "    table = \" | \".join([op, *[f\"\\x1b[43m{_}\\x1b[0m\" for _ in range(n)]])\n",
    "    width_table = 4*n+1\n",
    "    table += \"\\n\"\n",
    "    table += width_table * \"-\"\n",
    "    table += \"\\n\"\n",
    "    \n",
    "    for q in range(n):\n",
    "        q_op_Zn = Zn_op_Zn[q]\n",
    "        table += \" | \".join([f\"\\x1b[43m{q}\\x1b[0m\", *[str(_) for _ in q_op_Zn]])\n",
    "        table += \"\\n\"\n",
    "        table += width_table * \"-\"\n",
    "        table += \"\\n\"\n",
    "    print(table)\n",
    "\n",
    "print_table(make_Zn_plus_Zn(7), op=\"+\")"
   ]
  },
  {
   "cell_type": "code",
   "execution_count": null,
   "metadata": {},
   "outputs": [],
   "source": [
    "#"
   ]
  },
  {
   "cell_type": "code",
   "execution_count": null,
   "metadata": {},
   "outputs": [],
   "source": [
    "# Testing cell\n",
    "assert np.all((np.array(range(7)) + inv_Z7_plus) % 7 == 0)"
   ]
  },
  {
   "cell_type": "markdown",
   "metadata": {},
   "source": [
    "### Part C - Cayley table for multiplication\n",
    "\n",
    "**Task.** Write a function that builds the **$\\times$** Cayley table mod $n$.  \n",
    "Your function should return an **$n \\times n$ NumPy array** whose $(i,j)$ entry is $(i \\cdot j) \\bmod n$.\n",
    "\n",
    "**Notes**\n",
    "- The multiplicative identity is $1$.\n",
    "- Not every element necessarily has a multiplicative inverse (see next parts).\n"
   ]
  },
  {
   "cell_type": "code",
   "execution_count": null,
   "metadata": {},
   "outputs": [],
   "source": [
    "def make_Zn_times_Zn(n):\n",
    "    #\n"
   ]
  },
  {
   "cell_type": "code",
   "execution_count": null,
   "metadata": {},
   "outputs": [],
   "source": [
    "# Testing cell\n",
    "Z2_times_Z2 = np.array([[0, 0],\n",
    "                        [0, 1]])\n",
    "\n",
    "Z5_times_Z5 = np.array([[0, 0, 0, 0, 0],\n",
    "                        [0, 1, 2, 3, 4],\n",
    "                        [0, 2, 4, 1, 3],\n",
    "                        [0, 3, 1, 4, 2],\n",
    "                        [0, 4, 3, 2, 1]])\n",
    "\n",
    "\n",
    "Z9_times_Z9 = np.array([[0, 0, 0, 0, 0, 0, 0, 0, 0],\n",
    "                        [0, 1, 2, 3, 4, 5, 6, 7, 8],\n",
    "                        [0, 2, 4, 6, 8, 1, 3, 5, 7],\n",
    "                        [0, 3, 6, 0, 3, 6, 0, 3, 6],\n",
    "                        [0, 4, 8, 3, 7, 2, 6, 1, 5],\n",
    "                        [0, 5, 1, 6, 2, 7, 3, 8, 4],\n",
    "                        [0, 6, 3, 0, 6, 3, 0, 6, 3],\n",
    "                        [0, 7, 5, 3, 1, 8, 6, 4, 2],\n",
    "                        [0, 8, 7, 6, 5, 4, 3, 2, 1]])\n",
    "\n",
    "assert np.all(Z2_times_Z2 == make_Zn_times_Zn(2))\n",
    "assert np.all(Z5_times_Z5 == make_Zn_times_Zn(5))\n",
    "assert np.all(Z9_times_Z9 == make_Zn_times_Zn(9))"
   ]
  },
  {
   "cell_type": "markdown",
   "metadata": {},
   "source": [
    "### Part D - Multiplicative inverses in $\\mathbb{Z}_7$\n",
    "\n",
    "**Task.** Identify multiplicative inverses for the **nonzero** elements of $\\mathbb{Z}_7$.  \n",
    "Define a **length-6 array** `inv_Z7_times` whose entries are the inverses of $1,2,3,4,5,6$ under **multiplication mod 7**.  \n",
    "(We exclude $0$ since $0$ has no multiplicative inverse.)\n",
    "\n",
    "**Why this works**\n",
    "- When $n$ is prime (here $n=7$), every nonzero element has a unique multiplicative inverse modulo $n$.\n",
    "- Equivalently, $\\mathbb{Z}_7^\\times = \\{1,2,3,4,5,6\\}$ is a group under multiplication.\n"
   ]
  },
  {
   "cell_type": "code",
   "execution_count": null,
   "metadata": {},
   "outputs": [],
   "source": [
    "# Run me to see your Cayley table for Z7 *\n",
    "print_table(make_Zn_times_Zn(7), op=\"*\")"
   ]
  },
  {
   "cell_type": "code",
   "execution_count": null,
   "metadata": {},
   "outputs": [],
   "source": [
    "#"
   ]
  },
  {
   "cell_type": "code",
   "execution_count": null,
   "metadata": {},
   "outputs": [],
   "source": [
    "# Testing cell\n",
    "assert np.all((np.array(range(1,7))*inv_Z7_times) % 7 == 1)"
   ]
  },
  {
   "cell_type": "markdown",
   "metadata": {},
   "source": [
    "### What changes when $n$ is not prime? (Example: $\\mathbb{Z}_6$)\n",
    "\n",
    "Run the cell to display the $\\times$ Cayley table for $\\mathbb{Z}_6$.  \n",
    "\n",
    "**What to notice**\n",
    "- Some nonzero products give $0$: for example, $2 \\times 3 \\equiv 0 \\pmod{6}$.  \n",
    "  Elements like $2$ and $3$ are **zero divisors** (nonzero numbers whose product is $0$ mod $n$).\n",
    "- Zero divisors **cannot** have multiplicative inverses.\n",
    "- In $\\mathbb{Z}_6$, the only units (invertible elements under multiplication) are those **coprime to 6**: $\\{1,5\\}$.  \n",
    "\n",
    "**Takeaway**\n",
    "- $\\mathbb{Z}_n$ under addition is always a group.  \n",
    "- Under multiplication, the **nonzero** elements form a group **iff $n$ is prime** (e.g., $\\mathbb{Z}_7^\\times$).  \n",
    "  For composite $n$, the **units** are the integers in $\\{1,\\dots,n-1\\}$ that are coprime to $n$; the rest are zero divisors.\n"
   ]
  },
  {
   "cell_type": "code",
   "execution_count": null,
   "metadata": {},
   "outputs": [],
   "source": [
    "# Run me to see your Cayley table\n",
    "print_table(make_Zn_times_Zn(6), op=\"*\")"
   ]
  },
  {
   "cell_type": "markdown",
   "metadata": {},
   "source": [
    "$2\\cdot 3 = 6 \\equiv 0 \\pmod{6}$.  \n",
    "Nonzero elements $a,b$ with $ab \\equiv 0 \\pmod{n}$ are called **zero divisors**. This happens when $n$ is composite (e.g., in $\\mathbb{Z}_6$, $2$ and $3$ are zero divisors; the only invertible elements—**units**—are $1$ and $5$).  \n",
    "\n",
    "Multiplication mod $n$ is “nice” in the sense that **every nonzero element has a multiplicative inverse iff $n$ is prime**.  \n",
    "When $n$ is prime, $\\mathbb{Z}_n$ is a field and $\\mathbb{Z}_n^\\times=\\{1,\\dots,n-1\\}$ forms a group under multiplication.\n"
   ]
  }
 ],
 "metadata": {
  "celltoolbar": "Create Assignment",
  "kernelspec": {
   "display_name": "Python 3 (ipykernel)",
   "language": "python",
   "name": "python3"
  },
  "language_info": {
   "codemirror_mode": {
    "name": "ipython",
    "version": 3
   },
   "file_extension": ".py",
   "mimetype": "text/x-python",
   "name": "python",
   "nbconvert_exporter": "python",
   "pygments_lexer": "ipython3",
   "version": "3.13.7"
  },
  "nbgrader": {
   "cocalc_minimal_stubs": true
  }
 },
 "nbformat": 4,
 "nbformat_minor": 4
}
