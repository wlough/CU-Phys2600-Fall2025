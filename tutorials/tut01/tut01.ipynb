{
 "cells": [
  {
   "cell_type": "markdown",
   "id": "8d864b76-c27a-4ebe-b071-9faab58fd096",
   "metadata": {
    "editable": true,
    "slideshow": {
     "slide_type": "slide"
    },
    "tags": []
   },
   "source": [
    "# Tutorial 1: \"Hello, world!\"\n",
    "\n",
    "## PHYS 2600, Fall 2025\n",
    "\n",
    "This will be a short tutorial!  Your main objective: simply to connect to the tutorial server, open this file, and run a snippet of code.  If you can see this message, you're almost done!"
   ]
  },
  {
   "cell_type": "markdown",
   "id": "8b6d6be5",
   "metadata": {},
   "source": [
    "To start:\n",
    "\n",
    "1. Save a copy of this tutorial in your google drive using **File->Save a copy in Drive**\n",
    "2. Rename to: `tut01_Lastname_Firstname.ipynb`."
   ]
  },
  {
   "cell_type": "markdown",
   "id": "86c4d115-67d0-4b5c-a254-2b52d40198a0",
   "metadata": {
    "editable": true,
    "slideshow": {
     "slide_type": "slide"
    },
    "tags": []
   },
   "source": [
    "Select the Python code cell below to be edited by clicking inside the grey box.  Then enter the following code (either type it in, or just copy and paste):\n",
    "\n",
    "```python\n",
    "print(\"Hello, world!\")\n",
    "```\n",
    "\n",
    "Finally, run the code by either: clicking \"Run\" button to the left of the cell, or using the keyboard shortcut Shift+Enter.  You should see the text \"Hello, world!\" appear below the cell. \n",
    "\n",
    "That's it! Now just download the `.ipynb` file **File->Download->Download .ipynb** and upload to Canvas."
   ]
  },
  {
   "cell_type": "code",
   "execution_count": 2,
   "id": "4d308bbb-0210-48ae-915c-f3746f5e8c50",
   "metadata": {
    "editable": true,
    "slideshow": {
     "slide_type": "slide"
    },
    "tags": []
   },
   "outputs": [],
   "source": [
    "# your code goes here"
   ]
  }
 ],
 "metadata": {
  "kernelspec": {
   "display_name": "Python 3 (ipykernel)",
   "language": "python",
   "name": "python3"
  },
  "language_info": {
   "codemirror_mode": {
    "name": "ipython",
    "version": 3
   },
   "file_extension": ".py",
   "mimetype": "text/x-python",
   "name": "python",
   "nbconvert_exporter": "python",
   "pygments_lexer": "ipython3",
   "version": "3.10.18"
  },
  "toc": {
   "base_numbering": 1
  }
 },
 "nbformat": 4,
 "nbformat_minor": 5
}
