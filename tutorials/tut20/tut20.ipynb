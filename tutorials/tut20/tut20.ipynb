{
 "cells": [
  {
   "cell_type": "markdown",
   "metadata": {
    "collapsed": false,
    "jupyter": {
     "outputs_hidden": false
    },
    "nbgrader": {
     "grade": false,
     "grade_id": "cell-100899e0deea9789",
     "locked": true,
     "schema_version": 3,
     "solution": false
    }
   },
   "source": [
    "# Tutorial 20: Higher Dimensions in NumPy\n",
    "\n",
    "## PHYS 2600"
   ]
  },
  {
   "cell_type": "code",
   "execution_count": null,
   "metadata": {
    "collapsed": false,
    "jupyter": {
     "outputs_hidden": false
    },
    "nbgrader": {
     "grade": false,
     "grade_id": "cell-e5acb32517484ab7",
     "locked": true,
     "schema_version": 3,
     "solution": false
    }
   },
   "outputs": [],
   "source": [
    "# Import cell\n",
    "\n",
    "%matplotlib inline\n",
    "import matplotlib.pyplot as plt\n",
    "import numpy as np"
   ]
  },
  {
   "cell_type": "markdown",
   "metadata": {
    "collapsed": false,
    "jupyter": {
     "outputs_hidden": false
    },
    "nbgrader": {
     "grade": false,
     "grade_id": "cell-67f24b91ffdf0b72",
     "locked": true,
     "schema_version": 3,
     "solution": false
    }
   },
   "source": [
    "## T20.1 - Up to higher dimensions\n",
    "\n",
    "Let's begin working with some higher-dimensional arrays!"
   ]
  },
  {
   "cell_type": "markdown",
   "metadata": {
    "collapsed": false,
    "jupyter": {
     "outputs_hidden": false
    },
    "nbgrader": {
     "grade": false,
     "grade_id": "cell-f58c2c4155fd5bf9",
     "locked": true,
     "schema_version": 3,
     "solution": false
    }
   },
   "source": [
    "### Part A\n",
    "\n",
    "The following 2-dimensional array contains a set of velocity measurements $(v_x, v_y, v_z)$.  \n"
   ]
  },
  {
   "cell_type": "code",
   "execution_count": null,
   "metadata": {
    "collapsed": false,
    "jupyter": {
     "outputs_hidden": false
    },
    "nbgrader": {
     "grade": false,
     "grade_id": "cell-79c3fd450efaf020",
     "locked": true,
     "schema_version": 3,
     "solution": false,
     "task": false
    }
   },
   "outputs": [],
   "source": [
    "velo = np.array(\n",
    "    [\n",
    "        [2.7, 1.1, -0.4],\n",
    "        [1.9, 1.9, 3.7],\n",
    "        [-0.4, 0.0, -0.1],\n",
    "        [1.5, -1.9, -2.7],\n",
    "        [3.3, 0.4, 1.5],\n",
    "        [7.1, -0.9, 1.3],\n",
    "    ]\n",
    ")"
   ]
  },
  {
   "cell_type": "markdown",
   "metadata": {
    "collapsed": false,
    "jupyter": {
     "outputs_hidden": false
    },
    "nbgrader": {
     "grade": false,
     "grade_id": "cell-7479a3f0c006485e",
     "locked": true,
     "schema_version": 3,
     "solution": false
    }
   },
   "source": [
    "__Use two-dimensional indexing, masks, and slices to carry out the following operations:__\n",
    "\n",
    "* Get the third $v_z$ measurement."
   ]
  },
  {
   "cell_type": "code",
   "execution_count": null,
   "metadata": {
    "collapsed": false,
    "jupyter": {
     "outputs_hidden": false
    },
    "nbgrader": {
     "grade": true,
     "grade_id": "cell-5510eb23da1979e7",
     "locked": false,
     "points": 2,
     "schema_version": 3,
     "solution": true,
     "task": false
    }
   },
   "outputs": [],
   "source": [
    "#"
   ]
  },
  {
   "cell_type": "markdown",
   "metadata": {
    "collapsed": false,
    "jupyter": {
     "outputs_hidden": false
    },
    "nbgrader": {
     "grade": false,
     "grade_id": "cell-926878e606fe5214",
     "locked": true,
     "schema_version": 3,
     "solution": false
    }
   },
   "source": [
    "* Get the last three $v_x$ measurements as an array."
   ]
  },
  {
   "cell_type": "code",
   "execution_count": null,
   "metadata": {
    "collapsed": false,
    "jupyter": {
     "outputs_hidden": false
    },
    "nbgrader": {
     "grade": false,
     "grade_id": "cell-cdd6b602fc5017c6",
     "locked": false,
     "schema_version": 3,
     "solution": true,
     "task": false
    }
   },
   "outputs": [],
   "source": [
    "#"
   ]
  },
  {
   "cell_type": "markdown",
   "metadata": {
    "collapsed": false,
    "jupyter": {
     "outputs_hidden": false
    },
    "nbgrader": {
     "grade": false,
     "grade_id": "cell-60dc32416dd3e1c0",
     "locked": true,
     "schema_version": 3,
     "solution": false,
     "task": false
    }
   },
   "source": [
    "* Get an array containing all rows where the speed in the $y$-direction is __negative__.  (There are two such rows.)\n",
    "\n",
    "_(Hint: this requires a row mask!  Look back at the lecture notes to see how this works...)_"
   ]
  },
  {
   "cell_type": "code",
   "execution_count": null,
   "metadata": {
    "collapsed": false,
    "jupyter": {
     "outputs_hidden": false
    },
    "nbgrader": {
     "grade": false,
     "grade_id": "cell-33c83f328d3d420b",
     "locked": false,
     "schema_version": 3,
     "solution": true,
     "task": false
    }
   },
   "outputs": [],
   "source": [
    "#"
   ]
  },
  {
   "cell_type": "markdown",
   "metadata": {
    "collapsed": false,
    "jupyter": {
     "outputs_hidden": false
    },
    "nbgrader": {
     "grade": false,
     "grade_id": "cell-a8b53c409a863193",
     "locked": true,
     "schema_version": 3,
     "solution": false
    }
   },
   "source": [
    "### Part B\n",
    "\n",
    "Use `reshape` and `arange` to make a grid of numbers from 1-100, with 10 numbers in each row - `print` it to see that you got it right!"
   ]
  },
  {
   "cell_type": "code",
   "execution_count": null,
   "metadata": {
    "collapsed": false,
    "jupyter": {
     "outputs_hidden": false
    },
    "nbgrader": {
     "grade": true,
     "grade_id": "cell-e5a53fa3388e70a7",
     "locked": false,
     "points": 0,
     "schema_version": 3,
     "solution": true
    },
    "scrolled": true
   },
   "outputs": [],
   "source": [
    "#"
   ]
  },
  {
   "cell_type": "markdown",
   "metadata": {
    "collapsed": false,
    "jupyter": {
     "outputs_hidden": false
    },
    "nbgrader": {
     "grade": false,
     "grade_id": "cell-aaf4b4517ffc54c3",
     "locked": true,
     "schema_version": 3,
     "solution": false
    }
   },
   "source": [
    "Now, use a Boolean mask to set all __multiples of 2__ (even numbers) to 0.  \n",
    "\n",
    "_(Hint: remember that `%` or `np.mod()` are what you want to test for multiples.  Remember that a mask has to be a Boolean array, explicitly; if you create an array of 0/1 instead of False/True, you'll get confusing results!)_\n",
    "\n"
   ]
  },
  {
   "cell_type": "code",
   "execution_count": null,
   "metadata": {
    "collapsed": false,
    "jupyter": {
     "outputs_hidden": false
    },
    "nbgrader": {
     "grade": true,
     "grade_id": "cell-05355a6a4ec8c196",
     "locked": false,
     "points": 0,
     "schema_version": 3,
     "solution": true
    }
   },
   "outputs": [],
   "source": [
    "#\n",
    "print(grid)"
   ]
  },
  {
   "cell_type": "code",
   "execution_count": null,
   "metadata": {
    "collapsed": false,
    "jupyter": {
     "outputs_hidden": false
    }
   },
   "outputs": [],
   "source": [
    "## You should see all of the even numbers removed from `grid` in the print-out above!\n",
    "## Here's an automatic test to make sure:\n",
    "\n",
    "assert np.count_nonzero(np.logical_and(grid > 0, grid % 2 == 0) == 0)"
   ]
  },
  {
   "cell_type": "markdown",
   "metadata": {
    "collapsed": false,
    "jupyter": {
     "outputs_hidden": false
    },
    "nbgrader": {
     "grade": false,
     "grade_id": "cell-a9054e5574ca95d2",
     "locked": true,
     "schema_version": 3,
     "solution": false,
     "task": false
    }
   },
   "source": [
    "Now do the same to all __multiples of 3__, __multiples of 5__, and __multiples of 7__."
   ]
  },
  {
   "cell_type": "code",
   "execution_count": null,
   "metadata": {
    "collapsed": false,
    "jupyter": {
     "outputs_hidden": false
    },
    "nbgrader": {
     "grade": false,
     "grade_id": "cell-e1ab9db08230a998",
     "locked": false,
     "schema_version": 3,
     "solution": true,
     "task": false
    }
   },
   "outputs": [],
   "source": [
    "#\n",
    "\n",
    "print(grid)"
   ]
  },
  {
   "cell_type": "markdown",
   "metadata": {
    "collapsed": false,
    "jupyter": {
     "outputs_hidden": false
    },
    "nbgrader": {
     "grade": false,
     "grade_id": "cell-d9aa9a65e6401753",
     "locked": true,
     "schema_version": 3,
     "solution": false
    }
   },
   "source": [
    "You should see from the printed grid that many of the numbers have been zeroed out; the first number remaining after 1 is 11, which is the next prime number in sequence after 2,3,5,7!\n",
    "\n",
    "In fact, this is the start of a simple and ancient prime-number finding algorithm called the [__Sieve of Eratosthenes__](https://en.wikipedia.org/wiki/Sieve_of_Eratosthenes).  All of the numbers remaining in the grid above are prime numbers, since the first number we could try to cross out after $11$ would be $11^2 = 121$, which is greater than anything we have left.\n",
    "\n",
    "(We didn't really need a two-dimensional array to apply the Sieve using Python, but if you're doing the algorithm by hand a grid like this is preferred - it makes it easier to spot patterns in the numbers that you're crossing out, e.g. all of the even columns disappeared when you removed multiples of 2.)"
   ]
  },
  {
   "cell_type": "markdown",
   "metadata": {
    "collapsed": false,
    "jupyter": {
     "outputs_hidden": false
    },
    "nbgrader": {
     "grade": false,
     "grade_id": "cell-6ab935221971955c",
     "locked": true,
     "schema_version": 3,
     "solution": false
    }
   },
   "source": [
    "## T20.2 - Down to lower dimensions\n",
    "\n",
    "Now let's do some reduction exercises!"
   ]
  },
  {
   "cell_type": "markdown",
   "metadata": {
    "collapsed": false,
    "jupyter": {
     "outputs_hidden": false
    },
    "nbgrader": {
     "grade": false,
     "grade_id": "cell-b3090f7a6506c7e8",
     "locked": true,
     "schema_version": 3,
     "solution": false
    }
   },
   "source": [
    "### Part A\n",
    "\n",
    "Use a mask with `np.sum()` or `np.count_nonzero()` to count how many numbers are greater than 100 in the array below.  You should find __24__ as your answer.\n",
    "\n",
    "_(Note: Since_ `count_nonzero` _is more specialized, it tends to be faster than `sum`.  Otherwise, they accomplish  exactly the same task on a mask: finding how many `True` values there are.)_"
   ]
  },
  {
   "cell_type": "code",
   "execution_count": null,
   "metadata": {
    "collapsed": false,
    "jupyter": {
     "outputs_hidden": false
    },
    "nbgrader": {
     "grade": false,
     "grade_id": "cell-566df8da5f6af761",
     "locked": true,
     "schema_version": 3,
     "solution": false
    }
   },
   "outputs": [],
   "source": [
    "a = np.array(\n",
    "    [\n",
    "        [\n",
    "            32.64173429,\n",
    "            191.85703207,\n",
    "            28.07613219,\n",
    "            93.6758794,\n",
    "            137.11334151,\n",
    "            98.49036171,\n",
    "            16.21920297,\n",
    "            73.11380953,\n",
    "            198.45163689,\n",
    "            95.30971938,\n",
    "            105.18180757,\n",
    "            58.69108781,\n",
    "        ],\n",
    "        [\n",
    "            64.34112696,\n",
    "            120.99784718,\n",
    "            79.40494167,\n",
    "            150.56049688,\n",
    "            75.27558455,\n",
    "            169.26085959,\n",
    "            119.46765466,\n",
    "            5.15243732,\n",
    "            63.46223024,\n",
    "            13.83497847,\n",
    "            76.09363069,\n",
    "            15.07392756,\n",
    "        ],\n",
    "        [\n",
    "            98.81659688,\n",
    "            127.66361968,\n",
    "            25.18028895,\n",
    "            1.80201359,\n",
    "            41.11615739,\n",
    "            22.39522975,\n",
    "            76.92570925,\n",
    "            45.42721332,\n",
    "            9.30257269,\n",
    "            103.4348637,\n",
    "            159.5006543,\n",
    "            52.82242142,\n",
    "        ],\n",
    "        [\n",
    "            115.98655928,\n",
    "            146.78847103,\n",
    "            126.29624116,\n",
    "            35.91681471,\n",
    "            26.33847396,\n",
    "            38.53213651,\n",
    "            111.75034001,\n",
    "            161.22160872,\n",
    "            174.9432789,\n",
    "            158.26168031,\n",
    "            143.29047058,\n",
    "            155.76391194,\n",
    "        ],\n",
    "        [\n",
    "            31.40801211,\n",
    "            62.97866379,\n",
    "            95.74896593,\n",
    "            22.0901773,\n",
    "            58.7692522,\n",
    "            90.20673554,\n",
    "            183.78983523,\n",
    "            198.26328673,\n",
    "            137.14519089,\n",
    "            194.93600581,\n",
    "            71.14449439,\n",
    "            65.56166131,\n",
    "        ],\n",
    "    ]\n",
    ")"
   ]
  },
  {
   "cell_type": "code",
   "execution_count": null,
   "metadata": {
    "collapsed": false,
    "jupyter": {
     "outputs_hidden": false
    },
    "nbgrader": {
     "grade": false,
     "grade_id": "cell-eef8104bb55edd95",
     "locked": false,
     "schema_version": 3,
     "solution": true,
     "task": false
    }
   },
   "outputs": [],
   "source": [
    "#"
   ]
  },
  {
   "cell_type": "markdown",
   "metadata": {
    "collapsed": false,
    "jupyter": {
     "outputs_hidden": false
    },
    "nbgrader": {
     "grade": false,
     "grade_id": "cell-d19b0ad9e08ac274",
     "locked": true,
     "schema_version": 3,
     "solution": false,
     "task": false
    }
   },
   "source": [
    "In the last part, we ignored the two-dimensional structure of the array, and just asked about individual numbers.  Now let's try some more structured questions: \n",
    "\n",
    "1. __How many rows in `a` have an average greater than 100?__  (There should be 2.)\n",
    "2. __How many columns in `a` have an average greater than 100?__  (There should be 5.)\n",
    "\n",
    "_(Hint: use `np.mean()` to take the average, and the `axis=` keyword to do it over rows or columns.  The array `a` has 5 rows and 12 columns, so if you're not sure which axis is which, you can look at the size of the array of averages produced by `np.mean()`.)_"
   ]
  },
  {
   "cell_type": "code",
   "execution_count": null,
   "metadata": {
    "collapsed": false,
    "jupyter": {
     "outputs_hidden": false
    },
    "nbgrader": {
     "grade": false,
     "grade_id": "cell-7970164e9fed1b63",
     "locked": false,
     "schema_version": 3,
     "solution": true,
     "task": false
    }
   },
   "outputs": [],
   "source": [
    "# "
   ]
  },
  {
   "cell_type": "markdown",
   "metadata": {
    "collapsed": false,
    "jupyter": {
     "outputs_hidden": false
    },
    "nbgrader": {
     "grade": false,
     "grade_id": "cell-6869608dc6b64a89",
     "locked": true,
     "schema_version": 3,
     "solution": false
    }
   },
   "source": [
    "### Part B\n",
    "\n",
    "Going back to the `velo` array from problem 1: use an array reduction to find the __total velocity vector__, \n",
    "$$\n",
    "\\vec{v} = \\sum_i \\vec{v}_i = \\sum_i (v_{x,i}, v_{y,i}, v_{z,i}).\n",
    "$$\n",
    "\n",
    "Save your answer to the variable `v_tot`.  (Your result should be an array of length 3; I've given you the correct answer as a test case.)"
   ]
  },
  {
   "cell_type": "code",
   "execution_count": null,
   "metadata": {
    "collapsed": false,
    "jupyter": {
     "outputs_hidden": false
    },
    "nbgrader": {
     "grade": false,
     "grade_id": "cell-f626272fa38f62e4",
     "locked": false,
     "schema_version": 3,
     "solution": true,
     "task": false
    }
   },
   "outputs": [],
   "source": [
    "# v_tot = \n",
    "print(v_tot)"
   ]
  },
  {
   "cell_type": "code",
   "execution_count": null,
   "metadata": {
    "collapsed": false,
    "jupyter": {
     "outputs_hidden": false
    },
    "nbgrader": {
     "grade": true,
     "grade_id": "cell-4b56a37dffd89fbf",
     "locked": true,
     "points": 0,
     "schema_version": 3,
     "solution": false,
     "task": false
    }
   },
   "outputs": [],
   "source": [
    "import numpy.testing as npt\n",
    "\n",
    "npt.assert_allclose(v_tot, np.array([16.1, 0.6, 3.3]), atol=0.1)"
   ]
  },
  {
   "cell_type": "markdown",
   "metadata": {
    "collapsed": false,
    "jupyter": {
     "outputs_hidden": false
    },
    "nbgrader": {
     "grade": false,
     "grade_id": "cell-7490feefb4b7c9c5",
     "locked": true,
     "schema_version": 3,
     "solution": false,
     "task": false
    }
   },
   "source": [
    "Next, get an array from `velo` containing all rows where _all_ components of $v$ are __positive__.\n",
    "\n",
    "_(Hint: this requires using the `np.all` reduction to create a mask, and then selecting from `velo` using that mask.)_"
   ]
  },
  {
   "cell_type": "code",
   "execution_count": null,
   "metadata": {
    "collapsed": false,
    "jupyter": {
     "outputs_hidden": false
    },
    "nbgrader": {
     "grade": false,
     "grade_id": "cell-08cbcf4d139f7fde",
     "locked": false,
     "schema_version": 3,
     "solution": true,
     "task": false
    }
   },
   "outputs": [],
   "source": [
    "# "
   ]
  },
  {
   "cell_type": "markdown",
   "metadata": {
    "collapsed": false,
    "jupyter": {
     "outputs_hidden": false
    },
    "nbgrader": {
     "grade": false,
     "grade_id": "cell-5166a48bf6ef7ce8",
     "locked": true,
     "schema_version": 3,
     "solution": false,
     "task": false
    }
   },
   "source": [
    "One more exercise with `velo`: get an array containing all rows where the __speed__ $v = \\sqrt{v_x^2 + v_y^2 + v_z^2}$ is greater than 3.0 m/s.  There should be four such rows.\n",
    "\n",
    "_(Hint: once again, you're creating a mask.  Since the formula for speed includes a sum, using `np.sum()` with the appropriate axis is recommended here. Another option is to use `np.linalg.norm`.)_"
   ]
  },
  {
   "cell_type": "code",
   "execution_count": null,
   "metadata": {
    "collapsed": false,
    "jupyter": {
     "outputs_hidden": false
    },
    "nbgrader": {
     "grade": false,
     "grade_id": "cell-083b63173442ef28",
     "locked": false,
     "schema_version": 3,
     "solution": true,
     "task": false
    }
   },
   "outputs": [],
   "source": [
    "# speed = "
   ]
  },
  {
   "cell_type": "markdown",
   "metadata": {
    "collapsed": false,
    "jupyter": {
     "outputs_hidden": false
    },
    "nbgrader": {
     "grade": false,
     "grade_id": "cell-2814035631741169",
     "locked": true,
     "schema_version": 3,
     "solution": false,
     "task": false
    }
   },
   "source": [
    "## T20.3 - Rolling the dice"
   ]
  },
  {
   "cell_type": "markdown",
   "metadata": {
    "collapsed": false,
    "jupyter": {
     "outputs_hidden": false
    },
    "nbgrader": {
     "grade": false,
     "grade_id": "cell-6a74a420964e902d",
     "locked": true,
     "schema_version": 3,
     "solution": false,
     "task": false
    }
   },
   "source": [
    "\n",
    "Let's go back to random numbers to see another application of higher-dimensional arrays.  Consider the random distribution of results obtains by rolling pairs of six-sided dice and taking the sum:\n",
    "\n",
    "<a href=\"https://math.stackexchange.com/questions/1204396/why-is-the-sum-of-the-rolls-of-two-dices-a-binomial-distribution-what-is-define\" target=\"_blank\"><img src=\"https://raw.githubusercontent.com/wlough/CU-Phys2600-Fall2025/main/lectures/img/dice_histogram.png\" width=400px /></a>\n",
    "\n",
    "Even though the distribution of numbers 1-6 for a single die is uniform, we end up with a triangular-shaped distribution for the sum.  As shown in the plot above, this is simple combinatorics: there are many ways to make 7 by adding two dice, but only one way to make 2 or 12.  The distribution should be peaked at 7 and symmetric on both sides.\n",
    "\n",
    "### Part A\n",
    "\n",
    "Let's reproduce this result in Python - representing pairs of dice rolls is a good use case for a two-dimensional array!  Using `np.random.randint()`, __create an array called `rolls`__ containing 10,000 random pairs of integers between 1 and 6 (inclusive.)  Then use `np.sum` to __create an array called `sums`__ which contains the sum of each pair of integers.  (The `sums` array will give us the distribution of fair rolls for a pair of six-sided dice.) \n",
    "\n",
    "_(Hint: `rolls` should have 2 rows and 10,000 columns, which you can get directly from `np.random.randint` with the `size=...` keyword.  Giving size a tuple of numbers will create a higher-dimensional array of that shape.  To create sums, you'll need the `axis=...` keyword, since just calling `np.sum(rolls)` will add everything up and leave you with one number!)_\n",
    "\n"
   ]
  },
  {
   "cell_type": "code",
   "execution_count": null,
   "metadata": {
    "collapsed": false,
    "jupyter": {
     "outputs_hidden": false
    },
    "nbgrader": {
     "grade": false,
     "grade_id": "cell-bdc8d2c183d41e1b",
     "locked": false,
     "schema_version": 3,
     "solution": true,
     "task": false
    }
   },
   "outputs": [],
   "source": [
    "# rolls = np.random.randint(...)\n",
    "# sums = np.sum(...)"
   ]
  },
  {
   "cell_type": "code",
   "execution_count": null,
   "metadata": {
    "collapsed": false,
    "jupyter": {
     "outputs_hidden": false
    },
    "nbgrader": {
     "grade": true,
     "grade_id": "cell-0f4b881f86094f2e",
     "locked": true,
     "points": 0,
     "schema_version": 3,
     "solution": false,
     "task": false
    }
   },
   "outputs": [],
   "source": [
    "assert rolls.shape == (2, 10000)\n",
    "assert sums.shape == (10000,)"
   ]
  },
  {
   "cell_type": "markdown",
   "metadata": {
    "collapsed": false,
    "jupyter": {
     "outputs_hidden": false
    },
    "nbgrader": {
     "grade": false,
     "grade_id": "cell-bc142c1f341d654d",
     "locked": true,
     "schema_version": 3,
     "solution": false,
     "task": false
    }
   },
   "source": [
    "Now we'd like to plot the distribution of `sums`. Your first instinct is probably to use `plt.hist()`, but it turns out that you have to be a little careful with how the histogram bins work, since our dice rolls are all exactly integers.  So, I'm going to ask you to do the same plot _two ways:_\n",
    "\n",
    "1. __Use the function `np.unique()` with argument `return_counts=True`__: this will return a tuple of 2 arrays - the first is the unique values in `sums` (which is every number from 2 to 12) and the second is the number of counts of each value.  You can plug these two arrays into `plt.plot` - I suggest using a marker like `marker='s'` so you can see the discrete points being plotted.\n",
    "\n",
    "2. __Use `plt.hist` on `sums` directly__, but make sure you pick the right number of bins (specified by the `bins=...` argument.)  You should have the same number of bins as possible outcomes!\n",
    "\n",
    "Plot these both in the same cell: they should agree with each other, and they should both look like the ideal triangular distribution shown above, but common mistakes with `plt.hist` will show up plainly if it disagrees with the `np.unique()` approach.\n"
   ]
  },
  {
   "cell_type": "code",
   "execution_count": null,
   "metadata": {
    "collapsed": false,
    "jupyter": {
     "outputs_hidden": false
    },
    "nbgrader": {
     "grade": false,
     "grade_id": "cell-15a186b001388cb8",
     "locked": false,
     "schema_version": 3,
     "solution": true,
     "task": false
    }
   },
   "outputs": [],
   "source": [
    "# "
   ]
  },
  {
   "cell_type": "markdown",
   "metadata": {
    "collapsed": false,
    "jupyter": {
     "outputs_hidden": false
    },
    "nbgrader": {
     "grade": false,
     "grade_id": "cell-079d3f8e43de8454",
     "locked": true,
     "schema_version": 3,
     "solution": false,
     "task": false
    }
   },
   "source": [
    "### Part B\n",
    "\n",
    "A common task with random numbers is __random sampling__, where we have some list of values and we want to choose sets of them randomly.  We could use `randint` to index the list, but this problem is so common that NumPy gives us a function to do it, `np.random.choice()`.\n",
    "\n",
    "Create a list of possible outcomes for rolling one die, and then __use `np.random.choice` with the `size=` keyword argument__ to repeat what you did in part A, i.e. drawing 10,000 random rolls of a pair of dice and then creating the array of their sums.  __Copy/paste one of your plotting routines from above__ to visualize the result and make sure you're getting the same distribution."
   ]
  },
  {
   "cell_type": "code",
   "execution_count": null,
   "metadata": {
    "collapsed": false,
    "jupyter": {
     "outputs_hidden": false
    },
    "nbgrader": {
     "grade": false,
     "grade_id": "cell-1b569b31c9ba021d",
     "locked": false,
     "schema_version": 3,
     "solution": true,
     "task": false
    }
   },
   "outputs": [],
   "source": [
    "# "
   ]
  },
  {
   "cell_type": "markdown",
   "metadata": {
    "collapsed": false,
    "jupyter": {
     "outputs_hidden": false
    },
    "nbgrader": {
     "grade": false,
     "grade_id": "cell-516ef0c56cebaaf4",
     "locked": true,
     "schema_version": 3,
     "solution": false,
     "task": false
    }
   },
   "source": [
    "### Part C\n",
    "\n",
    "What does the distribution look like for rolling __three__ six-sided dice at once?  __Ten__ dice?  (You'll need to be careful with how you adjust your bins to get a nice-looking distribution - especially for the case of ten dice, because the odds of actually rolling ten 1s at the same time are very low...)"
   ]
  },
  {
   "cell_type": "code",
   "execution_count": null,
   "metadata": {
    "collapsed": false,
    "jupyter": {
     "outputs_hidden": false
    },
    "nbgrader": {
     "grade": false,
     "grade_id": "cell-523062fa793d5742",
     "locked": false,
     "schema_version": 3,
     "solution": true,
     "task": false
    }
   },
   "outputs": [],
   "source": [
    "# "
   ]
  },
  {
   "cell_type": "markdown",
   "metadata": {
    "collapsed": false,
    "jupyter": {
     "outputs_hidden": false
    },
    "nbgrader": {
     "grade": false,
     "grade_id": "cell-2c852424e0799835",
     "locked": true,
     "schema_version": 3,
     "solution": false,
     "task": false
    }
   },
   "source": [
    "### Part D (optional challenge)\n",
    "\n",
    "Certain board or role-playing games sometimes call for the use of a 100-sided die (also known as a \"d100\".)  If you've ever seen a d100, you know they're large and somewhat impractical!  The largest common dice that are used for games are 20-sided dice (\"d20\".)\n",
    "\n",
    "To replace a d100, you could instead roll __five 20-sided dice__ (\"5d20\".)  Simulate the results - how different would this distribution be from a uniform distribution from 1-100, which the d100 provides?  What if you rolled __two 10-sided dice__, multiplied the result of one of them by 10, and added them together - is that a better approximation to a single d100?"
   ]
  },
  {
   "cell_type": "code",
   "execution_count": null,
   "metadata": {
    "collapsed": false,
    "jupyter": {
     "outputs_hidden": false
    },
    "nbgrader": {
     "grade": false,
     "grade_id": "cell-71431c8df9fcd812",
     "locked": false,
     "schema_version": 3,
     "solution": true,
     "task": false
    }
   },
   "outputs": [],
   "source": [
    "# "
   ]
  }
 ],
 "metadata": {
  "kernelspec": {
   "display_name": "Python 3 (ipykernel)",
   "language": "python",
   "name": "python3"
  },
  "language_info": {
   "codemirror_mode": {
    "name": "ipython",
    "version": 3
   },
   "file_extension": ".py",
   "mimetype": "text/x-python",
   "name": "python",
   "nbconvert_exporter": "python",
   "pygments_lexer": "ipython3",
   "version": "3.13.7"
  }
 },
 "nbformat": 4,
 "nbformat_minor": 4
}
