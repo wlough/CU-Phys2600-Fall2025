{
 "cells": [
  {
   "cell_type": "markdown",
   "metadata": {
    "editable": true,
    "nbgrader": {
     "grade": false,
     "grade_id": "cell-100899e0deea9789",
     "locked": true,
     "schema_version": 3,
     "solution": false,
     "task": false
    },
    "slideshow": {
     "slide_type": ""
    },
    "tags": []
   },
   "source": [
    "# Tutorial 13: Derivatives and finite differences\n",
    "\n",
    "## PHYS 2600"
   ]
  },
  {
   "cell_type": "code",
   "execution_count": null,
   "metadata": {
    "editable": true,
    "nbgrader": {
     "grade": false,
     "grade_id": "cell-e4302376dbe2ef21",
     "locked": true,
     "schema_version": 3,
     "solution": false,
     "task": false
    },
    "slideshow": {
     "slide_type": ""
    },
    "tags": []
   },
   "outputs": [],
   "source": [
    "%matplotlib inline\n",
    "\n",
    "import numpy as np\n",
    "import matplotlib.pyplot as plt"
   ]
  },
  {
   "cell_type": "markdown",
   "metadata": {
    "editable": true,
    "nbgrader": {
     "grade": false,
     "grade_id": "cell-ebd816a28c67aceb",
     "locked": true,
     "schema_version": 3,
     "solution": false,
     "task": false
    },
    "slideshow": {
     "slide_type": ""
    },
    "tags": []
   },
   "source": [
    "## T13.1 - Solving a simple ODE with Euler's method\n",
    "\n",
    "Let's work through a detailed example of numerical ODE solution, start to finish.  Although there are plenty of pre-built solvers, we'll start from scratch and implement our own solution with Euler's method, so you can understand all the pieces.\n",
    "\n",
    "Everyone does simple exponential growth, so that's a boring example.  Let's do the following equation instead:\n",
    "\n",
    "$$\n",
    "y'(x) = y(x) (1 - \\cos(4x))\n",
    "$$\n",
    "\n",
    "This isn't much worse to solve than exponential growth, actually: you can still just integrate to find the solution\n",
    "\n",
    "$$\n",
    "y(x) = C \\exp \\left[x-\\frac{\\sin(4x)}{4} \\right].\n",
    "$$\n",
    "\n",
    "and if we set the initial condition to $y(0) = 1$, then we simply have $C=1$.  __Run the cell below__ to plot the solution over the range `0 <= x <= 5`."
   ]
  },
  {
   "cell_type": "code",
   "execution_count": null,
   "metadata": {
    "editable": true,
    "nbgrader": {
     "grade": false,
     "grade_id": "cell-0291ef1396404238",
     "locked": true,
     "schema_version": 3,
     "solution": false,
     "task": false
    },
    "slideshow": {
     "slide_type": ""
    },
    "tags": []
   },
   "outputs": [],
   "source": [
    "x_exact = np.linspace(0,5,100)\n",
    "y_exact = np.exp(x_exact - 0.25*np.sin(4*x_exact))\n",
    "\n",
    "plt.plot(x_exact,y_exact)\n",
    "plt.xlabel('x')\n",
    "plt.ylabel('y(x)')"
   ]
  },
  {
   "cell_type": "markdown",
   "metadata": {
    "nbgrader": {
     "grade": false,
     "grade_id": "cell-077dcfe34bf44d9c",
     "locked": true,
     "schema_version": 3,
     "solution": false,
     "task": false
    }
   },
   "source": [
    "We'll use the analytic solution to compare with later, but now we need to set up our numerical solver.  We'll work through the steps of the algorithm outlined in lecture.  Given the equation\n",
    "\n",
    "$$\n",
    "u'(t) = F(u(t), t)\n",
    "$$\n",
    "\n",
    "we do the following:\n",
    "\n",
    "__(1)__ Discretize time $t \\rightarrow \\{t_i\\}$ and replace $u'(t)$ with the forward-difference $(u_{i+1} - u_i) / \\Delta t$.  This gives:\n",
    "\n",
    "$$\n",
    "u_{i+1} = u_i + F(u_i, t_i)\\ \\Delta t\n",
    "$$\n",
    "\n",
    "__(2)__ Iterate over the range of all $\\{t_i\\}$, starting at $t_0$.  Accumulate an array or list of results $\\{u_i\\}$:\n",
    "  - For each $t_i$, use the discrete equation with $u_i$ to find $u_{i+1}$.\n",
    "\n",
    "__(3)__ Return the result for $\\{u_i\\}$, which is a discrete approximation to the solution $u(t)$ over the discrete interval $\\{t_i\\}$.\n",
    "\n",
    "Let's begin with the first step.  __Write the discrete approximation__ to $y'(x) = y(x) (1 - \\cos(4x))$ in the cell below, in the form $y_{i+1} = ...$."
   ]
  },
  {
   "cell_type": "markdown",
   "metadata": {
    "nbgrader": {
     "grade": true,
     "grade_id": "cell-38cc0a89fccd0852",
     "locked": false,
     "points": 2,
     "schema_version": 3,
     "solution": true,
     "task": false
    }
   },
   "source": [
    "Following the formula written above $F(y_i, x_i) = y_i (1 - \\cos(4x_i))$, so\n",
    "\n",
    "$$\n",
    "y_{i+1} = y_i + y_i(1 - \\cos(4x_i)) \\Delta x.\n",
    "$$"
   ]
  },
  {
   "cell_type": "markdown",
   "metadata": {
    "nbgrader": {
     "grade": false,
     "grade_id": "cell-eb50d5ec30cb884a",
     "locked": true,
     "schema_version": 3,
     "solution": false,
     "task": false
    }
   },
   "source": [
    "### Part A: Set up the equation\n",
    "\n",
    "Since we'll have to evaluate this equation a lot, __fill out the function `euler_step(xi, yi, dx)` below__, which should __calculate and return $y_{i+1}$__ given the three quantities $x_i$, $y_i$, and the step size $\\Delta x$.  Then __run the test cell__ to make sure your function runs and passes the tests!\n",
    "\n",
    "_(Note: this function takes __individual numbers__, not NumPy arrays!  Because we're solving iteratively, there's no way to calculate the entire array $y_i$ at once; we'll have to go step by step again.)_"
   ]
  },
  {
   "cell_type": "code",
   "execution_count": null,
   "metadata": {
    "nbgrader": {
     "grade": true,
     "grade_id": "cell-17f2ecc08c212ae1",
     "locked": false,
     "points": 0,
     "schema_version": 3,
     "solution": true,
     "task": false
    }
   },
   "outputs": [],
   "source": [
    "def euler_step(xi, yi, dx):\n",
    "    #\n",
    "    "
   ]
  },
  {
   "cell_type": "code",
   "execution_count": null,
   "metadata": {
    "nbgrader": {
     "grade": true,
     "grade_id": "cell-fb755144c650a923",
     "locked": true,
     "points": 0,
     "schema_version": 3,
     "solution": false,
     "task": false
    }
   },
   "outputs": [],
   "source": [
    "import numpy.testing as npt\n",
    "\n",
    "npt.assert_allclose(euler_step(0., 1., 0.1), 1.0)\n",
    "npt.assert_allclose(euler_step(0.1, 1., 0.1), 1.0079, atol=1e-4)"
   ]
  },
  {
   "cell_type": "markdown",
   "metadata": {
    "nbgrader": {
     "grade": false,
     "grade_id": "cell-f41f7290cb14e7b1",
     "locked": true,
     "schema_version": 3,
     "solution": false,
     "task": false
    }
   },
   "source": [
    "### Part B: Choose your step size and interval\n",
    "\n",
    "Now we need a discrete set of $x$-values to run our solution over.  Even though we'll just be operating one element at a time, it's still convenient to use NumPy arrays to store everything we're working with here.\n",
    "\n",
    "Let's take the interval of solution to be $x$ from 0 to 5, matching the plot we made above, and let's begin with a relatively large step size of $\\Delta x = 0.1$.  __Create a NumPy array `x_sol`__ which matches these properties.  (Since we want to decide on the step size ourselves, you should probably use `np.arange` instead of `np.linspace`.)\n",
    "\n",
    "Then, __create a second array `y_sol`__ which should have the following properties:\n",
    "\n",
    "- It should be the same length as `x_sol`;\n",
    "- All of the entries in `y_sol` should be 0.0;\n",
    "- Except for the _first_ entry, which you should set to the initial value $y(0) = 1.0$.\n"
   ]
  },
  {
   "cell_type": "code",
   "execution_count": null,
   "metadata": {
    "nbgrader": {
     "grade": true,
     "grade_id": "cell-044d58e6dbce5b95",
     "locked": false,
     "points": 0,
     "schema_version": 3,
     "solution": true,
     "task": false
    }
   },
   "outputs": [],
   "source": [
    "#"
   ]
  },
  {
   "cell_type": "code",
   "execution_count": null,
   "metadata": {
    "nbgrader": {
     "grade": true,
     "grade_id": "cell-79817458935517f7",
     "locked": true,
     "points": 0,
     "schema_version": 3,
     "solution": false,
     "task": false
    }
   },
   "outputs": [],
   "source": [
    "assert len(x_sol) == 51\n",
    "assert len(y_sol) == 51\n",
    "assert abs(y_sol[0] - 1.0) < 1e-8\n",
    "assert abs(np.sum(y_sol) - 1.0) < 1e-8"
   ]
  },
  {
   "cell_type": "markdown",
   "metadata": {
    "nbgrader": {
     "grade": false,
     "grade_id": "cell-e005f3225b0e4ce3",
     "locked": true,
     "schema_version": 3,
     "solution": false,
     "task": false
    }
   },
   "source": [
    "### Part C: Find the solution\n",
    "\n",
    "Now that we have everything set up, we just need to repeatedly step forward from $i=0$.  __Write some code below to fill `y_sol` with the solution__, using `euler_step` from above.  \n",
    "\n",
    "Since we have to step through an array one entry at a time, we should use a `for` loop!  In each iteration of the loop, you should compute the step for one value of `i`, and then store the result to `y_sol[i+1]`.\n",
    "\n",
    "_(Hint: this is a variation of the accumulator pattern; since we're using an array initialized to zero, we don't have to append when we accumulate, we just change the value of the `i+1`-th entry.)_"
   ]
  },
  {
   "cell_type": "code",
   "execution_count": null,
   "metadata": {
    "nbgrader": {
     "grade": true,
     "grade_id": "cell-983d8471099dafc1",
     "locked": false,
     "points": 0,
     "schema_version": 3,
     "solution": true,
     "task": false
    }
   },
   "outputs": [],
   "source": [
    "#"
   ]
  },
  {
   "cell_type": "markdown",
   "metadata": {
    "nbgrader": {
     "grade": false,
     "grade_id": "cell-d4fc341284ef0f8b",
     "locked": true,
     "schema_version": 3,
     "solution": false,
     "task": false
    }
   },
   "source": [
    "Now let's have a look at what we got!  I've repeated the plot of the exact solution below: __add `y_sol` to the plot to see how it compares.__  (Make sure to use the `label=` argument, and label the plot of `y_sol` as \"Euler\".  The `plt.legend()` command will then read the labels and give you a nice legend telling you which curve is which.)"
   ]
  },
  {
   "cell_type": "code",
   "execution_count": null,
   "metadata": {
    "nbgrader": {
     "grade": false,
     "grade_id": "cell-76cf3c1cc3da244b",
     "locked": false,
     "schema_version": 3,
     "solution": true,
     "task": false
    }
   },
   "outputs": [],
   "source": [
    "plt.plot(x_exact, y_exact, color='k', label='exact')\n",
    "plt.xlabel('x')\n",
    "plt.ylabel('y(x)')\n",
    "\n",
    "#\n",
    "plt.legend()"
   ]
  },
  {
   "cell_type": "markdown",
   "metadata": {
    "nbgrader": {
     "grade": false,
     "grade_id": "cell-3f17b6c03a353dbf",
     "locked": true,
     "schema_version": 3,
     "solution": false,
     "task": false
    }
   },
   "source": [
    "Not bad; we captured the overall shape of the solution pretty well.  But the two curves are getting further apart as $t$ increases!  This is characteristic of iterative solutions like this.  The error of a single step is proportional to the step size, but the error in $y(5)$ is __cumulative__, since it depends on the results of all 50 previous steps!\n",
    "\n",
    "### Part D: Exploring convergence\n",
    "\n",
    "Short of changing methods, we can always try to get a better answer from our existing algorithm just by reducing the step size $\\Delta x$.  But if we want to compare multiple step sizes, we'll have to do lots of copy-pasting to keep multiple solutions at once.  \n",
    "\n",
    "Instead, let's just collect our code from above into a function.  __Copy in and modify your code from step 3 to implement the function `euler_solve(dx)` below__, which should return the tuple of arrays `(x_sol, y_sol)` for any choice of step size `dx`.  For this simple example we won't bother letting the interval or initial conditions vary.\n",
    "\n"
   ]
  },
  {
   "cell_type": "code",
   "execution_count": null,
   "metadata": {
    "nbgrader": {
     "grade": false,
     "grade_id": "cell-dbf6938edd80b7d9",
     "locked": false,
     "schema_version": 3,
     "solution": true,
     "task": false
    }
   },
   "outputs": [],
   "source": [
    "def euler_solve(dx):\n",
    "    \"\"\"\n",
    "    Solve the example differential equation using Euler's method,\n",
    "    for the given step size dx.\n",
    "    \n",
    "    x-interval is fixed to (0,5), initial condition is y(0)=1.\n",
    "    \n",
    "    Arguments:\n",
    "    ----\n",
    "    * dx: step size to use over the interval (0,5).\n",
    "    \n",
    "    Returns:\n",
    "    ----\n",
    "    * x_sol, y_sol: arrays containing the discretized interval {x_i} and the solution {y_i}.\n",
    "    \"\"\"\n",
    "    \n",
    "    #\n",
    "    "
   ]
  },
  {
   "cell_type": "markdown",
   "metadata": {
    "nbgrader": {
     "grade": false,
     "grade_id": "cell-338b5e5067158405",
     "locked": true,
     "schema_version": 3,
     "solution": false,
     "task": false
    }
   },
   "source": [
    "Now it's easy to iterate over a few different values of `dx`, and plot each of them.  I've set up a list of `dx` values to test, and plotted the exact solution for you again.  __Fill in the code in the `for` loop to plot each solution curve for the `dx` values in `dx_list`.__  \n",
    "\n",
    "_(Hint: don't forget to give a `label` string in the loop, so that you can tell which is which when you run `plt.legend()` at the end!)_"
   ]
  },
  {
   "cell_type": "code",
   "execution_count": null,
   "metadata": {
    "nbgrader": {
     "grade": true,
     "grade_id": "cell-e56255d54001c3cb",
     "locked": true,
     "points": 0,
     "schema_version": 3,
     "solution": false,
     "task": false
    }
   },
   "outputs": [],
   "source": [
    "dx_list = (0.1, 0.05, 0.01)\n",
    "plt.plot(x_exact, y_exact, color='k', label='exact')\n",
    "\n",
    "for dx in dx_list:\n",
    "    #\n",
    "    #\n",
    "    #\n",
    "    \n",
    "plt.legend()\n",
    "\n",
    "## Uncomment these lines to zoom in!\n",
    "#plt.xlim(0,2)\n",
    "#plt.ylim(0,6)"
   ]
  },
  {
   "cell_type": "markdown",
   "metadata": {
    "nbgrader": {
     "grade": false,
     "grade_id": "cell-28e49289ce251d8c",
     "locked": true,
     "schema_version": 3,
     "solution": false,
     "task": false
    }
   },
   "source": [
    "So `dx=0.01` is already a vast improvement; if we wanted it to agree perfectly by eye with the exact solution (black curve), we can probably guess that going down to `dx=0.001` would be more than sufficient.  If we wanted to be more serious about it, we could plot the value of $y(5)$ against the step size `dx`.  __Run the cell below__ to see the step-size dependence of your solution!"
   ]
  },
  {
   "cell_type": "code",
   "execution_count": null,
   "metadata": {
    "nbgrader": {
     "grade": true,
     "grade_id": "cell-046ccd0b5801d00e",
     "locked": true,
     "points": 0,
     "schema_version": 3,
     "solution": false,
     "task": false
    }
   },
   "outputs": [],
   "source": [
    "y_final_list = []\n",
    "y5_exact = 118.127398  # y(5) from exact solution\n",
    "\n",
    "dx_list_2 = np.linspace(0.01, 0.1, 20)\n",
    "\n",
    "for dx in dx_list_2:\n",
    "    x_sol_dx, y_sol_dx = euler_solve(dx)\n",
    "    y_final_list.append(y_sol_dx[-1])\n",
    "    \n",
    "plt.scatter(dx_list_2, y_final_list, label='Euler')\n",
    "plt.scatter(0, y5_exact, color='red', label='exact (dx=0)')\n",
    "plt.xlabel('dx')\n",
    "plt.ylabel('y(5)')\n",
    "plt.legend()"
   ]
  },
  {
   "cell_type": "markdown",
   "metadata": {
    "nbgrader": {
     "grade": false,
     "grade_id": "cell-2fe18f4a9518f13f",
     "locked": true,
     "schema_version": 3,
     "solution": false,
     "task": false
    }
   },
   "source": [
    "It's pretty obvious from this plot that up to some small variations, the accumulated error in $y(5)$ is linear in `dx`.  So __even if we didn't know the exact solution__, we can get close by tuning `dx` to be small, and we can get even closer by _extrapolating_ `dx` to zero.  (How to actually do the extrapolation is a story for another day...)\n",
    "\n",
    "### Bonus part E (optional challenge): other solution methods\n",
    "\n",
    "As I mentioned in class, there are several implementations of more accurate ODE solution methods readily available in Python modules.  As always, a good place to start looking is the SciPy module, where you'll find ODE solvers in the submodule [scipy.integrate](https://docs.scipy.org/doc/scipy/reference/integrate.html).\n",
    "\n",
    "A common interface to several underlying methods is provided by the `scipy.integrate.solve_ivp` function.  Uncomment and run the cell below to bring up its documentation string."
   ]
  },
  {
   "cell_type": "code",
   "execution_count": null,
   "metadata": {},
   "outputs": [],
   "source": [
    "import scipy.integrate as si\n",
    "\n",
    "# si.solve_ivp?"
   ]
  },
  {
   "cell_type": "markdown",
   "metadata": {
    "nbgrader": {
     "grade": false,
     "grade_id": "cell-6ca4ceb8c156bcbe",
     "locked": true,
     "schema_version": 3,
     "solution": false,
     "task": false
    }
   },
   "source": [
    "Use `si.solve_ivp` with the default method, `'RK45'` (fourth-order Runge-Kutta), to solve the same equation we've been studying with Euler's method.\n",
    "\n",
    "_(Note: the_ `solve_ivp` _function returns something called a \"bunch object\".  What that means is that it has all of the results you want stored as __properties__, which we access with dot notation.  For example, if we call_ `solution = si.solve_ivp(...)`, _then `solution.t` and `solution.y` are the arrays of points for the independent and dependent variable.)_\n",
    "\n",
    "_(Another note: by default_ `si.solve_ivp` _won't return very many points in the interval where it's solving.  If you want to make a good plot, give the option_ `t_eval=np.linspace(0,5,100)` _to produce a more continuous set of points suitable for plotting.)_"
   ]
  },
  {
   "cell_type": "code",
   "execution_count": null,
   "metadata": {
    "nbgrader": {
     "grade": true,
     "grade_id": "cell-cb72ef145fa4922a",
     "locked": false,
     "points": 0,
     "schema_version": 3,
     "solution": true,
     "task": false
    }
   },
   "outputs": [],
   "source": [
    "#"
   ]
  },
  {
   "cell_type": "markdown",
   "metadata": {
    "nbgrader": {
     "grade": false,
     "grade_id": "cell-a0029893c1eecbf9",
     "locked": true,
     "schema_version": 3,
     "solution": false,
     "task": false
    }
   },
   "source": [
    "__Important note:__ you'll notice from the documentation that `solve_ivp` has no option to choose the step size `dx`!  Instead, it just takes a tuple `(xi, xf)` defining the solution interval, and the arguments `atol` (absolute tolerance) and `rtol` (relative tolerance) that specify the accuracy we want our solution to have.  The appropriate step size is then calculated from the required error tolerance and the known error formulas for the algorithm used.\n",
    "\n",
    "This is, of course, a much more sophisticated approach than just setting `dx` and hoping for the best as we were doing above!  But working with step size was still a good exercise; even if we can do better for simple one-dimensional ODEs, there are lots of interesting systems (like solving Maxwell's equations) where it's much harder to prove any strict error bound, and we would be back to controlling step size directly.\n",
    "\n",
    "__Make a plot to compare your Runge-Kutta result to the exact solution__.  Again, if the plot looks unexpectedly blocky, go back above and try adjusting the optional `t_eval=...` option for `solve_ivp`."
   ]
  },
  {
   "cell_type": "code",
   "execution_count": null,
   "metadata": {
    "nbgrader": {
     "grade": true,
     "grade_id": "cell-a406b351a6303876",
     "locked": false,
     "points": 0,
     "schema_version": 3,
     "solution": true,
     "task": false
    }
   },
   "outputs": [],
   "source": [
    "#"
   ]
  }
 ],
 "metadata": {
  "kernelspec": {
   "display_name": "Python 3 (ipykernel)",
   "language": "python",
   "name": "python3"
  },
  "language_info": {
   "codemirror_mode": {
    "name": "ipython",
    "version": 3
   },
   "file_extension": ".py",
   "mimetype": "text/x-python",
   "name": "python",
   "nbconvert_exporter": "python",
   "pygments_lexer": "ipython3",
   "version": "3.13.7"
  }
 },
 "nbformat": 4,
 "nbformat_minor": 4
}
