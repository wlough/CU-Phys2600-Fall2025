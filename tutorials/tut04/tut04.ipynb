{
 "cells": [
  {
   "cell_type": "markdown",
   "id": "6772c29a-cade-4549-bae3-6c962b3c498f",
   "metadata": {},
   "source": [
    "# Tutorial 4: Functions and Scope\n",
    "\n",
    "## PHYS 2600"
   ]
  },
  {
   "cell_type": "markdown",
   "id": "d7a12248-2170-4049-9d8e-f6194185ba70",
   "metadata": {},
   "source": [
    "## T4.1 - A deep dive with variables and scope\n",
    "\n",
    "_(Special note: part A of this first problem is a __worked example__, which we'll go through together in class.  You are encouraged to fill this in as you follow along, but you won't be graded on whether you've completed it or not.)_\n",
    "\n",
    "### Part A\n",
    "\n",
    "Let's dig into a more complicated example of a function definition, and see what's happening with variables and their scope, line by line.  We'll make the function itself really simple: it will be called `triple(x)`, and will return 3 times whatever `x` is.  \n",
    "\n",
    "Consider the following code, but __do not run it yet:__"
   ]
  },
  {
   "cell_type": "code",
   "execution_count": 8,
   "id": "5e016751-9254-42d0-969e-74d400e9b18d",
   "metadata": {},
   "outputs": [
    {
     "name": "stdout",
     "output_type": "stream",
     "text": [
      "Inside triple, x is: 3 and y is: 3\n",
      "Inside triple, x is: 4 and y is: 3\n",
      "Triple sum: 21\n",
      "At the end, x is: 2\n"
     ]
    }
   ],
   "source": [
    "x=2\n",
    "y=3\n",
    "\n",
    "def triple(x):\n",
    "    print(\"Inside triple, x is:\", x, \"and y is:\", y)\n",
    "    z=3*x\n",
    "    return z\n",
    "\n",
    "print(\"Triple sum:\", triple(3) + triple(4))\n",
    "print(\"At the end, x is:\", x)"
   ]
  },
  {
   "cell_type": "markdown",
   "id": "b3f1b146-b709-44e3-b654-ba55c3288922",
   "metadata": {},
   "source": [
    "Now, let's make sure we understand how variables and scope work by __predicting what will happen in the code, step by step.__  In class, I'll do this (with your help!) at the blackboard.  If you're working this exercise at home, make a blank Markdown cell or use a sheet of paper to predict what the code will do.  \n",
    "\n",
    "For context, here's an example sketch of what the global and local namespaces look like after we call `triple(4)`:\n",
    "\n",
    "<!-- <img src=\"scopes.png\" width=500px /> -->\n",
    "<img src=\"https://raw.githubusercontent.com/wlough/CU-Phys2600-Fall2025/main/tutorials/tut04/scopes.png\" width=500px />\n",
    "\n",
    "When you're finished with your prediction, run the cell and see if the output is what you expected.  Then __check your prediction__ by running the code above through the [Python Tutor](http://www.pythontutor.com/visualize.html#mode=edit).\n",
    "\n",
    "__For the rest of this problem, continue on your own.__\n",
    "\n",
    "### Part B\n",
    "\n",
    "As the diagram hints, we can access global scope from inside a function as well, as long as we don't override the variable name.  __Predict the output of the following example__, and then run it:"
   ]
  },
  {
   "cell_type": "code",
   "execution_count": null,
   "id": "c2184c04-75be-4ed7-88b5-66ddbaaeab82",
   "metadata": {},
   "outputs": [],
   "source": [
    "n=3\n",
    "\n",
    "def global_pow(x):\n",
    "    return x**n\n",
    "\n",
    "print(global_pow(3))\n",
    "\n",
    "n=4\n",
    "print(global_pow(3))"
   ]
  },
  {
   "cell_type": "markdown",
   "id": "d2381f10-8432-4ef5-bcdc-a7f3761ac28f",
   "metadata": {},
   "source": [
    "__Why does changing `n` work like this__, if we do it _after_ we've defined the `global_pow` function already?!  (The answer has to do with _when_ the statement `return x**n` is actually evaluated; again, try the Python Tutor if you're stuck.)"
   ]
  },
  {
   "cell_type": "markdown",
   "id": "54461158-1529-4b8f-8944-bab2e78fa461",
   "metadata": {},
   "source": [
    "There is no `n` in the local namespace of `global_pow`, so when we call it, it uses the _current_ value of `n` from the _global_ namespace - hence, its behavior changes when we change `n`."
   ]
  },
  {
   "cell_type": "markdown",
   "id": "1f077659-931c-419b-81ef-ad8e40da11ab",
   "metadata": {},
   "source": [
    "You should keep in mind that using global variables in this way is almost always a bad idea!  There are two major reasons:\n",
    "\n",
    "1. The code is much less clear; to know what `global_pow()` will actually do, you have to go backwards to find where `n` was defined last.\n",
    "2. If $n$ is used somewhere else in your code, the behavior of `global_pow()` can suddenly and unexpectedly change!\n",
    "\n",
    "### Part C\n",
    "\n",
    "Since using global variables has those drawbacks, let's implement a better `pow` function using keyword arguments - which will reveal another surprising behavior!  Again, __predict the output of the following code__, then run it:"
   ]
  },
  {
   "cell_type": "code",
   "execution_count": null,
   "id": "b23cc03d-e50a-464d-adb5-fce5653cb2bb",
   "metadata": {},
   "outputs": [],
   "source": [
    "n=2\n",
    "\n",
    "def keyword_pow(x, n=n):\n",
    "    return x**n\n",
    "\n",
    "print(keyword_pow(3))\n",
    "print(keyword_pow(3,n=5))\n",
    "\n",
    "n=3\n",
    "print(keyword_pow(3))\n",
    "print(keyword_pow(3, n=n))"
   ]
  },
  {
   "cell_type": "markdown",
   "id": "e3173506-3ff6-441b-89cc-f1cd896cc322",
   "metadata": {},
   "source": [
    "Once again, if you get stuck the Python Tutor will help.  Answer the following questions:\n",
    "\n",
    "- What does the bizarre-looking statement `n=n` actually do?\n",
    "- Why doesn't the behavior of `keyword_pow(3)` change after we change the global value of `n` to 3?"
   ]
  },
  {
   "cell_type": "markdown",
   "id": "6a047da6-e976-4171-8719-ac8a8dccb3d0",
   "metadata": {},
   "source": [
    "The key point to understanding the behavior of the above code is this: although everything _inside_ a function is stored and not executed until later, the function header itself is __evaluated at the moment that we define it__.\n",
    "\n",
    "This means that at the moment where we define the function header, `n=n` really means\n",
    "\n",
    "`(local) n = (global) n`.  \n",
    "\n",
    "(You can think of the statement `n=n` as \"handing off\" the value of `n` from global to local scope.)\n",
    "\n",
    "Remembering that in Python, the right-hand side of any assignment is evaluated first, the function definition reads the global value `n=2`, then assigns that as the default function argument for `n`.  This is also why the `n=3` appearing later doesn't do anything: the function definition has _already happened_, setting `n=2`."
   ]
  },
  {
   "cell_type": "markdown",
   "id": "477b4df7-2bdd-4262-88ba-893f045e0d2b",
   "metadata": {},
   "source": [
    "## T4.2 - Making your own functions\n",
    "\n",
    "Let's start with some basic practice making our own functions.  Each of the code examples below contains a function call for a function that hasn't been implemented yet.  In each part below, __write the function in the first cell__ so that the code in the second cell works correctly.\n",
    "\n",
    "### Part A\n",
    "\n",
    "We want a function called `hello` that takes no arguments, and returns the string `Hello, world!` when it is called."
   ]
  },
  {
   "cell_type": "code",
   "execution_count": null,
   "id": "38da6b30-9981-4c0d-9290-d485e340cfce",
   "metadata": {},
   "outputs": [],
   "source": [
    "# Write your function here"
   ]
  },
  {
   "cell_type": "code",
   "execution_count": null,
   "id": "9043afea-fea3-4ceb-b6de-776ed89e6b18",
   "metadata": {},
   "outputs": [],
   "source": [
    "## Don't delete me! You should run this after you implement the function above.\n",
    "\n",
    "print(hello())\n",
    "\n",
    "# Note: this should print only \"Hello, world!\" - if you see \"None\" printed out as well, your function is incorrect!\n",
    "# Remember that you should _return_ the string from your function."
   ]
  },
  {
   "cell_type": "markdown",
   "id": "b847b9a4-b888-494d-899c-12df847cc1e0",
   "metadata": {},
   "source": [
    "### Part B\n",
    "\n",
    "We want a function called `dist_origin` that takes two numbers `x` and `y`, and computes the distance from the origin $(0,0)$ to the point $(x,y)$.  (You'll need to import a square-root function from somewhere!)"
   ]
  },
  {
   "cell_type": "code",
   "execution_count": null,
   "id": "fc5a3d3b-9d3c-4800-8564-b3873bdef76f",
   "metadata": {},
   "outputs": [],
   "source": [
    "# Write your function here"
   ]
  },
  {
   "cell_type": "code",
   "execution_count": null,
   "id": "37083337-f283-414d-b02f-42b8a403c09a",
   "metadata": {},
   "outputs": [],
   "source": [
    "## Don't delete me! You should run this after you implement the function above.\n",
    "\n",
    "print(dist_origin(3,4))  # should print 5.0\n",
    "print(dist_origin(1,-1)) # should print about 1.41"
   ]
  },
  {
   "cell_type": "markdown",
   "id": "31edf8f7-a7af-4167-905f-2eedc264d86a",
   "metadata": {},
   "source": [
    "### Part C\n",
    "\n",
    "A generalization of the distance function $d = \\sqrt{x^2 + y^2}$ in mathematics is the __p-norm__, which is defined as follows for a two-dimensional vector:\n",
    "\n",
    "$$\n",
    "d_p \\equiv (|x|^p + |y|^p)^{1/p}.\n",
    "$$\n",
    "\n",
    "For $p = 2$ this is just the usual distance to the origin; if we take $p=1$, it is the sum of the lengths along the $x$ and $y$ directions (the \"taxicab distance\".)\n",
    "\n",
    "Write a function called `p_norm_dist()` that takes two __positional arguments__, `x` and `y`, and a single __keyword argument__ `p` (with default value 2).\n",
    "\n",
    "(_Hint: don't forget the absolute values!  You can use the built-in `abs()` function._)"
   ]
  },
  {
   "cell_type": "code",
   "execution_count": null,
   "id": "b72649b6-6499-41de-b313-742826155446",
   "metadata": {},
   "outputs": [],
   "source": [
    "# Write your function here"
   ]
  },
  {
   "cell_type": "code",
   "execution_count": null,
   "id": "e7af3abb-d7d8-4bc3-ad4d-18556cae78b7",
   "metadata": {},
   "outputs": [],
   "source": [
    "## Don't delete me! You should run this after you implement the function above.\n",
    "\n",
    "print(p_norm_dist(3,4))          # Should print 5.0 again\n",
    "print(p_norm_dist(3,4,p=1))      # Should print 7.0\n",
    "print(p_norm_dist(x=1,y=-1))     # Should print 1.41... again\n",
    "print(p_norm_dist(x=1,y=-1,p=1)) # Should print 2.0\n",
    "\n",
    "print(p_norm_dist(7,3,p=100))    # Should print 7.0"
   ]
  },
  {
   "cell_type": "markdown",
   "id": "5036a4e1-5ab0-4618-b69d-349bf0f2dcd1",
   "metadata": {},
   "source": [
    "### Part D\n",
    "\n",
    "Whenever we're using a function, and _especially_ if it's imported from a module, it is important to know the __call signature__ of that function.  In short:\n",
    "\n",
    "- What are the arguments called?\n",
    "- What order are they in?\n",
    "- Which arguments have default values (and what are they?)\n",
    "\n",
    "In Python, the call signature is simply the header line.  But if we're importing from a module, we don't want to have to go read that module's source code!\n",
    "\n",
    "Fortunately, Jupyter provides a better way, through something called a __magic command__.  Magic commands (or \"Jupyter magic\") are special instructions that are not part of Python, but are understood by Jupyter.\n",
    "\n",
    "For dealing with functions, the `?` magic command is essential.  Try it on the function you just wrote: in the cell below, type `p_norm_dist?` and look for the pop-up at the bottom of the screen!\n",
    "\n",
    "Then give it a try on another module: enter `math.log?`.  (If you get an error, make sure `math` has been imported in your current kernel.)"
   ]
  },
  {
   "cell_type": "code",
   "execution_count": null,
   "id": "70fc5ace-c171-4cca-a665-4ea130172b0c",
   "metadata": {},
   "outputs": [],
   "source": []
  },
  {
   "cell_type": "markdown",
   "id": "b26ac97a-39f4-484f-9f93-630f872dede8",
   "metadata": {},
   "source": [
    "## T4.3 - Mixing scope with the `global` keyword\n",
    "\n",
    "There's one question I never addressed about scope in the materials so far: can you _write_ to global variables from inside of a local scope?  The answer is sort of, but it leads to one of the most complicated parts of Python's scoping rules.  For your information, we'll go through that case now.\n",
    "\n",
    "This section comes with a caveat: _you should almost never use the `global` keyword!_  Just as is the case with the global variable example we saw in lecture, modification of global variables breaks the principle of __encapsulation__, that a function should just be concerned with things locally available to it.  Encapsulation makes it much easier to diagnose errors; if your code depends on global scope, you have to look _everywhere_ for the problem!\n",
    "\n",
    "### Part A\n",
    "\n",
    "\n",
    "Although the variables in global namespace are visible within the scope of a function, Python actually distinguishes between _reading_ and _writing_ such variables.  Consider the following example code:"
   ]
  },
  {
   "cell_type": "code",
   "execution_count": null,
   "id": "aefe27e4-9212-4952-8b41-b8ef4daa478d",
   "metadata": {},
   "outputs": [],
   "source": [
    "n=2\n",
    "\n",
    "def adder():\n",
    "    n += 1\n",
    "\n",
    "adder()\n",
    "print(n)"
   ]
  },
  {
   "cell_type": "markdown",
   "id": "5c12484c-c3ba-403c-85b8-b49bfbb5af26",
   "metadata": {},
   "source": [
    "First, read the code and make sure you understand what it's supposed to do, and what the expected outcome of the final `print(n)` is.  Then, run the code and notice that you get an error message, specifically an `UnboundLocalError`.  This is because Python's default behavior is to _not_ allow writing to global variables inside of local scope.\n",
    "\n",
    "However, we can overrule this behavior by using the `global` keyword.  The statement `global x` tells Python that we want to be able to make full use of the global-namespace variable `x` in our local scope.  __Use the `global` keyword to fix the code above__, so that `adder()` has the expected outcome."
   ]
  },
  {
   "cell_type": "markdown",
   "id": "0ca671e3-e5a0-4c89-bde4-0d77659b4cc9",
   "metadata": {},
   "source": [
    "### Part B\n",
    "\n",
    "One more example of using global scope.  The _Fibonacci sequence_ is defined by the formula\n",
    "\\\\[\n",
    "F_n = F_{n-1} + F_{n-2}\n",
    "\\\\]\n",
    "along with the definitions $F_0 = F_1 = 1$.  Let's make use of global scope to compute numbers from this sequence.  In the cell below, implement a function `iterate_fib()` which uses the values of the global variables `Fn_minus_one` and `Fn_minus_two` to compute the next value in the sequence.  \n",
    "\n",
    "`iterate_fib()` should __return__ the value $F_n$, and also change `Fn_minus_one` and `Fn_minus_two` to prepare for the next time the function is called.  Remember that the `global` keyword is needed if you're going to assign to variables outside the local scope in a function."
   ]
  },
  {
   "cell_type": "code",
   "execution_count": null,
   "id": "8c0b29d3-c627-4bfb-ab42-f0a4f7d306cb",
   "metadata": {},
   "outputs": [],
   "source": [
    "Fn_minus_one = 1\n",
    "Fn_minus_two = 1\n",
    "\n",
    "def iterate_fib():\n",
    "    # Your implementation here"
   ]
  },
  {
   "cell_type": "code",
   "execution_count": null,
   "id": "27abe405-72d3-4159-96ee-9ef694c5fc72",
   "metadata": {},
   "outputs": [],
   "source": [
    "## Testing cell; should run without error if your implementation above works!\n",
    "\n",
    "Fn_minus_one = 1\n",
    "Fn_minus_two = 1\n",
    "\n",
    "assert (iterate_fib() == 2)\n",
    "assert (iterate_fib() == 3)\n",
    "assert (iterate_fib() == 5)\n",
    "assert (iterate_fib() == 8)\n",
    "assert (iterate_fib() == 13)"
   ]
  }
 ],
 "metadata": {
  "kernelspec": {
   "display_name": "Python 3 (ipykernel)",
   "language": "python",
   "name": "python3"
  },
  "language_info": {
   "codemirror_mode": {
    "name": "ipython",
    "version": 3
   },
   "file_extension": ".py",
   "mimetype": "text/x-python",
   "name": "python",
   "nbconvert_exporter": "python",
   "pygments_lexer": "ipython3",
   "version": "3.13.7"
  }
 },
 "nbformat": 4,
 "nbformat_minor": 5
}
