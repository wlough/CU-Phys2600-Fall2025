{
 "cells": [
  {
   "cell_type": "markdown",
   "id": "74e947b9-a817-4591-a7a2-f1f4cf0a50a4",
   "metadata": {},
   "source": [
    "### Tutorial 3: Variables and Strings\n",
    "\n",
    "## PHYS 2600, Fall 2025\n",
    "\n"
   ]
  },
  {
   "cell_type": "markdown",
   "id": "16a9fba2-d3a9-4d7f-9c53-dfd18c083d0a",
   "metadata": {
    "editable": true,
    "slideshow": {
     "slide_type": ""
    },
    "tags": []
   },
   "source": [
    "## T3.1 - Using variables and assignment\n",
    "\n",
    "To start:\n",
    "\n",
    "1. Save a copy of this tutorial in your google drive using **File->Save a copy in Drive**\n",
    "2. Rename to: `tut03_lastname_firstname.ipynb`.\n",
    "\n",
    "\n",
    "Let's begin with some practice using variables and the assignment operator `=`.\n",
    "\n"
   ]
  },
  {
   "cell_type": "markdown",
   "id": "3324e12b-c8f8-42e7-9639-85770583fd73",
   "metadata": {
    "editable": true,
    "slideshow": {
     "slide_type": ""
    },
    "tags": []
   },
   "source": [
    "### Part A\n",
    "\n",
    "Try to run the cell below - __why doesn't it work?__  Fix the code so that the cell runs and prints the answer (5)."
   ]
  },
  {
   "cell_type": "code",
   "execution_count": null,
   "id": "3de98937-5868-4baa-bfe8-43a889930e39",
   "metadata": {
    "editable": true,
    "slideshow": {
     "slide_type": ""
    },
    "tags": []
   },
   "outputs": [],
   "source": [
    "C = A + B\n",
    "A = 2\n",
    "B = 3\n",
    "print(C)\n",
    "\n"
   ]
  },
  {
   "cell_type": "markdown",
   "id": "6e8bf694-e743-4f44-81f2-0eb9b9d0cf20",
   "metadata": {},
   "source": [
    "Now, another example that fails.  __What is going wrong?__  Again, fix the code so it will print $u^2$ and $v^2$, but also print the correct answer for the sum of squares ($u^2 + v^2 = 25.$)  \n",
    "\n",
    "(If you're confused, use the [Python Tutor](http://www.pythontutor.com/visualize.html#mode=edit) to trace through the execution; or try printing out `u_sq` on its own before the last line.)"
   ]
  },
  {
   "cell_type": "code",
   "execution_count": null,
   "id": "6da02e90-b342-436d-bec0-2a13958bbe48",
   "metadata": {
    "editable": true,
    "slideshow": {
     "slide_type": ""
    },
    "tags": []
   },
   "outputs": [],
   "source": [
    "u = 3\n",
    "v = 4\n",
    "\n",
    "u_sq = print(u**2)\n",
    "v_sq = print(v**2)\n",
    "\n",
    "print(u_sq + v_sq)"
   ]
  },
  {
   "cell_type": "markdown",
   "id": "7e903ca7-4590-40a2-af9d-ee77e200b2e4",
   "metadata": {},
   "source": [
    "### Part B\n",
    "\n",
    "The cell below defines variables `pi` and `r`, containing the constant $\\pi$ and the radius of a circle $r$.  Use the variables to calculate the area of a circle with the given radius of 2 meters.  __Save your answer to the variable `area`.__"
   ]
  },
  {
   "cell_type": "code",
   "execution_count": null,
   "id": "63a41630-5bb5-4996-b964-8d9d55c02972",
   "metadata": {},
   "outputs": [],
   "source": [
    "pi = 3.14159\n",
    "r = 2\n",
    "\n",
    "area = "
   ]
  },
  {
   "cell_type": "markdown",
   "id": "5674de59-6a6e-4029-99fd-fd9bc1a81137",
   "metadata": {},
   "source": [
    "Once you've finished the cell above, run the below __testing cell__.  If you did everything right, the cell below will _run and produce no output_: this means your code passes the test.  On the other hand, if there is a problem, you will see an _error message_ when you run the cell below.\n",
    "\n",
    "(These testing cells will be very common in tutorial and homework, as ways to check that your code is working correctly.)"
   ]
  },
  {
   "cell_type": "code",
   "execution_count": null,
   "id": "e0be9979-821e-4f58-8617-7adfd90abd89",
   "metadata": {},
   "outputs": [],
   "source": [
    "## Testing cell - read the Markdown cell above, then run me!\n",
    "# Don't worry about the syntax here yet - you'll learn to write your own tests soon.\n",
    "\n",
    "assert (area - 12.566) <= 0.001"
   ]
  },
  {
   "cell_type": "markdown",
   "id": "b042536f-db16-4e16-b630-f73a9f433db6",
   "metadata": {},
   "source": [
    "Now we'd like to find the area of a circle with a radius of 5 meters instead.  _Why doesn't the cell below work as written?_  Once you think you know the problem, __modify the code to print the right area__ (the answer should be about 78.5.)\n",
    "\n",
    "(If you're not sure what's going wrong, copy your code from the first cell and from the one below into the [Python Tutor](http://www.pythontutor.com/visualize.html#mode=edit) and see what happens line by line.)"
   ]
  },
  {
   "cell_type": "code",
   "execution_count": null,
   "id": "19c6886c-8557-4fd7-bc56-6ab9a1ca2b9d",
   "metadata": {},
   "outputs": [],
   "source": [
    "r = 5  # Update r to 5 meters\n",
    "\n",
    "\n",
    "area"
   ]
  },
  {
   "cell_type": "markdown",
   "id": "4ebca5b7-eea8-4610-ac99-402e0f97391f",
   "metadata": {},
   "source": [
    "## T3.2 - String formatting\n",
    "\n",
    "Let's get some practice with string formatting.  Using an f-string and the two variables set below, `print` the following statement:\n",
    "\n",
    "`40% of all people know that 82.4% of all statistics are made up on the spot.`\n",
    "\n",
    "(_Hint: remember to use a format code to change the precision at which a number will be printed out.  The one-letter code you want is `f` for floating point._)"
   ]
  },
  {
   "cell_type": "code",
   "execution_count": null,
   "id": "c5ac6e08-79b5-4c30-a690-98c7f7804d7d",
   "metadata": {},
   "outputs": [],
   "source": [
    "people_know = 40\n",
    "made_up = 82.401\n"
   ]
  },
  {
   "cell_type": "markdown",
   "id": "3f743631-1736-4dce-bb5a-a9f25bd9ece5",
   "metadata": {},
   "source": [
    "Write the following (with each color name on a new line!), using a __one-line__ `print` statement and the `\\n` character:\n",
    "\n",
    "```\n",
    "Red\n",
    "Green\n",
    "Blue\n",
    "```\n",
    "\n"
   ]
  },
  {
   "cell_type": "code",
   "execution_count": null,
   "id": "81ab619d-5616-47e6-ab9e-403bd3b362b3",
   "metadata": {},
   "outputs": [],
   "source": []
  },
  {
   "cell_type": "markdown",
   "id": "37a39ca5-0b88-431e-9c4a-06b71ebdb366",
   "metadata": {},
   "source": [
    "There is a way to do the last example, i.e. to save the list of colors with line breaks to a single string, _without_ using the newline character `\\n`.  Can you do it in the cell below?"
   ]
  },
  {
   "cell_type": "code",
   "execution_count": null,
   "id": "174baaae-e293-4632-9868-56d3baea6eff",
   "metadata": {},
   "outputs": [],
   "source": [
    "\n"
   ]
  },
  {
   "cell_type": "markdown",
   "id": "90e9d69d-7f97-494d-9d28-3343e198b475",
   "metadata": {},
   "source": [
    "Using a single `print()` statement in the code box below, produce the following string as output:\n",
    "\n",
    "`There's no 'I' in \"team\"!`\n",
    "\n",
    "_(Hint: to do this with one `print()`, you'll either need to use the escape character `\\`, or you'll need to concatenate two strings together with `+`.)_"
   ]
  },
  {
   "cell_type": "code",
   "execution_count": null,
   "id": "cce61c0f-e4a4-4d67-92fc-c6794121721e",
   "metadata": {},
   "outputs": [],
   "source": [
    "\n"
   ]
  },
  {
   "cell_type": "markdown",
   "id": "a0036856-4566-4664-843b-5fbc064ec105",
   "metadata": {},
   "source": [
    "## T3.3 - An algorithm for the square root\n",
    "\n",
    "The machine-code instructions a CPU can execute are limited to fairly simple mathematical and logical operations; for anything more complicated, a human being needs to implement an _algorithm_ to carry out the calculation or task we want.\n",
    "\n",
    "Let's walk through a simple algorithm for computing the __square root__ of a number, using only simple math operations and some logic.  (In fact, modern CPUs can take a square root as a basic instruction, but many older ones could not, so they would have had to use something like this.)\n",
    "\n",
    "Here is the algorithm we will use, in words, for computing $y = \\sqrt{x}$:\n",
    "\n",
    "1. Start with an initial guess for y.\n",
    "2. Calculate y*y, and stop if it's \"close enough\" to x.\n",
    "3. Update y to the average of y and x/y: y --> (y+x/y)/2.\n",
    "4. Loop back to step 2.\n",
    "\n",
    "(This algorithm actually [dates back to the ancient Greeks](https://en.wikipedia.org/wiki/Methods_of_computing_square_roots)!)"
   ]
  },
  {
   "cell_type": "markdown",
   "id": "7a5e8d40-501c-42c0-b0b3-c732c7634ce2",
   "metadata": {},
   "source": [
    "This is an example of an __iterative algorithm__, which is very common in computer programming.  It relies on a repeated sequence of steps to find the answer to a problem; the \"loop back\" step 4 above provides the repetition.\n",
    "\n",
    "At every step, we only need to know the current value of `y` to find the next one.  Since we don't need the full history of `y`, we can carry out the algorithm by __updating__ `y` at every step and overwriting the previous value.\n",
    "\n",
    "(In this context, we might call `y` a __temporary variable__, a __register variable__, or a __placeholder variable__.  All of these terms convey the idea that we re-use the name `y`, and it holds only the value from the last iteration we did.)\n",
    "\n",
    "### Part A\n",
    "\n",
    "Before we get to the square root, let's see the basic idea of variable updating.  Modify the cell below __using only copy and paste__ until the value 30 is stored in the variable `x`."
   ]
  },
  {
   "cell_type": "code",
   "execution_count": null,
   "id": "fd311180-2935-4711-8640-0a76a4f31751",
   "metadata": {},
   "outputs": [],
   "source": [
    "x = 0  ## Initial value for x\n",
    "\n",
    "x = x + 5\n",
    "\n",
    "print(x)"
   ]
  },
  {
   "cell_type": "code",
   "execution_count": null,
   "id": "7c336026-b86f-48e4-bae6-05ff501bcbc1",
   "metadata": {},
   "outputs": [],
   "source": [
    "## Another testing cell!\n",
    "## If you did the cell above correctly, this cell will run and do nothing.\n",
    "## Otherwise, it will give an error message!\n",
    "\n",
    "assert x == 30"
   ]
  },
  {
   "cell_type": "markdown",
   "id": "cc6b8feb-e1ac-4001-a7f3-2b56150cdcef",
   "metadata": {
    "editable": true,
    "slideshow": {
     "slide_type": ""
    },
    "tags": []
   },
   "source": [
    "This was a tedious exercise, but that is the point!  We will learn soon how to make the computer handle rote tasks like this: repeating an instruction over and over until some condition is met.  But it's very easy to make mistakes with those more advanced tools if you don't have a good grasp on exactly what the computer is doing, step by step.\n",
    "\n",
    "By the way, I'll mention here that Python has an alternative short-hand notation for doing operations like this.  The statement `x += 5` is equivalent to `x = x + 5`.  Here's an example:"
   ]
  },
  {
   "cell_type": "code",
   "execution_count": null,
   "id": "3269958f-01bf-4758-b2e0-ee6beabe3817",
   "metadata": {},
   "outputs": [],
   "source": [
    "z = 0\n",
    "z += 10\n",
    "z += 10\n",
    "\n",
    "z"
   ]
  },
  {
   "cell_type": "markdown",
   "id": "41bf40e4-65e9-43e1-a1d9-9d7207022f89",
   "metadata": {},
   "source": [
    "Similar compact operators are defined for other operations: `-=`, `*=` and `/=`.  \n",
    "\n",
    "For anyone who has a bit of experience with other languages, one such common shorthand which is _not_ present in Python is the notation `x++` or `x--`.  We have to write that out the long way as `x+=1` or `x-=1`."
   ]
  },
  {
   "cell_type": "markdown",
   "id": "384471f9-1bad-42e0-8cae-b9da2e9b4214",
   "metadata": {},
   "source": [
    "### Part B\n",
    "\n",
    "Now let's use Python to find the square root of 749.  In the cell below, __implement the square root algorithm above__.  Each time you reach step 2, use a `print()` statement to check the value of `y*y` and see whether you need to add another loop.  Once again, using copy/paste is recommended here!  (Oh, and for anyone who already has some more advanced computing background, you are _not_ allowed to use any loops, condition tests or things we haven't seen in this class yet.  You are the flow controller for this exercise!)\n",
    "\n",
    "Take your initial guess to be y=20, and let's say \"close enough\" is when our estimate for y*y is within 0.2 of 749.  (If you're doing it right, this should converge pretty quickly!)"
   ]
  },
  {
   "cell_type": "code",
   "execution_count": 7,
   "id": "09e6fa48-1131-492c-8eee-34cb907615ac",
   "metadata": {},
   "outputs": [
    {
     "name": "stdout",
     "output_type": "stream",
     "text": [
      "y=28.725\n",
      "y=27.399923846823327\n",
      "y=27.367883122521803\n",
      "y=27.367864366814445\n",
      "y=27.367864366808018\n",
      "y=27.367864366808018\n",
      "y=27.367864366808018\n"
     ]
    }
   ],
   "source": [
    "y=20\n",
    "x=749\n"
   ]
  },
  {
   "cell_type": "markdown",
   "id": "f76e662f-0b05-4e86-a72e-ddca0c500536",
   "metadata": {},
   "source": [
    "The correct answer for the square root (as per my calculator) is 27.3679 - you should have gotten very close, even with only a few steps!\n",
    "\n",
    "Other methods to compute the square root may have better (or worse) convergence, i.e. may require less (or more) steps to get the answer to the precision we want.  But for this problem, it would be hard to do much better!"
   ]
  },
  {
   "cell_type": "markdown",
   "id": "d08ec792-2846-44f2-9386-131147b2fb13",
   "metadata": {},
   "source": [
    "Some final thoughts to consider, if you've reached the end early:\n",
    "\n",
    "* What happens if you start with a negative number as your guess for y?  Does the result make sense?\n",
    "* How much does the precision of your result improve as you keep adding more iterations of the algorithm?"
   ]
  }
 ],
 "metadata": {
  "kernelspec": {
   "display_name": "Python 3 (ipykernel)",
   "language": "python",
   "name": "python3"
  },
  "language_info": {
   "codemirror_mode": {
    "name": "ipython",
    "version": 3
   },
   "file_extension": ".py",
   "mimetype": "text/x-python",
   "name": "python",
   "nbconvert_exporter": "python",
   "pygments_lexer": "ipython3",
   "version": "3.13.7"
  }
 },
 "nbformat": 4,
 "nbformat_minor": 5
}
