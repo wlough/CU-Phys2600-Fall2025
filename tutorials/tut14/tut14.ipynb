{
 "cells": [
  {
   "cell_type": "markdown",
   "metadata": {
    "nbgrader": {
     "grade": false,
     "grade_id": "cell-100899e0deea9789",
     "locked": true,
     "schema_version": 3,
     "solution": false,
     "task": false
    }
   },
   "source": [
    "# Tutorial 14: Solving boundary-value ODEs\n",
    "\n",
    "## PHYS 2600"
   ]
  },
  {
   "cell_type": "code",
   "execution_count": null,
   "metadata": {
    "editable": true,
    "nbgrader": {
     "grade": false,
     "grade_id": "cell-e4302376dbe2ef21",
     "locked": true,
     "schema_version": 3,
     "solution": false,
     "task": false
    },
    "slideshow": {
     "slide_type": ""
    },
    "tags": []
   },
   "outputs": [],
   "source": [
    "## Common import cell!\n",
    "\n",
    "%matplotlib inline\n",
    "\n",
    "import matplotlib.pyplot as plt\n",
    "import numpy as np"
   ]
  },
  {
   "cell_type": "markdown",
   "metadata": {
    "nbgrader": {
     "grade": false,
     "grade_id": "cell-522c5c2d596f02fb",
     "locked": true,
     "schema_version": 3,
     "solution": false,
     "task": false
    }
   },
   "source": [
    "## T14.1 - Solving the time-independent Schrodinger equation\n",
    "\n",
    "Let's be ambitious!  We'll solve the __time-independent Schrodinger equation__,\n",
    "\n",
    "$$\n",
    "\\frac{d^2 \\psi}{dx^2} = \\frac{2m}{\\hbar^2} [V(x) - E] \\psi(x).\n",
    "$$\n",
    "\n",
    "Here $\\psi(x)$ is the wavefunction for a single particle of mass $m$ and energy $E$, and $|\\psi(x)|^2$ is the probability of measuring the particle at position $x$.  \n",
    "\n",
    "<img src=\"https://raw.githubusercontent.com/wlough/CU-Phys2600-Fall2025/main/lectures/img/schrodinger-solns.png\" width=500px style=\"float:right;\" />\n",
    "\n",
    "In general, this is a dangerous system to use shooting methods on!  As you know, solutions to the Schrodinger equation are exponential in regions where $E < V$.  The growing exponential solutions can easily cause numerical instability.  However, some problems are relatively easy.  "
   ]
  },
  {
   "cell_type": "markdown",
   "metadata": {
    "nbgrader": {
     "grade": false,
     "grade_id": "cell-7facb7f7b2da75c9",
     "locked": true,
     "schema_version": 3,
     "solution": false,
     "task": false
    }
   },
   "source": [
    "We'll focus on one such case:  the __infinite square well__.  Here is our potential energy function for the well:\n",
    "\n",
    "$$\n",
    "V(x) = \\begin{cases} \n",
    "0, 0 \\leq x \\leq L; \\\\ \n",
    "\\infty, {\\rm elsewhere}.\n",
    "\\end{cases}\n",
    "$$\n",
    "\n",
    "This makes the boundary conditions nice and simple: the particle can't exist where the potential is infinity, so we must have\n",
    "\n",
    "$$\n",
    "\\psi(0) = \\psi(L) = 0.\n",
    "$$\n",
    "\n",
    "Strictly speaking, we should do all of this with complex numbers since this is quantum mechanics.  However, when we work with the time-independent Schrodinger equation, it's _always_ possible to find solutions for $\\psi(x)$ using only real numbers.  (The complex phase becomes crucial when we allow time evolution to happen.)"
   ]
  },
  {
   "cell_type": "markdown",
   "metadata": {
    "nbgrader": {
     "grade": false,
     "grade_id": "cell-f50eeecb9ef024f8",
     "locked": true,
     "schema_version": 3,
     "solution": false,
     "task": false
    }
   },
   "source": [
    "Of course, we can solve the infinite well analytically too!  Here's a little summary plot from PHYS 2130 to remind you of the details:\n",
    "\n",
    "<img src=\"https://raw.githubusercontent.com/wlough/CU-Phys2600-Fall2025/main/lectures/img/inf_sq_well_summary.png\" width=600px />"
   ]
  },
  {
   "cell_type": "markdown",
   "metadata": {
    "nbgrader": {
     "grade": false,
     "grade_id": "cell-f3f4bc391b4df5d2",
     "locked": true,
     "schema_version": 3,
     "solution": false,
     "task": false
    }
   },
   "source": [
    "Now we need to set up the discrete version of our differential equation.  We're going to keep $V(x)$ completely general for now, since we'll alter the infinite well slightly later on.  \n",
    "\n",
    "We will do this on the blackboard in class!  (My solutions will contain the derivation too; you _don't_ need to type it in to the answer box.)  We'll introduce the auxiliary variable $\\chi \\equiv d\\psi/dx$ as part of the derivation."
   ]
  },
  {
   "cell_type": "markdown",
   "metadata": {
    "nbgrader": {
     "grade": true,
     "grade_id": "cell-ff87930b832ae6a6",
     "locked": false,
     "points": 2,
     "schema_version": 3,
     "solution": true,
     "task": false
    }
   },
   "source": [
    "__Divide into two first-order equations: define__\n",
    "\n",
    "$$\n",
    "\\chi = \\frac{d\\psi}{dx}\n",
    "$$\n",
    "\n",
    "__Then__\n",
    "$$\n",
    "\\frac{d\\chi}{dx} = \\frac{2m[V(x)-E]}{\\hbar^2} \\psi(x) \\\\\n",
    "\\frac{d\\psi}{dx} = \\chi(x)\n",
    "$$\n",
    "\n",
    "__Finally, make it discrete: taking $x \\rightarrow x_i$, we have__\n",
    "\n",
    "$$\n",
    "\\chi_{i+1} = \\chi_{i} + \\frac{2m}{\\hbar^2} [V_i - E] \\psi_i \\Delta x \\\\\n",
    "\\psi_{i+1} = \\psi_{i} + \\chi_i \\Delta x\n",
    "$$"
   ]
  },
  {
   "cell_type": "markdown",
   "metadata": {
    "nbgrader": {
     "grade": false,
     "grade_id": "cell-66871783023b5551",
     "locked": true,
     "schema_version": 3,
     "solution": false,
     "task": false
    }
   },
   "source": [
    "Since we're solving numerically, we need to plug in numbers for $m$ and $\\hbar$.  Let's assume we're working with an __electron__, $m = m_e = 9.11 \\times 10^{-31}$ kg.  Picking good units appropriate for atomic physics, we find:\n",
    "\n",
    "$$\n",
    "\\frac{\\hbar^2}{2m_e} = 3.810 \\times 10^{-2}\\ {\\rm eV} \\cdot {\\rm nm}^2.\n",
    "$$\n",
    "\n",
    "This is reasonably close to 1, which is good: working with $L$ in units of nanometers as well should give us answers that are order 1 as well.  (Don't forget that it's the _inverse_ of this number that shows up in the equations!)\n",
    "\n",
    "What answers do we expect?  For a box size of 1 nm, we can just plug in to the exact solution, finding:\n",
    "\n",
    "$$\n",
    "E_n = \\frac{\\pi^2 n^2 \\hbar^2}{2mL^2} = 0.376 \\times n^2\\ {\\rm eV} \\\\\n",
    "= \\{0.376, 1.504, 3.384, 6.016, ...\\}\\ {\\rm eV}.\n",
    "$$\n",
    "\n",
    "To think about: why do we want terms in our equation and answers that are of order 1?"
   ]
  },
  {
   "cell_type": "markdown",
   "metadata": {
    "nbgrader": {
     "grade": false,
     "grade_id": "cell-6103390a691d9e00",
     "locked": true,
     "schema_version": 3,
     "solution": false,
     "task": false
    }
   },
   "source": [
    "### Part A\n",
    "\n",
    "Now we can set up our shooting-based solution:\n",
    "- Pretend this is an initial-value problem using the _left_ boundary condition $\\psi(0) = 0$ as our initial value\n",
    "- Guess the other initial conditions\n",
    "- Solve the ODE\n",
    "- See if our solution satisfies the _right_ boundary condition $\\psi(L) = 0$.\n",
    "- If not, use our result to update our guess for the initial conditions, and repeat\n",
    "\n",
    "As you will remember from modern physics, and as in the formulas above, solutions only exist for certain values of the energy $E$.  But if we're shooting from $x=0$, we _also_ need to fix the initial condition for $\\psi'(0) \\equiv \\chi(0)$.  This looks like we have two variables to shoot in!\n",
    "\n",
    "In fact, one of them is constrained by a condition we haven't used yet: any wavefunction solving the Schrodinger equation must be __normalized__,\n",
    "\n",
    "$$\n",
    "\\int_0^L dx\\ |\\psi(x)|^2 = 1\n",
    "$$\n",
    "\n",
    "This lets us ignore one of the conditions: we'll simply set\n",
    "\n",
    "$$\n",
    "\\chi(0) = 1\n",
    "$$\n",
    "\n",
    "and then enforce the normalization integral.  (If you try setting $\\chi(0)$ to anything else, you'll get the same answer after normalization.)  So, we only have to shoot in the energy $E$!\n",
    "\n",
    "__Implement the function `shoot_infinite_SW` below__, which takes as inputs an initial guess `E` for the energy, an array `x` giving the extent of the box (in nm), and an array `Vx` giving the potential _inside_ the box.  (We will set `Vx` to be all zeroes at first, but at the end of the tutorial we'll explore another potential in the box.)\n",
    "\n",
    "I've given you a docstring and some comments to guide your implementation."
   ]
  },
  {
   "cell_type": "code",
   "execution_count": null,
   "metadata": {
    "nbgrader": {
     "grade": true,
     "grade_id": "cell-74a5941e8e5b0a7d",
     "locked": false,
     "points": 0,
     "schema_version": 3,
     "solution": true,
     "task": false
    }
   },
   "outputs": [],
   "source": [
    "def shoot_infinite_SW(E, x, Vx):\n",
    "    \"\"\"\n",
    "    Solve a single \"shot\" of the time-independent Schrodinger equation\n",
    "    in an infinite square well.\n",
    "\n",
    "    Boundaries of the square well are taken from the array x; the condition\n",
    "    psi(x) = 0 is assumed at the initial (left) boundary.  We also take\n",
    "    psi'(x) = 1 at the left boundary.\n",
    "\n",
    "    Arguments:\n",
    "    -----\n",
    "    * E: guess for the energy.\n",
    "    * x: array containing discrete range of x-values over the extent\n",
    "         of the square well [in nm].\n",
    "    * Vx: array containing the potential V(x) *inside* the square well.\n",
    "          The simplest case is V(x) = 0.\n",
    "\n",
    "    Returns:\n",
    "    -----\n",
    "    * psi: array of the same length as x, containing the solution psi(x).\n",
    "\n",
    "    \"\"\"\n",
    "\n",
    "    # h^2 / 2m_e, in eV * nm^2\n",
    "    h2_2m = 3.81e-2\n",
    "\n",
    "    # Find dx and the number of iterations N from the array x.\n",
    "\n",
    "    # Initialize solution arrays psi and chi to arrays of zeros, of the appropriate length.\n",
    "\n",
    "    # Set initial condition for chi.  (We already have psi(0) = 0.)\n",
    "\n",
    "    # Use a for loop to apply the difference equations we derived (N-1) times,\n",
    "    # filling in the solution arrays psi and chi.\n",
    "\n",
    "    # Integrate psi^2 over the full range of x to find N, the current normalization.\n",
    "\n",
    "    # Return psi divided by sqrt(N), so psi^2 integrates to 1\n"
   ]
  },
  {
   "cell_type": "markdown",
   "metadata": {
    "nbgrader": {
     "grade": false,
     "grade_id": "cell-7753c7ae735e00aa",
     "locked": true,
     "schema_version": 3,
     "solution": false,
     "task": false
    }
   },
   "source": [
    "Now, __run the cell below__ to calculate and plot a shot solution using the known value of the ground-state energy $E_1 \\approx 0.376$ eV for a box size of 1 nm.  If everything is implemented correctly above, this should match my sketch of $\\psi_1(x)$ above, and the boundary conditions should be satisfied on both ends - i.e. __your curve should go through zero at `x=0` and `x=1`!__"
   ]
  },
  {
   "cell_type": "code",
   "execution_count": null,
   "metadata": {
    "nbgrader": {
     "grade": false,
     "grade_id": "cell-9a2a47ce528063c2",
     "locked": true,
     "schema_version": 3,
     "solution": false,
     "task": false
    }
   },
   "outputs": [],
   "source": [
    "def plot_psi_well():\n",
    "    plt.axvline(0.0, color=\"k\")\n",
    "    plt.axvline(1.0, color=\"k\")\n",
    "    plt.axhline(0.0, color=\"k\")\n",
    "\n",
    "    plt.xlabel(\"x (nm)\")\n",
    "    plt.ylabel(\"$\\\\psi(x)$\")\n",
    "\n",
    "\n",
    "x = np.linspace(0, 1, 100)\n",
    "Vx = np.zeros_like(x)\n",
    "psi_1 = shoot_infinite_SW(0.376, x, Vx)\n",
    "\n",
    "plt.plot(x, psi_1)\n",
    "plot_psi_well()"
   ]
  },
  {
   "cell_type": "markdown",
   "metadata": {
    "nbgrader": {
     "grade": false,
     "grade_id": "cell-0aad84ec7081b620",
     "locked": true,
     "schema_version": 3,
     "solution": false,
     "task": false
    }
   },
   "source": [
    "This looks good, but it's also cheating a bit since we know exactly the right solution for $E$.  __Run the cell below__ to see what a shot with a value of $E$ that doesn't have a valid solution looks like.  The difference between this solution and the correct right boundary $\\psi(L) = 0$ is what we'll try to take to zero by shooting."
   ]
  },
  {
   "cell_type": "code",
   "execution_count": null,
   "metadata": {
    "nbgrader": {
     "grade": false,
     "grade_id": "cell-cfbf7c55f3486950",
     "locked": true,
     "schema_version": 3,
     "solution": false,
     "task": false
    }
   },
   "outputs": [],
   "source": [
    "x = np.linspace(0, 1, 100)\n",
    "Vx = np.zeros_like(x)\n",
    "psi_wrong = shoot_infinite_SW(0.918, x, Vx)\n",
    "\n",
    "plt.plot(x, psi_wrong)\n",
    "plot_psi_well()"
   ]
  },
  {
   "cell_type": "markdown",
   "metadata": {
    "nbgrader": {
     "grade": false,
     "grade_id": "cell-e41609f84111e274",
     "locked": true,
     "schema_version": 3,
     "solution": false,
     "task": false
    }
   },
   "source": [
    "### Part B\n",
    "\n",
    "Now let's properly solve the boundary-value problem, forgetting we know the exact solutions for $E_n$.\n",
    "\n",
    "__Implement the function `solve_infinite_SW` below__, which will use `shoot_infinite_SW()` to find a solution with the correct energy by shooting.  The algorithm is simple: \n",
    "\n",
    "* Define a black-box function `delta_boundary(E)` that tells us how much a solution for a given `E` misses the right boundary by;\n",
    "* Use a standard root-finding algorithm on `delta_boundary(E)` to find where the solution works, i.e. where it misses by (approximately) zero.\n",
    "\n",
    "This is a little trickier, and we'll be doing something we've never done before: defining a function _within_ a function.  I've again provided comments to guide you through."
   ]
  },
  {
   "cell_type": "code",
   "execution_count": null,
   "metadata": {
    "nbgrader": {
     "grade": false,
     "grade_id": "cell-b83d4f89dc8c9896",
     "locked": false,
     "schema_version": 3,
     "solution": true,
     "task": false
    }
   },
   "outputs": [],
   "source": [
    "from scipy.optimize import newton\n",
    "\n",
    "\n",
    "def solve_infinite_SW(E_guess, x, Vx):\n",
    "    \"\"\"\n",
    "    Uses shooting to solve the boundary-value problem in the infinite square well.\n",
    "\n",
    "    Arguments:\n",
    "    -----\n",
    "    * E_guess: initial guess for E.\n",
    "    * x: array containing discrete range of x-values over the extent\n",
    "         of the square well [in nm.]\n",
    "    * Vx: array containing the potential V(x) *inside* the square well.\n",
    "          The simplest case is V(x) = 0.\n",
    "\n",
    "    Returns:\n",
    "    -----\n",
    "    E, psi_E: solution energy E [float] and wavefunction psi_E(x) [array, same length as x.]\n",
    "\n",
    "    \"\"\"\n",
    "\n",
    "    # Define the function delta_boundary(E).\n",
    "    # Note: to work properly with the root-finding techniques,\n",
    "    # this had better be a function of E only!\n",
    "    def delta_boundary(E):\n",
    "        pass  # Remove this and add your code!\n",
    "\n",
    "        # Call shoot_infinite_SW to find psi for this E\n",
    "\n",
    "        # Return the difference (not absolute value!)\n",
    "        # between the solution at the right boundary, psi(L),\n",
    "        # and the correct boundary value, 0\n",
    "\n",
    "    # Use the newton() root-finder on the delta_boundary function, using the initial guess E_guess.\n",
    "    # newton() will return its estimate of the value of the root, E.\n",
    "\n",
    "    # Call shoot_infinite_SW one more time on the result E from newton(),\n",
    "    # to get the wavefunction psi_E for the energy we found.\n"
   ]
  },
  {
   "cell_type": "markdown",
   "metadata": {
    "nbgrader": {
     "grade": false,
     "grade_id": "cell-eb20ca369ac6ce3d",
     "locked": true,
     "schema_version": 3,
     "solution": false,
     "task": false
    }
   },
   "source": [
    "__Run the cell below__ to try your code with an initial guess of $E = 0.5$ eV; you should recover the correct ground-state energy of about 0.376 eV!"
   ]
  },
  {
   "cell_type": "code",
   "execution_count": null,
   "metadata": {},
   "outputs": [],
   "source": [
    "x = np.linspace(0, 1, 1000)\n",
    "Vx = np.zeros_like(x)\n",
    "E, psi = solve_infinite_SW(0.5, x, Vx)\n",
    "\n",
    "\n",
    "print(f\"Found energy E={E}\")\n",
    "plt.plot(x, psi)"
   ]
  },
  {
   "cell_type": "markdown",
   "metadata": {
    "nbgrader": {
     "grade": false,
     "grade_id": "cell-137e68f7521b6570",
     "locked": true,
     "schema_version": 3,
     "solution": false,
     "task": false
    }
   },
   "source": [
    "### Part C\n",
    "\n",
    "__Use your code to find the next three energy levels__ and corresponding wavefunctions.  I've set everything up already: you'll just need to adjust the initial guesses, which are currently all giving the _first_ energy level $E_1$.\n",
    "\n",
    "Remember, the exact answers are: $E_n = \\{0.376, 1.504, 3.384, 6.016, ...\\}\\ {\\rm eV}$."
   ]
  },
  {
   "cell_type": "code",
   "execution_count": null,
   "metadata": {
    "nbgrader": {
     "grade": false,
     "grade_id": "cell-fbd368280705fd6b",
     "locked": false,
     "schema_version": 3,
     "solution": true,
     "task": false
    }
   },
   "outputs": [],
   "source": [
    "E2_guess = 0.5\n",
    "E3_guess = 0.5\n",
    "E4_guess = 0.5\n",
    "\n",
    "#\n",
    "\n",
    "\n",
    "# Second energy level\n",
    "E, psi = solve_infinite_SW(E2_guess, x, Vx)\n",
    "print(E)\n",
    "plt.plot(x, psi, label=f\"E_2={E:g}\")\n",
    "\n",
    "# Third energy level\n",
    "E, psi = solve_infinite_SW(E3_guess, x, Vx)\n",
    "print(E)\n",
    "plt.plot(x, psi, label=f\"E_3={E:g}\")\n",
    "\n",
    "# Fourth energy level\n",
    "E, psi = solve_infinite_SW(E4_guess, x, Vx)\n",
    "print(E)\n",
    "plt.plot(x, psi, label=f\"E_4={E:g}\")\n",
    "\n",
    "plot_psi_well()\n",
    "plt.legend()"
   ]
  },
  {
   "cell_type": "markdown",
   "metadata": {
    "nbgrader": {
     "grade": false,
     "grade_id": "cell-08b1e54ac5a1b2c8",
     "locked": true,
     "schema_version": 3,
     "solution": false,
     "task": false
    }
   },
   "source": [
    "Finally, __find the energy level closest to 100 eV__.  \n",
    "\n",
    "__Important note:__ You can tell a bad solution because _all solutions should be symmetric about the middle of the well,_ so a bad solution will look lopsided.  To see this, you should definitely __plot your solution for $\\psi(x)$!__  If your solution looks jagged or lopsided, increase the number of points until it looks correct."
   ]
  },
  {
   "cell_type": "code",
   "execution_count": null,
   "metadata": {
    "nbgrader": {
     "grade": true,
     "grade_id": "cell-d37870a4464ec100",
     "locked": false,
     "points": 0,
     "schema_version": 3,
     "solution": true,
     "task": false
    }
   },
   "outputs": [],
   "source": [
    "x = np.linspace(0, 1, 40000)\n",
    "Vx = np.zeros_like(x)\n",
    "\n",
    "E, psi = solve_infinite_SW(100, x, Vx)\n",
    "print(E)\n",
    "plt.plot(x, psi)\n",
    "plot_psi_well()\n",
    "\n",
    "# This turns out to be E_16, which we can verify from the energy formula,\n",
    "# or by counting the number of peaks in the well (16!)"
   ]
  },
  {
   "cell_type": "markdown",
   "metadata": {
    "nbgrader": {
     "grade": false,
     "grade_id": "cell-12b4582c279231c2",
     "locked": true,
     "schema_version": 3,
     "solution": false,
     "task": false
    }
   },
   "source": [
    "__Which energy level is this?__ (You can either use the exact formula for $E_n$, or just look at the plot and do some counting...)"
   ]
  },
  {
   "cell_type": "markdown",
   "metadata": {
    "nbgrader": {
     "grade": true,
     "grade_id": "cell-2165f083a2173546",
     "locked": false,
     "points": 0,
     "schema_version": 3,
     "solution": true,
     "task": false
    }
   },
   "source": [
    "__This turns out to be $E_{16}$, which we can verify from the energy formula, or by counting the number of peaks in the well (16 of them!)__"
   ]
  },
  {
   "cell_type": "markdown",
   "metadata": {
    "nbgrader": {
     "grade": false,
     "grade_id": "cell-30c052c66ed753ee",
     "locked": true,
     "schema_version": 3,
     "solution": false,
     "task": false
    }
   },
   "source": [
    "### Part D (optional challenge)\n",
    "\n",
    "Finally, we're ready to move beyond what you already knew!  The functions you set up above allowed for a totally general $V(x)$ to be passed in.  We're still requiring $V(x)$ to exist __inside an infinite square well__, which restricts the set of problems we can solve.  But for example, we could imagine applying an _electric field_ to the electron in our well.  This gives a contribution to the potential of the form\n",
    "\n",
    "$$\n",
    "V_E = e|E| x\n",
    "$$\n",
    "\n",
    "If we apply a potential of 0.6 V across the well, then the electric field is 0.6 V/nm, giving the following for Vx:"
   ]
  },
  {
   "cell_type": "code",
   "execution_count": null,
   "metadata": {},
   "outputs": [],
   "source": [
    "x = np.linspace(0, 1, 10000)\n",
    "Vx = 0.6 * x\n",
    "plt.plot(x, Vx)"
   ]
  },
  {
   "cell_type": "markdown",
   "metadata": {
    "nbgrader": {
     "grade": false,
     "grade_id": "cell-ca4098d721e02dcf",
     "locked": true,
     "schema_version": 3,
     "solution": false,
     "task": false
    }
   },
   "source": [
    "__Use `solve_infinite_SW()` to find the ground-state solution__ for this potential well.  It should look like the ground-state solution we found above, but with an important difference - _can you spot the difference?_\n",
    "\n",
    "(_Note: this version of the problem is much more numerically unstable than the ordinary well!  If you didn't have any trouble with the given electric field, try with the field strength set to 20 V/m instead of just 0.6!_)"
   ]
  },
  {
   "cell_type": "code",
   "execution_count": null,
   "metadata": {
    "nbgrader": {
     "grade": true,
     "grade_id": "cell-ce3025f9854cfe13",
     "locked": false,
     "points": 0,
     "schema_version": 3,
     "solution": true,
     "task": false
    }
   },
   "outputs": [],
   "source": [
    "#"
   ]
  }
 ],
 "metadata": {
  "kernelspec": {
   "display_name": "Python 3 (ipykernel)",
   "language": "python",
   "name": "python3"
  },
  "language_info": {
   "codemirror_mode": {
    "name": "ipython",
    "version": 3
   },
   "file_extension": ".py",
   "mimetype": "text/x-python",
   "name": "python",
   "nbconvert_exporter": "python",
   "pygments_lexer": "ipython3",
   "version": "3.13.7"
  }
 },
 "nbformat": 4,
 "nbformat_minor": 4
}
