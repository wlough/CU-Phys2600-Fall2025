{
 "cells": [
  {
   "cell_type": "markdown",
   "metadata": {
    "collapsed": false,
    "jupyter": {
     "outputs_hidden": false
    },
    "nbgrader": {
     "grade": false,
     "grade_id": "cell-100899e0deea9789",
     "locked": true,
     "schema_version": 3,
     "solution": false,
     "task": false
    }
   },
   "source": [
    "# Tutorial 16: Tuples, Unpacking, Mutability\n",
    "\n",
    "## PHYS 2600"
   ]
  },
  {
   "cell_type": "code",
   "execution_count": null,
   "metadata": {
    "collapsed": false,
    "jupyter": {
     "outputs_hidden": false
    },
    "nbgrader": {
     "grade": false,
     "grade_id": "cell-26161d4167f3ec5a",
     "locked": true,
     "schema_version": 3,
     "solution": false,
     "task": false
    }
   },
   "outputs": [],
   "source": [
    "%matplotlib inline\n",
    "\n",
    "import numpy as np"
   ]
  },
  {
   "cell_type": "markdown",
   "metadata": {
    "collapsed": false,
    "jupyter": {
     "outputs_hidden": false
    },
    "nbgrader": {
     "grade": false,
     "grade_id": "cell-c816867329181c78",
     "locked": true,
     "schema_version": 3,
     "solution": false,
     "task": false
    }
   },
   "source": [
    "## T16.1 - Working with Tuples"
   ]
  },
  {
   "cell_type": "markdown",
   "metadata": {
    "collapsed": false,
    "jupyter": {
     "outputs_hidden": false
    },
    "nbgrader": {
     "grade": false,
     "grade_id": "cell-fa928ade405c924a",
     "locked": true,
     "schema_version": 3,
     "solution": false,
     "task": false
    }
   },
   "source": [
    "Let's start with some more simple exercises, just to get used to the new syntax and objects introduced today.  (These are variations on some exercises we've done with lists before.  This is intentional - tuples behave differently from lists, so even if the results are the same, how you get there will be different!)\n",
    "\n",
    "Once again, run the cell below to initialize some list variables for you to work with."
   ]
  },
  {
   "cell_type": "code",
   "execution_count": null,
   "metadata": {
    "collapsed": false,
    "jupyter": {
     "outputs_hidden": false
    },
    "nbgrader": {
     "grade": false,
     "grade_id": "cell-43691d90f26ec4f9",
     "locked": true,
     "schema_version": 3,
     "solution": false,
     "task": false
    }
   },
   "outputs": [],
   "source": [
    "planets = (\n",
    "    \"Mercury\",\n",
    "    \"Venus\",\n",
    "    \"Earth\",\n",
    "    \"Mars\",\n",
    "    \"Jupiter\",\n",
    "    \"Saturn\",\n",
    "    \"Uranus\",\n",
    "    \"Neptune\",\n",
    "    \"Pluto\",\n",
    ")\n",
    "planet_moons = (0, 0, 1, 2, 79, 61, 27, 14, 5)"
   ]
  },
  {
   "cell_type": "markdown",
   "metadata": {
    "collapsed": false,
    "jupyter": {
     "outputs_hidden": false
    },
    "nbgrader": {
     "grade": false,
     "grade_id": "cell-523d4f16ede8f2dd",
     "locked": true,
     "schema_version": 3,
     "solution": false,
     "task": false
    }
   },
   "source": [
    "### Part A\n",
    "\n",
    "First, __make a new tuple `inner_planets`__ which contains only the inner planets (Mercury through Mars) by slicing `planets`.\n",
    "\n",
    "Then __remove Pluto from the tuple `planets`__.  (Sorry again, Pluto!)  Of course, tuples are immutable, so this restricts your options a bit...\n",
    "\n",
    "_(Hint: When I say \"remove Pluto from the tuple `planets`\", I mean that the __name__ `planets` should point to a tuple with Pluto removed - not that you have to somehow change the original tuple, which is impossible!)_"
   ]
  },
  {
   "cell_type": "code",
   "execution_count": null,
   "metadata": {
    "collapsed": false,
    "editable": true,
    "jupyter": {
     "outputs_hidden": false
    },
    "nbgrader": {
     "grade": true,
     "grade_id": "cell-c61cd2b71bc63119",
     "locked": false,
     "points": 2,
     "schema_version": 3,
     "solution": true,
     "task": false
    },
    "slideshow": {
     "slide_type": ""
    },
    "tags": []
   },
   "outputs": [],
   "source": [
    "#\n",
    "print(inner_planets)  # just prints ('Mercury', ..., 'Mars')\n",
    "print(planets)  # prints ('Mercury', 'Venus', ..., 'Neptune')"
   ]
  },
  {
   "cell_type": "markdown",
   "metadata": {
    "collapsed": false,
    "jupyter": {
     "outputs_hidden": false
    },
    "nbgrader": {
     "grade": false,
     "grade_id": "cell-0004fe48d8c4ee8d",
     "locked": true,
     "schema_version": 3,
     "solution": false,
     "task": false
    }
   },
   "source": [
    "### Part B\n",
    "\n",
    "Use _list unpacking_ notation with the `planet_moons` tuple to __make four new variables__ `mercury_moons`, `venus_moons`, `earth_moons` and `mars_moons`, containing the number of moons around each planet.  __Do this in one line of code.__\n",
    "\n",
    "_(Hint: remember, for unpacking we must have the same number of arguments on the left and right of `=`.  You can use a slice on the right-hand side to get the appropriate tuple length.)_"
   ]
  },
  {
   "cell_type": "code",
   "execution_count": null,
   "metadata": {
    "collapsed": false,
    "jupyter": {
     "outputs_hidden": false
    },
    "nbgrader": {
     "grade": false,
     "grade_id": "cell-95f189f43b466b8e",
     "locked": false,
     "schema_version": 3,
     "solution": true,
     "task": false
    }
   },
   "outputs": [],
   "source": [
    "#\n",
    "\n",
    "print(mercury_moons, venus_moons, earth_moons, mars_moons)  # prints '0 0 1 2'"
   ]
  },
  {
   "cell_type": "markdown",
   "metadata": {
    "collapsed": false,
    "jupyter": {
     "outputs_hidden": false
    },
    "nbgrader": {
     "grade": false,
     "grade_id": "cell-6a5c455721f3f23e",
     "locked": true,
     "schema_version": 3,
     "solution": false,
     "task": false
    }
   },
   "source": [
    "### Part C\n",
    "\n",
    "__Create a new tuple `inner_planets_and_moons`__, whose entries are tuples `(<planet_name>, <num_moons>)` taken from `planets` and `planet_moons`.  Once again, only include the inner planets.\n",
    "\n",
    "_(Hint: remember that you can't use append on a tuple, but you can combine two tuples with the `+` operator, which gives you another way to build one up in a loop.  The syntax for this is kind of funny: remember that commas are what distinguish tuples from regular parentheses!  In other words,_\n",
    "\n",
    "```python3\n",
    "(4) # this is not a tuple\n",
    "(4,) # this is a one-entry tuple!\n",
    "((4,5),) # this is a one-entry tuple, with a two-entry tuple inside it!\n",
    "```\n",
    "\n",
    "_The iterator pattern will likely be the best way to accomplish the task of looping over part of both tuples at once._)"
   ]
  },
  {
   "cell_type": "code",
   "execution_count": null,
   "metadata": {
    "collapsed": false,
    "jupyter": {
     "outputs_hidden": false
    },
    "nbgrader": {
     "grade": true,
     "grade_id": "cell-be55bb2a3a2ee694",
     "locked": false,
     "points": 0,
     "schema_version": 3,
     "solution": true,
     "task": false
    }
   },
   "outputs": [],
   "source": [
    "#\n",
    "\n",
    "print(inner_planets_and_moons)\n",
    "# Should print:\n",
    "# (('Mercury', 0), ('Venus', 0), ('Earth', 1), ('Mars', 2))"
   ]
  },
  {
   "cell_type": "markdown",
   "metadata": {
    "collapsed": false,
    "jupyter": {
     "outputs_hidden": false
    },
    "nbgrader": {
     "grade": false,
     "grade_id": "cell-a1c95049b4579c48",
     "locked": true,
     "schema_version": 3,
     "solution": false,
     "task": false
    }
   },
   "source": [
    "## T16.2 - Packing and unpacking sequences\n",
    "\n",
    "Let's get some more practice with packing and unpacking notation.  Remember, the basic idea here is that if _both sides_ of an assignment operation are tuples _of the same length_, the assignment is \"unpacked\" and done for each entry in turn.\n",
    "\n",
    "```python\n",
    "(a, b) = (1,2)  # Equivalent to a=1; b=2\n",
    "a,b = 1,2  # Shorthand notation: we may omit the () around the tuples, for assignment only!\n",
    "```\n",
    "\n",
    "### Part A\n",
    "\n",
    "The tuple `velocity` below contains the three-dimensional velocity (in m/s) for some object.  Use unpacking notation to assign the components `vx, vy, vz` to variables, and then __calculate the speed__ $\\sqrt{v_x^2 + v_y^2 + v_z^2}$ - save it to the variable `speed`."
   ]
  },
  {
   "cell_type": "code",
   "execution_count": null,
   "metadata": {
    "collapsed": false,
    "jupyter": {
     "outputs_hidden": false
    },
    "nbgrader": {
     "grade": false,
     "grade_id": "cell-3fdf4e968f79ea5e",
     "locked": false,
     "schema_version": 3,
     "solution": true,
     "task": false
    }
   },
   "outputs": [],
   "source": [
    "velocity = (1.4, 2.0, -1.4)\n",
    "\n",
    "#\n",
    "\n",
    "print(vx, vy, vz, speed)\n",
    "# Speed should be 2.8 m/s."
   ]
  },
  {
   "cell_type": "markdown",
   "metadata": {
    "collapsed": false,
    "jupyter": {
     "outputs_hidden": false
    },
    "nbgrader": {
     "grade": false,
     "grade_id": "cell-5511b5a96876242b",
     "locked": true,
     "schema_version": 3,
     "solution": false,
     "task": false
    }
   },
   "source": [
    "### Part B\n",
    "\n",
    "I've set up a function `get_mass_and_charge()` below, which returns a tuple `(mass, charge)` for a few different particles.  Use argument unpacking with this function to __print the name of each particle__ in `some_particles`, __followed by its charge-to-mass ratio $q/m$.__"
   ]
  },
  {
   "cell_type": "code",
   "execution_count": null,
   "metadata": {
    "collapsed": false,
    "jupyter": {
     "outputs_hidden": false
    },
    "nbgrader": {
     "grade": false,
     "grade_id": "cell-1c532411cafacc5e",
     "locked": false,
     "schema_version": 3,
     "solution": true,
     "task": false
    }
   },
   "outputs": [],
   "source": [
    "def get_mass_and_charge(particle_name):\n",
    "    if particle_name == \"electron\":\n",
    "        return (9.11e-31, -1.6e-19)\n",
    "    elif particle_name == \"proton\":\n",
    "        return (1.67e-27, 1.6e-19)\n",
    "    elif particle_name == \"neutron\":\n",
    "        return (1.67e-27, 0.0)\n",
    "    else:\n",
    "        print(\"Warning: unknown particle, {}\".format(particle_name))\n",
    "        return (0.0, 0.0)\n",
    "\n",
    "\n",
    "some_particles = (\"electron\", \"proton\", \"neutron\")\n",
    "\n",
    "#"
   ]
  },
  {
   "cell_type": "markdown",
   "metadata": {
    "collapsed": false,
    "jupyter": {
     "outputs_hidden": false
    },
    "nbgrader": {
     "grade": false,
     "grade_id": "cell-a422037f18810a31",
     "locked": true,
     "schema_version": 3,
     "solution": false,
     "task": false
    }
   },
   "source": [
    "### Part C\n",
    "\n",
    "One of the early lessons you learn in physics class is to choose the right coordinate system for your problem!  Let's start in two dimensions, where there are two very common useful coordinate systems: the usual __Cartesian coordinates__ $(x,y)$, and __polar coordinates__ $(r,\\phi)$.  The two systems are related as\n",
    "\n",
    "$$\n",
    "x = r \\cos \\phi\n",
    "$$\n",
    "$$\n",
    "y = r \\sin \\phi\n",
    "$$\n",
    "\n",
    "or going the other direction,\n",
    "\n",
    "$$\n",
    "r = \\sqrt{x^2 + y^2}\n",
    "$$\n",
    "$$\n",
    "\\phi = \\tan^{-1} (y/x).\n",
    "$$\n",
    "\n",
    "<img src=\"https://raw.githubusercontent.com/wlough/CU-Phys2600-Fall2025/main/lectures/img/rect-polar-1.png\" width=300px style=\"float:right;margin:20px;\" />\n",
    "\n",
    "\n",
    "\n",
    "The cell below contains an implementation of the function `polar_to_cartesian(points)`, which takes a list of tuples, each tuple having the form `(r, phi`)."
   ]
  },
  {
   "cell_type": "code",
   "execution_count": null,
   "metadata": {
    "collapsed": false,
    "jupyter": {
     "outputs_hidden": false
    },
    "nbgrader": {
     "grade": false,
     "grade_id": "cell-1ab371a657628a22",
     "locked": true,
     "schema_version": 3,
     "solution": false,
     "task": false
    }
   },
   "outputs": [],
   "source": [
    "def polar_to_cartesian(points):\n",
    "\n",
    "    cartesian_points = []\n",
    "    for r, phi in points:\n",
    "\n",
    "        x = r * np.cos(phi)\n",
    "        y = r * np.sin(phi)\n",
    "\n",
    "        cartesian_points.append((x, y))\n",
    "\n",
    "    return cartesian_points"
   ]
  },
  {
   "cell_type": "code",
   "execution_count": null,
   "metadata": {
    "collapsed": false,
    "jupyter": {
     "outputs_hidden": false
    },
    "nbgrader": {
     "grade": false,
     "grade_id": "cell-45e7fff7ac3ebcc0",
     "locked": true,
     "schema_version": 3,
     "solution": false,
     "task": false
    }
   },
   "outputs": [],
   "source": [
    "# Around the axes: should give ((1,0), (0,2), (-3,0), (0,-4)).\n",
    "# Round-off error means you won't get _exactly_ zero for most of these.\n",
    "polar_to_cartesian([(1, 0), (2, np.pi / 2), (3, np.pi), (4, 3 * np.pi / 2)])"
   ]
  },
  {
   "cell_type": "markdown",
   "metadata": {
    "collapsed": false,
    "jupyter": {
     "outputs_hidden": false
    },
    "nbgrader": {
     "grade": false,
     "grade_id": "cell-8bdef115df5246da",
     "locked": true,
     "schema_version": 3,
     "solution": false,
     "task": false
    }
   },
   "source": [
    "Now, __implement the reverse function__ `cartesian_to_polar` below, which should return a list of tuples in polar coordinates.  To calculate the arctangent, __use the `np.arctan2(y,x)` function__, and _not_ just `np.arctan`.  (Scroll to the very bottom of the tutorial for an explanation why `arctan2` exists!)"
   ]
  },
  {
   "cell_type": "code",
   "execution_count": null,
   "metadata": {
    "collapsed": false,
    "jupyter": {
     "outputs_hidden": false
    },
    "nbgrader": {
     "grade": false,
     "grade_id": "cell-8e14c52015a29993",
     "locked": false,
     "schema_version": 3,
     "solution": true,
     "task": false
    }
   },
   "outputs": [],
   "source": [
    "def cartesian_to_polar(points):\n",
    "    #"
   ]
  },
  {
   "cell_type": "code",
   "execution_count": null,
   "metadata": {
    "collapsed": false,
    "jupyter": {
     "outputs_hidden": false
    },
    "nbgrader": {
     "grade": true,
     "grade_id": "cell-d9d023a61b6e8cec",
     "locked": true,
     "points": 0,
     "schema_version": 3,
     "solution": false,
     "task": false
    }
   },
   "outputs": [],
   "source": [
    "# Around the quadrants: should all have r=sqrt(2)=1.414... and angles in every quadrant.\n",
    "print(cartesian_to_polar([(1, 1), (-1, 1), (-1, -1), (1, -1)]))"
   ]
  },
  {
   "cell_type": "markdown",
   "metadata": {
    "collapsed": false,
    "jupyter": {
     "outputs_hidden": false
    },
    "nbgrader": {
     "grade": false,
     "grade_id": "cell-f5b482ab33e0f92f",
     "locked": true,
     "schema_version": 3,
     "solution": false,
     "task": false
    }
   },
   "source": [
    "Now __test the function yourself__: if you call `cartesian_to_polar` and then `polar_to_cartesian`, or vice-versa, you should get the same list of points back (up to round-off error, again.)"
   ]
  },
  {
   "cell_type": "code",
   "execution_count": null,
   "metadata": {
    "collapsed": false,
    "jupyter": {
     "outputs_hidden": false
    },
    "nbgrader": {
     "grade": false,
     "grade_id": "cell-789caae6ba12a7cd",
     "locked": false,
     "schema_version": 3,
     "solution": true,
     "task": false
    }
   },
   "outputs": [],
   "source": [
    "# Going back and forth should do nothing!\n",
    "print(\n",
    "    cartesian_to_polar(\n",
    "        polar_to_cartesian([(1, 0), (2, np.pi / 2), (3, np.pi), (4, 3 * np.pi / 2)])\n",
    "    )\n",
    ")\n",
    "print(polar_to_cartesian(cartesian_to_polar([(1, 1), (-1, 1), (-1, -1), (1, -1)])))"
   ]
  },
  {
   "cell_type": "markdown",
   "metadata": {
    "collapsed": false,
    "jupyter": {
     "outputs_hidden": false
    },
    "nbgrader": {
     "grade": false,
     "grade_id": "cell-4577fe5c85c7dc0d",
     "locked": true,
     "schema_version": 3,
     "solution": false,
     "task": false
    }
   },
   "source": [
    "## T16.3 - Controlled Disasters\n",
    "\n",
    "Now, a couple short examples of ways mutability can lead to unexpected outcomes!\n",
    "\n",
    "### Part A\n",
    "\n",
    "We have a list of $(x,y,z)$ points, and we'd like to add one more point to the list.  We can use `append` as in the example code below - but then if we try to modify `points` later (say, converting to different coordinates), we'll find that we change the original `new_point` as well:"
   ]
  },
  {
   "cell_type": "code",
   "execution_count": null,
   "metadata": {
    "collapsed": false,
    "jupyter": {
     "outputs_hidden": false
    },
    "nbgrader": {
     "grade": false,
     "grade_id": "cell-6ea10937e124706a",
     "locked": true,
     "schema_version": 3,
     "solution": false,
     "task": false
    }
   },
   "outputs": [],
   "source": [
    "points = [[1, 0, 3], [1, 4, 7]]\n",
    "new_point = [2, 4, 6]\n",
    "\n",
    "points.append(new_point)\n",
    "\n",
    "points[2][2] = 0\n",
    "print(points)\n",
    "print(new_point)  # Changed when we assigned to points!"
   ]
  },
  {
   "cell_type": "markdown",
   "metadata": {
    "collapsed": false,
    "jupyter": {
     "outputs_hidden": false
    },
    "nbgrader": {
     "grade": false,
     "grade_id": "cell-2fed4e02731ce2ea",
     "locked": true,
     "schema_version": 3,
     "solution": false,
     "task": false
    }
   },
   "source": [
    "__Add `new_point` to `points` in a different way, so that modifying `points` later won't change `new_point`.__  (If we really care about this, we probably should have made `new_point` a tuple, but this is an exercise - so find a solution that _doesn't_ involve changing anything to a tuple.)"
   ]
  },
  {
   "cell_type": "code",
   "execution_count": null,
   "metadata": {
    "collapsed": false,
    "jupyter": {
     "outputs_hidden": false
    },
    "nbgrader": {
     "grade": true,
     "grade_id": "cell-6b6cbe6a4797c237",
     "locked": false,
     "points": 0,
     "schema_version": 3,
     "solution": true,
     "task": false
    }
   },
   "outputs": [],
   "source": [
    "points = [[1, 0, 3], [1, 4, 7]]\n",
    "new_point = [2, 4, 6]\n",
    "\n",
    "#\n",
    "\n",
    "points[2][2] = 0\n",
    "print(points)\n",
    "print(new_point)"
   ]
  },
  {
   "cell_type": "markdown",
   "metadata": {
    "collapsed": false,
    "jupyter": {
     "outputs_hidden": false
    },
    "nbgrader": {
     "grade": false,
     "grade_id": "cell-95f79165f6d2b8e9",
     "locked": true,
     "schema_version": 3,
     "solution": false,
     "task": false
    }
   },
   "source": [
    "### Part B (Optional challenge)\n",
    "\n",
    "_(Note: this one is a little tricky to figure out, so I made it optional - but come back and look at the answer if you don't figure it out, because you should know about this behavior so that you can avoid it!)_\n",
    "\n",
    "Suppose we'd like to write a function that takes an _optional_ list argument.  For example, the following function `append_copies_of_items_to_list` takes an object `item`, and appends it `n_copies` times to the end of `start_list`.  In the event that no list is given, we want to simply use an empty list, hence the default `start_list = []` \n",
    "\n",
    "However, something unexpected happens when we try to run the function a few times:"
   ]
  },
  {
   "cell_type": "code",
   "execution_count": null,
   "metadata": {
    "collapsed": false,
    "jupyter": {
     "outputs_hidden": false
    },
    "nbgrader": {
     "grade": false,
     "grade_id": "cell-1fdf91ed52a22c98",
     "locked": true,
     "schema_version": 3,
     "solution": false,
     "task": false
    }
   },
   "outputs": [],
   "source": [
    "def append_copies_of_items_to_list(item, n_copies, start_list=[]):\n",
    "    for dummy_index in range(n_copies):\n",
    "        start_list.append(item)\n",
    "\n",
    "    return start_list\n",
    "\n",
    "\n",
    "print(append_copies_of_items_to_list(33.3, 5))\n",
    "print(append_copies_of_items_to_list(\"world\", 2, start_list=[\"Hello\"]))\n",
    "print(append_copies_of_items_to_list(\"why?\", 3))"
   ]
  },
  {
   "cell_type": "markdown",
   "metadata": {
    "collapsed": false,
    "jupyter": {
     "outputs_hidden": false
    },
    "nbgrader": {
     "grade": false,
     "grade_id": "cell-1b85ba7a63aa52b2",
     "locked": true,
     "schema_version": 3,
     "solution": false,
     "task": false
    }
   },
   "source": [
    "Once again, we're not getting the expected behavior!  The function seems to have more of a \"memory\" for past results than we wanted.  What is happening, and how can we correct it?  (We'd like to keep the behavior of having `start_list` as an optional list argument...)  __Implement a corrected version of the function `append_copies_of_items_to_list` below.__  \n",
    "\n",
    "_(Hint: the `None` object is a much better default value, because it's immutable!)_"
   ]
  },
  {
   "cell_type": "code",
   "execution_count": null,
   "metadata": {
    "collapsed": false,
    "jupyter": {
     "outputs_hidden": false
    },
    "nbgrader": {
     "grade": true,
     "grade_id": "cell-a861270ea499e2ac",
     "locked": false,
     "points": 0,
     "schema_version": 3,
     "solution": true,
     "task": false
    }
   },
   "outputs": [],
   "source": [
    "#"
   ]
  },
  {
   "cell_type": "markdown",
   "metadata": {
    "collapsed": false,
    "jupyter": {
     "outputs_hidden": false
    },
    "nbgrader": {
     "grade": false,
     "grade_id": "cell-e0ca15201b28770c",
     "locked": true,
     "schema_version": 3,
     "solution": false,
     "task": false
    }
   },
   "source": [
    "(This might seem like a really contrived and simple example, which it is...but this exact mistake cost me a week of research hunting down the bug in a big analysis function with 15 different arguments, one of which was `[]`!)"
   ]
  },
  {
   "cell_type": "markdown",
   "metadata": {
    "collapsed": false,
    "jupyter": {
     "outputs_hidden": false
    },
    "nbgrader": {
     "grade": false,
     "grade_id": "cell-141826b418e912f6",
     "locked": true,
     "schema_version": 3,
     "solution": false,
     "task": false
    }
   },
   "source": [
    "### Explanation: `arctan` vs. `arctan2`\n",
    "\n",
    "Why did we have to use this special function `arctan2`, and not the \"regular\" arctangent (which is also implemented in the `numpy` module, as `np.arctan()`)?  The reason is that the value $y/x$ is not actually unique, because if we reflect both $x$ and $y$ (flip their signs), we end up with the same $y/x$:\n",
    "\n",
    "<img src=\"https://raw.githubusercontent.com/wlough/CU-Phys2600-Fall2025/main/lectures/img/rect-polar-2.png\" width=400px />\n",
    "\n",
    "The pictured angle $\\phi$ inside each right triangle is exactly the same, and accordingly $\\tan(\\phi) = y/x = (-y)/(-x)$ is the same too.  But this isn't what we want for our coordinates: we want $(x,y)$ and $(-x,-y)$ to come out as different points!  This is exactly what the `arctan2()` function does: it uses the separate values of both $x$ and $y$ to produce the correct, \"quadrant-aware\" value of $\\phi$ for our coordinate change.\n",
    "\n",
    "Below is a short numerical demonstration showing what we get from the two different functions for the point $(1,1)$ rotated around to the various quadrants:"
   ]
  },
  {
   "cell_type": "code",
   "execution_count": null,
   "metadata": {
    "collapsed": false,
    "jupyter": {
     "outputs_hidden": false
    },
    "nbgrader": {
     "grade": false,
     "grade_id": "cell-3b59a800a83f566f",
     "locked": true,
     "schema_version": 3,
     "solution": false,
     "task": false
    }
   },
   "outputs": [],
   "source": [
    "# Using arctan() for four different quadrants gives only two different angles:\n",
    "print(np.arctan(1 / 1) * 180 / np.pi)\n",
    "print(np.arctan(1 / -1) * 180 / np.pi)\n",
    "print(np.arctan(-1 / -1) * 180 / np.pi)\n",
    "print(np.arctan(-1 / 1) * 180 / np.pi)\n",
    "\n",
    "# arctan2() gives the correct location for vectors in all four quadrants:\n",
    "print(np.arctan2(1, 1) * 180 / np.pi)\n",
    "print(np.arctan2(1, -1) * 180 / np.pi)\n",
    "print(np.arctan2(-1, -1) * 180 / np.pi)\n",
    "print(np.arctan2(-1, 1) * 180 / np.pi)"
   ]
  }
 ],
 "metadata": {
  "kernelspec": {
   "display_name": "Python 3 (ipykernel)",
   "language": "python",
   "name": "python3"
  },
  "language_info": {
   "codemirror_mode": {
    "name": "ipython",
    "version": 3
   },
   "file_extension": ".py",
   "mimetype": "text/x-python",
   "name": "python",
   "nbconvert_exporter": "python",
   "pygments_lexer": "ipython3",
   "version": "3.13.7"
  }
 },
 "nbformat": 4,
 "nbformat_minor": 4
}
