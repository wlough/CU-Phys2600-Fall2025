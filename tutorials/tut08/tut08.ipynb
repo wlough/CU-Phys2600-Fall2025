{
 "cells": [
  {
   "cell_type": "markdown",
   "metadata": {
    "editable": true,
    "nbgrader": {
     "grade": false,
     "grade_id": "cell-732613da6c8a0a62",
     "locked": true,
     "schema_version": 3,
     "solution": false,
     "task": false
    },
    "slideshow": {
     "slide_type": ""
    },
    "tags": []
   },
   "source": [
    "# Tutorial 8: Booleans and Assertions\n",
    "\n",
    "## PHYS 2600"
   ]
  },
  {
   "cell_type": "markdown",
   "metadata": {
    "editable": true,
    "nbgrader": {
     "grade": false,
     "grade_id": "cell-76b75e18bb6ec1c5",
     "locked": true,
     "schema_version": 3,
     "solution": false,
     "task": false
    },
    "slideshow": {
     "slide_type": "fragment"
    },
    "tags": []
   },
   "source": [
    "## T8.1 - Some Boolean logic\n",
    "\n",
    "Let's do some basic exercises with using Boolean types and the logical operators `and`, `or`, and `not`.  When working in logic, it's often useful to write down a __truth table__, which lists all possible outcomes of a certain logical operation.  Here are the truth tables for `and` and `or`, for your reference as you're working below:\n",
    "\n",
    "<img src=\"https://raw.githubusercontent.com/wlough/CU-Phys2600-Fall2025/main/lectures/img/truth-table.png\" width=500px />\n",
    "\n",
    "### Part A\n",
    "\n",
    "Use Python statements to verify the following more complicated logical statements:\n",
    "\n",
    "* (T and F) or T --> T\n",
    "* (F or F) and T --> F\n",
    "* (F and T) or (F and F) --> F"
   ]
  },
  {
   "cell_type": "code",
   "execution_count": null,
   "metadata": {
    "nbgrader": {
     "grade": true,
     "grade_id": "cell-93f2c8965854b1dd",
     "locked": false,
     "points": 2,
     "schema_version": 3,
     "solution": true,
     "task": false
    }
   },
   "outputs": [],
   "source": [
    "#"
   ]
  },
  {
   "cell_type": "markdown",
   "metadata": {
    "nbgrader": {
     "grade": false,
     "grade_id": "cell-b42bdc2ba6b84637",
     "locked": true,
     "schema_version": 3,
     "solution": false,
     "task": false
    }
   },
   "source": [
    "### Part B\n",
    "\n",
    "We've seen this flowchart for a recipe for meringue cookies in lecture:\n",
    "\n",
    "<img src=\"https://raw.githubusercontent.com/wlough/CU-Phys2600-Fall2025/main/lectures/img/lec1-meringue.png\" width=600px />\n",
    "\n",
    "The original recipe is meant for humans, but it's not hard to imagine trying to implement this for a computer!  Suppose we are writing code for a \"smart oven\" which will cook this recipe: we're currently working on the step where we decide whether to take the cookies out of the oven or not (the right half of the diagram.)\n",
    "\n",
    "__Complete the function `finished_baking()` below__, which should return `True` if either condition in the blue box on the right is satisfied (i.e. if oven_min is greater than 45 or firm_to_touch is true), and `False` otherwise."
   ]
  },
  {
   "cell_type": "code",
   "execution_count": null,
   "metadata": {
    "nbgrader": {
     "grade": false,
     "grade_id": "cell-6491f6674126231d",
     "locked": false,
     "schema_version": 3,
     "solution": true,
     "task": false
    }
   },
   "outputs": [],
   "source": [
    "def finished_baking(oven_min, firm_to_touch):\n",
    "    #"
   ]
  },
  {
   "cell_type": "markdown",
   "metadata": {
    "nbgrader": {
     "grade": false,
     "grade_id": "cell-135655606e78714e",
     "locked": true,
     "schema_version": 3,
     "solution": false,
     "task": false
    }
   },
   "source": [
    "This might seem like a silly example to you, but there's no reason this couldn't be real-life working code!  There could be a real timer that sets the variable `oven_min`, and a microcontroller and some sort of probe that sets `firm_to_touch` in a different test routine.\n",
    "\n",
    "Now in the next cell, __write your own tests__: create three `assert` statements that use the `finished_baking` function and make sure it gives the expected output."
   ]
  },
  {
   "cell_type": "code",
   "execution_count": null,
   "metadata": {
    "nbgrader": {
     "grade": false,
     "grade_id": "cell-524b8cbda79f2ed5",
     "locked": false,
     "schema_version": 3,
     "solution": true,
     "task": false
    }
   },
   "outputs": [],
   "source": [
    "#"
   ]
  },
  {
   "cell_type": "markdown",
   "metadata": {
    "nbgrader": {
     "grade": false,
     "grade_id": "cell-96639b4ae40f7249",
     "locked": true,
     "schema_version": 3,
     "solution": false,
     "task": false
    }
   },
   "source": [
    "### Part C\n",
    "\n",
    "You probably wrote the tests above using the `==` operator, which is normal for a test like this.  But for Boolean data only, __using `==` is almost always redundant.__  For example, suppose we want use an `assert` to make sure that `my_condition` is `True`.  We could write it like this:"
   ]
  },
  {
   "cell_type": "code",
   "execution_count": null,
   "metadata": {},
   "outputs": [],
   "source": [
    "my_condition = True\n",
    "assert my_condition == True"
   ]
  },
  {
   "cell_type": "markdown",
   "metadata": {
    "nbgrader": {
     "grade": false,
     "grade_id": "cell-510eef0e24d2c7fb",
     "locked": true,
     "schema_version": 3,
     "solution": false,
     "task": false
    }
   },
   "source": [
    "__Try running the cell above__ with `my_condition` set to both `True` and `False`; you'll find that it works perfectly.  But so does _this:_"
   ]
  },
  {
   "cell_type": "code",
   "execution_count": null,
   "metadata": {},
   "outputs": [],
   "source": [
    "# This code behaves identically to the cell above!\n",
    "\n",
    "my_condition = True\n",
    "assert my_condition"
   ]
  },
  {
   "cell_type": "markdown",
   "metadata": {
    "nbgrader": {
     "grade": false,
     "grade_id": "cell-481177581d61fd00",
     "locked": true,
     "schema_version": 3,
     "solution": false,
     "task": false
    }
   },
   "source": [
    "The statement `my_condition == True` is _identical_ to just `my_condition`, because the equality test maps `True` to `True`, and `False` to `False`!\n",
    "\n",
    "What if we want to test for a condition being _false_?  Again, we could use `==`, but it turns out that the `not` operator does the same thing:"
   ]
  },
  {
   "cell_type": "code",
   "execution_count": null,
   "metadata": {},
   "outputs": [],
   "source": [
    "print(True == False)\n",
    "print(not True)\n",
    "\n",
    "print(False == False)\n",
    "print(not False)"
   ]
  },
  {
   "cell_type": "markdown",
   "metadata": {
    "nbgrader": {
     "grade": false,
     "grade_id": "cell-bbda0369abf0b800",
     "locked": true,
     "schema_version": 3,
     "solution": false,
     "task": false
    }
   },
   "source": [
    "So we could just write `assert not thing_that_should_be_false`, and again skip using `==`.  \n",
    "\n",
    "__Try to get in the habit of skipping `==` when testing Boolean variables!__  It will make your code cleaner, and if you pick good variable names it can be just as clear to read statements like `assert oven_is_preheated` or `assert not oven_is_on_fire`.\n",
    "\n",
    "__If you used `==` in your `assert` statements above, go back now and rewrite them without `==`.__"
   ]
  },
  {
   "cell_type": "markdown",
   "metadata": {
    "nbgrader": {
     "grade": false,
     "grade_id": "cell-d8af14168d24bf23",
     "locked": true,
     "schema_version": 3,
     "solution": false,
     "task": false
    }
   },
   "source": [
    "### Part D\n",
    "\n",
    "One fact we mentioned is that Booleans can be interpreted as equivalent to their underlying binary values (0 for `False` and 1 for `True`), and vice-versa.  Usually, you should _not_ use this feature; to avoid surprises from your code, be explicit when carrying out tests to make Booleans!\n",
    "\n",
    "However, there are exceptions to any rule.  One very useful application of treating Booleans as numbers is _counting_.  We haven't talked about conditional tests in NumPy yet, but if we do a simple test on an array, NumPy will produce an array of Booleans as a result:"
   ]
  },
  {
   "cell_type": "code",
   "execution_count": null,
   "metadata": {},
   "outputs": [],
   "source": [
    "## Example code\n",
    "\n",
    "import numpy as np\n",
    "\n",
    "a = np.arange(-5, 5)\n",
    "print(a)\n",
    "print(a > 0)"
   ]
  },
  {
   "cell_type": "markdown",
   "metadata": {
    "nbgrader": {
     "grade": false,
     "grade_id": "cell-ba3720b124e64a8e",
     "locked": true,
     "schema_version": 3,
     "solution": false,
     "task": false
    }
   },
   "source": [
    "If you use `np.sum()` on a Boolean array, it will treat the entries as numbers: the result will be a count of how many entries are `True`.  __Try it on the array `a` created in the last cell!__\n",
    "\n",
    "Then, make another array which contains __all of the _even_ integers from 0 to 10,000__ (remember, `np.arange(a, b, n)` will run from `a` to `b`, stepping by `n`.)  Use the `%` (modulo) operator to count: __how many of these numbers are multiples of 7?__  (You should find that there are 715 of them.)\n",
    "\n",
    "_(Hint: modulo gives the remainder after dividing.  Any number which is a multiple of 7 will be equal to 0, modulo 7.  For example, `a % 2` will be `0` if a is even, or `1` if a is odd.)_"
   ]
  },
  {
   "cell_type": "code",
   "execution_count": null,
   "metadata": {
    "nbgrader": {
     "grade": false,
     "grade_id": "cell-7074ed75e915a804",
     "locked": false,
     "schema_version": 3,
     "solution": true,
     "task": false
    }
   },
   "outputs": [],
   "source": [
    "#"
   ]
  },
  {
   "cell_type": "markdown",
   "metadata": {
    "nbgrader": {
     "grade": false,
     "grade_id": "cell-771a8f840a574376",
     "locked": true,
     "schema_version": 3,
     "solution": false,
     "task": false
    }
   },
   "source": [
    "Actually, a better function to choose for this application is `np.count_nonzero()`.  This will produce the same result as `np.sum()` on a Boolean array, but it is optimized for this specialized task and so will run more quickly.  Run the cell below to see how they compare, using the Jupyter magic command `%timeit`!"
   ]
  },
  {
   "cell_type": "code",
   "execution_count": null,
   "metadata": {
    "nbgrader": {
     "grade": false,
     "grade_id": "cell-fb1d4ab6671d26e1",
     "locked": true,
     "schema_version": 3,
     "solution": false,
     "task": false
    }
   },
   "outputs": [],
   "source": [
    "a = np.arange(-100000, 100000)\n",
    "b = a <= 0\n",
    "\n",
    "print(np.sum(b))\n",
    "print(np.count_nonzero(b))\n",
    "\n",
    "%timeit np.sum(b)\n",
    "%timeit np.count_nonzero(b)"
   ]
  },
  {
   "cell_type": "markdown",
   "metadata": {
    "nbgrader": {
     "grade": false,
     "grade_id": "cell-72e43e573ddc86d7",
     "locked": true,
     "schema_version": 3,
     "solution": false,
     "task": false
    }
   },
   "source": [
    "## T8.2 - A cautionary tale about `==`"
   ]
  },
  {
   "cell_type": "markdown",
   "metadata": {
    "nbgrader": {
     "grade": false,
     "grade_id": "cell-6cee30a22c043d16",
     "locked": true,
     "schema_version": 3,
     "solution": false,
     "task": false
    }
   },
   "source": [
    "### Part A\n",
    "\n",
    "Suppose we want to implement a function `is_triple(x,y)` which returns a Boolean result: `True` if `y` is 3 times `x`, and `False` otherwise.  (Don't ask me _why_ we want such a contrived function, it's just an example.)  Here's one simple way to do it:"
   ]
  },
  {
   "cell_type": "code",
   "execution_count": null,
   "metadata": {
    "nbgrader": {
     "grade": false,
     "grade_id": "cell-198606448b44ec57",
     "locked": true,
     "schema_version": 3,
     "solution": false,
     "task": false
    }
   },
   "outputs": [],
   "source": [
    "def is_triple(x, y):\n",
    "    return y == 3 * x"
   ]
  },
  {
   "cell_type": "markdown",
   "metadata": {
    "nbgrader": {
     "grade": false,
     "grade_id": "cell-966566d2c3c64b5b",
     "locked": true,
     "schema_version": 3,
     "solution": false,
     "task": false
    }
   },
   "source": [
    "Looks reasonable, at least for the first few tests, but notice that the fourth test is wrong below:"
   ]
  },
  {
   "cell_type": "code",
   "execution_count": null,
   "metadata": {
    "nbgrader": {
     "grade": true,
     "grade_id": "cell-b0daa4b64035f749",
     "locked": true,
     "points": 0,
     "schema_version": 3,
     "solution": false,
     "task": false
    }
   },
   "outputs": [],
   "source": [
    "## Testing cell - all should be True\n",
    "\n",
    "print(is_triple(3.0, 9.0))\n",
    "print(is_triple(1, 3.0))\n",
    "print(is_triple(1 / 3.0, 1.0))\n",
    "print(is_triple(1 / 5.0, 3 / 5.0))"
   ]
  },
  {
   "cell_type": "markdown",
   "metadata": {
    "nbgrader": {
     "grade": false,
     "grade_id": "cell-d00ec015854c00ca",
     "locked": true,
     "schema_version": 3,
     "solution": false,
     "task": false
    }
   },
   "source": [
    "Why do you think `is_triple` doesn't work as expected in the fourth test case?"
   ]
  },
  {
   "cell_type": "markdown",
   "metadata": {
    "nbgrader": {
     "grade": true,
     "grade_id": "cell-a4a75f69a401ea2a",
     "locked": false,
     "points": 0,
     "schema_version": 3,
     "solution": true,
     "task": false
    }
   },
   "source": [
    "__Floating-point precision strikes again!  The order of operations matters at the level of round-off error: 1/5 * 3 gives a slightly different result than 3 / 5 in binary with limited precision.__"
   ]
  },
  {
   "cell_type": "markdown",
   "metadata": {
    "nbgrader": {
     "grade": false,
     "grade_id": "cell-25cee83ad44ecd0e",
     "locked": true,
     "schema_version": 3,
     "solution": false,
     "task": false
    }
   },
   "source": [
    "### Part B\n",
    "\n",
    "Implement a better version of this function, `is_approx_triple(x,y,prec)`, where `prec` should start with a default value of `1e-10`.  This function should check to make sure that y is equal to 3x only up to differences of order `prec`.  Then run the testing cell below and make sure everything prints `True`."
   ]
  },
  {
   "cell_type": "code",
   "execution_count": null,
   "metadata": {
    "nbgrader": {
     "grade": false,
     "grade_id": "cell-d78da5928505435c",
     "locked": false,
     "schema_version": 3,
     "solution": true,
     "task": false
    }
   },
   "outputs": [],
   "source": [
    "def is_float_triple(x, y, prec=1e-10):\n",
    "    #"
   ]
  },
  {
   "cell_type": "code",
   "execution_count": null,
   "metadata": {
    "nbgrader": {
     "grade": true,
     "grade_id": "cell-e1e34db5e48ff7fc",
     "locked": true,
     "points": 0,
     "schema_version": 3,
     "solution": false,
     "task": false
    }
   },
   "outputs": [],
   "source": [
    "## Testing cell - all should be True\n",
    "\n",
    "print(is_float_triple(3.0, 9.0))\n",
    "print(is_float_triple(1.0, 3.0))\n",
    "print(is_float_triple(1 / 64.0, 3 / 64.0))\n",
    "print(is_float_triple(1 / 10.0, 3 / 10.0))\n",
    "print(is_float_triple(1 / 5.0, 3 / 5.0))"
   ]
  },
  {
   "cell_type": "markdown",
   "metadata": {
    "nbgrader": {
     "grade": false,
     "grade_id": "cell-b919d555a02c3f63",
     "locked": true,
     "schema_version": 3,
     "solution": false,
     "task": false
    }
   },
   "source": [
    "Now, __make the default value of `prec` smaller__ until you can reproduce the behavior of the original `is_triple()` function.  Thinking back to [our lecture on floating-point numbers](https://physicscourses.colorado.edu/phys2600/phys2600_sp19/lecture/lec04-numbers-binary/), we recall that the truncation error appears around 1 part in $10^{16}$;  __where do you actually see the behavior change?__\n",
    "\n",
    "_HINT: there is a common bug that you may have introduced in_ `is_float_triple` - _in fact, I introduced it in my first attempt.  If you're not seeing the expected behavior, try setting `prec=0`.  What should that give you, and what do you see?_"
   ]
  },
  {
   "cell_type": "code",
   "execution_count": null,
   "metadata": {
    "nbgrader": {
     "grade": false,
     "grade_id": "cell-03c258c4f632f7f2",
     "locked": false,
     "schema_version": 3,
     "solution": true,
     "task": false
    }
   },
   "outputs": [],
   "source": [
    "is_float_triple(1 / 5.0, 3 / 5.0, prec=1e-16)"
   ]
  },
  {
   "cell_type": "markdown",
   "metadata": {
    "nbgrader": {
     "grade": true,
     "grade_id": "cell-213d0ede38c08cfa",
     "locked": false,
     "points": 0,
     "schema_version": 3,
     "solution": true,
     "task": false
    }
   },
   "source": [
    "__The average 64-bit truncation error we estimated on tutorial 4 was about $10^{-16}$; that's precisely where you'll see the deviation occur.  Keep in mind that $10^{-16}$ is a relative error - if you try with 1/355. vs. 3/355., you'll see that prec must get down to $10^{-18}$ to cause a False output, since the starting value is around 0.01.__"
   ]
  },
  {
   "cell_type": "markdown",
   "metadata": {
    "nbgrader": {
     "grade": false,
     "grade_id": "cell-76cfa8b66a5080bb",
     "locked": true,
     "schema_version": 3,
     "solution": false,
     "task": false
    }
   },
   "source": [
    "__Important info:__ for testing, we don't have to do this by hand!  You've probably seen me import the `numpy.testing` module in some test cells already.  There are [a bunch of testing functions available](https://docs.scipy.org/doc/numpy/reference/routines.testing.html) in this module, but the one I commonly use is `numpy.testing.assert_allclose`, which has the following signature:\n",
    "\n",
    "```\n",
    "numpy.testing.assert_allclose(actual, desired, rtol=1e-7, atol=0)\n",
    "```\n",
    "(and a couple more optional arguments which you will rarely need.)  Here `rtol` is short for \"__relative tolerance__\", which tests for equality as a fraction of the second argument passed, `desired`.  `atol` is short for \"__absolute tolerance__\", which is what we did in the example above: it just tests for the difference to be small than `atol`.\n",
    "\n",
    "To restate it following the documentation: this function carries out the test\n",
    "```\n",
    "assert abs(actual - desired) < atol + rtol * abs(desired)\n",
    "```\n",
    "Of course, this function has one more advantage over the one we wrote: it works on entire NumPy arrays as well as single numbers.\n",
    "\n",
    "To avoid things like floating-point truncation error, `rtol` is usually a more appropriate choice!  In general, __only use `atol` if you know to expect some source of absolute error.__"
   ]
  },
  {
   "cell_type": "markdown",
   "metadata": {
    "nbgrader": {
     "grade": false,
     "grade_id": "cell-420f675bf9809b66",
     "locked": true,
     "schema_version": 3,
     "solution": false,
     "task": false
    }
   },
   "source": [
    "### Part C (optional challenge)\n",
    "\n",
    "Now that you know how to deal with floating-point numbers in comparisons, let's try a more interesting function!  We can always tell whether a given triangle is a _right triangle_ just by knowing the lengths of the three sides: they will satisfy the Pythagorean theorem $a^2 + b^2 = c^2$ if any angle is 90 degrees.\n",
    "\n",
    "__Implement the function `is_nearly_right_triangle()` below__, which should return `True` if a triangle with sides `s,t,u` is a right triangle, and `False` otherwise.\n",
    "\n",
    "_(Hint: remember that you don't know beforehand which of `s,t,u` is the longest side...)_"
   ]
  },
  {
   "cell_type": "code",
   "execution_count": null,
   "metadata": {
    "nbgrader": {
     "grade": false,
     "grade_id": "cell-ebf7ba549e8645e4",
     "locked": false,
     "schema_version": 3,
     "solution": true,
     "task": false
    }
   },
   "outputs": [],
   "source": [
    "def is_nearly_right_triangle(s, t, u, prec=1e-6):\n",
    "    #"
   ]
  },
  {
   "cell_type": "code",
   "execution_count": null,
   "metadata": {
    "nbgrader": {
     "grade": true,
     "grade_id": "cell-ad413f4900de05b6",
     "locked": true,
     "points": 0,
     "schema_version": 3,
     "solution": false,
     "task": false
    }
   },
   "outputs": [],
   "source": [
    "import numpy as np\n",
    "\n",
    "assert not is_nearly_right_triangle(3.0, 3.0, 3.0)\n",
    "assert is_nearly_right_triangle(3.0, 4.0, 5.0)\n",
    "assert is_nearly_right_triangle(5.0, 3.0, 4.0)\n",
    "assert is_nearly_right_triangle(3.0, 5.0, 4.0)\n",
    "assert is_nearly_right_triangle(np.sqrt(2), 1.0, 1.0)\n",
    "assert is_nearly_right_triangle(1.4, 1.0, 1.0, prec=0.1)"
   ]
  }
 ],
 "metadata": {
  "kernelspec": {
   "display_name": "Python 3 (ipykernel)",
   "language": "python",
   "name": "python3"
  },
  "language_info": {
   "codemirror_mode": {
    "name": "ipython",
    "version": 3
   },
   "file_extension": ".py",
   "mimetype": "text/x-python",
   "name": "python",
   "nbconvert_exporter": "python",
   "pygments_lexer": "ipython3",
   "version": "3.13.7"
  }
 },
 "nbformat": 4,
 "nbformat_minor": 4
}
