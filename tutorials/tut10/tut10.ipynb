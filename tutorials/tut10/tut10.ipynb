{
 "cells": [
  {
   "cell_type": "markdown",
   "metadata": {
    "nbgrader": {
     "grade": false,
     "grade_id": "cell-100899e0deea9789",
     "locked": true,
     "schema_version": 3,
     "solution": false,
     "task": false
    }
   },
   "source": [
    "# Tutorial 10: Indexing, slicing and masking\n",
    "\n",
    "## PHYS 2600"
   ]
  },
  {
   "cell_type": "code",
   "execution_count": null,
   "metadata": {
    "nbgrader": {
     "grade": false,
     "grade_id": "cell-b5c5bae822da3414",
     "locked": true,
     "schema_version": 3,
     "solution": false,
     "task": false
    }
   },
   "outputs": [],
   "source": [
    "## Commonly-used import cell\n",
    "\n",
    "%matplotlib inline\n",
    "\n",
    "import numpy as np\n",
    "import matplotlib.pyplot as plt"
   ]
  },
  {
   "cell_type": "markdown",
   "metadata": {
    "nbgrader": {
     "grade": false,
     "grade_id": "cell-70bab1cfe57fa00d",
     "locked": true,
     "schema_version": 3,
     "solution": false,
     "task": false
    }
   },
   "source": [
    "## T10.1 - Indexing, slicing, and masking\n",
    "\n",
    "Let's begin with some simple practice in indexing.  First, __run the cell below__ to load a few arrays into the global namespace.  (If you make any mistakes below, you can always re-run this cell to re-initialize the arrays.)"
   ]
  },
  {
   "cell_type": "code",
   "execution_count": null,
   "metadata": {
    "nbgrader": {
     "grade": false,
     "grade_id": "cell-a72d1bde6c4eef30",
     "locked": true,
     "schema_version": 3,
     "solution": false,
     "task": false
    }
   },
   "outputs": [],
   "source": [
    "planets = np.array(['Mercury', 'Venus', 'Earth', 'Mars', 'Jupiter', 'Saturn', 'Uranus', 'Neptune', 'n/a'])\n",
    "powers_of_two = np.array([1,   2,   4,   8,  16,  32,  64, 128, 256, 512])\n",
    "some_data = np.array([ 4.00, 1.72, -0.22, 1.80, -3.61, -0.90, -3.29, 4.45, 3.29, 2.26])\n",
    "also_planets = planets"
   ]
  },
  {
   "cell_type": "markdown",
   "metadata": {
    "nbgrader": {
     "grade": false,
     "grade_id": "cell-754259a5ce52e073",
     "locked": true,
     "schema_version": 3,
     "solution": false,
     "task": false
    }
   },
   "source": [
    "### Part A\n",
    "\n",
    "Use _index_ notation `a[i]` to accomplish the following:\n",
    "\n",
    "* Get and print the name of the sixth planet, Saturn, from `planets`.\n",
    "* Set the last entry of `planets` to `'Pluto'` (then print `planets` again to make sure it worked.)"
   ]
  },
  {
   "cell_type": "code",
   "execution_count": null,
   "metadata": {
    "nbgrader": {
     "grade": true,
     "grade_id": "cell-d18ef10a6b6141df",
     "locked": false,
     "points": 2,
     "schema_version": 3,
     "solution": true,
     "task": false
    }
   },
   "outputs": [],
   "source": [
    "#"
   ]
  },
  {
   "cell_type": "markdown",
   "metadata": {
    "nbgrader": {
     "grade": false,
     "grade_id": "cell-80cc23e4b673174f",
     "locked": true,
     "schema_version": 3,
     "solution": false,
     "task": false
    }
   },
   "source": [
    "When you assigned to `planets` above, you changed the array __in-place__, which means you actually modified the block of memory allocated when we made `planets`.  That means that any name which points to the _same array_ will see the changes you made.\n",
    "\n",
    "__Print out the array `also_planets`__ and verify that it shows the addition of Pluto as well."
   ]
  },
  {
   "cell_type": "code",
   "execution_count": null,
   "metadata": {
    "nbgrader": {
     "grade": false,
     "grade_id": "cell-48bc3e3b9c55cb35",
     "locked": false,
     "schema_version": 3,
     "solution": true,
     "task": false
    }
   },
   "outputs": [],
   "source": [
    "also_planets"
   ]
  },
  {
   "cell_type": "markdown",
   "metadata": {
    "nbgrader": {
     "grade": false,
     "grade_id": "cell-81fb28c6932df12a",
     "locked": true,
     "schema_version": 3,
     "solution": false,
     "task": false
    }
   },
   "source": [
    "### Part B\n",
    "\n",
    "Use _slice_ notation `a[i:j:k]` to accomplish the following:\n",
    "\n",
    "* Get and print the names of the _inner planets_, i.e. everything closer to the Sun than Jupiter, from `planets`.\n",
    "* Get and print all _even_ powers of 2, i.e. $2^0, 2^2, 2^4...$, which appear in `powers_of_two`.\n"
   ]
  },
  {
   "cell_type": "code",
   "execution_count": null,
   "metadata": {
    "nbgrader": {
     "grade": false,
     "grade_id": "cell-a4a4dbe080e51c1f",
     "locked": false,
     "schema_version": 3,
     "solution": true,
     "task": false
    }
   },
   "outputs": [],
   "source": [
    "#"
   ]
  },
  {
   "cell_type": "markdown",
   "metadata": {
    "nbgrader": {
     "grade": false,
     "grade_id": "cell-234368757b9385f5",
     "locked": true,
     "schema_version": 3,
     "solution": false,
     "task": false
    }
   },
   "source": [
    "Now a more complicated use of slice notation: __divide the last three entries__ in `some_data` __by 5__ (change them __in-place__, i.e. this should _mutate_ `some_data`!)  The test following will verify that you've done this correctly.\n",
    "\n",
    "(If the `some_data` array gets messed up and you need to reset it, just go back and re-run the first cell in this problem.)"
   ]
  },
  {
   "cell_type": "code",
   "execution_count": null,
   "metadata": {
    "nbgrader": {
     "grade": false,
     "grade_id": "cell-0d7138c61ff51473",
     "locked": false,
     "schema_version": 3,
     "solution": true,
     "task": false
    }
   },
   "outputs": [],
   "source": [
    "#"
   ]
  },
  {
   "cell_type": "code",
   "execution_count": null,
   "metadata": {
    "nbgrader": {
     "grade": true,
     "grade_id": "cell-499288f8c2a220c9",
     "locked": true,
     "points": 0,
     "schema_version": 3,
     "solution": false,
     "task": false
    }
   },
   "outputs": [],
   "source": [
    "# Testing cell\n",
    "\n",
    "import numpy.testing as npt\n",
    "\n",
    "npt.assert_allclose(some_data, [4, 1.72, -0.22, 1.8, -3.61, -0.9, -3.29, 0.89, 0.658, 0.452], rtol=1e-2)"
   ]
  },
  {
   "cell_type": "markdown",
   "metadata": {
    "nbgrader": {
     "grade": false,
     "grade_id": "cell-9d2e0def67610cff",
     "locked": true,
     "schema_version": 3,
     "solution": false,
     "task": false
    }
   },
   "source": [
    "### Part C\n",
    "\n",
    "Finally, use _mask_ notation `a[bool_array]` to accomplish the following:\n",
    "\n",
    "* Get and print all of the negative entries in `some_data`.\n",
    "* Square all of the entries in `powers_of_two` which are greater than 100 (then print `powers_of_two`.)"
   ]
  },
  {
   "cell_type": "code",
   "execution_count": null,
   "metadata": {
    "nbgrader": {
     "grade": false,
     "grade_id": "cell-cffc75db17d3134b",
     "locked": false,
     "schema_version": 3,
     "solution": true,
     "task": false
    }
   },
   "outputs": [],
   "source": [
    "#"
   ]
  },
  {
   "cell_type": "markdown",
   "metadata": {
    "nbgrader": {
     "grade": false,
     "grade_id": "cell-17a2374ba27b0347",
     "locked": true,
     "schema_version": 3,
     "solution": false,
     "task": false
    }
   },
   "source": [
    "## T10.2 - Changing arrays\n",
    "\n",
    "In the above examples, we made modifications to our arrays _in place_.  Now let's investigate some of the NumPy operations that create _new_ arrays as a result.  As always, use the NumPy documentation and/or the `?` magic command if you're not sure exactly how to use a function.\n",
    "\n",
    "### Part A\n",
    "\n",
    "The array `a` below contains a list of even numbers from 0 to 16.  __Use `np.insert()`__ to make a new array with the number 9 added to it (in numerical order.)  Then, print your new array to make sure it worked."
   ]
  },
  {
   "cell_type": "code",
   "execution_count": null,
   "metadata": {
    "nbgrader": {
     "grade": true,
     "grade_id": "cell-cb560810a7c77c3b",
     "locked": false,
     "points": 0,
     "schema_version": 3,
     "solution": true,
     "task": false
    }
   },
   "outputs": [],
   "source": [
    "a = np.arange(0,17,2)\n"
   ]
  },
  {
   "cell_type": "markdown",
   "metadata": {
    "nbgrader": {
     "grade": false,
     "grade_id": "cell-a391f1a0b148d6ff",
     "locked": true,
     "schema_version": 3,
     "solution": false,
     "task": false
    }
   },
   "source": [
    "### Part B\n",
    "\n",
    "__Use `np.delete()`__ to remove Pluto from the array `planets`, defined above.  Then print `planets` again to verify that you have removed it.\n",
    "\n",
    "(Remember: `np.delete()` returns a new array, just like the other functions in this problem!  You'll have to save the result _back_ to `planets` if you want to change the original.) "
   ]
  },
  {
   "cell_type": "code",
   "execution_count": null,
   "metadata": {
    "nbgrader": {
     "grade": false,
     "grade_id": "cell-c3cfb2a02999ef43",
     "locked": false,
     "schema_version": 3,
     "solution": true,
     "task": false
    }
   },
   "outputs": [],
   "source": [
    "#"
   ]
  },
  {
   "cell_type": "markdown",
   "metadata": {
    "nbgrader": {
     "grade": false,
     "grade_id": "cell-dd3c515fa721df9f",
     "locked": true,
     "schema_version": 3,
     "solution": false,
     "task": false
    }
   },
   "source": [
    "### Part C\n",
    "\n",
    "__Use `np.append()`__ to create a single array  that _counts from 0-60_ exactly as follows:\n",
    "\n",
    "* Every number from 0 to 10 (including 0), then\n",
    "* Every _other_ number from 10 to 30 (so `[10,12,14...]`), and finally\n",
    "* Every _third_ number from 30 to 60, including 60 (so `[30,33,36...,60]`).\n",
    "\n",
    "As a quick way to check your answer, your final array should have length 31."
   ]
  },
  {
   "cell_type": "code",
   "execution_count": null,
   "metadata": {
    "nbgrader": {
     "grade": true,
     "grade_id": "cell-78fc92a56705f106",
     "locked": false,
     "points": 0,
     "schema_version": 3,
     "solution": true,
     "task": false
    }
   },
   "outputs": [],
   "source": [
    "#"
   ]
  },
  {
   "cell_type": "markdown",
   "metadata": {
    "nbgrader": {
     "grade": false,
     "grade_id": "cell-7f69ad3248367592",
     "locked": true,
     "schema_version": 3,
     "solution": false,
     "task": false
    }
   },
   "source": [
    "## T10.3 - More on masks and Boolean logic\n",
    "\n",
    "Masks are one of the most powerful tools we have for manipulating parts of a NumPy array, beyond the simple examples we saw above.  Let's get more comfortable with using masks, and then see a couple of applications.\n",
    "\n",
    "### Part A\n",
    "\n",
    "Let's begin with the example from lecture:\n",
    "\n",
    "<img src=\"https://raw.githubusercontent.com/wlough/CU-Phys2600-Fall2025/main/lectures/img/mask.png\" width=400px />"
   ]
  },
  {
   "cell_type": "code",
   "execution_count": null,
   "metadata": {
    "nbgrader": {
     "grade": false,
     "grade_id": "cell-d9b2fc5608d5e562",
     "locked": true,
     "schema_version": 3,
     "solution": false,
     "task": false
    }
   },
   "outputs": [],
   "source": [
    "a = np.array([17,-3,-44,8,56])\n",
    "pos_mask = a > 0\n",
    "print(pos_mask)\n",
    "print(a[pos_mask])"
   ]
  },
  {
   "cell_type": "markdown",
   "metadata": {
    "nbgrader": {
     "grade": false,
     "grade_id": "cell-d78353bb182dac96",
     "locked": true,
     "schema_version": 3,
     "solution": false,
     "task": false
    }
   },
   "source": [
    "As we saw in lecture, we can use the mask __in reverse__, to assign to a sub-array of `a`.  In the cell below, __use `pos_mask` to multiply all of the positive entries in `a` by -1__, so that the array becomes entirely negative."
   ]
  },
  {
   "cell_type": "code",
   "execution_count": null,
   "metadata": {
    "nbgrader": {
     "grade": false,
     "grade_id": "cell-b409d4b737aa9325",
     "locked": false,
     "schema_version": 3,
     "solution": true,
     "task": false
    }
   },
   "outputs": [],
   "source": [
    "#"
   ]
  },
  {
   "cell_type": "markdown",
   "metadata": {
    "nbgrader": {
     "grade": false,
     "grade_id": "cell-73cfc0825a4043ed",
     "locked": true,
     "schema_version": 3,
     "solution": false,
     "task": false
    }
   },
   "source": [
    "When we use a comparison operator like `a > 0`, we _create a new array_ to be a mask.  That means that `pos_mask` doesn't change automatically if we change `a` - __run the cell below__ to verify that `pos_mask` is unchanged.  (Of course, we can always run a new comparison `a > 0` to get an updated mask.)"
   ]
  },
  {
   "cell_type": "code",
   "execution_count": null,
   "metadata": {
    "nbgrader": {
     "grade": false,
     "grade_id": "cell-276186b8d90b4ca2",
     "locked": true,
     "schema_version": 3,
     "solution": false,
     "task": false
    }
   },
   "outputs": [],
   "source": [
    "print(a)\n",
    "print(pos_mask)\n",
    "print(a > 0)"
   ]
  },
  {
   "cell_type": "markdown",
   "metadata": {
    "nbgrader": {
     "grade": false,
     "grade_id": "cell-f0c55c01876cd15d",
     "locked": true,
     "schema_version": 3,
     "solution": false,
     "task": false
    }
   },
   "source": [
    "### Part B\n",
    "\n",
    "As with single Boolean values, there are many situations where applying logical operations to combine or negate a mask is very useful.  Let's run through some examples: first __run the next cell__ to create an array and some masks."
   ]
  },
  {
   "cell_type": "code",
   "execution_count": null,
   "metadata": {
    "nbgrader": {
     "grade": false,
     "grade_id": "cell-4afaeffdd6fdbe87",
     "locked": true,
     "schema_version": 3,
     "solution": false,
     "task": false
    }
   },
   "outputs": [],
   "source": [
    "b = np.arange(21)\n",
    "div_2_mask = b % 2 == 0\n",
    "div_3_mask = b % 3 == 0\n",
    "div_5_mask = b % 5 == 0\n",
    "print(b)\n",
    "print(b[div_2_mask])\n",
    "print(b[div_3_mask])\n",
    "print(b[div_5_mask])"
   ]
  },
  {
   "cell_type": "markdown",
   "metadata": {
    "nbgrader": {
     "grade": false,
     "grade_id": "cell-bc084712e7d0099b",
     "locked": true,
     "schema_version": 3,
     "solution": false,
     "task": false
    }
   },
   "source": [
    "Our masks here are using the modulo operator to single out numbers in `b` that are divisible by 2, 3, or 5.  Thus, for example, `b[div_2_mask]` gives us all the even numbers.  \n",
    "\n",
    "But what if we want all the _odd_ numbers in `b` instead?  We could make a new mask like `b % 2 != 0`, but we don't need to, since `div_2_mask` already has the information we want if we apply the logical operation `not` to it.\n",
    "\n",
    "Unfortunately, we can't use the keyword `not`, as you'll see from running the cell below:"
   ]
  },
  {
   "cell_type": "code",
   "execution_count": null,
   "metadata": {
    "nbgrader": {
     "grade": false,
     "grade_id": "cell-69437bc1542766ce",
     "locked": true,
     "schema_version": 3,
     "solution": false,
     "task": false
    }
   },
   "outputs": [],
   "source": [
    "not div_2_mask"
   ]
  },
  {
   "cell_type": "markdown",
   "metadata": {
    "nbgrader": {
     "grade": false,
     "grade_id": "cell-96163c8d34863db6",
     "locked": true,
     "schema_version": 3,
     "solution": false,
     "task": false
    }
   },
   "source": [
    "This is the error you'll see if you try to use any of `and`, `or`, or `not` on an array: these operators only work on single Boolean values, not arrays!  Instead, we must use the NumPy equivalent functions.  __Run the next cell__ to see simple examples of each NumPy logical operation."
   ]
  },
  {
   "cell_type": "code",
   "execution_count": null,
   "metadata": {
    "nbgrader": {
     "grade": false,
     "grade_id": "cell-c6deab1dd67b2a88",
     "locked": true,
     "schema_version": 3,
     "solution": false,
     "task": false
    }
   },
   "outputs": [],
   "source": [
    "bool_A = np.array([True, True, False])\n",
    "bool_B = np.array([False, True, True])\n",
    "\n",
    "print(np.logical_not(bool_A))\n",
    "print(np.logical_or(bool_A, bool_B))\n",
    "print(np.logical_and(bool_A, bool_B))\n",
    "\n",
    "# Shorthand with \"bit logic\" operators\n",
    "print(~bool_A)\n",
    "print(bool_A | bool_B)\n",
    "print(bool_A & bool_B)"
   ]
  },
  {
   "cell_type": "markdown",
   "metadata": {
    "nbgrader": {
     "grade": false,
     "grade_id": "cell-10c7d5a166cafc49",
     "locked": true,
     "schema_version": 3,
     "solution": false,
     "task": false
    }
   },
   "source": [
    "The operators `~`, `|` and `&` are __\"bit logic\" operations__, that act on the underlying binary data of a Python object directly.  For most purposes you should avoid these operators, but since a Boolean object is a single bit, they just act like shorthand for the logical operations `not`, `or`, `and`.  \n",
    "\n",
    "You can use them interchangeably, but __be careful with the bit-wise operators__, because they will work on _non-Boolean_ objects too - and the results will be pretty weird!\n",
    "\n",
    "Back to our example: use the `not` operation and `div_2_mask` to __select all of the odd entries in `b`__."
   ]
  },
  {
   "cell_type": "code",
   "execution_count": null,
   "metadata": {
    "nbgrader": {
     "grade": false,
     "grade_id": "cell-db07479c86ec9af1",
     "locked": false,
     "schema_version": 3,
     "solution": true,
     "task": false
    }
   },
   "outputs": [],
   "source": [
    "#"
   ]
  },
  {
   "cell_type": "markdown",
   "metadata": {
    "nbgrader": {
     "grade": false,
     "grade_id": "cell-ffe1a8e1b4214765",
     "locked": true,
     "schema_version": 3,
     "solution": false,
     "task": false
    }
   },
   "source": [
    "Now use the `and` operation with the masks we defined to __select all of the multiples of 6 in `b`__."
   ]
  },
  {
   "cell_type": "code",
   "execution_count": null,
   "metadata": {
    "nbgrader": {
     "grade": false,
     "grade_id": "cell-3c6734e7aea2175f",
     "locked": false,
     "schema_version": 3,
     "solution": true,
     "task": false
    }
   },
   "outputs": [],
   "source": [
    "#"
   ]
  },
  {
   "cell_type": "markdown",
   "metadata": {
    "nbgrader": {
     "grade": false,
     "grade_id": "cell-de39725124b390b2",
     "locked": true,
     "schema_version": 3,
     "solution": false,
     "task": false
    }
   },
   "source": [
    "Finally, let's try assigning through the mask: use the `or` operation to __set every entry of `b` which is not a multiple of 2, 3, or 5 to zero.__  (Print `b` again to verify your operation.)"
   ]
  },
  {
   "cell_type": "code",
   "execution_count": null,
   "metadata": {
    "nbgrader": {
     "grade": false,
     "grade_id": "cell-2f7a0e1a9c0d64a7",
     "locked": false,
     "schema_version": 3,
     "solution": true,
     "task": false
    }
   },
   "outputs": [],
   "source": [
    "#"
   ]
  },
  {
   "cell_type": "markdown",
   "metadata": {
    "nbgrader": {
     "grade": false,
     "grade_id": "cell-6b6b221447b16553",
     "locked": true,
     "schema_version": 3,
     "solution": false,
     "task": false
    }
   },
   "source": [
    "### Part C\n",
    "\n",
    "One more bit of weirdness related to NumPy masks before we finish.  We learned before that for convenience, Python will let us chain inequalities together.  This is most useful for testing if a number is inside of a particular interval:"
   ]
  },
  {
   "cell_type": "code",
   "execution_count": null,
   "metadata": {
    "nbgrader": {
     "grade": false,
     "grade_id": "cell-22095bead85d4e62",
     "locked": true,
     "schema_version": 3,
     "solution": false,
     "task": false
    }
   },
   "outputs": [],
   "source": [
    "x = 0.5\n",
    "y = 1.2\n",
    "\n",
    "print(0 < x < 1, 0 < y < 1)"
   ]
  },
  {
   "cell_type": "markdown",
   "metadata": {
    "nbgrader": {
     "grade": false,
     "grade_id": "cell-2b564e7522c1e85d",
     "locked": true,
     "schema_version": 3,
     "solution": false,
     "task": false
    }
   },
   "source": [
    "If you think about it, any double-inequality test like this is equivalent to doing the two tests on either side alone, and then joining them with an `and`.  In fact, __that is exactly what Python does__.  Unfortunately, this means that when we try to use this notation with NumPy, we get an error!\n",
    "\n",
    "__Run the cell below__ to see the familiar message about ambiguous truth values from above.  "
   ]
  },
  {
   "cell_type": "code",
   "execution_count": null,
   "metadata": {
    "nbgrader": {
     "grade": false,
     "grade_id": "cell-79938a720e6d0790",
     "locked": true,
     "schema_version": 3,
     "solution": false,
     "task": false
    }
   },
   "outputs": [],
   "source": [
    "z = np.array([0.5, 1.2])\n",
    "print(0 < z < 1)  ## Interpreted as \"(0 < z) and (z < 1)\""
   ]
  },
  {
   "cell_type": "markdown",
   "metadata": {},
   "source": [
    "Now using your new understanding of logic operations in NumPy, __fix the code__: rewrite the test in the cell below so it will give the array `0 < z < 1 = [True, False]` without an error."
   ]
  },
  {
   "cell_type": "code",
   "execution_count": null,
   "metadata": {
    "nbgrader": {
     "grade": false,
     "grade_id": "cell-2d61efc4a76c54d0",
     "locked": false,
     "schema_version": 3,
     "solution": true,
     "task": false
    }
   },
   "outputs": [],
   "source": [
    "#"
   ]
  },
  {
   "cell_type": "markdown",
   "metadata": {
    "nbgrader": {
     "grade": false,
     "grade_id": "cell-657421b2436e687d",
     "locked": true,
     "schema_version": 3,
     "solution": false,
     "task": false
    }
   },
   "source": [
    "### Part D (optional challenge)\n",
    "\n",
    "Now let's actually do something useful with masks! Implement the __square wave pulse__ function `square_wave(x)` below, which is defined by\n",
    "\n",
    "$$\n",
    "w(x) = \\begin{cases} 1, -1 \\leq x \\leq 1; \\\\ 0,\\ \\rm{otherwise}. \\end{cases}\n",
    "$$\n",
    "\n",
    "_(Hint: the_ `np.zeros_like()` or `np.ones_like()` _functions would be a useful starting point for making the array `w` that your function should return.  Then you just need to apply a mask to set some of the zeros to 1 (or vice-versa.)_\n",
    "\n",
    "__Important note:__ make sure you make a _new_ array for the result of the function `w(x)`, and don't overwrite anything in `x` itself!  Changing `x` would be an example of a __side effect__, which is when a function does something _other_ than just returning a new object.  If you're trying to plot `w(x)`, you don't want to change the `x` array that you're given!"
   ]
  },
  {
   "cell_type": "code",
   "execution_count": null,
   "metadata": {
    "nbgrader": {
     "grade": true,
     "grade_id": "cell-4c11297537d5960e",
     "locked": false,
     "points": 0,
     "schema_version": 3,
     "solution": true,
     "task": false
    }
   },
   "outputs": [],
   "source": [
    "def square_wave(x):\n",
    "    #\n",
    "    "
   ]
  },
  {
   "cell_type": "code",
   "execution_count": null,
   "metadata": {
    "nbgrader": {
     "grade": true,
     "grade_id": "cell-de9e8e87f11f2ee5",
     "locked": true,
     "points": 0,
     "schema_version": 3,
     "solution": false,
     "task": false
    }
   },
   "outputs": [],
   "source": [
    "import numpy.testing as npt\n",
    "\n",
    "x = np.arange(-5,5)\n",
    "npt.assert_allclose(square_wave(x), [0., 0., 0., 0., 1., 1., 1., 0., 0., 0.])\n",
    "npt.assert_allclose(x, np.arange(-5,5))  # Make sure x didn't change - no side effects!"
   ]
  },
  {
   "cell_type": "code",
   "execution_count": null,
   "metadata": {
    "nbgrader": {
     "grade": true,
     "grade_id": "cell-65e4dfaf2a4f5a01",
     "locked": true,
     "points": 0,
     "schema_version": 3,
     "solution": false,
     "task": false
    }
   },
   "outputs": [],
   "source": [
    "# Test plot: should look like a square pulse from -1 to 1\n",
    "\n",
    "x = np.linspace(-3,3,100000)\n",
    "w = square_wave(x)\n",
    "plt.plot(x,w)"
   ]
  }
 ],
 "metadata": {
  "kernelspec": {
   "display_name": "Python 3 (ipykernel)",
   "language": "python",
   "name": "python3"
  },
  "language_info": {
   "codemirror_mode": {
    "name": "ipython",
    "version": 3
   },
   "file_extension": ".py",
   "mimetype": "text/x-python",
   "name": "python",
   "nbconvert_exporter": "python",
   "pygments_lexer": "ipython3",
   "version": "3.13.7"
  }
 },
 "nbformat": 4,
 "nbformat_minor": 4
}
