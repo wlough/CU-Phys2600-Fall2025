{
 "cells": [
  {
   "cell_type": "markdown",
   "metadata": {
    "collapsed": false,
    "editable": true,
    "jupyter": {
     "outputs_hidden": false
    },
    "nbgrader": {
     "grade": false,
     "grade_id": "cell-100899e0deea9789",
     "locked": true,
     "schema_version": 3,
     "solution": false,
     "task": false
    },
    "slideshow": {
     "slide_type": ""
    },
    "tags": []
   },
   "source": [
    "# Tutorial 12: Lists and Design Patterns\n",
    "\n",
    "## PHYS 2600"
   ]
  },
  {
   "cell_type": "markdown",
   "metadata": {
    "collapsed": false,
    "editable": true,
    "jupyter": {
     "outputs_hidden": false
    },
    "nbgrader": {
     "grade": false,
     "grade_id": "cell-e583ec807a8ece85",
     "locked": true,
     "schema_version": 3,
     "solution": false,
     "task": false
    },
    "slideshow": {
     "slide_type": ""
    },
    "tags": []
   },
   "source": [
    "## T12.1 - Design patterns for lists\n",
    "\n",
    "As we discussed in lecture, a __design pattern__ is a more abstract version of an algorithm.\n",
    "\n",
    "Patterns are especially important to know when dealing with lists.  In human language, we can easily describe operations like \"take everything in the list and square it\", but for a computer we have to spell out the steps using a loop!\n",
    "\n",
    "_(Side note: if this was a formal comp sci class, all of these below would probably just be called examples of the \"iterator\" pattern - but here I think it's important to see the variations on them explicitly.)_\n",
    "\n",
    "### Part A: The iterator\n",
    "\n",
    "The __iterator pattern__ is the foundation of all the other ones below: it occurs when we want to step through a list of objects, item by item, and perform some sort of operation using each item.  To implement the iterator for a list, we require an _index variable_, `i`, which will store a valid index in our list.  We then use a loop to perform an operation with the list element at `i`, and then increment `i` by one to move on to the next item.\n",
    "\n",
    "Here's an explicit example like the one from lecture, with a `while` loop that simply prints every element of a list:\n"
   ]
  },
  {
   "cell_type": "code",
   "execution_count": null,
   "metadata": {
    "collapsed": false,
    "jupyter": {
     "outputs_hidden": false
    },
    "nbgrader": {
     "grade": false,
     "grade_id": "cell-245041e9a9b9d94b",
     "locked": true,
     "schema_version": 3,
     "solution": false,
     "task": false
    }
   },
   "outputs": [],
   "source": [
    "i = 0  # Index variable\n",
    "L = ['apple', 'banana', 'carrot', 'dragon fruit']\n",
    "\n",
    "while i < len(L):\n",
    "    print(\"Entry %d in list L is: \" % i, L[i])\n",
    "    \n",
    "    i += 1  # Increment index"
   ]
  },
  {
   "cell_type": "markdown",
   "metadata": {
    "collapsed": false,
    "jupyter": {
     "outputs_hidden": false
    },
    "nbgrader": {
     "grade": false,
     "grade_id": "cell-81872600a9e46810",
     "locked": true,
     "schema_version": 3,
     "solution": false,
     "task": false
    }
   },
   "source": [
    "In Python, we have a shortcut to using this pattern: the `for` loop!  We can iterate over a list without ever having to define an index, as in the following cell:"
   ]
  },
  {
   "cell_type": "code",
   "execution_count": null,
   "metadata": {
    "collapsed": false,
    "jupyter": {
     "outputs_hidden": false
    },
    "nbgrader": {
     "grade": false,
     "grade_id": "cell-0c0c163e60346fb0",
     "locked": true,
     "schema_version": 3,
     "solution": false,
     "task": false
    }
   },
   "outputs": [],
   "source": [
    "for thing in L:\n",
    "    print(thing)"
   ]
  },
  {
   "cell_type": "markdown",
   "metadata": {
    "collapsed": false,
    "jupyter": {
     "outputs_hidden": false
    },
    "nbgrader": {
     "grade": false,
     "grade_id": "cell-4e612fa75ef0721b",
     "locked": true,
     "schema_version": 3,
     "solution": false,
     "task": false
    }
   },
   "source": [
    "The price of using `for` is that we're missing one thing: before we were printing out the _location_ of each entry in the list, using `i`.  With a `for` loop, no index variable is available, so we lose that information.\n",
    "\n",
    "Fortunately, there is a middle ground: we can loop over the values of `i` using a `for` loop!  In the cell below, __use a `for` loop with the `range` function__ to match the output of the `while` loop above.  (Remember, `range()` works just like `np.arange()`.)"
   ]
  },
  {
   "cell_type": "code",
   "execution_count": null,
   "metadata": {
    "collapsed": false,
    "jupyter": {
     "outputs_hidden": false
    },
    "nbgrader": {
     "grade": true,
     "grade_id": "cell-789d2ea964d7267a",
     "locked": false,
     "points": 2,
     "schema_version": 3,
     "solution": true,
     "task": false
    }
   },
   "outputs": [],
   "source": [
    "for i in range(len(L)):\n",
    "    print(\"Entry %d in list L is: \" % i, L[i])"
   ]
  },
  {
   "cell_type": "markdown",
   "metadata": {
    "collapsed": false,
    "jupyter": {
     "outputs_hidden": false
    }
   },
   "source": [
    "\n",
    "### Part B: The accumulator\n",
    "\n",
    "We've seen the __accumulator pattern__ once before, on tutorial 10 when trying to sum up a sequence of numbers.  The basic idea is that we define an _accumulator variable_, which begins at zero, at the start; inside of our loop, we then perform the operation\n",
    "\n",
    "```python\n",
    "accumulator = accumulator + current_term\n",
    "```\n",
    "\n",
    "For example, if we are just adding up the entries of a list `L`, here is what will be in `accumulator` after each of the first few loops:\n",
    "\n",
    "```python\n",
    "accumulator = 0\n",
    "accumulator = L[0]\n",
    "accumulator = L[0] + L[1]\n",
    "accumulator = L[0] + L[1] + L[2]\n",
    "...\n",
    "```\n",
    "\n",
    "\n",
    "so that at the end, the accumulator variable will contain the result `first_term + second_term + ... + last_term`.  \n",
    "Note that it's crucial we define the accumulator _outside_ the loop!  (If we had `accumulator = 0` _inside_ the loop, then it would be reset to zero every time through.)\n",
    "\n",
    "More concretely, here is a `while` loop that uses the accumulator pattern to add up the first `N` powers of two, __starting at two__:\n",
    "\n",
    "```python\n",
    "def sum_powers_of_two(N):\n",
    "    i = 1  # Iterator\n",
    "    total = 0  # Accumulator\n",
    "    \n",
    "    while i <= N:\n",
    "        current_term = 2**i\n",
    "        total += current_term\n",
    "        i += 1\n",
    "        \n",
    "    return total\n",
    "```\n",
    "\n",
    "(I used `total` for my accumulator variable name because it's easier to type than `accumulator`!)  In the cell below, __use a `for` loop instead of a `while` loop__ to implement this function.  \n",
    "\n",
    "_(Hint: as above, you can use `range()` to make a list of `i` values, and then compute `2**i` inside your loop.  Be careful with what is included in your range - we want to include $2^N$ in our sum!)_"
   ]
  },
  {
   "cell_type": "code",
   "execution_count": null,
   "metadata": {
    "collapsed": false,
    "jupyter": {
     "outputs_hidden": false
    },
    "nbgrader": {
     "grade": false,
     "grade_id": "cell-7b158a20b41e0541",
     "locked": false,
     "schema_version": 3,
     "solution": true,
     "task": false
    }
   },
   "outputs": [],
   "source": [
    "def sum_powers_of_two(N):\n",
    "    #"
   ]
  },
  {
   "cell_type": "code",
   "execution_count": null,
   "metadata": {
    "collapsed": false,
    "jupyter": {
     "outputs_hidden": false
    },
    "nbgrader": {
     "grade": true,
     "grade_id": "cell-8d6719c65a72f3ad",
     "locked": true,
     "points": 0,
     "schema_version": 3,
     "solution": false,
     "task": false
    }
   },
   "outputs": [],
   "source": [
    "## Testing print statements - check them!\n",
    "\n",
    "print(sum_powers_of_two(1))  # 2\n",
    "print(sum_powers_of_two(3))  # 2+4+8 = 14\n",
    "print(sum_powers_of_two(4))  # 2+4+8+16 = 30"
   ]
  },
  {
   "cell_type": "markdown",
   "metadata": {
    "collapsed": false,
    "jupyter": {
     "outputs_hidden": false
    },
    "nbgrader": {
     "grade": false,
     "grade_id": "cell-e86df3e28b36e9af",
     "locked": true,
     "schema_version": 3,
     "solution": false,
     "task": false
    }
   },
   "source": [
    "### Part C: The accumulator and other objects\n",
    "\n",
    "When working with lists, we very often want to carry out some operations on the entries and produce a _new_ list.  The accumulator pattern gives us a way to do that, as well!  The idea is the same as above: we start with an empty accumulator, and add the results one at a time in a loop.  In this case, the \"empty accumulator\" is the empty list `[]`, and we add by concatenating to it!  (We could do something similar with other kinds of objects, like strings for example.)\n",
    "\n",
    "Here's an alternative implementation of the `copy()` function acting on a list, using the accumulator pattern:"
   ]
  },
  {
   "cell_type": "code",
   "execution_count": null,
   "metadata": {
    "collapsed": false,
    "jupyter": {
     "outputs_hidden": false
    },
    "nbgrader": {
     "grade": false,
     "grade_id": "cell-f4eda5d82c0bc94c",
     "locked": true,
     "schema_version": 3,
     "solution": false,
     "task": false
    }
   },
   "outputs": [],
   "source": [
    "def copy_list(L):\n",
    "    new_list = []  # Accumulator\n",
    "    i = 0  # Index\n",
    "    \n",
    "    while i < len(L):\n",
    "        new_list.append(L[i])\n",
    "        i += 1\n",
    "        \n",
    "    return new_list\n",
    "\n",
    "\n",
    "copy_list([4,5,6])"
   ]
  },
  {
   "cell_type": "markdown",
   "metadata": {
    "collapsed": false,
    "jupyter": {
     "outputs_hidden": false
    },
    "nbgrader": {
     "grade": false,
     "grade_id": "cell-c544f67d40b2bd24",
     "locked": true,
     "schema_version": 3,
     "solution": false,
     "task": false
    }
   },
   "source": [
    "(Note that we could also have written the accumulation step as `new_list += [ item ]`; we make a new one-element list for `item` because we can only add lists to lists.  But the `.append` version is easier to read, isn't it?)\n",
    "\n",
    "Now you try it!  In the cell below, __implement the function `double_list_items(L)`__, which should return a new list which consists of the elements of `L` in the same order multiplied by 2.  Once again, __use a `for` loop instead of a `while` loop__ in your solution."
   ]
  },
  {
   "cell_type": "code",
   "execution_count": null,
   "metadata": {
    "collapsed": false,
    "jupyter": {
     "outputs_hidden": false
    },
    "nbgrader": {
     "grade": false,
     "grade_id": "cell-30022e5263af9c4f",
     "locked": false,
     "schema_version": 3,
     "solution": true,
     "task": false
    }
   },
   "outputs": [],
   "source": [
    "def double_list_items(L):\n",
    "    #\n",
    "    "
   ]
  },
  {
   "cell_type": "code",
   "execution_count": null,
   "metadata": {
    "collapsed": false,
    "jupyter": {
     "outputs_hidden": false
    },
    "nbgrader": {
     "grade": true,
     "grade_id": "cell-fe2234cde78e18b0",
     "locked": true,
     "points": 0,
     "schema_version": 3,
     "solution": false,
     "task": false
    }
   },
   "outputs": [],
   "source": [
    "## Testing print statements - check them!\n",
    "\n",
    "print(double_list_items([1,2,4]))  #  Should print [2, 4, 8]\n",
    "print(double_list_items(['x','y','z'])) # Should print ['xx', 'yy', 'zz']\n",
    "\n",
    "L3 = [1.1, 2.2, 3.3]\n",
    "print(double_list_items(L3)) # Should print [2.2, 4.4, 6.6]\n",
    "print(L3) # Should print [1.1, 2.2, 3.3] - the original shouldn't change!"
   ]
  },
  {
   "cell_type": "markdown",
   "metadata": {
    "collapsed": false,
    "jupyter": {
     "outputs_hidden": false
    },
    "nbgrader": {
     "grade": false,
     "grade_id": "cell-c7618a2712ffa65f",
     "locked": true,
     "schema_version": 3,
     "solution": false,
     "task": false
    }
   },
   "source": [
    "### Part D: The sentinel\n",
    "\n",
    "Instead of operating on an entire list in a uniform way, sometimes we want to do just the opposite: locate a particular entry inside of a list.  In this situation, we can use the __sentinel pattern__.  This is another variation on the iterator, in which we define a _sentinel value_ that we are interested in, _prior to starting the loop_.  The execution of the loop is then changed in some way if the sentinel value is encountered.\n",
    "\n",
    "For example, here's a function that finds the position of the first occurence of the number 3 in a list:"
   ]
  },
  {
   "cell_type": "code",
   "execution_count": null,
   "metadata": {
    "collapsed": false,
    "jupyter": {
     "outputs_hidden": false
    },
    "nbgrader": {
     "grade": false,
     "grade_id": "cell-c531fae514f73431",
     "locked": true,
     "schema_version": 3,
     "solution": false,
     "task": false
    }
   },
   "outputs": [],
   "source": [
    "def find_index_of_first_three(L):\n",
    "    sentinel = 3        \n",
    "    i = 0\n",
    "    \n",
    "    while i < len(L):\n",
    "        if L[i] == sentinel:  # Check sentinel value and branch\n",
    "            return i\n",
    "        \n",
    "        i += 1\n",
    "        \n",
    "    # If we got through the whole list without finding 3, return None\n",
    "    return None\n",
    "\n",
    "print(find_index_of_first_three([1,2,3,4,5]))\n",
    "print(find_index_of_first_three([1,2,4,5]))"
   ]
  },
  {
   "cell_type": "markdown",
   "metadata": {
    "collapsed": false,
    "jupyter": {
     "outputs_hidden": false
    },
    "nbgrader": {
     "grade": false,
     "grade_id": "cell-49a1de55c5622e7a",
     "locked": true,
     "schema_version": 3,
     "solution": false,
     "task": false
    }
   },
   "source": [
    "By the way, the simplest tasks we might use the sentinel pattern for are __finding if a value occurs in a list__, and if so, __finding where a value occurs, i.e. the index of that value__.  These are actually provided by two built-in Python functions: the `in` operator, and the `.index()` list method."
   ]
  },
  {
   "cell_type": "code",
   "execution_count": null,
   "metadata": {
    "collapsed": false,
    "jupyter": {
     "outputs_hidden": false
    },
    "nbgrader": {
     "grade": false,
     "grade_id": "cell-b29e3cc06741eadb",
     "locked": true,
     "schema_version": 3,
     "solution": false,
     "task": false
    }
   },
   "outputs": [],
   "source": [
    "print(3 in [1,2,3,4,3])      # True if 3 is anywhere in the list, False otherwise.\n",
    "print([1,2,3,4,3].index(3))  # Note: only finds *first* index from the left."
   ]
  },
  {
   "cell_type": "markdown",
   "metadata": {
    "collapsed": false,
    "jupyter": {
     "outputs_hidden": false
    },
    "nbgrader": {
     "grade": false,
     "grade_id": "cell-8b2b1b97bc5bd166",
     "locked": true,
     "schema_version": 3,
     "solution": false,
     "task": false
    }
   },
   "source": [
    "Your turn to try!  __Implement the function `first_entry_appears_twice(L)`__, which will use the _first entry_ `L[0]` of the list `L` as a sentinel value, looping through the _rest_ of the list to see if it appears a second time or not.  Your function should return `True` if `L[0]` appears again later in the list, and `False` otherwise."
   ]
  },
  {
   "cell_type": "code",
   "execution_count": null,
   "metadata": {
    "collapsed": false,
    "jupyter": {
     "outputs_hidden": false
    },
    "nbgrader": {
     "grade": false,
     "grade_id": "cell-c890abf7de41e1cb",
     "locked": false,
     "schema_version": 3,
     "solution": true,
     "task": false
    }
   },
   "outputs": [],
   "source": [
    "def first_entry_appears_twice(L):\n",
    "    #"
   ]
  },
  {
   "cell_type": "code",
   "execution_count": null,
   "metadata": {
    "collapsed": false,
    "jupyter": {
     "outputs_hidden": false
    },
    "nbgrader": {
     "grade": true,
     "grade_id": "cell-440fe0a07f11e467",
     "locked": true,
     "points": 0,
     "schema_version": 3,
     "solution": false,
     "task": false
    },
    "scrolled": true
   },
   "outputs": [],
   "source": [
    "## Testing print statements - check them!\n",
    "\n",
    "print(first_entry_appears_twice([0,0,1,0,0,1]))  # True\n",
    "print(first_entry_appears_twice([1,2,4,1]))      # True\n",
    "print(first_entry_appears_twice(['x','y','z']))  # False"
   ]
  },
  {
   "cell_type": "markdown",
   "metadata": {
    "collapsed": false,
    "jupyter": {
     "outputs_hidden": false
    },
    "nbgrader": {
     "grade": false,
     "grade_id": "cell-270ef1fc20967460",
     "locked": true,
     "schema_version": 3,
     "solution": false,
     "task": false
    }
   },
   "source": [
    "Note that the `break` and `continue` loop control keywords commonly appear with the sentinel pattern!  In this case, because we're writing a function, we can use `return` in place of a `break` -  it terminates the loop as soon as the sentinel condition is met.\n",
    "\n",
    "All of the above patterns can occur in different forms, and even in combination with each other!  For example, we could combine the accumulator and the sentinel to count how many vowels are in a string: the accumulator to store a count, and the sentinel values `vowels = ['a','e','i','o','u']` to check against on every iteration.  Any pattern works just as well with `for` or `while`, with some minor structural differences in the code.\n",
    "\n",
    "### Part E: A warning about loops and speed\n",
    "\n",
    "Any of the functions we just implemented using explicit loop control could also have been written using NumPy functions and arrays instead.  When possible, we should usually prefer NumPy arrays to lists; as I've mentioned, NumPy is constructed to do array operations _very_ efficiently, so there's a big boost in performance we can gain!\n",
    "\n",
    "Let's see an example.  For a list of numbers, the `double_list_items()` function you wrote above is just like multiplying a NumPy array by two:"
   ]
  },
  {
   "cell_type": "code",
   "execution_count": null,
   "metadata": {
    "collapsed": false,
    "jupyter": {
     "outputs_hidden": false
    },
    "nbgrader": {
     "grade": false,
     "grade_id": "cell-6a1f5d7c04337ba4",
     "locked": true,
     "schema_version": 3,
     "solution": false,
     "task": false
    }
   },
   "outputs": [],
   "source": [
    "import numpy as np\n",
    "\n",
    "print(double_list_items(range(5)))\n",
    "print(2*np.arange(5))"
   ]
  },
  {
   "cell_type": "markdown",
   "metadata": {
    "collapsed": false,
    "jupyter": {
     "outputs_hidden": false
    },
    "nbgrader": {
     "grade": false,
     "grade_id": "cell-f57df4faae51126d",
     "locked": true,
     "schema_version": 3,
     "solution": false,
     "task": false
    }
   },
   "source": [
    "Although both versions work, we can ask what the _computational efficiency_ is: on our current computer, which can produce a fixed number of calculations per second, how long does one version take versus the other?\n",
    "\n",
    "Test these with the `%timeit` command. (Reminder: `%timeit`  runs a function repeatedly, and gives a mean + standard deviation estimate for how long it takes to execute each time.  Running repeatedly is good for consistency, since the computer is doing lots of things at once, so there may be unpredictable slowdowns from one function call to another.)\n",
    "\n",
    "__Run the cell below__ to see how your function stacks up against NumPy!"
   ]
  },
  {
   "cell_type": "code",
   "execution_count": null,
   "metadata": {
    "collapsed": false,
    "jupyter": {
     "outputs_hidden": false
    },
    "nbgrader": {
     "grade": false,
     "grade_id": "cell-00ef5199347bf52e",
     "locked": true,
     "schema_version": 3,
     "solution": false,
     "task": false
    }
   },
   "outputs": [],
   "source": [
    "%timeit double_list_items(range(10000))\n",
    "%timeit 2*np.arange(10000)"
   ]
  },
  {
   "cell_type": "markdown",
   "metadata": {
    "collapsed": false,
    "editable": true,
    "jupyter": {
     "outputs_hidden": false
    },
    "nbgrader": {
     "grade": false,
     "grade_id": "cell-667ac3e57c743c9d",
     "locked": true,
     "schema_version": 3,
     "solution": false,
     "task": false
    },
    "slideshow": {
     "slide_type": ""
    },
    "tags": []
   },
   "source": [
    "On my computer, our custom function took 785 microseconds to run, and the NumPy verison took 7.6 microseconds - about a _factor of 100_ speed-up!\n",
    "\n",
    "__Why is there such a huge difference?__ In short, NumPy comes with a large amount of pre-built _compiled_ code, which means the loop required to deal with the whole array is executed immediately as machine code.  When we wrote a `for` loop in Python, the Python interpreter is producing instructions for the machine _every time through the loop_ - and with 10000 loops, the cost of running the interpreter over and over adds up quickly!\n",
    "\n",
    "We're not going to spend a huge amount of time on optimization of code in this class: this is actually a perfect example of why.  Although the code we wrote is 100x slower, 785 _microseconds_ is still not much time to wait for the answer - so _it doesn't matter!_  __Optimization should only be confronted if the time it takes your code to execute is too slow to deal with.__\n",
    "\n",
    "That being said, _when possible you should use NumPy instead of Python `for` loops_, because the difference is so substantial and we're often using NumPy anyways.  \n",
    "\n",
    "So why are we bothering to learn `for` loops at all?  There are a number of __iterative algorithms__, like the square root one we saw awhile ago, where we _can't_ just deal with whole NumPy arrays at once: each step depends on the outcome of the previous step."
   ]
  },
  {
   "cell_type": "markdown",
   "metadata": {
    "collapsed": false,
    "editable": true,
    "jupyter": {
     "outputs_hidden": false
    },
    "nbgrader": {
     "grade": false,
     "grade_id": "cell-6adc4c9e15eb1fd2",
     "locked": true,
     "schema_version": 3,
     "solution": false,
     "task": false
    },
    "slideshow": {
     "slide_type": ""
    },
    "tags": []
   },
   "source": [
    "## T12.2 - More list practice"
   ]
  },
  {
   "cell_type": "markdown",
   "metadata": {
    "collapsed": false,
    "jupyter": {
     "outputs_hidden": false
    },
    "nbgrader": {
     "grade": false,
     "grade_id": "cell-1ad0a790c1623b02",
     "locked": true,
     "schema_version": 3,
     "solution": false,
     "task": false
    }
   },
   "source": [
    "First, __run the cell below__ to load some pre-made lists.  You'll then be manipulating the lists in various ways.  If you accidentally mangle one of the lists below, remember you can just come back and re-run this initialization cell."
   ]
  },
  {
   "cell_type": "code",
   "execution_count": null,
   "metadata": {
    "collapsed": false,
    "jupyter": {
     "outputs_hidden": false
    },
    "nbgrader": {
     "grade": false,
     "grade_id": "cell-a31111ad31304b83",
     "locked": true,
     "schema_version": 3,
     "solution": false,
     "task": false
    }
   },
   "outputs": [],
   "source": [
    "# Initialize some lists for below\n",
    "# Re-run me to reset the lists, if needed!\n",
    "\n",
    "fundamental_forces = ['electromagnetic', 'strong nuclear', 'weak nuclear']\n",
    "planets = ['Mercury', 'Venus', 'Earth', 'Mars', 'Jupiter', 'Saturn', 'Uranus', 'Neptune', 'Pluto']\n",
    "planet_moons = [0, 0, 1, 2, 79, 61, 27, 14, 5]\n",
    "\n",
    "# Each position measurement is a list of the form [x, y, z]\n",
    "positions = [\n",
    "    [0.0, 0.0, 2.7],\n",
    "    [1.0, 2.5, 2.3],\n",
    "    [2.0, 4.6, 1.9],\n",
    "    [3.0, 6.3, 1.5],\n",
    "]"
   ]
  },
  {
   "cell_type": "markdown",
   "metadata": {
    "collapsed": false,
    "jupyter": {
     "outputs_hidden": false
    },
    "nbgrader": {
     "grade": false,
     "grade_id": "cell-e139f7c7ec75e882",
     "locked": true,
     "schema_version": 3,
     "solution": false,
     "task": false
    }
   },
   "source": [
    "### Part A\n",
    "\n",
    "Add `'gravity'` to the end of the list `fundamental_forces`.  Then, use a `for` loop to print out each entry in `fundamental_forces` on a separate line."
   ]
  },
  {
   "cell_type": "code",
   "execution_count": null,
   "metadata": {
    "collapsed": false,
    "jupyter": {
     "outputs_hidden": false
    },
    "nbgrader": {
     "grade": true,
     "grade_id": "cell-6fdcaaaff0011271",
     "locked": false,
     "points": 0,
     "schema_version": 3,
     "solution": true,
     "task": false
    },
    "scrolled": true
   },
   "outputs": [],
   "source": [
    "#"
   ]
  },
  {
   "cell_type": "markdown",
   "metadata": {
    "collapsed": false,
    "jupyter": {
     "outputs_hidden": false
    },
    "nbgrader": {
     "grade": false,
     "grade_id": "cell-5a8af5e7584883b8",
     "locked": true,
     "schema_version": 3,
     "solution": false,
     "task": false
    }
   },
   "source": [
    "### Part B\n",
    "\n",
    "Remove `'Pluto'` from the list `planets`.  (Sorry, Pluto!)\n",
    "\n",
    "_(Once you've solved this, try running the cell again a couple of times, and notice what happens...)_"
   ]
  },
  {
   "cell_type": "code",
   "execution_count": null,
   "metadata": {
    "collapsed": false,
    "jupyter": {
     "outputs_hidden": false
    },
    "nbgrader": {
     "grade": true,
     "grade_id": "cell-fa68d0599101798d",
     "locked": false,
     "points": 0,
     "schema_version": 3,
     "solution": true,
     "task": false
    }
   },
   "outputs": [],
   "source": [
    "#"
   ]
  },
  {
   "cell_type": "markdown",
   "metadata": {
    "collapsed": false,
    "jupyter": {
     "outputs_hidden": false
    },
    "nbgrader": {
     "grade": false,
     "grade_id": "cell-d226cd456c7df610",
     "locked": true,
     "schema_version": 3,
     "solution": false,
     "task": false
    }
   },
   "source": [
    "### Part C\n",
    "\n",
    "Use a `for` loop to run through the list of planets, and print out the name and the number of moons (from `planet_moons`) for each.  For example,\n",
    "\n",
    "```python\n",
    "\"Mars has 2 moons.\"\n",
    "```\n",
    "\n",
    "(You don't need to include Pluto, since you just deleted it!)\n",
    "\n",
    "_(Hint: the iterator pattern also provides a nice way to run through a pair of matching lists of the same length, like `planets` and_ `planet_moons` _here.)_\n",
    "\n",
    "_(__Optional challenge:__ can you fix up your code so that it prints \"moon\" and not \"moons\" for the Earth?  Better yet, can you do it without writing more than one `print()` statement?)_"
   ]
  },
  {
   "cell_type": "code",
   "execution_count": null,
   "metadata": {
    "collapsed": false,
    "jupyter": {
     "outputs_hidden": false
    },
    "nbgrader": {
     "grade": true,
     "grade_id": "cell-6de8ab799f0c7e67",
     "locked": false,
     "points": 0,
     "schema_version": 3,
     "solution": true,
     "task": false
    }
   },
   "outputs": [],
   "source": [
    "for i in range(len(planets)):\n",
    "    planet = planets[i]\n",
    "    moon_num = planet_moons[i]\n",
    "    if (moon_num == 1):\n",
    "        moon_str = \"moon.\"\n",
    "    else:\n",
    "        moon_str = \"moons.\"\n",
    "\n",
    "    print(planet, \"has\", moon_num, moon_str)"
   ]
  },
  {
   "cell_type": "markdown",
   "metadata": {
    "collapsed": false,
    "jupyter": {
     "outputs_hidden": false
    },
    "nbgrader": {
     "grade": false,
     "grade_id": "cell-2d0f2d4bf820aff7",
     "locked": true,
     "schema_version": 3,
     "solution": false,
     "task": false
    }
   },
   "source": [
    "### Part D\n",
    "\n",
    "From the 'list of lists' `positions`, which consists of smaller lists of coordinates `[x,y,z]`, produce a single list `y_pos` containing all of the y-coordinate entries (middle entry in each sub-list.)\n",
    "\n",
    "_(Hint: The accumulator pattern will be useful here.)_"
   ]
  },
  {
   "cell_type": "code",
   "execution_count": null,
   "metadata": {
    "collapsed": false,
    "jupyter": {
     "outputs_hidden": false
    },
    "nbgrader": {
     "grade": true,
     "grade_id": "cell-a060038cdb1a662a",
     "locked": false,
     "points": 0,
     "schema_version": 3,
     "solution": true,
     "task": false
    }
   },
   "outputs": [],
   "source": [
    "#"
   ]
  }
 ],
 "metadata": {
  "kernelspec": {
   "display_name": "Python 3 (ipykernel)",
   "language": "python",
   "name": "python3"
  },
  "language_info": {
   "codemirror_mode": {
    "name": "ipython",
    "version": 3
   },
   "file_extension": ".py",
   "mimetype": "text/x-python",
   "name": "python",
   "nbconvert_exporter": "python",
   "pygments_lexer": "ipython3",
   "version": "3.13.7"
  }
 },
 "nbformat": 4,
 "nbformat_minor": 4
}
