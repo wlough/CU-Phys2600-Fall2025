{
 "cells": [
  {
   "cell_type": "markdown",
   "metadata": {
    "collapsed": false,
    "jupyter": {
     "outputs_hidden": false
    },
    "nbgrader": {
     "grade": false,
     "grade_id": "cell-100899e0deea9789",
     "locked": true,
     "schema_version": 3,
     "solution": false,
     "task": false
    }
   },
   "source": [
    "# Tutorial 18: IVPs and Random Numbers\n",
    "\n",
    "## PHYS 2600"
   ]
  },
  {
   "cell_type": "code",
   "execution_count": null,
   "metadata": {
    "collapsed": false,
    "jupyter": {
     "outputs_hidden": false
    },
    "nbgrader": {
     "grade": false,
     "grade_id": "cell-e4302376dbe2ef21",
     "locked": true,
     "schema_version": 3,
     "solution": false,
     "task": false
    }
   },
   "outputs": [],
   "source": [
    "import numpy as np\n",
    "import matplotlib.pyplot as plt"
   ]
  },
  {
   "cell_type": "markdown",
   "metadata": {
    "editable": true,
    "slideshow": {
     "slide_type": ""
    },
    "tags": []
   },
   "source": [
    "## T18.1 - Numerical instability\n",
    "\n",
    "Let's start by solving for the velocity of an object in free fall. To keep things simple, we're going to assume that the velocity only has a vertical component $u(t)$ and we'll choose a coordinate system where $u(t)>0$ when the object is moving towards the ground. There are two forces we need to account for\n",
    "\n",
    "<div style=\"display:flex; align-items:center; gap:16px;\">\n",
    "  <a href=\"https://commons.wikimedia.org/wiki/File:Terminal_Velocity.png\" target=\"_blank\">\n",
    "    <img src=\"https://raw.githubusercontent.com/wlough/CU-Phys2600-Fall2025/main/lectures/img/Terminal_Velocity.png\" width=\"100\">\n",
    "  </a>\n",
    "\n",
    "  <div style=\"margin-left:2rem;\"> \n",
    "  $$\n",
    "  F_{\\text{d}} = -\\gamma u\n",
    "  $$\n",
    "  $$\n",
    "  F_{\\text{g}} = mg\n",
    "  $$\n",
    "  </div>\n",
    "</div>\n",
    "\n",
    "where $m$ is the object's mass and $\\gamma$ is a drag coefficient.\n",
    "Since acceleration is the derivative of velocity, Newton's second law tells us \n",
    "$$\n",
    "m u'(t) = mg -\\gamma u(t).\n",
    "$$\n",
    "If we write $u_{\\infty} = \\frac{mg}{\\gamma}$ for the terminal velocity and define a time constant $\\tau = \\frac{m}{\\gamma}$, this is equivalent to to the equation\n",
    "$$\n",
    "u'(t) = -\\frac{1}{\\tau} \\left(u(t)-u_{\\infty}\\right)\n",
    "$$\n",
    "which has the analytic solution\n",
    "$$\n",
    "u(t) = u_0e^{-t/\\tau} + u_{\\infty}\\left(1-e^{-t/\\tau}\\right)\n",
    "$$\n"
   ]
  },
  {
   "cell_type": "markdown",
   "metadata": {},
   "source": [
    "Throughout this problem we'll be using the following values for `tau`, `u_inf`, and `u0`:"
   ]
  },
  {
   "cell_type": "code",
   "execution_count": 5,
   "metadata": {},
   "outputs": [],
   "source": [
    "g, m, gamma = 9.8, 0.1, 1.5\n",
    "u_inf = m * g / gamma\n",
    "tau = m / gamma\n",
    "u0 = 0.0"
   ]
  },
  {
   "cell_type": "markdown",
   "metadata": {},
   "source": [
    "__Run the cell below__ to plot the analytic solution over the range $0 \\leq t \\leq 1$."
   ]
  },
  {
   "cell_type": "code",
   "execution_count": null,
   "metadata": {
    "editable": true,
    "slideshow": {
     "slide_type": ""
    },
    "tags": []
   },
   "outputs": [],
   "source": [
    "\n",
    "\n",
    "def get_exact_fun(u0, t0=0.0):\n",
    "    return lambda t: u0 * np.exp(-(t-t0) / tau) + u_inf * (1 - np.exp(-(t-t0) / tau))\n",
    "\n",
    "u_exact_fun = get_exact_fun(u0)\n",
    "t_exact = np.linspace(0, 1.0, 50)\n",
    "u_exact = u_exact_fun(t_exact)\n",
    "\n",
    "plt.plot(t_exact, u_exact, label=\"$u(t)$\")\n",
    "plt.plot([t_exact[0], t_exact[-1]], [u_inf, u_inf], label=r\"$u_{\\infty}$\", linestyle=\":\")\n",
    "plt.xlabel(\"time\")\n",
    "plt.ylabel(\"velocity\")\n",
    "plt.legend()\n",
    "plt.show()"
   ]
  },
  {
   "cell_type": "markdown",
   "metadata": {
    "editable": true,
    "slideshow": {
     "slide_type": ""
    },
    "tags": []
   },
   "source": [
    "We're going to find an approximate solution to the free fall equation using the backward Euler method. To set up a backward Euler solver for an IVP\n",
    "\n",
    "$$\n",
    "u'(t) = F(u(t), t), \\quad u(0)= c\n",
    "$$\n",
    "\n",
    "we do the following:\n",
    "\n",
    "__(1)__ Choose a discrete set of $t$-values.\n",
    "$$t_k = t_0 + k\\Delta t \\quad \\text{for} \\quad k=0,1,\\dots, N-1$$\n",
    "__(2)__ Replace the derivative on the with a backward difference evaluated at $t=t_{i+1}$.\n",
    "$$u'(t_{i+1})\\approx (u_{i+1} - u_{i})/\\Delta t$$\n",
    "__(3)__ Evaluate the right hand side at $t=t_{i+1}$.\n",
    "$$\n",
    "\\left.F(u(t), t)\\right|_{t=t_{i+1}}=F(u_{i+1}, t_{i+1})\n",
    "$$\n",
    "__(4)__ Do a little bit of algebra to get our implicit equation\n",
    "$$\n",
    " u_{i+1} - u_i - \\Delta t F(u_{i+1}, t_{i+1}) = 0\n",
    "$$\n",
    "__(5)__ Start with the initial condition $u_0=c$ and solve the implicit equation at each timestep to compute subsequent values of $u$.\n",
    "$$\n",
    "\\begin{align}\n",
    "u_0 &= c\\\\\n",
    "\\text{solve}\\quad u_{1} - u_{0} - &\\Delta t F(u_{1}, t_{1}) = 0\\quad \\text{for}\\quad u_{1}\\\\\n",
    "\\text{solve}\\quad u_{2} - u_{1} - &\\Delta t F(u_{2}, t_{2}) = 0\\quad \\text{for}\\quad u_{2}\\\\\n",
    "&\\vdots \\\\\n",
    "\\text{solve}\\quad u_{i+1} - u_{i} - &\\Delta t F(u_{i+1}, t_{i+1}) = 0\\quad \\text{for}\\quad u_{i+1}\\\\\n",
    "\\end{align}\n",
    "$$\n",
    "\n",
    "Generally you need to use a root finding algorithm like Newton's method to solve for $u_{i+1}$ at each timestep. In some problems (like the free fall problem!), $F$ is simple enough that we can actually solve the implicit equation to find an explicit formula for $u_{i+1}$."
   ]
  },
  {
   "cell_type": "markdown",
   "metadata": {},
   "source": [
    "### Part A: Solving the implicit equation by hand\n",
    "In the text cell below, write the __implicit__ equation that needs to be solved at each timestep to find $u_{i+1}$ for the free fall equation."
   ]
  },
  {
   "cell_type": "markdown",
   "metadata": {
    "editable": true,
    "slideshow": {
     "slide_type": ""
    },
    "tags": []
   },
   "source": [
    "YOUR SOLUTION HERE\n"
   ]
  },
  {
   "cell_type": "markdown",
   "metadata": {},
   "source": [
    "We'll come back to the implicit equation in part B, but we're going to start by solving the implicit equation by hand. Solve the implicit equation to get an __explicit__ formula for $u_{i+1}$ and write your answer in the text cell below."
   ]
  },
  {
   "cell_type": "markdown",
   "metadata": {},
   "source": [
    "YOUR SOLUTION HERE\n"
   ]
  },
  {
   "cell_type": "markdown",
   "metadata": {
    "editable": true,
    "slideshow": {
     "slide_type": ""
    },
    "tags": []
   },
   "source": [
    "Implement the function `backward_euler_step_explicit(ui, dt)` which should use your __explicit__ formula to calculate and return $u_{i+1}$ given $u_i$ and a step size $\\Delta t$."
   ]
  },
  {
   "cell_type": "code",
   "execution_count": null,
   "metadata": {
    "editable": true,
    "slideshow": {
     "slide_type": ""
    },
    "tags": []
   },
   "outputs": [],
   "source": [
    "def backward_euler_step_explicit(ui, dt):\n",
    "    #\n"
   ]
  },
  {
   "cell_type": "code",
   "execution_count": null,
   "metadata": {
    "editable": true,
    "slideshow": {
     "slide_type": ""
    },
    "tags": []
   },
   "outputs": [],
   "source": [
    "import numpy.testing as npt\n",
    "\n",
    "npt.assert_allclose(backward_euler_step_explicit(0, 0.1), 0.392)\n",
    "npt.assert_allclose(backward_euler_step_explicit(0, 0.01), 0.085217, atol=1e-4)\n",
    "npt.assert_allclose(backward_euler_step_explicit(0.08521739, 0.01), 0.159319, atol=1e-4)"
   ]
  },
  {
   "cell_type": "markdown",
   "metadata": {},
   "source": [
    "Now implement a function `backward_euler_solve_explicit(t, u0)` which uses your `backward_euler_step_explicit` to compute the numerical solution from an array of time samples `t=[t_0, t_1,...]` and an initial velocity `u0`."
   ]
  },
  {
   "cell_type": "code",
   "execution_count": null,
   "metadata": {
    "editable": true,
    "slideshow": {
     "slide_type": ""
    },
    "tags": []
   },
   "outputs": [],
   "source": [
    "\n",
    "def backward_euler_solve_explicit(t, u0):\n",
    "    #"
   ]
  },
  {
   "cell_type": "markdown",
   "metadata": {},
   "source": [
    "Let's compare our numerical solution to the analytic solution. Use your `backward_euler_solve_explicit` function to solve the free fall IVP over the time interval $0 \\leq t \\leq 1$ with initial condition $u(0)=0$ and add it to the plot below."
   ]
  },
  {
   "cell_type": "code",
   "execution_count": null,
   "metadata": {
    "editable": true,
    "slideshow": {
     "slide_type": ""
    },
    "tags": []
   },
   "outputs": [],
   "source": [
    "#\n",
    "\n",
    "plt.plot(t_exact, u_exact, color=\"k\", label=\"exact\")\n",
    "plt.xlabel(\"time\")\n",
    "plt.ylabel(\"velocity\")\n",
    "\n",
    "plt.legend()"
   ]
  },
  {
   "cell_type": "markdown",
   "metadata": {
    "editable": true,
    "slideshow": {
     "slide_type": ""
    },
    "tags": []
   },
   "source": [
    "### Part B: Solving the implicit equation numerically\n",
    "\n",
    "For most IVPs the implicit equation that you get from Backward Euler doesn't have an analytic solution and needs to be solved numerically.\n",
    "\n",
    "Implement the function `backward_euler_step(ui, dt)` which uses `newton` to solve your __implicit__ equation for $u_{i+1}$ given $u_i$ and a step size $\\Delta t$. (Hint: you can use the result of a forward Euler step $u^{\\text{guess}}_{i+1} = u_{i}+\\Delta t F(u_i)$ as your guess to initialize Newton's method.)"
   ]
  },
  {
   "cell_type": "code",
   "execution_count": null,
   "metadata": {},
   "outputs": [],
   "source": [
    "from scipy.optimize import newton\n",
    "\n",
    "def backward_euler_step(ui, dt):\n",
    "    #\n"
   ]
  },
  {
   "cell_type": "code",
   "execution_count": null,
   "metadata": {},
   "outputs": [],
   "source": [
    "# testing cell\n",
    "npt.assert_allclose(backward_euler_step(0, 0.1), 0.392)\n",
    "npt.assert_allclose(backward_euler_step(0, 0.01), 0.085217, atol=1e-4)\n",
    "npt.assert_allclose(backward_euler_step(0.08521739, 0.01), 0.159319, atol=1e-4)"
   ]
  },
  {
   "cell_type": "markdown",
   "metadata": {},
   "source": [
    "Now implement a function `backward_euler_solve(t, u0)` which uses your `backward_euler_step` to compute the numerical solution from an array of time samples `t=[t_0, t_1,...]` and an initial velocity `u0`. Then run the next cell to see how it compares with the analytic and Forward Euler solution for a range of step sizes."
   ]
  },
  {
   "cell_type": "code",
   "execution_count": null,
   "metadata": {},
   "outputs": [],
   "source": [
    "def backward_euler_solve(t, u0):\n",
    "    #"
   ]
  },
  {
   "cell_type": "code",
   "execution_count": null,
   "metadata": {
    "scrolled": true
   },
   "outputs": [],
   "source": [
    "def forward_euler_solve(t, u0):\n",
    "    u = np.zeros_like(t)\n",
    "    u[0] = u0\n",
    "    dt = t[1] - t[0]\n",
    "    for i in range(0, len(t) - 1):\n",
    "        u[i + 1] = u[i] - dt*(u[i] - u_inf)/tau\n",
    "    return u\n",
    "\n",
    "def fb_compare_plot(u0, t_final, Nt_list):\n",
    "\n",
    "    u_exact_fun = get_exact_fun(u0)\n",
    "\n",
    "    num_rows = len(Nt_list)\n",
    "    fig, axes = plt.subplots(1, num_rows, figsize=(8, 3.25))\n",
    "\n",
    "    for ax, Nt in zip(axes, Nt_list):\n",
    "        t = np.linspace(0, t_final, Nt)\n",
    "        u_exact = u_exact_fun(t)\n",
    "        u_fe = forward_euler_solve(t, u0)\n",
    "        u_be = backward_euler_solve(t, u0)\n",
    "\n",
    "        dt = t[1] - t[0]\n",
    "        ax.set_title(r\"$\\Delta t =\" + f\"{dt: 0.2f}\" + r\"$\")\n",
    "        ax.plot(t, u_fe, linestyle=\":\", label=\"Forward Euler\")\n",
    "        ax.plot(t, u_exact, linestyle=\"-\", label=\"Exact\")\n",
    "        ax.plot(t, u_be, linestyle=\"--\", label=\"Backward Euler\")\n",
    "        ax.grid(True)\n",
    "        ax.legend(loc=\"lower right\")\n",
    "\n",
    "    plt.tight_layout()\n",
    "    plt.show()\n",
    "\n",
    "Nt_list = [40, 15, 10]\n",
    "fb_compare_plot(0, 1, Nt_list)"
   ]
  },
  {
   "cell_type": "markdown",
   "metadata": {
    "collapsed": false,
    "jupyter": {
     "outputs_hidden": false
    },
    "nbgrader": {
     "grade": false,
     "grade_id": "cell-ee791ecfa85d70bb",
     "locked": true,
     "schema_version": 3,
     "solution": false,
     "task": false
    }
   },
   "source": [
    "## T18.2 - Warming up with random numbers"
   ]
  },
  {
   "cell_type": "markdown",
   "metadata": {
    "collapsed": false,
    "jupyter": {
     "outputs_hidden": false
    },
    "nbgrader": {
     "grade": false,
     "grade_id": "cell-53a7ca675ab15cbe",
     "locked": true,
     "schema_version": 3,
     "solution": false,
     "task": false
    }
   },
   "source": [
    "### Part A\n",
    "\n",
    "Using `np.random.randint()` _without setting the seed_, generate 10 random integers from the set `(0,1,2,3)`.  Then, set the seed to 1414, and generate another 10 random integers."
   ]
  },
  {
   "cell_type": "code",
   "execution_count": null,
   "metadata": {
    "collapsed": false,
    "jupyter": {
     "outputs_hidden": false
    },
    "nbgrader": {
     "grade": true,
     "grade_id": "cell-c6fa7f5bf5000d54",
     "locked": false,
     "points": 2,
     "schema_version": 3,
     "solution": true,
     "task": false
    }
   },
   "outputs": [],
   "source": []
  },
  {
   "cell_type": "markdown",
   "metadata": {
    "collapsed": false,
    "jupyter": {
     "outputs_hidden": false
    },
    "nbgrader": {
     "grade": false,
     "grade_id": "cell-0cbc0b1093a7003a",
     "locked": true,
     "schema_version": 3,
     "solution": false,
     "task": false
    }
   },
   "source": [
    "Now compare your results with your neighbor:\n",
    "\n",
    "- Did you get completely different results without the seed?\n",
    "- What if you try to run the cell at the same time?  (Does this prove anything to you about how the computer's clock is used in choosing seeds?)\n",
    "- Do your results match with the _same_ seed?\n",
    "- Once you've used the seed, comment the seed line out - _now_ how do your results compare to your neighbors?  (If you want to go back to a randomly determined seed, restart the kernel or call `np.random.seed()` with no argument.)"
   ]
  },
  {
   "cell_type": "markdown",
   "metadata": {
    "collapsed": false,
    "jupyter": {
     "outputs_hidden": false
    },
    "nbgrader": {
     "grade": false,
     "grade_id": "cell-3c815cc36775473e",
     "locked": true,
     "schema_version": 3,
     "solution": false,
     "task": false
    }
   },
   "source": [
    "### Part B\n",
    "\n",
    "The workhorse function of the `numpy.random` module is `np.random.rand()`, which generates real numbers which are uniformly distributed between $0$ and $1$.  \n",
    "\n",
    "Let's test just _how_ uniform the distribution is!  Use `np.random.rand()` to generate __10,000 random numbers__ in $(0,1)$.  Then use `plt.hist()` to __make a histogram plot__ of the results, using __20 bins__ (read the documentation by searching for it or using `plt.hist?`.)  "
   ]
  },
  {
   "cell_type": "code",
   "execution_count": null,
   "metadata": {
    "collapsed": false,
    "jupyter": {
     "outputs_hidden": false
    },
    "nbgrader": {
     "grade": true,
     "grade_id": "cell-13b0818f5f246c96",
     "locked": false,
     "points": 0,
     "schema_version": 3,
     "solution": true,
     "task": false
    }
   },
   "outputs": [],
   "source": [
    "#"
   ]
  },
  {
   "cell_type": "markdown",
   "metadata": {
    "collapsed": false,
    "jupyter": {
     "outputs_hidden": false
    },
    "nbgrader": {
     "grade": false,
     "grade_id": "cell-c9f6d2b1fcc05d56",
     "locked": true,
     "schema_version": 3,
     "solution": false,
     "task": false
    }
   },
   "source": [
    "Does it seem uniform to you?  __Re-run the cell__ a few times to see how the distribution fluctuates.  Feel free to adjust the number of random draws - you should see the distribution get smoother as you include more and more points."
   ]
  },
  {
   "cell_type": "markdown",
   "metadata": {
    "collapsed": false,
    "jupyter": {
     "outputs_hidden": false
    },
    "nbgrader": {
     "grade": false,
     "grade_id": "cell-d71c28c9d5f394eb",
     "locked": true,
     "schema_version": 3,
     "solution": false,
     "task": false
    }
   },
   "source": [
    "### Part C\n",
    "\n",
    "__Generate 50 random angles__ $\\theta$ between 0 and $2\\pi$, using `np.random.rand()`.  (Remember, the number generated by this function are _always_ in the range $(0,1)$ - make adjustments to the interval by adding or multiplying by the appropriate constants.)\n",
    "\n",
    "Then, __plot the resulting polar-coordinate points $(\\cos \\theta, \\sin \\theta)$__ (with polar radius $r=1$) using `plt.scatter`.  The points should all trace the outline of a circle.  (I've given you an initial command to set the aspect ratio to be square - by default, `matplotlib` plots are rectangular, which will make your circle look like an ellipse.)"
   ]
  },
  {
   "cell_type": "code",
   "execution_count": null,
   "metadata": {
    "collapsed": false,
    "jupyter": {
     "outputs_hidden": false
    },
    "nbgrader": {
     "grade": false,
     "grade_id": "cell-d8141aaeb20937b8",
     "locked": false,
     "schema_version": 3,
     "solution": true,
     "task": false
    }
   },
   "outputs": [],
   "source": [
    "plt.figure(figsize=(6,6))  # Square aspect ratio, so the circle doesn't look squashed\n",
    "\n",
    "#"
   ]
  },
  {
   "cell_type": "markdown",
   "metadata": {
    "collapsed": false,
    "jupyter": {
     "outputs_hidden": false
    },
    "nbgrader": {
     "grade": false,
     "grade_id": "cell-f60a3b87c55ca575",
     "locked": true,
     "schema_version": 3,
     "solution": false,
     "task": false
    }
   },
   "source": [
    "## T18.3 - The random walk\n",
    "\n",
    "In physics, _statistical mechanics_ starts from the kinematics of individual molecules and allows us to make predictions about the aggregate behavior of something like a gas.  \n",
    "\n",
    "Similarly, we can use a computer to simulate the motion of individual gas particles and try to study the properties of gases in aggregate.  However, solving using Newton's laws is not that easy here, especially since we would have to deal with collisions and with other forces between molecules to get a realistic model.  \n",
    "\n",
    "Instead, a quick and dirty model of a gas can be obtained using a __random walk__, in which each particle moves around independently and randomly.  As long as the number of molecules is large enough, the random walk can capture all of the microscopic physics of molecules kicking each other around. \n",
    "\n",
    "([Here's a simulation of simple motion and collisions](https://www.youtube.com/watch?v=1jYabtziQZo) - you can see that the behavior of the highlighted particle resembles random motion, even with a pretty small number of particles.)\n",
    "\n",
    "### Part A\n",
    "\n",
    "__Implement the function `step_random_walk_2d(x_coords, y_coords)` below__, which should take two arrays of equal length containing the x- and y-coordinates for some number of particles.  We'll use a very simple random walk algorithm:\n",
    "\n",
    "- For each particle, choose a random angle $\\phi$ between 0 and $2\\pi$.\n",
    "- The particle moves by 1 unit of distance in the direction given by $\\phi$, i.e. it is displaced by $(\\Delta x, \\Delta y) = (\\cos \\phi, \\sin \\phi)$.\n",
    "\n",
    "(This is exactly what you already did in T18.2C above, in fact!)\n",
    "\n",
    "We'll do this in a _vectorized_ approach: we draw all the angles at once in a single array, and then calculate and apply the displacements using NumPy functions.  Your function should _update the coordinates in-place_, which means it shouldn't return anything!  I've sketched out the algorithm with some comments for you below."
   ]
  },
  {
   "cell_type": "code",
   "execution_count": null,
   "metadata": {
    "collapsed": false,
    "jupyter": {
     "outputs_hidden": false
    },
    "nbgrader": {
     "grade": false,
     "grade_id": "cell-4a3c84c385b6f0d8",
     "locked": false,
     "schema_version": 3,
     "solution": true,
     "task": false
    }
   },
   "outputs": [],
   "source": [
    "def step_random_walk_2d(x_coords, y_coords):\n",
    "    # Vectorized algorithm:\n",
    "    \n",
    "    # Draw an array of random angles phi, uniformly between 0 and 2*pi\n",
    "    # You should draw one angle for every particle.\n",
    "    \n",
    "    # Use numpy functions (no for loops!) to calculate the arrays\n",
    "    # delta_x and delta_y, the displacements for each particle\n",
    "    \n",
    "    # Update x_coords and y_coords in place, i.e. overwrite\n",
    "    # those variables with the displaced arrays\n",
    "    \n",
    "    #  \n",
    "    \n",
    "    # Return None (since we changed the arrays in-place)\n",
    "    return None\n",
    "    \n"
   ]
  },
  {
   "cell_type": "markdown",
   "metadata": {
    "collapsed": false,
    "jupyter": {
     "outputs_hidden": false
    },
    "nbgrader": {
     "grade": false,
     "grade_id": "cell-83289c1f4c2f70c3",
     "locked": true,
     "schema_version": 3,
     "solution": false,
     "task": false
    }
   },
   "source": [
    "Now in the cell below, __create an initial distribution of 100 particles at the origin $(0,0)$__, apply _one step_ of your function `step_random_walk_2d(x,y)` above, and then call `plt.scatter` to __plot the positions after one step.__  You should see them distributed around a circle, due to the algorithm that we chose.  \n",
    "\n",
    "(This doesn't look very random, of course!  But you'll see that despite this structure on step 1, the behavior after many steps will look much less uniform.)"
   ]
  },
  {
   "cell_type": "code",
   "execution_count": null,
   "metadata": {
    "collapsed": false,
    "jupyter": {
     "outputs_hidden": false
    },
    "nbgrader": {
     "grade": false,
     "grade_id": "cell-ef264cea0a7c3895",
     "locked": false,
     "schema_version": 3,
     "solution": true,
     "task": false
    }
   },
   "outputs": [],
   "source": [
    "#\n"
   ]
  },
  {
   "cell_type": "markdown",
   "metadata": {
    "collapsed": false,
    "jupyter": {
     "outputs_hidden": false
    },
    "nbgrader": {
     "grade": false,
     "grade_id": "cell-89a2665d961d9293",
     "locked": true,
     "schema_version": 3,
     "solution": false,
     "task": false
    }
   },
   "source": [
    "Now __use a for loop to take 50 steps__, and plot the distribution of particles again.  Now it should look pretty randomized!  Notice how the vertical and horizontal scale of the plot has changed, too."
   ]
  },
  {
   "cell_type": "code",
   "execution_count": null,
   "metadata": {
    "collapsed": false,
    "jupyter": {
     "outputs_hidden": false
    },
    "nbgrader": {
     "grade": false,
     "grade_id": "cell-9fcfdd0859d583fa",
     "locked": false,
     "schema_version": 3,
     "solution": true,
     "task": false
    }
   },
   "outputs": [],
   "source": [
    "#"
   ]
  },
  {
   "cell_type": "markdown",
   "metadata": {
    "collapsed": false,
    "jupyter": {
     "outputs_hidden": false
    },
    "nbgrader": {
     "grade": false,
     "grade_id": "cell-5bd533b9e68d1334",
     "locked": true,
     "schema_version": 3,
     "solution": false,
     "task": false
    }
   },
   "source": [
    "Finally, __run the definition of `plot_random_walk_2d` and the cell afterwards__ to animate your random walk!  (This also gives you a demonstration of how to create animated plots in Jupyter - the details are a little complicated, which is why I'm just demoing this for you.)"
   ]
  },
  {
   "cell_type": "code",
   "execution_count": null,
   "metadata": {
    "collapsed": false,
    "jupyter": {
     "outputs_hidden": false
    },
    "nbgrader": {
     "grade": false,
     "grade_id": "cell-2a60987aa5a295100",
     "locked": true,
     "schema_version": 3,
     "solution": false,
     "task": false
    }
   },
   "outputs": [],
   "source": [
    "import matplotlib.animation as animation\n",
    "from IPython.display import HTML\n",
    "\n",
    "def plot_random_walk_2d(Np, Ns, steps_per_plot=5):\n",
    "    \"\"\"\n",
    "    Simulate a random walk in two dimensions.\n",
    "    \n",
    "    Arguments:\n",
    "    =====\n",
    "    * Np: number of particles to simulate.\n",
    "    * Ns: number of steps to simulate.\n",
    "    * steps_per_plot: how many steps to wait in between \n",
    "        plotting the positions of the particles (default: 10.)\n",
    "\n",
    "    Returns:\n",
    "    =====\n",
    "    * fig, frames: plots of the particle positions, \n",
    "        formatted as needed to create an animated graph.\n",
    "\n",
    "    \"\"\"\n",
    "    \n",
    "    # Setup for animated plots\n",
    "    fig, ax = plt.subplots(figsize=(8,8))\n",
    "    frames = []\n",
    "    \n",
    "    # Initialize two arrays, x_coords and y_coords, of length Np\n",
    "    x_coords = np.zeros(Np)\n",
    "    y_coords = np.zeros(Np)\n",
    "    \n",
    "    for step in range(Ns):\n",
    "        # If step is divisible by steps_per_plot, make a plot\n",
    "        if step % steps_per_plot == 0:\n",
    "            frame = ax.plot(x_coords, y_coords, linestyle=' ', marker='.', color='blue')\n",
    "            frames.append(frame)        \n",
    "        \n",
    "        # Take a random step\n",
    "        step_random_walk_2d(x_coords, y_coords)\n",
    "\n",
    "    return fig, frames\n"
   ]
  },
  {
   "cell_type": "code",
   "execution_count": null,
   "metadata": {
    "collapsed": false,
    "jupyter": {
     "outputs_hidden": false
    },
    "nbgrader": {
     "grade": false,
     "grade_id": "cell-78b7ca90cdc88ddf0",
     "locked": true,
     "schema_version": 3,
     "solution": false,
     "task": false
    },
    "scrolled": true
   },
   "outputs": [],
   "source": [
    "fig, frames = plot_random_walk_2d(Np=100, Ns=400)\n",
    "ani = animation.ArtistAnimation(fig, frames, interval=100, blit=True, repeat=False)\n",
    "plt.close(fig)  ## Stops Jupyter from showing the last frame alongside the animated plot\n",
    "\n",
    "HTML(ani.to_html5_video()) "
   ]
  },
  {
   "cell_type": "markdown",
   "metadata": {
    "collapsed": false,
    "jupyter": {
     "outputs_hidden": false
    },
    "nbgrader": {
     "grade": false,
     "grade_id": "cell-824a5b5eaf571ed3",
     "locked": true,
     "schema_version": 3,
     "solution": false,
     "task": false
    }
   },
   "source": [
    "This is an incredibly simple simulation, but it already exhibits the phenomenon of __diffusion__: the particles, which started tightly packed into a region of high density, are spreading out and becoming less dense over time.  In fact, we could do some statistical tests on the distribution vs. time to quantify this behavior in terms of a _diffusion coefficient_.  (But we'll need to learn about models and fitting to data before we can do that.)\n",
    "\n",
    "### Part B (optional challenge)\n",
    "\n",
    "If we really wanted to try something like studying the ideal gas law, it would be better to have our particles trapped in a finite volume.  A simple but physically-motivated modification to our algorithm we could make for a finite volume would be: if any particle would be displaced _outside_ the volume, it moves in the _opposite direction_ instead.\n",
    "\n",
    "Can you rewrite `step_random_walk_2d` so that __all of the gas particles are trapped in the square region__ $-10 \\leq x,y \\leq 10$, using this simple algorithm?  Then try to run the definition of `plot_random_walk_2d` and see how your plot looks now.\n",
    "\n",
    "_(Hint: you want to create a mask array which is `True` for any particle that's outside the volume.  This is a combination of four masks which check the four boundaries of the square.  Use_ `np.logical_or()` _to combine multiple masks into one that's `True` if any of them is `True`.)_"
   ]
  },
  {
   "cell_type": "code",
   "execution_count": null,
   "metadata": {
    "collapsed": false,
    "jupyter": {
     "outputs_hidden": false
    },
    "nbgrader": {
     "grade": false,
     "grade_id": "cell-6bf6c72740e069f4",
     "locked": false,
     "schema_version": 3,
     "solution": true,
     "task": false
    }
   },
   "outputs": [],
   "source": [
    "def step_random_walk_2d(x_coords, y_coords):\n",
    "    #\n",
    "    \n",
    "    return None\n"
   ]
  },
  {
   "cell_type": "markdown",
   "metadata": {
    "collapsed": false,
    "jupyter": {
     "outputs_hidden": false
    }
   },
   "source": [
    "For fun, here's code to animate your modified function, so you can see if your particles are truly staying confined."
   ]
  },
  {
   "cell_type": "code",
   "execution_count": null,
   "metadata": {
    "collapsed": false,
    "jupyter": {
     "outputs_hidden": false
    },
    "nbgrader": {
     "grade": false,
     "grade_id": "cell-2a60987aa5a29510",
     "locked": true,
     "schema_version": 3,
     "solution": false,
     "task": false
    }
   },
   "outputs": [],
   "source": [
    "import matplotlib.animation as animation\n",
    "from IPython.display import HTML\n",
    "\n",
    "def plot_random_walk_2d(Np, Ns, steps_per_plot=5):\n",
    "    \"\"\"\n",
    "    Simulate a confined random walk in two dimensions.\n",
    "    \n",
    "    Arguments:\n",
    "    =====\n",
    "    * Np: number of particles to simulate.\n",
    "    * Ns: number of steps to simulate.\n",
    "    * steps_per_plot: how many steps to wait in between \n",
    "        plotting the positions of the particles (default: 10.)\n",
    "\n",
    "    Returns:\n",
    "    =====\n",
    "    * fig, frames: plots of the particle positions, \n",
    "        formatted as needed to create an animated graph.\n",
    "\n",
    "    \"\"\"\n",
    "    \n",
    "    # Setup for animated plots, include lines to show confining box\n",
    "    fig, ax = plt.subplots(figsize=(8,8))\n",
    "    plt.xlim(-12,12)\n",
    "    plt.ylim(-12,12)\n",
    "    ax.hlines(y=10, xmin=-10, xmax = 10, color='r', linestyle='-')\n",
    "    ax.hlines(y=-10, xmin=-10, xmax = 10, color='r', linestyle='-')\n",
    "    ax.vlines(x=10, ymin=-10, ymax = 10, color='r', linestyle='-')\n",
    "    ax.vlines(x=-10, ymin=-10, ymax = 10, color='r', linestyle='-')\n",
    "    \n",
    "    frames = []\n",
    "    \n",
    "    # Initialize two arrays, x_coords and y_coords, of length Np\n",
    "    x_coords = np.zeros(Np)\n",
    "    y_coords = np.zeros(Np)\n",
    "    \n",
    "    for step in range(Ns):\n",
    "        # If step is divisible by steps_per_plot, make a plot\n",
    "        if step % steps_per_plot == 0:\n",
    "            frame = ax.plot(x_coords, y_coords, linestyle=' ', marker='.', color='blue')\n",
    "            frames.append(frame)        \n",
    "        \n",
    "        # Take a random step\n",
    "        step_random_walk_2d(x_coords, y_coords)\n",
    "\n",
    "    return fig, frames\n"
   ]
  },
  {
   "cell_type": "code",
   "execution_count": null,
   "metadata": {
    "collapsed": false,
    "jupyter": {
     "outputs_hidden": false
    },
    "nbgrader": {
     "grade": false,
     "grade_id": "cell-78b7ca90cdc88ddf",
     "locked": true,
     "schema_version": 3,
     "solution": false,
     "task": false
    },
    "scrolled": true
   },
   "outputs": [],
   "source": [
    "fig, frames = plot_random_walk_2d(Np=100, Ns=400)\n",
    "ani = animation.ArtistAnimation(fig, frames, interval=100, blit=True, repeat=False)\n",
    "plt.close(fig)  ## Stops Jupyter from showing the last frame alongside the animated plot\n",
    "\n",
    "HTML(ani.to_html5_video())"
   ]
  }
 ],
 "metadata": {
  "celltoolbar": "Create Assignment",
  "kernelspec": {
   "display_name": "Python 3 (ipykernel)",
   "language": "python",
   "name": "python3"
  },
  "language_info": {
   "codemirror_mode": {
    "name": "ipython",
    "version": 3
   },
   "file_extension": ".py",
   "mimetype": "text/x-python",
   "name": "python",
   "nbconvert_exporter": "python",
   "pygments_lexer": "ipython3",
   "version": "3.13.7"
  },
  "nbgrader": {
   "__altered": false,
   "__hash": 1025205524,
   "_root": {
    "entries": [
     [
      "__altered",
      false
     ],
     [
      "__hash",
      912286151
     ],
     [
      "_root",
      {
       "entries": [
        [
         "cocalc_minimal_stubs",
         true
        ]
       ],
       "ownerID": {}
      }
     ],
     [
      "cocalc_minimal_stubs",
      true
     ],
     [
      "size",
      1
     ]
    ],
    "ownerID": {}
   },
   "cocalc_minimal_stubs": false,
   "size": 5
  }
 },
 "nbformat": 4,
 "nbformat_minor": 4
}
