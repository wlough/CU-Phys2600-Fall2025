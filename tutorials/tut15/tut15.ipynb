{
 "cells": [
  {
   "cell_type": "markdown",
   "metadata": {
    "collapsed": false,
    "jupyter": {
     "outputs_hidden": false
    }
   },
   "source": [
    "# Tutorial 15: Root Finding\n",
    "\n",
    "## PHYS 2600"
   ]
  },
  {
   "cell_type": "code",
   "execution_count": null,
   "metadata": {
    "collapsed": false,
    "jupyter": {
     "outputs_hidden": false
    }
   },
   "outputs": [],
   "source": [
    "# Import cell\n",
    "%matplotlib inline\n",
    "\n",
    "import matplotlib.pyplot as plt\n",
    "import numpy as np"
   ]
  },
  {
   "cell_type": "markdown",
   "metadata": {
    "collapsed": false,
    "jupyter": {
     "outputs_hidden": false
    },
    "nbgrader": {
     "grade": false,
     "grade_id": "cell-bbf7a9e736aa2cf1",
     "locked": true,
     "schema_version": 3,
     "solution": false,
     "task": false
    }
   },
   "source": [
    "## Setup: the torsional-spring pendulum\n",
    "\n",
    "Everything in this tutorial will concern a single physics system: a rigid pendulum plus a [torsional spring](https://en.wikipedia.org/wiki/Torsion_spring), with spring constant $\\kappa$.  A torsion spring works just like a regular spring, except that it exerts a restoring force based on angle instead of distance.  \n",
    "We'll assume the spring is unextended (exerts no force) at an angle $\\theta = \\theta_0$.\n",
    "\n",
    "<img src=\"https://raw.githubusercontent.com/wlough/CU-Phys2600-Fall2025/main/lectures/img/torsion-spring-pendulum.png\" width=400px />\n",
    "\n",
    "This is pretty simple-looking, but the forces are just complicated enough that we can't solve for the motion analytically.  (In fact, that was already true for just the pendulum, unless we take $\\theta$ to be small!)\n",
    "\n",
    "Instead of looking at the complete motion of this pendulum, let's ask a simpler question: __where are the points of equilibrium__?  That is, at what value (or values) of $\\theta$ will the pendulum remain at rest?  \n",
    "\n",
    "From intro mechanics, we remember that equilibrium points occur where the _potential energy_ of the system has vanishing derivative; with just one coordinate $\\theta$ here, we can write simply $U(\\theta)$.  The net force on our pendulum at any $\\theta$ will be\n",
    "\n",
    "$$\n",
    "F(\\theta) = -\\frac{dU}{d\\theta},\n",
    "$$\n",
    "\n",
    "so it will stay at rest whenever the derivative vanishes.  Now we write down the potential energy vs. $\\theta$:\n",
    "\n",
    "$$\n",
    "U(\\theta) = \\frac{1}{2} \\kappa (\\theta - \\theta_0)^2 - mgL \\cos \\theta \\\\\n",
    "U'(\\theta) = \\kappa (\\theta - \\theta_0) + mgL \\sin \\theta\n",
    "$$\n",
    "\n",
    "and solving $U'(\\theta) = 0$ gives us the equilibrium point(s).  This is _still_ not solvable on pen and paper (it's a transcendental equation), but we have computers!\n",
    "\n",
    "We could implement our solution below for a general set of parameters, but let's keep it simple and fix a bunch of them as constants: \n",
    "\n",
    "* $g = 9.8\\ m/s^2$\n",
    "* $m = 2\\ kg$\n",
    "* $L = 1\\ m$\n",
    "* $\\theta_0 = \\pi/4$\n",
    "\n",
    "We'll let the torsion spring constant $\\kappa$ be an adjustable parameter, but let's take the default value to be __10 J__.  (We assume that we're working in radians and not degrees, or else some annoying angular conversions show up.)\n",
    "\n",
    "## T14.1 - Getting ready to solve\n",
    "\n",
    "Before we get to coding a root finder, it's a good idea to think carefully about what we expect.  The equation we're trying to solve has the form \n",
    "\n",
    "$$\n",
    "\\kappa (\\theta-\\pi/4) = -mgL \\sin(\\theta)\n",
    "$$\n",
    "\n",
    "so in other words, we want the intersection of a straight line with a sine wave.  We'll make a plot with some value of $\\kappa$ to see where the intersection is likely to be - we'll try $\\kappa = 20$ J.  \n",
    "\n",
    "This is also a good opportunity to get used to something we will need to do in root finding, which is __passing a function as an argument__.  First, let's implement the left-hand side and right-hand side of the equation above as Python functions.  I've done the LHS below - __you fill in the RHS function__!"
   ]
  },
  {
   "cell_type": "code",
   "execution_count": null,
   "metadata": {
    "collapsed": false,
    "jupyter": {
     "outputs_hidden": false
    },
    "nbgrader": {
     "grade": true,
     "grade_id": "cell-7ffedb7b6df228be",
     "locked": false,
     "points": 2,
     "schema_version": 3,
     "solution": true,
     "task": false
    }
   },
   "outputs": [],
   "source": [
    "def LHS(theta, kappa=20):\n",
    "    return kappa * (theta - np.pi / 4)\n",
    "\n",
    "\n",
    "def RHS(theta):\n",
    "    g = 9.8  # m/s^2\n",
    "\n",
    "    #"
   ]
  },
  {
   "cell_type": "code",
   "execution_count": null,
   "metadata": {
    "collapsed": false,
    "jupyter": {
     "outputs_hidden": false
    },
    "nbgrader": {
     "grade": true,
     "grade_id": "cell-5d00e5c5c037ccfb",
     "locked": true,
     "points": 0,
     "schema_version": 3,
     "solution": false,
     "task": false
    }
   },
   "outputs": [],
   "source": [
    "import numpy.testing as npt\n",
    "\n",
    "npt.assert_allclose(RHS(np.pi), 0.0, atol=1e-8)\n",
    "npt.assert_allclose(RHS(np.pi / 2), -2 * 9.8, atol=1e-8)"
   ]
  },
  {
   "cell_type": "markdown",
   "metadata": {
    "collapsed": false,
    "jupyter": {
     "outputs_hidden": false
    },
    "nbgrader": {
     "grade": false,
     "grade_id": "cell-7c4921ad47173809",
     "locked": true,
     "schema_version": 3,
     "solution": false,
     "task": false
    }
   },
   "source": [
    "Now we'd like to plot both `LHS` and `RHS` over the same range, to look for where they meet.  To do this, we'll write a single function `plot_vs_theta` that will __take a Python function as _input___ and then plot it.  I started it below, you finish it!  If the function works, you should see a plot containing a sine curve and a line.\n",
    "\n",
    "_(Hint: you should call `plt.plot()` from within `plot_vs_theta()`.  Because of the way matplotlib works (the \"global state machine\"), you don't need to return anything from the function.)_"
   ]
  },
  {
   "cell_type": "code",
   "execution_count": null,
   "metadata": {
    "collapsed": false,
    "jupyter": {
     "outputs_hidden": false
    },
    "nbgrader": {
     "grade": false,
     "grade_id": "cell-f85e78aa5e4e20fd",
     "locked": false,
     "schema_version": 3,
     "solution": true,
     "task": false
    }
   },
   "outputs": [],
   "source": [
    "def plot_vs_theta(F):\n",
    "    theta_plot = np.linspace(-np.pi, np.pi)\n",
    "\n",
    "    #\n",
    "\n",
    "\n",
    "plot_vs_theta(LHS)\n",
    "plot_vs_theta(RHS)\n",
    "\n",
    "plt.xlabel(\"$\\\\theta$\")\n",
    "plt.ylabel(\"$dU/d\\\\theta$\")"
   ]
  },
  {
   "cell_type": "markdown",
   "metadata": {
    "collapsed": false,
    "jupyter": {
     "outputs_hidden": false
    },
    "nbgrader": {
     "grade": false,
     "grade_id": "cell-87310dbca6fcae5b",
     "locked": true,
     "schema_version": 3,
     "solution": false,
     "task": false
    }
   },
   "source": [
    "From the plot above, it should be evident that for our choice of parameters (or any $\\kappa > 0$, which will give a positive-sloped line) __there will be only one solution__ in the range $\\theta \\in [-\\pi, \\pi]$.  Good news for us - it makes the root-finding task easier!"
   ]
  },
  {
   "cell_type": "markdown",
   "metadata": {
    "collapsed": false,
    "jupyter": {
     "outputs_hidden": false
    },
    "nbgrader": {
     "grade": false,
     "grade_id": "cell-0889b618ab858669",
     "locked": true,
     "schema_version": 3,
     "solution": false,
     "task": false
    }
   },
   "source": [
    "## T14.2 - Solving with Brute Force"
   ]
  },
  {
   "cell_type": "markdown",
   "metadata": {
    "collapsed": false,
    "jupyter": {
     "outputs_hidden": false
    },
    "nbgrader": {
     "grade": false,
     "grade_id": "cell-dda032c91f2fd3d9",
     "locked": true,
     "schema_version": 3,
     "solution": false,
     "task": false
    }
   },
   "source": [
    "Let's begin with the simplest approach, _brute force_.  You might think this is a foolish way to attack the problem - and it is, compared to other algorithms available! - but since computers are so fast, this will work better than you might expect.\n",
    "\n",
    "First, we should implement our $U'(\\theta)$ as a function `Up(theta)`; then we'll implement the algorithm.  (We use 'p' for prime, since the single quote ' isn't allowed in names in Python.)  I'll set up this one for you:"
   ]
  },
  {
   "cell_type": "code",
   "execution_count": null,
   "metadata": {
    "collapsed": false,
    "jupyter": {
     "outputs_hidden": false
    },
    "nbgrader": {
     "grade": false,
     "grade_id": "cell-345063476b74ad9b",
     "locked": true,
     "schema_version": 3,
     "solution": false,
     "task": false
    }
   },
   "outputs": [],
   "source": [
    "def Up(theta, kappa=20):\n",
    "    \"\"\"\n",
    "    Implements U'(theta) for the torsion spring/pendulum, as given in the cell above.\n",
    "\n",
    "    Args:\n",
    "        theta: angle in radians\n",
    "        kappa: torsion spring constant in J (default: 10)\n",
    "\n",
    "    \"\"\"\n",
    "    # Some hard-coded constants\n",
    "    m = 2  # kg\n",
    "    g = 9.8  # m/s^2\n",
    "    L = 1  # m\n",
    "    theta_0 = np.pi / 4\n",
    "\n",
    "    return kappa * (theta - theta_0) + m * g * L * np.sin(theta)"
   ]
  },
  {
   "cell_type": "code",
   "execution_count": null,
   "metadata": {
    "collapsed": false,
    "jupyter": {
     "outputs_hidden": false
    },
    "nbgrader": {
     "grade": false,
     "grade_id": "cell-fa9730ee603ef073",
     "locked": true,
     "schema_version": 3,
     "solution": false,
     "task": false
    }
   },
   "outputs": [],
   "source": [
    "## A couple of quick tests for Up(theta), computed separately by hand.\n",
    "import numpy.testing as npt\n",
    "\n",
    "npt.assert_allclose(Up(0), -15.7080, atol=1e-4)\n",
    "npt.assert_allclose(Up(0.483), 3.055, atol=1e-4)"
   ]
  },
  {
   "cell_type": "markdown",
   "metadata": {
    "collapsed": false,
    "jupyter": {
     "outputs_hidden": false
    },
    "nbgrader": {
     "grade": false,
     "grade_id": "cell-46b6c3a69674b97f",
     "locked": true,
     "schema_version": 3,
     "solution": false,
     "task": false
    }
   },
   "source": [
    "Now, let's __implement the brute-force root finder.__  Here is the brute force algorithm again, assuming we're trying to find a root for an _arbitrary function_ $f(\\theta)$ over the range of valid angles $[-\\pi, \\pi]$:\n",
    "\n",
    "1. Choose a step size $\\delta$ and an error tolerance $\\epsilon$.  (These are input arguments to our function.)\n",
    "2. Start with $\\theta = -\\pi$. \n",
    "3. Compute $f(\\theta)$, and check to see if it is within $\\epsilon$ of zero.  If it is, return $\\theta$.\n",
    "4. Otherwise, increase $\\theta$ by $\\delta$; repeat until $\\theta$ reaches $+\\pi$.\n",
    "5. If $\\theta$ reaches $+\\pi$ and we haven't returned a result, then __print a warning__ and return `None`.\n",
    "\n",
    "Notice that __the algorithm doesn't need to know anything about what $U'(\\theta)$ is!__  This is a valid approach for _any_ function.  So, we can decouple the algorithm from the function itself: we will _pass in `Up` as a parameter._"
   ]
  },
  {
   "cell_type": "code",
   "execution_count": null,
   "metadata": {
    "collapsed": false,
    "jupyter": {
     "outputs_hidden": false
    },
    "nbgrader": {
     "grade": false,
     "grade_id": "cell-046a0d3dc05f4d38",
     "locked": false,
     "schema_version": 3,
     "solution": true,
     "task": false
    }
   },
   "outputs": [],
   "source": [
    "def brute_force_angle(f, delta=1e-3, tol=1e-4):\n",
    "    \"\"\"\n",
    "    Brute-force solution of f(theta) = 0.\n",
    "    theta is taken to run over the interval (-pi, +pi).\n",
    "\n",
    "    Returns:\n",
    "       A root of x0, i.e. a solution to f(x0) = 0.\n",
    "       Returns \"None\" if no solution is found.\n",
    "\n",
    "    Args:\n",
    "        f: function f(theta) to test.\n",
    "        delta: step size (default: 1e-3)\n",
    "        tol: error tolerance (default: 1e-4)\n",
    "    \"\"\"\n",
    "\n",
    "    #\n",
    "\n",
    "    print(\"Warning: no roots found to requested tol = {0:g}!\".format(tol))\n",
    "    return  # Same as \"return None\""
   ]
  },
  {
   "cell_type": "markdown",
   "metadata": {
    "collapsed": false,
    "jupyter": {
     "outputs_hidden": false
    },
    "nbgrader": {
     "grade": false,
     "grade_id": "cell-a432e72f42e8a2a8",
     "locked": true,
     "schema_version": 3,
     "solution": false,
     "task": false
    }
   },
   "source": [
    "Try out the root finder by calling it below with `Up` as the first argument.  The default arguments for `delta` and `tol` should not find anything; __why is it failing?__  (Hint: what if your step size was $\\pi/2$ instead, would you expect brute force to get the right answer?  Could the same thing be happening here with $\\delta = 10^{-3}$?)\n",
    "\n",
    "Now adjust the step size `delta` until you find a result.  __What is the equilibrium angle, in radians?__ (If you make the step size too small, your code will be slow and you'll be waiting a long time!  I wouldn't make `delta` any smaller than $10^{-6}$ or so.  Remember you can always interrupt the kernel with `i`,`i` if your program is stuck.)"
   ]
  },
  {
   "cell_type": "code",
   "execution_count": null,
   "metadata": {
    "collapsed": false,
    "jupyter": {
     "outputs_hidden": false
    },
    "nbgrader": {
     "grade": false,
     "grade_id": "cell-19ab7cf5136c64f9",
     "locked": false,
     "schema_version": 3,
     "solution": true,
     "task": false
    }
   },
   "outputs": [],
   "source": [
    "theta_eq = brute_force_angle(Up)\n",
    "#\n",
    "print(theta_eq)"
   ]
  },
  {
   "cell_type": "markdown",
   "metadata": {
    "collapsed": false,
    "jupyter": {
     "outputs_hidden": false
    },
    "nbgrader": {
     "grade": false,
     "grade_id": "cell-37271f56197e2885",
     "locked": true,
     "schema_version": 3,
     "solution": false,
     "task": false
    }
   },
   "source": [
    "Evaluate `Up(theta_eq)` below, and make sure that it's within $10^{-4}$ of zero as expected."
   ]
  },
  {
   "cell_type": "code",
   "execution_count": null,
   "metadata": {
    "collapsed": false,
    "jupyter": {
     "outputs_hidden": false
    },
    "nbgrader": {
     "grade": true,
     "grade_id": "cell-5a2fcbaf0440c2a1",
     "locked": false,
     "points": 0,
     "schema_version": 3,
     "solution": true,
     "task": false
    }
   },
   "outputs": [],
   "source": [
    "Up(theta_eq)"
   ]
  },
  {
   "cell_type": "markdown",
   "metadata": {
    "collapsed": false,
    "jupyter": {
     "outputs_hidden": false
    },
    "nbgrader": {
     "grade": false,
     "grade_id": "cell-596832f351f7ffb8",
     "locked": true,
     "schema_version": 3,
     "solution": false,
     "task": false
    }
   },
   "source": [
    "## T14.3 - Solving with the Bisection Method"
   ]
  },
  {
   "cell_type": "markdown",
   "metadata": {
    "collapsed": false,
    "jupyter": {
     "outputs_hidden": false
    },
    "nbgrader": {
     "grade": false,
     "grade_id": "cell-2f366ad8a1ce2484",
     "locked": true,
     "schema_version": 3,
     "solution": false,
     "task": false
    }
   },
   "source": [
    "<img src=\"https://raw.githubusercontent.com/wlough/CU-Phys2600-Fall2025/main/lectures/img/bisection-sketch.png\" width=500px style=\"float:right;\" />\n",
    "\n",
    "Now we'll set up a similar solver that uses the bisection method.  I'll repeat the algorithm from the lecture notes here:\n",
    "\n",
    "1. Start with an initial interval $[a,b]$ such that $f(a)$ and $f(b)$ have opposite signs.\n",
    "2. Propose a new point $c$, which is the midpoint of the interval: $c = (a+b)/2$.\n",
    "3. Create a new interval by replacing either $a$ or $b$ with $c$, such that the function still has opposite sign on the two ends of the interval.\n",
    "4. Loop back to step 2 and repeat until the size of the interval is smaller than the tolerance $\\epsilon$.\n",
    "5. Return the midpoint of the final interval as the result.\n",
    "\n",
    "Step 3 is the tricky one here; how do we choose which point to replace?  When we take the midpoint between $a$ and $b$, we are guaranteed that __one of three things will happen:__\n",
    "\n",
    "1. $f(a)$ and $f(c)$ will have opposite sign, so we replace $b$ with $c$;\n",
    "2. $f(b)$ and $f(c)$ will have opposite sign, so we replace $a$ with $c$;\n",
    "3. $f(c)$ is exactly zero, in which case we're done: $c$ is the result.\n",
    "\n",
    "There are a couple of __edge cases__ we should also make sure to deal with, to avoid unexpected behavior.  If either $f(a) = 0$ or $f(b) = 0$, then we already have an answer, and should just return $a$ or $b$ instead of attempting to run the algorithm (so check for these first!)\n",
    "\n",
    "### Part A\n",
    "\n",
    "I've provided a function header and docstring below: __implement the function `bisection` according to those specifications and using the algorithm above.__"
   ]
  },
  {
   "cell_type": "code",
   "execution_count": null,
   "metadata": {
    "collapsed": false,
    "jupyter": {
     "outputs_hidden": false
    },
    "nbgrader": {
     "grade": false,
     "grade_id": "cell-435306fb3e2acd19",
     "locked": false,
     "schema_version": 3,
     "solution": true,
     "task": false
    }
   },
   "outputs": [],
   "source": [
    "def bisection(f, a, b, tol=1e-6):\n",
    "    \"\"\"\n",
    "    Find a root of f(x) in the interval a<x<b, using bisection search.\n",
    "\n",
    "    A valid interval must have a < b, and f(a) and f(b) must have opposite signs.\n",
    "\n",
    "    Returns:\n",
    "        A root of x0, i.e. a solution to f(x0) = 0.\n",
    "\n",
    "    Args:\n",
    "        f: function to be studied; should take one argument.\n",
    "        a: lower end of search interval\n",
    "        b: upper end of search interval\n",
    "\n",
    "        tol: error tolerance for result (default: 1e-6)\n",
    "\n",
    "    \"\"\"\n",
    "\n",
    "    #"
   ]
  },
  {
   "cell_type": "markdown",
   "metadata": {
    "collapsed": false,
    "jupyter": {
     "outputs_hidden": false
    },
    "nbgrader": {
     "grade": false,
     "grade_id": "cell-8912f644b61cfd06",
     "locked": true,
     "schema_version": 3,
     "solution": false,
     "task": false
    }
   },
   "source": [
    "Before we try to use our function on the real problem, we'd better try it out on an easier problem where we know the answer exactly!  Let's use $x^2 - 4$ as our test case; I've written some tests for you in the cell below."
   ]
  },
  {
   "cell_type": "code",
   "execution_count": null,
   "metadata": {
    "collapsed": false,
    "jupyter": {
     "outputs_hidden": false
    },
    "nbgrader": {
     "grade": true,
     "grade_id": "cell-d70744b724002fd5",
     "locked": true,
     "points": 0,
     "schema_version": 3,
     "solution": false,
     "task": false
    }
   },
   "outputs": [],
   "source": [
    "import numpy.testing as npt\n",
    "\n",
    "\n",
    "def test_fn(x):\n",
    "    return x**2 - 4\n",
    "\n",
    "\n",
    "npt.assert_allclose(bisection(test_fn, 0, 1356, tol=1e-4), 2, atol=1e-4)\n",
    "npt.assert_allclose(bisection(test_fn, 0, 1356, tol=1e-12), 2, atol=1e-12)\n",
    "npt.assert_allclose(bisection(test_fn, -3.3, 1), -2, atol=1e-6)\n",
    "npt.assert_allclose(bisection(test_fn, -3, 1), -2, atol=1e-6)"
   ]
  },
  {
   "cell_type": "markdown",
   "metadata": {
    "collapsed": false,
    "jupyter": {
     "outputs_hidden": false
    },
    "nbgrader": {
     "grade": false,
     "grade_id": "cell-9428ae9722316749",
     "locked": true,
     "schema_version": 3,
     "solution": false,
     "task": false
    }
   },
   "source": [
    "### Part B\n",
    "\n",
    "Now, use your `bisection` function with `Up` to __find where $U'(\\theta) = 0$__, and thus where the pendulum-spring system will hang at equilibrium.  Use a tolerance of $10^{-6}$ (written as `1e-6` in Python.)  Does your answer agree with the brute force method?\n",
    "\n",
    "Notice that this is much faster than the brute force algorithm was, for a worse tolerance of $10^{-4}$!  In fact, bisection is extremely fast here; try cranking down the tolerance to $10^{-16}$ or lower and see how quickly you can get a result!"
   ]
  },
  {
   "cell_type": "code",
   "execution_count": null,
   "metadata": {
    "collapsed": false,
    "jupyter": {
     "outputs_hidden": false
    },
    "nbgrader": {
     "grade": false,
     "grade_id": "cell-aff86b16cc1d7d63",
     "locked": false,
     "schema_version": 3,
     "solution": true,
     "task": false
    }
   },
   "outputs": [],
   "source": [
    "#"
   ]
  },
  {
   "cell_type": "markdown",
   "metadata": {
    "collapsed": false,
    "jupyter": {
     "outputs_hidden": false
    },
    "nbgrader": {
     "grade": false,
     "grade_id": "cell-25ef5420a9134528",
     "locked": true,
     "schema_version": 3,
     "solution": false,
     "task": false
    }
   },
   "source": [
    "### Part C _(optional challenge)_\n",
    "\n",
    "If we remove the spring entirely ($\\kappa = 0$), then the pendulum will develop __two__ points where $U'(\\theta) = 0$.  __Find them both with a bisection search.__  _(Hint: you can probably guess from your physics knowledge where the two points for the regular pendulum are.  Make sure you adjust your initial interval as needed.)_\n",
    "\n",
    "This requires passing `Up` in to our search algorithm with a different value of $\\kappa$.  One way to do this would be to go back and change the default in `Up`, but that's not the best solution.  Instead, we'll write a __wrapper function__: we define a new function `Up_zero` that calls `Up` with $\\kappa = 0$, and then feed _that_ function in to `bisection` for your answer.\n",
    "\n",
    "(Wrapper functions are a common way to smooth over two interfaces that don't quite match each other, as happened to use in this case.  The flexibility of how functions are used as objects in Python makes constructing wrappers like this easy!)"
   ]
  },
  {
   "cell_type": "code",
   "execution_count": null,
   "metadata": {
    "collapsed": false,
    "jupyter": {
     "outputs_hidden": false
    },
    "nbgrader": {
     "grade": false,
     "grade_id": "cell-603a4e6a08a38eab",
     "locked": false,
     "schema_version": 3,
     "solution": true,
     "task": false
    }
   },
   "outputs": [],
   "source": [
    "def Up_zero(theta):\n",
    "    return Up(theta, kappa=0)\n",
    "\n",
    "\n",
    "#"
   ]
  },
  {
   "cell_type": "markdown",
   "metadata": {
    "collapsed": false,
    "jupyter": {
     "outputs_hidden": false
    },
    "nbgrader": {
     "grade": false,
     "grade_id": "cell-dd25f216037bf8cd",
     "locked": true,
     "schema_version": 3,
     "solution": false,
     "task": false
    }
   },
   "source": [
    "### Part D _(optional challenge)_\n",
    "\n",
    "Strictly speaking, we don't know if our solution is a _minimum_ of the energy unless we check the second derivative $U''(\\theta)$.  Only minima with $U''(\\theta) > 0$ will be _stable_ equilibrium points.  __Implement a function `Upp(theta, kappa)`__ which computes the second derivative $U''(\\theta)$, and use it to answer the following:\n",
    "\n",
    "* For the equilibrium angle you found with $\\kappa = 20$, is the equilibrium point stable, i.e. is $U''(\\theta) > 0$?\n",
    "* For the spring-free case $\\kappa = 0$, check the two points you found to see if they're stable or unstable.  (Does the answer match your physical intuition?)"
   ]
  },
  {
   "cell_type": "code",
   "execution_count": null,
   "metadata": {
    "collapsed": false,
    "jupyter": {
     "outputs_hidden": false
    },
    "nbgrader": {
     "grade": true,
     "grade_id": "cell-b9ffa0cb05dd50be",
     "locked": false,
     "points": 0,
     "schema_version": 3,
     "solution": true,
     "task": false
    }
   },
   "outputs": [],
   "source": [
    "#"
   ]
  }
 ],
 "metadata": {
  "kernelspec": {
   "display_name": "Python 3 (ipykernel)",
   "language": "python",
   "name": "python3"
  },
  "language_info": {
   "codemirror_mode": {
    "name": "ipython",
    "version": 3
   },
   "file_extension": ".py",
   "mimetype": "text/x-python",
   "name": "python",
   "nbconvert_exporter": "python",
   "pygments_lexer": "ipython3",
   "version": "3.13.7"
  }
 },
 "nbformat": 4,
 "nbformat_minor": 4
}
