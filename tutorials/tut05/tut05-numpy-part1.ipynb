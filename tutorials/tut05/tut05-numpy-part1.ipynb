{
 "cells": [
  {
   "cell_type": "markdown",
   "metadata": {
    "collapsed": false,
    "editable": true,
    "jupyter": {
     "outputs_hidden": false
    },
    "nbgrader": {
     "grade": false,
     "grade_id": "cell-100899e0deea9789",
     "locked": true,
     "schema_version": 3,
     "solution": false,
     "task": false
    },
    "slideshow": {
     "slide_type": ""
    },
    "tags": []
   },
   "source": [
    "# Tutorial 5: NumPy, Part I\n",
    "\n",
    "## PHYS 2600"
   ]
  },
  {
   "cell_type": "markdown",
   "metadata": {
    "collapsed": false,
    "jupyter": {
     "outputs_hidden": false
    },
    "nbgrader": {
     "grade": false,
     "grade_id": "cell-66620da88b06fd9e",
     "locked": true,
     "schema_version": 3,
     "solution": false,
     "task": false
    }
   },
   "source": [
    "## T5.1 - Importing and testing things out\n",
    "\n",
    "One of the great features of Python is the huge number of available modules which implement commonly used algorithms and functions for us.  Most of these modules are widely used and thoroughly tested, but it's still always a good idea to make sure that you're getting what you think you are when you `import` something else!  (\"Trust, but verify.\")  So, let's test out some NumPy functions.\n",
    "\n",
    "The next cell tries to use the `sin` function from NumPy, but we forgot to import the module - if you run it now, it will just give an error message!  __Fix the cell by importing the `numpy` module__.  Make sure you use the standard shorthand alias of `np` (using `import ... as ...` syntax.)\n",
    "\n",
    "Remember, anything we get from the module namespace must be referenced with the \"dot notation\", `<module>.<object>`."
   ]
  },
  {
   "cell_type": "code",
   "execution_count": null,
   "metadata": {
    "collapsed": false,
    "jupyter": {
     "outputs_hidden": false
    },
    "nbgrader": {
     "grade": false,
     "grade_id": "cell-2a056df050ab9a70",
     "locked": false,
     "remove": false,
     "schema_version": 3,
     "solution": true,
     "task": false
    }
   },
   "outputs": [],
   "source": [
    "np.sin(np.pi/2)"
   ]
  },
  {
   "cell_type": "markdown",
   "metadata": {
    "collapsed": false,
    "jupyter": {
     "outputs_hidden": false
    },
    "nbgrader": {
     "grade": false,
     "grade_id": "cell-b240c608e69ba869",
     "locked": true,
     "schema_version": 3,
     "solution": false,
     "task": false
    }
   },
   "source": [
    "Now let's test the `np.exp()` function, which is used to raise `e` to a power, i.e. `exp(x)` = $e^x$. \n",
    "\n",
    "In the cell below, use `print` statements to __verify the following simple identities__:\n",
    "$$\n",
    "\\begin{aligned}\n",
    "e^0 &= 1 \\\\\n",
    "e^1 &= e \\\\\n",
    "e^{-1} &= 1/e\n",
    "\\end{aligned}\n",
    "$$\n",
    "\n",
    "_(Remember, modules contain constants as well as functions!  Use `np.e` as the known value of e on the right-hand side.)_"
   ]
  },
  {
   "cell_type": "code",
   "execution_count": null,
   "metadata": {
    "collapsed": false,
    "jupyter": {
     "outputs_hidden": false
    },
    "nbgrader": {
     "grade": true,
     "grade_id": "cell-e14622cd381ce46b",
     "locked": false,
     "points": 1,
     "remove": false,
     "schema_version": 3,
     "solution": true,
     "task": false
    }
   },
   "outputs": [],
   "source": [
    "# YOUR SOLUTION HERE"
   ]
  },
  {
   "cell_type": "markdown",
   "metadata": {
    "collapsed": false,
    "jupyter": {
     "outputs_hidden": false
    },
    "nbgrader": {
     "grade": false,
     "grade_id": "cell-74ae3523e0ef52b3",
     "locked": true,
     "schema_version": 3,
     "solution": false,
     "task": false
    }
   },
   "source": [
    "Building on our results so far, let's test one of the hyperbolic trig functions.  The definition of `cosh(x)` should be: \n",
    "\n",
    "$$\n",
    "\\cosh(x) = \\frac{1}{2} \\left( e^x + e^{-x} \\right)\n",
    "$$\n",
    "\n",
    "In the cell below, __calculate `cosh(2)`__ in two ways, using `np.cosh()` and using `np.exp()`.  Verify that your results match!"
   ]
  },
  {
   "cell_type": "code",
   "execution_count": null,
   "metadata": {
    "collapsed": false,
    "jupyter": {
     "outputs_hidden": false
    },
    "nbgrader": {
     "grade": false,
     "grade_id": "cell-2135e18bb1031757",
     "locked": false,
     "schema_version": 3,
     "solution": true,
     "task": false
    }
   },
   "outputs": [],
   "source": [
    "# YOUR SOLUTION HERE"
   ]
  },
  {
   "cell_type": "markdown",
   "metadata": {
    "collapsed": false,
    "editable": true,
    "jupyter": {
     "outputs_hidden": false
    },
    "nbgrader": {
     "grade": false,
     "grade_id": "cell-f128e891aecc673d",
     "locked": true,
     "schema_version": 3,
     "solution": false,
     "task": false
    },
    "slideshow": {
     "slide_type": ""
    },
    "tags": []
   },
   "source": [
    "## T5.2 - Making NumPy arrays\n",
    "\n",
    "Let's get some practice with some of the more common ways of creating NumPy arrays.  This will be a mix of runnable examples, and short exercises.\n",
    "\n",
    "Your job is to figure out how to use each of these functions!  There are a couple of good ways to see the usage instructions:\n",
    "\n",
    "1. Use the `help()` function we saw in lecture.\n",
    "2. Search up the official NumPy documentation for them!  (searching for e.g. \"numpy array\" or \"numpy linspace\" usually does the trick.)"
   ]
  },
  {
   "cell_type": "markdown",
   "metadata": {
    "collapsed": false,
    "jupyter": {
     "outputs_hidden": false
    },
    "nbgrader": {
     "grade": false,
     "grade_id": "cell-9d0919c72c3918d5",
     "locked": true,
     "schema_version": 3,
     "solution": false,
     "task": false
    }
   },
   "source": [
    "### np.array\n",
    "\n",
    "The first way to make an array is the `np.array()` function, which creates a new array by converting whatever input we give it.  __Run the cell below to see some examples__ (and feel free to modify them!)"
   ]
  },
  {
   "cell_type": "code",
   "execution_count": null,
   "metadata": {
    "collapsed": false,
    "jupyter": {
     "outputs_hidden": false
    }
   },
   "outputs": [],
   "source": [
    "print(np.array([1,4,2,3]))\n",
    "print(np.array([-3.3, -2.2, -1.1]))"
   ]
  },
  {
   "cell_type": "markdown",
   "metadata": {
    "collapsed": false,
    "jupyter": {
     "outputs_hidden": false
    },
    "nbgrader": {
     "grade": false,
     "grade_id": "cell-1a04effe242f1e00",
     "locked": true,
     "schema_version": 3,
     "solution": false,
     "task": false
    }
   },
   "source": [
    "### np.arange\n",
    "\n",
    "Regularly-spaced ranges of numbers are very commonly used, especially for plotting functions as we'll see next time.  NumPy has a couple of ways to make such arrays natively!  First up, the `np.arange()` function.  The simplest way to use it is with a single argument, which does this:"
   ]
  },
  {
   "cell_type": "code",
   "execution_count": null,
   "metadata": {
    "collapsed": false,
    "jupyter": {
     "outputs_hidden": false
    }
   },
   "outputs": [],
   "source": [
    "print(np.arange(10))"
   ]
  },
  {
   "cell_type": "markdown",
   "metadata": {
    "collapsed": false,
    "jupyter": {
     "outputs_hidden": false
    },
    "nbgrader": {
     "grade": false,
     "grade_id": "cell-56d2224797c9da07",
     "locked": true,
     "schema_version": 3,
     "solution": false,
     "task": false
    }
   },
   "source": [
    "This function is actually much more flexible than that.  __Here are the basic rules for using `arange`:__\n",
    "\n",
    "* With __one argument__, `np.arange(N)` gives every number from 0 up to N-1.\n",
    "* With __two arguments__, `np.arange(M,N)` gives every number from M up to N-1.\n",
    "* With __three arguments__, `np.arange(M,N,k)` gives every number from M up to N-1, _counting in steps of k._\n",
    "\n",
    "Now __use `np.arange()` to produce the following arrays__, and print them out:\n",
    "\n",
    "* An array of integers from 0 to 8, inclusive.  (i.e. `[0,1,...,8]`.)\n",
    "* An array of integers from -4 to 4, inclusive.  (i.e. `[-4,-3,-2,...,3,4]`.)\n",
    "* An array of odd numbers from 5 to 17, inclusive.  (i.e. `[5,7,9,11,...,17]`.)\n",
    "* An array of floats from 0 to 1, spaced by 1/10.  (i.e. `[0,0.1,0.2,...,0.9, 1.0]`.)"
   ]
  },
  {
   "cell_type": "code",
   "execution_count": null,
   "metadata": {
    "collapsed": false,
    "jupyter": {
     "outputs_hidden": false
    },
    "nbgrader": {
     "grade": false,
     "grade_id": "cell-fbf2540a1c3fb360",
     "locked": false,
     "schema_version": 3,
     "solution": true,
     "task": false
    }
   },
   "outputs": [],
   "source": [
    "# YOUR SOLUTION HERE"
   ]
  },
  {
   "cell_type": "markdown",
   "metadata": {
    "collapsed": false,
    "jupyter": {
     "outputs_hidden": false
    },
    "nbgrader": {
     "grade": false,
     "grade_id": "cell-d26c58c10d90af01",
     "locked": true,
     "schema_version": 3,
     "solution": false,
     "task": false
    }
   },
   "source": [
    "What do you expect to happen if you call `np.arange(M,N,k)` and `k` is negative?  Try using it with $k=-1$ in the box below and see what happens!  \n",
    "\n",
    "Using what you learn from your experiments, __produce an array _counting backwards_ from 10 to 0.__"
   ]
  },
  {
   "cell_type": "code",
   "execution_count": null,
   "metadata": {
    "collapsed": false,
    "jupyter": {
     "outputs_hidden": false
    },
    "nbgrader": {
     "grade": false,
     "grade_id": "cell-be9fea04ea453ef4",
     "locked": false,
     "schema_version": 3,
     "solution": true,
     "task": false
    }
   },
   "outputs": [],
   "source": [
    "# YOUR SOLUTION HERE"
   ]
  },
  {
   "cell_type": "markdown",
   "metadata": {
    "collapsed": false,
    "jupyter": {
     "outputs_hidden": false
    },
    "nbgrader": {
     "grade": false,
     "grade_id": "cell-23af4994a6135f85",
     "locked": true,
     "schema_version": 3,
     "solution": false,
     "task": false
    }
   },
   "source": [
    "### np.linspace\n",
    "\n",
    "The `np.linspace()` function gives us another way to make regularly-spaced arrays, but instead of specifying the _step size_ like in `arange`, we specify the _number of points_ we want in total.  For example, to get the range `[0...9]`:"
   ]
  },
  {
   "cell_type": "code",
   "execution_count": null,
   "metadata": {
    "collapsed": false,
    "jupyter": {
     "outputs_hidden": false
    }
   },
   "outputs": [],
   "source": [
    "print(np.linspace(0,9,10))"
   ]
  },
  {
   "cell_type": "markdown",
   "metadata": {
    "collapsed": false,
    "jupyter": {
     "outputs_hidden": false
    },
    "nbgrader": {
     "grade": false,
     "grade_id": "cell-ae2ed323d8ecdc14",
     "locked": true,
     "schema_version": 3,
     "solution": false,
     "task": false
    }
   },
   "source": [
    "Notice that unlike `arange`, __`linspace` includes both boundary values__ that you give in the resulting array!\n",
    "\n",
    "__Use `np.linspace()` to produce the following arrays:__ (and print them.)\n",
    "\n",
    "* An array of 20 points, equally spaced between -1 and 1.\n",
    "* An array of floats from 0 to 1, spaced by 1/10.  (i.e. `[0,0.1,0.2,...,0.9]`)\n",
    "* An array of 15 points, equally spaced from 0 to `2*pi`.  (You don't need `math`, since NumPy also contains math constants: pi is stored as `np.pi`.)"
   ]
  },
  {
   "cell_type": "code",
   "execution_count": null,
   "metadata": {
    "collapsed": false,
    "jupyter": {
     "outputs_hidden": false
    },
    "nbgrader": {
     "grade": false,
     "grade_id": "cell-3965e9536d5e8abf",
     "locked": false,
     "schema_version": 3,
     "solution": true,
     "task": false
    }
   },
   "outputs": [],
   "source": [
    "# YOUR SOLUTION HERE"
   ]
  },
  {
   "cell_type": "markdown",
   "metadata": {
    "collapsed": false,
    "jupyter": {
     "outputs_hidden": false
    },
    "nbgrader": {
     "grade": false,
     "grade_id": "cell-936c03b1444c6cb7",
     "locked": true,
     "schema_version": 3,
     "solution": false,
     "task": false
    }
   },
   "source": [
    "### np.zeros (and friends)\n",
    "\n",
    "If we know we want to create an array of a certain size, say by applying some formulas to an input array, it's often useful to __initialize__ the array we're creating to some value - most commonly, zero.  If we want an array of zeros, the `np.zeros()` function is a shortcut for making it:"
   ]
  },
  {
   "cell_type": "code",
   "execution_count": null,
   "metadata": {
    "collapsed": false,
    "jupyter": {
     "outputs_hidden": false
    }
   },
   "outputs": [],
   "source": [
    "print(np.zeros(5))"
   ]
  },
  {
   "cell_type": "markdown",
   "metadata": {
    "collapsed": false,
    "jupyter": {
     "outputs_hidden": false
    },
    "nbgrader": {
     "grade": false,
     "grade_id": "cell-0c084a56c82ffb5b",
     "locked": true,
     "schema_version": 3,
     "solution": false,
     "task": false
    }
   },
   "source": [
    "There are a few cousins of this function worth knowing about: `np.ones` does the same thing but sets every value to 1 instead; `np.zeros_like` takes an existing array, and produces a new one with the __same shape__ but all values set to zero.  (You can probably guess what `np.ones_like` does!)\n",
    "\n",
    "__Use these functions to create the following arrays:__\n",
    "\n",
    "* Use `np.zeros_like` with `np.arange` to make a length-8 array of zeros.  (This is sort of contrived; usually, we would use `zeros_like` if we're working with an input array of unknown length that we want to match.)\n",
    "* Use `np.ones` (and basic math operations) to make an array of length seven, with every entry equal to the number 7."
   ]
  },
  {
   "cell_type": "code",
   "execution_count": null,
   "metadata": {
    "collapsed": false,
    "jupyter": {
     "outputs_hidden": false
    },
    "nbgrader": {
     "grade": false,
     "grade_id": "cell-986bf5877c69dafd",
     "locked": false,
     "schema_version": 3,
     "solution": true,
     "task": false
    }
   },
   "outputs": [],
   "source": [
    "# YOUR SOLUTION HERE"
   ]
  },
  {
   "cell_type": "markdown",
   "metadata": {
    "collapsed": false,
    "jupyter": {
     "outputs_hidden": false
    },
    "nbgrader": {
     "grade": false,
     "grade_id": "cell-b0cb8ce7e65b0a20",
     "locked": true,
     "schema_version": 3,
     "solution": false,
     "task": false
    }
   },
   "source": [
    "## T5.3 - Electromagnetic force\n",
    "\n",
    "### Part A\n",
    "\n",
    "The combination of electric and magnetic forces on a point charge is given by the Lorentz force law,\n",
    "\n",
    "$$\n",
    "\\mathbf{F} = q\\mathbf{E} + q\\mathbf{v} \\times \\mathbf{B}.\n",
    "$$\n",
    "\n",
    "We can implement this force equation using NumPy arrays!  First, a quick introduction to vector math in NumPy.  Let's take the vectors we were using in class:"
   ]
  },
  {
   "cell_type": "code",
   "execution_count": null,
   "metadata": {
    "collapsed": false,
    "jupyter": {
     "outputs_hidden": false
    },
    "nbgrader": {
     "grade": false,
     "grade_id": "cell-b32afcf210391bca",
     "locked": true,
     "schema_version": 3,
     "solution": false,
     "task": false
    }
   },
   "outputs": [],
   "source": [
    "import numpy as np\n",
    "\n",
    "v, w = np.array([2,1,3]), np.array([0,-3,1])\n",
    "print(v, w)"
   ]
  },
  {
   "cell_type": "markdown",
   "metadata": {
    "collapsed": false,
    "jupyter": {
     "outputs_hidden": false
    },
    "nbgrader": {
     "grade": false,
     "grade_id": "cell-64e392db0c3b6c8d",
     "locked": true,
     "schema_version": 3,
     "solution": false,
     "task": false
    }
   },
   "source": [
    "Working it out by hand, the __cross product__ $v \\times w$ is equal to the vector `[10, -2, -6]`.  You should be able to compute the __dot product__\n",
    "\n",
    "$$\n",
    "v \\cdot w = \\sum_{i=1}^3 v_i w_i\n",
    "$$\n",
    "\n",
    "yourself.  The NumPy functions corresponding to each of these are `np.cross(v,w)` and `np.dot(v,w)`, respectively.\n",
    "\n",
    "First, use NumPy in the cell below to find the cross product $v \\times w$ and the dot product $v \\cdot w$, and __check that the answers are what you expect.__"
   ]
  },
  {
   "cell_type": "code",
   "execution_count": null,
   "metadata": {
    "collapsed": false,
    "jupyter": {
     "outputs_hidden": false
    },
    "nbgrader": {
     "grade": false,
     "grade_id": "cell-ad041d7d00200b8c",
     "locked": false,
     "schema_version": 3,
     "solution": true,
     "task": false
    }
   },
   "outputs": [],
   "source": [
    "# YOUR SOLUTION HERE"
   ]
  },
  {
   "cell_type": "markdown",
   "metadata": {
    "collapsed": false,
    "jupyter": {
     "outputs_hidden": false
    },
    "nbgrader": {
     "grade": false,
     "grade_id": "cell-4a8d8db470a14b02",
     "locked": true,
     "schema_version": 3,
     "solution": false,
     "task": false
    }
   },
   "source": [
    "The cross product satisfies two _identities:_\n",
    "\n",
    "1. $\\mathbf{w} \\times \\mathbf{v} = - \\mathbf{v} \\times \\mathbf{w}$\n",
    "2. $\\mathbf{v} \\times \\mathbf{v} = 0$\n",
    "\n",
    "Use NumPy to verify these identities, again using the vectors `v` and `w` we defined above."
   ]
  },
  {
   "cell_type": "code",
   "execution_count": null,
   "metadata": {
    "collapsed": false,
    "jupyter": {
     "outputs_hidden": false
    },
    "nbgrader": {
     "grade": false,
     "grade_id": "cell-05129c59aef2edaa",
     "locked": false,
     "schema_version": 3,
     "solution": true,
     "task": false
    }
   },
   "outputs": [],
   "source": [
    "# YOUR SOLUTION HERE"
   ]
  },
  {
   "cell_type": "markdown",
   "metadata": {
    "collapsed": false,
    "jupyter": {
     "outputs_hidden": false
    },
    "nbgrader": {
     "grade": false,
     "grade_id": "cell-f3867420b2f17f54",
     "locked": true,
     "schema_version": 3,
     "solution": false,
     "task": false
    }
   },
   "source": [
    "### Part B\n",
    "\n",
    "Now that you're familiar with the NumPy functions needed, __compute the EM force on a test charge__ in the following two cases:\n",
    "\n",
    "- __Case A:__ A one-Coulomb charge is moving with velocity $\\mathbf{v} = (2, -1, 0)$ m/s is subject to a magnetic field $\\mathbf{B} = (1,1,1)$ T.\n",
    "- __Case B:__ A proton (charge $q = 1.6 \\times 10^{-19}\\ \\rm{C}$) moving at $+6 \\times 10^7$ m/s along the z-axis is subject to both an electric field $\\mathbf{E} = (0,0,4)$ V/m and a magnetic field $\\mathbf{B} = (3, -3, 1)$ T.\n",
    "\n",
    "__Save your answers for the force vectors to variables `F_A` (case A) and `F_B` (case B)__.\n",
    "\n",
    "(The velocity, E and B fields are in appropriate SI units so that the force will come out in Newtons with no extra conversions or other numeric factors.)"
   ]
  },
  {
   "cell_type": "code",
   "execution_count": null,
   "metadata": {
    "collapsed": false,
    "jupyter": {
     "outputs_hidden": false
    },
    "nbgrader": {
     "grade": false,
     "grade_id": "cell-2c10fff430811f4f",
     "locked": false,
     "schema_version": 3,
     "solution": true,
     "task": false
    }
   },
   "outputs": [],
   "source": [
    "# YOUR SOLUTION HERE"
   ]
  },
  {
   "cell_type": "markdown",
   "metadata": {
    "collapsed": false,
    "jupyter": {
     "outputs_hidden": false
    },
    "nbgrader": {
     "grade": false,
     "grade_id": "cell-83ab3e0483483a25",
     "locked": true,
     "schema_version": 3,
     "solution": false,
     "task": false
    }
   },
   "source": [
    "### Part C\n",
    "\n",
    "For any force exerted on a moving particle, the instantaneous __power__ (work per unit time) is given by the dot product with velocity:\n",
    "\n",
    "$$\n",
    "P = \\mathbf{F} \\cdot \\mathbf{v}.\n",
    "$$\n",
    "\n",
    "In the cell below, show that $P=0$ for case A (as expected, since no work is done by a magnetic field.)  Then find the power exerted by the EM force in case B."
   ]
  },
  {
   "cell_type": "code",
   "execution_count": null,
   "metadata": {
    "collapsed": false,
    "jupyter": {
     "outputs_hidden": false
    },
    "nbgrader": {
     "grade": false,
     "grade_id": "cell-4cdb5bfd2a32f307",
     "locked": false,
     "schema_version": 3,
     "solution": true,
     "task": false
    }
   },
   "outputs": [],
   "source": [
    "# YOUR SOLUTION HERE"
   ]
  }
 ],
 "metadata": {
  "kernelspec": {
   "display_name": "Python 3 (ipykernel)",
   "language": "python",
   "name": "python3"
  },
  "language_info": {
   "codemirror_mode": {
    "name": "ipython",
    "version": 3
   },
   "file_extension": ".py",
   "mimetype": "text/x-python",
   "name": "python",
   "nbconvert_exporter": "python",
   "pygments_lexer": "ipython3",
   "version": "3.13.7"
  }
 },
 "nbformat": 4,
 "nbformat_minor": 4
}
