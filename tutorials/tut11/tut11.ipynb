{
 "cells": [
  {
   "cell_type": "markdown",
   "metadata": {
    "editable": true,
    "nbgrader": {
     "grade": false,
     "grade_id": "cell-100899e0deea9789",
     "locked": true,
     "schema_version": 3,
     "solution": false,
     "task": false
    },
    "slideshow": {
     "slide_type": ""
    },
    "tags": []
   },
   "source": [
    "# Tutorial 11: Testing and Debugging\n",
    "\n",
    "## PHYS 2600"
   ]
  },
  {
   "cell_type": "code",
   "execution_count": null,
   "metadata": {
    "editable": true,
    "nbgrader": {
     "grade": false,
     "grade_id": "cell-fa56075392a814a2",
     "locked": true,
     "schema_version": 3,
     "solution": false,
     "task": false
    },
    "slideshow": {
     "slide_type": ""
    },
    "tags": []
   },
   "outputs": [],
   "source": [
    "# Import cell\n",
    "%matplotlib inline\n",
    "\n",
    "import matplotlib.pyplot as plt\n",
    "import numpy as np"
   ]
  },
  {
   "cell_type": "markdown",
   "metadata": {
    "editable": true,
    "nbgrader": {
     "grade": false,
     "grade_id": "cell-88a9750ccf640d83",
     "locked": true,
     "schema_version": 3,
     "solution": false,
     "task": false
    },
    "slideshow": {
     "slide_type": ""
    },
    "tags": []
   },
   "source": [
    "## T11.X - Programming with intent (worked example)\n",
    "\n",
    "_(Special note: as a worked example, you are encouraged to fill this in along with me in class, but you won't be graded on whether you've completed it or not.)_\n",
    "\n",
    "Let's start this tutorial with a worked example, going from start to finish on a short program while following the three rules of programming with intent:\n",
    "\n",
    "1. Documenting our code\n",
    "2. Writing clean code\n",
    "3. Testing our code\n",
    "\n",
    "Here's the exercise: we'd like to write a function `minmax()` which will __find and return both the smallest and largest elements in an array of numbers__.  Just to make it more interesting, we will _not_ use the built-in `max()` and `min()` methods, which already do part of the task for us."
   ]
  },
  {
   "cell_type": "markdown",
   "metadata": {
    "nbgrader": {
     "grade": false,
     "grade_id": "cell-e284649a26022f1a",
     "locked": true,
     "schema_version": 3,
     "solution": false,
     "task": false
    }
   },
   "source": [
    "Let's begin with design: making our intent more concrete.  We want the smallest and largest elements in a list of numbers; __what is our algorithm?__"
   ]
  },
  {
   "cell_type": "code",
   "execution_count": null,
   "metadata": {
    "editable": true,
    "nbgrader": {
     "grade": true,
     "grade_id": "cell-2612bcab36f839a7",
     "locked": false,
     "points": 2,
     "schema_version": 3,
     "solution": true,
     "task": false
    },
    "slideshow": {
     "slide_type": ""
    },
    "tags": []
   },
   "outputs": [],
   "source": [
    "### BEGIN SOLUTION\n",
    "# There are multiple possibilities here, as is usually the case.  This problem is related to the problem of sorting:\n",
    "# if we sorted the array from smallest to largest, then we know the min and max entries are just the ones on the ends.\n",
    "# But this is over-engineered; we don't need to sort the whole array, just find two values.\n",
    "\n",
    "# We will adopt a simple exhaustive search algorithm, also known as \"linear search\".  There are more complex algorithms\n",
    "# available that do slightly better - see https://www.geeksforgeeks.org/maximum-and-minimum-in-an-array/.\n",
    "\n",
    "# Here is the linear search algorithm:\n",
    "\n",
    "# 1. Create two \"register\" variables, current_min and current_max.\n",
    "# 2. Iterate through the array.  For each value:\n",
    "#   a) If the value is below current_min, then replace current_min with it.\n",
    "#   b) If the value is above current_max, then replace current_max with it.\n",
    "\n",
    "### END SOLUTION"
   ]
  },
  {
   "cell_type": "markdown",
   "metadata": {
    "editable": true,
    "nbgrader": {
     "grade": false,
     "grade_id": "cell-c08c037d5fd70cf5",
     "locked": true,
     "schema_version": 3,
     "solution": false,
     "task": false
    },
    "slideshow": {
     "slide_type": ""
    },
    "tags": []
   },
   "source": [
    "Now, let's implement our function.  We'll do the following steps:\n",
    "\n",
    "1. Write the function signature and docstring.\n",
    "2. Outline the algorithm in comments.\n",
    "3. Implement the code.\n",
    "4. Write some tests, and debug."
   ]
  },
  {
   "cell_type": "code",
   "execution_count": null,
   "metadata": {
    "editable": true,
    "nbgrader": {
     "grade": false,
     "grade_id": "cell-5829499584e3f877",
     "locked": false,
     "schema_version": 3,
     "solution": true,
     "task": false
    },
    "slideshow": {
     "slide_type": ""
    },
    "tags": []
   },
   "outputs": [],
   "source": [
    "### BEGIN SOLUTION\n",
    "def minmax(search_array):\n",
    "    \"\"\"\n",
    "    Finds the min/max values in an array.\n",
    "\n",
    "    Args:\n",
    "        search_array: array to be searched.  Should be numeric.\n",
    "\n",
    "    Returns:\n",
    "        (min, max): length-2 array of min and max values in search_array.\n",
    "        [Special case: returns None if search_array is empty.]\n",
    "\n",
    "    \"\"\"\n",
    "    # We must explicitly check for an empty array:\n",
    "    if len(search_array) == 0:\n",
    "        return None\n",
    "        \n",
    "    # Create \"register\" variables to store min/max at current point in search.\n",
    "    current_min = search_array[0]\n",
    "    current_max = search_array[0]\n",
    "    \n",
    "    # We iterate through the elements of search_array starting with the *second* element\n",
    "    # Note, if the array has only one element: \n",
    "    #  1) search_array[1:] is empty, so, this loop won't do anything\n",
    "    #  2) search_array[0] is both then min and max\n",
    "    for value in search_array[1:]: \n",
    "        \n",
    "        # If current value is below current_min, it becomes the new current_min\n",
    "        if value < current_min:\n",
    "            current_min = value\n",
    "        \n",
    "        # If current value is above current_max, it becomes the new current_max\n",
    "        if value > current_max:\n",
    "            current_max = value\n",
    "    \n",
    "    # Return (min, max)\n",
    "    return np.array([current_min, current_max])\n",
    "### END SOLUTION"
   ]
  },
  {
   "cell_type": "markdown",
   "metadata": {
    "nbgrader": {
     "grade": false,
     "grade_id": "cell-5dc99392b114b055",
     "locked": true,
     "schema_version": 3,
     "solution": false,
     "task": false
    }
   },
   "source": [
    "Now we need some tests!  We'll start with short lists where it's obvious what the min/max are.  Let's just start by `print`ing the test results to see if they match our expectations."
   ]
  },
  {
   "cell_type": "code",
   "execution_count": null,
   "metadata": {
    "editable": true,
    "nbgrader": {
     "grade": false,
     "grade_id": "cell-8fabb010c504b9f6",
     "locked": false,
     "schema_version": 3,
     "solution": true,
     "task": false
    },
    "slideshow": {
     "slide_type": ""
    },
    "tags": []
   },
   "outputs": [],
   "source": [
    "### BEGIN SOLUTION\n",
    "print(minmax(np.array([1, 3, 5, 7])))\n",
    "print(minmax(np.array([3.7, 4.4, 1003.3])))\n",
    "print(minmax(np.arange(50)))\n",
    "print(minmax(np.array([-3, 0, 4])))\n",
    "print(minmax(np.array([5.5])))\n",
    "### END SOLUTION"
   ]
  },
  {
   "cell_type": "markdown",
   "metadata": {
    "nbgrader": {
     "grade": false,
     "grade_id": "cell-695fc52cc6045d96",
     "locked": true,
     "schema_version": 3,
     "solution": false,
     "task": false
    }
   },
   "source": [
    "Once that's working, we should try some more interesting or unusual cases, to make sure our program still behaves as expected.  (Some things to consider: negative numbers?  Lists of length one, or length zero?  "
   ]
  },
  {
   "cell_type": "code",
   "execution_count": null,
   "metadata": {
    "editable": true,
    "nbgrader": {
     "grade": false,
     "grade_id": "cell-a6adaee8e5a071ff",
     "locked": false,
     "schema_version": 3,
     "solution": true,
     "task": false
    },
    "slideshow": {
     "slide_type": ""
    },
    "tags": []
   },
   "outputs": [],
   "source": [
    "### BEGIN SOLUTION\n",
    "print(minmax(np.array([3])))\n",
    "print(minmax(np.array([])))\n",
    "print(minmax(np.array([-7, -3, -1])))\n",
    "print(minmax(np.array([\"Q\", \"A\", \"X\", \"M\", \"P\"])))\n",
    "### END SOLUTION"
   ]
  },
  {
   "cell_type": "markdown",
   "metadata": {
    "editable": true,
    "nbgrader": {
     "grade": false,
     "grade_id": "cell-dc6aa6dd403e6900",
     "locked": true,
     "schema_version": 3,
     "solution": false,
     "task": false
    },
    "slideshow": {
     "slide_type": ""
    },
    "tags": []
   },
   "source": [
    "## T11.1 - Debugging\n",
    "\n",
    "Both of the examples below are buggy code - they have something wrong with them!  Use your knowledge of black-box and glass-box testing to test and fix each example."
   ]
  },
  {
   "cell_type": "markdown",
   "metadata": {
    "editable": true,
    "nbgrader": {
     "grade": false,
     "grade_id": "cell-ef1a54707f1eabce",
     "locked": true,
     "schema_version": 3,
     "solution": false,
     "task": false
    },
    "slideshow": {
     "slide_type": ""
    },
    "tags": []
   },
   "source": [
    "### Part A\n",
    "\n",
    "The _intent_ of the code below is to count how many odd numbers there are between 1 and n (including n itself, if n is odd.)\n",
    "\n",
    "```python\n",
    "def count_odds(n):\n",
    "    i = 0\n",
    "    while i < n:        \n",
    "        if (i % 2 == 1):\n",
    "            total += n\n",
    "        \n",
    "        i += 1\n",
    "        \n",
    "    return total\n",
    "    \n",
    "print(count_odds(6))  # 1,3,5 --> should print 3\n",
    "print(count_odds(7))  # 1,3,5,7 --> should print 4\n",
    "```"
   ]
  },
  {
   "cell_type": "code",
   "execution_count": null,
   "metadata": {
    "editable": true,
    "nbgrader": {
     "grade": false,
     "grade_id": "cell-22048b1dd730e627",
     "locked": false,
     "schema_version": 3,
     "solution": true,
     "task": false
    },
    "slideshow": {
     "slide_type": ""
    },
    "tags": []
   },
   "outputs": [],
   "source": [
    "#"
   ]
  },
  {
   "cell_type": "markdown",
   "metadata": {
    "editable": true,
    "nbgrader": {
     "grade": false,
     "grade_id": "cell-2dc1cc8c8008e909",
     "locked": true,
     "schema_version": 3,
     "solution": false,
     "task": false
    },
    "slideshow": {
     "slide_type": ""
    },
    "tags": []
   },
   "source": [
    "### Part B\n",
    "\n",
    "The _intent_ of the code below is to count how many negative numbers there are in an array, and return it.   (Yes, it's easier to do this with a mask; but explicit loops are more instructive to debug!) \n",
    "\n",
    "This time it passes the test I wrote, so maybe there's nothing for you to do?  Or maybe you should write some more tests...\n",
    "\n",
    "```python\n",
    "def how_many_negative_numbers(my_array):\n",
    "    count_negative = 0\n",
    "    i = 0\n",
    "    \n",
    "    while i < len(my_array):\n",
    "        number = my_array[i]\n",
    "        if number > 0:\n",
    "            break\n",
    "        count_negative += 1\n",
    "        i += 1\n",
    "        \n",
    "    return count_negative\n",
    "\n",
    "    \n",
    "print(how_many_negative_numbers(np.array([-4, -1, 0, 7, -3])))\n",
    "# prints 3, so the code works...right?\n",
    "\n",
    "```"
   ]
  },
  {
   "cell_type": "code",
   "execution_count": null,
   "metadata": {
    "editable": true,
    "nbgrader": {
     "grade": false,
     "grade_id": "cell-553d01e34b5c25e1",
     "locked": false,
     "schema_version": 3,
     "solution": true,
     "task": false
    },
    "slideshow": {
     "slide_type": ""
    },
    "tags": []
   },
   "outputs": [],
   "source": [
    "#"
   ]
  },
  {
   "cell_type": "markdown",
   "metadata": {
    "nbgrader": {
     "grade": false,
     "grade_id": "cell-f04a667907984113",
     "locked": true,
     "schema_version": 3,
     "solution": false,
     "task": false
    }
   },
   "source": [
    "## T11.2 - Finding the range (with intent)\n",
    "\n",
    "Your turn to program an algorithm _with intent_, and debug it!  Suppose we're writing a simulation of two-dimensional ballistics, i.e. the motion of projectiles under the influence of gravity.  For simplicity, let's assume our projectile always starts at $(0,0)$, and is released with initial launch speed $v_0$ at angle $\\theta$ from the horizontal.  Then its trajectory will be:\n",
    "\n",
    "$$\n",
    "x(t) = (v_0 \\cos \\theta) t \\\\\n",
    "y(t) = (v_0 \\sin \\theta) t - \\frac{1}{2} g t^2 \\\\\n",
    "$$\n",
    "\n",
    "As one small part of our simulation, we'd like to implement a function `find_range(x,y)`, which will take two arrays `x` and `y` containing the trajectory $(x(t), y(t))$ and use them to find the __range of the projectile__, i.e. the value of $x$ at which it comes back to the ground at $y=0$.\n",
    "\n",
    "(Of course, in this case we could just solve analytically for the range, and no doubt such a formula is in most textbooks.  But if we were solving with air resistance, then we would need a function like this!  In fact, you will probably need it later this semester...)\n",
    "\n",
    "Let's start by finding a trajectory - run the cell below to populate two arrays `x_traj` and `y_traj`, and use them to make a plot."
   ]
  },
  {
   "cell_type": "code",
   "execution_count": null,
   "metadata": {
    "editable": true,
    "nbgrader": {
     "grade": false,
     "grade_id": "cell-38386e1216a404b0",
     "locked": true,
     "schema_version": 3,
     "solution": false,
     "task": false
    },
    "slideshow": {
     "slide_type": ""
    },
    "tags": []
   },
   "outputs": [],
   "source": [
    "g = 9.8  # m/s^2\n",
    "v0 = 30  # m/s\n",
    "theta = 45 * np.pi / 180\n",
    "T = 5  # s\n",
    "y0 = 5  # m\n",
    "\n",
    "# Create array of t-values for trajectory\n",
    "t = np.linspace(0, 5, 100)\n",
    "\n",
    "# Get trajectory given the above\n",
    "x_traj = v0 * np.cos(theta) * t\n",
    "y_traj = y0 + v0 * np.sin(theta) * t - 0.5 * g * t**2\n",
    "\n",
    "# Plot the trajectory\n",
    "plt.plot(x_traj, y_traj, linestyle=\" \", marker=\".\")\n",
    "\n",
    "# Add a horizontal line to show the ground\n",
    "plt.axhline(0, color=\"r\")"
   ]
  },
  {
   "cell_type": "markdown",
   "metadata": {
    "nbgrader": {
     "grade": false,
     "grade_id": "cell-7ff7e743c7830d1a",
     "locked": true,
     "schema_version": 3,
     "solution": false,
     "task": false
    }
   },
   "source": [
    "The plot already tells us that the answer should be somewhere around 90.  (Just making plots is frequently one of the most powerful tools in your debugging toolkit!)\n",
    "\n",
    "Let's begin with design: making our intent more concrete.  __What is our algorithm for finding the range?__  This is a trickier question than you might think: we can't just try to find points where `y=0`, because due to the finite amount of time steps we have, `y` will only get _close_ to zero, but never actually reach it.  What we want is the _closest_ point to `y=0`.  But we don't just want the `y`-value, we want the `x`-value.\n",
    "\n",
    "So here's a simple algorithm:\n",
    "\n",
    "1. Start with the trajectory as a pair of arrays `x` and `y`, containing the $(x,y)$ coordinates in order.\n",
    "2. Find the _index of_ the entry in the array `y` which is closest to 0.\n",
    "3. The range is the `x` value _at the same index_.\n",
    "\n",
    "If we look at the NumPy documentation, we'll find a couple functions that might be useful:\n",
    "- `np.min` gives the smallest value in an array.\n",
    "- `np.argmin` works similarly, but gives the _index_ of the smallest value in an array.\n",
    "\n",
    "For example:\n",
    "\n"
   ]
  },
  {
   "cell_type": "code",
   "execution_count": null,
   "metadata": {
    "scrolled": true
   },
   "outputs": [],
   "source": [
    "a = np.array([3, 4, 1, 5])\n",
    "print(np.min(a))\n",
    "i = np.argmin(a)\n",
    "print(\"Index of min(a) = \", i, \"; a[i] = \", a[i])"
   ]
  },
  {
   "cell_type": "markdown",
   "metadata": {
    "nbgrader": {
     "grade": false,
     "grade_id": "cell-368c1f34a969a0a4",
     "locked": true,
     "schema_version": 3,
     "solution": false,
     "task": false
    }
   },
   "source": [
    "Since this is a tutorial, I'll provide the docstring for you this time - you provide the comments and the code!"
   ]
  },
  {
   "cell_type": "code",
   "execution_count": null,
   "metadata": {
    "editable": true,
    "nbgrader": {
     "grade": false,
     "grade_id": "cell-b4d1b8009757cc1e",
     "locked": false,
     "schema_version": 3,
     "solution": true,
     "task": false
    },
    "slideshow": {
     "slide_type": ""
    },
    "tags": []
   },
   "outputs": [],
   "source": [
    "def find_range(x, y):\n",
    "    \"\"\"\n",
    "    Given a ballistic trajectory (x,y), finds the range R,\n",
    "    which is the x-value away from the origin closest to\n",
    "    where the trajectory crosses y=0.\n",
    "\n",
    "    Arguments:\n",
    "    =====\n",
    "    x,y: arrays of coordinates describing a ballistic trajectory.\n",
    "    (Must be the same length!)\n",
    "\n",
    "    Returns:\n",
    "    =====\n",
    "    R: the range of the projectile.\n",
    "\n",
    "    \"\"\"\n",
    "\n",
    "    #"
   ]
  },
  {
   "cell_type": "code",
   "execution_count": null,
   "metadata": {
    "editable": true,
    "nbgrader": {
     "grade": true,
     "grade_id": "cell-095b5e68f6c1d82f",
     "locked": true,
     "points": 0,
     "schema_version": 3,
     "solution": false,
     "task": false
    },
    "slideshow": {
     "slide_type": ""
    },
    "tags": []
   },
   "outputs": [],
   "source": [
    "true_range = 96.59  # Computed analytically\n",
    "\n",
    "# With 100 points, our grid spacing is dt = 0.05.\n",
    "# v0_x is about 20 m/s, so dx = v0_x * dt ~ 1 m.\n",
    "# We expect accuracy in range to about that precision.\n",
    "\n",
    "print(find_range(x_traj, y_traj))\n",
    "\n",
    "assert np.abs(find_range(x_traj, y_traj) - true_range) <= 1.0"
   ]
  },
  {
   "cell_type": "markdown",
   "metadata": {
    "nbgrader": {
     "grade": false,
     "grade_id": "cell-20a44e7ccaba8cf4",
     "locked": true,
     "schema_version": 3,
     "solution": false,
     "task": false
    }
   },
   "source": [
    "### Part B _(optional challenge)_\n",
    "\n",
    "The simplest version of the algorithm I gave above works fine as long as $y_0 > 0$, but if $y_0 = 0$, it will probably fail the test below!  Can you fix up the code to pass this final testing cell?"
   ]
  },
  {
   "cell_type": "code",
   "execution_count": null,
   "metadata": {
    "nbgrader": {
     "grade": true,
     "grade_id": "cell-9d226f08203b9818",
     "locked": true,
     "points": 0,
     "schema_version": 3,
     "solution": false,
     "task": false
    }
   },
   "outputs": [],
   "source": [
    "true_range_zero = 91.84  # Computed analytically\n",
    "y_traj_zero = v0 * np.sin(theta) * t - 0.5 * g * t**2\n",
    "\n",
    "print(find_range(x_traj, y_traj_zero))\n",
    "assert np.abs(find_range(x_traj, y_traj_zero) - true_range_zero) <= 1.0"
   ]
  }
 ],
 "metadata": {
  "kernelspec": {
   "display_name": "Python 3 (ipykernel)",
   "language": "python",
   "name": "python3"
  },
  "language_info": {
   "codemirror_mode": {
    "name": "ipython",
    "version": 3
   },
   "file_extension": ".py",
   "mimetype": "text/x-python",
   "name": "python",
   "nbconvert_exporter": "python",
   "pygments_lexer": "ipython3",
   "version": "3.13.7"
  }
 },
 "nbformat": 4,
 "nbformat_minor": 4
}
