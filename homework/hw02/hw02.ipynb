{
 "cells": [
  {
   "cell_type": "markdown",
   "id": "55cd2cde-ce25-4e76-97bc-6241be4da3a0",
   "metadata": {},
   "source": [
    "# Homework #2\n",
    "\n",
    "## PHYS 2600, Fall 2025\n",
    "\n",
    "__Important notice:__ All cells in your notebook will be run, start to finish, using a fresh kernel when it is graded!  To make sure the graded notebook looks like what you expect, we recommend selecting \"Runtime > Restart session and run all\" from the menu above in Colab before you finish.\n",
    "\n"
   ]
  },
  {
   "cell_type": "markdown",
   "id": "8aec2c57-1b67-40fa-a819-25ea7c317252",
   "metadata": {},
   "source": [
    "If you worked collaboratively on this assignment, __include the names of your collaborators in the cell below:__"
   ]
  },
  {
   "cell_type": "markdown",
   "id": "0505d057-aeba-4b63-8534-49f1b12b4b57",
   "metadata": {},
   "source": []
  },
  {
   "cell_type": "markdown",
   "id": "7c6c50cf-2641-447a-a802-ff1facd50f6d",
   "metadata": {},
   "source": [
    "## 2.1 - Mistakes and formatting (6 points)"
   ]
  },
  {
   "cell_type": "markdown",
   "id": "769baead-e685-402b-b6c2-6c0361ecc6f0",
   "metadata": {},
   "source": [
    "Consider the following program, which tries to verify that these two equations are correct:\n",
    "\n",
    "\n",
    "$$\n",
    "(a+b)(a-b) = a^2 - b^2 \\\\\n",
    "(a-2b)^2 = a^2 - 4ab + 4b^2\n",
    "$$\n",
    "\n",
    "for the values $a=4.4$ and $b=2.8$.\n",
    "\n",
    "```python\n",
    "a=3,3   b=8,2\n",
    "a2 = a**2\n",
    "b2 = b**2\n",
    "\n",
    "eq1_sum = a2 - 2ab + b2\n",
    "eq2_sum = a2 - 2ab - b2\n",
    "\n",
    "eq1_pow = (a + b)**2\n",
    "eq2_pow = (a - b)**2\n",
    "\n",
    "print(f'First equation: {eq1_sum:g} = {eq1_pow:g}')\n",
    "print(f'Second equation: {eq2_sum:h} = {eq2_pow:h}')\n",
    "```\n",
    "\n",
    "There are tons of mistakes in this program!  Copy the code into the cell below, then __fix the mistakes__, add comments to explain what you changed and why, and run to verify the two equations.\n",
    "\n"
   ]
  },
  {
   "cell_type": "code",
   "execution_count": null,
   "id": "7cca55d7-5a1d-43f2-a35e-2e4fb3fd85b5",
   "metadata": {},
   "outputs": [],
   "source": [
    "# YOUR CODE HERE"
   ]
  },
  {
   "cell_type": "code",
   "execution_count": null,
   "id": "3341d004-e2ce-4f5b-8158-2e8f850ba184",
   "metadata": {},
   "outputs": [],
   "source": [
    "# Testing cell - do not delete me!\n",
    "\n",
    "import numpy.testing as npt\n",
    "\n",
    "npt.assert_allclose(eq1_sum, 11.52, atol=1e-3)"
   ]
  },
  {
   "cell_type": "markdown",
   "id": "0f172f63-91f2-4e7b-b7f1-82ce2518bcbc",
   "metadata": {},
   "source": [
    "## 2.2 - Dealing with multiple arguments (6 points)\n",
    "\n",
    "This problem concerns some typical 'gotcha' behaviors of function arguments that can lead to potential confusion.  Here is a brief reminder of some behaviors of functions that we discussed:\n",
    "\n",
    "* Positional arguments given to a function are assigned in order to the argument names as in the `def...` statement.\n",
    "* Keyword arguments can be in _any_ order, and are assigned to matching argument names as in the `def...` statement.\n",
    "* A function call has its own __local scope__; any variable names inside are temporary and distinct from those in the original (global) scope.\n",
    "\n",
    "For each of the code examples below, __explain the question in the comment__.  If you get stuck, refer back to lecture and tutorial 4, and don't be afraid to use the [Python Tutor](http://www.pythontutor.com/visualize.html#mode=edit)!"
   ]
  },
  {
   "cell_type": "code",
   "execution_count": null,
   "id": "4cf1184d-abfe-440b-959f-fc7b75011111",
   "metadata": {},
   "outputs": [],
   "source": [
    "# Example A\n",
    "x = 3\n",
    "def H(x):\n",
    "    print(x)\n",
    "H(x=5)\n",
    "print(x)  ## Why doesn't this print 5?"
   ]
  },
  {
   "cell_type": "markdown",
   "id": "31b46b91-7ec6-4c64-abb8-9e9dd44206fc",
   "metadata": {},
   "source": [
    "YOUR ANSWER HERE"
   ]
  },
  {
   "cell_type": "code",
   "execution_count": null,
   "id": "c14131e0-1962-420d-970a-145b64827490",
   "metadata": {},
   "outputs": [],
   "source": [
    "# Example B\n",
    "x = 4; y = 2\n",
    "def F(y,x):\n",
    "    print(y,x)\n",
    "\n",
    "F(x, y)  ## Why does this print 4 2, and not 2 4?"
   ]
  },
  {
   "cell_type": "markdown",
   "id": "e3107929-38f6-40a4-ba82-76aa62ce9c1b",
   "metadata": {},
   "source": [
    "YOUR ANSWER HERE"
   ]
  },
  {
   "cell_type": "code",
   "execution_count": null,
   "id": "01bf1dd7-ebaf-4194-8ce0-a59cc9413fe6",
   "metadata": {},
   "outputs": [],
   "source": [
    "# Example C\n",
    "x = 4; z = 6\n",
    "def G(x, y=1, z=2):\n",
    "    print(x,y,z)\n",
    "\n",
    "G(x, z)  ## Why does this print 4 6 2, and not 4 1 6?"
   ]
  },
  {
   "cell_type": "markdown",
   "id": "9d792af7-275a-4de8-a9b8-425bebfb1b3f",
   "metadata": {},
   "source": [
    "YOUR ANSWER HERE"
   ]
  },
  {
   "cell_type": "markdown",
   "id": "5e096ab1-0a24-4a73-9fbb-747f15a9a76e",
   "metadata": {},
   "source": [
    "## 2.3 - Strings in the lab (5 points)\n"
   ]
  },
  {
   "cell_type": "markdown",
   "id": "b60a753a-2668-46de-a680-9e1fd937bf5f",
   "metadata": {},
   "source": [
    "You're working in a physics lab, recording some data from a tabletop experiment.  The experiment produces three numbers: a time-of-flight `t` in seconds, a polarization angle between $(0, 360)$ in degrees, and a light frequency in Hz.\n",
    "\n",
    "In order to do further analysis on the raw data, your research advisor has asked you to write them out to a data file.  However, they want the data formatted in a very specific way:\n",
    "\n",
    "- The time should be in milliseconds, not seconds, and should be printed out to the nearest _micro_second (i.e. with three digits after the decimal point);\n",
    "- The angle should be converted to radians, and then should be printed to four digits after the decimal;\n",
    "- The frequency should be printed in scientific notation, with five significant figures.\n",
    "\n",
    "Given the following measurements:\n",
    "\n",
    "- Time of flight = 0.00518734 s\n",
    "- Polarization angle = 23 degrees\n",
    "- Light frequency = 49150910016493 Hz\n",
    "\n",
    "__Make a string called `format_data`__ which contains the three numbers with formatting matching your advisor's request.  The three numbers should be printed in the order \"(time) (angle) (frequency)\", with a single space separating them.\n",
    "\n",
    "(So far we don't know how to actually write this out to a file - we'll cover that later - but if you were really doing this task in a lab, this formatting exercise would still be the first step!)\n",
    "\n"
   ]
  },
  {
   "cell_type": "code",
   "execution_count": null,
   "id": "aa5fd181-b7a2-4b5f-9225-0de9b7b9b35b",
   "metadata": {},
   "outputs": [],
   "source": [
    "# YOUR CODE HERE"
   ]
  },
  {
   "cell_type": "code",
   "execution_count": null,
   "id": "d868fde2-c4bb-4e7b-9152-7c9446b6a425",
   "metadata": {},
   "outputs": [],
   "source": [
    "# Testing cell - do not delete me!\n",
    "\n",
    "print(format_data)\n",
    "assert type(format_data) == str\n",
    "\n",
    "# NOTE: the test only make sure you created the string format_data.\n",
    "# Just because this cell runs without error, it doesn't mean your answer is right\n",
    "# - check it yourself against the requirements!!"
   ]
  },
  {
   "cell_type": "markdown",
   "id": "f9785718-c373-42ee-943d-d4f95a86486e",
   "metadata": {},
   "source": [
    "## 2.4 \\- Simple projectile motion \\(5 points\\)\n",
    "\n"
   ]
  },
  {
   "cell_type": "markdown",
   "id": "09a65fb3-d47d-41c7-b904-6cb55c7bd8bf",
   "metadata": {},
   "source": [
    "From introductory mechanics, we know that the formula for the height of a ball which is thrown into the air with initial vertical speed $v_0$ is (ignoring air resistance):\n",
    "\n",
    "$$\n",
    "y(t) = y_0 + v_0 t - \\frac{1}{2} gt^2\n",
    "$$\n",
    "\n",
    "with $g = 9.8$ m/s${}^2$.  Going one step further, we expect that at some later time $t_f$, the ball will hit the ground.  The condition for this is, taking the ground to be at zero height, $y(t_f) = 0$.  We can use this to solve for $t_f$, finding\n",
    "\n",
    "$$\n",
    "t_f = \\frac{v_0 + \\sqrt{v_0^2 + 2gy_0}}{g}\n",
    "$$\n",
    "\n",
    "In the cell below, __implement a function called `time_of_flight()`.__  It should have the following features (this might be called a _specification_, which is a sort of contract as to what a function yet to be written should look like):\n",
    "\n",
    "- It should have one __required__ argument (positional), called `v_0`.\n",
    "- It should have two __optional__ arguments, in any order: `y_0` (default value: 1.0) and `g` (default value: 9.8.)\n",
    "- It should return `t_f` according to the formula above.\n",
    "\n",
    "To compute the square root, you can either import the `sqrt` function from the `math` module, or you can raise to the $0.5$ power.  (The `sqrt` function is much more efficient, but for a simple task like this, you won't notice any difference in speed!)"
   ]
  },
  {
   "cell_type": "code",
   "execution_count": null,
   "id": "b496fab2-17c9-4a3c-980e-b1371214071c",
   "metadata": {},
   "outputs": [],
   "source": [
    "# YOUR CODE HERE"
   ]
  },
  {
   "cell_type": "code",
   "execution_count": null,
   "id": "6982b05e-b892-495c-bdef-410d6dc6152a",
   "metadata": {},
   "outputs": [],
   "source": [
    "## Testing cell\n",
    "\n",
    "import numpy.testing as npt\n",
    "\n",
    "npt.assert_allclose(time_of_flight(3.2), 0.884, atol=1e-3)\n",
    "npt.assert_allclose(time_of_flight(3.2, g=1.63), 4.217, atol=1e-3)  # Moon gravity instead of Earth\n",
    "npt.assert_allclose(time_of_flight(0.0, y_0=0), 0.0, atol=1e-3)  # y_0 = 0 and v_0 = 0 gives t_f = 0\n"
   ]
  },
  {
   "cell_type": "markdown",
   "id": "71a66ecc-c111-438a-9d0c-35e5ffe5812b",
   "metadata": {},
   "source": [
    "## 2.5 - Intro to Markdown (8 points)\n",
    "\n",
    "Now that we've learned how to print things out nicely in Python, let's dive into the other way of writing nice text in Python, the Markdown markup language.  Markdown is ubiquitous on the internet; in particular, Wikipedia and other wikis use Markdown natively for notation.  WhatsApp uses a subset of Markdown for formatting, so you may have encountered it there.  And of course, almost all the class materials are written in Markdown!\n",
    "\n",
    "We'll start with the basics of Markdown notation, and cover math notation using MathJax another time.  A more complete Markdown cheat sheet is [available here](https://github.com/adam-p/markdown-here/wiki/Markdown-Cheatsheet).\n",
    "\n",
    "Start by double-clicking on the Markdown cell immediately below this one to see the Markdown source.  The actual problem appears in the cell after the big example."
   ]
  },
  {
   "cell_type": "markdown",
   "id": "2a63539c-1c75-4813-b8ad-53fa2165d924",
   "metadata": {},
   "source": [
    "# Headings\n",
    "\n",
    "## Come\n",
    "\n",
    "### In\n",
    "\n",
    "#### Six\n",
    "\n",
    "##### Different\n",
    "\n",
    "###### Sizes\n",
    "\n",
    "## Text emphasis\n",
    "\n",
    "We can add _emphasis_ to our text in a few different ways: _italic_, __bold__, or ~~strikethrough~~.  There are alternative ways to write *italic* and **bold** - we can mix them together to get _**bold** italics_.\n",
    "\n",
    "## Code\n",
    "\n",
    "Often we want to write Python code snippets in our Markdown blocks, which uses a special notation to get the gray highlighting and different font (called 'monotype' since the characters are all the same width): `print(\"Hello, world!\")`\n",
    "\n",
    "We can put multi-line code snippets in our Markdown, too:\n",
    "\n",
    "```\n",
    "x=1\n",
    "y=2\n",
    "print(x**y)\n",
    "```\n",
    "\n",
    "If we add the language name to the top, we can even get nice _syntax highlighting_, just like Jupyter does for us in the code cells!\n",
    "\n",
    "```python\n",
    "x=1\n",
    "y=2\n",
    "print(x**y)\n",
    "```\n",
    "\n",
    "## Lists\n",
    "\n",
    "Markdown is great at making both ordered and unordered lists in a natural way!  Write the ordered list with numbers:\n",
    "\n",
    "1. Total energy is always conserved.\n",
    "2. Entropy of an isolated system always increases.\n",
    "3. Entropy of an isolated system approaches a universal constant as T goes to absolute zero.\n",
    "\n",
    "Slightly counter-intuitive: Markdown doesn't care which numbers you use, or how you order them - it gives you a simple numbered list!  \n",
    "\n",
    "1. Total energy is always conserved.\n",
    "9. Entropy of an isolated system always increases.\n",
    "5. Entropy of an isolated system approaches a universal constant as T goes to absolute zero.\n",
    "\n",
    "Unordered lists can be written with asterisks:\n",
    "\n",
    "* Bread\n",
    "* Eggs\n",
    "* Milk\n",
    "\n",
    "+ Yogurt\n",
    "\n",
    "- Bananas\n",
    "\n",
    "Dashes and plus signs are equally valid for unordered lists; you can even mix and match (as seen above.)\n",
    "\n",
    "## External links\n",
    "\n",
    "There's a complicated set of rules for adding all kinds of links to a Markdown document, but the simplest useful one is just linking to something external.  The syntax has two entries: the first is the _label_, and the second is the _link_.\n",
    "\n",
    "[This is a link to Wikipedia.](https://en.wikipedia.org/wiki/Differentiable_manifold)\n",
    "\n",
    "The link itself should be a valid URL - exactly what appears in your web browser bar when you load a page.  You can just copy directly out of the browser bar to grab a page link that you're looking at.\n",
    "\n"
   ]
  },
  {
   "cell_type": "markdown",
   "id": "db8f9cdb-358e-491f-9890-2396834130bd",
   "metadata": {},
   "source": [
    "__Now the homework problem!__  Your mission is to give a brief explanation in Markdown, in your own words, of the principle of conservation of energy.  (If you need to jog your memory, this page might be helpful:)\n",
    "\n",
    "[https://cnx.org/contents/Ax2o07Ul@13.5:xa2wEvur@9/Conservation-of-Energy](https://cnx.org/contents/Ax2o07Ul@13.5:xa2wEvur@9/Conservation-of-Energy)\n",
    "\n",
    "To fully flex your Markdown muscle, __you must include the following in your explanation:__\n",
    "\n",
    "- One first-level header reading \"Conservation of Energy\";\n",
    "- Three second-level headers, reading \"The Law of Conservation of Energy\", \"Types of Energy\", and \"Examples of Energy Conversion\".\n",
    "- At least one example of each type of emphasis: bold, italic, and bold italic.\n",
    "- A list, ordered or unordered, containing three different examples of types of energy (your first can be \"kinetic energy\".)\n",
    "- An external link to the URL given above, with some text description.\n",
    "- A multi-line code example, showing a Python snippet which adds together the kinetic energy and gravitational potential energy for a 2 kg mass moving at 10 m/s, and at a height of 8 meters.\n",
    "\n",
    "\n"
   ]
  }
 ],
 "metadata": {
  "kernelspec": {
   "display_name": "Python 3 (ipykernel)",
   "language": "python",
   "name": "python3"
  },
  "language_info": {
   "codemirror_mode": {
    "name": "ipython",
    "version": 3
   },
   "file_extension": ".py",
   "mimetype": "text/x-python",
   "name": "python",
   "nbconvert_exporter": "python",
   "pygments_lexer": "ipython3",
   "version": "3.13.7"
  }
 },
 "nbformat": 4,
 "nbformat_minor": 5
}
