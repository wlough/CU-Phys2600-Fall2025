{
 "cells": [
  {
   "cell_type": "markdown",
   "metadata": {
    "collapsed": false,
    "jupyter": {
     "outputs_hidden": false
    },
    "nbgrader": {
     "grade": false,
     "grade_id": "cell-100899e0deea9789",
     "locked": true,
     "schema_version": 3,
     "solution": false,
     "task": false
    }
   },
   "source": [
    "# Homework 9\n",
    "\n",
    "## PHYS 2600\n",
    "\n",
    "__Important notice:__ All cells in your notebook will be run, start to finish, using a fresh kernel when it is graded! To make sure the graded notebook looks like what you expect, we recommend selecting \"Runtime > Restart session and run all\" from the menu above in Colab before you finish."
   ]
  },
  {
   "cell_type": "code",
   "execution_count": null,
   "metadata": {
    "collapsed": false,
    "jupyter": {
     "outputs_hidden": false
    },
    "nbgrader": {
     "grade": false,
     "grade_id": "cell-e4302376dbe2ef21",
     "locked": true,
     "schema_version": 3,
     "solution": false,
     "task": false
    }
   },
   "outputs": [],
   "source": [
    "# Import cell\n",
    "%matplotlib inline\n",
    "\n",
    "import matplotlib.pyplot as plt\n",
    "import numpy as np"
   ]
  },
  {
   "cell_type": "markdown",
   "metadata": {
    "collapsed": false,
    "jupyter": {
     "outputs_hidden": false
    },
    "nbgrader": {
     "grade": false,
     "grade_id": "cell-ab20f4212ab1249c",
     "locked": true,
     "schema_version": 3,
     "solution": false,
     "task": false
    }
   },
   "source": [
    "If you worked collaboratively on this assignment, __include the names of your collaborators in the cell below:__"
   ]
  },
  {
   "cell_type": "markdown",
   "metadata": {
    "collapsed": false,
    "jupyter": {
     "outputs_hidden": false
    }
   },
   "source": []
  },
  {
   "cell_type": "markdown",
   "metadata": {
    "collapsed": false,
    "jupyter": {
     "outputs_hidden": false
    },
    "nbgrader": {
     "grade": false,
     "grade_id": "cell-167ece74357ee8c6",
     "locked": true,
     "schema_version": 3,
     "solution": false,
     "task": false
    }
   },
   "source": [
    "## 9.0 - Homework correction (3 points)\n",
    "\n",
    "In the cell below, explain and correct __one mistake__ you made on homework #7.  If you got a perfect score, great, tell us what your favorite problem was, or use the space to give any other feedback you might have on the class/tutorials/homework."
   ]
  },
  {
   "cell_type": "code",
   "execution_count": null,
   "metadata": {
    "collapsed": false,
    "jupyter": {
     "outputs_hidden": false
    },
    "nbgrader": {
     "grade": true,
     "grade_id": "hw9-correction",
     "locked": false,
     "points": 3,
     "schema_version": 3,
     "solution": true,
     "task": false
    }
   },
   "outputs": [],
   "source": []
  },
  {
   "cell_type": "markdown",
   "metadata": {
    "collapsed": false,
    "jupyter": {
     "outputs_hidden": false
    },
    "nbgrader": {
     "grade": false,
     "grade_id": "cell-8b40f421040d6df3",
     "locked": true,
     "schema_version": 3,
     "solution": false,
     "task": false
    }
   },
   "source": [
    "## 9.1 - The other Newton's law (14 points)\n",
    "\n",
    "We all know about Newton's three laws of motion, but there's actually another 'law' discovered by and named after Sir Isaac Newton: __Newton's law of cooling__.  The law states that if an object at temperature $T$ exists in an environment with ambient temperature $T_a < T$, then the rate of heat loss can be described using the simple differential equation\n",
    "\n",
    "$$\n",
    "\\frac{dT}{dt} = -h (T - T_a)\n",
    "$$\n",
    "\n",
    "where the (positive) heat loss constant $h$ must be determined experimentally for a given object and environment.\n",
    "\n",
    "### Part A (4 points)\n",
    "\n",
    "Write a _discrete_ version of this differential equation using Euler's method, i.e. rewrite it in the form\n",
    "\n",
    "$$\n",
    "T_{i+1} = T_i + F(t_i, T_i) \\Delta t\n",
    "$$"
   ]
  },
  {
   "cell_type": "markdown",
   "metadata": {
    "collapsed": false,
    "jupyter": {
     "outputs_hidden": false
    },
    "nbgrader": {
     "grade": true,
     "grade_id": "hw9_1a_1",
     "locked": false,
     "points": 2,
     "schema_version": 3,
     "solution": true,
     "task": false
    }
   },
   "source": [
    "__Introducing a discrete set of times $t_i$ separated by constant spacing $\\Delta t$ and corresponding $T(t_i) = T_i$, the initial differential equation can be rewritten as__\n",
    "\n",
    "$$\n",
    "\\frac{T_{i+1} - T_i}{\\Delta t} = -h(T_i - T_a)\n",
    "$$\n",
    "\n",
    "__or rearranging to the desired form,__\n",
    "\n",
    "$$\n",
    "T_{i+1} = T_i - h(T_i - T_a) \\Delta t\n",
    "$$"
   ]
  },
  {
   "cell_type": "markdown",
   "metadata": {
    "collapsed": false,
    "jupyter": {
     "outputs_hidden": false
    }
   },
   "source": [
    "Suppose a freshly brewed mug of coffee has an initial temperature of $T = 85.0^\\circ\\ C$ (185 degrees F, which is too hot to drink!)  After waiting 30 seconds, you measure the temperature again and it has reduced slightly to $82.5^\\circ\\ C$.  The room is at a constant temperature of $20^\\circ\\ C$. \n",
    "\n",
    "Using the discrete equation you just derived, __estimate the constant $h$ for the cup of coffee.__\n",
    "\n",
    "_(Hint: since all you have here are two discrete measurements, you can use the discrete difference equation that you just wrote down to solve for $h$ here.)_"
   ]
  },
  {
   "cell_type": "markdown",
   "metadata": {
    "collapsed": false,
    "jupyter": {
     "outputs_hidden": false
    },
    "nbgrader": {
     "grade": true,
     "grade_id": "hw9_1a_2",
     "locked": false,
     "points": 2,
     "schema_version": 3,
     "solution": true,
     "task": false
    }
   },
   "source": [
    "__We're trying to find $h$, so we should rearrange the equation again:__\n",
    "\n",
    "$$\n",
    "h = \\frac{T_i - T_{i+1}}{\\Delta t (T_i - T_a)}\n",
    "$$\n",
    "\n",
    "__Now we just plug in $\\Delta t = 30$ s, $T_i = 85.0$, $T_{i+1} = 82.5$ and $T_a = 20$:__\n",
    "\n",
    "$$\n",
    "h = \\frac{85.0 - 82.5}{30 (85 - 20)} = \\frac{1}{780\\ {\\rm s}},\n",
    "$$\n",
    "\n",
    "__or $h =1.28 \\times 10^{-3}\\ {\\rm s}^{-1}$.__"
   ]
  },
  {
   "cell_type": "markdown",
   "metadata": {
    "collapsed": false,
    "jupyter": {
     "outputs_hidden": false
    },
    "nbgrader": {
     "grade": false,
     "grade_id": "cell-176ec373851d252d",
     "locked": true,
     "schema_version": 3,
     "solution": false,
     "task": false
    }
   },
   "source": [
    "### Part B (6 points)\n",
    "\n",
    "__Implement the function `cool_solve` below__, which should carry out a numerical solution of the differential equation you wrote in part A.  (Refer back to lecture/tutorial 13 and the `euler_solve` function we wrote there if you're not sure how to set this up.)"
   ]
  },
  {
   "cell_type": "code",
   "execution_count": null,
   "metadata": {
    "collapsed": false,
    "jupyter": {
     "outputs_hidden": false
    },
    "nbgrader": {
     "grade": false,
     "grade_id": "cell-cb3e21c3bae3ffe4",
     "locked": false,
     "schema_version": 3,
     "solution": true,
     "task": false
    }
   },
   "outputs": [],
   "source": [
    "def cool_solve(T0, Ta, h, t_max, dt):\n",
    "    \"\"\"\n",
    "    Solve Newton's law of cooling using Euler's method,\n",
    "    for the given step size dt.\n",
    "\n",
    "    Arguments:\n",
    "    ----\n",
    "    * T0: initial temperature of the cooling object, in degrees C.\n",
    "    * Ta: ambient temperature of the environment, in degrees C.\n",
    "    * h: heat constant, in inverse seconds.\n",
    "    * t_max: how long to run the solution for, in seconds.\n",
    "    * dt: step size to use, in seconds.\n",
    "\n",
    "    Returns:\n",
    "    ----\n",
    "    * t_sol, T_sol: arrays containing the discretized interval {t_i} and the solution {T_i}.\n",
    "    \"\"\"\n",
    "\n",
    "    #"
   ]
  },
  {
   "cell_type": "code",
   "execution_count": null,
   "metadata": {
    "collapsed": false,
    "jupyter": {
     "outputs_hidden": false
    },
    "nbgrader": {
     "grade": true,
     "grade_id": "hw9_1b_1",
     "locked": true,
     "points": 4,
     "schema_version": 3,
     "solution": false,
     "task": false
    }
   },
   "outputs": [],
   "source": [
    "# testing cell\n",
    "import numpy.testing as npt\n",
    "\n",
    "# Solving for one step with the correct value of h should give back 82.5 as the answer.\n",
    "t, T = cool_solve(85.0, 20.0, 1 / 780.0, 31.0, 30.0)\n",
    "print(T)\n",
    "npt.assert_allclose(T, [85.0, 82.5])\n",
    "\n",
    "# Solving for a really long time should give about 20 degrees\n",
    "t, T = cool_solve(85.0, 20.0, 1 / 780.0, 30000.0, 30.0)\n",
    "print(T[-1])\n",
    "npt.assert_allclose(T[-1], 20.0, atol=1e-6)"
   ]
  },
  {
   "cell_type": "markdown",
   "metadata": {
    "collapsed": false,
    "jupyter": {
     "outputs_hidden": false
    },
    "nbgrader": {
     "grade": false,
     "grade_id": "cell-9b1d47e64cd9ccf1",
     "locked": true,
     "schema_version": 3,
     "solution": false,
     "task": false
    }
   },
   "source": [
    "Now __make a plot of your solution in the cell below__, using a step size of $dt = 1$ s and evolving for 1 hour (3600 s.)"
   ]
  },
  {
   "cell_type": "code",
   "execution_count": null,
   "metadata": {
    "collapsed": false,
    "jupyter": {
     "outputs_hidden": false
    },
    "nbgrader": {
     "grade": true,
     "grade_id": "hw9_1b_2",
     "locked": false,
     "points": 2,
     "schema_version": 3,
     "solution": true,
     "task": false
    }
   },
   "outputs": [],
   "source": [
    "# "
   ]
  },
  {
   "cell_type": "markdown",
   "metadata": {
    "collapsed": false,
    "jupyter": {
     "outputs_hidden": false
    },
    "nbgrader": {
     "grade": false,
     "grade_id": "cell-ca71eef167506870",
     "locked": true,
     "schema_version": 3,
     "solution": false,
     "task": false
    }
   },
   "source": [
    "### Part C (4 points)\n",
    "\n",
    "__Answer in the cell below using your code:__  The coffee will be safe to drink at about $60^\\circ C$ ($140^\\circ F$); how long do you have to wait to have a sip?  How long will it take to reach $25^\\circ C$, which is generally considered room temperature?\n",
    "\n",
    "Again, __use the numerical solution that you plotted in part B (with $dt = 1$ s) to answer this question;__ there is an analytic solution, but I want the Euler's method answer, not the exact analytic answer.  (They're not that far apart, really; you could use the analytic answer to check your work here.)"
   ]
  },
  {
   "cell_type": "code",
   "execution_count": null,
   "metadata": {
    "collapsed": false,
    "jupyter": {
     "outputs_hidden": false
    },
    "nbgrader": {
     "grade": true,
     "grade_id": "hw9_1c",
     "locked": false,
     "points": 4,
     "schema_version": 3,
     "solution": true,
     "task": false
    }
   },
   "outputs": [],
   "source": [
    "# "
   ]
  },
  {
   "cell_type": "markdown",
   "metadata": {
    "collapsed": false,
    "jupyter": {
     "outputs_hidden": false
    },
    "nbgrader": {
     "grade": false,
     "grade_id": "cell-f543da7b62240633",
     "locked": true,
     "schema_version": 3,
     "solution": false,
     "task": false
    }
   },
   "source": [
    "## 9.2 - Vectorized path length (14 points)\n",
    "\n",
    "Suppose we have an ordered set of points $(x_i, y_i)$ describing a two-dimensional curve.  The corresponding path length of the curve is equal to\n",
    "\n",
    "$$\n",
    "L = \\sum_{i=1}^n \\sqrt{(x_i - x_{i-1})^2 + (y_i - y_{i-1})^2}.\n",
    "$$\n",
    "\n",
    "Let's suppose that the set of points is stored as a single $n \\times 2$ NumPy array.  ($2 \\times n$ might be better for performance, but this will be more human-friendly.)  One way to compute the path length from the array is using a loop, as in the following code:"
   ]
  },
  {
   "cell_type": "code",
   "execution_count": null,
   "metadata": {
    "collapsed": false,
    "jupyter": {
     "outputs_hidden": false
    },
    "nbgrader": {
     "grade": false,
     "grade_id": "cell-1e5bb6e16172e289",
     "locked": true,
     "schema_version": 3,
     "solution": false,
     "task": false
    }
   },
   "outputs": [],
   "source": [
    "import math\n",
    "\n",
    "\n",
    "def path_length_loop(pt_array):\n",
    "    \"\"\"\n",
    "    Calculates the straight-line path length between a list of two-dimensional points\n",
    "    (x_i, y_i).\n",
    "\n",
    "    Arguments:\n",
    "    - pt_array: (n,2) NumPy array containing the points.\n",
    "\n",
    "    Returns:\n",
    "    - L: the total path length (float).\n",
    "\n",
    "    \"\"\"\n",
    "\n",
    "    # Keep track of running path length\n",
    "    L = 0\n",
    "\n",
    "    # Iterate through all points; we need to work with pairs of points,\n",
    "    # so use a running index.\n",
    "    i = 1\n",
    "\n",
    "    n_pts = pt_array.shape[0]\n",
    "\n",
    "    # To make the below clearer, make some views showing the columns:\n",
    "    x = pt_array[:, 0]\n",
    "    y = pt_array[:, 1]\n",
    "\n",
    "    while i < n_pts:\n",
    "        dx = x[i] - x[i - 1]\n",
    "        dy = y[i] - y[i - 1]\n",
    "\n",
    "        L += math.sqrt(dx**2 + dy**2)\n",
    "\n",
    "        i += 1\n",
    "\n",
    "    return L"
   ]
  },
  {
   "cell_type": "code",
   "execution_count": null,
   "metadata": {
    "collapsed": false,
    "jupyter": {
     "outputs_hidden": false
    },
    "nbgrader": {
     "grade": false,
     "grade_id": "cell-5886a34a047bee8e",
     "locked": true,
     "schema_version": 3,
     "solution": false,
     "task": false
    }
   },
   "outputs": [],
   "source": [
    "square_path = np.array(\n",
    "    [\n",
    "        [0, 0],\n",
    "        [1, 0],\n",
    "        [1, 1],\n",
    "        [0, 1],\n",
    "        [0, 0],\n",
    "    ]\n",
    ")\n",
    "\n",
    "print(path_length_loop(square_path))  # Should print \"4.0\""
   ]
  },
  {
   "cell_type": "markdown",
   "metadata": {
    "collapsed": false,
    "jupyter": {
     "outputs_hidden": false
    },
    "nbgrader": {
     "grade": false,
     "grade_id": "cell-d0e4c13056d9152b",
     "locked": true,
     "schema_version": 3,
     "solution": false,
     "task": false
    }
   },
   "source": [
    "### Part A  (8 points)\n",
    "\n",
    "Now it's your turn!  Although the code above will work, using a `while` loop over a NumPy array is actually a _very bad idea!_  This is because looping in Python is very slow compared to just doing vectorized operations over the entire array.\n",
    "\n",
    "In the cell below, __implement the `path_length_vec` function__, which should function exactly the same as `path_length` above.  However, __your function is _not allowed_ to use any loops (no `while` or `for`!)__  Instead, make use of NumPy functions and operations to compute the path length.\n",
    "\n",
    "_(Hint: the hard part here is to compute the differences between adjacent x and y points in a vectorized way.  You can have a look at the function `np.diff()`.  Alternatively, you can use the function `np.roll()`, which is a bit more general: it creates a new array where all entries are offset by some number of indices.  For example, `np.roll([0,1,2],1)` gives `[2,0,1]`.  If you use `np.roll` to construct $y_i - y_{i-1}$ as a difference of arrays,  think carefully about what happens at the ends of your array...)_"
   ]
  },
  {
   "cell_type": "code",
   "execution_count": null,
   "metadata": {
    "collapsed": false,
    "jupyter": {
     "outputs_hidden": false
    },
    "nbgrader": {
     "grade": true,
     "grade_id": "hw9_2a_1",
     "locked": false,
     "points": 4,
     "schema_version": 3,
     "solution": true,
     "task": false
    }
   },
   "outputs": [],
   "source": [
    "# Remember, no for or while loops allowed in the below function!\n",
    "\n",
    "import numpy as np\n",
    "\n",
    "\n",
    "def path_length_vec(pt_array):\n",
    "    \"\"\"\n",
    "    Calculates the straight-line path length between a list of\n",
    "    two-dimensional points (x_i, y_i).\n",
    "\n",
    "    Arguments:\n",
    "    - pt_array: (n,2) NumPy array containing the points.\n",
    "\n",
    "    Returns:\n",
    "    - L: the total path length (float).\n",
    "\n",
    "    \"\"\"\n",
    "\n",
    "    # Hint: making views for the x and y points will be helpful again.\n",
    "    # It is possible to do the job just by working directly with the\n",
    "    # multi-dimensional pt_array as well!  (This code will be shorter\n",
    "    # but not really any faster.)\n",
    "\n",
    "    #"
   ]
  },
  {
   "cell_type": "code",
   "execution_count": null,
   "metadata": {
    "collapsed": false,
    "jupyter": {
     "outputs_hidden": false
    },
    "nbgrader": {
     "grade": true,
     "grade_id": "hw9_2a_2",
     "locked": true,
     "points": 4,
     "schema_version": 3,
     "solution": false,
     "task": false
    }
   },
   "outputs": [],
   "source": [
    "# Some simple tests, using the already validated path_length function\n",
    "\n",
    "import numpy.testing as npt\n",
    "\n",
    "short_path = np.array(\n",
    "    [\n",
    "        [0, 0],\n",
    "        [0, 1],\n",
    "    ]\n",
    ")\n",
    "\n",
    "square_path = np.array(\n",
    "    [\n",
    "        [0, 0],\n",
    "        [1, 0],\n",
    "        [1, 1],\n",
    "        [0, 1],\n",
    "        [0, 0],\n",
    "    ]\n",
    ")\n",
    "\n",
    "tri_path = np.array(\n",
    "    [\n",
    "        [0, 0],\n",
    "        [1, 0],\n",
    "        [0, 1],\n",
    "        [0, 0],\n",
    "    ]\n",
    ")\n",
    "\n",
    "npt.assert_allclose(\n",
    "    path_length_loop(short_path), path_length_vec(short_path)\n",
    ")  # should be 1\n",
    "npt.assert_allclose(\n",
    "    path_length_loop(square_path), path_length_vec(square_path)\n",
    ")  # should be 4\n",
    "npt.assert_allclose(\n",
    "    path_length_loop(tri_path), path_length_vec(tri_path)\n",
    ")  # should be 2 + sqrt(2)\n",
    "\n",
    "penta_path = np.array(\n",
    "    [\n",
    "        [1.00000000e00, 0.00000000e00],\n",
    "        [3.09016994e-01, 9.51056516e-01],\n",
    "        [-8.09016994e-01, 5.87785252e-01],\n",
    "        [-8.09016994e-01, -5.87785252e-01],\n",
    "        [3.09016994e-01, -9.51056516e-01],\n",
    "        [1.00000000e00, 0.000000000e00],\n",
    "    ]\n",
    ")\n",
    "\n",
    "npt.assert_allclose(\n",
    "    path_length_loop(penta_path), path_length_vec(penta_path)\n",
    ")  # should be about 5.9"
   ]
  },
  {
   "cell_type": "markdown",
   "metadata": {
    "collapsed": false,
    "jupyter": {
     "outputs_hidden": false
    },
    "nbgrader": {
     "grade": false,
     "grade_id": "cell-28677e0699c8df23",
     "locked": true,
     "schema_version": 3,
     "solution": false,
     "task": false
    }
   },
   "source": [
    "### Part B (6 points)\n",
    "\n",
    "A path-length calculator is simple, but has lots of applications.  One simple one is to calculate the value of $\\pi$!  We can inscribe an $n$-sided polygon inside of a circle of radius $r$ by connecting the set of points\n",
    "\n",
    "$$\n",
    "x_i = r \\cos \\left( \\frac{2\\pi i}{n} \\right) \\\\\n",
    "y_i = r \\sin \\left( \\frac{2\\pi i}{n} \\right)\n",
    "$$\n",
    "\n",
    "with $i$ running from 0 up to $n$.  As $n$ increases, the path will become very close to a circle and the value of the path length will approach $2\\pi$.\n",
    "\n",
    "This is also an ideal test case to compare our two implementations, since we need a much larger array to really see the performance difference of vectorization!  In the cell below, I've set up a function called `circle_path` which will generate the $n$-gon path in the format we've been using above.  __Complete the function below.__\n",
    "\n",
    "In the limit that $n$ becomes very large, the path length around your polygon will just be the circumference of the circle.  Use this fact to __estimate $\\pi$ from the path length of `circle_path`__; save your answer in the variable `pi_approx`.  _Choose $n$ large enough_ that your estimate is accurate for the __first six digits of $\\pi$ = 3.14159...__"
   ]
  },
  {
   "cell_type": "code",
   "execution_count": null,
   "metadata": {
    "collapsed": false,
    "jupyter": {
     "outputs_hidden": false
    },
    "nbgrader": {
     "grade": false,
     "grade_id": "cell-040b0fad0dd29a04",
     "locked": false,
     "schema_version": 3,
     "solution": true,
     "task": false
    }
   },
   "outputs": [],
   "source": [
    "def circle_path(n, r=1):\n",
    "    \"\"\"\n",
    "    Creates a set of (x,y) points describing\n",
    "    an n-sided polygon inscribed in a circle of radius r.\n",
    "\n",
    "    Arguments:\n",
    "    ---\n",
    "    n: number of sides the polygon should have.\n",
    "    r: radius of the circle (default=1.)\n",
    "\n",
    "    Returns:\n",
    "    ---\n",
    "    pt_array: ((n+1)x2) array of coordinates (x_i, y_i),\n",
    "    where i runs from 0 to n (including both ends.)\n",
    "\n",
    "    \"\"\"\n",
    "\n",
    "    i_array = np.arange(0, n + 1)\n",
    "    pt_array = np.empty((n + 1, 2))\n",
    "\n",
    "    #"
   ]
  },
  {
   "cell_type": "code",
   "execution_count": null,
   "metadata": {
    "collapsed": false,
    "jupyter": {
     "outputs_hidden": false
    },
    "nbgrader": {
     "grade": false,
     "grade_id": "cell-6fe24b4a32064596",
     "locked": false,
     "schema_version": 3,
     "solution": true,
     "task": false
    }
   },
   "outputs": [],
   "source": [
    "# Find pi using your path length function, and save it to pi_approx!\n",
    "pi_approx = 0.0\n",
    "\n",
    "#"
   ]
  },
  {
   "cell_type": "code",
   "execution_count": null,
   "metadata": {
    "collapsed": false,
    "jupyter": {
     "outputs_hidden": false
    },
    "nbgrader": {
     "grade": true,
     "grade_id": "hw9_2b_1",
     "locked": true,
     "points": 3,
     "schema_version": 3,
     "solution": false
    }
   },
   "outputs": [],
   "source": [
    "import numpy.testing as npt\n",
    "\n",
    "pt_test = circle_path(8)\n",
    "assert type(pt_test) is np.ndarray\n",
    "assert pt_test.shape == (9, 2)\n",
    "\n",
    "penta_path = np.array(\n",
    "    [\n",
    "        [1.00000000e00, 0.00000000e00],\n",
    "        [3.09016994e-01, 9.51056516e-01],\n",
    "        [-8.09016994e-01, 5.87785252e-01],\n",
    "        [-8.09016994e-01, -5.87785252e-01],\n",
    "        [3.09016994e-01, -9.51056516e-01],\n",
    "        [1.00000000e00, 0.000000000e00],\n",
    "    ]\n",
    ")\n",
    "\n",
    "npt.assert_allclose(circle_path(5, r=1), penta_path, atol=1e-6)"
   ]
  },
  {
   "cell_type": "code",
   "execution_count": null,
   "metadata": {
    "collapsed": false,
    "jupyter": {
     "outputs_hidden": false
    },
    "nbgrader": {
     "grade": true,
     "grade_id": "hw9_2b_2",
     "locked": true,
     "points": 3,
     "schema_version": 3,
     "solution": false
    }
   },
   "outputs": [],
   "source": [
    "# testing cell\n",
    "\n",
    "npt.assert_allclose(path_length_vec(circle_path(4, r=np.sqrt(2))), 8.0)\n",
    "npt.assert_allclose(pi_approx, np.pi, atol=1e-5)"
   ]
  },
  {
   "cell_type": "markdown",
   "metadata": {
    "collapsed": false,
    "jupyter": {
     "outputs_hidden": false
    },
    "nbgrader": {
     "grade": false,
     "grade_id": "cell-e2bb0faf1e02f446",
     "locked": true,
     "schema_version": 3,
     "solution": false,
     "task": false
    }
   },
   "source": [
    "## 9.3 - Radioactive decay (10 points)\n",
    "\n",
    "If we have a population of particles which undergo radioactive decay, the population over time $N(t)$ will obey the relation\n",
    "\n",
    "$$\n",
    "N = N_0 e^{-t/\\tau},\n",
    "$$\n",
    "\n",
    "\n",
    "where $\\tau$ is the lifetime.  This follows from a simple differential equation,\n",
    "$$\n",
    "\\frac{dN}{dt} = -\\frac{N}{\\tau}\n",
    "$$\n",
    "\n",
    "Actually, this equation has made a hidden assumption: that the number of particles $N$ is so large that writing $dN$ is a sensible thing to do!  The underlying idea has to do with probability: if we observe a _single_ unstable particle for time $dt$, then (from quantum mechanics) the probability we see it decay is\n",
    "\n",
    "$$\n",
    "p = 1 - e^{-dt/\\tau}.\n",
    "$$\n",
    "\n",
    "This is an ideal system to study by Monte Carlo simulation!  Our algorithm will be:\n",
    "\n",
    "* Start with some population of particles, $N$.\n",
    "* Take one timestep $dt$, and compute the probability of decay $p$ using $dt$ and $\\tau$.\n",
    "* For each particle, draw a random number $0 < r < 1$.  If $r < p$, then that particle decays.\n",
    "* Reduce the population $N$ by 1 for each decay that we observe.\n",
    "* Repeat for the next timestep.\n",
    "\n",
    "We'll consider the radioactive decay of an isotope of nitrogen, ${}^{16}N$, which has a lifetime of $\\tau = 10.286$ s.\n",
    "\n",
    "### Part A (4 points)\n",
    "\n",
    "First, __implement the function `decay_step(N, dt)`__ below, which should draw $N$ random numbers and follow the algorithm above for a single timestep.  I've provided some comments to guide you.\n",
    "\n",
    "Note that when you write the algorithm, the last three steps _could_ be done by a loop; but in practice it's better to draw all $N$ random numbers at once using NumPy, count how many satisfy $r < p$ in the array, and then subtract that number from $N$.  This is the implementation suggested in my comments below.\n"
   ]
  },
  {
   "cell_type": "code",
   "execution_count": null,
   "metadata": {
    "collapsed": false,
    "jupyter": {
     "outputs_hidden": false
    },
    "nbgrader": {
     "grade": false,
     "grade_id": "cell-78bad5402b31ebc0",
     "locked": false,
     "schema_version": 3,
     "solution": true,
     "task": false
    }
   },
   "outputs": [],
   "source": [
    "tau_N16 = 10.286\n",
    "\n",
    "\n",
    "def decay_step(N, dt):\n",
    "    # Calculate the decay probability p\n",
    "\n",
    "    # Draw N random numbers between 0 and 1\n",
    "\n",
    "    # Count the number of decays, by counting\n",
    "    # how many random numbers in the array are less than p\n",
    "\n",
    "    # Return N minus the number of decays\n",
    "\n",
    "    #"
   ]
  },
  {
   "cell_type": "code",
   "execution_count": null,
   "metadata": {
    "collapsed": false,
    "jupyter": {
     "outputs_hidden": false
    },
    "nbgrader": {
     "grade": true,
     "grade_id": "hw9_3a",
     "locked": true,
     "points": 4,
     "schema_version": 3,
     "solution": false,
     "task": false
    }
   },
   "outputs": [],
   "source": [
    "print(decay_step(100, 0.0001))  # No decay should happen after very short dt\n",
    "\n",
    "npt.assert_allclose(decay_step(100, 0.0001), 100, atol=1)\n",
    "\n",
    "N_test = []\n",
    "for _ in range(100):\n",
    "    N_test.append(decay_step(100, tau_N16))\n",
    "\n",
    "N_tau_mean = np.mean(N_test)\n",
    "\n",
    "# Result should always be within 6-sigma of standard error\n",
    "# Standard error is about 0.5\n",
    "# Odds of random failure ~ 1 per billion\n",
    "print(N_tau_mean)\n",
    "npt.assert_allclose(N_tau_mean, 37, atol=3)"
   ]
  },
  {
   "cell_type": "markdown",
   "metadata": {
    "collapsed": false,
    "jupyter": {
     "outputs_hidden": false
    },
    "nbgrader": {
     "grade": false,
     "grade_id": "cell-9f2feb2255ec46de",
     "locked": true,
     "schema_version": 3,
     "solution": false,
     "task": false
    }
   },
   "source": [
    "### Part B (6 points)\n",
    "\n",
    "Next, __implement the function `monte_carlo_decay(N0, t)`__, which takes the initial number of particles `N0` and an array `t_array` of discrete times to track the particles over.  Your function should return an array `N_vs_t` of the same length as `t_array`, containing the number of particles remaining at each discrete time.\n",
    "\n",
    "_(Hint: you may want to look back at tutorial 13 again; the way that `monte_carlo_decay()` should work with `decay_step()` is similar to how `euler_solve()` built up the full solution to the ODE on that tutorial using `euler_step()`.)_"
   ]
  },
  {
   "cell_type": "code",
   "execution_count": null,
   "metadata": {
    "collapsed": false,
    "jupyter": {
     "outputs_hidden": false
    },
    "nbgrader": {
     "grade": false,
     "grade_id": "cell-114c4c0b8d52b5f2",
     "locked": false,
     "schema_version": 3,
     "solution": true,
     "task": false
    }
   },
   "outputs": [],
   "source": [
    "def monte_carlo_decay(N0, t_array):\n",
    "\n",
    "    # Get dt (step size) and Nt (number of t points) from t_array\n",
    "    dt, Nt = t_array[1] - t_array[0], len(t_array)\n",
    "\n",
    "    # Initialize array N_t, same length as t_array\n",
    "    # The \"dtype\" option is important, because the number\n",
    "    # of particles should always be an integer!\n",
    "    N_vs_t = np.zeros_like(t_array, dtype=int)\n",
    "\n",
    "    # Set the initial (first) value of N_t to value N0 passed in above\n",
    "\n",
    "    # Iterate, setting N_t[i+1] using the decay_step function and N_t[i]\n",
    "\n",
    "    #\n",
    "\n",
    "    ## Return array N(t)\n",
    "    return N_vs_t"
   ]
  },
  {
   "cell_type": "markdown",
   "metadata": {
    "collapsed": false,
    "jupyter": {
     "outputs_hidden": false
    },
    "nbgrader": {
     "grade": false,
     "grade_id": "cell-b890c2aaa4e651ce",
     "locked": true,
     "schema_version": 3,
     "solution": false,
     "task": false
    }
   },
   "source": [
    "Now __run the cell below__ to plot your simulation results for an initial population 1000 nitrogen-16 atoms over 60 seconds.  I've also included a plot of the analytic result for $N(t)$ as a red, dashed line.  Hopefully the two curves agree pretty closely!"
   ]
  },
  {
   "cell_type": "code",
   "execution_count": null,
   "metadata": {
    "collapsed": false,
    "jupyter": {
     "outputs_hidden": false
    },
    "nbgrader": {
     "grade": true,
     "grade_id": "hw9_3b_1",
     "locked": false,
     "points": 2,
     "schema_version": 3,
     "solution": true,
     "task": false
    }
   },
   "outputs": [],
   "source": [
    "t_decay = np.arange(0, 60, 0.01)\n",
    "N0 = 1000\n",
    "\n",
    "N_analytic = N0 * np.exp(-t_decay / tau_N16)\n",
    "plt.plot(t_decay, N_analytic, linestyle=\"--\", color=\"r\")\n",
    "\n",
    "N_N16 = monte_carlo_decay(N0, t_decay)\n",
    "plt.plot(t_decay, N_N16)"
   ]
  },
  {
   "cell_type": "code",
   "execution_count": null,
   "metadata": {
    "collapsed": false,
    "jupyter": {
     "outputs_hidden": false
    },
    "nbgrader": {
     "grade": true,
     "grade_id": "hw9_3b_2",
     "locked": true,
     "points": 2,
     "schema_version": 3,
     "solution": false,
     "task": false
    }
   },
   "outputs": [],
   "source": [
    "# Verify that the evolution is very close to analytic solution while N is relatively large\n",
    "\n",
    "npt.assert_allclose(N_N16[:1000], N_analytic[:1000], rtol=2e-1)"
   ]
  },
  {
   "cell_type": "markdown",
   "metadata": {
    "collapsed": false,
    "jupyter": {
     "outputs_hidden": false
    },
    "nbgrader": {
     "grade": false,
     "grade_id": "cell-1c7ae82143b24baf",
     "locked": true,
     "schema_version": 3,
     "solution": false,
     "task": false
    }
   },
   "source": [
    "Finally, in the cell below __copy the code from the plotting cell above__, change `N0` to 5, and then run it again to show your simulation vs. the analytic formula.  In the answer cell below, explain: which of the two models do you think is a more realistic description of the system starting with 5 particles, and why?"
   ]
  },
  {
   "cell_type": "code",
   "execution_count": null,
   "metadata": {
    "collapsed": false,
    "jupyter": {
     "outputs_hidden": false
    },
    "nbgrader": {
     "grade": false,
     "grade_id": "cell-31d40aa5fe1625d5",
     "locked": false,
     "schema_version": 3,
     "solution": true,
     "task": false
    }
   },
   "outputs": [],
   "source": [
    "# \n",
    "\n",
    "# The discrete description is more realistic, since we really only have 5\n",
    "# particles, so N can't be fractional like the smooth analytic curve predicts!"
   ]
  },
  {
   "cell_type": "markdown",
   "metadata": {
    "collapsed": false,
    "jupyter": {
     "outputs_hidden": false
    },
    "nbgrader": {
     "grade": true,
     "grade_id": "hw9_3b_3",
     "locked": false,
     "points": 2,
     "schema_version": 3,
     "solution": true,
     "task": false
    }
   },
   "source": [
    "__The discrete curve (blue) is more realistic!  We really only have 5 particles, so the population $N$ can't actually be fractional like the analytic curve (red) shows.__"
   ]
  }
 ],
 "metadata": {
  "kernelspec": {
   "display_name": "Python 3 (ipykernel)",
   "language": "python",
   "name": "python3"
  },
  "language_info": {
   "codemirror_mode": {
    "name": "ipython",
    "version": 3
   },
   "file_extension": ".py",
   "mimetype": "text/x-python",
   "name": "python",
   "nbconvert_exporter": "python",
   "pygments_lexer": "ipython3",
   "version": "3.13.7"
  }
 },
 "nbformat": 4,
 "nbformat_minor": 4
}
