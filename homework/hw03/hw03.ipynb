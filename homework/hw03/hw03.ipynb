{
 "cells": [
  {
   "cell_type": "markdown",
   "metadata": {
    "editable": true,
    "nbgrader": {
     "grade": false,
     "grade_id": "cell-053f09c8a8a514e5",
     "locked": true,
     "schema_version": 3,
     "solution": false,
     "task": false
    },
    "slideshow": {
     "slide_type": ""
    },
    "tags": []
   },
   "source": [
    "# Homework #3\n",
    "\n",
    "## PHYS 2600\n",
    "\n",
    "__Important notice:__ All cells in your notebook will be run, start to finish, using a fresh kernel when it is graded! To make sure the graded notebook looks like what you expect, we recommend selecting \"Runtime > Restart session and run all\" from the menu above in Colab before you finish."
   ]
  },
  {
   "cell_type": "markdown",
   "metadata": {
    "nbgrader": {
     "grade": false,
     "grade_id": "cell-06bff42e9e16d26f",
     "locked": true,
     "schema_version": 3,
     "solution": false,
     "task": false
    }
   },
   "source": [
    "If you worked collaboratively on this assignment, __include the names of your collaborators in the cell below:__"
   ]
  },
  {
   "cell_type": "markdown",
   "metadata": {
    "nbgrader": {
     "grade": true,
     "grade_id": "cell-6aad98798978a240",
     "locked": false,
     "points": 0,
     "schema_version": 3,
     "solution": true,
     "task": false
    }
   },
   "source": []
  },
  {
   "cell_type": "markdown",
   "metadata": {
    "nbgrader": {
     "grade": false,
     "grade_id": "cell-9bbcf2e8b7cbb637",
     "locked": true,
     "schema_version": 3,
     "solution": false,
     "task": false
    }
   },
   "source": [
    "## 3.0 - Homework correction (3 points)\n",
    "\n",
    "In the cell below, explain and correct __one mistake__ you made on homework #1.  If you got a perfect score, great!  Tell us what your favorite problem was, or use the space to give any other feedback you might have on the class/tutorials/homework."
   ]
  },
  {
   "cell_type": "markdown",
   "metadata": {
    "nbgrader": {
     "grade": true,
     "grade_id": "cell-1689332322e959be",
     "locked": false,
     "points": 3,
     "schema_version": 3,
     "solution": true,
     "task": false
    }
   },
   "source": []
  },
  {
   "cell_type": "markdown",
   "metadata": {
    "nbgrader": {
     "grade": false,
     "grade_id": "cell-93dd23dbf3eadb7a",
     "locked": true,
     "schema_version": 3,
     "solution": false,
     "task": false
    }
   },
   "source": [
    "## 3.1 - Some exercises with NumPy (13 points)\n",
    "\n",
    "The following are small problems in working with arrays using the `numpy` module.\n",
    "\n",
    "### Part A (2 points)\n",
    "\n",
    "__Create an array `cos_squared`__, which contains the value of the function $\\cos^2(t)$, for $t$ values ranging from 0 to 6 (including both ends!) and spaced by 0.5.  (So `t = [0, 0.5, 1.0, ..., 6.0].`)"
   ]
  },
  {
   "cell_type": "code",
   "execution_count": null,
   "metadata": {
    "nbgrader": {
     "grade": false,
     "grade_id": "cell-cf85e3b4b07f39d3",
     "locked": false,
     "schema_version": 3,
     "solution": true,
     "task": false
    }
   },
   "outputs": [],
   "source": [
    "import numpy as np\n",
    "# YOUR SOLUTION HERE"
   ]
  },
  {
   "cell_type": "code",
   "execution_count": null,
   "metadata": {
    "nbgrader": {
     "grade": true,
     "grade_id": "cell-ca26a7b2f90181e1",
     "locked": true,
     "points": 2,
     "schema_version": 3,
     "solution": false,
     "task": false
    }
   },
   "outputs": [],
   "source": [
    "# Testing cell\n",
    "\n",
    "print(cos_squared)\n",
    "\n",
    "assert len(cos_squared) == 13\n",
    "assert type(cos_squared) is np.ndarray"
   ]
  },
  {
   "cell_type": "markdown",
   "metadata": {
    "nbgrader": {
     "grade": false,
     "grade_id": "cell-09ab33489cae9102",
     "locked": true,
     "schema_version": 3,
     "solution": false,
     "task": false
    }
   },
   "source": [
    "### Part B (2 points)\n",
    "\n",
    "__Create an array `length_40_array`__ which, as the name implies, should have 40 entries: the first 20 entries should be the number 2, and the second 20 entries should be the number 20.\n",
    "\n",
    "_(Hint: there are quite a lot of ways to do this!  You may want to look up `np.concatenate` function or the unpacking operator `*`)_"
   ]
  },
  {
   "cell_type": "code",
   "execution_count": null,
   "metadata": {
    "nbgrader": {
     "grade": false,
     "grade_id": "cell-39bf7e4f98f51b4d",
     "locked": false,
     "schema_version": 3,
     "solution": true,
     "task": false
    }
   },
   "outputs": [],
   "source": [
    "import numpy as np\n",
    "# YOUR SOLUTION HERE"
   ]
  },
  {
   "cell_type": "code",
   "execution_count": null,
   "metadata": {
    "nbgrader": {
     "grade": true,
     "grade_id": "cell-6d6de2fd1b899a06",
     "locked": true,
     "points": 2,
     "schema_version": 3,
     "solution": false,
     "task": false
    }
   },
   "outputs": [],
   "source": [
    "# Testing cell\n",
    "\n",
    "print(length_40_array)\n",
    "\n",
    "assert len(length_40_array) == 40\n",
    "assert type(length_40_array) is np.ndarray\n"
   ]
  },
  {
   "cell_type": "markdown",
   "metadata": {
    "nbgrader": {
     "grade": false,
     "grade_id": "cell-e961c9b76b00f187",
     "locked": true,
     "schema_version": 3,
     "solution": false,
     "task": false
    }
   },
   "source": [
    "### Part C (3 points)\n",
    "\n",
    "A _parallelepiped_ is a three-dimensional shape which is a cousin of the cube, except that its three pairs of identical faces are parallelograms - see [the Wikipedia page](https://en.wikipedia.org/wiki/Parallelepiped) for a sketch and in-depth explanation.  If we describe a parallelepiped in terms of the three vectors $\\mathbf{a}, \\mathbf{b}, \\mathbf{c}$ describing its edges at one corner, then its volume can be computed from the _triple product_\n",
    "\n",
    "$$\n",
    "V = |\\mathbf{a} \\cdot (\\mathbf{b} \\times \\mathbf{c})|.\n",
    "$$\n",
    "\n",
    "__Implement the function `triple_product(a,b,c)` below__ using `numpy`, and then run the test cell to calculate the volume of some parallelepipeds described by the given vectors."
   ]
  },
  {
   "cell_type": "code",
   "execution_count": null,
   "metadata": {
    "nbgrader": {
     "grade": false,
     "grade_id": "cell-d4113d75a420a9bc",
     "locked": false,
     "schema_version": 3,
     "solution": true,
     "task": false
    }
   },
   "outputs": [],
   "source": [
    "import numpy as np\n",
    "\n",
    "def triple_product(a,b,c):\n",
    "    # YOUR IMPLEMENTATION HERE"
   ]
  },
  {
   "cell_type": "code",
   "execution_count": null,
   "metadata": {
    "nbgrader": {
     "grade": true,
     "grade_id": "cell-69ec9a15411a9eba",
     "locked": true,
     "points": 3,
     "schema_version": 3,
     "solution": false,
     "task": false
    }
   },
   "outputs": [],
   "source": [
    "# Testing cell\n",
    "import numpy.testing as npt\n",
    "\n",
    "# First test: a cube!  Volume should be 1.\n",
    "a = [1,0,0]\n",
    "b = [0,1,0]\n",
    "c = [0,0,1]\n",
    "\n",
    "print(triple_product(a,b,c))\n",
    "npt.assert_allclose(triple_product(a,b,c), 1)\n",
    "\n",
    "# Second test: a rectangular prism!  Volume should be 4.\n",
    "a = [2,0,0]\n",
    "b = [0,2,0]\n",
    "c = [0,0,1]\n",
    "\n",
    "print(triple_product(a,b,c))\n",
    "npt.assert_allclose(triple_product(a,b,c), 4)\n",
    "\n",
    "# Third test: all angles are 45 degrees, a \"rhombohedron\" with unit side length\n",
    "# Volume should be 0.455090, to six digits - used formula from Wikipedia.\n",
    "a = [1,0,0]\n",
    "b = [0.70710678, 0.70710678, 0.        ]\n",
    "c = [0.70710678, 0.29289322, 0.64359425]\n",
    "\n",
    "print(triple_product(a,b,c))\n",
    "npt.assert_allclose(triple_product(a,b,c), 0.455090, atol=1e-6)"
   ]
  },
  {
   "cell_type": "markdown",
   "metadata": {
    "nbgrader": {
     "grade": false,
     "grade_id": "cell-95ea5b65fc9416dd",
     "locked": true,
     "schema_version": 3,
     "solution": false,
     "task": false
    }
   },
   "source": [
    "### Part D (3 points)\n",
    "\n",
    "Now a bit of \"data analysis\".  The array `photo_stop_volts` below contains a set of measurements of the stopping voltage $V_{\\rm stop}$ (in volts) for a few different materials in a photoelectric effect experiment. (Note that __the stopping voltage is always negative__ in our convention.)  The experiment used ultraviolet light, with a frequency $f$ of 1590 terahertz (THz).  \n",
    "\n",
    "Your task: __create a new array `photo_work_functions`__ that contains the work function $\\Phi$ (__in electron-volts, eV__) for each material.\n",
    "\n",
    "To save you some trouble, here's the relevant equation for the photoelectric effect - you're on your own to look up any necessary physical constants and unit conversions.\n",
    "\n",
    "$$\n",
    "\\Phi = hf + eV_{\\rm stop}\n",
    "$$\n",
    "\n",
    "Here $h$ is Planck's constant (not the reduced constant $\\hbar$!) and $e$ is the charge of a single electron.\n",
    "\n",
    "_(Hint: switching to electron-volts instead of SI units as fast as possible will make your life easier...)_\n",
    "\n"
   ]
  },
  {
   "cell_type": "code",
   "execution_count": null,
   "metadata": {
    "nbgrader": {
     "grade": false,
     "grade_id": "cell-61bd89782dd6f99a",
     "locked": false,
     "schema_version": 3,
     "solution": true,
     "task": false
    }
   },
   "outputs": [],
   "source": [
    "import numpy as np\n",
    "\n",
    "photo_stop_volts = np.array([-3.12, -2.46, -1.62, -3.23])\n",
    "\n",
    "# YOUR SOLUTION HERE"
   ]
  },
  {
   "cell_type": "code",
   "execution_count": null,
   "metadata": {
    "nbgrader": {
     "grade": true,
     "grade_id": "cell-1ae16d474e10d89e",
     "locked": true,
     "points": 3,
     "schema_version": 3,
     "solution": false,
     "task": false
    }
   },
   "outputs": [],
   "source": [
    "# Testing cell\n",
    "print(\"Work functions: \", photo_work_functions)\n",
    "\n",
    "assert len(photo_work_functions) == 4\n",
    "assert type(photo_work_functions) is np.ndarray"
   ]
  },
  {
   "cell_type": "markdown",
   "metadata": {
    "nbgrader": {
     "grade": false,
     "grade_id": "cell-4421b520ce1b8dc5",
     "locked": true,
     "schema_version": 3,
     "solution": false,
     "task": false
    }
   },
   "source": [
    "### Part E (3 points)\n",
    "\n",
    "When working with real data, it is often useful to reduce a long list of individual measurements to a set of _summary statistics_.  The most commonly-used statistics are the mean and the standard deviation; since these are so common, they are available in NumPy.\n",
    "\n",
    "In the cell below, __implement the function `mean_std_error(x)`__, which should return a NumPy array of length three containing the mean, the standard deviation, and the standard error computed from the input array `x`.  (As a reminder, the _standard error_ of a set of samples is equal to the standard deviation $\\sigma$ divided by the square root of the number of samples $N$)\n",
    "\n",
    "$$\n",
    "\\sigma_{SE} = \\frac{\\sigma}{\\sqrt{N}}\n",
    "$$\n",
    "\n",
    "Here, $N$ is the length of the array $x$.  __Make sure__ that you use the usual [bias-corrected estimator](https://en.wikipedia.org/wiki/Standard_deviation#Corrected_sample_standard_deviation) for the standard deviation, which is divided by $\\sqrt{N-1}$ and not just $\\sqrt{N}$ - you may have to set an optional argument to do this.\n",
    "\n",
    "_(Hint: to make the required array, first calculate the mean and the standard error and save them to variables.  There are NumPy functions for the mean and the standard deviation that you can use - look them up!  Then return a new `np.array([])` with the mean and the error that you calculated.)_\n"
   ]
  },
  {
   "cell_type": "code",
   "execution_count": null,
   "metadata": {
    "nbgrader": {
     "grade": false,
     "grade_id": "cell-20eb62e35471b121",
     "locked": false,
     "schema_version": 3,
     "solution": true,
     "task": false
    }
   },
   "outputs": [],
   "source": [
    "def mean_std_error(x):\n",
    "    # YOUR IMPLEMENTATION HERE\n"
   ]
  },
  {
   "cell_type": "code",
   "execution_count": null,
   "metadata": {
    "nbgrader": {
     "grade": true,
     "grade_id": "cell-10852649131dbd5c",
     "locked": true,
     "points": 3,
     "schema_version": 3,
     "solution": false,
     "task": false
    }
   },
   "outputs": [],
   "source": [
    "# Testing cell\n",
    "import numpy.testing as npt\n",
    "\n",
    "x1_test = np.array([1, 0, -1])\n",
    "npt.assert_allclose(mean_std_error(x1_test), np.array([0.0, 1.0, 0.577]), atol=1e-2)\n"
   ]
  },
  {
   "cell_type": "markdown",
   "metadata": {
    "nbgrader": {
     "grade": false,
     "grade_id": "cell-e4cee29e113a5998",
     "locked": true,
     "schema_version": 3,
     "solution": false,
     "task": false
    }
   },
   "source": [
    "## 3.2 - Lots of plots (16 points)"
   ]
  },
  {
   "cell_type": "markdown",
   "metadata": {
    "nbgrader": {
     "grade": false,
     "grade_id": "cell-a1ed821e32584a68",
     "locked": true,
     "schema_version": 3,
     "solution": false,
     "task": false
    }
   },
   "source": [
    "### Part A (3 points)\n",
    "\n",
    "Plot the function \n",
    "\n",
    "$$\n",
    "f(x) = e^{x/2} + \\cos(2x) - x^3/10\n",
    "$$ \n",
    "\n",
    "over the range $-2 \\leq x \\leq 2$.  __On the same plot__, include the function \n",
    "\n",
    "$$\n",
    "g(x) = e^{x/2}.\n",
    "$$\n",
    "\n",
    "__Your plot should satisfy the following:__\n",
    "\n",
    "- Color: $f$ should be blue, and $g$ should be red.\n",
    "- Markers: no markers shown, just the lines.\n",
    "- Style: $f$ should be a solid line, and $g$ should be a dotted or dashed line.\n",
    "- Include a legend which shows clearly which function corresponds to which curve!"
   ]
  },
  {
   "cell_type": "code",
   "execution_count": null,
   "metadata": {
    "nbgrader": {
     "grade": true,
     "grade_id": "cell-6b76e882983a7ec2",
     "locked": false,
     "points": 3,
     "schema_version": 3,
     "solution": true,
     "task": false
    }
   },
   "outputs": [],
   "source": [
    "import numpy as np\n",
    "import matplotlib.pyplot as plt\n",
    "\n",
    "# YOUR SOLUTION HERE"
   ]
  },
  {
   "cell_type": "markdown",
   "metadata": {
    "nbgrader": {
     "grade": false,
     "grade_id": "cell-51014d4f3655d47e",
     "locked": true,
     "schema_version": 3,
     "solution": false,
     "task": false
    }
   },
   "source": [
    "### Part B (3 points)\n",
    "\n",
    "Since `plt.plot()` simply takes lists of $x$ and $y$ coordinates for points, we've seen that it can easily deal with either lists of data, or functions plotted using `np.linspace`.  In fact, we can also easily use it with __parametric plots__, where both $x$ and $y$ are functions of some auxiliary variable $t$.\n",
    "\n",
    "__Make a plot of an ellipse below__ using `plt.plot`.  The equation for the ellipse you should plot is:\n",
    "\n",
    "$$\n",
    "x = 1 + 2 \\cos(t) \\\\\n",
    "y = 3 \\sin(t)/2\n",
    "$$\n",
    "\n",
    "You can choose whatever range of $t$ you want, but make sure your ellipse doesn't have any gaps or jagged edges!\n",
    "\n",
    "To make it obvious that your ellipse is, in fact, an ellipse, __show your plot with both x and y ranging from -3 to 3.__ Show and label the axes to make the range clear."
   ]
  },
  {
   "cell_type": "code",
   "execution_count": null,
   "metadata": {
    "nbgrader": {
     "grade": true,
     "grade_id": "cell-b684e3a310359762",
     "locked": false,
     "points": 3,
     "schema_version": 3,
     "solution": true,
     "task": false
    }
   },
   "outputs": [],
   "source": [
    "import numpy as np\n",
    "import matplotlib.pyplot as plt\n",
    "\n",
    "# YOUR SOLUTION HERE"
   ]
  },
  {
   "cell_type": "markdown",
   "metadata": {
    "nbgrader": {
     "grade": false,
     "grade_id": "cell-263563237a9fb4e9",
     "locked": true,
     "schema_version": 3,
     "solution": false,
     "task": false
    }
   },
   "source": [
    "### Part C (5 points)\n",
    "\n",
    "A certain type of _wave packet_ is defined by the function\n",
    "\n",
    "$$\n",
    "y(x,t) = e^{-(x-3t)^2} \\sin(3\\pi (x-3t))\n",
    "$$\n",
    "\n",
    "This describes a \"traveling wave\" propagating through some medium; the shape of the packet remains fixed as it travels.  To see this, let's make a plot!  __Your plot should have the following content:__\n",
    "\n",
    "* It should be a plot versus $x$, over the range $-10 \\leq x \\leq 10$.\n",
    "* It should show the \"wave packet\" function $y(x,t)$ above versus $x$, for __five values of t__: -2, -1, 0, 1, and 2.\n",
    "* Each plot $y(x,t)$ for a given value of $t$ should be drawn as a different color.  (Pyplot should do this for you by default!)\n",
    "* The plot should have a legend of the form $t=X$, labeling each curve with the value of $t$ _as an integer_.  (Remember string formatting?  Now we really need it to get a nice-looking plot legend!)\n",
    "\n",
    "To discourage you from just using copy-and-paste, I've included a function stub `plot_wave_packet(x,t)` below, which you can implement to create the plot.  In fact, __you're only allowed to call `plt.plot()` inside of `plot_wave_packet(x,t)`__, just to make sure you're not tempted to copy-and-paste.  (To iterate over the five values of `t` with this function, a `for` loop would be helpful.)\n",
    "\n",
    "_(Note on functions and `pyplot`: since `pyplot` in general uses a single \"global state\" per cell, __your function doesn't have to return anything at all__; it can just operate on the global state with `plt.plot()` and other operations, and the plot will be created and shown in whatever cell you call_ `plot_wave_packet` _from.)_\n",
    "\n",
    "If you're bothered by how the legend most likely ends up overlapping part of your plot, have a look at the `bbox_to_anchor=...` or `loc=...` keyword arguments to `plt.legend()`, and see if you can fix the problem.  (This part is optional, but a useful thing to know about!)"
   ]
  },
  {
   "cell_type": "code",
   "execution_count": null,
   "metadata": {
    "nbgrader": {
     "grade": true,
     "grade_id": "cell-ff96f1c873b02983",
     "locked": false,
     "points": 5,
     "schema_version": 3,
     "solution": true,
     "task": false
    }
   },
   "outputs": [],
   "source": [
    "import matplotlib.pyplot as plt\n",
    "import numpy as np\n",
    "\n",
    "def plot_wave_packet(x, t):\n",
    "    # YOUR IMPLEMENTATION HERE\n",
    "\n",
    "x = np.linspace(-10,10,500)\n",
    "plot_wave_packet(x,-2)\n",
    "plot_wave_packet(x,-1)\n",
    "plot_wave_packet(x,0)\n",
    "plot_wave_packet(x,1)\n",
    "plot_wave_packet(x,2)\n"
   ]
  },
  {
   "cell_type": "markdown",
   "metadata": {
    "nbgrader": {
     "grade": false,
     "grade_id": "cell-c983d3815196cb34",
     "locked": true,
     "schema_version": 3,
     "solution": false,
     "task": false
    }
   },
   "source": [
    "### Part D (5 points)\n",
    "\n",
    "Now an exercise in two-dimensional ballistics.  We'll start by recalling two textbook formulas for the trajectory $y(x)$ and for the maximum range $R$ of an object moving in 2d under the influence of gravity, starting at $y=0$:\n",
    "\n",
    "$$\n",
    "y(x) = x \\tan \\theta - \\frac{gx^2}{2v_0^2 \\cos^2 \\theta} \\\\\n",
    "R = \\frac{v_0^2 \\sin(2\\theta)}{g}\n",
    "$$\n",
    "\n",
    "A great way to test these formulas against each other is with a plot!  Let's fix $g=9.8\\ m/s^2$ and $v_0 = 6$ m/s, and then __create a plot with the following properties:__\n",
    "\n",
    "* Show $y(x)$ as a solid line for two trajectories, $\\theta = 20$ degrees and $\\theta = 45$ degrees.\n",
    "* Show $R$ for each trajectory as a __dashed, vertical line__ on the same plot, with the _same color_ as the corresponding $y(x)$.\n",
    "* Include a legend to show which trajectory is which.\n",
    "\n",
    "The simplest way to add a vertical line to your plot is the `plt.vlines()` function; for things like color and line style, it takes the same options that `plt.plot()` does.\n",
    "\n",
    "Choosing the plot range, colors, etc. are up to you: the only requirement is that __your plot should be easily usable to see that $y(x)$ and $R$ agree on the maximum range of your projectile__ in both cases.\n",
    "\n"
   ]
  },
  {
   "cell_type": "code",
   "execution_count": null,
   "metadata": {
    "nbgrader": {
     "grade": true,
     "grade_id": "cell-1d5544cd64a1ce3a",
     "locked": false,
     "points": 5,
     "schema_version": 3,
     "solution": true,
     "task": false
    }
   },
   "outputs": [],
   "source": [
    "import numpy as np\n",
    "import matplotlib.pyplot as plt\n",
    "\n",
    "g = 9.8  # m/s^2\n",
    "v0 = 6.0 # m/s\n",
    "\n",
    "# YOUR SOLUTION HERE"
   ]
  }
 ],
 "metadata": {
  "kernelspec": {
   "display_name": "Python 3 (ipykernel)",
   "language": "python",
   "name": "python3"
  },
  "language_info": {
   "codemirror_mode": {
    "name": "ipython",
    "version": 3
   },
   "file_extension": ".py",
   "mimetype": "text/x-python",
   "name": "python",
   "nbconvert_exporter": "python",
   "pygments_lexer": "ipython3",
   "version": "3.13.7"
  }
 },
 "nbformat": 4,
 "nbformat_minor": 4
}
