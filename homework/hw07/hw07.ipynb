{
 "cells": [
  {
   "cell_type": "markdown",
   "metadata": {
    "nbgrader": {
     "grade": false,
     "grade_id": "cell-053f09c8a8a514e5",
     "locked": true,
     "schema_version": 3,
     "solution": false,
     "task": false
    }
   },
   "source": [
    "# Homework 7\n",
    "\n",
    "## PHYS 2600\n",
    "\n",
    "__Important notice:__ All cells in your notebook will be run, start to finish, using a fresh kernel when it is graded! To make sure the graded notebook looks like what you expect, we recommend selecting \"Runtime > Restart session and run all\" from the menu above in Colab before you finish."
   ]
  },
  {
   "cell_type": "code",
   "execution_count": null,
   "metadata": {},
   "outputs": [],
   "source": [
    "# Import cell\n",
    "\n",
    "%matplotlib inline\n",
    "import matplotlib.pyplot as plt\n",
    "import numpy as np"
   ]
  },
  {
   "cell_type": "markdown",
   "metadata": {
    "nbgrader": {
     "grade": false,
     "grade_id": "cell-06bff42e9e16d26f",
     "locked": true,
     "schema_version": 3,
     "solution": false,
     "task": false
    }
   },
   "source": [
    "If you worked collaboratively on this assignment, __include the names of your collaborators in the cell below:__"
   ]
  },
  {
   "cell_type": "markdown",
   "metadata": {},
   "source": []
  },
  {
   "cell_type": "markdown",
   "metadata": {
    "nbgrader": {
     "grade": false,
     "grade_id": "cell-9bbcf2e8b7cbb637",
     "locked": true,
     "schema_version": 3,
     "solution": false,
     "task": false
    }
   },
   "source": [
    "## 7.0 - Homework correction (3 points)\n",
    "\n",
    "In the cell below, explain and correct __one mistake__ you made on homework #5.  If you got a perfect score, great, tell us what your favorite problem was, or use the space to give any other feedback you might have on the class/tutorials/homework."
   ]
  },
  {
   "cell_type": "markdown",
   "metadata": {
    "nbgrader": {
     "grade": true,
     "grade_id": "hw7-correction",
     "locked": false,
     "points": 3,
     "schema_version": 3,
     "solution": true,
     "task": false
    }
   },
   "source": []
  },
  {
   "cell_type": "markdown",
   "metadata": {
    "nbgrader": {
     "grade": false,
     "grade_id": "cell-5352f75f59b5cce7",
     "locked": true,
     "schema_version": 3,
     "solution": false,
     "task": false
    }
   },
   "source": [
    "## 7.1 - More fun with lists (11 points)"
   ]
  },
  {
   "cell_type": "markdown",
   "metadata": {
    "nbgrader": {
     "grade": false,
     "grade_id": "cell-5dec940ce74f991b",
     "locked": true,
     "schema_version": 3,
     "solution": false,
     "task": false
    }
   },
   "source": [
    "__Important instruction:__ Your solution to all of the problems below _must_ use list operations to manipulate the starting lists you are given, in order to produce the answer.  Just entering the answer by hand as a new list is worth no credit!\n",
    "\n",
    "Run the cell below to initialize some lists that you'll have to manipulate in your answers."
   ]
  },
  {
   "cell_type": "code",
   "execution_count": null,
   "metadata": {
    "nbgrader": {
     "grade": false,
     "grade_id": "cell-93b16c826018c56d",
     "locked": true,
     "schema_version": 3,
     "solution": false,
     "task": false
    }
   },
   "outputs": [],
   "source": [
    "# Initialization cell - run me first!\n",
    "\n",
    "SI_smaller_prefixes = [\"milli\", \"micro\", \"nano\", \"pico\"]\n",
    "SI_bigger_prefixes = [\"kilo\", \"mega\", \"giga\", \"tera\"]\n",
    "\n",
    "material_names = [\"water\", \"selenium\", \"quartz\", \"potassium\"]\n",
    "melting_points = [0, 220, 1470, 63]\n",
    "boiling_points = [100, 688, 2230, 762]"
   ]
  },
  {
   "cell_type": "markdown",
   "metadata": {
    "nbgrader": {
     "grade": false,
     "grade_id": "cell-51cf3bdb2c405dae",
     "locked": true,
     "schema_version": 3,
     "solution": false,
     "task": false
    }
   },
   "source": [
    "### Part A (3 points)\n",
    "\n",
    "__Combine the lists__ `SI_smaller_prefixes` and `SI_bigger_prefixes` into a single list called `SI_prefixes`.  Make sure your combined list is __in order, from smallest to largest prefix (i.e. pico to tera).__\n",
    "\n",
    "_(Hint: there is more than one way to do this, including a clever way involving slicing.  The straightforward solution is just to loop over both lists and build the new one piece by piece.)_"
   ]
  },
  {
   "cell_type": "code",
   "execution_count": null,
   "metadata": {
    "nbgrader": {
     "grade": false,
     "grade_id": "cell-1ac29bbb3bcad33f",
     "locked": false,
     "schema_version": 3,
     "solution": true,
     "task": false
    }
   },
   "outputs": [],
   "source": [
    "#"
   ]
  },
  {
   "cell_type": "code",
   "execution_count": null,
   "metadata": {
    "nbgrader": {
     "grade": true,
     "grade_id": "7_1a",
     "locked": true,
     "points": 3,
     "schema_version": 3,
     "solution": false,
     "task": false
    }
   },
   "outputs": [],
   "source": [
    "assert SI_prefixes == [\"pico\", \"nano\", \"micro\", \"milli\", \"kilo\", \"mega\", \"giga\", \"tera\"]"
   ]
  },
  {
   "cell_type": "markdown",
   "metadata": {
    "nbgrader": {
     "grade": false,
     "grade_id": "cell-8537114ef20164a6",
     "locked": true,
     "schema_version": 3,
     "solution": false,
     "task": false
    }
   },
   "source": [
    "### Part B (3 points)\n",
    "\n",
    "Three related lists above contain the names of some materials, their melting points (in degrees C), and their boiling points (also degrees C).  Combine them to __create a single list__ `material_melt_boil_points`, which consists of  __smaller lists of the form:__ `[material name, melting point, boiling point]`.  (Have a look at the testing cell to see what this is supposed to look like.)"
   ]
  },
  {
   "cell_type": "code",
   "execution_count": null,
   "metadata": {
    "nbgrader": {
     "grade": false,
     "grade_id": "cell-f4e474f8024f342b",
     "locked": false,
     "schema_version": 3,
     "solution": true,
     "task": false
    }
   },
   "outputs": [],
   "source": [
    "#"
   ]
  },
  {
   "cell_type": "code",
   "execution_count": null,
   "metadata": {
    "nbgrader": {
     "grade": true,
     "grade_id": "7_1b",
     "locked": true,
     "points": 3,
     "schema_version": 3,
     "solution": false,
     "task": false
    }
   },
   "outputs": [],
   "source": [
    "solution_materials_list = [\n",
    "    [\"water\", 0, 100],\n",
    "    [\"selenium\", 220, 688],\n",
    "    [\"quartz\", 1470, 2230],\n",
    "    [\"potassium\", 63, 762],\n",
    "]\n",
    "assert material_melt_boil_points == solution_materials_list"
   ]
  },
  {
   "cell_type": "markdown",
   "metadata": {
    "nbgrader": {
     "grade": false,
     "grade_id": "cell-dc6257cf43bf443a",
     "locked": true,
     "schema_version": 3,
     "solution": false,
     "task": false
    }
   },
   "source": [
    "### Part C (5 points)\n",
    "\n",
    "Now that we've met lists, we have a new way to look at our old friend the _string_.  A string is a __sequence__, just like a list or array: it is an ordered set of objects.  In the case of a string, the objects it is made of must be __characters__ - single letters, numbers, punctuation marks, etc.\n",
    "\n",
    "\n",
    "Many of the methods we've seen for lists also work as expected on strings, including indexing, slicing, and `len`.  We can even use a `for` loop to iterate over a string, which gives us one character at a time:"
   ]
  },
  {
   "cell_type": "code",
   "execution_count": null,
   "metadata": {
    "nbgrader": {
     "grade": false,
     "grade_id": "cell-044fc411467e9576",
     "locked": true,
     "schema_version": 3,
     "solution": false,
     "task": false
    }
   },
   "outputs": [],
   "source": [
    "## Example code - run me\n",
    "\n",
    "s = \"abcxyz\"\n",
    "print(s[1])\n",
    "print(len(s))\n",
    "print(s[3:6])\n",
    "print()\n",
    "\n",
    "print(\"For loop below:\")\n",
    "for char in s:\n",
    "    print(char)"
   ]
  },
  {
   "cell_type": "markdown",
   "metadata": {
    "nbgrader": {
     "grade": false,
     "grade_id": "cell-9820b73164d54164",
     "locked": true,
     "schema_version": 3,
     "solution": false,
     "task": false
    }
   },
   "source": [
    "Using your list knowledge, __implement the function `count_vowels_and_ys`__ below, which should return the number of vowels and ys in the given string.  (Vowels are the letters `'aeiou'`, we are including `'y'` in this function.)"
   ]
  },
  {
   "cell_type": "code",
   "execution_count": null,
   "metadata": {
    "nbgrader": {
     "grade": false,
     "grade_id": "cell-0187d9b178bffb07",
     "locked": false,
     "schema_version": 3,
     "solution": true,
     "task": false
    }
   },
   "outputs": [],
   "source": [
    "def count_vowels_and_ys(s):\n",
    "    #"
   ]
  },
  {
   "cell_type": "code",
   "execution_count": null,
   "metadata": {
    "nbgrader": {
     "grade": true,
     "grade_id": "7_1c",
     "locked": true,
     "points": 3,
     "schema_version": 3,
     "solution": false,
     "task": false
    }
   },
   "outputs": [],
   "source": [
    "# TESTING CELL\n",
    "assert count_vowels_and_ys(\"apple\") == 2\n",
    "assert count_vowels_and_ys(\"newtonian\") == 4\n",
    "assert count_vowels_and_ys(\"python\") == 2"
   ]
  },
  {
   "cell_type": "code",
   "execution_count": null,
   "metadata": {},
   "outputs": [],
   "source": [
    "# TESTING CELL\n",
    "assert count_vowels_and_ys(\"qrstvwxz\") == 0\n",
    "assert count_vowels_and_ys(\"nyx\") == 1\n",
    "assert count_vowels_and_ys(\"opera\") == 3"
   ]
  },
  {
   "cell_type": "markdown",
   "metadata": {
    "nbgrader": {
     "grade": false,
     "grade_id": "cell-80a7f793124062ce",
     "locked": true,
     "schema_version": 3,
     "solution": false,
     "task": false
    }
   },
   "source": [
    "## 7.2 - Spring equilibrium beyond Hooke's law (10 points)"
   ]
  },
  {
   "cell_type": "markdown",
   "metadata": {
    "nbgrader": {
     "grade": false,
     "grade_id": "cell-409809e31b91723c",
     "locked": true,
     "schema_version": 3,
     "solution": false,
     "task": false
    }
   },
   "source": [
    "Hooke's law states that the force exerted by a spring is proportional to the distance $x$ by which it is extended, $F = -kx$, where $k$ is the spring constant.  Equivalently, the potential energy $U$ stored in a stretched spring is equal to\n",
    "\n",
    "$$\n",
    "U(x) = \\frac{1}{2} kx^2.\n",
    "$$\n",
    "\n",
    "However, Hooke's law only holds if $x$ is relatively small; a spring stretched sufficiently far will begin to show a _non-linear response_, i.e. the force will deviate from $F = -kx$.  The details of how the spring's behavior changes depends on its material and construction, but we can consider a simple model based on a quartic potential energy:\n",
    "\n",
    "$$\n",
    "U(x) = \\frac{1}{2} kx^2 - p x^3 + q x^4\n",
    "$$\n",
    "\n",
    "where $p$ and $q$ are positive constants.  (Notice the energy is __not symmetric about $x=0$__; we're modeling only the behavior at positive $x$, i.e. for a stretched spring.  In general we might expect a spring to respond differently to extreme stretching and extreme compression.)\n",
    "\n",
    "Let's take some concrete numerical values: for simplicity we'll set $k = 1.5 \\ N/m$, and then take $p = 0.94\\ N/m^2$ and $q = 0.3\\ N/m^3$.  The first term (Hooke's law) is a good approximation to the behavior of the spring up to about 10 cm away from $x=0$, and then the potential energy becomes significantly different.\n",
    "\n",
    "__Run the cell below__ to make a plot of $U(x)$, so you can get a sense for what's going on.  Remember, Hooke's law should give a quadratic potential; you can see that the potential _does_ look parabolic if you get close enough to $x=0$."
   ]
  },
  {
   "cell_type": "code",
   "execution_count": null,
   "metadata": {
    "nbgrader": {
     "grade": false,
     "grade_id": "cell-8790cc4c069d7cd0",
     "locked": true,
     "schema_version": 3,
     "solution": false,
     "task": false
    }
   },
   "outputs": [],
   "source": [
    "def U(x):\n",
    "    k = 1.5  # N/m\n",
    "    p = 0.94  # N/m^2\n",
    "    q = 0.3  # N/m^3\n",
    "\n",
    "    return 0.5 * k * x**2 - p * x**3 + q * x**4\n",
    "\n",
    "\n",
    "x = np.linspace(-1, 2, 1000)\n",
    "plt.plot(x, U(x))\n",
    "plt.ylim(0, 0.4)"
   ]
  },
  {
   "cell_type": "markdown",
   "metadata": {
    "nbgrader": {
     "grade": false,
     "grade_id": "cell-793e8014b06640b0",
     "locked": true,
     "schema_version": 3,
     "solution": false,
     "task": false
    }
   },
   "source": [
    "### Part A (3 points)\n",
    "\n",
    "__Implement the negative derivative of potential energy -U'(x)__, which is equal to the net force, as `net_force(x)` below.  We'll keep the numerical spring constants all fixed for this problem, so $x$ should be the only argument to your function.  (You can copy the values of k,p,q from the plotting cell above.)"
   ]
  },
  {
   "cell_type": "code",
   "execution_count": null,
   "metadata": {
    "nbgrader": {
     "grade": false,
     "grade_id": "cell-0a33c9bf82588216",
     "locked": false,
     "schema_version": 3,
     "solution": true,
     "task": false
    }
   },
   "outputs": [],
   "source": [
    "def net_force(x):\n",
    "    #"
   ]
  },
  {
   "cell_type": "code",
   "execution_count": null,
   "metadata": {
    "nbgrader": {
     "grade": true,
     "grade_id": "7_2a",
     "locked": true,
     "points": 3,
     "schema_version": 3,
     "solution": false,
     "task": false
    }
   },
   "outputs": [],
   "source": [
    "# TESTING CELL\n",
    "import numpy.testing as npt\n",
    "\n",
    "npt.assert_allclose(net_force(0), 0.0)\n",
    "npt.assert_allclose(net_force(0.65), -0.1131, atol=1e-4)\n",
    "npt.assert_allclose(net_force(0.44), -0.2163, atol=1e-4)"
   ]
  },
  {
   "cell_type": "markdown",
   "metadata": {
    "nbgrader": {
     "grade": false,
     "grade_id": "cell-afb7d573f95e0c39",
     "locked": true,
     "schema_version": 3,
     "solution": false,
     "task": false
    }
   },
   "source": [
    "### Part B (7 points)\n",
    "\n",
    "Now we'd like to find the _points of equilibrium_ $x_0$, where the spring will remain at rest.  In addition to the obvious equilibrium point at $x=0$, for the numerical values chosen there are _two more_ points of equilibrium at positive $x$.  (Convince yourself from the plot of $U(x)$ that this is true, or make a plot of the net force!)\n",
    "\n",
    "__Find the two non-zero points of equilibrium__ for this system (in meters), and save them in the variables `x0_A` and `x0_B` below; it doesn't matter which root you store in which variable.  \n",
    "\n",
    "This is a root-finding problem using the `net_force()` function you implemented above.  There are two ways you may approach this problem:\n",
    "\n",
    "1. Copy your implementation of the bisection root finder from tutorial 8 into this notebook, and use that;\n",
    "2. Use one of the root-finding algorithms from the `scipy.optimize` module.  I won't give you help here, it's up to you to [read the scipy documentation](https://docs.scipy.org/doc/scipy/reference/optimize.html) and figure out how to use an appropriate algorithm!\n",
    "\n",
    "A good way to check what you're doing is to make sure you can numerically locate the equilibrium point at $x=0$ before you proceed to the other two.  \n",
    "\n",
    "_(Note: of course, there are analytic ways to find the roots in this case, which you can use to check your answer if you like.  But you won't get any credit for your answer unless you have a complete Python solution here!)_"
   ]
  },
  {
   "cell_type": "code",
   "execution_count": null,
   "metadata": {
    "nbgrader": {
     "grade": true,
     "grade_id": "cell-5aa3a7b5c08e5d97",
     "locked": false,
     "points": 0,
     "schema_version": 3,
     "solution": true,
     "task": false
    }
   },
   "outputs": [],
   "source": [
    "# Put your bisection algorithm here, or use this cell\n",
    "# to import what you need from the scipy module.\n",
    "\n",
    "#"
   ]
  },
  {
   "cell_type": "code",
   "execution_count": null,
   "metadata": {
    "nbgrader": {
     "grade": false,
     "grade_id": "cell-1416bba3f6a08516",
     "locked": false,
     "schema_version": 3,
     "solution": true,
     "task": false
    }
   },
   "outputs": [],
   "source": [
    "# Save the points of equilibrium you find in the two variables below!\n",
    "x0_A = 0\n",
    "x0_B = 0\n",
    "\n",
    "#"
   ]
  },
  {
   "cell_type": "code",
   "execution_count": null,
   "metadata": {
    "nbgrader": {
     "grade": true,
     "grade_id": "7_2b",
     "locked": true,
     "points": 7,
     "schema_version": 3,
     "solution": false,
     "task": false
    }
   },
   "outputs": [],
   "source": [
    "# TESTING CELL\n",
    "correct_roots_one = (abs(x0_A - 0.813579) < 1e-4) and (abs(x0_B - 1.53642) < 1e-4)\n",
    "correct_roots_two = (abs(x0_B - 0.813579) < 1e-4) and (abs(x0_A - 1.53642) < 1e-4)\n",
    "\n",
    "assert correct_roots_one or correct_roots_two"
   ]
  },
  {
   "cell_type": "markdown",
   "metadata": {
    "nbgrader": {
     "grade": false,
     "grade_id": "cell-1b80c3d47ff9cdf3",
     "locked": true,
     "schema_version": 3,
     "solution": false,
     "task": false
    }
   },
   "source": [
    "## 7.3 - A taste of cryptography (16 points)"
   ]
  },
  {
   "cell_type": "markdown",
   "metadata": {
    "nbgrader": {
     "grade": false,
     "grade_id": "cell-5ac26e4285eda21f",
     "locked": true,
     "schema_version": 3,
     "solution": false,
     "task": false
    }
   },
   "source": [
    "As we saw in problem 7.1 above, strings are sequences that can be treated similarly to lists in some ways.  The most immediate and interesting application of this sort of character-level string manipulation is __cryptography__, or secure communications.\n",
    "\n",
    "The idea is simple: if we can devise a secret algorithm to __encode__ a message by converting it from plain text into something unreadable, and if the algorithm is reversible so we can __decode__ the message back to plain text, then we have a way to send messages to another person so that any third party who doesn't know the algorithm can't intercept and read them.\n",
    "\n",
    "For simplicity, let's focus only on __messages in English consisting of lower-case letters__.  (It's not any harder to do mixed upper-case and lower-case letters, just more complicated.)  One of the simplest classes of cryptographic algorithms are the ROT, or \"rotation\", algorithms.  The __ROT(n)__ algorithm takes each letter in a message, and \"rotates\" it around the alphabet by n places.  \n",
    "\n",
    "So, for example, ROT(1) would map a --> b, b --> c, and so on (with the end wrapping around, so z --> a.)  The message `\"hello\"` becomes `\"jfkkp\"`; to 'decode' back to `\"hello\"` we just reverse the map.  The wrapping-around at the end is like counting on a clock (an hour after 12 is 1), so this is another example of _modular arithmetic_ - with 26 letters, we want to work __modulo 26__ (i.e. using `x % 26`.)"
   ]
  },
  {
   "cell_type": "markdown",
   "metadata": {
    "nbgrader": {
     "grade": false,
     "grade_id": "cell-713b3c157df8f2be",
     "locked": true,
     "schema_version": 3,
     "solution": false,
     "task": false
    }
   },
   "source": [
    "### Part A (6 points)\n",
    "\n",
    "To implement a ROT algorithm, the first thing we need is a mapping between letters and their corresponding numbers.  Since letters are really stored as binary numbers underneath, we can just use the numeric representation that Python already has!\n",
    "\n",
    "Given a single character `c`, the built-in function `ord(c)` converts it into the underlying number in the encoding scheme we are using (in this case, ASCII, which we discussed briefly back in lecture 3.)  The `chr()` function goes back the other way: for example,"
   ]
  },
  {
   "cell_type": "code",
   "execution_count": null,
   "metadata": {
    "nbgrader": {
     "grade": false,
     "grade_id": "cell-d3755765a059bac8",
     "locked": true,
     "schema_version": 3,
     "solution": false,
     "task": false
    }
   },
   "outputs": [],
   "source": [
    "print(ord(\"a\"))\n",
    "print(ord(\"z\"))\n",
    "print(chr(97))"
   ]
  },
  {
   "cell_type": "markdown",
   "metadata": {
    "nbgrader": {
     "grade": false,
     "grade_id": "cell-1b0408042fd3131e",
     "locked": true,
     "schema_version": 3,
     "solution": false,
     "task": false
    }
   },
   "source": [
    "As these results imply, the codes given by `ord()` for lower-case letters run continuously from 97 to 122.  However, this is a little annoying, since the modular arithmetic we'll need is much more natural to handle if our codes range from 0 to 25 instead.\n",
    "\n",
    "We also need to think about how to handle things that _aren't_ lower-case letters.  Most messages will be harder to read without punctuation, and _much_ harder to read without spaces!  Keep this in mind as we're working towards implementing the full algorithm.  (Of course, space and punctuation also make it easier to guess the true message - so we would want to encode them for practical application.)\n",
    "\n",
    "To make implementing the ROT(n) algorithm easier, __define three functions below__:\n",
    "\n",
    "* `is_letter(c)` should accept a single character (length-one string), and return `True` if it is a lower-case letter and `False` otherwise.  _(Remember, `ord(c)` for any character will give you a code, and we just worked out which codes are lower-case letters...)_\n",
    "* `char_to_num(c)` should also accept a single character.  If `c` is _not_ a lower-case letter, it should just return `c` back; otherwise, it should return 0 for `a`, 1 for `b`, and so on.  _(You should use_ `is_letter(c)` _here!)_\n",
    "* `num_to_char(n)` is the inverse of `char_to_num`: it should accept a number from 0-25 and return the corresponding lower-case letter."
   ]
  },
  {
   "cell_type": "code",
   "execution_count": null,
   "metadata": {
    "nbgrader": {
     "grade": false,
     "grade_id": "cell-b2bb6a0aa2db1960",
     "locked": false,
     "schema_version": 3,
     "solution": true,
     "task": false
    }
   },
   "outputs": [],
   "source": [
    "def is_letter(c):\n",
    "    #\n",
    "\n",
    "\n",
    "def char_to_num(c):\n",
    "    #\n",
    "\n",
    "\n",
    "def num_to_char(n):\n",
    "    #"
   ]
  },
  {
   "cell_type": "code",
   "execution_count": null,
   "metadata": {
    "nbgrader": {
     "grade": true,
     "grade_id": "7_3a_is_letter",
     "locked": true,
     "points": 2,
     "schema_version": 3,
     "solution": false,
     "task": false
    }
   },
   "outputs": [],
   "source": [
    "# TESTING CELL\n",
    "assert is_letter(\"q\")\n",
    "assert not is_letter(\"3\")\n",
    "assert not is_letter(\"X\")\n",
    "assert not is_letter(\".\")"
   ]
  },
  {
   "cell_type": "code",
   "execution_count": null,
   "metadata": {
    "nbgrader": {
     "grade": true,
     "grade_id": "7_3a_char_to_num",
     "locked": true,
     "points": 2,
     "schema_version": 3,
     "solution": false,
     "task": false
    }
   },
   "outputs": [],
   "source": [
    "# TESTING CELL\n",
    "assert char_to_num(\"z\") == 25\n",
    "assert char_to_num(\"n\") == 13\n",
    "assert char_to_num(\" \") == \" \"\n",
    "assert char_to_num(\"A\") == \"A\""
   ]
  },
  {
   "cell_type": "code",
   "execution_count": null,
   "metadata": {
    "nbgrader": {
     "grade": true,
     "grade_id": "7_3a_num_to_char",
     "locked": true,
     "points": 2,
     "schema_version": 3,
     "solution": false,
     "task": false
    }
   },
   "outputs": [],
   "source": [
    "# TESTING CELL\n",
    "assert num_to_char(4) == \"e\"\n",
    "assert num_to_char(23) == \"x\"\n",
    "\n",
    "assert num_to_char(char_to_num(\"k\")) == \"k\"\n",
    "assert char_to_num(num_to_char(13)) == 13"
   ]
  },
  {
   "cell_type": "markdown",
   "metadata": {
    "nbgrader": {
     "grade": false,
     "grade_id": "cell-9a4a148babb682ac",
     "locked": true,
     "schema_version": 3,
     "solution": false,
     "task": false
    }
   },
   "source": [
    "### Part B (6 points)\n",
    "\n",
    "Now __implement the ROT(n) algorithm__ in the function `encode_rot_n(message, n)` below.  Your function should return a string in which every lower-case letter is replaced by its 'rotated' equivalent, according to the value of `n` given as an argument.\n",
    "\n",
    "A good test case to consider is ROT(13), which is particularly simple: the first half of the alphabet gets mapped to the second half, and vice versa.  So `'a'` --> `'m'` and `'m'` --> `'a`', and so on.\n",
    "\n",
    "_(Hint: remember,_ `char_to_num` _returns either an `int` type or a `str` type, and you only want to apply the \"rotation\" if it gives you an `int` back!  A quick type check of the form `if type(...) == int:` should let you discriminate between lower-case letters and everything else in your code.)_"
   ]
  },
  {
   "cell_type": "code",
   "execution_count": null,
   "metadata": {
    "nbgrader": {
     "grade": false,
     "grade_id": "cell-7acbba8650cb90fd",
     "locked": false,
     "schema_version": 3,
     "solution": true,
     "task": false
    }
   },
   "outputs": [],
   "source": [
    "def encode_rot_n(message, n):\n",
    "    #"
   ]
  },
  {
   "cell_type": "code",
   "execution_count": null,
   "metadata": {
    "nbgrader": {
     "grade": true,
     "grade_id": "7_3b",
     "locked": true,
     "points": 4,
     "schema_version": 3,
     "solution": false,
     "task": false
    }
   },
   "outputs": [],
   "source": [
    "# TESTING CELL\n",
    "assert encode_rot_n(\"colorado\", 19) == \"vhehktwh\"\n",
    "assert encode_rot_n(\"hello world\", 13) == \"uryyb jbeyq\"\n",
    "assert encode_rot_n(\"Testing upper case\", 4) == \"Tiwxmrk yttiv gewi\"\n",
    "assert encode_rot_n(encode_rot_n(\"back and forth!\", 13), 13) == \"back and forth!\""
   ]
  },
  {
   "cell_type": "markdown",
   "metadata": {
    "nbgrader": {
     "grade": false,
     "grade_id": "cell-beb7e3d3be44614a",
     "locked": true,
     "schema_version": 3,
     "solution": false,
     "task": false
    }
   },
   "source": [
    "We only wrote a ROT(n) encoder, but you're now fully equipped to _decode_ messages as well!  The reason is simple: if we combine ROT(n) with ROT(26-n), then every letter in the resulting twice-encoded message has been rotated by 26 places - which means back to where it started!"
   ]
  },
  {
   "cell_type": "code",
   "execution_count": null,
   "metadata": {
    "nbgrader": {
     "grade": false,
     "grade_id": "cell-54d18e735c261032",
     "locked": true,
     "schema_version": 3,
     "solution": false,
     "task": false
    }
   },
   "outputs": [],
   "source": [
    "encode_rot_n(\"yvccf nficu\", 26 - 17)  # 'yvccf nficu' is 'hello world' in ROT(17)"
   ]
  },
  {
   "cell_type": "markdown",
   "metadata": {
    "nbgrader": {
     "grade": false,
     "grade_id": "cell-7c4a4ba182d87786",
     "locked": true,
     "schema_version": 3,
     "solution": false,
     "task": false
    }
   },
   "source": [
    "### Part C (4 points)\n",
    "\n",
    "Let's test out your codebreaking skills.  __The instructions for part C of this problem are encoded in ROT(n) below.__ (Which $n$?  If I told you, it would be too easy...)\n",
    "\n",
    "_(Hint: if your decoded message looks messy and doesn't have any line breaks, use `print()` on it to get it to print out nicely.)_"
   ]
  },
  {
   "cell_type": "code",
   "execution_count": null,
   "metadata": {
    "nbgrader": {
     "grade": true,
     "grade_id": "cell-fd7fd94c730602e8",
     "locked": false,
     "points": 0,
     "schema_version": 3,
     "solution": true,
     "task": false
    }
   },
   "outputs": [],
   "source": [
    "instr_encoded = \"\"\"\n",
    "yvahapvu hsnvypaotz hyl uva clyf zljbyl.  pm dl zbzwlja h yvahapvu\n",
    "hsnvypaot, dl vusf ullk av alza 26 clyzpvuz vm pa av kljvkl aol tlzzhnl.\n",
    "lclu dvyzl, pa'z lhzf av nblzz doha u pz myvt jvttvu zpunsl-slaaly dvykz\n",
    "sprl \"p\" huk \"h\" - fvb thf ohcl kvul aoha av kljvkl aopz, pu mhja.\n",
    "jyfwavnyhwof pz vusf hz nvvk hz aol hsnvypaot dl bzl!\n",
    "\n",
    "dl jhu chzasf ptwyvcl aol zljbypaf vm yva u if bzpun h vul-aptl whk.\n",
    "vul-aptl whkz hyl h zlxblujl vm yhukvt pumvythapvu dopjo pz zohylk iladllu\n",
    "adv wlvwsl dov dhua av zluk huk yljlpcl h tlzzhnl.  aopz aljoupxbl pz\n",
    "buiylhrhisl pm aol vul-aptl whk pazlsm pz aybsf yhukvt, iba pa kvlz ylxbpyl\n",
    "aol zlukly huk yljlpcly av tlla huk lejohunl aol whk ilmvylohuk.\n",
    "\n",
    "ptwsltlua aol mbujapvu lujvkl_yva_u_vaw ilsvd.  aol chyphisl vul_aptl_whk zovbsk\n",
    "il h svun zaypun vm svdly-jhzl slaalyz, dopjo dl ohcl hsylhkf thwwlk av ubtilyz\n",
    "myvt 0 av 25.  zv aol mpyza johyhjaly pu tlzzhnl zovbsk il lujvklk dpao lujvkl_yva_u,\n",
    "huk u lxbhs av johy_av_ubt() vm aol mpyza johyhjaly pu vul_aptl_whk, huk zv vu.\n",
    "\n",
    "lujvkl_yva_u_vaw hszv pujsbklz h ivvslhu hynbtlua, kljvkl.  pm kljvkl pz aybl,\n",
    "aolu fvb zovbsk zapss ylhk u myvt aol vul_aptl_whk, iba aolu yvahal if 26 - u.\n",
    "pm fvb'cl kvul lclyfaopun jvyyljasf, fvb'ss il hisl av lujvkl huk kljvkl, huk\n",
    "yljvcly aol tlzzhnl fvb zahyalk dpao.\n",
    "\n",
    "dl ohcl av kljpkl ovd av klhs dpao uvu-slaalyz, vy aol kljvkpun thf mhps hmaly\n",
    "aol mpyza zwhjl hwwlhyz.  tf ptwsltluahapvu \"bzlz bw\" h slaaly pu aol vul-aptl whk\n",
    "dolu h uvu-slaaly pz mvbuk.  pu vaoly dvykz: pm aol aopyk johyhjaly pu aol tlzzhnl pz\n",
    "h zwhjl, aolu aol aopyk johyhjaly pu aol vul-aptl whk pz bzlk bw, huk aol ulea johyhjaly\n",
    "pz lujvklk dpao aol mvbyao myvt aol vul-aptl whk.  aopz pz h ipa dhzalmbs, iba pa'z\n",
    "hszv h spaasl lhzply av ptwsltlua.  hnhpu, pm fvb kv aopz dyvun, fvb'ss ruvd iljhbzl\n",
    "fvby kljvkpun dpss wyvkbjl vul dvyk huk aolu nhyihnl hmaly aol zwhjl!\n",
    "\n",
    "aolyl hyl uv alzaz mvy aopz whya!  puzalhk, fvb tbza huzdly pu aol mpuhs\n",
    "thyrkvdu jlss ilsvd: doha pz aol zljyla jvkl dvyk lujvklk pu tf shza tlzzhnl?\n",
    "\n",
    "olyl pz fvby vul aptl whk av kljvkl aol shza tlzzhnl ilsvd:\n",
    "\n",
    "lmavmpxxmkknbqhkqyzjyamdzlofucyqeqfasasbheehemeqwyfkispvyxunphjydzbneemyfrrwogxqxuakmkkpulvesakzczxwqbiz\n",
    "\"\"\"\n",
    "\n",
    "\n",
    "#"
   ]
  },
  {
   "cell_type": "code",
   "execution_count": null,
   "metadata": {
    "nbgrader": {
     "grade": true,
     "grade_id": "cell-bd2ec88c24027a3c",
     "locked": false,
     "points": 0,
     "schema_version": 3,
     "solution": true,
     "task": false
    }
   },
   "outputs": [],
   "source": [
    "def encode_rot_n_otp(message, one_time_pad, decode=False):\n",
    "    #"
   ]
  },
  {
   "cell_type": "code",
   "execution_count": null,
   "metadata": {
    "nbgrader": {
     "grade": false,
     "grade_id": "cell-ceacb3bcfae1659e",
     "locked": true,
     "schema_version": 3,
     "solution": false,
     "task": false
    }
   },
   "outputs": [],
   "source": [
    "final_message = 'xmbg uuixdjk fiou kgcy-zwwaphxk fw mpg mezlnax...asvu swutvto.  pzy pbhicd lvqt yf \"luddvxm\".'"
   ]
  },
  {
   "cell_type": "code",
   "execution_count": null,
   "metadata": {
    "nbgrader": {
     "grade": true,
     "grade_id": "cell-0bfe90a090479781",
     "locked": false,
     "points": 0,
     "schema_version": 3,
     "solution": true,
     "task": false
    }
   },
   "outputs": [],
   "source": [
    "# Scratch space for you to figure this out...\n",
    "\n",
    "#"
   ]
  }
 ],
 "metadata": {
  "kernelspec": {
   "display_name": "Python 3 (ipykernel)",
   "language": "python",
   "name": "python3"
  },
  "language_info": {
   "codemirror_mode": {
    "name": "ipython",
    "version": 3
   },
   "file_extension": ".py",
   "mimetype": "text/x-python",
   "name": "python",
   "nbconvert_exporter": "python",
   "pygments_lexer": "ipython3",
   "version": "3.13.7"
  }
 },
 "nbformat": 4,
 "nbformat_minor": 4
}
