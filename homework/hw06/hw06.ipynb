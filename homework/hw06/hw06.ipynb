{
 "cells": [
  {
   "cell_type": "markdown",
   "metadata": {
    "editable": true,
    "nbgrader": {
     "grade": false,
     "grade_id": "cell-053f09c8a8a514e5",
     "locked": true,
     "schema_version": 3,
     "solution": false,
     "task": false
    },
    "slideshow": {
     "slide_type": ""
    },
    "tags": []
   },
   "source": [
    "# Homework 6\n",
    "\n",
    "## PHYS 2600\n",
    "\n",
    "__Important notice:__ All cells in your notebook will be run, start to finish, using a fresh kernel when it is graded! To make sure the graded notebook looks like what you expect, we recommend selecting \"Runtime > Restart session and run all\" from the menu above in Colab before you finish."
   ]
  },
  {
   "cell_type": "code",
   "execution_count": null,
   "metadata": {
    "editable": true,
    "nbgrader": {
     "grade": false,
     "grade_id": "cell-809b1d64ca76df5c",
     "locked": true,
     "schema_version": 3,
     "solution": false,
     "task": false
    },
    "slideshow": {
     "slide_type": ""
    },
    "tags": []
   },
   "outputs": [],
   "source": [
    "# Import cell\n",
    "\n",
    "%matplotlib inline\n",
    "import matplotlib.pyplot as plt\n",
    "import numpy as np"
   ]
  },
  {
   "cell_type": "markdown",
   "metadata": {
    "nbgrader": {
     "grade": false,
     "grade_id": "cell-06bff42e9e16d26f",
     "locked": true,
     "schema_version": 3,
     "solution": false,
     "task": false
    }
   },
   "source": [
    "If you worked collaboratively on this assignment, __include the names of your collaborators in the cell below:__"
   ]
  },
  {
   "cell_type": "markdown",
   "metadata": {},
   "source": []
  },
  {
   "cell_type": "markdown",
   "metadata": {
    "nbgrader": {
     "grade": false,
     "grade_id": "cell-9bbcf2e8b7cbb637",
     "locked": true,
     "schema_version": 3,
     "solution": false,
     "task": false
    }
   },
   "source": [
    "## 6.0 - Homework correction (3 points)\n",
    "\n",
    "In the cell below, explain and correct __one mistake__ you made on homework #4.  If you got a perfect score, great, tell us what your favorite problem was, or use the space to give any other feedback you might have on the class/tutorials/homework."
   ]
  },
  {
   "cell_type": "markdown",
   "metadata": {
    "nbgrader": {
     "grade": true,
     "grade_id": "hw6-correction",
     "locked": false,
     "points": 3,
     "schema_version": 3,
     "solution": true,
     "task": false
    }
   },
   "source": []
  },
  {
   "cell_type": "markdown",
   "metadata": {
    "nbgrader": {
     "grade": false,
     "grade_id": "cell-446b6285a11e9a5b",
     "locked": true,
     "schema_version": 3,
     "solution": false,
     "task": false
    }
   },
   "source": [
    "## 6.1 - Factorials, loops, and recursion (12 points)"
   ]
  },
  {
   "cell_type": "markdown",
   "metadata": {
    "nbgrader": {
     "grade": false,
     "grade_id": "cell-744a74fb5ff27a0d",
     "locked": true,
     "schema_version": 3,
     "solution": false,
     "task": false
    }
   },
   "source": [
    "### Part A (3 points)\n",
    "\n",
    "The factorial function $n!$ is defined as the product of all numbers from 1 to $n$:\n",
    "\n",
    "$$\n",
    "n! = n \\times (n-1) \\times (n-2) ... 2 \\times 1\n",
    "$$\n",
    "\n",
    "Implement the factorial function as `fact(n)` below, __using a `while` loop.__  The factorial is defined for any non-negative integer, including zero ($0! = 1$); _make sure your code handles this edge case properly._  \n",
    "\n",
    "Note: You should try a few test cases of your own to make sure your function works completely!"
   ]
  },
  {
   "cell_type": "code",
   "execution_count": null,
   "metadata": {
    "nbgrader": {
     "grade": false,
     "grade_id": "cell-4360fe72fbdbfb58",
     "locked": false,
     "schema_version": 3,
     "solution": true,
     "task": false
    }
   },
   "outputs": [],
   "source": [
    "def fact(n):\n",
    "    \"\"\"\n",
    "    Return the factorial n!.\n",
    "\n",
    "    n must be a non-negative integer (>= 0.)\n",
    "    \"\"\"\n",
    "\n",
    "    # Factorial is defined for non-negative integers only.\n",
    "    # Better to cause an error than to return a bad result!\n",
    "    assert type(n) == int\n",
    "    assert n >= 0\n",
    "\n",
    "    #"
   ]
  },
  {
   "cell_type": "code",
   "execution_count": null,
   "metadata": {
    "nbgrader": {
     "grade": true,
     "grade_id": "6_1a",
     "locked": true,
     "points": 1,
     "schema_version": 3,
     "solution": false,
     "task": false
    }
   },
   "outputs": [],
   "source": [
    "assert fact(2) == 2\n",
    "assert fact(5) == 120\n",
    "assert fact(1) == 1"
   ]
  },
  {
   "cell_type": "markdown",
   "metadata": {
    "nbgrader": {
     "grade": false,
     "grade_id": "cell-69032b1748df6cdb",
     "locked": true,
     "schema_version": 3,
     "solution": false,
     "task": false
    }
   },
   "source": [
    "### Part B (3 points)\n",
    "\n",
    "A less familiar but related function is the __double factorial__ or __semifactorial__, $n!!$, which is defined just like the factorial but uses every _other_ number in the product:\n",
    "\n",
    "$$\n",
    "n!! = \\begin{cases}\n",
    "n \\times (n-2) \\times (n-4) ... \\times 3 \\times 1, & (n\\ {\\rm odd}); \\\\\n",
    "n \\times (n-2) \\times (n-4) ... \\times 4 \\times 2, & (n\\ {\\rm even}); \\\\\n",
    "\\end{cases}\n",
    "$$\n",
    "\n",
    "__Implement the double factorial function `double_fact(n)` below__, again __using a `while` loop.__  Once again, assume $n$ is a non-negative integer, and make sure you reproduce the special case $0!! = 1$.\n",
    "\n"
   ]
  },
  {
   "cell_type": "code",
   "execution_count": null,
   "metadata": {
    "nbgrader": {
     "grade": false,
     "grade_id": "cell-591216e00526e456",
     "locked": false,
     "schema_version": 3,
     "solution": true,
     "task": false
    }
   },
   "outputs": [],
   "source": [
    "def double_fact(n):\n",
    "    \"\"\"\n",
    "    Return the 'double factorial' n!!.\n",
    "\n",
    "    n must be a non-negative integer.\n",
    "    \"\"\"\n",
    "\n",
    "    assert type(n) == int\n",
    "    assert n >= 0\n",
    "\n",
    "    #"
   ]
  },
  {
   "cell_type": "code",
   "execution_count": null,
   "metadata": {
    "nbgrader": {
     "grade": true,
     "grade_id": "6_1b",
     "locked": true,
     "points": 1,
     "schema_version": 3,
     "solution": false,
     "task": false
    }
   },
   "outputs": [],
   "source": [
    "assert double_fact(1) == 1\n",
    "assert double_fact(7) == 105\n",
    "assert double_fact(4) == 8"
   ]
  },
  {
   "cell_type": "markdown",
   "metadata": {
    "nbgrader": {
     "grade": false,
     "grade_id": "cell-cc4ecd1722cfbad8",
     "locked": true,
     "schema_version": 3,
     "solution": false,
     "task": false
    }
   },
   "source": [
    "### Part C (3 points)\n",
    "\n",
    "As we've seen a few times, function definitions in Python aren't limited to simple statements; we can also call _other_ functions from inside a function.  In fact, it is valid Python to _call the function we are defining from inside itself!_  When the definition of a function includes the function itself, the function is said to be __recursive__.\n",
    "\n",
    "Recursion is well-suited to simplifying certain problems, and is a powerful technique that you should know about!  The factorial is particularly easy to implement with recursion, since it satisfies the identity\n",
    "\n",
    "$$\n",
    "n! = n \\times (n-1)!\n",
    "$$\n",
    "\n",
    "which leads to the following simple implementation:\n"
   ]
  },
  {
   "cell_type": "code",
   "execution_count": null,
   "metadata": {
    "nbgrader": {
     "grade": false,
     "grade_id": "cell-f5de8936e543d435",
     "locked": true,
     "schema_version": 3,
     "solution": false,
     "task": false
    }
   },
   "outputs": [],
   "source": [
    "def recursive_fact(n):\n",
    "    if n <= 1:\n",
    "        return 1\n",
    "\n",
    "    return n * recursive_fact(n - 1)\n",
    "\n",
    "\n",
    "print(recursive_fact(13) == fact(13))\n",
    "print(recursive_fact(1) == fact(1))\n",
    "print(recursive_fact(0) == fact(0))"
   ]
  },
  {
   "cell_type": "markdown",
   "metadata": {
    "nbgrader": {
     "grade": false,
     "grade_id": "cell-493ba4a0c887e24f",
     "locked": true,
     "schema_version": 3,
     "solution": false,
     "task": false
    }
   },
   "source": [
    "Think about the execution: when you call `recursive_fact(n)`, __which numbers does the computer multiply together first?__  Is it `2*1`, or `n*(n-1)`?  __Explain your reasoning!__\n",
    "\n",
    "_(Hint: try to follow the code through explicitly for a modest value of `n`, say 4.  It's hard to use `print` to diagnose what's happening, but the Python Tutor may help.)_"
   ]
  },
  {
   "cell_type": "markdown",
   "metadata": {
    "nbgrader": {
     "grade": true,
     "grade_id": "6_1c",
     "locked": false,
     "points": 3,
     "schema_version": 3,
     "solution": true,
     "task": false
    }
   },
   "source": [
    "__Python has to evaluate the function in `n * recursive_fact(n-1)`, before it can actually multiply anything!  (If you add print statements, you'll see the function is called in `recursive_fact(4)` for 4, then 3, then 2, then finally 1.)__\n",
    "\n",
    "__So, the function recurses until 1 is returned, and then starts multiplying: `recursive_fact(2)` returns `2*1`, `recursive_fact(3)` returns `3 * recursive_fact(2) = 3 * 2 = 6`, and so on.  The `2*1` happens first!__"
   ]
  },
  {
   "cell_type": "markdown",
   "metadata": {
    "nbgrader": {
     "grade": false,
     "grade_id": "cell-61fd3d54ca7cf34f",
     "locked": true,
     "schema_version": 3,
     "solution": false,
     "task": false
    }
   },
   "source": [
    "There are some drawbacks to recursion; for one thing, recursion is simply slower than iteration in Python, as the usage of memory piles up with every layer of recursion.  (Of course, both functions still take microseconds to run, so maybe the trade-off is worth it for a clearer implementation in this case!)  \n",
    "\n",
    "Recursion also gives us another way to generate an infinite loop in principle, if we're not careful about termination of the recursive function calls.  (In practice, Python has a __recursion limit__, so if a function calls itself too many times the kernel will simply give an error.)"
   ]
  },
  {
   "cell_type": "markdown",
   "metadata": {
    "nbgrader": {
     "grade": false,
     "grade_id": "cell-bb98c85abe4642cf",
     "locked": true,
     "schema_version": 3,
     "solution": false,
     "task": false
    }
   },
   "source": [
    "### Part D (3 points)\n",
    "\n",
    "Now, your turn: __implement the double factorial $n!!$ using recursion.__  (Your answer should be much shorter than the iterative one above!)"
   ]
  },
  {
   "cell_type": "code",
   "execution_count": null,
   "metadata": {
    "nbgrader": {
     "grade": false,
     "grade_id": "cell-6a58cdfff33b6951",
     "locked": false,
     "schema_version": 3,
     "solution": true,
     "task": false
    }
   },
   "outputs": [],
   "source": [
    "def rec_double_fact(n):\n",
    "    #"
   ]
  },
  {
   "cell_type": "code",
   "execution_count": null,
   "metadata": {
    "nbgrader": {
     "grade": true,
     "grade_id": "6_1d",
     "locked": true,
     "points": 1,
     "schema_version": 3,
     "solution": false,
     "task": false
    }
   },
   "outputs": [],
   "source": [
    "assert rec_double_fact(0) == 1\n",
    "assert rec_double_fact(11) == 10395\n",
    "assert rec_double_fact(18) == 185794560"
   ]
  },
  {
   "cell_type": "markdown",
   "metadata": {
    "editable": true,
    "nbgrader": {
     "grade": false,
     "grade_id": "cell-aab4949db56656b2",
     "locked": true,
     "schema_version": 3,
     "solution": false,
     "task": false
    },
    "slideshow": {
     "slide_type": ""
    },
    "tags": []
   },
   "source": [
    "## 6.2 - Debugging and Fizzbuzz (8 points)\n",
    "\n",
    "There are a lot of ways to solve the famous FizzBuzz programming problem (see the worked example on tutorial 9.)  Here are a couple of possible solutions.  The only problem is, they have some bugs in them!  __Debug the code examples__ so that they correctly produce the FizzBuzz sequence from 1 to 30.\n",
    "\n",
    "_(Note: you should fix the code examples, but make sure you use the same basic algorithm to produce the sequence.  In other words, you can't just copy/paste the solution to tutorial 9 three times to get this problem right!)_\n",
    "\n",
    "### Part A\n",
    "\n",
    "This method uses a pair of \"counter\" variables to find multiples of 3 and 5 without the use of the `%` operator."
   ]
  },
  {
   "cell_type": "code",
   "execution_count": null,
   "metadata": {
    "editable": false,
    "nbgrader": {
     "grade": false,
     "grade_id": "cell-5c20eeb18d6b5d91",
     "locked": true,
     "schema_version": 3,
     "solution": false,
     "task": false
    },
    "slideshow": {
     "slide_type": ""
    },
    "tags": []
   },
   "outputs": [],
   "source": [
    "## Read-only code cell: give your solution in the next cell below.\n",
    "\n",
    "i = 1\n",
    "fizz_count = 0\n",
    "buzz_count = 0\n",
    "while i <= 30:\n",
    "    s = \"\"\n",
    "    fizz_count += 1\n",
    "    buzz_count += 1\n",
    "    if fizz_count == 3:\n",
    "        s += \"Fizz\"\n",
    "        fizz_count = 1\n",
    "    if buzz_count == 5:\n",
    "        s += \"Buzz\"\n",
    "        buzz_count = 1\n",
    "\n",
    "    if s == \"\":\n",
    "        print(i)\n",
    "    else:\n",
    "        print(s)\n",
    "\n",
    "    i += 1"
   ]
  },
  {
   "cell_type": "code",
   "execution_count": null,
   "metadata": {
    "editable": true,
    "nbgrader": {
     "grade": true,
     "grade_id": "6_2a",
     "locked": false,
     "points": 4,
     "schema_version": 3,
     "solution": true,
     "task": false
    },
    "slideshow": {
     "slide_type": ""
    },
    "tags": []
   },
   "outputs": [],
   "source": [
    "#"
   ]
  },
  {
   "cell_type": "markdown",
   "metadata": {
    "nbgrader": {
     "grade": false,
     "grade_id": "cell-f9d3f6b535c9a5bd",
     "locked": true,
     "schema_version": 3,
     "solution": false,
     "task": false
    }
   },
   "source": [
    "### Part B\n",
    "\n",
    "This solution skips the `while` loop, instead using NumPy arrays and masks to implement FizzBuzz."
   ]
  },
  {
   "cell_type": "code",
   "execution_count": null,
   "metadata": {
    "editable": false,
    "nbgrader": {
     "grade": false,
     "grade_id": "cell-0cec5c1ff5cabb60",
     "locked": true,
     "schema_version": 3,
     "solution": false,
     "task": false
    },
    "slideshow": {
     "slide_type": ""
    },
    "tags": []
   },
   "outputs": [],
   "source": [
    "## Read-only code cell: give your solution in the next cell below.\n",
    "\n",
    "all_numbers = np.arange(0, 30)\n",
    "\n",
    "div_3_mask = all_numbers % 3\n",
    "div_5_mask = all_numbers % 5\n",
    "\n",
    "all_numbers = np.array(all_numbers, str)\n",
    "all_numbers[div_3_mask] = \"Fizz\"\n",
    "all_numbers[div_5_mask] = \"Buzz\"\n",
    "all_numbers[np.logical_and(div_3_mask, div_5_mask)] = \"FizzBuzz\"\n",
    "\n",
    "print(all_numbers)"
   ]
  },
  {
   "cell_type": "code",
   "execution_count": null,
   "metadata": {
    "editable": true,
    "nbgrader": {
     "grade": true,
     "grade_id": "6_2b",
     "locked": false,
     "points": 4,
     "schema_version": 3,
     "solution": true,
     "task": false
    },
    "slideshow": {
     "slide_type": ""
    },
    "tags": []
   },
   "outputs": [],
   "source": [
    "#"
   ]
  },
  {
   "cell_type": "markdown",
   "metadata": {
    "editable": true,
    "nbgrader": {
     "grade": false,
     "grade_id": "cell-efc2bfa9dde6e4cb",
     "locked": true,
     "schema_version": 3,
     "solution": false,
     "task": false
    },
    "slideshow": {
     "slide_type": ""
    },
    "tags": []
   },
   "source": [
    "## 6.3 - Ballistics, masks, and bouncing balls (18 points)\n",
    "\n",
    "There are some interesting problems that we can now solve (and visualize) with the help of the computer, even in something as simple as one-dimensional motion under gravity.  For a projectile moving vertically with initial height $y_0$ and speed $v_0$, its motion as a function of time will be described by the equation\n",
    "\n",
    "$$\n",
    "y(t) = y_0 + v_0 t - \\frac{1}{2} gt^2.\n",
    "$$\n",
    "\n",
    "As we've seen, NumPy arrays enable us to work with large sets of structured data easily - so we can compute the _entire trajectory_ $y(t)$ at once as a single array.  We can use this to add in a complication: what happens when our projectile meets the ground?\n",
    "\n",
    "### Part A (4 points)\n",
    "\n",
    "To start with, we assume our projectile is a __lump of clay__: if it hits the ground (which we define to be `y=0`), then it will just stick there.\n",
    "\n",
    "__Implement the function `traj_y_clay(t, v_0, y_0)` below__, which returns the array `y(t)` according to the formula above, computed for the array of `t` values given as input.  Again, as soon as the lump of clay hits the ground at `y=0`, the trajectory from that point should just be `y=0` for any larger `x`!   \n",
    "\n",
    "_(Hint: you should implement this by computing `y(t)` ignoring the ground, and then using a mask to zero out the trajectory after it hits the ground.)_\n"
   ]
  },
  {
   "cell_type": "code",
   "execution_count": null,
   "metadata": {
    "editable": true,
    "nbgrader": {
     "grade": false,
     "grade_id": "cell-9b32c654709cfc6b",
     "locked": false,
     "schema_version": 3,
     "solution": true,
     "task": false
    },
    "slideshow": {
     "slide_type": ""
    },
    "tags": []
   },
   "outputs": [],
   "source": [
    "g = 9.8  ## m/s^2\n",
    "\n",
    "\n",
    "def traj_y_clay(t, v_0, y_0=0):\n",
    "    \"\"\"\n",
    "    Computes y(t) for 1-d projectile motion.\n",
    "    Projectile is a lump of clay, which sticks to the ground\n",
    "    at y=0 as soon as it hits.\n",
    "\n",
    "    Arguments:\n",
    "    - t: array of t-values to compute the motion for.\n",
    "    - v_0: initial speed in the y-direction.\n",
    "    - y_0: starting height (must be non-negative!)\n",
    "\n",
    "    Returns:\n",
    "    - y: array containing the trajectory y(t).\n",
    "\n",
    "    \"\"\"\n",
    "\n",
    "    assert y_0 >= 0\n",
    "\n",
    "    #"
   ]
  },
  {
   "cell_type": "code",
   "execution_count": null,
   "metadata": {
    "nbgrader": {
     "grade": true,
     "grade_id": "6_3a",
     "locked": true,
     "points": 3,
     "schema_version": 3,
     "solution": false,
     "task": false
    }
   },
   "outputs": [],
   "source": [
    "import numpy.testing as npt\n",
    "\n",
    "t_test = np.linspace(0, 1, 5)\n",
    "y1_test = np.array([0.0, 0.6938, 0.775, 0.2438, 0.0])\n",
    "\n",
    "print(traj_y_clay(t_test, 4))\n",
    "\n",
    "npt.assert_allclose(traj_y_clay(t_test, 0), np.zeros(5), rtol=1e-3)\n",
    "npt.assert_allclose(traj_y_clay(t_test, 4), y1_test, rtol=1e-3)"
   ]
  },
  {
   "cell_type": "markdown",
   "metadata": {
    "editable": true,
    "nbgrader": {
     "grade": false,
     "grade_id": "cell-501886a5f5b4d37d",
     "locked": true,
     "schema_version": 3,
     "solution": false,
     "task": false
    },
    "slideshow": {
     "slide_type": ""
    },
    "tags": []
   },
   "source": [
    "### Part B (2 points)\n",
    "\n",
    "Let's have a closer look at the trajectories with some plots.  First, __plot `traj_y_clay(t)` below__, for $v_0 = 3$ m/s and $t$ over the range 0 to 1 second, and two different values of y_0: `y_0=0` and `y_0=0.8`."
   ]
  },
  {
   "cell_type": "code",
   "execution_count": null,
   "metadata": {
    "editable": true,
    "nbgrader": {
     "grade": true,
     "grade_id": "6_3b",
     "locked": false,
     "points": 2,
     "schema_version": 3,
     "solution": true,
     "task": false
    },
    "slideshow": {
     "slide_type": ""
    },
    "tags": []
   },
   "outputs": [],
   "source": [
    "#"
   ]
  },
  {
   "cell_type": "markdown",
   "metadata": {
    "nbgrader": {
     "grade": false,
     "grade_id": "cell-a8d680b19cdf3d58",
     "locked": true,
     "schema_version": 3,
     "solution": false,
     "task": false
    }
   },
   "source": [
    "### Part C (8 points)\n",
    "\n",
    "Alright, lumps of clay can only do so much.  A more interesting version of this problem is to simulate the motion of a __bouncing ball__, which will fly up into the air again once it hits the ground. This will give us hours of fun for the whole family.  \n",
    "\n",
    "The simplest way to model a bouncing ball is using the __coefficient of restitution__ $e$, which is equal to the ratio of incoming to outgoing speed when the ball bounces.  For example, a tennis ball with $e = 0.75$ that hits the ground at 4 m/s will bounce back up with a speed of 3 m/s - after which it obeys the same simple equation of motion as above.\n",
    "\n",
    "__Implement a new function `bounce_y(t, v_0, e)`__ that will produce the trajectory of a bouncing ball.\n",
    "\n",
    "<i>(Hint: the art of this solution is all in finding a good algorithm!  My suggestion is the following, which is nicely adapted to a `while` loop:)\n",
    "\n",
    "* Start by calculating the full $y(t)$ without bouncing, letting $y$ go negative.\n",
    "* Now, look for where the current trajectory $y$ is negative: that entire part of the trajectory should be replaced by a new trajectory that starts with a bounce.\n",
    "* The starting speed of the bounce is equal to the _ending_ speed of the previous trajectory, times the coefficient of restitution $e$.  You could calculate $v(t)$, but there's a very simple relation between the initial and final speeds due to energy conservation - remember, energy is still conserved in between bounces!  __Don't forget to include $y_0$ in your conservation of energy calculation...__ you should sketch this out on paper first.\n",
    "* Repeat the steps above until there are no negative $y$ values left.\n",
    "\n",
    "The `np.any()` function will definitely come in handy for your `while` loop.  For replacing only the negative part of `y`, you'll need a mask - and remember, when assigning to a mask of an array `a[mask] = b`, the array `b` had better be the same length as `a[mask]`...)\n"
   ]
  },
  {
   "cell_type": "code",
   "execution_count": null,
   "metadata": {
    "editable": true,
    "nbgrader": {
     "grade": false,
     "grade_id": "cell-cdcbd0cd93e17432",
     "locked": false,
     "schema_version": 3,
     "solution": true,
     "task": false
    },
    "slideshow": {
     "slide_type": ""
    },
    "tags": []
   },
   "outputs": [],
   "source": [
    "g = 9.8  ## m/s^2\n",
    "\n",
    "\n",
    "def traj_y_bounce(t, v_0, y_0=0, e=0.75):\n",
    "    \"\"\"\n",
    "    Computes y(t) for 1-d projectile motion.\n",
    "    Projectile is a bouncing ball, with coefficient of\n",
    "    restitution e.\n",
    "\n",
    "    The ground is taken to be at y=0.\n",
    "\n",
    "    Arguments:\n",
    "    - t: array of t-values to compute the motion for.\n",
    "    - v_0: initial speed in the y-direction.\n",
    "    - y_0: starting height (must be non-negative!) [default: 0.]\n",
    "    - e: coefficient of restitution [default: 0.75.]\n",
    "\n",
    "    Returns:\n",
    "    - y: array containing the trajectory y(t).\n",
    "\n",
    "    \"\"\"\n",
    "\n",
    "    #"
   ]
  },
  {
   "cell_type": "code",
   "execution_count": null,
   "metadata": {
    "nbgrader": {
     "grade": true,
     "grade_id": "6_3c_1",
     "locked": true,
     "points": 3,
     "schema_version": 3,
     "solution": false,
     "task": false
    }
   },
   "outputs": [],
   "source": [
    "import numpy.testing as npt\n",
    "\n",
    "# Simple tests\n",
    "t_test = np.linspace(0, 1, 200)\n",
    "\n",
    "## If v_0 is high enough, it won't bounce, so we get the same answer as for clay\n",
    "npt.assert_allclose(\n",
    "    traj_y_bounce(t_test, 10, y_0=0.0, e=0.75), traj_y_clay(t_test, 10, y_0=0.0)\n",
    ")\n",
    "\n",
    "## Testing known solution with a single bounce\n",
    "t_short_test = np.linspace(0, 1, 10)\n",
    "\n",
    "known_traj = np.array(\n",
    "    [\n",
    "        0.0,\n",
    "        0.32839506,\n",
    "        0.53580247,\n",
    "        0.62222222,\n",
    "        0.58765432,\n",
    "        0.43209877,\n",
    "        0.15555556,\n",
    "        0.0,\n",
    "        0.23117284,\n",
    "        0.34135802,\n",
    "    ]\n",
    ")\n",
    "\n",
    "print(traj_y_bounce(t_short_test, 3.5, y_0=0.0, e=0.75))\n",
    "\n",
    "npt.assert_allclose(traj_y_bounce(t_short_test, 3.5, y_0=0.0, e=0.75), known_traj)"
   ]
  },
  {
   "cell_type": "code",
   "execution_count": null,
   "metadata": {
    "nbgrader": {
     "grade": true,
     "grade_id": "6_3c_2",
     "locked": true,
     "points": 3,
     "schema_version": 3,
     "solution": false,
     "task": false
    }
   },
   "outputs": [],
   "source": [
    "# More challenging tests, for common mistakes.\n",
    "# If you fail this cell, ask yourself these questions:\n",
    "## What does your function do if y_0 is positive?  Plot it - does it look right?\n",
    "## What does your function do if v_0 is negative?  Plot it - does it look right?\n",
    "# Remember, right after a bounce the trajectory you find starts at the ground (y=0),\n",
    "# and it definitely starts with v pointing up.\n",
    "\n",
    "t_short_test_2 = np.linspace(0, 1, 20)\n",
    "\n",
    "known_traj_2bounce = np.array(\n",
    "    [\n",
    "        0.0,\n",
    "        0.11800554,\n",
    "        0.20886427,\n",
    "        0.27257618,\n",
    "        0.30914127,\n",
    "        0.31855956,\n",
    "        0.30083102,\n",
    "        0.25595568,\n",
    "        0.18393352,\n",
    "        0.08476454,\n",
    "        0.0,\n",
    "        0.0851108,\n",
    "        0.14307479,\n",
    "        0.17389197,\n",
    "        0.17756233,\n",
    "        0.15408587,\n",
    "        0.1034626,\n",
    "        0.02569252,\n",
    "        0.0,\n",
    "        0.06043975,\n",
    "    ]\n",
    ")\n",
    "\n",
    "known_traj_y0 = np.array(\n",
    "    [\n",
    "        0.4,\n",
    "        0.62839506,\n",
    "        0.73580247,\n",
    "        0.72222222,\n",
    "        0.58765432,\n",
    "        0.33209877,\n",
    "        0.0,\n",
    "        0.25792239,\n",
    "        0.39485713,\n",
    "        0.41080421,\n",
    "    ]\n",
    ")\n",
    "\n",
    "known_traj_v0_negative = np.array(\n",
    "    [\n",
    "        0.5,\n",
    "        0.0,\n",
    "        0.43110221,\n",
    "        0.74121677,\n",
    "        0.93034368,\n",
    "        0.99848293,\n",
    "        0.94563452,\n",
    "        0.77179846,\n",
    "        0.47697475,\n",
    "        0.06116338,\n",
    "    ]\n",
    ")\n",
    "\n",
    "\n",
    "print(traj_y_bounce(t_short_test_2, 2.5, y_0=0.0, e=0.75))\n",
    "\n",
    "print(traj_y_bounce(t_short_test, 2.6, y_0=0.4, e=0.75))\n",
    "\n",
    "\n",
    "npt.assert_allclose(\n",
    "    traj_y_bounce(t_short_test_2, 2.5, y_0=0.0, e=0.75), known_traj_2bounce\n",
    ")\n",
    "\n",
    "npt.assert_allclose(traj_y_bounce(t_short_test, 2.6, y_0=0.4, e=0.75), known_traj_y0)\n",
    "\n",
    "npt.assert_allclose(\n",
    "    traj_y_bounce(t_short_test, -5, y_0=0.5, e=0.75), known_traj_v0_negative\n",
    ")"
   ]
  },
  {
   "cell_type": "markdown",
   "metadata": {
    "editable": true,
    "nbgrader": {
     "grade": false,
     "grade_id": "cell-e92e152f120d2f01",
     "locked": true,
     "schema_version": 3,
     "solution": false,
     "task": false
    },
    "slideshow": {
     "slide_type": ""
    },
    "tags": []
   },
   "source": [
    "### Part D (4 points)\n",
    "\n",
    "Using your new function, make two plots below:\n",
    "\n",
    "i. Plot the trajectories for a tennis ball (e=0.75) vs. a basketball (e=0.88), for t from 0 to 2 seconds, with $v_0 = 4$ m/s and $y_0 = 0$.  __Use a legend__ to show which trajectory is which!\n"
   ]
  },
  {
   "cell_type": "code",
   "execution_count": null,
   "metadata": {
    "editable": true,
    "nbgrader": {
     "grade": true,
     "grade_id": "6_3d_1",
     "locked": false,
     "points": 2,
     "schema_version": 3,
     "solution": true,
     "task": false
    },
    "slideshow": {
     "slide_type": ""
    },
    "tags": []
   },
   "outputs": [],
   "source": [
    "#"
   ]
  },
  {
   "cell_type": "markdown",
   "metadata": {
    "nbgrader": {
     "grade": false,
     "grade_id": "cell-67191aa265a4b8ad",
     "locked": true,
     "schema_version": 3,
     "solution": false,
     "task": false
    }
   },
   "source": [
    "ii. Plot the trajectories for two tennis balls (e=0.75), both starting from an initial height `y_0 = 0.5` m, but one is thrown up at $v_0 = 4$ m/s, and the other is thrown _downwards_ with $v_0 = -8$ m/s."
   ]
  },
  {
   "cell_type": "code",
   "execution_count": null,
   "metadata": {
    "editable": true,
    "nbgrader": {
     "grade": true,
     "grade_id": "6_3d_2",
     "locked": false,
     "points": 2,
     "schema_version": 3,
     "solution": true,
     "task": false
    },
    "scrolled": true,
    "slideshow": {
     "slide_type": ""
    },
    "tags": []
   },
   "outputs": [],
   "source": [
    "#"
   ]
  }
 ],
 "metadata": {
  "kernelspec": {
   "display_name": "Python 3 (ipykernel)",
   "language": "python",
   "name": "python3"
  },
  "language_info": {
   "codemirror_mode": {
    "name": "ipython",
    "version": 3
   },
   "file_extension": ".py",
   "mimetype": "text/x-python",
   "name": "python",
   "nbconvert_exporter": "python",
   "pygments_lexer": "ipython3",
   "version": "3.13.7"
  }
 },
 "nbformat": 4,
 "nbformat_minor": 4
}
