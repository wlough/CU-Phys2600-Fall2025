{
 "cells": [
  {
   "cell_type": "markdown",
   "id": "b6f563d2-0c0d-4e78-afea-a953fdd3eaea",
   "metadata": {
    "editable": true,
    "slideshow": {
     "slide_type": ""
    },
    "tags": []
   },
   "source": [
    "# Homework \\#1\n",
    "\n",
    "## PHYS 2600, Fall 2025\n",
    "\n",
    "__Important note on entering text:__  Some of the boxes below ask you to enter some text, with the prompt \"_YOUR ANSWER HERE_\"  We haven't learned any Markdown yet - but that's fine!  Regular text is a subset of Markdown, so you should just type plain text into those cells for your answers.\n",
    "\n"
   ]
  },
  {
   "cell_type": "markdown",
   "id": "43fb8dc9-cbbb-4049-bb1a-fe6902e14b40",
   "metadata": {},
   "source": [
    "## 1.1 - Introduction (6 points)\n",
    "\n"
   ]
  },
  {
   "cell_type": "markdown",
   "id": "a7888b04-1dfe-41ae-b38f-e0e4ddb98e53",
   "metadata": {},
   "source": [
    "At this level of study in undergraduate physics, students tend to have a pretty wide range of experience in computing, particularly using it for scientific work.  Tell us a little about your background below.  First, do you have any experience with Python or other programming languages?  If so, how much?\n",
    "\n"
   ]
  },
  {
   "cell_type": "markdown",
   "id": "77a600fb-757d-4488-8d33-abea9be9d34f",
   "metadata": {
    "editable": true,
    "slideshow": {
     "slide_type": ""
    },
    "tags": []
   },
   "source": [
    "YOUR ANSWER HERE"
   ]
  },
  {
   "cell_type": "markdown",
   "id": "bf40c9cc-ac08-4aff-bf41-58fd7d554174",
   "metadata": {},
   "source": [
    "Have you taken any computer programming courses before, either here at CU or elsewhere?  If so, what courses did you take?"
   ]
  },
  {
   "cell_type": "markdown",
   "id": "c0c2a157-831e-4910-8778-080a081cf7a7",
   "metadata": {},
   "source": [
    "YOUR ANSWER HERE"
   ]
  },
  {
   "cell_type": "markdown",
   "id": "6b20f135-45dd-4ec3-9687-0c221e2abe6a",
   "metadata": {},
   "source": [
    "After we get through the basics of Python and some standard numerical techniques, we'll have some room to cover more specific examples.  Is there any one subject, physics application or numerical technique, that you'd be especially interested in seeing?  (I may choose from your answers to this question to plan lectures or assignments late in the semester, so this is your chance to guide the class!)"
   ]
  },
  {
   "cell_type": "markdown",
   "id": "9add1a89-09bc-482a-a26f-5ff7cc13f094",
   "metadata": {
    "editable": true,
    "slideshow": {
     "slide_type": ""
    },
    "tags": []
   },
   "source": [
    "YOUR ANSWER HERE"
   ]
  },
  {
   "cell_type": "markdown",
   "id": "b8fb195a-7f35-4627-8a98-195971fb1d89",
   "metadata": {},
   "source": [
    "## 1.2 - Syntax and Semantics (6 points)"
   ]
  },
  {
   "cell_type": "markdown",
   "id": "3a4a3a89-6d99-47d9-aabf-618a0619871b",
   "metadata": {},
   "source": [
    "Describe in your own words the difference between _syntax_ and _semantics_ in computer programming."
   ]
  },
  {
   "cell_type": "markdown",
   "id": "a27b8811-1011-4227-b5c9-ff793cbe52a9",
   "metadata": {},
   "source": [
    "YOUR ANSWER HERE"
   ]
  },
  {
   "cell_type": "markdown",
   "id": "4e853707-b84e-4ef3-94fb-df2f1d930c92",
   "metadata": {},
   "source": [
    "Computers aren't able to flexibly interpret what we tell them to do; they are always perfectly literal.  This is a challenge if you're trying to build a computer to handle a complicated and dynamical process, for example building a self-driving car.\n",
    "\n",
    "Look up the turn-by-turn driving directions from Boulder to Denver using [Google Maps](http://maps.google.com/).  Now imagine that a self-driving car has been given these directions and nothing more; what are some ways in which the trip could go horribly wrong, compared to what a human driver would do?  Give an example."
   ]
  },
  {
   "cell_type": "markdown",
   "id": "b2ee7190-0d48-4930-a535-b1e9952e8c02",
   "metadata": {},
   "source": [
    "YOUR ANSWER HERE"
   ]
  },
  {
   "cell_type": "markdown",
   "id": "b437aaab-358a-4b5e-8d84-17a0a888c35b",
   "metadata": {},
   "source": [
    "## 1.3 - Planetary Weight Conversion (4 points)"
   ]
  },
  {
   "cell_type": "markdown",
   "id": "8a27b1aa-d876-4e2a-8f62-71c5842ba6ce",
   "metadata": {},
   "source": [
    "Suppose we are standing on an arbitrary planet of mass $M$ and radius $R$.  The force of gravity on us (mass $m$) from the planet is equal to:\n",
    "\n",
    "$$\n",
    "|\\vec{F_g}| = \\frac{GmM}{R^2}.\n",
    "$$\n",
    "\n",
    "In the code cell below, **implement a formula to calculate the weight \\(in Newtons\\) on another planet** of a person who weighs 650 N on the Earth.  Use it for two planets: Mars \\(save your answer as a variable named `weight_Mars`\\) and the Moon \\(saved as `weight_Moon`.\\)  Their mass and radius are:\n",
    "\n",
    "- Mars: $R = 0.532 R_E$, $M = 0.107 M_E$\n",
    "- Moon: $R = 0.273R_E$, $M = 0.0123 M_E$\n",
    "\n"
   ]
  },
  {
   "cell_type": "code",
   "execution_count": null,
   "id": "f39952c5-8696-47fd-a00e-5c90050fe2dc",
   "metadata": {},
   "outputs": [],
   "source": [
    "weight_Earth = 650  # N\n",
    "\n",
    "# YOUR CODE HERE"
   ]
  },
  {
   "cell_type": "markdown",
   "id": "ab32fc6d-67b8-4f75-8dff-7977eedbbddb",
   "metadata": {
    "editable": true,
    "slideshow": {
     "slide_type": ""
    },
    "tags": []
   },
   "source": [
    "## 1.4 - Mistakes Were Made (9 points)"
   ]
  },
  {
   "cell_type": "markdown",
   "id": "d70b28d4-0cca-40de-b19e-d8e9e1f5475c",
   "metadata": {},
   "source": [
    "All three of the following code examples are implemented incorrectly, containing one or more errors that prevent them from running.  __Fix the code in each example__ to run the correct formula, and give the right answer.\n",
    "\n",
    "(_Note:_ I emphasize that you have to fix the code and run the correct formula in full - no credit for just entering `print(right answer)`!)\n",
    "\n",
    "### Part A (3 points)\n",
    "\n",
    "__Q:__ What is the kinetic energy of a 1500 kg car moving at 12 m/s?\n",
    "\n",
    "__Formula:__ $KE = \\frac{1}{2} m v^2$\n",
    "\n",
    "__A:__ We should get 108,000 J as the answer.\n",
    "\n",
    "Copy and paste into the code cell below, and run to see what is wrong.  Then fix the mistakes and run it again.\n",
    "\n",
    "```python\n",
    "kinetic-energy = (1/2) * 1500 * v^2\n",
    "\n",
    "print(kinetic-energy)\n",
    "\n",
    "```\n",
    "\n"
   ]
  },
  {
   "cell_type": "code",
   "execution_count": null,
   "id": "6763f66b-6f28-40d4-8d42-c3dd502ed792",
   "metadata": {
    "editable": true,
    "slideshow": {
     "slide_type": ""
    },
    "tags": []
   },
   "outputs": [],
   "source": [
    "# YOUR CODE HERE"
   ]
  },
  {
   "cell_type": "markdown",
   "id": "b9c9c962-68dc-41b1-9c37-f4a9dad3b30d",
   "metadata": {
    "editable": true,
    "slideshow": {
     "slide_type": ""
    },
    "tags": []
   },
   "source": [
    "### Part B (3 points)\n",
    "\n",
    "**Q:** An air hockey puck is measured at coordinates x=30 cm, y=40 cm.  How far is it from the origin?\n",
    "\n",
    "__Formula:__ $d = \\sqrt{x^2 + y^2}$\n",
    "\n",
    "**A:** We should get 50 cm.\n",
    "\n",
    "Copy and paste into the code cell below, then fix the mistakes.\n",
    "\n",
    "```python\n",
    "x = 30\n",
    "    y = 30\n",
    "\n",
    "    d = x**2 + y**2**(1//2)\n",
    "\n",
    "print(d)\n",
    "```\n",
    "\n"
   ]
  },
  {
   "cell_type": "code",
   "execution_count": null,
   "id": "54c6bd06-aaec-45b6-a5b7-f68a1d374651",
   "metadata": {},
   "outputs": [],
   "source": [
    "# YOUR CODE HERE"
   ]
  },
  {
   "cell_type": "markdown",
   "id": "c77eedc6-2b12-4166-b6a3-98afda174243",
   "metadata": {
    "editable": true,
    "slideshow": {
     "slide_type": ""
    },
    "tags": []
   },
   "source": [
    "### Part C (3 points)\n",
    "\n",
    "**Q:** A block weighing 950 grams sits on a surface with coefficient of static friction $\\mu$ = 0.22.  How much force is required to overcome static friction?  \\(Take g = 9.8 m/s^2.\\)\n",
    "\n",
    "__Formula:__ $F_f = \\mu m g$\n",
    "\n",
    "**A:** The force required is about 2.05 N.\n",
    "\n",
    "Copy and paste into the code cell below, then fix the mistakes.\n",
    "\n",
    "```python\n",
    "mu = '0.22'\n",
    "F_N = 950 * 9.8\n",
    "F_f = mu * F_N\n",
    "\n",
    "print F_f\n",
    "```\n",
    "\n"
   ]
  },
  {
   "cell_type": "code",
   "execution_count": null,
   "id": "5fd7aa37-a6c9-44ec-b614-6030c15ee336",
   "metadata": {
    "editable": true,
    "slideshow": {
     "slide_type": ""
    },
    "tags": []
   },
   "outputs": [],
   "source": [
    "# YOUR CODE HERE"
   ]
  }
 ],
 "metadata": {
  "kernelspec": {
   "display_name": "Python 3 (ipykernel)",
   "language": "python",
   "name": "python3"
  },
  "language_info": {
   "codemirror_mode": {
    "name": "ipython",
    "version": 3
   },
   "file_extension": ".py",
   "mimetype": "text/x-python",
   "name": "python",
   "nbconvert_exporter": "python",
   "pygments_lexer": "ipython3",
   "version": "3.13.7"
  }
 },
 "nbformat": 4,
 "nbformat_minor": 5
}
